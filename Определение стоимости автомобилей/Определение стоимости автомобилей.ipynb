{
 "cells": [
  {
   "cell_type": "markdown",
   "metadata": {},
   "source": [
    "# Определение стоимости автомобилей"
   ]
  },
  {
   "cell_type": "markdown",
   "metadata": {},
   "source": [
    "Сервис по продаже автомобилей с пробегом «Не бит, не крашен» разрабатывает приложение для привлечения новых клиентов. В нём можно быстро узнать рыночную стоимость своего автомобиля. В вашем распоряжении исторические данные: технические характеристики, комплектации и цены автомобилей. Вам нужно построить модель для определения стоимости. \n",
    "\n",
    "Заказчику важны:\n",
    "\n",
    "- качество предсказания;\n",
    "- скорость предсказания;\n",
    "- время обучения."
   ]
  },
  {
   "cell_type": "markdown",
   "metadata": {},
   "source": [
    "## Подготовка данных"
   ]
  },
  {
   "cell_type": "markdown",
   "metadata": {},
   "source": [
    "### Загрузка и ознакомление с данными"
   ]
  },
  {
   "cell_type": "code",
   "execution_count": 1,
   "metadata": {},
   "outputs": [],
   "source": [
    "import pandas as pd\n",
    "import numpy as np\n",
    "import matplotlib.pyplot as plt\n",
    "from sklearn.model_selection import train_test_split, GridSearchCV\n",
    "from sklearn.metrics import mean_squared_error\n",
    "from sklearn.linear_model import LinearRegression\n",
    "from sklearn.tree import DecisionTreeRegressor\n",
    "from sklearn.ensemble import RandomForestRegressor\n",
    "from catboost import CatBoostRegressor\n",
    "import lightgbm\n",
    "from sklearn.preprocessing import StandardScaler, OneHotEncoder, OrdinalEncoder\n",
    "import warnings\n",
    "warnings.filterwarnings('ignore')"
   ]
  },
  {
   "cell_type": "code",
   "execution_count": 2,
   "metadata": {},
   "outputs": [
    {
     "data": {
      "text/html": [
       "<div>\n",
       "<style scoped>\n",
       "    .dataframe tbody tr th:only-of-type {\n",
       "        vertical-align: middle;\n",
       "    }\n",
       "\n",
       "    .dataframe tbody tr th {\n",
       "        vertical-align: top;\n",
       "    }\n",
       "\n",
       "    .dataframe thead th {\n",
       "        text-align: right;\n",
       "    }\n",
       "</style>\n",
       "<table border=\"1\" class=\"dataframe\">\n",
       "  <thead>\n",
       "    <tr style=\"text-align: right;\">\n",
       "      <th></th>\n",
       "      <th>DateCrawled</th>\n",
       "      <th>Price</th>\n",
       "      <th>VehicleType</th>\n",
       "      <th>RegistrationYear</th>\n",
       "      <th>Gearbox</th>\n",
       "      <th>Power</th>\n",
       "      <th>Model</th>\n",
       "      <th>Kilometer</th>\n",
       "      <th>RegistrationMonth</th>\n",
       "      <th>FuelType</th>\n",
       "      <th>Brand</th>\n",
       "      <th>Repaired</th>\n",
       "      <th>DateCreated</th>\n",
       "      <th>NumberOfPictures</th>\n",
       "      <th>PostalCode</th>\n",
       "      <th>LastSeen</th>\n",
       "    </tr>\n",
       "  </thead>\n",
       "  <tbody>\n",
       "    <tr>\n",
       "      <th>0</th>\n",
       "      <td>2016-03-24 11:52:17</td>\n",
       "      <td>480</td>\n",
       "      <td>NaN</td>\n",
       "      <td>1993</td>\n",
       "      <td>manual</td>\n",
       "      <td>0</td>\n",
       "      <td>golf</td>\n",
       "      <td>150000</td>\n",
       "      <td>0</td>\n",
       "      <td>petrol</td>\n",
       "      <td>volkswagen</td>\n",
       "      <td>NaN</td>\n",
       "      <td>2016-03-24 00:00:00</td>\n",
       "      <td>0</td>\n",
       "      <td>70435</td>\n",
       "      <td>2016-04-07 03:16:57</td>\n",
       "    </tr>\n",
       "    <tr>\n",
       "      <th>1</th>\n",
       "      <td>2016-03-24 10:58:45</td>\n",
       "      <td>18300</td>\n",
       "      <td>coupe</td>\n",
       "      <td>2011</td>\n",
       "      <td>manual</td>\n",
       "      <td>190</td>\n",
       "      <td>NaN</td>\n",
       "      <td>125000</td>\n",
       "      <td>5</td>\n",
       "      <td>gasoline</td>\n",
       "      <td>audi</td>\n",
       "      <td>yes</td>\n",
       "      <td>2016-03-24 00:00:00</td>\n",
       "      <td>0</td>\n",
       "      <td>66954</td>\n",
       "      <td>2016-04-07 01:46:50</td>\n",
       "    </tr>\n",
       "    <tr>\n",
       "      <th>2</th>\n",
       "      <td>2016-03-14 12:52:21</td>\n",
       "      <td>9800</td>\n",
       "      <td>suv</td>\n",
       "      <td>2004</td>\n",
       "      <td>auto</td>\n",
       "      <td>163</td>\n",
       "      <td>grand</td>\n",
       "      <td>125000</td>\n",
       "      <td>8</td>\n",
       "      <td>gasoline</td>\n",
       "      <td>jeep</td>\n",
       "      <td>NaN</td>\n",
       "      <td>2016-03-14 00:00:00</td>\n",
       "      <td>0</td>\n",
       "      <td>90480</td>\n",
       "      <td>2016-04-05 12:47:46</td>\n",
       "    </tr>\n",
       "    <tr>\n",
       "      <th>3</th>\n",
       "      <td>2016-03-17 16:54:04</td>\n",
       "      <td>1500</td>\n",
       "      <td>small</td>\n",
       "      <td>2001</td>\n",
       "      <td>manual</td>\n",
       "      <td>75</td>\n",
       "      <td>golf</td>\n",
       "      <td>150000</td>\n",
       "      <td>6</td>\n",
       "      <td>petrol</td>\n",
       "      <td>volkswagen</td>\n",
       "      <td>no</td>\n",
       "      <td>2016-03-17 00:00:00</td>\n",
       "      <td>0</td>\n",
       "      <td>91074</td>\n",
       "      <td>2016-03-17 17:40:17</td>\n",
       "    </tr>\n",
       "    <tr>\n",
       "      <th>4</th>\n",
       "      <td>2016-03-31 17:25:20</td>\n",
       "      <td>3600</td>\n",
       "      <td>small</td>\n",
       "      <td>2008</td>\n",
       "      <td>manual</td>\n",
       "      <td>69</td>\n",
       "      <td>fabia</td>\n",
       "      <td>90000</td>\n",
       "      <td>7</td>\n",
       "      <td>gasoline</td>\n",
       "      <td>skoda</td>\n",
       "      <td>no</td>\n",
       "      <td>2016-03-31 00:00:00</td>\n",
       "      <td>0</td>\n",
       "      <td>60437</td>\n",
       "      <td>2016-04-06 10:17:21</td>\n",
       "    </tr>\n",
       "  </tbody>\n",
       "</table>\n",
       "</div>"
      ],
      "text/plain": [
       "           DateCrawled  Price VehicleType  RegistrationYear Gearbox  Power  \\\n",
       "0  2016-03-24 11:52:17    480         NaN              1993  manual      0   \n",
       "1  2016-03-24 10:58:45  18300       coupe              2011  manual    190   \n",
       "2  2016-03-14 12:52:21   9800         suv              2004    auto    163   \n",
       "3  2016-03-17 16:54:04   1500       small              2001  manual     75   \n",
       "4  2016-03-31 17:25:20   3600       small              2008  manual     69   \n",
       "\n",
       "   Model  Kilometer  RegistrationMonth  FuelType       Brand Repaired  \\\n",
       "0   golf     150000                  0    petrol  volkswagen      NaN   \n",
       "1    NaN     125000                  5  gasoline        audi      yes   \n",
       "2  grand     125000                  8  gasoline        jeep      NaN   \n",
       "3   golf     150000                  6    petrol  volkswagen       no   \n",
       "4  fabia      90000                  7  gasoline       skoda       no   \n",
       "\n",
       "           DateCreated  NumberOfPictures  PostalCode             LastSeen  \n",
       "0  2016-03-24 00:00:00                 0       70435  2016-04-07 03:16:57  \n",
       "1  2016-03-24 00:00:00                 0       66954  2016-04-07 01:46:50  \n",
       "2  2016-03-14 00:00:00                 0       90480  2016-04-05 12:47:46  \n",
       "3  2016-03-17 00:00:00                 0       91074  2016-03-17 17:40:17  \n",
       "4  2016-03-31 00:00:00                 0       60437  2016-04-06 10:17:21  "
      ]
     },
     "execution_count": 2,
     "metadata": {},
     "output_type": "execute_result"
    }
   ],
   "source": [
    "data = pd.read_csv('autos.csv')\n",
    "data.head()"
   ]
  },
  {
   "cell_type": "code",
   "execution_count": 3,
   "metadata": {},
   "outputs": [
    {
     "name": "stdout",
     "output_type": "stream",
     "text": [
      "<class 'pandas.core.frame.DataFrame'>\n",
      "RangeIndex: 354369 entries, 0 to 354368\n",
      "Data columns (total 16 columns):\n",
      " #   Column             Non-Null Count   Dtype \n",
      "---  ------             --------------   ----- \n",
      " 0   DateCrawled        354369 non-null  object\n",
      " 1   Price              354369 non-null  int64 \n",
      " 2   VehicleType        316879 non-null  object\n",
      " 3   RegistrationYear   354369 non-null  int64 \n",
      " 4   Gearbox            334536 non-null  object\n",
      " 5   Power              354369 non-null  int64 \n",
      " 6   Model              334664 non-null  object\n",
      " 7   Kilometer          354369 non-null  int64 \n",
      " 8   RegistrationMonth  354369 non-null  int64 \n",
      " 9   FuelType           321474 non-null  object\n",
      " 10  Brand              354369 non-null  object\n",
      " 11  Repaired           283215 non-null  object\n",
      " 12  DateCreated        354369 non-null  object\n",
      " 13  NumberOfPictures   354369 non-null  int64 \n",
      " 14  PostalCode         354369 non-null  int64 \n",
      " 15  LastSeen           354369 non-null  object\n",
      "dtypes: int64(7), object(9)\n",
      "memory usage: 43.3+ MB\n"
     ]
    }
   ],
   "source": [
    "data.info()"
   ]
  },
  {
   "cell_type": "code",
   "execution_count": 4,
   "metadata": {},
   "outputs": [
    {
     "data": {
      "text/html": [
       "<div>\n",
       "<style scoped>\n",
       "    .dataframe tbody tr th:only-of-type {\n",
       "        vertical-align: middle;\n",
       "    }\n",
       "\n",
       "    .dataframe tbody tr th {\n",
       "        vertical-align: top;\n",
       "    }\n",
       "\n",
       "    .dataframe thead th {\n",
       "        text-align: right;\n",
       "    }\n",
       "</style>\n",
       "<table border=\"1\" class=\"dataframe\">\n",
       "  <thead>\n",
       "    <tr style=\"text-align: right;\">\n",
       "      <th></th>\n",
       "      <th>Price</th>\n",
       "      <th>RegistrationYear</th>\n",
       "      <th>Power</th>\n",
       "      <th>Kilometer</th>\n",
       "      <th>RegistrationMonth</th>\n",
       "      <th>NumberOfPictures</th>\n",
       "      <th>PostalCode</th>\n",
       "    </tr>\n",
       "  </thead>\n",
       "  <tbody>\n",
       "    <tr>\n",
       "      <th>Price</th>\n",
       "      <td>1.000000</td>\n",
       "      <td>0.026916</td>\n",
       "      <td>0.158872</td>\n",
       "      <td>-0.333199</td>\n",
       "      <td>0.110581</td>\n",
       "      <td>NaN</td>\n",
       "      <td>0.076055</td>\n",
       "    </tr>\n",
       "    <tr>\n",
       "      <th>RegistrationYear</th>\n",
       "      <td>0.026916</td>\n",
       "      <td>1.000000</td>\n",
       "      <td>-0.000828</td>\n",
       "      <td>-0.053447</td>\n",
       "      <td>-0.011619</td>\n",
       "      <td>NaN</td>\n",
       "      <td>-0.003459</td>\n",
       "    </tr>\n",
       "    <tr>\n",
       "      <th>Power</th>\n",
       "      <td>0.158872</td>\n",
       "      <td>-0.000828</td>\n",
       "      <td>1.000000</td>\n",
       "      <td>0.024002</td>\n",
       "      <td>0.043380</td>\n",
       "      <td>NaN</td>\n",
       "      <td>0.021665</td>\n",
       "    </tr>\n",
       "    <tr>\n",
       "      <th>Kilometer</th>\n",
       "      <td>-0.333199</td>\n",
       "      <td>-0.053447</td>\n",
       "      <td>0.024002</td>\n",
       "      <td>1.000000</td>\n",
       "      <td>0.009571</td>\n",
       "      <td>NaN</td>\n",
       "      <td>-0.007698</td>\n",
       "    </tr>\n",
       "    <tr>\n",
       "      <th>RegistrationMonth</th>\n",
       "      <td>0.110581</td>\n",
       "      <td>-0.011619</td>\n",
       "      <td>0.043380</td>\n",
       "      <td>0.009571</td>\n",
       "      <td>1.000000</td>\n",
       "      <td>NaN</td>\n",
       "      <td>0.013995</td>\n",
       "    </tr>\n",
       "    <tr>\n",
       "      <th>NumberOfPictures</th>\n",
       "      <td>NaN</td>\n",
       "      <td>NaN</td>\n",
       "      <td>NaN</td>\n",
       "      <td>NaN</td>\n",
       "      <td>NaN</td>\n",
       "      <td>NaN</td>\n",
       "      <td>NaN</td>\n",
       "    </tr>\n",
       "    <tr>\n",
       "      <th>PostalCode</th>\n",
       "      <td>0.076055</td>\n",
       "      <td>-0.003459</td>\n",
       "      <td>0.021665</td>\n",
       "      <td>-0.007698</td>\n",
       "      <td>0.013995</td>\n",
       "      <td>NaN</td>\n",
       "      <td>1.000000</td>\n",
       "    </tr>\n",
       "  </tbody>\n",
       "</table>\n",
       "</div>"
      ],
      "text/plain": [
       "                      Price  RegistrationYear     Power  Kilometer  \\\n",
       "Price              1.000000          0.026916  0.158872  -0.333199   \n",
       "RegistrationYear   0.026916          1.000000 -0.000828  -0.053447   \n",
       "Power              0.158872         -0.000828  1.000000   0.024002   \n",
       "Kilometer         -0.333199         -0.053447  0.024002   1.000000   \n",
       "RegistrationMonth  0.110581         -0.011619  0.043380   0.009571   \n",
       "NumberOfPictures        NaN               NaN       NaN        NaN   \n",
       "PostalCode         0.076055         -0.003459  0.021665  -0.007698   \n",
       "\n",
       "                   RegistrationMonth  NumberOfPictures  PostalCode  \n",
       "Price                       0.110581               NaN    0.076055  \n",
       "RegistrationYear           -0.011619               NaN   -0.003459  \n",
       "Power                       0.043380               NaN    0.021665  \n",
       "Kilometer                   0.009571               NaN   -0.007698  \n",
       "RegistrationMonth           1.000000               NaN    0.013995  \n",
       "NumberOfPictures                 NaN               NaN         NaN  \n",
       "PostalCode                  0.013995               NaN    1.000000  "
      ]
     },
     "execution_count": 4,
     "metadata": {},
     "output_type": "execute_result"
    }
   ],
   "source": [
    "data.corr()"
   ]
  },
  {
   "cell_type": "markdown",
   "metadata": {},
   "source": [
    "### Удаление столбцов не влияющих на результат модели"
   ]
  },
  {
   "cell_type": "markdown",
   "metadata": {},
   "source": [
    "На стоимость автомобиля не должны влиять следующие параметры:\n",
    "1. DateCrawled — дата скачивания анкеты из базы\n",
    "2. DateCreated — дата создания анкеты\n",
    "3. PostalCode — почтовый индекс владельца анкеты (пользователя)\n",
    "4. LastSeen — дата последней активности пользователя\n",
    "5. NumberOfPictures — количество фотографий автомобиля\n",
    "6. RegistrationMonth — месяц регистрации автомобиля"
   ]
  },
  {
   "cell_type": "code",
   "execution_count": 5,
   "metadata": {},
   "outputs": [
    {
     "data": {
      "text/html": [
       "<div>\n",
       "<style scoped>\n",
       "    .dataframe tbody tr th:only-of-type {\n",
       "        vertical-align: middle;\n",
       "    }\n",
       "\n",
       "    .dataframe tbody tr th {\n",
       "        vertical-align: top;\n",
       "    }\n",
       "\n",
       "    .dataframe thead th {\n",
       "        text-align: right;\n",
       "    }\n",
       "</style>\n",
       "<table border=\"1\" class=\"dataframe\">\n",
       "  <thead>\n",
       "    <tr style=\"text-align: right;\">\n",
       "      <th></th>\n",
       "      <th>Price</th>\n",
       "      <th>VehicleType</th>\n",
       "      <th>RegistrationYear</th>\n",
       "      <th>Gearbox</th>\n",
       "      <th>Power</th>\n",
       "      <th>Model</th>\n",
       "      <th>Kilometer</th>\n",
       "      <th>FuelType</th>\n",
       "      <th>Brand</th>\n",
       "      <th>Repaired</th>\n",
       "    </tr>\n",
       "  </thead>\n",
       "  <tbody>\n",
       "    <tr>\n",
       "      <th>0</th>\n",
       "      <td>480</td>\n",
       "      <td>NaN</td>\n",
       "      <td>1993</td>\n",
       "      <td>manual</td>\n",
       "      <td>0</td>\n",
       "      <td>golf</td>\n",
       "      <td>150000</td>\n",
       "      <td>petrol</td>\n",
       "      <td>volkswagen</td>\n",
       "      <td>NaN</td>\n",
       "    </tr>\n",
       "    <tr>\n",
       "      <th>1</th>\n",
       "      <td>18300</td>\n",
       "      <td>coupe</td>\n",
       "      <td>2011</td>\n",
       "      <td>manual</td>\n",
       "      <td>190</td>\n",
       "      <td>NaN</td>\n",
       "      <td>125000</td>\n",
       "      <td>gasoline</td>\n",
       "      <td>audi</td>\n",
       "      <td>yes</td>\n",
       "    </tr>\n",
       "    <tr>\n",
       "      <th>2</th>\n",
       "      <td>9800</td>\n",
       "      <td>suv</td>\n",
       "      <td>2004</td>\n",
       "      <td>auto</td>\n",
       "      <td>163</td>\n",
       "      <td>grand</td>\n",
       "      <td>125000</td>\n",
       "      <td>gasoline</td>\n",
       "      <td>jeep</td>\n",
       "      <td>NaN</td>\n",
       "    </tr>\n",
       "    <tr>\n",
       "      <th>3</th>\n",
       "      <td>1500</td>\n",
       "      <td>small</td>\n",
       "      <td>2001</td>\n",
       "      <td>manual</td>\n",
       "      <td>75</td>\n",
       "      <td>golf</td>\n",
       "      <td>150000</td>\n",
       "      <td>petrol</td>\n",
       "      <td>volkswagen</td>\n",
       "      <td>no</td>\n",
       "    </tr>\n",
       "    <tr>\n",
       "      <th>4</th>\n",
       "      <td>3600</td>\n",
       "      <td>small</td>\n",
       "      <td>2008</td>\n",
       "      <td>manual</td>\n",
       "      <td>69</td>\n",
       "      <td>fabia</td>\n",
       "      <td>90000</td>\n",
       "      <td>gasoline</td>\n",
       "      <td>skoda</td>\n",
       "      <td>no</td>\n",
       "    </tr>\n",
       "  </tbody>\n",
       "</table>\n",
       "</div>"
      ],
      "text/plain": [
       "   Price VehicleType  RegistrationYear Gearbox  Power  Model  Kilometer  \\\n",
       "0    480         NaN              1993  manual      0   golf     150000   \n",
       "1  18300       coupe              2011  manual    190    NaN     125000   \n",
       "2   9800         suv              2004    auto    163  grand     125000   \n",
       "3   1500       small              2001  manual     75   golf     150000   \n",
       "4   3600       small              2008  manual     69  fabia      90000   \n",
       "\n",
       "   FuelType       Brand Repaired  \n",
       "0    petrol  volkswagen      NaN  \n",
       "1  gasoline        audi      yes  \n",
       "2  gasoline        jeep      NaN  \n",
       "3    petrol  volkswagen       no  \n",
       "4  gasoline       skoda       no  "
      ]
     },
     "execution_count": 5,
     "metadata": {},
     "output_type": "execute_result"
    }
   ],
   "source": [
    "data = data.drop(['DateCrawled', 'DateCreated', 'PostalCode', 'LastSeen', 'NumberOfPictures', 'RegistrationMonth'], axis = 1)\n",
    "data.head()"
   ]
  },
  {
   "cell_type": "markdown",
   "metadata": {},
   "source": [
    "### Обработка пропусков"
   ]
  },
  {
   "cell_type": "code",
   "execution_count": 6,
   "metadata": {},
   "outputs": [
    {
     "data": {
      "text/plain": [
       "Price                   0\n",
       "VehicleType         37490\n",
       "RegistrationYear        0\n",
       "Gearbox             19833\n",
       "Power                   0\n",
       "Model               19705\n",
       "Kilometer               0\n",
       "FuelType            32895\n",
       "Brand                   0\n",
       "Repaired            71154\n",
       "dtype: int64"
      ]
     },
     "execution_count": 6,
     "metadata": {},
     "output_type": "execute_result"
    }
   ],
   "source": [
    "data.isna().sum()"
   ]
  },
  {
   "cell_type": "code",
   "execution_count": 7,
   "metadata": {},
   "outputs": [
    {
     "data": {
      "text/html": [
       "<style type=\"text/css\">\n",
       "#T_0c0cf_row0_col0, #T_0c0cf_row2_col0, #T_0c0cf_row4_col0, #T_0c0cf_row6_col0, #T_0c0cf_row8_col0 {\n",
       "  background-color: #3b4cc0;\n",
       "  color: #f1f1f1;\n",
       "}\n",
       "#T_0c0cf_row1_col0 {\n",
       "  background-color: #e9d5cb;\n",
       "  color: #000000;\n",
       "}\n",
       "#T_0c0cf_row3_col0, #T_0c0cf_row5_col0 {\n",
       "  background-color: #9ebeff;\n",
       "  color: #000000;\n",
       "}\n",
       "#T_0c0cf_row7_col0 {\n",
       "  background-color: #cfdaea;\n",
       "  color: #000000;\n",
       "}\n",
       "#T_0c0cf_row9_col0 {\n",
       "  background-color: #b40426;\n",
       "  color: #f1f1f1;\n",
       "}\n",
       "</style>\n",
       "<table id=\"T_0c0cf\">\n",
       "  <thead>\n",
       "    <tr>\n",
       "      <th class=\"blank level0\" >&nbsp;</th>\n",
       "      <th id=\"T_0c0cf_level0_col0\" class=\"col_heading level0 col0\" >0</th>\n",
       "    </tr>\n",
       "  </thead>\n",
       "  <tbody>\n",
       "    <tr>\n",
       "      <th id=\"T_0c0cf_level0_row0\" class=\"row_heading level0 row0\" >Price</th>\n",
       "      <td id=\"T_0c0cf_row0_col0\" class=\"data row0 col0\" >0.000000</td>\n",
       "    </tr>\n",
       "    <tr>\n",
       "      <th id=\"T_0c0cf_level0_row1\" class=\"row_heading level0 row1\" >VehicleType</th>\n",
       "      <td id=\"T_0c0cf_row1_col0\" class=\"data row1 col0\" >11.000000</td>\n",
       "    </tr>\n",
       "    <tr>\n",
       "      <th id=\"T_0c0cf_level0_row2\" class=\"row_heading level0 row2\" >RegistrationYear</th>\n",
       "      <td id=\"T_0c0cf_row2_col0\" class=\"data row2 col0\" >0.000000</td>\n",
       "    </tr>\n",
       "    <tr>\n",
       "      <th id=\"T_0c0cf_level0_row3\" class=\"row_heading level0 row3\" >Gearbox</th>\n",
       "      <td id=\"T_0c0cf_row3_col0\" class=\"data row3 col0\" >6.000000</td>\n",
       "    </tr>\n",
       "    <tr>\n",
       "      <th id=\"T_0c0cf_level0_row4\" class=\"row_heading level0 row4\" >Power</th>\n",
       "      <td id=\"T_0c0cf_row4_col0\" class=\"data row4 col0\" >0.000000</td>\n",
       "    </tr>\n",
       "    <tr>\n",
       "      <th id=\"T_0c0cf_level0_row5\" class=\"row_heading level0 row5\" >Model</th>\n",
       "      <td id=\"T_0c0cf_row5_col0\" class=\"data row5 col0\" >6.000000</td>\n",
       "    </tr>\n",
       "    <tr>\n",
       "      <th id=\"T_0c0cf_level0_row6\" class=\"row_heading level0 row6\" >Kilometer</th>\n",
       "      <td id=\"T_0c0cf_row6_col0\" class=\"data row6 col0\" >0.000000</td>\n",
       "    </tr>\n",
       "    <tr>\n",
       "      <th id=\"T_0c0cf_level0_row7\" class=\"row_heading level0 row7\" >FuelType</th>\n",
       "      <td id=\"T_0c0cf_row7_col0\" class=\"data row7 col0\" >9.000000</td>\n",
       "    </tr>\n",
       "    <tr>\n",
       "      <th id=\"T_0c0cf_level0_row8\" class=\"row_heading level0 row8\" >Brand</th>\n",
       "      <td id=\"T_0c0cf_row8_col0\" class=\"data row8 col0\" >0.000000</td>\n",
       "    </tr>\n",
       "    <tr>\n",
       "      <th id=\"T_0c0cf_level0_row9\" class=\"row_heading level0 row9\" >Repaired</th>\n",
       "      <td id=\"T_0c0cf_row9_col0\" class=\"data row9 col0\" >20.000000</td>\n",
       "    </tr>\n",
       "  </tbody>\n",
       "</table>\n"
      ],
      "text/plain": [
       "<pandas.io.formats.style.Styler at 0x1cfc5c59c70>"
      ]
     },
     "execution_count": 7,
     "metadata": {},
     "output_type": "execute_result"
    }
   ],
   "source": [
    "pd.DataFrame(round(data.isna().mean()*100,)).style.background_gradient('coolwarm')"
   ]
  },
  {
   "cell_type": "markdown",
   "metadata": {},
   "source": [
    "Так как параметр model один из ключевых и пропусков в данном столбце 6%, удалим строки с пропусками у этого параметра\n",
    "\n",
    "Остальные пропуски заполним значением unknown"
   ]
  },
  {
   "cell_type": "code",
   "execution_count": 8,
   "metadata": {},
   "outputs": [],
   "source": [
    "data['VehicleType'] = data['VehicleType'].fillna('unknown')\n",
    "data['Gearbox'] = data['Gearbox'].fillna('unknown')\n",
    "data['FuelType'] = data['FuelType'].fillna('unknown')\n",
    "data['Repaired'] = data['Repaired'].fillna('unknown')"
   ]
  },
  {
   "cell_type": "code",
   "execution_count": 9,
   "metadata": {},
   "outputs": [
    {
     "data": {
      "text/plain": [
       "Price                   0\n",
       "VehicleType             0\n",
       "RegistrationYear        0\n",
       "Gearbox                 0\n",
       "Power                   0\n",
       "Model               19705\n",
       "Kilometer               0\n",
       "FuelType                0\n",
       "Brand                   0\n",
       "Repaired                0\n",
       "dtype: int64"
      ]
     },
     "execution_count": 9,
     "metadata": {},
     "output_type": "execute_result"
    }
   ],
   "source": [
    "data.isna().sum()"
   ]
  },
  {
   "cell_type": "code",
   "execution_count": 10,
   "metadata": {},
   "outputs": [
    {
     "name": "stdout",
     "output_type": "stream",
     "text": [
      "<class 'pandas.core.frame.DataFrame'>\n",
      "Int64Index: 334664 entries, 0 to 354368\n",
      "Data columns (total 10 columns):\n",
      " #   Column            Non-Null Count   Dtype \n",
      "---  ------            --------------   ----- \n",
      " 0   Price             334664 non-null  int64 \n",
      " 1   VehicleType       334664 non-null  object\n",
      " 2   RegistrationYear  334664 non-null  int64 \n",
      " 3   Gearbox           334664 non-null  object\n",
      " 4   Power             334664 non-null  int64 \n",
      " 5   Model             334664 non-null  object\n",
      " 6   Kilometer         334664 non-null  int64 \n",
      " 7   FuelType          334664 non-null  object\n",
      " 8   Brand             334664 non-null  object\n",
      " 9   Repaired          334664 non-null  object\n",
      "dtypes: int64(4), object(6)\n",
      "memory usage: 28.1+ MB\n"
     ]
    }
   ],
   "source": [
    "data = data.dropna()\n",
    "data.info()"
   ]
  },
  {
   "cell_type": "markdown",
   "metadata": {},
   "source": [
    "### Поиск дубликатов"
   ]
  },
  {
   "cell_type": "code",
   "execution_count": 11,
   "metadata": {},
   "outputs": [
    {
     "data": {
      "text/plain": [
       "43696"
      ]
     },
     "execution_count": 11,
     "metadata": {},
     "output_type": "execute_result"
    }
   ],
   "source": [
    "data.duplicated().sum()"
   ]
  },
  {
   "cell_type": "markdown",
   "metadata": {},
   "source": [
    "Найденные дубликаты необязательно являются ими, так как характеристики машин могут совпадать. Даже если это все таки дубликаты, она не должны сильно повлиять на результат модели"
   ]
  },
  {
   "cell_type": "code",
   "execution_count": 12,
   "metadata": {},
   "outputs": [
    {
     "data": {
      "text/plain": [
       "array(['bus', 'convertible', 'coupe', 'other', 'sedan', 'small', 'suv',\n",
       "       'unknown', 'wagon'], dtype=object)"
      ]
     },
     "execution_count": 12,
     "metadata": {},
     "output_type": "execute_result"
    }
   ],
   "source": [
    "data['VehicleType'].sort_values().unique()"
   ]
  },
  {
   "cell_type": "code",
   "execution_count": 13,
   "metadata": {},
   "outputs": [
    {
     "data": {
      "text/plain": [
       "array(['auto', 'manual', 'unknown'], dtype=object)"
      ]
     },
     "execution_count": 13,
     "metadata": {},
     "output_type": "execute_result"
    }
   ],
   "source": [
    "data['Gearbox'].sort_values().unique()"
   ]
  },
  {
   "cell_type": "code",
   "execution_count": 14,
   "metadata": {
    "scrolled": true
   },
   "outputs": [
    {
     "data": {
      "text/plain": [
       "array(['100', '145', '147', '156', '159', '1_reihe', '1er', '200',\n",
       "       '2_reihe', '300c', '3_reihe', '3er', '4_reihe', '500', '5_reihe',\n",
       "       '5er', '601', '6_reihe', '6er', '7er', '80', '850', '90', '900',\n",
       "       '9000', '911', 'a1', 'a2', 'a3', 'a4', 'a5', 'a6', 'a8',\n",
       "       'a_klasse', 'accord', 'agila', 'alhambra', 'almera', 'altea',\n",
       "       'amarok', 'antara', 'arosa', 'astra', 'auris', 'avensis', 'aveo',\n",
       "       'aygo', 'b_klasse', 'b_max', 'beetle', 'berlingo', 'bora',\n",
       "       'boxster', 'bravo', 'c1', 'c2', 'c3', 'c4', 'c5', 'c_klasse',\n",
       "       'c_max', 'c_reihe', 'caddy', 'calibra', 'captiva', 'carisma',\n",
       "       'carnival', 'cayenne', 'cc', 'ceed', 'charade', 'cherokee',\n",
       "       'citigo', 'civic', 'cl', 'clio', 'clk', 'clubman', 'colt', 'combo',\n",
       "       'cooper', 'cordoba', 'corolla', 'corsa', 'cr_reihe', 'croma',\n",
       "       'crossfire', 'cuore', 'cx_reihe', 'defender', 'delta', 'discovery',\n",
       "       'doblo', 'ducato', 'duster', 'e_klasse', 'elefantino', 'eos',\n",
       "       'escort', 'espace', 'exeo', 'fabia', 'fiesta', 'focus', 'forester',\n",
       "       'forfour', 'fortwo', 'fox', 'freelander', 'fusion', 'g_klasse',\n",
       "       'galant', 'galaxy', 'getz', 'gl', 'glk', 'golf', 'grand', 'i3',\n",
       "       'i_reihe', 'ibiza', 'impreza', 'insignia', 'jazz', 'jetta',\n",
       "       'jimny', 'juke', 'justy', 'ka', 'kadett', 'kaefer', 'kalina',\n",
       "       'kalos', 'kangoo', 'kappa', 'kuga', 'laguna', 'lancer', 'lanos',\n",
       "       'legacy', 'leon', 'lodgy', 'logan', 'lupo', 'lybra', 'm_klasse',\n",
       "       'm_reihe', 'materia', 'matiz', 'megane', 'meriva', 'micra', 'mii',\n",
       "       'modus', 'mondeo', 'move', 'musa', 'mustang', 'mx_reihe', 'navara',\n",
       "       'niva', 'note', 'nubira', 'octavia', 'omega', 'one', 'other',\n",
       "       'outlander', 'pajero', 'panda', 'passat', 'phaeton', 'picanto',\n",
       "       'polo', 'primera', 'ptcruiser', 'punto', 'q3', 'q5', 'q7',\n",
       "       'qashqai', 'r19', 'range_rover', 'range_rover_evoque',\n",
       "       'range_rover_sport', 'rangerover', 'rav', 'rio', 'roadster',\n",
       "       'roomster', 'rx_reihe', 's60', 's_klasse', 's_max', 's_type',\n",
       "       'samara', 'sandero', 'santa', 'scenic', 'scirocco', 'seicento',\n",
       "       'serie_1', 'serie_2', 'serie_3', 'sharan', 'signum', 'sirion',\n",
       "       'sl', 'slk', 'sorento', 'spark', 'spider', 'sportage', 'sprinter',\n",
       "       'stilo', 'superb', 'swift', 'terios', 'tigra', 'tiguan', 'toledo',\n",
       "       'touareg', 'touran', 'transit', 'transporter', 'tt', 'tucson',\n",
       "       'twingo', 'up', 'v40', 'v50', 'v60', 'v70', 'v_klasse', 'vectra',\n",
       "       'verso', 'viano', 'vito', 'vivaro', 'voyager', 'wrangler',\n",
       "       'x_reihe', 'x_trail', 'x_type', 'xc_reihe', 'yaris', 'yeti',\n",
       "       'ypsilon', 'z_reihe', 'zafira'], dtype=object)"
      ]
     },
     "execution_count": 14,
     "metadata": {},
     "output_type": "execute_result"
    }
   ],
   "source": [
    "data['Model'].sort_values().unique()"
   ]
  },
  {
   "cell_type": "code",
   "execution_count": 15,
   "metadata": {},
   "outputs": [
    {
     "data": {
      "text/plain": [
       "array(['cng', 'electric', 'gasoline', 'hybrid', 'lpg', 'other', 'petrol',\n",
       "       'unknown'], dtype=object)"
      ]
     },
     "execution_count": 15,
     "metadata": {},
     "output_type": "execute_result"
    }
   ],
   "source": [
    "data['FuelType'].sort_values().unique()"
   ]
  },
  {
   "cell_type": "code",
   "execution_count": 16,
   "metadata": {},
   "outputs": [
    {
     "data": {
      "text/plain": [
       "array(['alfa_romeo', 'audi', 'bmw', 'chevrolet', 'chrysler', 'citroen',\n",
       "       'dacia', 'daewoo', 'daihatsu', 'fiat', 'ford', 'honda', 'hyundai',\n",
       "       'jaguar', 'jeep', 'kia', 'lada', 'lancia', 'land_rover', 'mazda',\n",
       "       'mercedes_benz', 'mini', 'mitsubishi', 'nissan', 'opel', 'peugeot',\n",
       "       'porsche', 'renault', 'rover', 'saab', 'seat', 'skoda', 'smart',\n",
       "       'subaru', 'suzuki', 'toyota', 'trabant', 'volkswagen', 'volvo'],\n",
       "      dtype=object)"
      ]
     },
     "execution_count": 16,
     "metadata": {},
     "output_type": "execute_result"
    }
   ],
   "source": [
    "data['Brand'].sort_values().unique()"
   ]
  },
  {
   "cell_type": "code",
   "execution_count": 17,
   "metadata": {},
   "outputs": [
    {
     "data": {
      "text/plain": [
       "array(['no', 'unknown', 'yes'], dtype=object)"
      ]
     },
     "execution_count": 17,
     "metadata": {},
     "output_type": "execute_result"
    }
   ],
   "source": [
    "data['Repaired'].sort_values().unique()"
   ]
  },
  {
   "cell_type": "markdown",
   "metadata": {},
   "source": [
    "### Проверка данных на аномальные значения"
   ]
  },
  {
   "cell_type": "code",
   "execution_count": 18,
   "metadata": {},
   "outputs": [
    {
     "data": {
      "text/html": [
       "<div>\n",
       "<style scoped>\n",
       "    .dataframe tbody tr th:only-of-type {\n",
       "        vertical-align: middle;\n",
       "    }\n",
       "\n",
       "    .dataframe tbody tr th {\n",
       "        vertical-align: top;\n",
       "    }\n",
       "\n",
       "    .dataframe thead th {\n",
       "        text-align: right;\n",
       "    }\n",
       "</style>\n",
       "<table border=\"1\" class=\"dataframe\">\n",
       "  <thead>\n",
       "    <tr style=\"text-align: right;\">\n",
       "      <th></th>\n",
       "      <th>Price</th>\n",
       "      <th>RegistrationYear</th>\n",
       "      <th>Power</th>\n",
       "      <th>Kilometer</th>\n",
       "    </tr>\n",
       "  </thead>\n",
       "  <tbody>\n",
       "    <tr>\n",
       "      <th>count</th>\n",
       "      <td>334664.000000</td>\n",
       "      <td>334664.000000</td>\n",
       "      <td>334664.000000</td>\n",
       "      <td>334664.000000</td>\n",
       "    </tr>\n",
       "    <tr>\n",
       "      <th>mean</th>\n",
       "      <td>4504.346790</td>\n",
       "      <td>2003.923992</td>\n",
       "      <td>111.373195</td>\n",
       "      <td>128562.588148</td>\n",
       "    </tr>\n",
       "    <tr>\n",
       "      <th>std</th>\n",
       "      <td>4531.438572</td>\n",
       "      <td>69.377219</td>\n",
       "      <td>185.156439</td>\n",
       "      <td>37205.926976</td>\n",
       "    </tr>\n",
       "    <tr>\n",
       "      <th>min</th>\n",
       "      <td>0.000000</td>\n",
       "      <td>1000.000000</td>\n",
       "      <td>0.000000</td>\n",
       "      <td>5000.000000</td>\n",
       "    </tr>\n",
       "    <tr>\n",
       "      <th>25%</th>\n",
       "      <td>1150.000000</td>\n",
       "      <td>1999.000000</td>\n",
       "      <td>70.000000</td>\n",
       "      <td>125000.000000</td>\n",
       "    </tr>\n",
       "    <tr>\n",
       "      <th>50%</th>\n",
       "      <td>2800.000000</td>\n",
       "      <td>2003.000000</td>\n",
       "      <td>105.000000</td>\n",
       "      <td>150000.000000</td>\n",
       "    </tr>\n",
       "    <tr>\n",
       "      <th>75%</th>\n",
       "      <td>6500.000000</td>\n",
       "      <td>2008.000000</td>\n",
       "      <td>143.000000</td>\n",
       "      <td>150000.000000</td>\n",
       "    </tr>\n",
       "    <tr>\n",
       "      <th>max</th>\n",
       "      <td>20000.000000</td>\n",
       "      <td>9999.000000</td>\n",
       "      <td>20000.000000</td>\n",
       "      <td>150000.000000</td>\n",
       "    </tr>\n",
       "  </tbody>\n",
       "</table>\n",
       "</div>"
      ],
      "text/plain": [
       "               Price  RegistrationYear          Power      Kilometer\n",
       "count  334664.000000     334664.000000  334664.000000  334664.000000\n",
       "mean     4504.346790       2003.923992     111.373195  128562.588148\n",
       "std      4531.438572         69.377219     185.156439   37205.926976\n",
       "min         0.000000       1000.000000       0.000000    5000.000000\n",
       "25%      1150.000000       1999.000000      70.000000  125000.000000\n",
       "50%      2800.000000       2003.000000     105.000000  150000.000000\n",
       "75%      6500.000000       2008.000000     143.000000  150000.000000\n",
       "max     20000.000000       9999.000000   20000.000000  150000.000000"
      ]
     },
     "execution_count": 18,
     "metadata": {},
     "output_type": "execute_result"
    }
   ],
   "source": [
    "data.describe()"
   ]
  },
  {
   "cell_type": "code",
   "execution_count": 19,
   "metadata": {},
   "outputs": [
    {
     "data": {
      "image/png": "[encoded data removed]",
      "text/plain": [
       "<Figure size 432x288 with 1 Axes>"
      ]
     },
     "metadata": {
      "needs_background": "light"
     },
     "output_type": "display_data"
    },
    {
     "data": {
      "image/png": "[encoded data removed]",
      "text/plain": [
       "<Figure size 432x288 with 1 Axes>"
      ]
     },
     "metadata": {
      "needs_background": "light"
     },
     "output_type": "display_data"
    }
   ],
   "source": [
    "data.boxplot('RegistrationYear')\n",
    "plt.show()\n",
    "plt.hist(data['RegistrationYear'], 200, (1900, 2023))\n",
    "plt.show()"
   ]
  },
  {
   "cell_type": "code",
   "execution_count": 20,
   "metadata": {},
   "outputs": [],
   "source": [
    "data = data[data['RegistrationYear']>1980]\n",
    "data = data[data['RegistrationYear']<2023]"
   ]
  },
  {
   "cell_type": "markdown",
   "metadata": {},
   "source": [
    "Скорее всего машины зарегестрированные ранее 1980 года уже не актуальны, а позже 2023 зарегестрированы быть не могут"
   ]
  },
  {
   "cell_type": "code",
   "execution_count": 21,
   "metadata": {},
   "outputs": [
    {
     "data": {
      "image/png": "[encoded data removed]",
      "text/plain": [
       "<Figure size 432x288 with 1 Axes>"
      ]
     },
     "metadata": {
      "needs_background": "light"
     },
     "output_type": "display_data"
    },
    {
     "data": {
      "image/png": "[encoded data removed]",
      "text/plain": [
       "<Figure size 432x288 with 1 Axes>"
      ]
     },
     "metadata": {
      "needs_background": "light"
     },
     "output_type": "display_data"
    }
   ],
   "source": [
    "data.boxplot('Power')\n",
    "plt.show()\n",
    "plt.hist(data['Power'], 200, (0, 200))\n",
    "plt.show()"
   ]
  },
  {
   "cell_type": "code",
   "execution_count": 22,
   "metadata": {},
   "outputs": [],
   "source": [
    "data = data[data['Power']>0]\n",
    "data = data[data['Power']<200]"
   ]
  },
  {
   "cell_type": "markdown",
   "metadata": {},
   "source": [
    "Мощность не может быть равна 0, поэтому данные с мощностью = 0 являются аномальными. Значения больше 200 лошадиних сил, тоже выглидят аномальными"
   ]
  },
  {
   "cell_type": "code",
   "execution_count": 23,
   "metadata": {},
   "outputs": [
    {
     "data": {
      "image/png": "[encoded data removed]",
      "text/plain": [
       "<Figure size 432x288 with 1 Axes>"
      ]
     },
     "metadata": {
      "needs_background": "light"
     },
     "output_type": "display_data"
    },
    {
     "data": {
      "image/png": "[encoded data removed]",
      "text/plain": [
       "<Figure size 432x288 with 1 Axes>"
      ]
     },
     "metadata": {
      "needs_background": "light"
     },
     "output_type": "display_data"
    }
   ],
   "source": [
    "data.boxplot('Kilometer')\n",
    "plt.show()\n",
    "plt.hist(data['Kilometer'], 10, (5000, 150000))\n",
    "plt.show()"
   ]
  },
  {
   "cell_type": "markdown",
   "metadata": {},
   "source": [
    "Из первого графика видно, что значения менее 80000 являются выбросами, но удалять их не будем, так как на практике такое вполне возможно"
   ]
  },
  {
   "cell_type": "code",
   "execution_count": 24,
   "metadata": {},
   "outputs": [
    {
     "data": {
      "text/html": [
       "<div>\n",
       "<style scoped>\n",
       "    .dataframe tbody tr th:only-of-type {\n",
       "        vertical-align: middle;\n",
       "    }\n",
       "\n",
       "    .dataframe tbody tr th {\n",
       "        vertical-align: top;\n",
       "    }\n",
       "\n",
       "    .dataframe thead th {\n",
       "        text-align: right;\n",
       "    }\n",
       "</style>\n",
       "<table border=\"1\" class=\"dataframe\">\n",
       "  <thead>\n",
       "    <tr style=\"text-align: right;\">\n",
       "      <th></th>\n",
       "      <th>Price</th>\n",
       "      <th>RegistrationYear</th>\n",
       "      <th>Power</th>\n",
       "      <th>Kilometer</th>\n",
       "    </tr>\n",
       "  </thead>\n",
       "  <tbody>\n",
       "    <tr>\n",
       "      <th>count</th>\n",
       "      <td>275188.000000</td>\n",
       "      <td>275188.000000</td>\n",
       "      <td>275188.000000</td>\n",
       "      <td>275188.000000</td>\n",
       "    </tr>\n",
       "    <tr>\n",
       "      <th>mean</th>\n",
       "      <td>4293.857650</td>\n",
       "      <td>2003.438526</td>\n",
       "      <td>109.886885</td>\n",
       "      <td>128328.597177</td>\n",
       "    </tr>\n",
       "    <tr>\n",
       "      <th>std</th>\n",
       "      <td>4227.335692</td>\n",
       "      <td>6.356068</td>\n",
       "      <td>38.389999</td>\n",
       "      <td>36758.201081</td>\n",
       "    </tr>\n",
       "    <tr>\n",
       "      <th>min</th>\n",
       "      <td>0.000000</td>\n",
       "      <td>1981.000000</td>\n",
       "      <td>1.000000</td>\n",
       "      <td>5000.000000</td>\n",
       "    </tr>\n",
       "    <tr>\n",
       "      <th>25%</th>\n",
       "      <td>1200.000000</td>\n",
       "      <td>1999.000000</td>\n",
       "      <td>75.000000</td>\n",
       "      <td>125000.000000</td>\n",
       "    </tr>\n",
       "    <tr>\n",
       "      <th>50%</th>\n",
       "      <td>2800.000000</td>\n",
       "      <td>2003.000000</td>\n",
       "      <td>105.000000</td>\n",
       "      <td>150000.000000</td>\n",
       "    </tr>\n",
       "    <tr>\n",
       "      <th>75%</th>\n",
       "      <td>6000.000000</td>\n",
       "      <td>2008.000000</td>\n",
       "      <td>140.000000</td>\n",
       "      <td>150000.000000</td>\n",
       "    </tr>\n",
       "    <tr>\n",
       "      <th>max</th>\n",
       "      <td>20000.000000</td>\n",
       "      <td>2019.000000</td>\n",
       "      <td>199.000000</td>\n",
       "      <td>150000.000000</td>\n",
       "    </tr>\n",
       "  </tbody>\n",
       "</table>\n",
       "</div>"
      ],
      "text/plain": [
       "               Price  RegistrationYear          Power      Kilometer\n",
       "count  275188.000000     275188.000000  275188.000000  275188.000000\n",
       "mean     4293.857650       2003.438526     109.886885  128328.597177\n",
       "std      4227.335692          6.356068      38.389999   36758.201081\n",
       "min         0.000000       1981.000000       1.000000    5000.000000\n",
       "25%      1200.000000       1999.000000      75.000000  125000.000000\n",
       "50%      2800.000000       2003.000000     105.000000  150000.000000\n",
       "75%      6000.000000       2008.000000     140.000000  150000.000000\n",
       "max     20000.000000       2019.000000     199.000000  150000.000000"
      ]
     },
     "execution_count": 24,
     "metadata": {},
     "output_type": "execute_result"
    }
   ],
   "source": [
    "data.describe()"
   ]
  },
  {
   "cell_type": "code",
   "execution_count": 25,
   "metadata": {},
   "outputs": [
    {
     "data": {
      "image/png": "[encoded data removed]",
      "text/plain": [
       "<Figure size 432x288 with 1 Axes>"
      ]
     },
     "metadata": {
      "needs_background": "light"
     },
     "output_type": "display_data"
    },
    {
     "data": {
      "image/png": "[encoded data removed]",
      "text/plain": [
       "<Figure size 432x288 with 1 Axes>"
      ]
     },
     "metadata": {
      "needs_background": "light"
     },
     "output_type": "display_data"
    }
   ],
   "source": [
    "data.boxplot('Price')\n",
    "plt.show()\n",
    "plt.hist(data['Price'], 2000, (0, 20000))\n",
    "plt.show()"
   ]
  },
  {
   "cell_type": "code",
   "execution_count": 26,
   "metadata": {},
   "outputs": [],
   "source": [
    "data = data[data['Price']>100]"
   ]
  },
  {
   "cell_type": "markdown",
   "metadata": {},
   "source": [
    "### Промежуточные выводы:\n",
    "\n",
    "1. Данные загружены и изучены\n",
    "2. Удалены признаки не влияющие на стоимость автомобиля\n",
    "3. Устранены пропущенные значения\n",
    "4. Данные проверены на дубликаты\n",
    "5. Удалены данные с аномальными значениями параметров"
   ]
  },
  {
   "cell_type": "markdown",
   "metadata": {},
   "source": [
    "## Обучение моделей"
   ]
  },
  {
   "cell_type": "markdown",
   "metadata": {},
   "source": [
    "### Подготовка данных к обучению моделей"
   ]
  },
  {
   "cell_type": "markdown",
   "metadata": {},
   "source": [
    "#### Деление данных на обучающую, валидационную и тестовую выборки"
   ]
  },
  {
   "cell_type": "code",
   "execution_count": 27,
   "metadata": {},
   "outputs": [
    {
     "name": "stdout",
     "output_type": "stream",
     "text": [
      "(160891, 9)\n",
      "(53630, 9)\n",
      "(53631, 9)\n"
     ]
    }
   ],
   "source": [
    "features = data.drop('Price', axis=1)\n",
    "target = data['Price']\n",
    "features_train, features_valid, target_train, target_valid = train_test_split(\n",
    "    features, target, test_size=0.4, random_state=12345)\n",
    "features_valid, features_test, target_valid, target_test = train_test_split(\n",
    "    features_valid, target_valid, test_size=0.5, random_state=12345)\n",
    "print(features_train.shape)\n",
    "print(features_valid.shape)\n",
    "print(features_test.shape)"
   ]
  },
  {
   "cell_type": "markdown",
   "metadata": {},
   "source": [
    "#### Кодирование категориальных признаков"
   ]
  },
  {
   "cell_type": "code",
   "execution_count": 28,
   "metadata": {},
   "outputs": [
    {
     "name": "stdout",
     "output_type": "stream",
     "text": [
      "CPU times: total: 7.3 s\n",
      "Wall time: 7.34 s\n"
     ]
    },
    {
     "data": {
      "text/html": [
       "<div>\n",
       "<style scoped>\n",
       "    .dataframe tbody tr th:only-of-type {\n",
       "        vertical-align: middle;\n",
       "    }\n",
       "\n",
       "    .dataframe tbody tr th {\n",
       "        vertical-align: top;\n",
       "    }\n",
       "\n",
       "    .dataframe thead th {\n",
       "        text-align: right;\n",
       "    }\n",
       "</style>\n",
       "<table border=\"1\" class=\"dataframe\">\n",
       "  <thead>\n",
       "    <tr style=\"text-align: right;\">\n",
       "      <th></th>\n",
       "      <th>RegistrationYear</th>\n",
       "      <th>Power</th>\n",
       "      <th>Kilometer</th>\n",
       "      <th>x0_bus</th>\n",
       "      <th>x0_convertible</th>\n",
       "      <th>x0_coupe</th>\n",
       "      <th>x0_other</th>\n",
       "      <th>x0_sedan</th>\n",
       "      <th>x0_small</th>\n",
       "      <th>x0_suv</th>\n",
       "      <th>...</th>\n",
       "      <th>x4_smart</th>\n",
       "      <th>x4_subaru</th>\n",
       "      <th>x4_suzuki</th>\n",
       "      <th>x4_toyota</th>\n",
       "      <th>x4_trabant</th>\n",
       "      <th>x4_volkswagen</th>\n",
       "      <th>x4_volvo</th>\n",
       "      <th>x5_no</th>\n",
       "      <th>x5_unknown</th>\n",
       "      <th>x5_yes</th>\n",
       "    </tr>\n",
       "  </thead>\n",
       "  <tbody>\n",
       "    <tr>\n",
       "      <th>162369</th>\n",
       "      <td>2005</td>\n",
       "      <td>105</td>\n",
       "      <td>150000</td>\n",
       "      <td>0.0</td>\n",
       "      <td>0.0</td>\n",
       "      <td>0.0</td>\n",
       "      <td>0.0</td>\n",
       "      <td>0.0</td>\n",
       "      <td>1.0</td>\n",
       "      <td>0.0</td>\n",
       "      <td>...</td>\n",
       "      <td>0.0</td>\n",
       "      <td>0.0</td>\n",
       "      <td>0.0</td>\n",
       "      <td>0.0</td>\n",
       "      <td>0.0</td>\n",
       "      <td>0.0</td>\n",
       "      <td>0.0</td>\n",
       "      <td>1.0</td>\n",
       "      <td>0.0</td>\n",
       "      <td>0.0</td>\n",
       "    </tr>\n",
       "    <tr>\n",
       "      <th>94519</th>\n",
       "      <td>2002</td>\n",
       "      <td>116</td>\n",
       "      <td>150000</td>\n",
       "      <td>0.0</td>\n",
       "      <td>0.0</td>\n",
       "      <td>0.0</td>\n",
       "      <td>0.0</td>\n",
       "      <td>1.0</td>\n",
       "      <td>0.0</td>\n",
       "      <td>0.0</td>\n",
       "      <td>...</td>\n",
       "      <td>0.0</td>\n",
       "      <td>0.0</td>\n",
       "      <td>0.0</td>\n",
       "      <td>0.0</td>\n",
       "      <td>0.0</td>\n",
       "      <td>0.0</td>\n",
       "      <td>0.0</td>\n",
       "      <td>1.0</td>\n",
       "      <td>0.0</td>\n",
       "      <td>0.0</td>\n",
       "    </tr>\n",
       "    <tr>\n",
       "      <th>94232</th>\n",
       "      <td>1998</td>\n",
       "      <td>136</td>\n",
       "      <td>150000</td>\n",
       "      <td>0.0</td>\n",
       "      <td>0.0</td>\n",
       "      <td>0.0</td>\n",
       "      <td>0.0</td>\n",
       "      <td>0.0</td>\n",
       "      <td>0.0</td>\n",
       "      <td>0.0</td>\n",
       "      <td>...</td>\n",
       "      <td>0.0</td>\n",
       "      <td>0.0</td>\n",
       "      <td>0.0</td>\n",
       "      <td>0.0</td>\n",
       "      <td>0.0</td>\n",
       "      <td>0.0</td>\n",
       "      <td>0.0</td>\n",
       "      <td>1.0</td>\n",
       "      <td>0.0</td>\n",
       "      <td>0.0</td>\n",
       "    </tr>\n",
       "    <tr>\n",
       "      <th>255</th>\n",
       "      <td>2002</td>\n",
       "      <td>101</td>\n",
       "      <td>150000</td>\n",
       "      <td>0.0</td>\n",
       "      <td>0.0</td>\n",
       "      <td>0.0</td>\n",
       "      <td>0.0</td>\n",
       "      <td>1.0</td>\n",
       "      <td>0.0</td>\n",
       "      <td>0.0</td>\n",
       "      <td>...</td>\n",
       "      <td>0.0</td>\n",
       "      <td>0.0</td>\n",
       "      <td>0.0</td>\n",
       "      <td>0.0</td>\n",
       "      <td>0.0</td>\n",
       "      <td>0.0</td>\n",
       "      <td>0.0</td>\n",
       "      <td>1.0</td>\n",
       "      <td>0.0</td>\n",
       "      <td>0.0</td>\n",
       "    </tr>\n",
       "    <tr>\n",
       "      <th>6507</th>\n",
       "      <td>2000</td>\n",
       "      <td>79</td>\n",
       "      <td>150000</td>\n",
       "      <td>1.0</td>\n",
       "      <td>0.0</td>\n",
       "      <td>0.0</td>\n",
       "      <td>0.0</td>\n",
       "      <td>0.0</td>\n",
       "      <td>0.0</td>\n",
       "      <td>0.0</td>\n",
       "      <td>...</td>\n",
       "      <td>0.0</td>\n",
       "      <td>0.0</td>\n",
       "      <td>0.0</td>\n",
       "      <td>0.0</td>\n",
       "      <td>0.0</td>\n",
       "      <td>0.0</td>\n",
       "      <td>0.0</td>\n",
       "      <td>1.0</td>\n",
       "      <td>0.0</td>\n",
       "      <td>0.0</td>\n",
       "    </tr>\n",
       "  </tbody>\n",
       "</table>\n",
       "<p>5 rows × 306 columns</p>\n",
       "</div>"
      ],
      "text/plain": [
       "        RegistrationYear  Power  Kilometer  x0_bus  x0_convertible  x0_coupe  \\\n",
       "162369              2005    105     150000     0.0             0.0       0.0   \n",
       "94519               2002    116     150000     0.0             0.0       0.0   \n",
       "94232               1998    136     150000     0.0             0.0       0.0   \n",
       "255                 2002    101     150000     0.0             0.0       0.0   \n",
       "6507                2000     79     150000     1.0             0.0       0.0   \n",
       "\n",
       "        x0_other  x0_sedan  x0_small  x0_suv  ...  x4_smart  x4_subaru  \\\n",
       "162369       0.0       0.0       1.0     0.0  ...       0.0        0.0   \n",
       "94519        0.0       1.0       0.0     0.0  ...       0.0        0.0   \n",
       "94232        0.0       0.0       0.0     0.0  ...       0.0        0.0   \n",
       "255          0.0       1.0       0.0     0.0  ...       0.0        0.0   \n",
       "6507         0.0       0.0       0.0     0.0  ...       0.0        0.0   \n",
       "\n",
       "        x4_suzuki  x4_toyota  x4_trabant  x4_volkswagen  x4_volvo  x5_no  \\\n",
       "162369        0.0        0.0         0.0            0.0       0.0    1.0   \n",
       "94519         0.0        0.0         0.0            0.0       0.0    1.0   \n",
       "94232         0.0        0.0         0.0            0.0       0.0    1.0   \n",
       "255           0.0        0.0         0.0            0.0       0.0    1.0   \n",
       "6507          0.0        0.0         0.0            0.0       0.0    1.0   \n",
       "\n",
       "        x5_unknown  x5_yes  \n",
       "162369         0.0     0.0  \n",
       "94519          0.0     0.0  \n",
       "94232          0.0     0.0  \n",
       "255            0.0     0.0  \n",
       "6507           0.0     0.0  \n",
       "\n",
       "[5 rows x 306 columns]"
      ]
     },
     "execution_count": 28,
     "metadata": {},
     "output_type": "execute_result"
    }
   ],
   "source": [
    "%%time\n",
    "enc = OneHotEncoder(sparse=False, handle_unknown='ignore')\n",
    "category = ['VehicleType', 'Gearbox', 'Model', 'FuelType', 'Brand', 'Repaired']\n",
    "features_train1 = features_train.copy()\n",
    "enc.fit(features_train1[category])\n",
    "features_train1[enc.get_feature_names()] = enc.transform(features_train1[category])\n",
    "features_train1 = features_train1.drop(category, axis=1)\n",
    "features_train1.head()"
   ]
  },
  {
   "cell_type": "code",
   "execution_count": 29,
   "metadata": {},
   "outputs": [
    {
     "name": "stdout",
     "output_type": "stream",
     "text": [
      "CPU times: total: 10.4 s\n",
      "Wall time: 10.4 s\n"
     ]
    }
   ],
   "source": [
    "%%time\n",
    "features_valid1 = features_valid.copy()\n",
    "features_valid1[enc.get_feature_names()] = enc.transform(features_valid1[category])\n",
    "features_valid1 = features_valid1.drop(category, axis=1)\n",
    "features_test1 = features_test.copy()\n",
    "features_test1[enc.get_feature_names()] = enc.transform(features_test1[category])\n",
    "features_test1 = features_test1.drop(category, axis=1)"
   ]
  },
  {
   "cell_type": "markdown",
   "metadata": {},
   "source": [
    "#### Масштабирование данных"
   ]
  },
  {
   "cell_type": "code",
   "execution_count": 30,
   "metadata": {},
   "outputs": [
    {
     "data": {
      "text/html": [
       "<div>\n",
       "<style scoped>\n",
       "    .dataframe tbody tr th:only-of-type {\n",
       "        vertical-align: middle;\n",
       "    }\n",
       "\n",
       "    .dataframe tbody tr th {\n",
       "        vertical-align: top;\n",
       "    }\n",
       "\n",
       "    .dataframe thead th {\n",
       "        text-align: right;\n",
       "    }\n",
       "</style>\n",
       "<table border=\"1\" class=\"dataframe\">\n",
       "  <thead>\n",
       "    <tr style=\"text-align: right;\">\n",
       "      <th></th>\n",
       "      <th>RegistrationYear</th>\n",
       "      <th>Power</th>\n",
       "      <th>Kilometer</th>\n",
       "      <th>x0_bus</th>\n",
       "      <th>x0_convertible</th>\n",
       "      <th>x0_coupe</th>\n",
       "      <th>x0_other</th>\n",
       "      <th>x0_sedan</th>\n",
       "      <th>x0_small</th>\n",
       "      <th>x0_suv</th>\n",
       "      <th>...</th>\n",
       "      <th>x4_smart</th>\n",
       "      <th>x4_subaru</th>\n",
       "      <th>x4_suzuki</th>\n",
       "      <th>x4_toyota</th>\n",
       "      <th>x4_trabant</th>\n",
       "      <th>x4_volkswagen</th>\n",
       "      <th>x4_volvo</th>\n",
       "      <th>x5_no</th>\n",
       "      <th>x5_unknown</th>\n",
       "      <th>x5_yes</th>\n",
       "    </tr>\n",
       "  </thead>\n",
       "  <tbody>\n",
       "    <tr>\n",
       "      <th>162369</th>\n",
       "      <td>0.235056</td>\n",
       "      <td>-0.133643</td>\n",
       "      <td>0.594873</td>\n",
       "      <td>0.0</td>\n",
       "      <td>0.0</td>\n",
       "      <td>0.0</td>\n",
       "      <td>0.0</td>\n",
       "      <td>0.0</td>\n",
       "      <td>1.0</td>\n",
       "      <td>0.0</td>\n",
       "      <td>...</td>\n",
       "      <td>0.0</td>\n",
       "      <td>0.0</td>\n",
       "      <td>0.0</td>\n",
       "      <td>0.0</td>\n",
       "      <td>0.0</td>\n",
       "      <td>0.0</td>\n",
       "      <td>0.0</td>\n",
       "      <td>1.0</td>\n",
       "      <td>0.0</td>\n",
       "      <td>0.0</td>\n",
       "    </tr>\n",
       "    <tr>\n",
       "      <th>94519</th>\n",
       "      <td>-0.239935</td>\n",
       "      <td>0.153455</td>\n",
       "      <td>0.594873</td>\n",
       "      <td>0.0</td>\n",
       "      <td>0.0</td>\n",
       "      <td>0.0</td>\n",
       "      <td>0.0</td>\n",
       "      <td>1.0</td>\n",
       "      <td>0.0</td>\n",
       "      <td>0.0</td>\n",
       "      <td>...</td>\n",
       "      <td>0.0</td>\n",
       "      <td>0.0</td>\n",
       "      <td>0.0</td>\n",
       "      <td>0.0</td>\n",
       "      <td>0.0</td>\n",
       "      <td>0.0</td>\n",
       "      <td>0.0</td>\n",
       "      <td>1.0</td>\n",
       "      <td>0.0</td>\n",
       "      <td>0.0</td>\n",
       "    </tr>\n",
       "    <tr>\n",
       "      <th>94232</th>\n",
       "      <td>-0.873256</td>\n",
       "      <td>0.675452</td>\n",
       "      <td>0.594873</td>\n",
       "      <td>0.0</td>\n",
       "      <td>0.0</td>\n",
       "      <td>0.0</td>\n",
       "      <td>0.0</td>\n",
       "      <td>0.0</td>\n",
       "      <td>0.0</td>\n",
       "      <td>0.0</td>\n",
       "      <td>...</td>\n",
       "      <td>0.0</td>\n",
       "      <td>0.0</td>\n",
       "      <td>0.0</td>\n",
       "      <td>0.0</td>\n",
       "      <td>0.0</td>\n",
       "      <td>0.0</td>\n",
       "      <td>0.0</td>\n",
       "      <td>1.0</td>\n",
       "      <td>0.0</td>\n",
       "      <td>0.0</td>\n",
       "    </tr>\n",
       "    <tr>\n",
       "      <th>255</th>\n",
       "      <td>-0.239935</td>\n",
       "      <td>-0.238042</td>\n",
       "      <td>0.594873</td>\n",
       "      <td>0.0</td>\n",
       "      <td>0.0</td>\n",
       "      <td>0.0</td>\n",
       "      <td>0.0</td>\n",
       "      <td>1.0</td>\n",
       "      <td>0.0</td>\n",
       "      <td>0.0</td>\n",
       "      <td>...</td>\n",
       "      <td>0.0</td>\n",
       "      <td>0.0</td>\n",
       "      <td>0.0</td>\n",
       "      <td>0.0</td>\n",
       "      <td>0.0</td>\n",
       "      <td>0.0</td>\n",
       "      <td>0.0</td>\n",
       "      <td>1.0</td>\n",
       "      <td>0.0</td>\n",
       "      <td>0.0</td>\n",
       "    </tr>\n",
       "    <tr>\n",
       "      <th>6507</th>\n",
       "      <td>-0.556595</td>\n",
       "      <td>-0.812239</td>\n",
       "      <td>0.594873</td>\n",
       "      <td>1.0</td>\n",
       "      <td>0.0</td>\n",
       "      <td>0.0</td>\n",
       "      <td>0.0</td>\n",
       "      <td>0.0</td>\n",
       "      <td>0.0</td>\n",
       "      <td>0.0</td>\n",
       "      <td>...</td>\n",
       "      <td>0.0</td>\n",
       "      <td>0.0</td>\n",
       "      <td>0.0</td>\n",
       "      <td>0.0</td>\n",
       "      <td>0.0</td>\n",
       "      <td>0.0</td>\n",
       "      <td>0.0</td>\n",
       "      <td>1.0</td>\n",
       "      <td>0.0</td>\n",
       "      <td>0.0</td>\n",
       "    </tr>\n",
       "  </tbody>\n",
       "</table>\n",
       "<p>5 rows × 306 columns</p>\n",
       "</div>"
      ],
      "text/plain": [
       "        RegistrationYear     Power  Kilometer  x0_bus  x0_convertible  \\\n",
       "162369          0.235056 -0.133643   0.594873     0.0             0.0   \n",
       "94519          -0.239935  0.153455   0.594873     0.0             0.0   \n",
       "94232          -0.873256  0.675452   0.594873     0.0             0.0   \n",
       "255            -0.239935 -0.238042   0.594873     0.0             0.0   \n",
       "6507           -0.556595 -0.812239   0.594873     1.0             0.0   \n",
       "\n",
       "        x0_coupe  x0_other  x0_sedan  x0_small  x0_suv  ...  x4_smart  \\\n",
       "162369       0.0       0.0       0.0       1.0     0.0  ...       0.0   \n",
       "94519        0.0       0.0       1.0       0.0     0.0  ...       0.0   \n",
       "94232        0.0       0.0       0.0       0.0     0.0  ...       0.0   \n",
       "255          0.0       0.0       1.0       0.0     0.0  ...       0.0   \n",
       "6507         0.0       0.0       0.0       0.0     0.0  ...       0.0   \n",
       "\n",
       "        x4_subaru  x4_suzuki  x4_toyota  x4_trabant  x4_volkswagen  x4_volvo  \\\n",
       "162369        0.0        0.0        0.0         0.0            0.0       0.0   \n",
       "94519         0.0        0.0        0.0         0.0            0.0       0.0   \n",
       "94232         0.0        0.0        0.0         0.0            0.0       0.0   \n",
       "255           0.0        0.0        0.0         0.0            0.0       0.0   \n",
       "6507          0.0        0.0        0.0         0.0            0.0       0.0   \n",
       "\n",
       "        x5_no  x5_unknown  x5_yes  \n",
       "162369    1.0         0.0     0.0  \n",
       "94519     1.0         0.0     0.0  \n",
       "94232     1.0         0.0     0.0  \n",
       "255       1.0         0.0     0.0  \n",
       "6507      1.0         0.0     0.0  \n",
       "\n",
       "[5 rows x 306 columns]"
      ]
     },
     "execution_count": 30,
     "metadata": {},
     "output_type": "execute_result"
    }
   ],
   "source": [
    "numeric = ['RegistrationYear', 'Power', 'Kilometer']\n",
    "\n",
    "scaler = StandardScaler()\n",
    "scaler.fit(features_train1[numeric])\n",
    "features_train1[numeric] = scaler.transform(features_train1[numeric])\n",
    "features_valid1[numeric] = scaler.transform(features_valid1[numeric])\n",
    "features_test1[numeric] = scaler.transform(features_test1[numeric])\n",
    "features_train1.head()"
   ]
  },
  {
   "cell_type": "markdown",
   "metadata": {},
   "source": [
    "#### Промежуточные выводы:\n",
    "\n",
    "1. Данные разделены на обучающую, валидационную и тестовую выборки в соотношении 3:1:1 соответственно\n",
    "2. Проведено кодирование категориальных признаков\n",
    "3. Проведено масштабирование данных"
   ]
  },
  {
   "cell_type": "markdown",
   "metadata": {},
   "source": [
    "### Обучение моделей"
   ]
  },
  {
   "cell_type": "code",
   "execution_count": 31,
   "metadata": {},
   "outputs": [],
   "source": [
    "result_models = []\n",
    "state = 12345"
   ]
  },
  {
   "cell_type": "markdown",
   "metadata": {},
   "source": [
    "#### Константная модель"
   ]
  },
  {
   "cell_type": "code",
   "execution_count": 32,
   "metadata": {},
   "outputs": [
    {
     "name": "stdout",
     "output_type": "stream",
     "text": [
      "CPU times: total: 0 ns\n",
      "Wall time: 0 ns\n"
     ]
    }
   ],
   "source": [
    "%%time\n",
    "predicted_valid = [target_train.mean()]*len(target_valid)"
   ]
  },
  {
   "cell_type": "code",
   "execution_count": 33,
   "metadata": {},
   "outputs": [
    {
     "name": "stdout",
     "output_type": "stream",
     "text": [
      "RMSE: 4204.620134769037\n"
     ]
    }
   ],
   "source": [
    "rmse = mean_squared_error(target_valid, predicted_valid)**0.5\n",
    "print(f'RMSE: {rmse}')\n",
    "result_models.append(['Константная модель', None, rmse, None, '0ns', None])"
   ]
  },
  {
   "cell_type": "markdown",
   "metadata": {},
   "source": [
    "#### Линейная регрессия"
   ]
  },
  {
   "cell_type": "code",
   "execution_count": 34,
   "metadata": {},
   "outputs": [],
   "source": [
    "model = LinearRegression() "
   ]
  },
  {
   "cell_type": "code",
   "execution_count": 35,
   "metadata": {},
   "outputs": [
    {
     "name": "stdout",
     "output_type": "stream",
     "text": [
      "CPU times: total: 8.3 s\n",
      "Wall time: 2.59 s\n"
     ]
    },
    {
     "data": {
      "text/plain": [
       "LinearRegression()"
      ]
     },
     "execution_count": 35,
     "metadata": {},
     "output_type": "execute_result"
    }
   ],
   "source": [
    "%%time\n",
    "model.fit(features_train1, target_train)"
   ]
  },
  {
   "cell_type": "code",
   "execution_count": 36,
   "metadata": {},
   "outputs": [
    {
     "name": "stdout",
     "output_type": "stream",
     "text": [
      "CPU times: total: 125 ms\n",
      "Wall time: 122 ms\n"
     ]
    }
   ],
   "source": [
    "%%time\n",
    "predicted_valid = model.predict(features_valid1)"
   ]
  },
  {
   "cell_type": "code",
   "execution_count": 37,
   "metadata": {},
   "outputs": [
    {
     "name": "stdout",
     "output_type": "stream",
     "text": [
      "RMSE: 2551239430465.996\n"
     ]
    }
   ],
   "source": [
    "rmse = mean_squared_error(target_valid, predicted_valid)**0.5\n",
    "print(f'RMSE: {rmse}')\n",
    "result_models.append(['Линейная регрессия', None, rmse, '2.59s', '277ms', model])"
   ]
  },
  {
   "cell_type": "markdown",
   "metadata": {},
   "source": [
    "Результат очень превышает необходимые значения, время обучения долгое."
   ]
  },
  {
   "cell_type": "markdown",
   "metadata": {},
   "source": [
    "#### Масштабирование и кодирование данных для моделей решающее дерево и случайный лес"
   ]
  },
  {
   "cell_type": "code",
   "execution_count": 38,
   "metadata": {},
   "outputs": [
    {
     "name": "stdout",
     "output_type": "stream",
     "text": [
      "CPU times: total: 281 ms\n",
      "Wall time: 272 ms\n"
     ]
    },
    {
     "data": {
      "text/html": [
       "<div>\n",
       "<style scoped>\n",
       "    .dataframe tbody tr th:only-of-type {\n",
       "        vertical-align: middle;\n",
       "    }\n",
       "\n",
       "    .dataframe tbody tr th {\n",
       "        vertical-align: top;\n",
       "    }\n",
       "\n",
       "    .dataframe thead th {\n",
       "        text-align: right;\n",
       "    }\n",
       "</style>\n",
       "<table border=\"1\" class=\"dataframe\">\n",
       "  <thead>\n",
       "    <tr style=\"text-align: right;\">\n",
       "      <th></th>\n",
       "      <th>VehicleType</th>\n",
       "      <th>RegistrationYear</th>\n",
       "      <th>Gearbox</th>\n",
       "      <th>Power</th>\n",
       "      <th>Model</th>\n",
       "      <th>Kilometer</th>\n",
       "      <th>FuelType</th>\n",
       "      <th>Brand</th>\n",
       "      <th>Repaired</th>\n",
       "    </tr>\n",
       "  </thead>\n",
       "  <tbody>\n",
       "    <tr>\n",
       "      <th>0</th>\n",
       "      <td>5.0</td>\n",
       "      <td>24.0</td>\n",
       "      <td>1.0</td>\n",
       "      <td>102.0</td>\n",
       "      <td>27.0</td>\n",
       "      <td>12.0</td>\n",
       "      <td>2.0</td>\n",
       "      <td>1.0</td>\n",
       "      <td>0.0</td>\n",
       "    </tr>\n",
       "    <tr>\n",
       "      <th>1</th>\n",
       "      <td>4.0</td>\n",
       "      <td>21.0</td>\n",
       "      <td>1.0</td>\n",
       "      <td>113.0</td>\n",
       "      <td>11.0</td>\n",
       "      <td>12.0</td>\n",
       "      <td>6.0</td>\n",
       "      <td>2.0</td>\n",
       "      <td>0.0</td>\n",
       "    </tr>\n",
       "    <tr>\n",
       "      <th>2</th>\n",
       "      <td>8.0</td>\n",
       "      <td>17.0</td>\n",
       "      <td>1.0</td>\n",
       "      <td>133.0</td>\n",
       "      <td>160.0</td>\n",
       "      <td>12.0</td>\n",
       "      <td>6.0</td>\n",
       "      <td>24.0</td>\n",
       "      <td>0.0</td>\n",
       "    </tr>\n",
       "    <tr>\n",
       "      <th>3</th>\n",
       "      <td>4.0</td>\n",
       "      <td>21.0</td>\n",
       "      <td>1.0</td>\n",
       "      <td>98.0</td>\n",
       "      <td>225.0</td>\n",
       "      <td>12.0</td>\n",
       "      <td>6.0</td>\n",
       "      <td>24.0</td>\n",
       "      <td>0.0</td>\n",
       "    </tr>\n",
       "    <tr>\n",
       "      <th>4</th>\n",
       "      <td>0.0</td>\n",
       "      <td>19.0</td>\n",
       "      <td>1.0</td>\n",
       "      <td>76.0</td>\n",
       "      <td>192.0</td>\n",
       "      <td>12.0</td>\n",
       "      <td>6.0</td>\n",
       "      <td>27.0</td>\n",
       "      <td>0.0</td>\n",
       "    </tr>\n",
       "  </tbody>\n",
       "</table>\n",
       "</div>"
      ],
      "text/plain": [
       "   VehicleType  RegistrationYear  Gearbox  Power  Model  Kilometer  FuelType  \\\n",
       "0          5.0              24.0      1.0  102.0   27.0       12.0       2.0   \n",
       "1          4.0              21.0      1.0  113.0   11.0       12.0       6.0   \n",
       "2          8.0              17.0      1.0  133.0  160.0       12.0       6.0   \n",
       "3          4.0              21.0      1.0   98.0  225.0       12.0       6.0   \n",
       "4          0.0              19.0      1.0   76.0  192.0       12.0       6.0   \n",
       "\n",
       "   Brand  Repaired  \n",
       "0    1.0       0.0  \n",
       "1    2.0       0.0  \n",
       "2   24.0       0.0  \n",
       "3   24.0       0.0  \n",
       "4   27.0       0.0  "
      ]
     },
     "execution_count": 38,
     "metadata": {},
     "output_type": "execute_result"
    }
   ],
   "source": [
    "%%time\n",
    "enc = OrdinalEncoder(handle_unknown='use_encoded_value', unknown_value=-1)\n",
    "enc.fit(features_train)\n",
    "features_train2 = pd.DataFrame(enc.transform(features_train), columns=features_train.columns)\n",
    "features_train2.head()"
   ]
  },
  {
   "cell_type": "code",
   "execution_count": 39,
   "metadata": {},
   "outputs": [
    {
     "name": "stdout",
     "output_type": "stream",
     "text": [
      "CPU times: total: 188 ms\n",
      "Wall time: 179 ms\n"
     ]
    }
   ],
   "source": [
    "%%time\n",
    "features_valid2 = pd.DataFrame(enc.transform(features_valid), columns=features_valid.columns)\n",
    "features_test2 = pd.DataFrame(enc.transform(features_test), columns=features_test.columns)"
   ]
  },
  {
   "cell_type": "code",
   "execution_count": 40,
   "metadata": {},
   "outputs": [
    {
     "data": {
      "text/html": [
       "<div>\n",
       "<style scoped>\n",
       "    .dataframe tbody tr th:only-of-type {\n",
       "        vertical-align: middle;\n",
       "    }\n",
       "\n",
       "    .dataframe tbody tr th {\n",
       "        vertical-align: top;\n",
       "    }\n",
       "\n",
       "    .dataframe thead th {\n",
       "        text-align: right;\n",
       "    }\n",
       "</style>\n",
       "<table border=\"1\" class=\"dataframe\">\n",
       "  <thead>\n",
       "    <tr style=\"text-align: right;\">\n",
       "      <th></th>\n",
       "      <th>VehicleType</th>\n",
       "      <th>RegistrationYear</th>\n",
       "      <th>Gearbox</th>\n",
       "      <th>Power</th>\n",
       "      <th>Model</th>\n",
       "      <th>Kilometer</th>\n",
       "      <th>FuelType</th>\n",
       "      <th>Brand</th>\n",
       "      <th>Repaired</th>\n",
       "    </tr>\n",
       "  </thead>\n",
       "  <tbody>\n",
       "    <tr>\n",
       "      <th>0</th>\n",
       "      <td>0.143912</td>\n",
       "      <td>0.235056</td>\n",
       "      <td>0.353336</td>\n",
       "      <td>-0.133708</td>\n",
       "      <td>-1.153179</td>\n",
       "      <td>0.517919</td>\n",
       "      <td>-1.497870</td>\n",
       "      <td>-1.555470</td>\n",
       "      <td>-0.525608</td>\n",
       "    </tr>\n",
       "    <tr>\n",
       "      <th>1</th>\n",
       "      <td>-0.270029</td>\n",
       "      <td>-0.239935</td>\n",
       "      <td>0.353336</td>\n",
       "      <td>0.153424</td>\n",
       "      <td>-1.389088</td>\n",
       "      <td>0.517919</td>\n",
       "      <td>0.621339</td>\n",
       "      <td>-1.477964</td>\n",
       "      <td>-0.525608</td>\n",
       "    </tr>\n",
       "    <tr>\n",
       "      <th>2</th>\n",
       "      <td>1.385735</td>\n",
       "      <td>-0.873256</td>\n",
       "      <td>0.353336</td>\n",
       "      <td>0.675481</td>\n",
       "      <td>0.807813</td>\n",
       "      <td>0.517919</td>\n",
       "      <td>0.621339</td>\n",
       "      <td>0.227174</td>\n",
       "      <td>-0.525608</td>\n",
       "    </tr>\n",
       "    <tr>\n",
       "      <th>3</th>\n",
       "      <td>-0.270029</td>\n",
       "      <td>-0.239935</td>\n",
       "      <td>0.353336</td>\n",
       "      <td>-0.238119</td>\n",
       "      <td>1.766192</td>\n",
       "      <td>0.517919</td>\n",
       "      <td>0.621339</td>\n",
       "      <td>0.227174</td>\n",
       "      <td>-0.525608</td>\n",
       "    </tr>\n",
       "    <tr>\n",
       "      <th>4</th>\n",
       "      <td>-1.925792</td>\n",
       "      <td>-0.556595</td>\n",
       "      <td>0.353336</td>\n",
       "      <td>-0.812382</td>\n",
       "      <td>1.279630</td>\n",
       "      <td>0.517919</td>\n",
       "      <td>0.621339</td>\n",
       "      <td>0.459693</td>\n",
       "      <td>-0.525608</td>\n",
       "    </tr>\n",
       "  </tbody>\n",
       "</table>\n",
       "</div>"
      ],
      "text/plain": [
       "   VehicleType  RegistrationYear   Gearbox     Power     Model  Kilometer  \\\n",
       "0     0.143912          0.235056  0.353336 -0.133708 -1.153179   0.517919   \n",
       "1    -0.270029         -0.239935  0.353336  0.153424 -1.389088   0.517919   \n",
       "2     1.385735         -0.873256  0.353336  0.675481  0.807813   0.517919   \n",
       "3    -0.270029         -0.239935  0.353336 -0.238119  1.766192   0.517919   \n",
       "4    -1.925792         -0.556595  0.353336 -0.812382  1.279630   0.517919   \n",
       "\n",
       "   FuelType     Brand  Repaired  \n",
       "0 -1.497870 -1.555470 -0.525608  \n",
       "1  0.621339 -1.477964 -0.525608  \n",
       "2  0.621339  0.227174 -0.525608  \n",
       "3  0.621339  0.227174 -0.525608  \n",
       "4  0.621339  0.459693 -0.525608  "
      ]
     },
     "execution_count": 40,
     "metadata": {},
     "output_type": "execute_result"
    }
   ],
   "source": [
    "numeric = features_train.columns\n",
    "\n",
    "scaler = StandardScaler()\n",
    "scaler.fit(features_train2[numeric])\n",
    "features_train2[numeric] = scaler.transform(features_train2[numeric])\n",
    "features_valid2[numeric] = scaler.transform(features_valid2[numeric])\n",
    "features_test2[numeric] = scaler.transform(features_test2[numeric])\n",
    "features_train2.head()"
   ]
  },
  {
   "cell_type": "markdown",
   "metadata": {},
   "source": [
    "#### Решающее дерево"
   ]
  },
  {
   "cell_type": "code",
   "execution_count": 41,
   "metadata": {},
   "outputs": [],
   "source": [
    "result = []\n",
    "for depth in range(1, 100, 5):\n",
    "    model = DecisionTreeRegressor(random_state=state, max_depth=depth) \n",
    "    model.fit(features_train2, target_train)  \n",
    "    predicted_valid = model.predict(features_valid2)\n",
    "    rmse = mean_squared_error(target_valid, predicted_valid)**0.5\n",
    "    result.append([depth, rmse])"
   ]
  },
  {
   "cell_type": "code",
   "execution_count": 42,
   "metadata": {
    "scrolled": true
   },
   "outputs": [
    {
     "data": {
      "text/html": [
       "<div>\n",
       "<style scoped>\n",
       "    .dataframe tbody tr th:only-of-type {\n",
       "        vertical-align: middle;\n",
       "    }\n",
       "\n",
       "    .dataframe tbody tr th {\n",
       "        vertical-align: top;\n",
       "    }\n",
       "\n",
       "    .dataframe thead th {\n",
       "        text-align: right;\n",
       "    }\n",
       "</style>\n",
       "<table border=\"1\" class=\"dataframe\">\n",
       "  <thead>\n",
       "    <tr style=\"text-align: right;\">\n",
       "      <th></th>\n",
       "      <th>depth</th>\n",
       "      <th>rmse</th>\n",
       "    </tr>\n",
       "  </thead>\n",
       "  <tbody>\n",
       "    <tr>\n",
       "      <th>0</th>\n",
       "      <td>1</td>\n",
       "      <td>3328.745890</td>\n",
       "    </tr>\n",
       "    <tr>\n",
       "      <th>1</th>\n",
       "      <td>6</td>\n",
       "      <td>2104.092296</td>\n",
       "    </tr>\n",
       "    <tr>\n",
       "      <th>2</th>\n",
       "      <td>11</td>\n",
       "      <td>1753.952589</td>\n",
       "    </tr>\n",
       "    <tr>\n",
       "      <th>3</th>\n",
       "      <td>16</td>\n",
       "      <td>1683.833292</td>\n",
       "    </tr>\n",
       "    <tr>\n",
       "      <th>4</th>\n",
       "      <td>21</td>\n",
       "      <td>1720.073603</td>\n",
       "    </tr>\n",
       "    <tr>\n",
       "      <th>5</th>\n",
       "      <td>26</td>\n",
       "      <td>1726.327276</td>\n",
       "    </tr>\n",
       "    <tr>\n",
       "      <th>6</th>\n",
       "      <td>31</td>\n",
       "      <td>1720.046832</td>\n",
       "    </tr>\n",
       "    <tr>\n",
       "      <th>7</th>\n",
       "      <td>36</td>\n",
       "      <td>1730.791804</td>\n",
       "    </tr>\n",
       "    <tr>\n",
       "      <th>8</th>\n",
       "      <td>41</td>\n",
       "      <td>1728.621394</td>\n",
       "    </tr>\n",
       "    <tr>\n",
       "      <th>9</th>\n",
       "      <td>46</td>\n",
       "      <td>1728.621394</td>\n",
       "    </tr>\n",
       "    <tr>\n",
       "      <th>10</th>\n",
       "      <td>51</td>\n",
       "      <td>1728.621394</td>\n",
       "    </tr>\n",
       "    <tr>\n",
       "      <th>11</th>\n",
       "      <td>56</td>\n",
       "      <td>1728.621394</td>\n",
       "    </tr>\n",
       "    <tr>\n",
       "      <th>12</th>\n",
       "      <td>61</td>\n",
       "      <td>1728.621394</td>\n",
       "    </tr>\n",
       "    <tr>\n",
       "      <th>13</th>\n",
       "      <td>66</td>\n",
       "      <td>1728.621394</td>\n",
       "    </tr>\n",
       "    <tr>\n",
       "      <th>14</th>\n",
       "      <td>71</td>\n",
       "      <td>1728.621394</td>\n",
       "    </tr>\n",
       "    <tr>\n",
       "      <th>15</th>\n",
       "      <td>76</td>\n",
       "      <td>1728.621394</td>\n",
       "    </tr>\n",
       "    <tr>\n",
       "      <th>16</th>\n",
       "      <td>81</td>\n",
       "      <td>1728.621394</td>\n",
       "    </tr>\n",
       "    <tr>\n",
       "      <th>17</th>\n",
       "      <td>86</td>\n",
       "      <td>1728.621394</td>\n",
       "    </tr>\n",
       "    <tr>\n",
       "      <th>18</th>\n",
       "      <td>91</td>\n",
       "      <td>1728.621394</td>\n",
       "    </tr>\n",
       "    <tr>\n",
       "      <th>19</th>\n",
       "      <td>96</td>\n",
       "      <td>1728.621394</td>\n",
       "    </tr>\n",
       "  </tbody>\n",
       "</table>\n",
       "</div>"
      ],
      "text/plain": [
       "    depth         rmse\n",
       "0       1  3328.745890\n",
       "1       6  2104.092296\n",
       "2      11  1753.952589\n",
       "3      16  1683.833292\n",
       "4      21  1720.073603\n",
       "5      26  1726.327276\n",
       "6      31  1720.046832\n",
       "7      36  1730.791804\n",
       "8      41  1728.621394\n",
       "9      46  1728.621394\n",
       "10     51  1728.621394\n",
       "11     56  1728.621394\n",
       "12     61  1728.621394\n",
       "13     66  1728.621394\n",
       "14     71  1728.621394\n",
       "15     76  1728.621394\n",
       "16     81  1728.621394\n",
       "17     86  1728.621394\n",
       "18     91  1728.621394\n",
       "19     96  1728.621394"
      ]
     },
     "execution_count": 42,
     "metadata": {},
     "output_type": "execute_result"
    }
   ],
   "source": [
    "result = pd.DataFrame(data=result, columns=['depth', 'rmse'])\n",
    "result"
   ]
  },
  {
   "cell_type": "markdown",
   "metadata": {},
   "source": [
    "Наилучший результат у модели с глубиной дерева 16.\n",
    "Первый возможно подходящий результут у модели с глубиной дерева 6. Посмотрим на время обучения и предсказания данных моделей"
   ]
  },
  {
   "cell_type": "code",
   "execution_count": 43,
   "metadata": {},
   "outputs": [],
   "source": [
    "model = DecisionTreeRegressor(random_state=state, max_depth=6)"
   ]
  },
  {
   "cell_type": "code",
   "execution_count": 44,
   "metadata": {},
   "outputs": [
    {
     "name": "stdout",
     "output_type": "stream",
     "text": [
      "CPU times: total: 219 ms\n",
      "Wall time: 220 ms\n"
     ]
    },
    {
     "data": {
      "text/plain": [
       "DecisionTreeRegressor(max_depth=6, random_state=12345)"
      ]
     },
     "execution_count": 44,
     "metadata": {},
     "output_type": "execute_result"
    }
   ],
   "source": [
    "%%time\n",
    "model.fit(features_train2, target_train) "
   ]
  },
  {
   "cell_type": "code",
   "execution_count": 45,
   "metadata": {},
   "outputs": [
    {
     "name": "stdout",
     "output_type": "stream",
     "text": [
      "CPU times: total: 0 ns\n",
      "Wall time: 6 ms\n"
     ]
    }
   ],
   "source": [
    "%%time\n",
    "predicted_valid = model.predict(features_valid2)"
   ]
  },
  {
   "cell_type": "code",
   "execution_count": 46,
   "metadata": {},
   "outputs": [],
   "source": [
    "rmse = mean_squared_error(target_valid, predicted_valid)**0.5\n",
    "result_models.append(['Решающее дерево', 'depth = 6', rmse, '220ms', '6ms', model])"
   ]
  },
  {
   "cell_type": "code",
   "execution_count": 47,
   "metadata": {},
   "outputs": [],
   "source": [
    "model = DecisionTreeRegressor(random_state=state, max_depth=16)"
   ]
  },
  {
   "cell_type": "code",
   "execution_count": 48,
   "metadata": {},
   "outputs": [
    {
     "name": "stdout",
     "output_type": "stream",
     "text": [
      "CPU times: total: 406 ms\n",
      "Wall time: 413 ms\n"
     ]
    },
    {
     "data": {
      "text/plain": [
       "DecisionTreeRegressor(max_depth=16, random_state=12345)"
      ]
     },
     "execution_count": 48,
     "metadata": {},
     "output_type": "execute_result"
    }
   ],
   "source": [
    "%%time\n",
    "model.fit(features_train2, target_train) "
   ]
  },
  {
   "cell_type": "code",
   "execution_count": 49,
   "metadata": {},
   "outputs": [
    {
     "name": "stdout",
     "output_type": "stream",
     "text": [
      "CPU times: total: 31.2 ms\n",
      "Wall time: 15 ms\n"
     ]
    }
   ],
   "source": [
    "%%time\n",
    "predicted_valid = model.predict(features_valid2)"
   ]
  },
  {
   "cell_type": "code",
   "execution_count": 50,
   "metadata": {},
   "outputs": [],
   "source": [
    "rmse = mean_squared_error(target_valid, predicted_valid)**0.5\n",
    "result_models.append(['Решающее дерево', 'depth = 16', rmse, '413ms', '15ms', model])"
   ]
  },
  {
   "cell_type": "markdown",
   "metadata": {},
   "source": [
    "#### Случайный лес"
   ]
  },
  {
   "cell_type": "code",
   "execution_count": 51,
   "metadata": {},
   "outputs": [],
   "source": [
    "result = []\n",
    "for est in [1, 100, 200, 300]:\n",
    "    model = RandomForestRegressor(random_state=12345, n_estimators=est) \n",
    "    model.fit(features_train2, target_train)  \n",
    "    predicted_valid = model.predict(features_valid2)\n",
    "    rmse = mean_squared_error(target_valid, predicted_valid)**0.5\n",
    "    result.append([est, rmse])"
   ]
  },
  {
   "cell_type": "code",
   "execution_count": 52,
   "metadata": {
    "scrolled": true
   },
   "outputs": [
    {
     "data": {
      "text/html": [
       "<div>\n",
       "<style scoped>\n",
       "    .dataframe tbody tr th:only-of-type {\n",
       "        vertical-align: middle;\n",
       "    }\n",
       "\n",
       "    .dataframe tbody tr th {\n",
       "        vertical-align: top;\n",
       "    }\n",
       "\n",
       "    .dataframe thead th {\n",
       "        text-align: right;\n",
       "    }\n",
       "</style>\n",
       "<table border=\"1\" class=\"dataframe\">\n",
       "  <thead>\n",
       "    <tr style=\"text-align: right;\">\n",
       "      <th></th>\n",
       "      <th>est</th>\n",
       "      <th>rmse</th>\n",
       "    </tr>\n",
       "  </thead>\n",
       "  <tbody>\n",
       "    <tr>\n",
       "      <th>0</th>\n",
       "      <td>1</td>\n",
       "      <td>1827.442310</td>\n",
       "    </tr>\n",
       "    <tr>\n",
       "      <th>1</th>\n",
       "      <td>100</td>\n",
       "      <td>1443.847791</td>\n",
       "    </tr>\n",
       "    <tr>\n",
       "      <th>2</th>\n",
       "      <td>200</td>\n",
       "      <td>1442.191600</td>\n",
       "    </tr>\n",
       "    <tr>\n",
       "      <th>3</th>\n",
       "      <td>300</td>\n",
       "      <td>1441.826452</td>\n",
       "    </tr>\n",
       "  </tbody>\n",
       "</table>\n",
       "</div>"
      ],
      "text/plain": [
       "   est         rmse\n",
       "0    1  1827.442310\n",
       "1  100  1443.847791\n",
       "2  200  1442.191600\n",
       "3  300  1441.826452"
      ]
     },
     "execution_count": 52,
     "metadata": {},
     "output_type": "execute_result"
    }
   ],
   "source": [
    "result = pd.DataFrame(data=result, columns=['est', 'rmse'])\n",
    "result"
   ]
  },
  {
   "cell_type": "markdown",
   "metadata": {},
   "source": [
    "Проверим время выполнения модели с количеством деревьев - 100"
   ]
  },
  {
   "cell_type": "code",
   "execution_count": 53,
   "metadata": {},
   "outputs": [],
   "source": [
    "model = RandomForestRegressor(random_state=12345, n_estimators=100)"
   ]
  },
  {
   "cell_type": "code",
   "execution_count": 54,
   "metadata": {},
   "outputs": [
    {
     "name": "stdout",
     "output_type": "stream",
     "text": [
      "CPU times: total: 38.3 s\n",
      "Wall time: 38.5 s\n"
     ]
    },
    {
     "data": {
      "text/plain": [
       "RandomForestRegressor(random_state=12345)"
      ]
     },
     "execution_count": 54,
     "metadata": {},
     "output_type": "execute_result"
    }
   ],
   "source": [
    "%%time\n",
    "model.fit(features_train2, target_train)"
   ]
  },
  {
   "cell_type": "code",
   "execution_count": 55,
   "metadata": {},
   "outputs": [
    {
     "name": "stdout",
     "output_type": "stream",
     "text": [
      "CPU times: total: 1.83 s\n",
      "Wall time: 1.83 s\n"
     ]
    }
   ],
   "source": [
    "%%time\n",
    "predicted_valid = model.predict(features_valid2)"
   ]
  },
  {
   "cell_type": "code",
   "execution_count": 56,
   "metadata": {},
   "outputs": [],
   "source": [
    "rmse = mean_squared_error(target_valid, predicted_valid)**0.5\n",
    "result_models.append(['Случайный лес', 'est = 100', rmse, '38.5s', '1.83s', model])"
   ]
  },
  {
   "cell_type": "markdown",
   "metadata": {},
   "source": [
    "Значение rmse у моделей случайного леса значительно лучше, чем у решающего дерева, но время выполнения очень долгое, что не подходит для достижения цели"
   ]
  },
  {
   "cell_type": "markdown",
   "metadata": {},
   "source": [
    "#### Градиентный бустинг"
   ]
  },
  {
   "cell_type": "markdown",
   "metadata": {},
   "source": [
    "##### CatBoots"
   ]
  },
  {
   "cell_type": "code",
   "execution_count": 57,
   "metadata": {},
   "outputs": [
    {
     "data": {
      "text/html": [
       "<div>\n",
       "<style scoped>\n",
       "    .dataframe tbody tr th:only-of-type {\n",
       "        vertical-align: middle;\n",
       "    }\n",
       "\n",
       "    .dataframe tbody tr th {\n",
       "        vertical-align: top;\n",
       "    }\n",
       "\n",
       "    .dataframe thead th {\n",
       "        text-align: right;\n",
       "    }\n",
       "</style>\n",
       "<table border=\"1\" class=\"dataframe\">\n",
       "  <thead>\n",
       "    <tr style=\"text-align: right;\">\n",
       "      <th></th>\n",
       "      <th>VehicleType</th>\n",
       "      <th>RegistrationYear</th>\n",
       "      <th>Gearbox</th>\n",
       "      <th>Power</th>\n",
       "      <th>Model</th>\n",
       "      <th>Kilometer</th>\n",
       "      <th>FuelType</th>\n",
       "      <th>Brand</th>\n",
       "      <th>Repaired</th>\n",
       "    </tr>\n",
       "  </thead>\n",
       "  <tbody>\n",
       "    <tr>\n",
       "      <th>162369</th>\n",
       "      <td>small</td>\n",
       "      <td>0.235056</td>\n",
       "      <td>manual</td>\n",
       "      <td>-0.133643</td>\n",
       "      <td>a3</td>\n",
       "      <td>0.594873</td>\n",
       "      <td>gasoline</td>\n",
       "      <td>audi</td>\n",
       "      <td>no</td>\n",
       "    </tr>\n",
       "    <tr>\n",
       "      <th>94519</th>\n",
       "      <td>sedan</td>\n",
       "      <td>-0.239935</td>\n",
       "      <td>manual</td>\n",
       "      <td>0.153455</td>\n",
       "      <td>3er</td>\n",
       "      <td>0.594873</td>\n",
       "      <td>petrol</td>\n",
       "      <td>bmw</td>\n",
       "      <td>no</td>\n",
       "    </tr>\n",
       "    <tr>\n",
       "      <th>94232</th>\n",
       "      <td>wagon</td>\n",
       "      <td>-0.873256</td>\n",
       "      <td>manual</td>\n",
       "      <td>0.675452</td>\n",
       "      <td>omega</td>\n",
       "      <td>0.594873</td>\n",
       "      <td>petrol</td>\n",
       "      <td>opel</td>\n",
       "      <td>no</td>\n",
       "    </tr>\n",
       "    <tr>\n",
       "      <th>255</th>\n",
       "      <td>sedan</td>\n",
       "      <td>-0.239935</td>\n",
       "      <td>manual</td>\n",
       "      <td>-0.238042</td>\n",
       "      <td>vectra</td>\n",
       "      <td>0.594873</td>\n",
       "      <td>petrol</td>\n",
       "      <td>opel</td>\n",
       "      <td>no</td>\n",
       "    </tr>\n",
       "    <tr>\n",
       "      <th>6507</th>\n",
       "      <td>bus</td>\n",
       "      <td>-0.556595</td>\n",
       "      <td>manual</td>\n",
       "      <td>-0.812239</td>\n",
       "      <td>scenic</td>\n",
       "      <td>0.594873</td>\n",
       "      <td>petrol</td>\n",
       "      <td>renault</td>\n",
       "      <td>no</td>\n",
       "    </tr>\n",
       "  </tbody>\n",
       "</table>\n",
       "</div>"
      ],
      "text/plain": [
       "       VehicleType  RegistrationYear Gearbox     Power   Model  Kilometer  \\\n",
       "162369       small          0.235056  manual -0.133643      a3   0.594873   \n",
       "94519        sedan         -0.239935  manual  0.153455     3er   0.594873   \n",
       "94232        wagon         -0.873256  manual  0.675452   omega   0.594873   \n",
       "255          sedan         -0.239935  manual -0.238042  vectra   0.594873   \n",
       "6507           bus         -0.556595  manual -0.812239  scenic   0.594873   \n",
       "\n",
       "        FuelType    Brand Repaired  \n",
       "162369  gasoline     audi       no  \n",
       "94519     petrol      bmw       no  \n",
       "94232     petrol     opel       no  \n",
       "255       petrol     opel       no  \n",
       "6507      petrol  renault       no  "
      ]
     },
     "execution_count": 57,
     "metadata": {},
     "output_type": "execute_result"
    }
   ],
   "source": [
    "numeric = ['RegistrationYear', 'Power', 'Kilometer']\n",
    "\n",
    "scaler = StandardScaler()\n",
    "scaler.fit(features_train[numeric])\n",
    "features_train3 = features_train.copy()\n",
    "features_valid3 = features_valid.copy()\n",
    "features_test3 = features_test.copy()\n",
    "features_train3[numeric] = scaler.transform(features_train3[numeric])\n",
    "features_valid3[numeric] = scaler.transform(features_valid3[numeric])\n",
    "features_test3[numeric] = scaler.transform(features_test3[numeric])\n",
    "features_train3.head()"
   ]
  },
  {
   "cell_type": "code",
   "execution_count": 58,
   "metadata": {},
   "outputs": [],
   "source": [
    "model = CatBoostRegressor(loss_function='RMSE', iterations=200, cat_features=category)"
   ]
  },
  {
   "cell_type": "code",
   "execution_count": 59,
   "metadata": {},
   "outputs": [
    {
     "name": "stdout",
     "output_type": "stream",
     "text": [
      "Learning rate set to 0.338123\n",
      "0:\tlearn: 3306.0158577\ttotal: 291ms\tremaining: 57.9s\n",
      "25:\tlearn: 1592.6879057\ttotal: 3.18s\tremaining: 21.3s\n",
      "50:\tlearn: 1518.9874336\ttotal: 6.04s\tremaining: 17.7s\n",
      "75:\tlearn: 1475.7505663\ttotal: 8.92s\tremaining: 14.6s\n",
      "100:\tlearn: 1452.3034349\ttotal: 11.8s\tremaining: 11.5s\n",
      "125:\tlearn: 1436.0466248\ttotal: 14.6s\tremaining: 8.6s\n",
      "150:\tlearn: 1422.6562817\ttotal: 17.6s\tremaining: 5.7s\n",
      "175:\tlearn: 1408.4723023\ttotal: 20.5s\tremaining: 2.79s\n",
      "199:\tlearn: 1399.6288334\ttotal: 23.1s\tremaining: 0us\n",
      "CPU times: total: 2min 3s\n",
      "Wall time: 23.9 s\n"
     ]
    },
    {
     "data": {
      "text/plain": [
       "<catboost.core.CatBoostRegressor at 0x1cfced3c760>"
      ]
     },
     "execution_count": 59,
     "metadata": {},
     "output_type": "execute_result"
    }
   ],
   "source": [
    "%%time\n",
    "model.fit(features_train3, target_train, verbose=25)"
   ]
  },
  {
   "cell_type": "code",
   "execution_count": 60,
   "metadata": {},
   "outputs": [
    {
     "name": "stdout",
     "output_type": "stream",
     "text": [
      "CPU times: total: 375 ms\n",
      "Wall time: 153 ms\n"
     ]
    }
   ],
   "source": [
    "%%time\n",
    "predicted_valid = model.predict(features_valid3)"
   ]
  },
  {
   "cell_type": "code",
   "execution_count": 61,
   "metadata": {},
   "outputs": [],
   "source": [
    "rmse = mean_squared_error(target_valid, predicted_valid)**0.5\n",
    "result_models.append(['CatBoots', 'iterations = 500', rmse, '23.9s', '153ms', model])"
   ]
  },
  {
   "cell_type": "markdown",
   "metadata": {},
   "source": [
    "##### LightGBM"
   ]
  },
  {
   "cell_type": "code",
   "execution_count": 62,
   "metadata": {},
   "outputs": [],
   "source": [
    "features_train4 = features_train3.copy()\n",
    "features_valid4 = features_valid3.copy()\n",
    "features_test4 = features_test3.copy()\n",
    "features_train4[category] = features_train4[category].astype('category')\n",
    "features_valid4[category] = features_valid4[category].astype('category')\n",
    "features_test4[category] = features_test4[category].astype('category')"
   ]
  },
  {
   "cell_type": "code",
   "execution_count": 63,
   "metadata": {},
   "outputs": [],
   "source": [
    "result = []\n",
    "for leave in [100, 200, 300]:\n",
    "    model = lightgbm.LGBMRegressor(random_state=state, num_leaves=leave)\n",
    "    model.fit(features_train4, target_train)  \n",
    "    predicted_valid = model.predict(features_valid4)\n",
    "    rmse = mean_squared_error(target_valid, predicted_valid)**0.5\n",
    "    result.append([leave, rmse])"
   ]
  },
  {
   "cell_type": "code",
   "execution_count": 64,
   "metadata": {},
   "outputs": [
    {
     "data": {
      "text/html": [
       "<div>\n",
       "<style scoped>\n",
       "    .dataframe tbody tr th:only-of-type {\n",
       "        vertical-align: middle;\n",
       "    }\n",
       "\n",
       "    .dataframe tbody tr th {\n",
       "        vertical-align: top;\n",
       "    }\n",
       "\n",
       "    .dataframe thead th {\n",
       "        text-align: right;\n",
       "    }\n",
       "</style>\n",
       "<table border=\"1\" class=\"dataframe\">\n",
       "  <thead>\n",
       "    <tr style=\"text-align: right;\">\n",
       "      <th></th>\n",
       "      <th>leave</th>\n",
       "      <th>rmse</th>\n",
       "    </tr>\n",
       "  </thead>\n",
       "  <tbody>\n",
       "    <tr>\n",
       "      <th>0</th>\n",
       "      <td>100</td>\n",
       "      <td>1371.564885</td>\n",
       "    </tr>\n",
       "    <tr>\n",
       "      <th>1</th>\n",
       "      <td>200</td>\n",
       "      <td>1351.563969</td>\n",
       "    </tr>\n",
       "    <tr>\n",
       "      <th>2</th>\n",
       "      <td>300</td>\n",
       "      <td>1346.947234</td>\n",
       "    </tr>\n",
       "  </tbody>\n",
       "</table>\n",
       "</div>"
      ],
      "text/plain": [
       "   leave         rmse\n",
       "0    100  1371.564885\n",
       "1    200  1351.563969\n",
       "2    300  1346.947234"
      ]
     },
     "execution_count": 64,
     "metadata": {},
     "output_type": "execute_result"
    }
   ],
   "source": [
    "result = pd.DataFrame(data=result, columns=['leave', 'rmse'])\n",
    "result"
   ]
  },
  {
   "cell_type": "code",
   "execution_count": 65,
   "metadata": {},
   "outputs": [],
   "source": [
    "result = []\n",
    "for est in [100, 200, 300]:\n",
    "    model = lightgbm.LGBMRegressor(random_state=state, num_leaves=300, n_estimators=est)\n",
    "    model.fit(features_train4, target_train)  \n",
    "    predicted_valid = model.predict(features_valid4)\n",
    "    rmse = mean_squared_error(target_valid, predicted_valid)**0.5\n",
    "    result.append([est, rmse])"
   ]
  },
  {
   "cell_type": "code",
   "execution_count": 66,
   "metadata": {},
   "outputs": [
    {
     "data": {
      "text/html": [
       "<div>\n",
       "<style scoped>\n",
       "    .dataframe tbody tr th:only-of-type {\n",
       "        vertical-align: middle;\n",
       "    }\n",
       "\n",
       "    .dataframe tbody tr th {\n",
       "        vertical-align: top;\n",
       "    }\n",
       "\n",
       "    .dataframe thead th {\n",
       "        text-align: right;\n",
       "    }\n",
       "</style>\n",
       "<table border=\"1\" class=\"dataframe\">\n",
       "  <thead>\n",
       "    <tr style=\"text-align: right;\">\n",
       "      <th></th>\n",
       "      <th>est</th>\n",
       "      <th>rmse</th>\n",
       "    </tr>\n",
       "  </thead>\n",
       "  <tbody>\n",
       "    <tr>\n",
       "      <th>0</th>\n",
       "      <td>100</td>\n",
       "      <td>1346.947234</td>\n",
       "    </tr>\n",
       "    <tr>\n",
       "      <th>1</th>\n",
       "      <td>200</td>\n",
       "      <td>1340.849791</td>\n",
       "    </tr>\n",
       "    <tr>\n",
       "      <th>2</th>\n",
       "      <td>300</td>\n",
       "      <td>1340.932450</td>\n",
       "    </tr>\n",
       "  </tbody>\n",
       "</table>\n",
       "</div>"
      ],
      "text/plain": [
       "   est         rmse\n",
       "0  100  1346.947234\n",
       "1  200  1340.849791\n",
       "2  300  1340.932450"
      ]
     },
     "execution_count": 66,
     "metadata": {},
     "output_type": "execute_result"
    }
   ],
   "source": [
    "result = pd.DataFrame(data=result, columns=['est', 'rmse'])\n",
    "result"
   ]
  },
  {
   "cell_type": "code",
   "execution_count": 67,
   "metadata": {},
   "outputs": [],
   "source": [
    "model = lightgbm.LGBMRegressor(random_state=state, num_leaves=300, n_estimators=200)"
   ]
  },
  {
   "cell_type": "code",
   "execution_count": 68,
   "metadata": {},
   "outputs": [
    {
     "name": "stdout",
     "output_type": "stream",
     "text": [
      "CPU times: total: 17.2 s\n",
      "Wall time: 2.27 s\n"
     ]
    },
    {
     "data": {
      "text/plain": [
       "LGBMRegressor(n_estimators=200, num_leaves=300, random_state=12345)"
      ]
     },
     "execution_count": 68,
     "metadata": {},
     "output_type": "execute_result"
    }
   ],
   "source": [
    "%%time\n",
    "model.fit(features_train4, target_train)"
   ]
  },
  {
   "cell_type": "code",
   "execution_count": 69,
   "metadata": {},
   "outputs": [
    {
     "name": "stdout",
     "output_type": "stream",
     "text": [
      "CPU times: total: 2.53 s\n",
      "Wall time: 328 ms\n"
     ]
    }
   ],
   "source": [
    "%%time\n",
    "predicted_valid = model.predict(features_valid4)"
   ]
  },
  {
   "cell_type": "code",
   "execution_count": 70,
   "metadata": {},
   "outputs": [],
   "source": [
    "rmse = mean_squared_error(target_valid, predicted_valid)**0.5\n",
    "result_models.append(['LightGBM', 'leave=300, est=200', rmse, '2.27s', '328ms', model])"
   ]
  },
  {
   "cell_type": "markdown",
   "metadata": {},
   "source": [
    "### Промежуточные выводы:\n",
    "1. Обучены 6 моделей с различными гиперпараметрами\n",
    "2. Константная модель и линейная регрессия показали наихудшие результаты по метрике rmse\n",
    "3. Остальные модели показали хорошие результаты метрики rmse"
   ]
  },
  {
   "cell_type": "markdown",
   "metadata": {},
   "source": [
    "## Анализ моделей"
   ]
  },
  {
   "cell_type": "markdown",
   "metadata": {},
   "source": [
    "### Сравнение моделей по поставленным критериям"
   ]
  },
  {
   "cell_type": "code",
   "execution_count": 71,
   "metadata": {},
   "outputs": [
    {
     "data": {
      "text/html": [
       "<div>\n",
       "<style scoped>\n",
       "    .dataframe tbody tr th:only-of-type {\n",
       "        vertical-align: middle;\n",
       "    }\n",
       "\n",
       "    .dataframe tbody tr th {\n",
       "        vertical-align: top;\n",
       "    }\n",
       "\n",
       "    .dataframe thead th {\n",
       "        text-align: right;\n",
       "    }\n",
       "</style>\n",
       "<table border=\"1\" class=\"dataframe\">\n",
       "  <thead>\n",
       "    <tr style=\"text-align: right;\">\n",
       "      <th></th>\n",
       "      <th>Название модели</th>\n",
       "      <th>Гиперпараметры</th>\n",
       "      <th>RMSE</th>\n",
       "      <th>Время обучения</th>\n",
       "      <th>Время предсказания</th>\n",
       "      <th>Модель</th>\n",
       "    </tr>\n",
       "  </thead>\n",
       "  <tbody>\n",
       "    <tr>\n",
       "      <th>0</th>\n",
       "      <td>Константная модель</td>\n",
       "      <td>None</td>\n",
       "      <td>4.204620e+03</td>\n",
       "      <td>None</td>\n",
       "      <td>0ns</td>\n",
       "      <td>None</td>\n",
       "    </tr>\n",
       "    <tr>\n",
       "      <th>1</th>\n",
       "      <td>Линейная регрессия</td>\n",
       "      <td>None</td>\n",
       "      <td>2.551239e+12</td>\n",
       "      <td>2.59s</td>\n",
       "      <td>277ms</td>\n",
       "      <td>LinearRegression()</td>\n",
       "    </tr>\n",
       "    <tr>\n",
       "      <th>2</th>\n",
       "      <td>Решающее дерево</td>\n",
       "      <td>depth = 6</td>\n",
       "      <td>2.104092e+03</td>\n",
       "      <td>220ms</td>\n",
       "      <td>6ms</td>\n",
       "      <td>DecisionTreeRegressor(max_depth=6, random_stat...</td>\n",
       "    </tr>\n",
       "    <tr>\n",
       "      <th>3</th>\n",
       "      <td>Решающее дерево</td>\n",
       "      <td>depth = 16</td>\n",
       "      <td>1.683833e+03</td>\n",
       "      <td>413ms</td>\n",
       "      <td>15ms</td>\n",
       "      <td>DecisionTreeRegressor(max_depth=16, random_sta...</td>\n",
       "    </tr>\n",
       "    <tr>\n",
       "      <th>4</th>\n",
       "      <td>Случайный лес</td>\n",
       "      <td>est = 100</td>\n",
       "      <td>1.443848e+03</td>\n",
       "      <td>38.5s</td>\n",
       "      <td>1.83s</td>\n",
       "      <td>(DecisionTreeRegressor(max_features='auto', ra...</td>\n",
       "    </tr>\n",
       "    <tr>\n",
       "      <th>5</th>\n",
       "      <td>CatBoots</td>\n",
       "      <td>iterations = 500</td>\n",
       "      <td>1.432722e+03</td>\n",
       "      <td>23.9s</td>\n",
       "      <td>153ms</td>\n",
       "      <td>&lt;catboost.core.CatBoostRegressor object at 0x0...</td>\n",
       "    </tr>\n",
       "    <tr>\n",
       "      <th>6</th>\n",
       "      <td>LightGBM</td>\n",
       "      <td>leave=300, est=200</td>\n",
       "      <td>1.340850e+03</td>\n",
       "      <td>2.27s</td>\n",
       "      <td>328ms</td>\n",
       "      <td>LGBMRegressor(n_estimators=200, num_leaves=300...</td>\n",
       "    </tr>\n",
       "  </tbody>\n",
       "</table>\n",
       "</div>"
      ],
      "text/plain": [
       "      Название модели      Гиперпараметры          RMSE Время обучения  \\\n",
       "0  Константная модель                None  4.204620e+03           None   \n",
       "1  Линейная регрессия                None  2.551239e+12          2.59s   \n",
       "2     Решающее дерево           depth = 6  2.104092e+03          220ms   \n",
       "3     Решающее дерево          depth = 16  1.683833e+03          413ms   \n",
       "4       Случайный лес           est = 100  1.443848e+03          38.5s   \n",
       "5            CatBoots    iterations = 500  1.432722e+03          23.9s   \n",
       "6            LightGBM  leave=300, est=200  1.340850e+03          2.27s   \n",
       "\n",
       "  Время предсказания                                             Модель  \n",
       "0                0ns                                               None  \n",
       "1              277ms                                 LinearRegression()  \n",
       "2                6ms  DecisionTreeRegressor(max_depth=6, random_stat...  \n",
       "3               15ms  DecisionTreeRegressor(max_depth=16, random_sta...  \n",
       "4              1.83s  (DecisionTreeRegressor(max_features='auto', ra...  \n",
       "5              153ms  <catboost.core.CatBoostRegressor object at 0x0...  \n",
       "6              328ms  LGBMRegressor(n_estimators=200, num_leaves=300...  "
      ]
     },
     "execution_count": 71,
     "metadata": {},
     "output_type": "execute_result"
    }
   ],
   "source": [
    "result = pd.DataFrame(data=result_models, \n",
    "                      columns=['Название модели', 'Гиперпараметры', 'RMSE', 'Время обучения', 'Время предсказания', 'Модель'])\n",
    "result"
   ]
  },
  {
   "cell_type": "markdown",
   "metadata": {},
   "source": [
    "По метрике RMSE наилучшая модель LightGBM с гиперпараметрами leave=300, est=200.\n",
    "\n",
    "По времени обучения и предсказания наилучшая модель решающее дерево с гиперпаметрами depth=6.\n",
    "\n",
    "Но у этих моделей значительно выше второй рассматриваемый параметр.\n",
    "\n",
    "У модели решающее дерево (depth=16) значение метрики RMSE немного выше, чем у LightGBM, зато время обучения гораздо меньше. Будем считать, что данная модель наиболее удачно подходит для решения поставленной задачи. Проверим выбранную модель на тестовой выборке."
   ]
  },
  {
   "cell_type": "code",
   "execution_count": 72,
   "metadata": {},
   "outputs": [],
   "source": [
    "final_model = result.loc[3]"
   ]
  },
  {
   "cell_type": "code",
   "execution_count": 73,
   "metadata": {},
   "outputs": [
    {
     "name": "stdout",
     "output_type": "stream",
     "text": [
      "CPU times: total: 15.6 ms\n",
      "Wall time: 33.1 ms\n"
     ]
    }
   ],
   "source": [
    "%%time\n",
    "predicted_test = final_model['Модель'].predict(features_test2)"
   ]
  },
  {
   "cell_type": "code",
   "execution_count": 74,
   "metadata": {},
   "outputs": [
    {
     "data": {
      "text/plain": [
       "Название модели                                              Решающее дерево\n",
       "Гиперпараметры                                                    depth = 16\n",
       "RMSE                                                             1681.352608\n",
       "Время обучения                                                         413ms\n",
       "Время предсказания                                                      15ms\n",
       "Модель                     DecisionTreeRegressor(max_depth=16, random_sta...\n",
       "время предсказания тест                                               33.1ms\n",
       "Name: 3, dtype: object"
      ]
     },
     "execution_count": 74,
     "metadata": {},
     "output_type": "execute_result"
    }
   ],
   "source": [
    "final_model['RMSE'] = mean_squared_error(target_test, predicted_test)**0.5\n",
    "final_model['время предсказания тест'] = '33.1ms'\n",
    "final_model"
   ]
  },
  {
   "cell_type": "markdown",
   "metadata": {},
   "source": [
    "### Промежуточные выводы:\n",
    "1. Рекомендованная модель CatBoot с гиперпараметрами iterations=500. Значение метрики RMSE на тестовой выборке равно 1496, что значительно меньше необходимого значения."
   ]
  },
  {
   "cell_type": "markdown",
   "metadata": {},
   "source": [
    "## Итоговые выводы:\n",
    "\n",
    "### Ход работы:\n",
    "1. Изучен набор данных, устранены пропущенные значения и удалены ненужные параметры.\n",
    "2. Произведен поиск дубликатов, данные очищены от аномальных значений.\n",
    "3. Набор данных был разделен на три выборки: обучающая выборка, валидационная выборка и тестовая выборка в соотношении 3:1:1 соответственно.\n",
    "4. Проведено кодирование и масштабирование признаков.\n",
    "5. Исследована константная модель.\n",
    "6. Исследована модель линейной регрессии.\n",
    "7. Исследована модель решающее дерево с различными гипперпараметрами от 1 до 100 с шагом 5\n",
    "8. Исследована модель случайный лес с различными гипперпараметрами 1, 100, 200 и 300\n",
    "9. Исследованы две модели градиентного бустинга:\n",
    "- С помощью библиотеки CatBoots и iterations=200.\n",
    "- С помощью библиотеки LightGBM и гиперпаметрами leave = 100, 200, 300, est 100, 200, 300 \n",
    "10. Для наилучших моделей посчитано время обучения и предсказания.\n",
    "11. Полученные результаты сведены в таблицу.\n",
    "12. Выбрана наилучшая модели и протестирована на тестовых данных.\n",
    "\n",
    "### Результаты:\n",
    "1. Наилучшей моделью принимаем модель под номером 3 в сводной таблице: модель решающее дерево с гиперпараметрами depth = 16\n",
    "2. Результаты на тестовой выборке представлены ниже\n",
    "|                         |               |\n",
    "|-------------------------|---------------|\n",
    "|Имя модели               |Решающее дерево|\n",
    "|iterations               |16             |\n",
    "|RMSE                     |1681.352608    |\n",
    "|Время обучения           |388ms          |\n",
    "|Время предсказания       |13.3ms         |\n",
    "\n",
    "Так значение метрики RMSE менее 2500 и время обучения не критически большое, можно считать, что поставленная цель достигнута. "
   ]
  }
 ],
 "metadata": {
  "ExecuteTimeLog": [
   {
    "duration": 389,
    "start_time": "2023-03-04T11:29:53.666Z"
   },
   {
    "duration": 3,
    "start_time": "2023-03-04T11:30:25.196Z"
   },
   {
    "duration": 1101,
    "start_time": "2023-03-04T11:30:25.200Z"
   },
   {
    "duration": 932,
    "start_time": "2023-03-04T11:30:33.810Z"
   },
   {
    "duration": 749,
    "start_time": "2023-03-04T11:47:55.344Z"
   },
   {
    "duration": 178,
    "start_time": "2023-03-04T11:59:42.449Z"
   },
   {
    "duration": 125,
    "start_time": "2023-03-04T12:02:05.097Z"
   },
   {
    "duration": 647,
    "start_time": "2023-03-04T12:04:37.745Z"
   },
   {
    "duration": 42,
    "start_time": "2023-03-04T12:09:18.201Z"
   },
   {
    "duration": 23,
    "start_time": "2023-03-04T12:09:26.106Z"
   },
   {
    "duration": 109,
    "start_time": "2023-03-04T12:10:09.758Z"
   },
   {
    "duration": 84,
    "start_time": "2023-03-04T12:10:11.065Z"
   },
   {
    "duration": 92,
    "start_time": "2023-03-04T12:17:33.364Z"
   },
   {
    "duration": 82,
    "start_time": "2023-03-04T12:17:36.333Z"
   },
   {
    "duration": 88,
    "start_time": "2023-03-04T12:17:37.077Z"
   },
   {
    "duration": 150,
    "start_time": "2023-03-04T12:18:00.508Z"
   },
   {
    "duration": 124,
    "start_time": "2023-03-04T12:18:21.134Z"
   },
   {
    "duration": 130,
    "start_time": "2023-03-04T12:18:32.318Z"
   },
   {
    "duration": 198,
    "start_time": "2023-03-04T12:18:39.630Z"
   },
   {
    "duration": 188,
    "start_time": "2023-03-04T12:20:13.257Z"
   },
   {
    "duration": 42,
    "start_time": "2023-03-04T12:21:10.732Z"
   },
   {
    "duration": 42,
    "start_time": "2023-03-04T12:21:47.892Z"
   },
   {
    "duration": 4,
    "start_time": "2023-03-04T12:21:50.542Z"
   },
   {
    "duration": 859,
    "start_time": "2023-03-04T12:21:50.951Z"
   },
   {
    "duration": 142,
    "start_time": "2023-03-04T12:21:51.812Z"
   },
   {
    "duration": 87,
    "start_time": "2023-03-04T12:21:51.956Z"
   },
   {
    "duration": 27,
    "start_time": "2023-03-04T12:21:53.392Z"
   },
   {
    "duration": 85,
    "start_time": "2023-03-04T12:21:54.329Z"
   },
   {
    "duration": 95,
    "start_time": "2023-03-04T12:21:54.754Z"
   },
   {
    "duration": 73,
    "start_time": "2023-03-04T12:21:55.778Z"
   },
   {
    "duration": 88,
    "start_time": "2023-03-04T12:21:56.236Z"
   },
   {
    "duration": 188,
    "start_time": "2023-03-04T12:21:56.709Z"
   },
   {
    "duration": 147,
    "start_time": "2023-03-04T12:24:45.080Z"
   },
   {
    "duration": 262,
    "start_time": "2023-03-04T12:27:10.942Z"
   },
   {
    "duration": 264,
    "start_time": "2023-03-04T12:27:34.535Z"
   },
   {
    "duration": 281,
    "start_time": "2023-03-04T12:27:59.181Z"
   },
   {
    "duration": 17,
    "start_time": "2023-03-04T12:28:10.037Z"
   },
   {
    "duration": 6,
    "start_time": "2023-03-04T12:28:45.141Z"
   },
   {
    "duration": 874,
    "start_time": "2023-03-04T12:28:45.149Z"
   },
   {
    "duration": 138,
    "start_time": "2023-03-04T12:28:46.026Z"
   },
   {
    "duration": 86,
    "start_time": "2023-03-04T12:28:46.166Z"
   },
   {
    "duration": 25,
    "start_time": "2023-03-04T12:28:46.254Z"
   },
   {
    "duration": 102,
    "start_time": "2023-03-04T12:28:46.281Z"
   },
   {
    "duration": 134,
    "start_time": "2023-03-04T12:28:46.385Z"
   },
   {
    "duration": 98,
    "start_time": "2023-03-04T12:28:46.521Z"
   },
   {
    "duration": 89,
    "start_time": "2023-03-04T12:28:46.622Z"
   },
   {
    "duration": 200,
    "start_time": "2023-03-04T12:28:46.713Z"
   },
   {
    "duration": 184,
    "start_time": "2023-03-04T12:28:46.914Z"
   },
   {
    "duration": 296,
    "start_time": "2023-03-04T12:28:51.939Z"
   },
   {
    "duration": 239,
    "start_time": "2023-03-04T12:28:53.176Z"
   },
   {
    "duration": 307,
    "start_time": "2023-03-04T12:29:29.507Z"
   },
   {
    "duration": 248,
    "start_time": "2023-03-04T12:30:02.261Z"
   },
   {
    "duration": 247,
    "start_time": "2023-03-04T12:30:26.950Z"
   },
   {
    "duration": 247,
    "start_time": "2023-03-04T12:30:55.770Z"
   },
   {
    "duration": 279,
    "start_time": "2023-03-04T12:30:56.205Z"
   },
   {
    "duration": 238,
    "start_time": "2023-03-04T12:30:56.730Z"
   },
   {
    "duration": 67,
    "start_time": "2023-03-04T12:31:55.535Z"
   },
   {
    "duration": 4,
    "start_time": "2023-03-04T12:33:44.440Z"
   },
   {
    "duration": 433,
    "start_time": "2023-03-04T12:34:14.520Z"
   },
   {
    "duration": 467,
    "start_time": "2023-03-04T12:35:05.090Z"
   },
   {
    "duration": 594,
    "start_time": "2023-03-04T12:35:14.268Z"
   },
   {
    "duration": 659,
    "start_time": "2023-03-04T12:35:24.251Z"
   },
   {
    "duration": 3377,
    "start_time": "2023-03-04T12:35:46.234Z"
   },
   {
    "duration": 812,
    "start_time": "2023-03-04T12:35:57.947Z"
   },
   {
    "duration": 2624,
    "start_time": "2023-03-04T12:38:16.180Z"
   },
   {
    "duration": 50,
    "start_time": "2023-03-04T12:42:44.717Z"
   },
   {
    "duration": 860,
    "start_time": "2023-03-04T12:42:48.992Z"
   },
   {
    "duration": 566,
    "start_time": "2023-03-04T12:45:35.867Z"
   },
   {
    "duration": 576,
    "start_time": "2023-03-04T12:45:53.367Z"
   },
   {
    "duration": 467,
    "start_time": "2023-03-04T12:46:06.095Z"
   },
   {
    "duration": 632,
    "start_time": "2023-03-04T12:46:36.814Z"
   },
   {
    "duration": 849,
    "start_time": "2023-03-04T12:46:54.437Z"
   },
   {
    "duration": 931,
    "start_time": "2023-03-04T12:47:10.128Z"
   },
   {
    "duration": 853,
    "start_time": "2023-03-04T12:47:26.197Z"
   },
   {
    "duration": 1046,
    "start_time": "2023-03-04T12:47:43.155Z"
   },
   {
    "duration": 929,
    "start_time": "2023-03-04T12:47:57.188Z"
   },
   {
    "duration": 968,
    "start_time": "2023-03-04T12:48:11.049Z"
   },
   {
    "duration": 880,
    "start_time": "2023-03-04T12:48:52.103Z"
   },
   {
    "duration": 860,
    "start_time": "2023-03-04T12:49:00.772Z"
   },
   {
    "duration": 18,
    "start_time": "2023-03-04T12:50:43.077Z"
   },
   {
    "duration": 53,
    "start_time": "2023-03-04T12:50:52.432Z"
   },
   {
    "duration": 20,
    "start_time": "2023-03-04T12:51:01.756Z"
   },
   {
    "duration": 28,
    "start_time": "2023-03-04T12:51:28.954Z"
   },
   {
    "duration": 24,
    "start_time": "2023-03-04T12:51:35.688Z"
   },
   {
    "duration": 20,
    "start_time": "2023-03-04T12:51:41.910Z"
   },
   {
    "duration": 35,
    "start_time": "2023-03-04T12:51:50.407Z"
   },
   {
    "duration": 58,
    "start_time": "2023-03-04T12:53:13.596Z"
   },
   {
    "duration": 65,
    "start_time": "2023-03-04T12:53:25.833Z"
   },
   {
    "duration": 92,
    "start_time": "2023-03-04T12:53:39.432Z"
   },
   {
    "duration": 809,
    "start_time": "2023-03-04T12:55:10.449Z"
   },
   {
    "duration": 74,
    "start_time": "2023-03-04T13:27:59.689Z"
   },
   {
    "duration": 908,
    "start_time": "2023-03-04T13:28:28.465Z"
   },
   {
    "duration": 827,
    "start_time": "2023-03-04T13:28:49.484Z"
   },
   {
    "duration": 628,
    "start_time": "2023-03-04T13:29:11.361Z"
   },
   {
    "duration": 17,
    "start_time": "2023-03-04T13:31:43.560Z"
   },
   {
    "duration": 4,
    "start_time": "2023-03-04T13:31:57.503Z"
   },
   {
    "duration": 849,
    "start_time": "2023-03-04T13:31:57.509Z"
   },
   {
    "duration": 137,
    "start_time": "2023-03-04T13:31:58.360Z"
   },
   {
    "duration": 85,
    "start_time": "2023-03-04T13:31:58.500Z"
   },
   {
    "duration": 23,
    "start_time": "2023-03-04T13:31:58.587Z"
   },
   {
    "duration": 100,
    "start_time": "2023-03-04T13:31:58.612Z"
   },
   {
    "duration": 104,
    "start_time": "2023-03-04T13:31:58.714Z"
   },
   {
    "duration": 87,
    "start_time": "2023-03-04T13:31:58.820Z"
   },
   {
    "duration": 94,
    "start_time": "2023-03-04T13:31:58.910Z"
   },
   {
    "duration": 206,
    "start_time": "2023-03-04T13:31:59.007Z"
   },
   {
    "duration": 185,
    "start_time": "2023-03-04T13:31:59.215Z"
   },
   {
    "duration": 281,
    "start_time": "2023-03-04T13:31:59.402Z"
   },
   {
    "duration": 234,
    "start_time": "2023-03-04T13:31:59.685Z"
   },
   {
    "duration": 287,
    "start_time": "2023-03-04T13:31:59.921Z"
   },
   {
    "duration": 248,
    "start_time": "2023-03-04T13:32:00.210Z"
   },
   {
    "duration": 306,
    "start_time": "2023-03-04T13:32:00.460Z"
   },
   {
    "duration": 245,
    "start_time": "2023-03-04T13:32:00.768Z"
   },
   {
    "duration": 65,
    "start_time": "2023-03-04T13:32:01.015Z"
   },
   {
    "duration": 967,
    "start_time": "2023-03-04T13:32:01.082Z"
   },
   {
    "duration": 93,
    "start_time": "2023-03-04T13:32:02.051Z"
   },
   {
    "duration": 837,
    "start_time": "2023-03-04T13:32:02.146Z"
   },
   {
    "duration": 84,
    "start_time": "2023-03-04T13:32:02.985Z"
   },
   {
    "duration": 606,
    "start_time": "2023-03-04T13:32:03.071Z"
   },
   {
    "duration": 74,
    "start_time": "2023-03-04T13:32:16.262Z"
   },
   {
    "duration": 620,
    "start_time": "2023-03-04T13:33:33.501Z"
   },
   {
    "duration": 125,
    "start_time": "2023-03-04T13:55:33.477Z"
   },
   {
    "duration": 3,
    "start_time": "2023-03-04T13:57:47.799Z"
   },
   {
    "duration": 20,
    "start_time": "2023-03-04T13:58:08.308Z"
   },
   {
    "duration": 95,
    "start_time": "2023-03-04T13:58:54.072Z"
   },
   {
    "duration": 832,
    "start_time": "2023-03-04T13:59:54.438Z"
   },
   {
    "duration": 127,
    "start_time": "2023-03-04T14:01:31.634Z"
   },
   {
    "duration": 20,
    "start_time": "2023-03-04T14:01:34.155Z"
   },
   {
    "duration": 921,
    "start_time": "2023-03-04T14:01:43.369Z"
   },
   {
    "duration": 1503,
    "start_time": "2023-03-04T14:02:11.258Z"
   },
   {
    "duration": 1358,
    "start_time": "2023-03-04T14:02:12.765Z"
   },
   {
    "duration": 165,
    "start_time": "2023-03-04T14:02:14.125Z"
   },
   {
    "duration": 97,
    "start_time": "2023-03-04T14:02:14.292Z"
   },
   {
    "duration": 55,
    "start_time": "2023-03-04T14:02:14.392Z"
   },
   {
    "duration": 100,
    "start_time": "2023-03-04T14:02:14.449Z"
   },
   {
    "duration": 146,
    "start_time": "2023-03-04T14:02:14.551Z"
   },
   {
    "duration": 87,
    "start_time": "2023-03-04T14:02:14.699Z"
   },
   {
    "duration": 102,
    "start_time": "2023-03-04T14:02:14.788Z"
   },
   {
    "duration": 232,
    "start_time": "2023-03-04T14:02:14.892Z"
   },
   {
    "duration": 201,
    "start_time": "2023-03-04T14:02:15.126Z"
   },
   {
    "duration": 340,
    "start_time": "2023-03-04T14:02:15.329Z"
   },
   {
    "duration": 240,
    "start_time": "2023-03-04T14:02:15.671Z"
   },
   {
    "duration": 338,
    "start_time": "2023-03-04T14:02:15.913Z"
   },
   {
    "duration": 250,
    "start_time": "2023-03-04T14:02:16.252Z"
   },
   {
    "duration": 321,
    "start_time": "2023-03-04T14:02:16.504Z"
   },
   {
    "duration": 258,
    "start_time": "2023-03-04T14:02:16.826Z"
   },
   {
    "duration": 68,
    "start_time": "2023-03-04T14:02:17.085Z"
   },
   {
    "duration": 802,
    "start_time": "2023-03-04T14:02:17.155Z"
   },
   {
    "duration": 80,
    "start_time": "2023-03-04T14:02:17.959Z"
   },
   {
    "duration": 841,
    "start_time": "2023-03-04T14:02:18.041Z"
   },
   {
    "duration": 93,
    "start_time": "2023-03-04T14:02:18.884Z"
   },
   {
    "duration": 592,
    "start_time": "2023-03-04T14:02:18.979Z"
   },
   {
    "duration": 81,
    "start_time": "2023-03-04T14:02:19.573Z"
   },
   {
    "duration": 97,
    "start_time": "2023-03-04T14:02:19.656Z"
   },
   {
    "duration": 127,
    "start_time": "2023-03-04T14:02:19.755Z"
   },
   {
    "duration": 20,
    "start_time": "2023-03-04T14:02:41.057Z"
   },
   {
    "duration": 176,
    "start_time": "2023-03-04T14:02:48.911Z"
   },
   {
    "duration": 54848,
    "start_time": "2023-03-04T14:02:57.314Z"
   },
   {
    "duration": 13,
    "start_time": "2023-03-04T14:16:11.683Z"
   },
   {
    "duration": 4,
    "start_time": "2023-03-04T14:16:24.806Z"
   },
   {
    "duration": 159,
    "start_time": "2023-03-04T14:16:30.079Z"
   },
   {
    "duration": 590,
    "start_time": "2023-03-04T14:16:55.204Z"
   },
   {
    "duration": 10,
    "start_time": "2023-03-04T14:27:54.003Z"
   },
   {
    "duration": 30,
    "start_time": "2023-03-04T14:28:01.016Z"
   },
   {
    "duration": 5,
    "start_time": "2023-03-04T14:28:19.612Z"
   },
   {
    "duration": 1674,
    "start_time": "2023-03-04T14:28:41.306Z"
   },
   {
    "duration": 1275,
    "start_time": "2023-03-04T14:28:42.982Z"
   },
   {
    "duration": 162,
    "start_time": "2023-03-04T14:28:44.259Z"
   },
   {
    "duration": 91,
    "start_time": "2023-03-04T14:28:44.423Z"
   },
   {
    "duration": 48,
    "start_time": "2023-03-04T14:28:44.516Z"
   },
   {
    "duration": 130,
    "start_time": "2023-03-04T14:28:44.567Z"
   },
   {
    "duration": 151,
    "start_time": "2023-03-04T14:28:44.699Z"
   },
   {
    "duration": 87,
    "start_time": "2023-03-04T14:28:44.852Z"
   },
   {
    "duration": 105,
    "start_time": "2023-03-04T14:28:44.941Z"
   },
   {
    "duration": 208,
    "start_time": "2023-03-04T14:28:45.050Z"
   },
   {
    "duration": 187,
    "start_time": "2023-03-04T14:28:45.260Z"
   },
   {
    "duration": 275,
    "start_time": "2023-03-04T14:28:45.449Z"
   },
   {
    "duration": 234,
    "start_time": "2023-03-04T14:28:45.726Z"
   },
   {
    "duration": 299,
    "start_time": "2023-03-04T14:28:45.962Z"
   },
   {
    "duration": 239,
    "start_time": "2023-03-04T14:28:46.263Z"
   },
   {
    "duration": 314,
    "start_time": "2023-03-04T14:28:46.504Z"
   },
   {
    "duration": 250,
    "start_time": "2023-03-04T14:28:46.820Z"
   },
   {
    "duration": 66,
    "start_time": "2023-03-04T14:28:47.071Z"
   },
   {
    "duration": 809,
    "start_time": "2023-03-04T14:28:47.139Z"
   },
   {
    "duration": 115,
    "start_time": "2023-03-04T14:28:47.950Z"
   },
   {
    "duration": 819,
    "start_time": "2023-03-04T14:28:48.068Z"
   },
   {
    "duration": 87,
    "start_time": "2023-03-04T14:28:48.889Z"
   },
   {
    "duration": 589,
    "start_time": "2023-03-04T14:28:48.977Z"
   },
   {
    "duration": 89,
    "start_time": "2023-03-04T14:28:49.568Z"
   },
   {
    "duration": 133,
    "start_time": "2023-03-04T14:28:49.659Z"
   },
   {
    "duration": 53626,
    "start_time": "2023-03-04T14:28:49.794Z"
   },
   {
    "duration": 103,
    "start_time": "2023-03-04T14:29:43.422Z"
   },
   {
    "duration": 234,
    "start_time": "2023-03-04T14:29:43.530Z"
   },
   {
    "duration": 1693,
    "start_time": "2023-03-04T14:30:21.907Z"
   },
   {
    "duration": 1240,
    "start_time": "2023-03-04T14:30:23.603Z"
   },
   {
    "duration": 163,
    "start_time": "2023-03-04T14:30:24.845Z"
   },
   {
    "duration": 93,
    "start_time": "2023-03-04T14:30:25.009Z"
   },
   {
    "duration": 47,
    "start_time": "2023-03-04T14:30:25.104Z"
   },
   {
    "duration": 116,
    "start_time": "2023-03-04T14:30:25.152Z"
   },
   {
    "duration": 151,
    "start_time": "2023-03-04T14:30:25.270Z"
   },
   {
    "duration": 110,
    "start_time": "2023-03-04T14:30:25.423Z"
   },
   {
    "duration": 88,
    "start_time": "2023-03-04T14:30:25.539Z"
   },
   {
    "duration": 261,
    "start_time": "2023-03-04T14:30:25.628Z"
   },
   {
    "duration": 231,
    "start_time": "2023-03-04T14:30:25.891Z"
   },
   {
    "duration": 314,
    "start_time": "2023-03-04T14:30:26.124Z"
   },
   {
    "duration": 264,
    "start_time": "2023-03-04T14:30:26.440Z"
   },
   {
    "duration": 381,
    "start_time": "2023-03-04T14:30:26.707Z"
   },
   {
    "duration": 261,
    "start_time": "2023-03-04T14:30:27.090Z"
   },
   {
    "duration": 329,
    "start_time": "2023-03-04T14:30:27.353Z"
   },
   {
    "duration": 255,
    "start_time": "2023-03-04T14:30:27.684Z"
   },
   {
    "duration": 63,
    "start_time": "2023-03-04T14:30:27.940Z"
   },
   {
    "duration": 898,
    "start_time": "2023-03-04T14:30:28.004Z"
   },
   {
    "duration": 98,
    "start_time": "2023-03-04T14:30:28.904Z"
   },
   {
    "duration": 843,
    "start_time": "2023-03-04T14:30:29.004Z"
   },
   {
    "duration": 92,
    "start_time": "2023-03-04T14:30:29.849Z"
   },
   {
    "duration": 608,
    "start_time": "2023-03-04T14:30:29.943Z"
   },
   {
    "duration": 86,
    "start_time": "2023-03-04T14:30:30.553Z"
   },
   {
    "duration": 146,
    "start_time": "2023-03-04T14:30:30.640Z"
   },
   {
    "duration": 54169,
    "start_time": "2023-03-04T14:30:30.788Z"
   },
   {
    "duration": 104,
    "start_time": "2023-03-04T14:31:24.959Z"
   },
   {
    "duration": 209,
    "start_time": "2023-03-04T14:31:25.066Z"
   },
   {
    "duration": 1544,
    "start_time": "2023-03-04T14:39:25.419Z"
   },
   {
    "duration": 1508,
    "start_time": "2023-03-04T14:39:26.967Z"
   },
   {
    "duration": 165,
    "start_time": "2023-03-04T14:39:28.477Z"
   },
   {
    "duration": 91,
    "start_time": "2023-03-04T14:39:28.646Z"
   },
   {
    "duration": 48,
    "start_time": "2023-03-04T14:39:28.742Z"
   },
   {
    "duration": 114,
    "start_time": "2023-03-04T14:39:28.791Z"
   },
   {
    "duration": 192,
    "start_time": "2023-03-04T14:39:28.906Z"
   },
   {
    "duration": 102,
    "start_time": "2023-03-04T14:39:29.100Z"
   },
   {
    "duration": 103,
    "start_time": "2023-03-04T14:39:29.204Z"
   },
   {
    "duration": 253,
    "start_time": "2023-03-04T14:39:29.308Z"
   },
   {
    "duration": 199,
    "start_time": "2023-03-04T14:39:29.563Z"
   },
   {
    "duration": 414,
    "start_time": "2023-03-04T14:39:29.764Z"
   },
   {
    "duration": 283,
    "start_time": "2023-03-04T14:39:30.180Z"
   },
   {
    "duration": 418,
    "start_time": "2023-03-04T14:39:30.465Z"
   },
   {
    "duration": 295,
    "start_time": "2023-03-04T14:39:30.885Z"
   },
   {
    "duration": 389,
    "start_time": "2023-03-04T14:39:31.181Z"
   },
   {
    "duration": 335,
    "start_time": "2023-03-04T14:39:31.573Z"
   },
   {
    "duration": 87,
    "start_time": "2023-03-04T14:39:31.910Z"
   },
   {
    "duration": 1097,
    "start_time": "2023-03-04T14:39:31.999Z"
   },
   {
    "duration": 122,
    "start_time": "2023-03-04T14:39:33.098Z"
   },
   {
    "duration": 974,
    "start_time": "2023-03-04T14:39:33.222Z"
   },
   {
    "duration": 105,
    "start_time": "2023-03-04T14:39:34.198Z"
   },
   {
    "duration": 722,
    "start_time": "2023-03-04T14:39:34.305Z"
   },
   {
    "duration": 94,
    "start_time": "2023-03-04T14:39:35.029Z"
   },
   {
    "duration": 159,
    "start_time": "2023-03-04T14:39:35.125Z"
   },
   {
    "duration": 5,
    "start_time": "2023-03-04T14:43:58.344Z"
   },
   {
    "duration": 1023,
    "start_time": "2023-03-04T14:43:58.352Z"
   },
   {
    "duration": 173,
    "start_time": "2023-03-04T14:43:59.377Z"
   },
   {
    "duration": 112,
    "start_time": "2023-03-04T14:43:59.552Z"
   },
   {
    "duration": 27,
    "start_time": "2023-03-04T14:43:59.666Z"
   },
   {
    "duration": 108,
    "start_time": "2023-03-04T14:43:59.694Z"
   },
   {
    "duration": 118,
    "start_time": "2023-03-04T14:43:59.803Z"
   },
   {
    "duration": 92,
    "start_time": "2023-03-04T14:43:59.923Z"
   },
   {
    "duration": 130,
    "start_time": "2023-03-04T14:44:00.017Z"
   },
   {
    "duration": 339,
    "start_time": "2023-03-04T14:44:00.151Z"
   },
   {
    "duration": 234,
    "start_time": "2023-03-04T14:44:00.494Z"
   },
   {
    "duration": 375,
    "start_time": "2023-03-04T14:44:00.730Z"
   },
   {
    "duration": 352,
    "start_time": "2023-03-04T14:44:01.107Z"
   },
   {
    "duration": 368,
    "start_time": "2023-03-04T14:44:01.461Z"
   },
   {
    "duration": 302,
    "start_time": "2023-03-04T14:44:01.837Z"
   },
   {
    "duration": 388,
    "start_time": "2023-03-04T14:44:02.141Z"
   },
   {
    "duration": 396,
    "start_time": "2023-03-04T14:44:02.537Z"
   },
   {
    "duration": 60,
    "start_time": "2023-03-04T14:44:02.942Z"
   },
   {
    "duration": 935,
    "start_time": "2023-03-04T14:44:03.004Z"
   },
   {
    "duration": 51,
    "start_time": "2023-03-04T14:44:03.945Z"
   },
   {
    "duration": 1165,
    "start_time": "2023-03-04T14:44:03.998Z"
   },
   {
    "duration": 44,
    "start_time": "2023-03-04T14:44:05.167Z"
   },
   {
    "duration": 664,
    "start_time": "2023-03-04T14:44:05.213Z"
   },
   {
    "duration": 79,
    "start_time": "2023-03-04T14:44:05.879Z"
   },
   {
    "duration": 183,
    "start_time": "2023-03-04T14:44:05.961Z"
   },
   {
    "duration": 6,
    "start_time": "2023-03-04T14:44:22.123Z"
   },
   {
    "duration": 1086,
    "start_time": "2023-03-04T14:44:22.134Z"
   },
   {
    "duration": 210,
    "start_time": "2023-03-04T14:44:23.223Z"
   },
   {
    "duration": 128,
    "start_time": "2023-03-04T14:44:23.438Z"
   },
   {
    "duration": 36,
    "start_time": "2023-03-04T14:44:23.568Z"
   },
   {
    "duration": 145,
    "start_time": "2023-03-04T14:44:23.607Z"
   },
   {
    "duration": 143,
    "start_time": "2023-03-04T14:44:23.759Z"
   },
   {
    "duration": 111,
    "start_time": "2023-03-04T14:44:23.904Z"
   },
   {
    "duration": 109,
    "start_time": "2023-03-04T14:44:24.017Z"
   },
   {
    "duration": 241,
    "start_time": "2023-03-04T14:44:24.127Z"
   },
   {
    "duration": 186,
    "start_time": "2023-03-04T14:44:24.370Z"
   },
   {
    "duration": 302,
    "start_time": "2023-03-04T14:44:24.558Z"
   },
   {
    "duration": 369,
    "start_time": "2023-03-04T14:44:24.863Z"
   },
   {
    "duration": 440,
    "start_time": "2023-03-04T14:44:25.237Z"
   },
   {
    "duration": 325,
    "start_time": "2023-03-04T14:44:25.680Z"
   },
   {
    "duration": 382,
    "start_time": "2023-03-04T14:44:26.007Z"
   },
   {
    "duration": 314,
    "start_time": "2023-03-04T14:44:26.391Z"
   },
   {
    "duration": 76,
    "start_time": "2023-03-04T14:44:26.707Z"
   },
   {
    "duration": 974,
    "start_time": "2023-03-04T14:44:26.786Z"
   },
   {
    "duration": 47,
    "start_time": "2023-03-04T14:44:27.763Z"
   },
   {
    "duration": 969,
    "start_time": "2023-03-04T14:44:27.811Z"
   },
   {
    "duration": 39,
    "start_time": "2023-03-04T14:44:28.782Z"
   },
   {
    "duration": 669,
    "start_time": "2023-03-04T14:44:28.823Z"
   },
   {
    "duration": 65,
    "start_time": "2023-03-04T14:44:29.495Z"
   },
   {
    "duration": 138,
    "start_time": "2023-03-04T14:44:29.564Z"
   },
   {
    "duration": 117,
    "start_time": "2023-03-04T14:45:09.784Z"
   },
   {
    "duration": 51276,
    "start_time": "2023-03-04T14:45:11.157Z"
   },
   {
    "duration": 92,
    "start_time": "2023-03-04T14:49:50.795Z"
   },
   {
    "duration": 205,
    "start_time": "2023-03-04T14:49:52.159Z"
   },
   {
    "duration": 2290,
    "start_time": "2023-03-04T14:50:33.470Z"
   },
   {
    "duration": 1903,
    "start_time": "2023-03-04T14:50:35.763Z"
   },
   {
    "duration": 183,
    "start_time": "2023-03-04T14:50:37.672Z"
   },
   {
    "duration": 117,
    "start_time": "2023-03-04T14:50:37.862Z"
   },
   {
    "duration": 37,
    "start_time": "2023-03-04T14:50:37.980Z"
   },
   {
    "duration": 145,
    "start_time": "2023-03-04T14:50:38.037Z"
   },
   {
    "duration": 173,
    "start_time": "2023-03-04T14:50:38.185Z"
   },
   {
    "duration": 89,
    "start_time": "2023-03-04T14:50:38.361Z"
   },
   {
    "duration": 115,
    "start_time": "2023-03-04T14:50:38.451Z"
   },
   {
    "duration": 280,
    "start_time": "2023-03-04T14:50:38.568Z"
   },
   {
    "duration": 247,
    "start_time": "2023-03-04T14:50:38.851Z"
   },
   {
    "duration": 327,
    "start_time": "2023-03-04T14:50:39.100Z"
   },
   {
    "duration": 355,
    "start_time": "2023-03-04T14:50:39.429Z"
   },
   {
    "duration": 402,
    "start_time": "2023-03-04T14:50:39.787Z"
   },
   {
    "duration": 410,
    "start_time": "2023-03-04T14:50:40.191Z"
   },
   {
    "duration": 376,
    "start_time": "2023-03-04T14:50:40.603Z"
   },
   {
    "duration": 304,
    "start_time": "2023-03-04T14:50:40.981Z"
   },
   {
    "duration": 74,
    "start_time": "2023-03-04T14:50:41.288Z"
   },
   {
    "duration": 915,
    "start_time": "2023-03-04T14:50:41.364Z"
   },
   {
    "duration": 60,
    "start_time": "2023-03-04T14:50:42.281Z"
   },
   {
    "duration": 1119,
    "start_time": "2023-03-04T14:50:42.345Z"
   },
   {
    "duration": 47,
    "start_time": "2023-03-04T14:50:43.467Z"
   },
   {
    "duration": 621,
    "start_time": "2023-03-04T14:50:43.517Z"
   },
   {
    "duration": 58,
    "start_time": "2023-03-04T14:50:44.142Z"
   },
   {
    "duration": 131,
    "start_time": "2023-03-04T14:50:44.203Z"
   },
   {
    "duration": 51251,
    "start_time": "2023-03-04T14:50:44.346Z"
   },
   {
    "duration": 142,
    "start_time": "2023-03-04T14:51:35.601Z"
   },
   {
    "duration": 228,
    "start_time": "2023-03-04T14:51:35.748Z"
   },
   {
    "duration": 193,
    "start_time": "2023-03-04T14:53:46.855Z"
   },
   {
    "duration": 76,
    "start_time": "2023-03-04T14:54:42.796Z"
   },
   {
    "duration": 79,
    "start_time": "2023-03-04T14:56:22.885Z"
   },
   {
    "duration": 83,
    "start_time": "2023-03-04T14:56:29.335Z"
   },
   {
    "duration": 22,
    "start_time": "2023-03-04T14:58:31.947Z"
   },
   {
    "duration": 6,
    "start_time": "2023-03-04T14:58:42.880Z"
   },
   {
    "duration": 1149,
    "start_time": "2023-03-04T14:58:42.892Z"
   },
   {
    "duration": 172,
    "start_time": "2023-03-04T14:58:44.043Z"
   },
   {
    "duration": 92,
    "start_time": "2023-03-04T14:58:44.217Z"
   },
   {
    "duration": 44,
    "start_time": "2023-03-04T14:58:44.316Z"
   },
   {
    "duration": 109,
    "start_time": "2023-03-04T14:58:44.362Z"
   },
   {
    "duration": 126,
    "start_time": "2023-03-04T14:58:44.473Z"
   },
   {
    "duration": 102,
    "start_time": "2023-03-04T14:58:44.601Z"
   },
   {
    "duration": 102,
    "start_time": "2023-03-04T14:58:44.705Z"
   },
   {
    "duration": 247,
    "start_time": "2023-03-04T14:58:44.809Z"
   },
   {
    "duration": 173,
    "start_time": "2023-03-04T14:58:45.058Z"
   },
   {
    "duration": 338,
    "start_time": "2023-03-04T14:58:45.233Z"
   },
   {
    "duration": 262,
    "start_time": "2023-03-04T14:58:45.572Z"
   },
   {
    "duration": 388,
    "start_time": "2023-03-04T14:58:45.837Z"
   },
   {
    "duration": 293,
    "start_time": "2023-03-04T14:58:46.227Z"
   },
   {
    "duration": 346,
    "start_time": "2023-03-04T14:58:46.522Z"
   },
   {
    "duration": 320,
    "start_time": "2023-03-04T14:58:46.870Z"
   },
   {
    "duration": 76,
    "start_time": "2023-03-04T14:58:47.192Z"
   },
   {
    "duration": 956,
    "start_time": "2023-03-04T14:58:47.270Z"
   },
   {
    "duration": 53,
    "start_time": "2023-03-04T14:58:48.228Z"
   },
   {
    "duration": 975,
    "start_time": "2023-03-04T14:58:48.283Z"
   },
   {
    "duration": 37,
    "start_time": "2023-03-04T14:58:49.260Z"
   },
   {
    "duration": 622,
    "start_time": "2023-03-04T14:58:49.300Z"
   },
   {
    "duration": 62,
    "start_time": "2023-03-04T14:58:49.924Z"
   },
   {
    "duration": 137,
    "start_time": "2023-03-04T14:58:49.989Z"
   },
   {
    "duration": 23,
    "start_time": "2023-03-04T14:58:54.934Z"
   },
   {
    "duration": 36,
    "start_time": "2023-03-04T14:59:18.152Z"
   },
   {
    "duration": 12,
    "start_time": "2023-03-04T15:02:11.486Z"
   },
   {
    "duration": 17,
    "start_time": "2023-03-04T15:05:15.055Z"
   },
   {
    "duration": 24,
    "start_time": "2023-03-04T15:05:43.664Z"
   },
   {
    "duration": 29,
    "start_time": "2023-03-04T15:07:55.359Z"
   },
   {
    "duration": 23,
    "start_time": "2023-03-04T15:08:04.556Z"
   },
   {
    "duration": 103,
    "start_time": "2023-03-04T15:09:31.697Z"
   },
   {
    "duration": 18,
    "start_time": "2023-03-04T15:09:42.097Z"
   },
   {
    "duration": 57976,
    "start_time": "2023-03-04T15:11:10.031Z"
   },
   {
    "duration": 40546,
    "start_time": "2023-03-04T15:12:18.050Z"
   },
   {
    "duration": 76,
    "start_time": "2023-03-04T15:13:01.657Z"
   },
   {
    "duration": 231,
    "start_time": "2023-03-04T15:13:02.428Z"
   },
   {
    "duration": 68723,
    "start_time": "2023-03-04T15:13:09.717Z"
   },
   {
    "duration": 2057,
    "start_time": "2023-03-05T06:55:49.870Z"
   },
   {
    "duration": 3725,
    "start_time": "2023-03-05T06:55:51.929Z"
   },
   {
    "duration": 169,
    "start_time": "2023-03-05T06:55:55.659Z"
   },
   {
    "duration": 91,
    "start_time": "2023-03-05T06:55:55.830Z"
   },
   {
    "duration": 41,
    "start_time": "2023-03-05T06:55:55.923Z"
   },
   {
    "duration": 119,
    "start_time": "2023-03-05T06:55:55.966Z"
   },
   {
    "duration": 117,
    "start_time": "2023-03-05T06:55:56.086Z"
   },
   {
    "duration": 80,
    "start_time": "2023-03-05T06:55:56.205Z"
   },
   {
    "duration": 74,
    "start_time": "2023-03-05T06:55:56.287Z"
   },
   {
    "duration": 225,
    "start_time": "2023-03-05T06:55:56.364Z"
   },
   {
    "duration": 174,
    "start_time": "2023-03-05T06:55:56.591Z"
   },
   {
    "duration": 320,
    "start_time": "2023-03-05T06:55:56.767Z"
   },
   {
    "duration": 263,
    "start_time": "2023-03-05T06:55:57.090Z"
   },
   {
    "duration": 332,
    "start_time": "2023-03-05T06:55:57.358Z"
   },
   {
    "duration": 283,
    "start_time": "2023-03-05T06:55:57.694Z"
   },
   {
    "duration": 299,
    "start_time": "2023-03-05T06:55:57.982Z"
   },
   {
    "duration": 243,
    "start_time": "2023-03-05T06:55:58.283Z"
   },
   {
    "duration": 68,
    "start_time": "2023-03-05T06:55:58.528Z"
   },
   {
    "duration": 811,
    "start_time": "2023-03-05T06:55:58.598Z"
   },
   {
    "duration": 52,
    "start_time": "2023-03-05T06:55:59.411Z"
   },
   {
    "duration": 843,
    "start_time": "2023-03-05T06:55:59.465Z"
   },
   {
    "duration": 50,
    "start_time": "2023-03-05T06:56:00.311Z"
   },
   {
    "duration": 517,
    "start_time": "2023-03-05T06:56:00.363Z"
   },
   {
    "duration": 46,
    "start_time": "2023-03-05T06:56:00.881Z"
   },
   {
    "duration": 118,
    "start_time": "2023-03-05T06:56:00.929Z"
   },
   {
    "duration": 53271,
    "start_time": "2023-03-05T06:56:01.048Z"
   },
   {
    "duration": 29672,
    "start_time": "2023-03-05T06:56:54.320Z"
   },
   {
    "duration": 61,
    "start_time": "2023-03-05T06:57:23.995Z"
   },
   {
    "duration": 154,
    "start_time": "2023-03-05T06:57:24.058Z"
   },
   {
    "duration": 61031,
    "start_time": "2023-03-05T06:57:24.214Z"
   },
   {
    "duration": 4,
    "start_time": "2023-03-05T07:13:50.701Z"
   },
   {
    "duration": 111,
    "start_time": "2023-03-05T07:13:54.595Z"
   },
   {
    "duration": 155,
    "start_time": "2023-03-05T07:14:05.432Z"
   },
   {
    "duration": 122,
    "start_time": "2023-03-05T07:14:10.008Z"
   },
   {
    "duration": 14,
    "start_time": "2023-03-05T07:14:19.867Z"
   },
   {
    "duration": 28358,
    "start_time": "2023-03-05T07:20:04.792Z"
   },
   {
    "duration": 16,
    "start_time": "2023-03-05T07:21:50.637Z"
   },
   {
    "duration": 112,
    "start_time": "2023-03-05T07:23:23.015Z"
   },
   {
    "duration": 279983,
    "start_time": "2023-03-05T07:23:32.475Z"
   },
   {
    "duration": 50536,
    "start_time": "2023-03-05T07:29:19.111Z"
   },
   {
    "duration": 178,
    "start_time": "2023-03-05T07:30:18.368Z"
   },
   {
    "duration": 12,
    "start_time": "2023-03-05T07:34:30.034Z"
   },
   {
    "duration": 3,
    "start_time": "2023-03-05T07:34:35.859Z"
   },
   {
    "duration": 5,
    "start_time": "2023-03-05T07:34:38.111Z"
   },
   {
    "duration": 9,
    "start_time": "2023-03-05T07:39:46.729Z"
   },
   {
    "duration": 3,
    "start_time": "2023-03-05T07:41:27.581Z"
   },
   {
    "duration": 9,
    "start_time": "2023-03-05T07:41:34.097Z"
   },
   {
    "duration": 20,
    "start_time": "2023-03-05T07:41:51.064Z"
   },
   {
    "duration": 12,
    "start_time": "2023-03-05T07:41:54.659Z"
   },
   {
    "duration": 14,
    "start_time": "2023-03-05T07:42:06.124Z"
   },
   {
    "duration": 231621,
    "start_time": "2023-03-05T07:42:49.855Z"
   },
   {
    "duration": 235292,
    "start_time": "2023-03-05T07:46:54.890Z"
   },
   {
    "duration": 16,
    "start_time": "2023-03-05T07:51:13.742Z"
   },
   {
    "duration": 392,
    "start_time": "2023-03-05T07:55:42.850Z"
   },
   {
    "duration": 51849,
    "start_time": "2023-03-05T07:56:19.450Z"
   },
   {
    "duration": 4,
    "start_time": "2023-03-05T07:59:06.906Z"
   },
   {
    "duration": 8,
    "start_time": "2023-03-05T07:59:12.956Z"
   },
   {
    "duration": 148485,
    "start_time": "2023-03-05T08:00:40.072Z"
   },
   {
    "duration": 9,
    "start_time": "2023-03-05T08:03:08.559Z"
   },
   {
    "duration": 8,
    "start_time": "2023-03-05T08:03:20.619Z"
   },
   {
    "duration": 227767,
    "start_time": "2023-03-05T08:03:47.055Z"
   },
   {
    "duration": 10,
    "start_time": "2023-03-05T08:07:34.824Z"
   },
   {
    "duration": 88655,
    "start_time": "2023-03-05T08:08:04.637Z"
   },
   {
    "duration": 8,
    "start_time": "2023-03-05T08:09:33.293Z"
   },
   {
    "duration": 3,
    "start_time": "2023-03-05T08:18:36.032Z"
   },
   {
    "duration": 1959,
    "start_time": "2023-03-05T08:19:08.991Z"
   },
   {
    "duration": 53,
    "start_time": "2023-03-05T08:19:33.956Z"
   },
   {
    "duration": 10,
    "start_time": "2023-03-05T08:20:59.658Z"
   },
   {
    "duration": 5,
    "start_time": "2023-03-05T08:21:13.756Z"
   },
   {
    "duration": 3,
    "start_time": "2023-03-05T08:23:02.087Z"
   },
   {
    "duration": 4569,
    "start_time": "2023-03-05T08:23:22.113Z"
   },
   {
    "duration": 81,
    "start_time": "2023-03-05T08:23:26.684Z"
   },
   {
    "duration": 4,
    "start_time": "2023-03-05T08:23:26.771Z"
   },
   {
    "duration": 4,
    "start_time": "2023-03-05T08:23:54.375Z"
   },
   {
    "duration": 3,
    "start_time": "2023-03-05T08:25:24.215Z"
   },
   {
    "duration": 15,
    "start_time": "2023-03-05T08:25:34.212Z"
   },
   {
    "duration": 3,
    "start_time": "2023-03-05T08:26:27.889Z"
   },
   {
    "duration": 4,
    "start_time": "2023-03-05T08:26:32.830Z"
   },
   {
    "duration": 7,
    "start_time": "2023-03-05T08:27:41.384Z"
   },
   {
    "duration": 8,
    "start_time": "2023-03-05T08:31:20.869Z"
   },
   {
    "duration": 13,
    "start_time": "2023-03-05T08:31:26.098Z"
   },
   {
    "duration": 11,
    "start_time": "2023-03-05T08:31:29.704Z"
   },
   {
    "duration": 8,
    "start_time": "2023-03-05T08:31:51.281Z"
   },
   {
    "duration": 7,
    "start_time": "2023-03-05T08:31:51.967Z"
   },
   {
    "duration": 6582326,
    "start_time": "2023-03-05T08:32:00.952Z"
   },
   {
    "duration": 11,
    "start_time": "2023-03-05T10:21:43.280Z"
   },
   {
    "duration": 34,
    "start_time": "2023-03-05T10:27:47.631Z"
   },
   {
    "duration": 35814,
    "start_time": "2023-03-05T10:28:05.499Z"
   },
   {
    "duration": 367,
    "start_time": "2023-03-05T10:28:41.314Z"
   },
   {
    "duration": 5,
    "start_time": "2023-03-05T10:29:52.591Z"
   },
   {
    "duration": 12,
    "start_time": "2023-03-05T10:32:32.802Z"
   },
   {
    "duration": 67,
    "start_time": "2023-03-05T10:36:45.090Z"
   },
   {
    "duration": 3,
    "start_time": "2023-03-05T10:36:52.134Z"
   },
   {
    "duration": 15,
    "start_time": "2023-03-05T10:37:03.520Z"
   },
   {
    "duration": 336,
    "start_time": "2023-03-05T10:37:21.534Z"
   },
   {
    "duration": 3,
    "start_time": "2023-03-05T10:38:54.609Z"
   },
   {
    "duration": 2410,
    "start_time": "2023-03-05T10:38:56.099Z"
   },
   {
    "duration": 20,
    "start_time": "2023-03-05T10:39:09.481Z"
   },
   {
    "duration": 2,
    "start_time": "2023-03-05T10:45:49.280Z"
   },
   {
    "duration": 4341,
    "start_time": "2023-03-05T10:45:50.439Z"
   },
   {
    "duration": 3,
    "start_time": "2023-03-05T10:46:28.676Z"
   },
   {
    "duration": 5739,
    "start_time": "2023-03-05T10:46:28.681Z"
   },
   {
    "duration": 2,
    "start_time": "2023-03-05T10:46:43.457Z"
   },
   {
    "duration": 12440,
    "start_time": "2023-03-05T10:46:44.090Z"
   },
   {
    "duration": 3,
    "start_time": "2023-03-05T10:47:13.586Z"
   },
   {
    "duration": 5583,
    "start_time": "2023-03-05T10:47:14.485Z"
   },
   {
    "duration": 637,
    "start_time": "2023-03-05T10:52:26.453Z"
   },
   {
    "duration": 763,
    "start_time": "2023-03-05T10:52:35.563Z"
   },
   {
    "duration": 201905,
    "start_time": "2023-03-05T10:52:44.815Z"
   },
   {
    "duration": 11,
    "start_time": "2023-03-05T10:56:36.751Z"
   },
   {
    "duration": 2,
    "start_time": "2023-03-05T10:56:42.298Z"
   },
   {
    "duration": 5764,
    "start_time": "2023-03-05T10:56:42.952Z"
   },
   {
    "duration": 54,
    "start_time": "2023-03-05T10:56:48.718Z"
   },
   {
    "duration": 63,
    "start_time": "2023-03-05T10:56:56.997Z"
   },
   {
    "duration": 41,
    "start_time": "2023-03-05T11:07:26.060Z"
   },
   {
    "duration": 12,
    "start_time": "2023-03-05T11:09:54.594Z"
   },
   {
    "duration": 161254,
    "start_time": "2023-03-05T11:10:19.917Z"
   },
   {
    "duration": 266,
    "start_time": "2023-03-05T11:17:43.594Z"
   },
   {
    "duration": 44,
    "start_time": "2023-03-05T11:21:00.752Z"
   },
   {
    "duration": 1449,
    "start_time": "2023-03-05T11:21:14.182Z"
   },
   {
    "duration": 3058,
    "start_time": "2023-03-05T11:21:15.633Z"
   },
   {
    "duration": 127,
    "start_time": "2023-03-05T11:21:18.692Z"
   },
   {
    "duration": 90,
    "start_time": "2023-03-05T11:21:18.820Z"
   },
   {
    "duration": 47,
    "start_time": "2023-03-05T11:21:18.912Z"
   },
   {
    "duration": 80,
    "start_time": "2023-03-05T11:21:18.960Z"
   },
   {
    "duration": 133,
    "start_time": "2023-03-05T11:21:19.042Z"
   },
   {
    "duration": 93,
    "start_time": "2023-03-05T11:21:19.177Z"
   },
   {
    "duration": 77,
    "start_time": "2023-03-05T11:21:19.272Z"
   },
   {
    "duration": 178,
    "start_time": "2023-03-05T11:21:19.353Z"
   },
   {
    "duration": 187,
    "start_time": "2023-03-05T11:21:19.532Z"
   },
   {
    "duration": 254,
    "start_time": "2023-03-05T11:21:19.721Z"
   },
   {
    "duration": 213,
    "start_time": "2023-03-05T11:21:19.977Z"
   },
   {
    "duration": 266,
    "start_time": "2023-03-05T11:21:20.193Z"
   },
   {
    "duration": 216,
    "start_time": "2023-03-05T11:21:20.460Z"
   },
   {
    "duration": 250,
    "start_time": "2023-03-05T11:21:20.678Z"
   },
   {
    "duration": 205,
    "start_time": "2023-03-05T11:21:20.929Z"
   },
   {
    "duration": 59,
    "start_time": "2023-03-05T11:21:21.135Z"
   },
   {
    "duration": 794,
    "start_time": "2023-03-05T11:21:21.195Z"
   },
   {
    "duration": 40,
    "start_time": "2023-03-05T11:21:21.990Z"
   },
   {
    "duration": 700,
    "start_time": "2023-03-05T11:21:22.031Z"
   },
   {
    "duration": 46,
    "start_time": "2023-03-05T11:21:22.733Z"
   },
   {
    "duration": 461,
    "start_time": "2023-03-05T11:21:22.781Z"
   },
   {
    "duration": 56,
    "start_time": "2023-03-05T11:21:23.245Z"
   },
   {
    "duration": 105,
    "start_time": "2023-03-05T11:21:23.302Z"
   },
   {
    "duration": 47883,
    "start_time": "2023-03-05T11:21:23.409Z"
   },
   {
    "duration": 27407,
    "start_time": "2023-03-05T11:22:11.293Z"
   },
   {
    "duration": 63,
    "start_time": "2023-03-05T11:22:38.702Z"
   },
   {
    "duration": 149,
    "start_time": "2023-03-05T11:22:38.767Z"
   },
   {
    "duration": 2,
    "start_time": "2023-03-05T11:22:38.918Z"
   },
   {
    "duration": 8,
    "start_time": "2023-03-05T11:22:38.921Z"
   },
   {
    "duration": 90,
    "start_time": "2023-03-05T11:22:38.930Z"
   },
   {
    "duration": 0,
    "start_time": "2023-03-05T11:22:39.022Z"
   },
   {
    "duration": 0,
    "start_time": "2023-03-05T11:22:39.023Z"
   },
   {
    "duration": 1,
    "start_time": "2023-03-05T11:22:39.024Z"
   },
   {
    "duration": 0,
    "start_time": "2023-03-05T11:22:39.025Z"
   },
   {
    "duration": 0,
    "start_time": "2023-03-05T11:22:39.026Z"
   },
   {
    "duration": 0,
    "start_time": "2023-03-05T11:22:39.040Z"
   },
   {
    "duration": 0,
    "start_time": "2023-03-05T11:22:39.042Z"
   },
   {
    "duration": 0,
    "start_time": "2023-03-05T11:22:39.044Z"
   },
   {
    "duration": 0,
    "start_time": "2023-03-05T11:22:39.045Z"
   },
   {
    "duration": 0,
    "start_time": "2023-03-05T11:22:39.046Z"
   },
   {
    "duration": 0,
    "start_time": "2023-03-05T11:22:39.047Z"
   },
   {
    "duration": 0,
    "start_time": "2023-03-05T11:22:39.048Z"
   },
   {
    "duration": 0,
    "start_time": "2023-03-05T11:22:39.050Z"
   },
   {
    "duration": 0,
    "start_time": "2023-03-05T11:22:39.051Z"
   },
   {
    "duration": 0,
    "start_time": "2023-03-05T11:22:39.053Z"
   },
   {
    "duration": 0,
    "start_time": "2023-03-05T11:22:39.054Z"
   },
   {
    "duration": 0,
    "start_time": "2023-03-05T11:22:39.056Z"
   },
   {
    "duration": 0,
    "start_time": "2023-03-05T11:22:39.057Z"
   },
   {
    "duration": 0,
    "start_time": "2023-03-05T11:22:39.058Z"
   },
   {
    "duration": 0,
    "start_time": "2023-03-05T11:22:39.060Z"
   },
   {
    "duration": 7,
    "start_time": "2023-03-05T11:23:24.536Z"
   },
   {
    "duration": 2,
    "start_time": "2023-03-05T11:23:26.784Z"
   },
   {
    "duration": 14469,
    "start_time": "2023-03-05T11:23:27.272Z"
   },
   {
    "duration": 298,
    "start_time": "2023-03-05T11:23:41.743Z"
   },
   {
    "duration": 6,
    "start_time": "2023-03-05T11:23:42.043Z"
   },
   {
    "duration": 88292,
    "start_time": "2023-03-05T11:23:42.059Z"
   },
   {
    "duration": 8,
    "start_time": "2023-03-05T11:25:10.354Z"
   },
   {
    "duration": 6,
    "start_time": "2023-03-05T11:25:10.363Z"
   },
   {
    "duration": 1853,
    "start_time": "2023-03-05T11:25:10.370Z"
   },
   {
    "duration": 57,
    "start_time": "2023-03-05T11:25:12.224Z"
   },
   {
    "duration": 4,
    "start_time": "2023-03-05T11:25:12.282Z"
   },
   {
    "duration": 3,
    "start_time": "2023-03-05T11:25:12.289Z"
   },
   {
    "duration": 3896,
    "start_time": "2023-03-05T11:25:12.294Z"
   },
   {
    "duration": 74,
    "start_time": "2023-03-05T11:25:16.192Z"
   },
   {
    "duration": 4,
    "start_time": "2023-03-05T11:25:16.268Z"
   },
   {
    "duration": 5,
    "start_time": "2023-03-05T11:25:16.274Z"
   },
   {
    "duration": 8,
    "start_time": "2023-03-05T11:25:16.281Z"
   },
   {
    "duration": 7,
    "start_time": "2023-03-05T11:25:16.291Z"
   },
   {
    "duration": 5,
    "start_time": "2023-03-05T11:25:16.300Z"
   },
   {
    "duration": 5,
    "start_time": "2023-03-05T11:25:16.306Z"
   },
   {
    "duration": 6,
    "start_time": "2023-03-05T11:25:16.312Z"
   },
   {
    "duration": 3,
    "start_time": "2023-03-05T11:38:44.924Z"
   },
   {
    "duration": 11128,
    "start_time": "2023-03-05T11:39:27.896Z"
   },
   {
    "duration": 86,
    "start_time": "2023-03-05T11:40:17.349Z"
   },
   {
    "duration": 3,
    "start_time": "2023-03-05T11:41:02.820Z"
   },
   {
    "duration": 43796,
    "start_time": "2023-03-05T11:41:51.245Z"
   },
   {
    "duration": 4,
    "start_time": "2023-03-05T11:43:13.678Z"
   },
   {
    "duration": 121292,
    "start_time": "2023-03-05T11:43:27.877Z"
   },
   {
    "duration": 7,
    "start_time": "2023-03-05T11:49:17.990Z"
   },
   {
    "duration": 190952,
    "start_time": "2023-03-05T11:50:53.588Z"
   },
   {
    "duration": 8,
    "start_time": "2023-03-05T11:54:04.542Z"
   },
   {
    "duration": 1162297,
    "start_time": "2023-03-05T12:01:14.865Z"
   },
   {
    "duration": 7,
    "start_time": "2023-03-05T12:20:37.164Z"
   },
   {
    "duration": 3,
    "start_time": "2023-03-05T12:27:12.023Z"
   },
   {
    "duration": 17954,
    "start_time": "2023-03-05T12:27:38.101Z"
   },
   {
    "duration": 302,
    "start_time": "2023-03-05T12:28:01.838Z"
   },
   {
    "duration": 4,
    "start_time": "2023-03-05T12:28:28.466Z"
   },
   {
    "duration": 3,
    "start_time": "2023-03-05T12:28:49.465Z"
   },
   {
    "duration": 97543,
    "start_time": "2023-03-05T12:29:03.508Z"
   },
   {
    "duration": 4892,
    "start_time": "2023-03-05T12:30:41.053Z"
   },
   {
    "duration": 4,
    "start_time": "2023-03-05T12:31:01.973Z"
   },
   {
    "duration": 3,
    "start_time": "2023-03-05T12:36:18.321Z"
   },
   {
    "duration": 34152,
    "start_time": "2023-03-05T12:36:19.053Z"
   },
   {
    "duration": 349,
    "start_time": "2023-03-05T12:36:53.207Z"
   },
   {
    "duration": 5,
    "start_time": "2023-03-05T12:37:10.008Z"
   },
   {
    "duration": 931649,
    "start_time": "2023-03-05T12:38:29.455Z"
   },
   {
    "duration": 8,
    "start_time": "2023-03-05T12:55:41.836Z"
   },
   {
    "duration": 64,
    "start_time": "2023-03-05T12:56:02.306Z"
   },
   {
    "duration": 298482,
    "start_time": "2023-03-05T12:56:03.510Z"
   },
   {
    "duration": 2748,
    "start_time": "2023-03-05T13:01:01.993Z"
   },
   {
    "duration": 4,
    "start_time": "2023-03-05T13:01:49.003Z"
   },
   {
    "duration": 36,
    "start_time": "2023-03-05T13:03:21.421Z"
   },
   {
    "duration": 101,
    "start_time": "2023-03-05T13:11:32.570Z"
   },
   {
    "duration": 3,
    "start_time": "2023-03-05T13:12:01.995Z"
   },
   {
    "duration": 67,
    "start_time": "2023-03-05T13:12:09.969Z"
   },
   {
    "duration": 71,
    "start_time": "2023-03-05T13:12:20.885Z"
   },
   {
    "duration": 7,
    "start_time": "2023-03-05T13:13:00.771Z"
   },
   {
    "duration": 1644,
    "start_time": "2023-03-05T17:52:16.488Z"
   },
   {
    "duration": 1195,
    "start_time": "2023-03-05T17:52:19.385Z"
   },
   {
    "duration": 153,
    "start_time": "2023-03-05T17:52:20.582Z"
   },
   {
    "duration": 88,
    "start_time": "2023-03-05T17:52:21.594Z"
   },
   {
    "duration": 37,
    "start_time": "2023-03-05T17:52:23.924Z"
   },
   {
    "duration": 126,
    "start_time": "2023-03-05T17:52:25.224Z"
   },
   {
    "duration": 145,
    "start_time": "2023-03-05T17:52:25.868Z"
   },
   {
    "duration": 80,
    "start_time": "2023-03-05T17:52:27.196Z"
   },
   {
    "duration": 82,
    "start_time": "2023-03-05T17:52:27.781Z"
   },
   {
    "duration": 197,
    "start_time": "2023-03-05T17:52:28.366Z"
   },
   {
    "duration": 173,
    "start_time": "2023-03-05T17:52:29.509Z"
   },
   {
    "duration": 289,
    "start_time": "2023-03-05T17:52:30.339Z"
   },
   {
    "duration": 270,
    "start_time": "2023-03-05T17:52:30.630Z"
   },
   {
    "duration": 314,
    "start_time": "2023-03-05T17:52:30.902Z"
   },
   {
    "duration": 263,
    "start_time": "2023-03-05T17:52:31.218Z"
   },
   {
    "duration": 294,
    "start_time": "2023-03-05T17:52:31.483Z"
   },
   {
    "duration": 249,
    "start_time": "2023-03-05T17:52:31.779Z"
   },
   {
    "duration": 58,
    "start_time": "2023-03-05T17:52:32.459Z"
   },
   {
    "duration": 868,
    "start_time": "2023-03-05T17:52:32.895Z"
   },
   {
    "duration": 40,
    "start_time": "2023-03-05T17:52:33.765Z"
   },
   {
    "duration": 770,
    "start_time": "2023-03-05T17:52:34.065Z"
   },
   {
    "duration": 49,
    "start_time": "2023-03-05T17:52:34.838Z"
   },
   {
    "duration": 613,
    "start_time": "2023-03-05T17:52:35.224Z"
   },
   {
    "duration": 46,
    "start_time": "2023-03-05T17:52:35.967Z"
   },
   {
    "duration": 102,
    "start_time": "2023-03-05T17:52:37.925Z"
   },
   {
    "duration": 51383,
    "start_time": "2023-03-05T17:52:38.703Z"
   },
   {
    "duration": 27516,
    "start_time": "2023-03-05T17:53:30.088Z"
   },
   {
    "duration": 79,
    "start_time": "2023-03-05T17:53:57.606Z"
   },
   {
    "duration": 148,
    "start_time": "2023-03-05T17:53:57.687Z"
   },
   {
    "duration": 3,
    "start_time": "2023-03-05T17:53:57.836Z"
   },
   {
    "duration": 9,
    "start_time": "2023-03-05T17:53:57.841Z"
   },
   {
    "duration": 8,
    "start_time": "2023-03-05T17:54:37.712Z"
   },
   {
    "duration": 3,
    "start_time": "2023-03-05T17:54:39.391Z"
   },
   {
    "duration": 18425,
    "start_time": "2023-03-05T17:54:40.228Z"
   },
   {
    "duration": 8,
    "start_time": "2023-03-05T17:55:19.960Z"
   },
   {
    "duration": 95283,
    "start_time": "2023-03-05T17:55:22.964Z"
   },
   {
    "duration": 9,
    "start_time": "2023-03-05T17:56:58.249Z"
   },
   {
    "duration": 3,
    "start_time": "2023-03-05T17:57:43.800Z"
   },
   {
    "duration": 2055,
    "start_time": "2023-03-05T17:57:44.774Z"
   },
   {
    "duration": 65,
    "start_time": "2023-03-05T17:57:46.831Z"
   },
   {
    "duration": 4,
    "start_time": "2023-03-05T17:58:12.839Z"
   },
   {
    "duration": 3,
    "start_time": "2023-03-05T17:58:14.838Z"
   },
   {
    "duration": 4193,
    "start_time": "2023-03-05T17:58:15.827Z"
   },
   {
    "duration": 81,
    "start_time": "2023-03-05T17:58:20.022Z"
   },
   {
    "duration": 5,
    "start_time": "2023-03-05T17:58:32.694Z"
   },
   {
    "duration": 1105369,
    "start_time": "2023-03-05T17:58:36.223Z"
   },
   {
    "duration": 8,
    "start_time": "2023-03-05T18:17:01.594Z"
   },
   {
    "duration": 92,
    "start_time": "2023-03-05T18:23:24.699Z"
   },
   {
    "duration": 326873,
    "start_time": "2023-03-05T18:23:25.599Z"
   },
   {
    "duration": 3071,
    "start_time": "2023-03-05T18:28:52.474Z"
   },
   {
    "duration": 4,
    "start_time": "2023-03-05T19:24:01.556Z"
   },
   {
    "duration": 3,
    "start_time": "2023-03-05T19:24:04.596Z"
   },
   {
    "duration": 13298,
    "start_time": "2023-03-05T19:24:05.769Z"
   },
   {
    "duration": 101,
    "start_time": "2023-03-05T19:24:25.711Z"
   },
   {
    "duration": 4,
    "start_time": "2023-03-05T19:24:56.339Z"
   },
   {
    "duration": 3111318,
    "start_time": "2023-03-05T19:25:35.142Z"
   },
   {
    "duration": 8,
    "start_time": "2023-03-05T20:17:26.462Z"
   },
   {
    "duration": 594852,
    "start_time": "2023-03-05T20:20:55.712Z"
   },
   {
    "duration": 8,
    "start_time": "2023-03-05T20:30:50.566Z"
   },
   {
    "duration": 4,
    "start_time": "2023-03-05T20:33:03.541Z"
   },
   {
    "duration": 4666,
    "start_time": "2023-03-05T20:33:04.285Z"
   },
   {
    "duration": 312,
    "start_time": "2023-03-05T20:33:08.953Z"
   },
   {
    "duration": 4,
    "start_time": "2023-03-05T20:33:42.935Z"
   },
   {
    "duration": 2,
    "start_time": "2023-03-05T20:33:46.720Z"
   },
   {
    "duration": 50272,
    "start_time": "2023-03-05T20:33:48.787Z"
   },
   {
    "duration": 4814,
    "start_time": "2023-03-05T20:34:39.061Z"
   },
   {
    "duration": 4,
    "start_time": "2023-03-05T20:34:52.879Z"
   },
   {
    "duration": 39,
    "start_time": "2023-03-05T20:34:57.611Z"
   },
   {
    "duration": 3,
    "start_time": "2023-03-05T20:35:50.327Z"
   },
   {
    "duration": 83,
    "start_time": "2023-03-05T20:35:51.795Z"
   },
   {
    "duration": 7,
    "start_time": "2023-03-05T20:35:53.162Z"
   },
   {
    "duration": 3,
    "start_time": "2023-03-05T20:36:04.037Z"
   },
   {
    "duration": 76,
    "start_time": "2023-03-05T20:36:04.868Z"
   },
   {
    "duration": 7,
    "start_time": "2023-03-05T20:36:11.397Z"
   },
   {
    "duration": 51,
    "start_time": "2023-03-07T07:41:40.683Z"
   },
   {
    "duration": 1563,
    "start_time": "2023-03-07T07:41:47.700Z"
   },
   {
    "duration": 1229,
    "start_time": "2023-03-07T07:41:49.272Z"
   },
   {
    "duration": 116,
    "start_time": "2023-03-07T07:41:50.502Z"
   },
   {
    "duration": 94,
    "start_time": "2023-03-07T07:41:50.620Z"
   },
   {
    "duration": 22,
    "start_time": "2023-03-07T07:41:50.716Z"
   },
   {
    "duration": 94,
    "start_time": "2023-03-07T07:41:50.740Z"
   },
   {
    "duration": 147,
    "start_time": "2023-03-07T07:41:50.835Z"
   },
   {
    "duration": 76,
    "start_time": "2023-03-07T07:41:50.984Z"
   },
   {
    "duration": 67,
    "start_time": "2023-03-07T07:41:51.070Z"
   },
   {
    "duration": 188,
    "start_time": "2023-03-07T07:41:51.139Z"
   },
   {
    "duration": 170,
    "start_time": "2023-03-07T07:41:51.329Z"
   },
   {
    "duration": 244,
    "start_time": "2023-03-07T07:41:51.500Z"
   },
   {
    "duration": 227,
    "start_time": "2023-03-07T07:41:51.746Z"
   },
   {
    "duration": 307,
    "start_time": "2023-03-07T07:41:51.974Z"
   },
   {
    "duration": 230,
    "start_time": "2023-03-07T07:41:52.283Z"
   },
   {
    "duration": 317,
    "start_time": "2023-03-07T07:41:52.515Z"
   },
   {
    "duration": 257,
    "start_time": "2023-03-07T07:41:52.833Z"
   },
   {
    "duration": 62,
    "start_time": "2023-03-07T07:41:53.091Z"
   },
   {
    "duration": 824,
    "start_time": "2023-03-07T07:41:53.154Z"
   },
   {
    "duration": 40,
    "start_time": "2023-03-07T07:41:53.981Z"
   },
   {
    "duration": 737,
    "start_time": "2023-03-07T07:41:54.023Z"
   },
   {
    "duration": 43,
    "start_time": "2023-03-07T07:41:54.762Z"
   },
   {
    "duration": 570,
    "start_time": "2023-03-07T07:41:54.807Z"
   },
   {
    "duration": 48,
    "start_time": "2023-03-07T07:41:55.379Z"
   },
   {
    "duration": 47,
    "start_time": "2023-03-07T07:42:00.686Z"
   },
   {
    "duration": 523,
    "start_time": "2023-03-07T07:42:01.767Z"
   },
   {
    "duration": 692,
    "start_time": "2023-03-07T07:42:17.838Z"
   },
   {
    "duration": 733,
    "start_time": "2023-03-07T07:42:36.399Z"
   },
   {
    "duration": 3179,
    "start_time": "2023-03-07T07:43:13.245Z"
   },
   {
    "duration": 18,
    "start_time": "2023-03-07T07:43:53.464Z"
   },
   {
    "duration": 79,
    "start_time": "2023-03-07T07:48:35.831Z"
   },
   {
    "duration": 95,
    "start_time": "2023-03-07T07:48:50.716Z"
   },
   {
    "duration": 44757,
    "start_time": "2023-03-07T07:48:52.236Z"
   },
   {
    "duration": 31384,
    "start_time": "2023-03-07T07:49:36.995Z"
   },
   {
    "duration": 55,
    "start_time": "2023-03-07T07:50:08.381Z"
   },
   {
    "duration": 156,
    "start_time": "2023-03-07T07:50:08.438Z"
   },
   {
    "duration": 2,
    "start_time": "2023-03-07T07:50:08.596Z"
   },
   {
    "duration": 7,
    "start_time": "2023-03-07T07:50:08.600Z"
   },
   {
    "duration": 9,
    "start_time": "2023-03-07T07:50:08.609Z"
   },
   {
    "duration": 3,
    "start_time": "2023-03-07T07:50:08.619Z"
   },
   {
    "duration": 33243,
    "start_time": "2023-03-07T07:50:08.624Z"
   },
   {
    "duration": 281,
    "start_time": "2023-03-07T07:50:41.869Z"
   },
   {
    "duration": 103,
    "start_time": "2023-03-07T07:50:42.156Z"
   },
   {
    "duration": 102,
    "start_time": "2023-03-07T07:50:42.260Z"
   },
   {
    "duration": 4,
    "start_time": "2023-03-07T07:52:48.019Z"
   },
   {
    "duration": 20,
    "start_time": "2023-03-07T07:57:17.800Z"
   },
   {
    "duration": 12,
    "start_time": "2023-03-07T07:58:20.405Z"
   },
   {
    "duration": 12,
    "start_time": "2023-03-07T07:58:33.031Z"
   },
   {
    "duration": 363,
    "start_time": "2023-03-07T07:58:55.074Z"
   },
   {
    "duration": 69,
    "start_time": "2023-03-07T08:00:12.003Z"
   },
   {
    "duration": 50,
    "start_time": "2023-03-07T08:00:19.425Z"
   },
   {
    "duration": 12,
    "start_time": "2023-03-07T08:00:38.764Z"
   },
   {
    "duration": 18,
    "start_time": "2023-03-07T08:02:03.041Z"
   },
   {
    "duration": 4,
    "start_time": "2023-03-07T08:02:13.381Z"
   },
   {
    "duration": 219,
    "start_time": "2023-03-07T08:02:17.371Z"
   },
   {
    "duration": 383,
    "start_time": "2023-03-07T08:02:20.091Z"
   },
   {
    "duration": 73,
    "start_time": "2023-03-07T08:02:32.624Z"
   },
   {
    "duration": 15,
    "start_time": "2023-03-07T08:03:08.094Z"
   },
   {
    "duration": 257,
    "start_time": "2023-03-07T08:03:16.124Z"
   },
   {
    "duration": 20,
    "start_time": "2023-03-07T08:03:24.286Z"
   },
   {
    "duration": 87,
    "start_time": "2023-03-07T08:03:46.456Z"
   },
   {
    "duration": 219,
    "start_time": "2023-03-07T08:03:54.545Z"
   },
   {
    "duration": 23,
    "start_time": "2023-03-07T08:03:56.052Z"
   },
   {
    "duration": 255,
    "start_time": "2023-03-07T08:04:55.314Z"
   },
   {
    "duration": 14,
    "start_time": "2023-03-07T08:04:58.201Z"
   },
   {
    "duration": 121,
    "start_time": "2023-03-07T08:05:10.046Z"
   },
   {
    "duration": 327,
    "start_time": "2023-03-07T08:05:11.004Z"
   },
   {
    "duration": 225,
    "start_time": "2023-03-07T08:05:12.106Z"
   },
   {
    "duration": 80,
    "start_time": "2023-03-07T08:05:14.689Z"
   },
   {
    "duration": 19,
    "start_time": "2023-03-07T08:05:40.170Z"
   },
   {
    "duration": 18,
    "start_time": "2023-03-07T08:05:52.217Z"
   },
   {
    "duration": 71,
    "start_time": "2023-03-07T08:06:41.195Z"
   },
   {
    "duration": 76,
    "start_time": "2023-03-07T08:07:02.991Z"
   },
   {
    "duration": 87,
    "start_time": "2023-03-07T08:07:27.545Z"
   },
   {
    "duration": 86,
    "start_time": "2023-03-07T08:07:38.892Z"
   },
   {
    "duration": 10,
    "start_time": "2023-03-07T08:08:24.317Z"
   },
   {
    "duration": 10,
    "start_time": "2023-03-07T08:08:28.610Z"
   },
   {
    "duration": 80,
    "start_time": "2023-03-07T08:08:42.064Z"
   },
   {
    "duration": 342,
    "start_time": "2023-03-07T08:08:42.796Z"
   },
   {
    "duration": 204,
    "start_time": "2023-03-07T08:08:43.584Z"
   },
   {
    "duration": 13,
    "start_time": "2023-03-07T08:08:45.307Z"
   },
   {
    "duration": 103,
    "start_time": "2023-03-07T08:08:51.786Z"
   },
   {
    "duration": 5,
    "start_time": "2023-03-07T08:09:18.739Z"
   },
   {
    "duration": 72,
    "start_time": "2023-03-07T08:11:27.693Z"
   },
   {
    "duration": 19,
    "start_time": "2023-03-07T08:12:09.991Z"
   },
   {
    "duration": 11,
    "start_time": "2023-03-07T08:12:17.795Z"
   },
   {
    "duration": 18,
    "start_time": "2023-03-07T08:12:50.671Z"
   },
   {
    "duration": 89,
    "start_time": "2023-03-07T08:13:02.788Z"
   },
   {
    "duration": 88,
    "start_time": "2023-03-07T08:13:48.317Z"
   },
   {
    "duration": 339,
    "start_time": "2023-03-07T08:13:49.482Z"
   },
   {
    "duration": 217,
    "start_time": "2023-03-07T08:13:50.825Z"
   },
   {
    "duration": 109,
    "start_time": "2023-03-07T08:13:52.613Z"
   },
   {
    "duration": 70,
    "start_time": "2023-03-07T08:13:56.415Z"
   },
   {
    "duration": 10288,
    "start_time": "2023-03-07T08:14:01.427Z"
   },
   {
    "duration": 9,
    "start_time": "2023-03-07T08:14:14.822Z"
   },
   {
    "duration": 3,
    "start_time": "2023-03-07T08:14:24.041Z"
   },
   {
    "duration": 251,
    "start_time": "2023-03-07T08:14:24.724Z"
   },
   {
    "duration": 7,
    "start_time": "2023-03-07T08:14:26.527Z"
   },
   {
    "duration": 4,
    "start_time": "2023-03-07T08:14:27.499Z"
   },
   {
    "duration": 3,
    "start_time": "2023-03-07T08:14:28.323Z"
   },
   {
    "duration": 413,
    "start_time": "2023-03-07T08:14:29.134Z"
   },
   {
    "duration": 26,
    "start_time": "2023-03-07T08:14:30.447Z"
   },
   {
    "duration": 4,
    "start_time": "2023-03-07T08:14:35.120Z"
   },
   {
    "duration": 3,
    "start_time": "2023-03-07T08:14:59.244Z"
   },
   {
    "duration": 5,
    "start_time": "2023-03-07T08:15:06.707Z"
   },
   {
    "duration": 7,
    "start_time": "2023-03-07T08:15:20.496Z"
   },
   {
    "duration": 3,
    "start_time": "2023-03-07T08:15:24.836Z"
   },
   {
    "duration": 53,
    "start_time": "2023-03-07T08:15:25.535Z"
   },
   {
    "duration": 8,
    "start_time": "2023-03-07T08:15:26.687Z"
   },
   {
    "duration": 102,
    "start_time": "2023-03-07T08:15:43.125Z"
   },
   {
    "duration": 44863,
    "start_time": "2023-03-07T08:15:45.014Z"
   },
   {
    "duration": 27069,
    "start_time": "2023-03-07T08:16:29.887Z"
   },
   {
    "duration": 72,
    "start_time": "2023-03-07T08:16:56.957Z"
   },
   {
    "duration": 176,
    "start_time": "2023-03-07T08:16:57.031Z"
   },
   {
    "duration": 3,
    "start_time": "2023-03-07T08:16:57.209Z"
   },
   {
    "duration": 5,
    "start_time": "2023-03-07T08:17:13.486Z"
   },
   {
    "duration": 10,
    "start_time": "2023-03-07T08:17:14.239Z"
   },
   {
    "duration": 2,
    "start_time": "2023-03-07T08:17:19.145Z"
   },
   {
    "duration": 5,
    "start_time": "2023-03-07T08:17:20.287Z"
   },
   {
    "duration": 7,
    "start_time": "2023-03-07T08:17:27.821Z"
   },
   {
    "duration": 3,
    "start_time": "2023-03-07T08:17:29.500Z"
   },
   {
    "duration": 46244,
    "start_time": "2023-03-07T08:17:30.071Z"
   },
   {
    "duration": 236,
    "start_time": "2023-03-07T08:18:16.317Z"
   },
   {
    "duration": 5,
    "start_time": "2023-03-07T08:18:31.729Z"
   },
   {
    "duration": 92,
    "start_time": "2023-03-07T08:18:34.390Z"
   },
   {
    "duration": 336,
    "start_time": "2023-03-07T08:18:35.099Z"
   },
   {
    "duration": 274,
    "start_time": "2023-03-07T08:18:35.918Z"
   },
   {
    "duration": 104,
    "start_time": "2023-03-07T08:18:36.993Z"
   },
   {
    "duration": 10828,
    "start_time": "2023-03-07T08:18:44.410Z"
   },
   {
    "duration": 23,
    "start_time": "2023-03-07T08:18:55.241Z"
   },
   {
    "duration": 2,
    "start_time": "2023-03-07T08:19:16.803Z"
   },
   {
    "duration": 235,
    "start_time": "2023-03-07T08:19:17.534Z"
   },
   {
    "duration": 8,
    "start_time": "2023-03-07T08:19:18.304Z"
   },
   {
    "duration": 4,
    "start_time": "2023-03-07T08:19:35.486Z"
   },
   {
    "duration": 3,
    "start_time": "2023-03-07T08:19:36.193Z"
   },
   {
    "duration": 445,
    "start_time": "2023-03-07T08:19:36.838Z"
   },
   {
    "duration": 18,
    "start_time": "2023-03-07T08:19:37.991Z"
   },
   {
    "duration": 8,
    "start_time": "2023-03-07T08:19:51.178Z"
   },
   {
    "duration": 4,
    "start_time": "2023-03-07T08:20:08.910Z"
   },
   {
    "duration": 127434,
    "start_time": "2023-03-07T08:20:12.166Z"
   },
   {
    "duration": 8,
    "start_time": "2023-03-07T08:22:19.602Z"
   },
   {
    "duration": 4,
    "start_time": "2023-03-07T08:23:09.086Z"
   },
   {
    "duration": 332298,
    "start_time": "2023-03-07T08:23:13.286Z"
   },
   {
    "duration": 9,
    "start_time": "2023-03-07T08:30:23.808Z"
   },
   {
    "duration": 1743,
    "start_time": "2023-03-07T08:55:56.000Z"
   },
   {
    "duration": 1399,
    "start_time": "2023-03-07T08:55:57.744Z"
   },
   {
    "duration": 138,
    "start_time": "2023-03-07T08:55:59.145Z"
   },
   {
    "duration": 111,
    "start_time": "2023-03-07T08:55:59.286Z"
   },
   {
    "duration": 30,
    "start_time": "2023-03-07T08:55:59.399Z"
   },
   {
    "duration": 145,
    "start_time": "2023-03-07T08:55:59.430Z"
   },
   {
    "duration": 120,
    "start_time": "2023-03-07T08:55:59.577Z"
   },
   {
    "duration": 94,
    "start_time": "2023-03-07T08:55:59.698Z"
   },
   {
    "duration": 72,
    "start_time": "2023-03-07T08:55:59.794Z"
   },
   {
    "duration": 254,
    "start_time": "2023-03-07T08:55:59.870Z"
   },
   {
    "duration": 204,
    "start_time": "2023-03-07T08:56:00.125Z"
   },
   {
    "duration": 306,
    "start_time": "2023-03-07T08:56:00.330Z"
   },
   {
    "duration": 255,
    "start_time": "2023-03-07T08:56:00.637Z"
   },
   {
    "duration": 302,
    "start_time": "2023-03-07T08:56:00.893Z"
   },
   {
    "duration": 235,
    "start_time": "2023-03-07T08:56:01.197Z"
   },
   {
    "duration": 292,
    "start_time": "2023-03-07T08:56:01.434Z"
   },
   {
    "duration": 258,
    "start_time": "2023-03-07T08:56:01.727Z"
   },
   {
    "duration": 73,
    "start_time": "2023-03-07T08:56:01.986Z"
   },
   {
    "duration": 773,
    "start_time": "2023-03-07T08:56:02.066Z"
   },
   {
    "duration": 54,
    "start_time": "2023-03-07T08:56:02.841Z"
   },
   {
    "duration": 752,
    "start_time": "2023-03-07T08:56:02.898Z"
   },
   {
    "duration": 39,
    "start_time": "2023-03-07T08:56:03.656Z"
   },
   {
    "duration": 515,
    "start_time": "2023-03-07T08:56:03.697Z"
   },
   {
    "duration": 65,
    "start_time": "2023-03-07T08:56:04.214Z"
   },
   {
    "duration": 2739,
    "start_time": "2023-03-07T08:56:04.281Z"
   },
   {
    "duration": 18,
    "start_time": "2023-03-07T08:56:07.022Z"
   },
   {
    "duration": 95,
    "start_time": "2023-03-07T08:56:07.041Z"
   },
   {
    "duration": 29075,
    "start_time": "2023-03-07T08:56:07.139Z"
   },
   {
    "duration": 12912,
    "start_time": "2023-03-07T08:56:36.215Z"
   },
   {
    "duration": 79,
    "start_time": "2023-03-07T08:56:49.129Z"
   },
   {
    "duration": 169,
    "start_time": "2023-03-07T08:56:49.210Z"
   },
   {
    "duration": 2,
    "start_time": "2023-03-07T08:56:49.381Z"
   },
   {
    "duration": 18,
    "start_time": "2023-03-07T08:56:49.385Z"
   },
   {
    "duration": 16,
    "start_time": "2023-03-07T08:56:49.404Z"
   },
   {
    "duration": 6,
    "start_time": "2023-03-07T08:56:49.422Z"
   },
   {
    "duration": 61361,
    "start_time": "2023-03-07T08:56:49.429Z"
   },
   {
    "duration": 273,
    "start_time": "2023-03-07T08:57:50.791Z"
   },
   {
    "duration": 97,
    "start_time": "2023-03-07T08:57:51.066Z"
   },
   {
    "duration": 72,
    "start_time": "2023-03-07T08:57:51.168Z"
   },
   {
    "duration": 360,
    "start_time": "2023-03-07T08:57:51.242Z"
   },
   {
    "duration": 204,
    "start_time": "2023-03-07T08:57:51.603Z"
   },
   {
    "duration": 84,
    "start_time": "2023-03-07T08:57:51.809Z"
   },
   {
    "duration": 10426,
    "start_time": "2023-03-07T08:57:51.895Z"
   },
   {
    "duration": 8,
    "start_time": "2023-03-07T08:58:02.322Z"
   },
   {
    "duration": 47,
    "start_time": "2023-03-07T08:58:02.332Z"
   },
   {
    "duration": 228,
    "start_time": "2023-03-07T08:58:02.380Z"
   },
   {
    "duration": 8,
    "start_time": "2023-03-07T08:58:02.610Z"
   },
   {
    "duration": 4,
    "start_time": "2023-03-07T08:58:02.619Z"
   },
   {
    "duration": 5,
    "start_time": "2023-03-07T08:58:02.625Z"
   },
   {
    "duration": 462,
    "start_time": "2023-03-07T08:58:02.632Z"
   },
   {
    "duration": 15,
    "start_time": "2023-03-07T08:58:03.095Z"
   },
   {
    "duration": 3,
    "start_time": "2023-03-07T08:58:03.112Z"
   },
   {
    "duration": 1719,
    "start_time": "2023-03-07T09:20:40.352Z"
   },
   {
    "duration": 3058,
    "start_time": "2023-03-07T09:20:42.074Z"
   },
   {
    "duration": 124,
    "start_time": "2023-03-07T09:20:45.133Z"
   },
   {
    "duration": 73,
    "start_time": "2023-03-07T09:20:45.260Z"
   },
   {
    "duration": 32,
    "start_time": "2023-03-07T09:20:45.340Z"
   },
   {
    "duration": 78,
    "start_time": "2023-03-07T09:20:45.373Z"
   },
   {
    "duration": 114,
    "start_time": "2023-03-07T09:20:45.453Z"
   },
   {
    "duration": 58,
    "start_time": "2023-03-07T09:20:45.569Z"
   },
   {
    "duration": 76,
    "start_time": "2023-03-07T09:20:45.628Z"
   },
   {
    "duration": 171,
    "start_time": "2023-03-07T09:20:45.706Z"
   },
   {
    "duration": 149,
    "start_time": "2023-03-07T09:20:45.878Z"
   },
   {
    "duration": 226,
    "start_time": "2023-03-07T09:20:46.029Z"
   },
   {
    "duration": 189,
    "start_time": "2023-03-07T09:20:46.257Z"
   },
   {
    "duration": 275,
    "start_time": "2023-03-07T09:20:46.448Z"
   },
   {
    "duration": 238,
    "start_time": "2023-03-07T09:20:46.725Z"
   },
   {
    "duration": 268,
    "start_time": "2023-03-07T09:20:46.965Z"
   },
   {
    "duration": 216,
    "start_time": "2023-03-07T09:20:47.241Z"
   },
   {
    "duration": 57,
    "start_time": "2023-03-07T09:20:47.459Z"
   },
   {
    "duration": 816,
    "start_time": "2023-03-07T09:20:47.518Z"
   },
   {
    "duration": 43,
    "start_time": "2023-03-07T09:20:48.340Z"
   },
   {
    "duration": 649,
    "start_time": "2023-03-07T09:20:48.386Z"
   },
   {
    "duration": 38,
    "start_time": "2023-03-07T09:20:49.041Z"
   },
   {
    "duration": 435,
    "start_time": "2023-03-07T09:20:49.081Z"
   },
   {
    "duration": 51,
    "start_time": "2023-03-07T09:20:49.518Z"
   },
   {
    "duration": 2937,
    "start_time": "2023-03-07T09:20:49.578Z"
   },
   {
    "duration": 27,
    "start_time": "2023-03-07T09:20:52.518Z"
   },
   {
    "duration": 103,
    "start_time": "2023-03-07T09:20:52.546Z"
   },
   {
    "duration": 54579,
    "start_time": "2023-03-07T09:20:53.293Z"
   },
   {
    "duration": 30614,
    "start_time": "2023-03-07T09:21:47.874Z"
   },
   {
    "duration": 61,
    "start_time": "2023-03-07T09:22:18.489Z"
   },
   {
    "duration": 145,
    "start_time": "2023-03-07T09:22:18.552Z"
   },
   {
    "duration": 2,
    "start_time": "2023-03-07T09:22:18.699Z"
   },
   {
    "duration": 12,
    "start_time": "2023-03-07T09:22:18.702Z"
   },
   {
    "duration": 9,
    "start_time": "2023-03-07T09:22:18.716Z"
   },
   {
    "duration": 17,
    "start_time": "2023-03-07T09:22:18.727Z"
   },
   {
    "duration": 31713,
    "start_time": "2023-03-07T09:22:18.746Z"
   },
   {
    "duration": 199,
    "start_time": "2023-03-07T09:22:50.542Z"
   },
   {
    "duration": 5,
    "start_time": "2023-03-07T09:22:50.743Z"
   },
   {
    "duration": 175,
    "start_time": "2023-03-07T09:22:50.750Z"
   },
   {
    "duration": 261,
    "start_time": "2023-03-07T09:22:50.927Z"
   },
   {
    "duration": 162,
    "start_time": "2023-03-07T09:22:51.190Z"
   },
   {
    "duration": 103,
    "start_time": "2023-03-07T09:22:51.355Z"
   },
   {
    "duration": 9140,
    "start_time": "2023-03-07T09:22:51.460Z"
   },
   {
    "duration": 8,
    "start_time": "2023-03-07T09:23:00.602Z"
   },
   {
    "duration": 41,
    "start_time": "2023-03-07T09:23:00.612Z"
   },
   {
    "duration": 200,
    "start_time": "2023-03-07T09:23:00.656Z"
   },
   {
    "duration": 9,
    "start_time": "2023-03-07T09:23:00.858Z"
   },
   {
    "duration": 49,
    "start_time": "2023-03-07T09:23:00.869Z"
   },
   {
    "duration": 50,
    "start_time": "2023-03-07T09:23:00.920Z"
   },
   {
    "duration": 422,
    "start_time": "2023-03-07T09:23:00.971Z"
   },
   {
    "duration": 15,
    "start_time": "2023-03-07T09:23:01.394Z"
   },
   {
    "duration": 15,
    "start_time": "2023-03-07T09:23:01.411Z"
   },
   {
    "duration": 11447,
    "start_time": "2023-03-07T09:23:05.925Z"
   },
   {
    "duration": 1,
    "start_time": "2023-03-07T09:23:17.374Z"
   },
   {
    "duration": 18074,
    "start_time": "2023-03-07T09:23:26.822Z"
   },
   {
    "duration": 0,
    "start_time": "2023-03-07T09:23:44.897Z"
   },
   {
    "duration": 1517,
    "start_time": "2023-03-07T09:32:20.244Z"
   },
   {
    "duration": 3018,
    "start_time": "2023-03-07T09:32:21.763Z"
   },
   {
    "duration": 125,
    "start_time": "2023-03-07T09:32:24.783Z"
   },
   {
    "duration": 81,
    "start_time": "2023-03-07T09:32:24.910Z"
   },
   {
    "duration": 30,
    "start_time": "2023-03-07T09:32:24.993Z"
   },
   {
    "duration": 81,
    "start_time": "2023-03-07T09:32:25.024Z"
   },
   {
    "duration": 114,
    "start_time": "2023-03-07T09:32:25.107Z"
   },
   {
    "duration": 68,
    "start_time": "2023-03-07T09:32:25.222Z"
   },
   {
    "duration": 75,
    "start_time": "2023-03-07T09:32:25.291Z"
   },
   {
    "duration": 155,
    "start_time": "2023-03-07T09:32:25.367Z"
   },
   {
    "duration": 157,
    "start_time": "2023-03-07T09:32:25.523Z"
   },
   {
    "duration": 220,
    "start_time": "2023-03-07T09:32:25.681Z"
   },
   {
    "duration": 195,
    "start_time": "2023-03-07T09:32:25.903Z"
   },
   {
    "duration": 252,
    "start_time": "2023-03-07T09:32:26.101Z"
   },
   {
    "duration": 191,
    "start_time": "2023-03-07T09:32:26.354Z"
   },
   {
    "duration": 246,
    "start_time": "2023-03-07T09:32:26.547Z"
   },
   {
    "duration": 211,
    "start_time": "2023-03-07T09:32:26.795Z"
   },
   {
    "duration": 63,
    "start_time": "2023-03-07T09:32:27.007Z"
   },
   {
    "duration": 736,
    "start_time": "2023-03-07T09:32:27.071Z"
   },
   {
    "duration": 48,
    "start_time": "2023-03-07T09:32:27.809Z"
   },
   {
    "duration": 610,
    "start_time": "2023-03-07T09:32:27.858Z"
   },
   {
    "duration": 34,
    "start_time": "2023-03-07T09:32:28.470Z"
   },
   {
    "duration": 452,
    "start_time": "2023-03-07T09:32:28.506Z"
   },
   {
    "duration": 42,
    "start_time": "2023-03-07T09:32:28.960Z"
   },
   {
    "duration": 2761,
    "start_time": "2023-03-07T09:32:29.004Z"
   },
   {
    "duration": 17,
    "start_time": "2023-03-07T09:32:31.767Z"
   },
   {
    "duration": 102,
    "start_time": "2023-03-07T09:32:31.786Z"
   },
   {
    "duration": 53777,
    "start_time": "2023-03-07T09:32:31.890Z"
   },
   {
    "duration": 25377,
    "start_time": "2023-03-07T09:33:25.668Z"
   },
   {
    "duration": 54,
    "start_time": "2023-03-07T09:33:51.047Z"
   },
   {
    "duration": 156,
    "start_time": "2023-03-07T09:33:51.102Z"
   },
   {
    "duration": 2,
    "start_time": "2023-03-07T09:33:51.260Z"
   },
   {
    "duration": 6,
    "start_time": "2023-03-07T09:33:51.264Z"
   },
   {
    "duration": 9,
    "start_time": "2023-03-07T09:33:51.271Z"
   },
   {
    "duration": 3,
    "start_time": "2023-03-07T09:33:51.281Z"
   },
   {
    "duration": 23160,
    "start_time": "2023-03-07T09:33:51.286Z"
   },
   {
    "duration": 195,
    "start_time": "2023-03-07T09:34:14.447Z"
   },
   {
    "duration": 10,
    "start_time": "2023-03-07T09:34:14.644Z"
   },
   {
    "duration": 203,
    "start_time": "2023-03-07T09:34:14.655Z"
   },
   {
    "duration": 275,
    "start_time": "2023-03-07T09:34:14.860Z"
   },
   {
    "duration": 175,
    "start_time": "2023-03-07T09:34:15.141Z"
   },
   {
    "duration": 99,
    "start_time": "2023-03-07T09:34:15.318Z"
   },
   {
    "duration": 8866,
    "start_time": "2023-03-07T09:34:15.418Z"
   },
   {
    "duration": 8,
    "start_time": "2023-03-07T09:34:24.286Z"
   },
   {
    "duration": 8,
    "start_time": "2023-03-07T09:34:24.296Z"
   },
   {
    "duration": 186,
    "start_time": "2023-03-07T09:34:24.305Z"
   },
   {
    "duration": 8,
    "start_time": "2023-03-07T09:34:24.493Z"
   },
   {
    "duration": 5,
    "start_time": "2023-03-07T09:34:24.503Z"
   },
   {
    "duration": 4,
    "start_time": "2023-03-07T09:34:24.509Z"
   },
   {
    "duration": 390,
    "start_time": "2023-03-07T09:34:24.515Z"
   },
   {
    "duration": 15,
    "start_time": "2023-03-07T09:34:24.907Z"
   },
   {
    "duration": 3,
    "start_time": "2023-03-07T09:34:24.923Z"
   },
   {
    "duration": 206832,
    "start_time": "2023-03-07T09:42:28.132Z"
   },
   {
    "duration": 8,
    "start_time": "2023-03-07T09:45:54.966Z"
   },
   {
    "duration": 105,
    "start_time": "2023-03-07T09:46:26.919Z"
   },
   {
    "duration": 64255,
    "start_time": "2023-03-07T09:46:27.715Z"
   },
   {
    "duration": 3797,
    "start_time": "2023-03-07T09:47:31.972Z"
   },
   {
    "duration": 5,
    "start_time": "2023-03-07T09:49:34.024Z"
   },
   {
    "duration": 93,
    "start_time": "2023-03-07T10:18:54.997Z"
   },
   {
    "duration": 131,
    "start_time": "2023-03-07T10:20:35.891Z"
   },
   {
    "duration": 13,
    "start_time": "2023-03-07T10:20:42.654Z"
   },
   {
    "duration": 83931,
    "start_time": "2023-03-07T10:20:44.686Z"
   },
   {
    "duration": 3,
    "start_time": "2023-03-07T10:22:25.780Z"
   },
   {
    "duration": 35207,
    "start_time": "2023-03-07T10:22:26.579Z"
   },
   {
    "duration": 167,
    "start_time": "2023-03-07T10:23:05.602Z"
   },
   {
    "duration": 3,
    "start_time": "2023-03-07T10:23:23.076Z"
   },
   {
    "duration": 38,
    "start_time": "2023-03-07T10:23:52.730Z"
   },
   {
    "duration": 18,
    "start_time": "2023-03-07T10:24:01.380Z"
   },
   {
    "duration": 88,
    "start_time": "2023-03-07T10:24:21.604Z"
   },
   {
    "duration": 81,
    "start_time": "2023-03-07T10:24:26.090Z"
   },
   {
    "duration": 45,
    "start_time": "2023-03-07T10:24:41.512Z"
   },
   {
    "duration": 102,
    "start_time": "2023-03-07T10:24:53.054Z"
   },
   {
    "duration": 44,
    "start_time": "2023-03-07T10:24:54.470Z"
   },
   {
    "duration": 88,
    "start_time": "2023-03-07T10:25:02.174Z"
   },
   {
    "duration": 12,
    "start_time": "2023-03-07T10:25:03.678Z"
   },
   {
    "duration": 61,
    "start_time": "2023-03-07T10:25:36.671Z"
   },
   {
    "duration": 2239382,
    "start_time": "2023-03-07T10:25:42.177Z"
   },
   {
    "duration": 8,
    "start_time": "2023-03-07T11:03:01.561Z"
   },
   {
    "duration": 298276,
    "start_time": "2023-03-07T11:06:37.491Z"
   },
   {
    "duration": 8,
    "start_time": "2023-03-07T11:11:35.769Z"
   },
   {
    "duration": 4,
    "start_time": "2023-03-07T11:18:05.950Z"
   },
   {
    "duration": 735,
    "start_time": "2023-03-07T11:18:07.616Z"
   },
   {
    "duration": 26,
    "start_time": "2023-03-07T11:18:08.478Z"
   },
   {
    "duration": 4,
    "start_time": "2023-03-07T11:18:39.352Z"
   },
   {
    "duration": 3,
    "start_time": "2023-03-07T11:18:57.961Z"
   },
   {
    "duration": 9017,
    "start_time": "2023-03-07T11:18:58.637Z"
   },
   {
    "duration": 802,
    "start_time": "2023-03-07T11:19:07.656Z"
   },
   {
    "duration": 4,
    "start_time": "2023-03-07T11:19:32.303Z"
   },
   {
    "duration": 40,
    "start_time": "2023-03-07T11:19:36.727Z"
   },
   {
    "duration": 1548,
    "start_time": "2023-03-07T13:34:22.800Z"
   },
   {
    "duration": 2909,
    "start_time": "2023-03-07T13:34:24.350Z"
   },
   {
    "duration": 123,
    "start_time": "2023-03-07T13:34:27.261Z"
   },
   {
    "duration": 91,
    "start_time": "2023-03-07T13:34:27.386Z"
   },
   {
    "duration": 31,
    "start_time": "2023-03-07T13:34:29.954Z"
   },
   {
    "duration": 73,
    "start_time": "2023-03-07T13:34:31.398Z"
   },
   {
    "duration": 117,
    "start_time": "2023-03-07T13:34:31.688Z"
   },
   {
    "duration": 72,
    "start_time": "2023-03-07T13:34:32.007Z"
   },
   {
    "duration": 69,
    "start_time": "2023-03-07T13:34:32.189Z"
   },
   {
    "duration": 165,
    "start_time": "2023-03-07T13:34:32.329Z"
   },
   {
    "duration": 162,
    "start_time": "2023-03-07T13:34:32.841Z"
   },
   {
    "duration": 237,
    "start_time": "2023-03-07T13:34:33.211Z"
   },
   {
    "duration": 226,
    "start_time": "2023-03-07T13:34:33.456Z"
   },
   {
    "duration": 265,
    "start_time": "2023-03-07T13:34:33.683Z"
   },
   {
    "duration": 228,
    "start_time": "2023-03-07T13:34:33.949Z"
   },
   {
    "duration": 277,
    "start_time": "2023-03-07T13:34:34.179Z"
   },
   {
    "duration": 213,
    "start_time": "2023-03-07T13:34:34.457Z"
   },
   {
    "duration": 53,
    "start_time": "2023-03-07T13:34:34.672Z"
   },
   {
    "duration": 738,
    "start_time": "2023-03-07T13:34:34.727Z"
   },
   {
    "duration": 43,
    "start_time": "2023-03-07T13:34:35.467Z"
   },
   {
    "duration": 631,
    "start_time": "2023-03-07T13:34:35.512Z"
   },
   {
    "duration": 45,
    "start_time": "2023-03-07T13:34:36.144Z"
   },
   {
    "duration": 469,
    "start_time": "2023-03-07T13:34:36.204Z"
   },
   {
    "duration": 45,
    "start_time": "2023-03-07T13:34:36.675Z"
   },
   {
    "duration": 2597,
    "start_time": "2023-03-07T13:34:36.794Z"
   },
   {
    "duration": 19,
    "start_time": "2023-03-07T13:34:39.393Z"
   },
   {
    "duration": 72,
    "start_time": "2023-03-07T13:34:40.680Z"
   },
   {
    "duration": 26533,
    "start_time": "2023-03-07T13:34:42.345Z"
   },
   {
    "duration": 12640,
    "start_time": "2023-03-07T13:35:08.880Z"
   },
   {
    "duration": 81,
    "start_time": "2023-03-07T13:35:21.522Z"
   },
   {
    "duration": 196,
    "start_time": "2023-03-07T13:35:21.606Z"
   },
   {
    "duration": 2,
    "start_time": "2023-03-07T13:35:21.803Z"
   },
   {
    "duration": 5,
    "start_time": "2023-03-07T13:35:21.807Z"
   },
   {
    "duration": 9,
    "start_time": "2023-03-07T13:35:36.137Z"
   },
   {
    "duration": 3,
    "start_time": "2023-03-07T13:35:38.397Z"
   },
   {
    "duration": 10833,
    "start_time": "2023-03-07T13:35:41.228Z"
   },
   {
    "duration": 197,
    "start_time": "2023-03-07T13:35:52.063Z"
   },
   {
    "duration": 5,
    "start_time": "2023-03-07T13:36:25.450Z"
   },
   {
    "duration": 58,
    "start_time": "2023-03-07T13:36:27.587Z"
   },
   {
    "duration": 300,
    "start_time": "2023-03-07T13:36:28.844Z"
   },
   {
    "duration": 174,
    "start_time": "2023-03-07T13:36:29.441Z"
   },
   {
    "duration": 92,
    "start_time": "2023-03-07T13:36:30.738Z"
   },
   {
    "duration": 2,
    "start_time": "2023-03-07T13:36:38.991Z"
   },
   {
    "duration": 209,
    "start_time": "2023-03-07T13:36:41.647Z"
   },
   {
    "duration": 9,
    "start_time": "2023-03-07T13:36:42.588Z"
   },
   {
    "duration": 4,
    "start_time": "2023-03-07T13:37:00.481Z"
   },
   {
    "duration": 3,
    "start_time": "2023-03-07T13:37:01.057Z"
   },
   {
    "duration": 443,
    "start_time": "2023-03-07T13:37:01.592Z"
   },
   {
    "duration": 17,
    "start_time": "2023-03-07T13:37:02.326Z"
   },
   {
    "duration": 4,
    "start_time": "2023-03-07T13:37:17.083Z"
   },
   {
    "duration": 2,
    "start_time": "2023-03-07T13:37:22.502Z"
   },
   {
    "duration": 72910,
    "start_time": "2023-03-07T13:37:23.992Z"
   },
   {
    "duration": 3926,
    "start_time": "2023-03-07T13:38:36.904Z"
   },
   {
    "duration": 74,
    "start_time": "2023-03-07T13:40:53.817Z"
   },
   {
    "duration": 813,
    "start_time": "2023-03-07T13:40:55.991Z"
   },
   {
    "duration": 223,
    "start_time": "2023-03-07T13:40:56.819Z"
   },
   {
    "duration": 777,
    "start_time": "2023-03-07T13:41:33.829Z"
   },
   {
    "duration": 65,
    "start_time": "2023-03-07T13:43:39.707Z"
   },
   {
    "duration": 1457,
    "start_time": "2023-03-07T13:44:03.158Z"
   },
   {
    "duration": 2954,
    "start_time": "2023-03-07T13:44:04.617Z"
   },
   {
    "duration": 124,
    "start_time": "2023-03-07T13:44:07.573Z"
   },
   {
    "duration": 96,
    "start_time": "2023-03-07T13:44:07.699Z"
   },
   {
    "duration": 29,
    "start_time": "2023-03-07T13:44:07.797Z"
   },
   {
    "duration": 89,
    "start_time": "2023-03-07T13:44:07.828Z"
   },
   {
    "duration": 129,
    "start_time": "2023-03-07T13:44:07.918Z"
   },
   {
    "duration": 71,
    "start_time": "2023-03-07T13:44:08.048Z"
   },
   {
    "duration": 77,
    "start_time": "2023-03-07T13:44:08.120Z"
   },
   {
    "duration": 194,
    "start_time": "2023-03-07T13:44:08.199Z"
   },
   {
    "duration": 280,
    "start_time": "2023-03-07T13:44:08.395Z"
   },
   {
    "duration": 252,
    "start_time": "2023-03-07T13:44:08.676Z"
   },
   {
    "duration": 238,
    "start_time": "2023-03-07T13:44:08.929Z"
   },
   {
    "duration": 261,
    "start_time": "2023-03-07T13:44:09.169Z"
   },
   {
    "duration": 219,
    "start_time": "2023-03-07T13:44:09.432Z"
   },
   {
    "duration": 260,
    "start_time": "2023-03-07T13:44:09.660Z"
   },
   {
    "duration": 217,
    "start_time": "2023-03-07T13:44:09.921Z"
   },
   {
    "duration": 60,
    "start_time": "2023-03-07T13:44:10.139Z"
   },
   {
    "duration": 711,
    "start_time": "2023-03-07T13:44:10.201Z"
   },
   {
    "duration": 47,
    "start_time": "2023-03-07T13:44:10.914Z"
   },
   {
    "duration": 627,
    "start_time": "2023-03-07T13:44:10.962Z"
   },
   {
    "duration": 38,
    "start_time": "2023-03-07T13:44:11.591Z"
   },
   {
    "duration": 475,
    "start_time": "2023-03-07T13:44:11.630Z"
   },
   {
    "duration": 53,
    "start_time": "2023-03-07T13:44:12.106Z"
   },
   {
    "duration": 2639,
    "start_time": "2023-03-07T13:44:12.161Z"
   },
   {
    "duration": 19,
    "start_time": "2023-03-07T13:44:14.802Z"
   },
   {
    "duration": 90,
    "start_time": "2023-03-07T13:44:14.823Z"
   },
   {
    "duration": 27086,
    "start_time": "2023-03-07T13:44:38.277Z"
   },
   {
    "duration": 12105,
    "start_time": "2023-03-07T13:45:27.699Z"
   },
   {
    "duration": 133,
    "start_time": "2023-03-07T13:46:00.338Z"
   },
   {
    "duration": 3,
    "start_time": "2023-03-07T13:46:04.283Z"
   },
   {
    "duration": 183,
    "start_time": "2023-03-07T13:46:19.918Z"
   },
   {
    "duration": 4,
    "start_time": "2023-03-07T13:46:28.493Z"
   },
   {
    "duration": 6,
    "start_time": "2023-03-07T13:46:44.225Z"
   },
   {
    "duration": 3,
    "start_time": "2023-03-07T13:46:48.582Z"
   },
   {
    "duration": 11438,
    "start_time": "2023-03-07T13:46:54.825Z"
   },
   {
    "duration": 292,
    "start_time": "2023-03-07T13:47:06.265Z"
   },
   {
    "duration": 4,
    "start_time": "2023-03-07T13:47:20.011Z"
   },
   {
    "duration": 3978,
    "start_time": "2023-03-07T13:47:37.553Z"
   },
   {
    "duration": 1860,
    "start_time": "2023-03-07T13:47:48.049Z"
   },
   {
    "duration": 3025,
    "start_time": "2023-03-07T13:47:57.084Z"
   },
   {
    "duration": 3,
    "start_time": "2023-03-07T13:48:22.427Z"
   },
   {
    "duration": 3820,
    "start_time": "2023-03-07T13:48:26.891Z"
   },
   {
    "duration": 2,
    "start_time": "2023-03-07T13:48:38.003Z"
   },
   {
    "duration": 3774,
    "start_time": "2023-03-07T13:48:39.884Z"
   },
   {
    "duration": 48,
    "start_time": "2023-03-07T13:48:45.476Z"
   },
   {
    "duration": 3,
    "start_time": "2023-03-07T13:49:21.258Z"
   },
   {
    "duration": 2,
    "start_time": "2023-03-07T13:49:22.753Z"
   },
   {
    "duration": 5870,
    "start_time": "2023-03-07T13:49:34.390Z"
   },
   {
    "duration": 53,
    "start_time": "2023-03-07T13:49:40.261Z"
   },
   {
    "duration": 4,
    "start_time": "2023-03-07T13:50:06.554Z"
   },
   {
    "duration": 3,
    "start_time": "2023-03-07T13:50:10.895Z"
   },
   {
    "duration": 573315,
    "start_time": "2023-03-07T13:50:15.491Z"
   },
   {
    "duration": 122,
    "start_time": "2023-03-07T13:59:48.807Z"
   },
   {
    "duration": 74,
    "start_time": "2023-03-07T13:59:59.410Z"
   },
   {
    "duration": 1436,
    "start_time": "2023-03-07T14:00:15.214Z"
   },
   {
    "duration": 2890,
    "start_time": "2023-03-07T14:00:16.653Z"
   },
   {
    "duration": 134,
    "start_time": "2023-03-07T14:00:19.545Z"
   },
   {
    "duration": 89,
    "start_time": "2023-03-07T14:00:19.680Z"
   },
   {
    "duration": 33,
    "start_time": "2023-03-07T14:00:19.772Z"
   },
   {
    "duration": 92,
    "start_time": "2023-03-07T14:00:19.806Z"
   },
   {
    "duration": 115,
    "start_time": "2023-03-07T14:00:19.900Z"
   },
   {
    "duration": 79,
    "start_time": "2023-03-07T14:00:20.016Z"
   },
   {
    "duration": 71,
    "start_time": "2023-03-07T14:00:20.097Z"
   },
   {
    "duration": 174,
    "start_time": "2023-03-07T14:00:20.169Z"
   },
   {
    "duration": 170,
    "start_time": "2023-03-07T14:00:20.344Z"
   },
   {
    "duration": 244,
    "start_time": "2023-03-07T14:00:20.516Z"
   },
   {
    "duration": 228,
    "start_time": "2023-03-07T14:00:20.762Z"
   },
   {
    "duration": 262,
    "start_time": "2023-03-07T14:00:20.993Z"
   },
   {
    "duration": 211,
    "start_time": "2023-03-07T14:00:21.257Z"
   },
   {
    "duration": 251,
    "start_time": "2023-03-07T14:00:21.469Z"
   },
   {
    "duration": 221,
    "start_time": "2023-03-07T14:00:21.722Z"
   },
   {
    "duration": 56,
    "start_time": "2023-03-07T14:00:21.945Z"
   },
   {
    "duration": 708,
    "start_time": "2023-03-07T14:00:22.002Z"
   },
   {
    "duration": 48,
    "start_time": "2023-03-07T14:00:22.711Z"
   },
   {
    "duration": 631,
    "start_time": "2023-03-07T14:00:22.761Z"
   },
   {
    "duration": 38,
    "start_time": "2023-03-07T14:00:23.394Z"
   },
   {
    "duration": 463,
    "start_time": "2023-03-07T14:00:23.434Z"
   },
   {
    "duration": 45,
    "start_time": "2023-03-07T14:00:23.899Z"
   },
   {
    "duration": 2554,
    "start_time": "2023-03-07T14:00:23.955Z"
   },
   {
    "duration": 19,
    "start_time": "2023-03-07T14:00:26.510Z"
   },
   {
    "duration": 99,
    "start_time": "2023-03-07T14:00:26.531Z"
   },
   {
    "duration": 26069,
    "start_time": "2023-03-07T14:00:31.180Z"
   },
   {
    "duration": 12580,
    "start_time": "2023-03-07T14:00:57.254Z"
   },
   {
    "duration": 130,
    "start_time": "2023-03-07T14:01:33.874Z"
   },
   {
    "duration": 2,
    "start_time": "2023-03-07T14:01:40.301Z"
   },
   {
    "duration": 5,
    "start_time": "2023-03-07T14:01:41.274Z"
   },
   {
    "duration": 11,
    "start_time": "2023-03-07T14:01:41.780Z"
   },
   {
    "duration": 3,
    "start_time": "2023-03-07T14:01:47.044Z"
   },
   {
    "duration": 19779,
    "start_time": "2023-03-07T14:01:47.786Z"
   },
   {
    "duration": 238,
    "start_time": "2023-03-07T14:02:07.567Z"
   },
   {
    "duration": 4,
    "start_time": "2023-03-07T14:02:24.095Z"
   },
   {
    "duration": 87,
    "start_time": "2023-03-07T14:02:33.752Z"
   },
   {
    "duration": 71,
    "start_time": "2023-03-07T14:03:09.376Z"
   },
   {
    "duration": 51,
    "start_time": "2023-03-07T14:04:57.811Z"
   },
   {
    "duration": 1420,
    "start_time": "2023-03-07T14:05:04.394Z"
   },
   {
    "duration": 2936,
    "start_time": "2023-03-07T14:05:05.816Z"
   },
   {
    "duration": 125,
    "start_time": "2023-03-07T14:05:08.753Z"
   },
   {
    "duration": 93,
    "start_time": "2023-03-07T14:05:08.879Z"
   },
   {
    "duration": 35,
    "start_time": "2023-03-07T14:05:08.974Z"
   },
   {
    "duration": 90,
    "start_time": "2023-03-07T14:05:09.011Z"
   },
   {
    "duration": 121,
    "start_time": "2023-03-07T14:05:09.102Z"
   },
   {
    "duration": 80,
    "start_time": "2023-03-07T14:05:09.224Z"
   },
   {
    "duration": 71,
    "start_time": "2023-03-07T14:05:09.306Z"
   },
   {
    "duration": 179,
    "start_time": "2023-03-07T14:05:09.379Z"
   },
   {
    "duration": 173,
    "start_time": "2023-03-07T14:05:09.559Z"
   },
   {
    "duration": 247,
    "start_time": "2023-03-07T14:05:09.734Z"
   },
   {
    "duration": 226,
    "start_time": "2023-03-07T14:05:09.982Z"
   },
   {
    "duration": 270,
    "start_time": "2023-03-07T14:05:10.211Z"
   },
   {
    "duration": 222,
    "start_time": "2023-03-07T14:05:10.482Z"
   },
   {
    "duration": 249,
    "start_time": "2023-03-07T14:05:10.706Z"
   },
   {
    "duration": 223,
    "start_time": "2023-03-07T14:05:10.957Z"
   },
   {
    "duration": 57,
    "start_time": "2023-03-07T14:05:11.182Z"
   },
   {
    "duration": 737,
    "start_time": "2023-03-07T14:05:11.240Z"
   },
   {
    "duration": 44,
    "start_time": "2023-03-07T14:05:11.978Z"
   },
   {
    "duration": 635,
    "start_time": "2023-03-07T14:05:12.023Z"
   },
   {
    "duration": 39,
    "start_time": "2023-03-07T14:05:12.660Z"
   },
   {
    "duration": 473,
    "start_time": "2023-03-07T14:05:12.701Z"
   },
   {
    "duration": 47,
    "start_time": "2023-03-07T14:05:13.176Z"
   },
   {
    "duration": 2630,
    "start_time": "2023-03-07T14:05:13.225Z"
   },
   {
    "duration": 20,
    "start_time": "2023-03-07T14:05:15.857Z"
   },
   {
    "duration": 83,
    "start_time": "2023-03-07T14:05:15.878Z"
   },
   {
    "duration": 4743,
    "start_time": "2023-03-07T14:05:20.400Z"
   },
   {
    "duration": 51,
    "start_time": "2023-03-07T14:05:43.397Z"
   },
   {
    "duration": 1415,
    "start_time": "2023-03-07T14:05:48.337Z"
   },
   {
    "duration": 2896,
    "start_time": "2023-03-07T14:05:49.754Z"
   },
   {
    "duration": 126,
    "start_time": "2023-03-07T14:05:52.652Z"
   },
   {
    "duration": 94,
    "start_time": "2023-03-07T14:05:52.780Z"
   },
   {
    "duration": 31,
    "start_time": "2023-03-07T14:05:52.875Z"
   },
   {
    "duration": 88,
    "start_time": "2023-03-07T14:05:52.907Z"
   },
   {
    "duration": 123,
    "start_time": "2023-03-07T14:05:52.997Z"
   },
   {
    "duration": 82,
    "start_time": "2023-03-07T14:05:53.121Z"
   },
   {
    "duration": 77,
    "start_time": "2023-03-07T14:05:53.205Z"
   },
   {
    "duration": 184,
    "start_time": "2023-03-07T14:05:53.284Z"
   },
   {
    "duration": 170,
    "start_time": "2023-03-07T14:05:53.470Z"
   },
   {
    "duration": 252,
    "start_time": "2023-03-07T14:05:53.644Z"
   },
   {
    "duration": 220,
    "start_time": "2023-03-07T14:05:53.898Z"
   },
   {
    "duration": 273,
    "start_time": "2023-03-07T14:05:54.120Z"
   },
   {
    "duration": 221,
    "start_time": "2023-03-07T14:05:54.395Z"
   },
   {
    "duration": 261,
    "start_time": "2023-03-07T14:05:54.617Z"
   },
   {
    "duration": 229,
    "start_time": "2023-03-07T14:05:54.879Z"
   },
   {
    "duration": 64,
    "start_time": "2023-03-07T14:05:55.109Z"
   },
   {
    "duration": 784,
    "start_time": "2023-03-07T14:05:55.175Z"
   },
   {
    "duration": 42,
    "start_time": "2023-03-07T14:05:55.960Z"
   },
   {
    "duration": 679,
    "start_time": "2023-03-07T14:05:56.005Z"
   },
   {
    "duration": 42,
    "start_time": "2023-03-07T14:05:56.686Z"
   },
   {
    "duration": 575,
    "start_time": "2023-03-07T14:05:56.730Z"
   },
   {
    "duration": 63,
    "start_time": "2023-03-07T14:05:57.306Z"
   },
   {
    "duration": 2709,
    "start_time": "2023-03-07T14:05:57.370Z"
   },
   {
    "duration": 19,
    "start_time": "2023-03-07T14:06:00.080Z"
   },
   {
    "duration": 77,
    "start_time": "2023-03-07T14:06:00.101Z"
   },
   {
    "duration": 27719,
    "start_time": "2023-03-07T14:06:36.118Z"
   },
   {
    "duration": 75,
    "start_time": "2023-03-07T14:07:38.096Z"
   },
   {
    "duration": 13113,
    "start_time": "2023-03-07T14:07:50.897Z"
   },
   {
    "duration": 132,
    "start_time": "2023-03-07T14:08:11.207Z"
   },
   {
    "duration": 3,
    "start_time": "2023-03-07T14:08:21.740Z"
   },
   {
    "duration": 4,
    "start_time": "2023-03-07T14:08:22.780Z"
   },
   {
    "duration": 8,
    "start_time": "2023-03-07T14:08:30.001Z"
   },
   {
    "duration": 3,
    "start_time": "2023-03-07T14:08:31.638Z"
   },
   {
    "duration": 23123,
    "start_time": "2023-03-07T14:08:32.143Z"
   },
   {
    "duration": 154,
    "start_time": "2023-03-07T14:08:55.356Z"
   },
   {
    "duration": 4,
    "start_time": "2023-03-07T14:09:09.915Z"
   },
   {
    "duration": 86,
    "start_time": "2023-03-07T14:09:15.150Z"
   },
   {
    "duration": 79,
    "start_time": "2023-03-07T14:09:38.196Z"
   },
   {
    "duration": 1478,
    "start_time": "2023-03-07T14:09:50.498Z"
   },
   {
    "duration": 2928,
    "start_time": "2023-03-07T14:09:51.978Z"
   },
   {
    "duration": 112,
    "start_time": "2023-03-07T14:09:54.907Z"
   },
   {
    "duration": 89,
    "start_time": "2023-03-07T14:09:55.020Z"
   },
   {
    "duration": 28,
    "start_time": "2023-03-07T14:09:55.111Z"
   },
   {
    "duration": 79,
    "start_time": "2023-03-07T14:09:55.140Z"
   },
   {
    "duration": 136,
    "start_time": "2023-03-07T14:09:55.220Z"
   },
   {
    "duration": 109,
    "start_time": "2023-03-07T14:09:55.357Z"
   },
   {
    "duration": 73,
    "start_time": "2023-03-07T14:09:55.469Z"
   },
   {
    "duration": 193,
    "start_time": "2023-03-07T14:09:55.543Z"
   },
   {
    "duration": 166,
    "start_time": "2023-03-07T14:09:55.738Z"
   },
   {
    "duration": 252,
    "start_time": "2023-03-07T14:09:55.905Z"
   },
   {
    "duration": 225,
    "start_time": "2023-03-07T14:09:56.159Z"
   },
   {
    "duration": 294,
    "start_time": "2023-03-07T14:09:56.387Z"
   },
   {
    "duration": 279,
    "start_time": "2023-03-07T14:09:56.682Z"
   },
   {
    "duration": 250,
    "start_time": "2023-03-07T14:09:56.963Z"
   },
   {
    "duration": 242,
    "start_time": "2023-03-07T14:09:57.215Z"
   },
   {
    "duration": 59,
    "start_time": "2023-03-07T14:09:57.458Z"
   },
   {
    "duration": 737,
    "start_time": "2023-03-07T14:09:57.518Z"
   },
   {
    "duration": 41,
    "start_time": "2023-03-07T14:09:58.257Z"
   },
   {
    "duration": 679,
    "start_time": "2023-03-07T14:09:58.299Z"
   },
   {
    "duration": 39,
    "start_time": "2023-03-07T14:09:58.979Z"
   },
   {
    "duration": 474,
    "start_time": "2023-03-07T14:09:59.019Z"
   },
   {
    "duration": 61,
    "start_time": "2023-03-07T14:09:59.495Z"
   },
   {
    "duration": 2647,
    "start_time": "2023-03-07T14:09:59.558Z"
   },
   {
    "duration": 18,
    "start_time": "2023-03-07T14:10:02.207Z"
   },
   {
    "duration": 134,
    "start_time": "2023-03-07T14:10:02.226Z"
   },
   {
    "duration": 26538,
    "start_time": "2023-03-07T14:10:22.039Z"
   },
   {
    "duration": 76,
    "start_time": "2023-03-07T14:10:51.981Z"
   },
   {
    "duration": 95,
    "start_time": "2023-03-07T14:11:07.149Z"
   },
   {
    "duration": 16,
    "start_time": "2023-03-07T14:11:10.786Z"
   },
   {
    "duration": 26459,
    "start_time": "2023-03-07T14:11:14.294Z"
   },
   {
    "duration": 23,
    "start_time": "2023-03-07T14:12:40.120Z"
   },
   {
    "duration": 14099,
    "start_time": "2023-03-07T14:12:52.998Z"
   },
   {
    "duration": 133,
    "start_time": "2023-03-07T14:14:32.832Z"
   },
   {
    "duration": 14,
    "start_time": "2023-03-07T14:14:42.456Z"
   },
   {
    "duration": 3,
    "start_time": "2023-03-07T14:14:48.914Z"
   },
   {
    "duration": 4,
    "start_time": "2023-03-07T14:14:50.283Z"
   },
   {
    "duration": 6,
    "start_time": "2023-03-07T14:15:04.932Z"
   },
   {
    "duration": 3,
    "start_time": "2023-03-07T14:15:06.878Z"
   },
   {
    "duration": 11426,
    "start_time": "2023-03-07T14:15:08.137Z"
   },
   {
    "duration": 290,
    "start_time": "2023-03-07T14:15:19.565Z"
   },
   {
    "duration": 5,
    "start_time": "2023-03-07T14:16:43.932Z"
   },
   {
    "duration": 15,
    "start_time": "2023-03-07T14:16:49.479Z"
   },
   {
    "duration": 287,
    "start_time": "2023-03-07T14:18:00.026Z"
   },
   {
    "duration": 15,
    "start_time": "2023-03-07T14:18:12.226Z"
   },
   {
    "duration": 188,
    "start_time": "2023-03-07T14:18:27.154Z"
   },
   {
    "duration": 89,
    "start_time": "2023-03-07T14:18:33.713Z"
   },
   {
    "duration": 3,
    "start_time": "2023-03-07T14:18:41.083Z"
   },
   {
    "duration": 206,
    "start_time": "2023-03-07T14:18:41.688Z"
   },
   {
    "duration": 8,
    "start_time": "2023-03-07T14:18:42.772Z"
   },
   {
    "duration": 4,
    "start_time": "2023-03-07T14:19:01.401Z"
   },
   {
    "duration": 3,
    "start_time": "2023-03-07T14:19:01.914Z"
   },
   {
    "duration": 432,
    "start_time": "2023-03-07T14:19:02.402Z"
   },
   {
    "duration": 17,
    "start_time": "2023-03-07T14:19:02.909Z"
   },
   {
    "duration": 4,
    "start_time": "2023-03-07T14:19:22.953Z"
   },
   {
    "duration": 3,
    "start_time": "2023-03-07T14:19:27.995Z"
   },
   {
    "duration": 73702,
    "start_time": "2023-03-07T14:19:29.131Z"
   },
   {
    "duration": 3872,
    "start_time": "2023-03-07T14:21:10.037Z"
   },
   {
    "duration": 3,
    "start_time": "2023-03-07T14:21:22.883Z"
   },
   {
    "duration": 136,
    "start_time": "2023-03-07T14:22:28.608Z"
   },
   {
    "duration": 17,
    "start_time": "2023-03-07T14:22:34.794Z"
   },
   {
    "duration": 3,
    "start_time": "2023-03-07T14:22:46.144Z"
   },
   {
    "duration": 36684,
    "start_time": "2023-03-07T14:22:51.017Z"
   },
   {
    "duration": 154,
    "start_time": "2023-03-07T14:23:27.703Z"
   },
   {
    "duration": 16,
    "start_time": "2023-03-07T14:23:29.939Z"
   },
   {
    "duration": 4,
    "start_time": "2023-03-07T14:23:48.637Z"
   },
   {
    "duration": 155,
    "start_time": "2023-03-07T14:24:21.911Z"
   },
   {
    "duration": 148,
    "start_time": "2023-03-07T14:24:49.621Z"
   },
   {
    "duration": 24,
    "start_time": "2023-03-07T14:25:00.379Z"
   },
   {
    "duration": 145,
    "start_time": "2023-03-07T14:25:10.389Z"
   },
   {
    "duration": 94,
    "start_time": "2023-03-07T14:25:27.243Z"
   },
   {
    "duration": 3,
    "start_time": "2023-03-07T14:25:42.704Z"
   },
   {
    "duration": 1472,
    "start_time": "2023-03-07T14:26:42.229Z"
   },
   {
    "duration": 2975,
    "start_time": "2023-03-07T14:26:43.703Z"
   },
   {
    "duration": 136,
    "start_time": "2023-03-07T14:26:46.680Z"
   },
   {
    "duration": 117,
    "start_time": "2023-03-07T14:26:46.817Z"
   },
   {
    "duration": 40,
    "start_time": "2023-03-07T14:26:46.936Z"
   },
   {
    "duration": 110,
    "start_time": "2023-03-07T14:26:46.979Z"
   },
   {
    "duration": 126,
    "start_time": "2023-03-07T14:26:47.090Z"
   },
   {
    "duration": 81,
    "start_time": "2023-03-07T14:26:47.217Z"
   },
   {
    "duration": 73,
    "start_time": "2023-03-07T14:26:47.299Z"
   },
   {
    "duration": 184,
    "start_time": "2023-03-07T14:26:47.373Z"
   },
   {
    "duration": 193,
    "start_time": "2023-03-07T14:26:47.559Z"
   },
   {
    "duration": 266,
    "start_time": "2023-03-07T14:26:47.754Z"
   },
   {
    "duration": 271,
    "start_time": "2023-03-07T14:26:48.021Z"
   },
   {
    "duration": 271,
    "start_time": "2023-03-07T14:26:48.293Z"
   },
   {
    "duration": 218,
    "start_time": "2023-03-07T14:26:48.566Z"
   },
   {
    "duration": 277,
    "start_time": "2023-03-07T14:26:48.785Z"
   },
   {
    "duration": 218,
    "start_time": "2023-03-07T14:26:49.064Z"
   },
   {
    "duration": 55,
    "start_time": "2023-03-07T14:26:49.284Z"
   },
   {
    "duration": 741,
    "start_time": "2023-03-07T14:26:49.341Z"
   },
   {
    "duration": 43,
    "start_time": "2023-03-07T14:26:50.083Z"
   },
   {
    "duration": 640,
    "start_time": "2023-03-07T14:26:50.128Z"
   },
   {
    "duration": 38,
    "start_time": "2023-03-07T14:26:50.770Z"
   },
   {
    "duration": 510,
    "start_time": "2023-03-07T14:26:50.810Z"
   },
   {
    "duration": 59,
    "start_time": "2023-03-07T14:26:51.322Z"
   },
   {
    "duration": 2672,
    "start_time": "2023-03-07T14:26:51.383Z"
   },
   {
    "duration": 20,
    "start_time": "2023-03-07T14:26:54.057Z"
   },
   {
    "duration": 92,
    "start_time": "2023-03-07T14:26:54.078Z"
   },
   {
    "duration": 26226,
    "start_time": "2023-03-07T14:26:54.171Z"
   },
   {
    "duration": 11789,
    "start_time": "2023-03-07T14:27:20.399Z"
   },
   {
    "duration": 140,
    "start_time": "2023-03-07T14:27:32.190Z"
   },
   {
    "duration": 2,
    "start_time": "2023-03-07T14:27:37.284Z"
   },
   {
    "duration": 4,
    "start_time": "2023-03-07T14:27:38.196Z"
   },
   {
    "duration": 6,
    "start_time": "2023-03-07T14:27:38.678Z"
   },
   {
    "duration": 3,
    "start_time": "2023-03-07T14:27:44.588Z"
   },
   {
    "duration": 26409,
    "start_time": "2023-03-07T14:27:45.048Z"
   },
   {
    "duration": 302,
    "start_time": "2023-03-07T14:28:11.460Z"
   },
   {
    "duration": 4,
    "start_time": "2023-03-07T14:28:24.146Z"
   },
   {
    "duration": 320,
    "start_time": "2023-03-07T14:28:27.329Z"
   },
   {
    "duration": 175,
    "start_time": "2023-03-07T14:28:28.399Z"
   },
   {
    "duration": 99,
    "start_time": "2023-03-07T14:28:29.986Z"
   },
   {
    "duration": 2,
    "start_time": "2023-03-07T14:28:35.923Z"
   },
   {
    "duration": 215,
    "start_time": "2023-03-07T14:28:36.530Z"
   },
   {
    "duration": 10,
    "start_time": "2023-03-07T14:28:37.718Z"
   },
   {
    "duration": 4,
    "start_time": "2023-03-07T14:28:44.142Z"
   },
   {
    "duration": 3,
    "start_time": "2023-03-07T14:28:44.799Z"
   },
   {
    "duration": 449,
    "start_time": "2023-03-07T14:28:45.445Z"
   },
   {
    "duration": 17,
    "start_time": "2023-03-07T14:28:46.125Z"
   },
   {
    "duration": 4,
    "start_time": "2023-03-07T14:28:48.706Z"
   },
   {
    "duration": 3,
    "start_time": "2023-03-07T14:28:55.695Z"
   },
   {
    "duration": 75585,
    "start_time": "2023-03-07T14:28:56.448Z"
   },
   {
    "duration": 3840,
    "start_time": "2023-03-07T14:30:12.035Z"
   },
   {
    "duration": 4,
    "start_time": "2023-03-07T14:30:31.203Z"
   },
   {
    "duration": 143,
    "start_time": "2023-03-07T14:30:35.042Z"
   },
   {
    "duration": 2,
    "start_time": "2023-03-07T14:30:41.333Z"
   },
   {
    "duration": 35802,
    "start_time": "2023-03-07T14:30:43.628Z"
   },
   {
    "duration": 169,
    "start_time": "2023-03-07T14:31:19.432Z"
   },
   {
    "duration": 4,
    "start_time": "2023-03-07T14:31:38.676Z"
   },
   {
    "duration": 161,
    "start_time": "2023-03-07T14:31:54.142Z"
   },
   {
    "duration": 3941,
    "start_time": "2023-03-07T14:31:57.526Z"
   },
   {
    "duration": 2,
    "start_time": "2023-03-07T14:32:10.808Z"
   },
   {
    "duration": 15527,
    "start_time": "2023-03-07T14:32:11.436Z"
   },
   {
    "duration": 191,
    "start_time": "2023-03-07T14:32:26.964Z"
   },
   {
    "duration": 155,
    "start_time": "2023-03-07T14:32:43.502Z"
   },
   {
    "duration": 2,
    "start_time": "2023-03-07T14:32:49.693Z"
   },
   {
    "duration": 5454,
    "start_time": "2023-03-07T14:32:50.204Z"
   },
   {
    "duration": 196,
    "start_time": "2023-03-07T14:32:55.660Z"
   },
   {
    "duration": 4,
    "start_time": "2023-03-07T14:33:14.579Z"
   },
   {
    "duration": 3,
    "start_time": "2023-03-07T14:33:16.419Z"
   },
   {
    "duration": 1594,
    "start_time": "2023-03-07T17:38:12.174Z"
   },
   {
    "duration": 2899,
    "start_time": "2023-03-07T17:38:13.770Z"
   },
   {
    "duration": 119,
    "start_time": "2023-03-07T17:38:16.671Z"
   },
   {
    "duration": 86,
    "start_time": "2023-03-07T17:38:16.792Z"
   },
   {
    "duration": 42,
    "start_time": "2023-03-07T17:38:16.879Z"
   },
   {
    "duration": 70,
    "start_time": "2023-03-07T17:38:16.922Z"
   },
   {
    "duration": 127,
    "start_time": "2023-03-07T17:38:16.994Z"
   },
   {
    "duration": 71,
    "start_time": "2023-03-07T17:38:17.123Z"
   },
   {
    "duration": 80,
    "start_time": "2023-03-07T17:38:17.197Z"
   },
   {
    "duration": 190,
    "start_time": "2023-03-07T17:38:17.280Z"
   },
   {
    "duration": 169,
    "start_time": "2023-03-07T17:38:17.472Z"
   },
   {
    "duration": 252,
    "start_time": "2023-03-07T17:38:17.642Z"
   },
   {
    "duration": 216,
    "start_time": "2023-03-07T17:38:17.896Z"
   },
   {
    "duration": 265,
    "start_time": "2023-03-07T17:38:18.114Z"
   },
   {
    "duration": 212,
    "start_time": "2023-03-07T17:38:18.380Z"
   },
   {
    "duration": 258,
    "start_time": "2023-03-07T17:38:18.594Z"
   },
   {
    "duration": 198,
    "start_time": "2023-03-07T17:38:18.854Z"
   },
   {
    "duration": 68,
    "start_time": "2023-03-07T17:38:19.054Z"
   },
   {
    "duration": 843,
    "start_time": "2023-03-07T17:38:19.123Z"
   },
   {
    "duration": 51,
    "start_time": "2023-03-07T17:38:19.967Z"
   },
   {
    "duration": 664,
    "start_time": "2023-03-07T17:38:20.019Z"
   },
   {
    "duration": 53,
    "start_time": "2023-03-07T17:38:20.685Z"
   },
   {
    "duration": 512,
    "start_time": "2023-03-07T17:38:20.740Z"
   },
   {
    "duration": 45,
    "start_time": "2023-03-07T17:38:21.253Z"
   },
   {
    "duration": 3164,
    "start_time": "2023-03-07T17:38:21.311Z"
   },
   {
    "duration": 19,
    "start_time": "2023-03-07T17:38:24.477Z"
   },
   {
    "duration": 104,
    "start_time": "2023-03-07T17:38:24.499Z"
   },
   {
    "duration": 44757,
    "start_time": "2023-03-07T17:38:24.612Z"
   },
   {
    "duration": 24244,
    "start_time": "2023-03-07T17:39:09.370Z"
   },
   {
    "duration": 246,
    "start_time": "2023-03-07T17:39:33.616Z"
   },
   {
    "duration": 3,
    "start_time": "2023-03-07T17:39:33.864Z"
   },
   {
    "duration": 7,
    "start_time": "2023-03-07T17:39:33.869Z"
   },
   {
    "duration": 7,
    "start_time": "2023-03-07T17:39:54.850Z"
   },
   {
    "duration": 2,
    "start_time": "2023-03-07T17:39:56.818Z"
   },
   {
    "duration": 18869,
    "start_time": "2023-03-07T17:39:57.262Z"
   },
   {
    "duration": 280,
    "start_time": "2023-03-07T17:40:16.133Z"
   },
   {
    "duration": 5,
    "start_time": "2023-03-07T17:41:45.825Z"
   },
   {
    "duration": 289,
    "start_time": "2023-03-07T17:41:48.624Z"
   },
   {
    "duration": 178,
    "start_time": "2023-03-07T17:41:49.603Z"
   },
   {
    "duration": 106,
    "start_time": "2023-03-07T17:41:50.719Z"
   },
   {
    "duration": 9519,
    "start_time": "2023-03-07T17:41:52.735Z"
   },
   {
    "duration": 9,
    "start_time": "2023-03-07T17:42:02.256Z"
   },
   {
    "duration": 2,
    "start_time": "2023-03-07T17:43:48.450Z"
   },
   {
    "duration": 191,
    "start_time": "2023-03-07T17:43:49.929Z"
   },
   {
    "duration": 10,
    "start_time": "2023-03-07T17:43:50.541Z"
   },
   {
    "duration": 5,
    "start_time": "2023-03-07T17:44:06.954Z"
   },
   {
    "duration": 2,
    "start_time": "2023-03-07T17:44:07.530Z"
   },
   {
    "duration": 394,
    "start_time": "2023-03-07T17:44:08.112Z"
   },
   {
    "duration": 17,
    "start_time": "2023-03-07T17:44:08.618Z"
   },
   {
    "duration": 5,
    "start_time": "2023-03-07T17:46:29.785Z"
   },
   {
    "duration": 224174,
    "start_time": "2023-03-07T17:46:32.371Z"
   },
   {
    "duration": 8,
    "start_time": "2023-03-07T17:50:16.547Z"
   },
   {
    "duration": 110,
    "start_time": "2023-03-07T17:54:06.203Z"
   },
   {
    "duration": 34750,
    "start_time": "2023-03-07T17:54:06.763Z"
   },
   {
    "duration": 2203,
    "start_time": "2023-03-07T17:54:41.515Z"
   },
   {
    "duration": 4,
    "start_time": "2023-03-07T17:55:28.436Z"
   },
   {
    "duration": 156,
    "start_time": "2023-03-07T17:55:32.463Z"
   },
   {
    "duration": 3,
    "start_time": "2023-03-07T17:55:33.711Z"
   },
   {
    "duration": 33111,
    "start_time": "2023-03-07T17:55:35.692Z"
   },
   {
    "duration": 180,
    "start_time": "2023-03-07T17:56:08.805Z"
   },
   {
    "duration": 4,
    "start_time": "2023-03-07T17:56:32.968Z"
   },
   {
    "duration": 19,
    "start_time": "2023-03-07T17:56:49.621Z"
   },
   {
    "duration": 158,
    "start_time": "2023-03-07T17:57:11.696Z"
   },
   {
    "duration": 293706,
    "start_time": "2023-03-07T17:57:19.929Z"
   },
   {
    "duration": 9,
    "start_time": "2023-03-07T18:02:13.638Z"
   },
   {
    "duration": 1103904,
    "start_time": "2023-03-07T18:03:09.657Z"
   },
   {
    "duration": 0,
    "start_time": "2023-03-07T18:21:33.563Z"
   },
   {
    "duration": 1522,
    "start_time": "2023-03-07T18:44:39.719Z"
   },
   {
    "duration": 1918,
    "start_time": "2023-03-07T18:44:41.243Z"
   },
   {
    "duration": 117,
    "start_time": "2023-03-07T18:44:43.163Z"
   },
   {
    "duration": 94,
    "start_time": "2023-03-07T18:44:43.282Z"
   },
   {
    "duration": 43,
    "start_time": "2023-03-07T18:44:43.378Z"
   },
   {
    "duration": 93,
    "start_time": "2023-03-07T18:44:43.431Z"
   },
   {
    "duration": 127,
    "start_time": "2023-03-07T18:44:43.533Z"
   },
   {
    "duration": 84,
    "start_time": "2023-03-07T18:44:43.661Z"
   },
   {
    "duration": 89,
    "start_time": "2023-03-07T18:44:43.746Z"
   },
   {
    "duration": 163,
    "start_time": "2023-03-07T18:44:43.837Z"
   },
   {
    "duration": 222,
    "start_time": "2023-03-07T18:44:44.002Z"
   },
   {
    "duration": 351,
    "start_time": "2023-03-07T18:44:44.228Z"
   },
   {
    "duration": 214,
    "start_time": "2023-03-07T18:44:44.581Z"
   },
   {
    "duration": 289,
    "start_time": "2023-03-07T18:44:44.797Z"
   },
   {
    "duration": 233,
    "start_time": "2023-03-07T18:44:45.088Z"
   },
   {
    "duration": 306,
    "start_time": "2023-03-07T18:44:45.325Z"
   },
   {
    "duration": 221,
    "start_time": "2023-03-07T18:44:45.633Z"
   },
   {
    "duration": 65,
    "start_time": "2023-03-07T18:44:45.856Z"
   },
   {
    "duration": 860,
    "start_time": "2023-03-07T18:44:45.924Z"
   },
   {
    "duration": 53,
    "start_time": "2023-03-07T18:44:46.786Z"
   },
   {
    "duration": 828,
    "start_time": "2023-03-07T18:44:46.841Z"
   },
   {
    "duration": 55,
    "start_time": "2023-03-07T18:44:47.671Z"
   },
   {
    "duration": 522,
    "start_time": "2023-03-07T18:44:47.728Z"
   },
   {
    "duration": 77,
    "start_time": "2023-03-07T18:44:48.252Z"
   },
   {
    "duration": 3216,
    "start_time": "2023-03-07T18:44:48.331Z"
   },
   {
    "duration": 25,
    "start_time": "2023-03-07T18:44:51.550Z"
   },
   {
    "duration": 124,
    "start_time": "2023-03-07T18:44:51.577Z"
   },
   {
    "duration": 49057,
    "start_time": "2023-03-07T18:44:51.706Z"
   },
   {
    "duration": 38412,
    "start_time": "2023-03-07T18:45:40.764Z"
   },
   {
    "duration": 165,
    "start_time": "2023-03-07T18:46:19.178Z"
   },
   {
    "duration": 3,
    "start_time": "2023-03-07T18:46:19.345Z"
   },
   {
    "duration": 7,
    "start_time": "2023-03-07T18:46:19.350Z"
   },
   {
    "duration": 11,
    "start_time": "2023-03-07T18:46:19.359Z"
   },
   {
    "duration": 9,
    "start_time": "2023-03-07T18:46:19.372Z"
   },
   {
    "duration": 33343,
    "start_time": "2023-03-07T18:46:19.383Z"
   },
   {
    "duration": 211,
    "start_time": "2023-03-07T18:46:52.728Z"
   },
   {
    "duration": 91,
    "start_time": "2023-03-07T18:46:52.941Z"
   },
   {
    "duration": 391,
    "start_time": "2023-03-07T18:46:53.037Z"
   },
   {
    "duration": 217,
    "start_time": "2023-03-07T18:46:53.430Z"
   },
   {
    "duration": 158,
    "start_time": "2023-03-07T18:46:53.650Z"
   },
   {
    "duration": 10301,
    "start_time": "2023-03-07T18:46:53.816Z"
   },
   {
    "duration": 20,
    "start_time": "2023-03-07T18:47:04.122Z"
   },
   {
    "duration": 5,
    "start_time": "2023-03-07T18:47:04.144Z"
   },
   {
    "duration": 277,
    "start_time": "2023-03-07T18:47:04.151Z"
   },
   {
    "duration": 16,
    "start_time": "2023-03-07T18:47:04.430Z"
   },
   {
    "duration": 7,
    "start_time": "2023-03-07T18:47:04.448Z"
   },
   {
    "duration": 4,
    "start_time": "2023-03-07T18:47:04.457Z"
   },
   {
    "duration": 518,
    "start_time": "2023-03-07T18:47:04.463Z"
   },
   {
    "duration": 33,
    "start_time": "2023-03-07T18:47:04.983Z"
   },
   {
    "duration": 15,
    "start_time": "2023-03-07T18:47:05.019Z"
   },
   {
    "duration": 246794,
    "start_time": "2023-03-07T18:47:05.038Z"
   },
   {
    "duration": 8,
    "start_time": "2023-03-07T18:51:11.834Z"
   },
   {
    "duration": 134,
    "start_time": "2023-03-07T18:51:11.844Z"
   },
   {
    "duration": 36891,
    "start_time": "2023-03-07T18:51:11.980Z"
   },
   {
    "duration": 2002,
    "start_time": "2023-03-07T18:51:48.873Z"
   },
   {
    "duration": 5,
    "start_time": "2023-03-07T18:51:50.876Z"
   },
   {
    "duration": 164,
    "start_time": "2023-03-07T18:51:50.882Z"
   },
   {
    "duration": 4,
    "start_time": "2023-03-07T18:51:51.047Z"
   },
   {
    "duration": 34525,
    "start_time": "2023-03-07T18:51:51.052Z"
   },
   {
    "duration": 185,
    "start_time": "2023-03-07T18:52:25.579Z"
   },
   {
    "duration": 5,
    "start_time": "2023-03-07T18:52:25.765Z"
   },
   {
    "duration": 183,
    "start_time": "2023-03-07T18:52:25.772Z"
   },
   {
    "duration": 1110793,
    "start_time": "2023-03-07T18:52:25.957Z"
   },
   {
    "duration": 0,
    "start_time": "2023-03-07T19:10:56.752Z"
   },
   {
    "duration": 1632,
    "start_time": "2023-03-07T19:27:26.990Z"
   },
   {
    "duration": 1916,
    "start_time": "2023-03-07T19:27:28.624Z"
   },
   {
    "duration": 124,
    "start_time": "2023-03-07T19:27:30.541Z"
   },
   {
    "duration": 91,
    "start_time": "2023-03-07T19:27:30.668Z"
   },
   {
    "duration": 32,
    "start_time": "2023-03-07T19:27:30.761Z"
   },
   {
    "duration": 100,
    "start_time": "2023-03-07T19:27:30.794Z"
   },
   {
    "duration": 146,
    "start_time": "2023-03-07T19:27:30.896Z"
   },
   {
    "duration": 85,
    "start_time": "2023-03-07T19:27:31.043Z"
   },
   {
    "duration": 105,
    "start_time": "2023-03-07T19:27:31.130Z"
   },
   {
    "duration": 326,
    "start_time": "2023-03-07T19:27:31.239Z"
   },
   {
    "duration": 206,
    "start_time": "2023-03-07T19:27:31.567Z"
   },
   {
    "duration": 252,
    "start_time": "2023-03-07T19:27:31.774Z"
   },
   {
    "duration": 222,
    "start_time": "2023-03-07T19:27:32.028Z"
   },
   {
    "duration": 298,
    "start_time": "2023-03-07T19:27:32.252Z"
   },
   {
    "duration": 213,
    "start_time": "2023-03-07T19:27:32.552Z"
   },
   {
    "duration": 389,
    "start_time": "2023-03-07T19:27:32.767Z"
   },
   {
    "duration": 261,
    "start_time": "2023-03-07T19:27:33.158Z"
   },
   {
    "duration": 60,
    "start_time": "2023-03-07T19:27:33.422Z"
   },
   {
    "duration": 903,
    "start_time": "2023-03-07T19:27:33.483Z"
   },
   {
    "duration": 53,
    "start_time": "2023-03-07T19:27:34.388Z"
   },
   {
    "duration": 740,
    "start_time": "2023-03-07T19:27:34.444Z"
   },
   {
    "duration": 55,
    "start_time": "2023-03-07T19:27:35.186Z"
   },
   {
    "duration": 554,
    "start_time": "2023-03-07T19:27:35.243Z"
   },
   {
    "duration": 54,
    "start_time": "2023-03-07T19:27:35.799Z"
   },
   {
    "duration": 3447,
    "start_time": "2023-03-07T19:27:35.855Z"
   },
   {
    "duration": 28,
    "start_time": "2023-03-07T19:27:39.304Z"
   },
   {
    "duration": 109,
    "start_time": "2023-03-07T19:27:39.334Z"
   },
   {
    "duration": 49606,
    "start_time": "2023-03-07T19:27:39.447Z"
   },
   {
    "duration": 34105,
    "start_time": "2023-03-07T19:28:29.054Z"
   },
   {
    "duration": 157,
    "start_time": "2023-03-07T19:29:03.161Z"
   },
   {
    "duration": 3,
    "start_time": "2023-03-07T19:29:03.325Z"
   },
   {
    "duration": 6,
    "start_time": "2023-03-07T19:29:03.329Z"
   },
   {
    "duration": 11,
    "start_time": "2023-03-07T19:29:03.336Z"
   },
   {
    "duration": 4,
    "start_time": "2023-03-07T19:29:03.348Z"
   },
   {
    "duration": 39284,
    "start_time": "2023-03-07T19:29:03.354Z"
   },
   {
    "duration": 281,
    "start_time": "2023-03-07T19:29:42.639Z"
   },
   {
    "duration": 5,
    "start_time": "2023-03-07T19:29:42.922Z"
   },
   {
    "duration": 369,
    "start_time": "2023-03-07T19:29:42.929Z"
   },
   {
    "duration": 179,
    "start_time": "2023-03-07T19:29:43.300Z"
   },
   {
    "duration": 125,
    "start_time": "2023-03-07T19:29:43.481Z"
   },
   {
    "duration": 10060,
    "start_time": "2023-03-07T19:29:43.608Z"
   },
   {
    "duration": 9,
    "start_time": "2023-03-07T19:29:53.670Z"
   },
   {
    "duration": 3,
    "start_time": "2023-03-07T19:29:53.681Z"
   },
   {
    "duration": 229,
    "start_time": "2023-03-07T19:29:53.685Z"
   },
   {
    "duration": 15,
    "start_time": "2023-03-07T19:29:53.916Z"
   },
   {
    "duration": 6,
    "start_time": "2023-03-07T19:29:53.933Z"
   },
   {
    "duration": 4,
    "start_time": "2023-03-07T19:29:53.941Z"
   },
   {
    "duration": 540,
    "start_time": "2023-03-07T19:29:53.947Z"
   },
   {
    "duration": 32,
    "start_time": "2023-03-07T19:29:54.489Z"
   },
   {
    "duration": 17,
    "start_time": "2023-03-07T19:29:54.528Z"
   },
   {
    "duration": 219447,
    "start_time": "2023-03-07T19:29:54.547Z"
   },
   {
    "duration": 7,
    "start_time": "2023-03-07T19:33:33.996Z"
   },
   {
    "duration": 165,
    "start_time": "2023-03-07T19:33:34.004Z"
   },
   {
    "duration": 34623,
    "start_time": "2023-03-07T19:33:34.171Z"
   },
   {
    "duration": 2037,
    "start_time": "2023-03-07T19:34:08.795Z"
   },
   {
    "duration": 4,
    "start_time": "2023-03-07T19:34:10.833Z"
   },
   {
    "duration": 175,
    "start_time": "2023-03-07T19:34:10.839Z"
   },
   {
    "duration": 4,
    "start_time": "2023-03-07T19:34:11.016Z"
   },
   {
    "duration": 32562,
    "start_time": "2023-03-07T19:34:11.022Z"
   },
   {
    "duration": 163,
    "start_time": "2023-03-07T19:34:43.586Z"
   },
   {
    "duration": 4,
    "start_time": "2023-03-07T19:34:43.751Z"
   },
   {
    "duration": 157,
    "start_time": "2023-03-07T19:35:52.134Z"
   },
   {
    "duration": 4,
    "start_time": "2023-03-07T19:36:14.963Z"
   },
   {
    "duration": 62098,
    "start_time": "2023-03-07T19:36:19.315Z"
   },
   {
    "duration": 7,
    "start_time": "2023-03-07T19:37:21.415Z"
   },
   {
    "duration": 556653,
    "start_time": "2023-03-07T19:38:37.198Z"
   },
   {
    "duration": 8,
    "start_time": "2023-03-07T19:47:53.853Z"
   },
   {
    "duration": 4,
    "start_time": "2023-03-07T19:49:08.481Z"
   },
   {
    "duration": 33364,
    "start_time": "2023-03-07T19:49:09.774Z"
   },
   {
    "duration": 2422,
    "start_time": "2023-03-07T19:49:43.212Z"
   },
   {
    "duration": 4,
    "start_time": "2023-03-07T19:50:05.150Z"
   },
   {
    "duration": 39,
    "start_time": "2023-03-07T19:51:43.811Z"
   },
   {
    "duration": 1956,
    "start_time": "2023-03-07T19:54:37.579Z"
   },
   {
    "duration": 2829,
    "start_time": "2023-03-07T19:54:39.538Z"
   },
   {
    "duration": 117,
    "start_time": "2023-03-07T19:54:42.369Z"
   },
   {
    "duration": 80,
    "start_time": "2023-03-07T19:54:42.488Z"
   },
   {
    "duration": 43,
    "start_time": "2023-03-07T19:54:42.571Z"
   },
   {
    "duration": 64,
    "start_time": "2023-03-07T19:54:42.615Z"
   },
   {
    "duration": 124,
    "start_time": "2023-03-07T19:54:42.680Z"
   },
   {
    "duration": 68,
    "start_time": "2023-03-07T19:54:42.805Z"
   },
   {
    "duration": 69,
    "start_time": "2023-03-07T19:54:42.875Z"
   },
   {
    "duration": 169,
    "start_time": "2023-03-07T19:54:42.946Z"
   },
   {
    "duration": 151,
    "start_time": "2023-03-07T19:54:43.117Z"
   },
   {
    "duration": 228,
    "start_time": "2023-03-07T19:54:43.270Z"
   },
   {
    "duration": 194,
    "start_time": "2023-03-07T19:54:43.500Z"
   },
   {
    "duration": 247,
    "start_time": "2023-03-07T19:54:43.697Z"
   },
   {
    "duration": 254,
    "start_time": "2023-03-07T19:54:43.946Z"
   },
   {
    "duration": 270,
    "start_time": "2023-03-07T19:54:44.202Z"
   },
   {
    "duration": 206,
    "start_time": "2023-03-07T19:54:44.473Z"
   },
   {
    "duration": 58,
    "start_time": "2023-03-07T19:54:44.680Z"
   },
   {
    "duration": 858,
    "start_time": "2023-03-07T19:54:44.739Z"
   },
   {
    "duration": 47,
    "start_time": "2023-03-07T19:54:45.599Z"
   },
   {
    "duration": 644,
    "start_time": "2023-03-07T19:54:45.648Z"
   },
   {
    "duration": 49,
    "start_time": "2023-03-07T19:54:46.294Z"
   },
   {
    "duration": 498,
    "start_time": "2023-03-07T19:54:46.345Z"
   },
   {
    "duration": 46,
    "start_time": "2023-03-07T19:54:46.844Z"
   },
   {
    "duration": 3009,
    "start_time": "2023-03-07T19:54:46.892Z"
   },
   {
    "duration": 19,
    "start_time": "2023-03-07T19:54:49.902Z"
   },
   {
    "duration": 96,
    "start_time": "2023-03-07T19:54:49.923Z"
   },
   {
    "duration": 2992,
    "start_time": "2023-03-07T19:54:50.021Z"
   },
   {
    "duration": 0,
    "start_time": "2023-03-07T19:54:53.015Z"
   },
   {
    "duration": 0,
    "start_time": "2023-03-07T19:54:53.016Z"
   },
   {
    "duration": 0,
    "start_time": "2023-03-07T19:54:53.018Z"
   },
   {
    "duration": 0,
    "start_time": "2023-03-07T19:54:53.019Z"
   },
   {
    "duration": 0,
    "start_time": "2023-03-07T19:54:53.020Z"
   },
   {
    "duration": 0,
    "start_time": "2023-03-07T19:54:53.020Z"
   },
   {
    "duration": 0,
    "start_time": "2023-03-07T19:54:53.021Z"
   },
   {
    "duration": 0,
    "start_time": "2023-03-07T19:54:53.022Z"
   },
   {
    "duration": 0,
    "start_time": "2023-03-07T19:54:53.023Z"
   },
   {
    "duration": 0,
    "start_time": "2023-03-07T19:54:53.024Z"
   },
   {
    "duration": 0,
    "start_time": "2023-03-07T19:54:53.025Z"
   },
   {
    "duration": 0,
    "start_time": "2023-03-07T19:54:53.026Z"
   },
   {
    "duration": 0,
    "start_time": "2023-03-07T19:54:53.027Z"
   },
   {
    "duration": 0,
    "start_time": "2023-03-07T19:54:53.028Z"
   },
   {
    "duration": 0,
    "start_time": "2023-03-07T19:54:53.029Z"
   },
   {
    "duration": 0,
    "start_time": "2023-03-07T19:54:53.030Z"
   },
   {
    "duration": 0,
    "start_time": "2023-03-07T19:54:53.031Z"
   },
   {
    "duration": 0,
    "start_time": "2023-03-07T19:54:53.032Z"
   },
   {
    "duration": 0,
    "start_time": "2023-03-07T19:54:53.033Z"
   },
   {
    "duration": 0,
    "start_time": "2023-03-07T19:54:53.034Z"
   },
   {
    "duration": 0,
    "start_time": "2023-03-07T19:54:53.035Z"
   },
   {
    "duration": 0,
    "start_time": "2023-03-07T19:54:53.036Z"
   },
   {
    "duration": 0,
    "start_time": "2023-03-07T19:54:53.037Z"
   },
   {
    "duration": 0,
    "start_time": "2023-03-07T19:54:53.038Z"
   },
   {
    "duration": 0,
    "start_time": "2023-03-07T19:54:53.039Z"
   },
   {
    "duration": 0,
    "start_time": "2023-03-07T19:54:53.040Z"
   },
   {
    "duration": 0,
    "start_time": "2023-03-07T19:54:53.041Z"
   },
   {
    "duration": 0,
    "start_time": "2023-03-07T19:54:53.042Z"
   },
   {
    "duration": 0,
    "start_time": "2023-03-07T19:54:53.043Z"
   },
   {
    "duration": 0,
    "start_time": "2023-03-07T19:54:53.044Z"
   },
   {
    "duration": 0,
    "start_time": "2023-03-07T19:54:53.045Z"
   },
   {
    "duration": 0,
    "start_time": "2023-03-07T19:54:53.046Z"
   },
   {
    "duration": 0,
    "start_time": "2023-03-07T19:54:53.047Z"
   },
   {
    "duration": 0,
    "start_time": "2023-03-07T19:54:53.048Z"
   },
   {
    "duration": 0,
    "start_time": "2023-03-07T19:54:53.049Z"
   },
   {
    "duration": 0,
    "start_time": "2023-03-07T19:54:53.050Z"
   },
   {
    "duration": 0,
    "start_time": "2023-03-07T19:54:53.051Z"
   },
   {
    "duration": 0,
    "start_time": "2023-03-07T19:54:53.052Z"
   },
   {
    "duration": 0,
    "start_time": "2023-03-07T19:54:53.112Z"
   },
   {
    "duration": 0,
    "start_time": "2023-03-07T19:54:53.113Z"
   },
   {
    "duration": 0,
    "start_time": "2023-03-07T19:54:53.114Z"
   },
   {
    "duration": 0,
    "start_time": "2023-03-07T19:54:53.115Z"
   },
   {
    "duration": 0,
    "start_time": "2023-03-07T19:54:53.116Z"
   },
   {
    "duration": 1,
    "start_time": "2023-03-07T19:54:53.117Z"
   },
   {
    "duration": 0,
    "start_time": "2023-03-07T19:54:53.118Z"
   },
   {
    "duration": 0,
    "start_time": "2023-03-07T19:54:53.119Z"
   },
   {
    "duration": 1457,
    "start_time": "2023-03-07T19:55:28.593Z"
   },
   {
    "duration": 837,
    "start_time": "2023-03-07T19:55:30.052Z"
   },
   {
    "duration": 200,
    "start_time": "2023-03-07T19:55:30.891Z"
   },
   {
    "duration": 94,
    "start_time": "2023-03-07T19:55:31.094Z"
   },
   {
    "duration": 41,
    "start_time": "2023-03-07T19:55:31.190Z"
   },
   {
    "duration": 138,
    "start_time": "2023-03-07T19:55:31.232Z"
   },
   {
    "duration": 173,
    "start_time": "2023-03-07T19:55:31.371Z"
   },
   {
    "duration": 105,
    "start_time": "2023-03-07T19:55:31.545Z"
   },
   {
    "duration": 111,
    "start_time": "2023-03-07T19:55:31.652Z"
   },
   {
    "duration": 255,
    "start_time": "2023-03-07T19:55:31.765Z"
   },
   {
    "duration": 163,
    "start_time": "2023-03-07T19:55:32.022Z"
   },
   {
    "duration": 241,
    "start_time": "2023-03-07T19:55:32.187Z"
   },
   {
    "duration": 227,
    "start_time": "2023-03-07T19:55:32.430Z"
   },
   {
    "duration": 284,
    "start_time": "2023-03-07T19:55:32.659Z"
   },
   {
    "duration": 277,
    "start_time": "2023-03-07T19:55:32.944Z"
   },
   {
    "duration": 246,
    "start_time": "2023-03-07T19:55:33.222Z"
   },
   {
    "duration": 201,
    "start_time": "2023-03-07T19:55:33.469Z"
   },
   {
    "duration": 63,
    "start_time": "2023-03-07T19:55:33.672Z"
   },
   {
    "duration": 848,
    "start_time": "2023-03-07T19:55:33.737Z"
   },
   {
    "duration": 50,
    "start_time": "2023-03-07T19:55:34.586Z"
   },
   {
    "duration": 649,
    "start_time": "2023-03-07T19:55:34.637Z"
   },
   {
    "duration": 57,
    "start_time": "2023-03-07T19:55:35.288Z"
   },
   {
    "duration": 468,
    "start_time": "2023-03-07T19:55:35.347Z"
   },
   {
    "duration": 46,
    "start_time": "2023-03-07T19:55:35.817Z"
   },
   {
    "duration": 2944,
    "start_time": "2023-03-07T19:55:35.864Z"
   },
   {
    "duration": 20,
    "start_time": "2023-03-07T19:55:38.812Z"
   },
   {
    "duration": 108,
    "start_time": "2023-03-07T19:55:38.834Z"
   },
   {
    "duration": 47472,
    "start_time": "2023-03-07T19:55:38.946Z"
   },
   {
    "duration": 76,
    "start_time": "2023-03-07T19:56:26.420Z"
   },
   {
    "duration": 0,
    "start_time": "2023-03-07T19:56:26.498Z"
   },
   {
    "duration": 0,
    "start_time": "2023-03-07T19:56:26.499Z"
   },
   {
    "duration": 0,
    "start_time": "2023-03-07T19:56:26.500Z"
   },
   {
    "duration": 0,
    "start_time": "2023-03-07T19:56:26.501Z"
   },
   {
    "duration": 0,
    "start_time": "2023-03-07T19:56:26.502Z"
   },
   {
    "duration": 0,
    "start_time": "2023-03-07T19:56:26.503Z"
   },
   {
    "duration": 0,
    "start_time": "2023-03-07T19:56:26.504Z"
   },
   {
    "duration": 0,
    "start_time": "2023-03-07T19:56:26.505Z"
   },
   {
    "duration": 0,
    "start_time": "2023-03-07T19:56:26.506Z"
   },
   {
    "duration": 0,
    "start_time": "2023-03-07T19:56:26.507Z"
   },
   {
    "duration": 0,
    "start_time": "2023-03-07T19:56:26.508Z"
   },
   {
    "duration": 0,
    "start_time": "2023-03-07T19:56:26.509Z"
   },
   {
    "duration": 0,
    "start_time": "2023-03-07T19:56:26.509Z"
   },
   {
    "duration": 0,
    "start_time": "2023-03-07T19:56:26.511Z"
   },
   {
    "duration": 0,
    "start_time": "2023-03-07T19:56:26.511Z"
   },
   {
    "duration": 0,
    "start_time": "2023-03-07T19:56:26.512Z"
   },
   {
    "duration": 0,
    "start_time": "2023-03-07T19:56:26.513Z"
   },
   {
    "duration": 0,
    "start_time": "2023-03-07T19:56:26.514Z"
   },
   {
    "duration": 0,
    "start_time": "2023-03-07T19:56:26.515Z"
   },
   {
    "duration": 0,
    "start_time": "2023-03-07T19:56:26.516Z"
   },
   {
    "duration": 0,
    "start_time": "2023-03-07T19:56:26.517Z"
   },
   {
    "duration": 0,
    "start_time": "2023-03-07T19:56:26.518Z"
   },
   {
    "duration": 0,
    "start_time": "2023-03-07T19:56:26.519Z"
   },
   {
    "duration": 0,
    "start_time": "2023-03-07T19:56:26.520Z"
   },
   {
    "duration": 0,
    "start_time": "2023-03-07T19:56:26.521Z"
   },
   {
    "duration": 0,
    "start_time": "2023-03-07T19:56:26.523Z"
   },
   {
    "duration": 0,
    "start_time": "2023-03-07T19:56:26.523Z"
   },
   {
    "duration": 0,
    "start_time": "2023-03-07T19:56:26.524Z"
   },
   {
    "duration": 0,
    "start_time": "2023-03-07T19:56:26.526Z"
   },
   {
    "duration": 0,
    "start_time": "2023-03-07T19:56:26.526Z"
   },
   {
    "duration": 0,
    "start_time": "2023-03-07T19:56:26.527Z"
   },
   {
    "duration": 0,
    "start_time": "2023-03-07T19:56:26.528Z"
   },
   {
    "duration": 0,
    "start_time": "2023-03-07T19:56:26.529Z"
   },
   {
    "duration": 0,
    "start_time": "2023-03-07T19:56:26.530Z"
   },
   {
    "duration": 0,
    "start_time": "2023-03-07T19:56:26.531Z"
   },
   {
    "duration": 0,
    "start_time": "2023-03-07T19:56:26.532Z"
   },
   {
    "duration": 0,
    "start_time": "2023-03-07T19:56:26.533Z"
   },
   {
    "duration": 0,
    "start_time": "2023-03-07T19:56:26.534Z"
   },
   {
    "duration": 0,
    "start_time": "2023-03-07T19:56:26.534Z"
   },
   {
    "duration": 0,
    "start_time": "2023-03-07T19:56:26.535Z"
   },
   {
    "duration": 0,
    "start_time": "2023-03-07T19:56:26.536Z"
   },
   {
    "duration": 0,
    "start_time": "2023-03-07T19:56:26.537Z"
   },
   {
    "duration": 0,
    "start_time": "2023-03-07T19:56:26.538Z"
   },
   {
    "duration": 0,
    "start_time": "2023-03-07T19:56:26.539Z"
   },
   {
    "duration": 0,
    "start_time": "2023-03-07T19:56:26.540Z"
   },
   {
    "duration": 4,
    "start_time": "2023-03-07T19:57:27.010Z"
   },
   {
    "duration": 896,
    "start_time": "2023-03-07T19:57:27.019Z"
   },
   {
    "duration": 195,
    "start_time": "2023-03-07T19:57:27.918Z"
   },
   {
    "duration": 74,
    "start_time": "2023-03-07T19:57:28.115Z"
   },
   {
    "duration": 37,
    "start_time": "2023-03-07T19:57:28.191Z"
   },
   {
    "duration": 124,
    "start_time": "2023-03-07T19:57:28.230Z"
   },
   {
    "duration": 218,
    "start_time": "2023-03-07T19:57:28.355Z"
   },
   {
    "duration": 108,
    "start_time": "2023-03-07T19:57:28.575Z"
   },
   {
    "duration": 129,
    "start_time": "2023-03-07T19:57:28.685Z"
   },
   {
    "duration": 269,
    "start_time": "2023-03-07T19:57:28.815Z"
   },
   {
    "duration": 158,
    "start_time": "2023-03-07T19:57:29.087Z"
   },
   {
    "duration": 255,
    "start_time": "2023-03-07T19:57:29.247Z"
   },
   {
    "duration": 247,
    "start_time": "2023-03-07T19:57:29.504Z"
   },
   {
    "duration": 274,
    "start_time": "2023-03-07T19:57:29.753Z"
   },
   {
    "duration": 221,
    "start_time": "2023-03-07T19:57:30.030Z"
   },
   {
    "duration": 262,
    "start_time": "2023-03-07T19:57:30.253Z"
   },
   {
    "duration": 215,
    "start_time": "2023-03-07T19:57:30.517Z"
   },
   {
    "duration": 59,
    "start_time": "2023-03-07T19:57:30.734Z"
   },
   {
    "duration": 1026,
    "start_time": "2023-03-07T19:57:30.796Z"
   },
   {
    "duration": 45,
    "start_time": "2023-03-07T19:57:31.824Z"
   },
   {
    "duration": 698,
    "start_time": "2023-03-07T19:57:31.871Z"
   },
   {
    "duration": 47,
    "start_time": "2023-03-07T19:57:32.571Z"
   },
   {
    "duration": 554,
    "start_time": "2023-03-07T19:57:32.620Z"
   },
   {
    "duration": 62,
    "start_time": "2023-03-07T19:57:33.176Z"
   },
   {
    "duration": 2999,
    "start_time": "2023-03-07T19:57:33.239Z"
   },
   {
    "duration": 19,
    "start_time": "2023-03-07T19:57:36.240Z"
   },
   {
    "duration": 105,
    "start_time": "2023-03-07T19:57:36.261Z"
   },
   {
    "duration": 46342,
    "start_time": "2023-03-07T19:57:36.368Z"
   },
   {
    "duration": 31954,
    "start_time": "2023-03-07T19:58:22.715Z"
   },
   {
    "duration": 144,
    "start_time": "2023-03-07T19:58:54.671Z"
   },
   {
    "duration": 3,
    "start_time": "2023-03-07T19:58:54.816Z"
   },
   {
    "duration": 6,
    "start_time": "2023-03-07T19:58:54.820Z"
   },
   {
    "duration": 7,
    "start_time": "2023-03-07T19:58:54.827Z"
   },
   {
    "duration": 3,
    "start_time": "2023-03-07T19:58:54.835Z"
   },
   {
    "duration": 15280,
    "start_time": "2023-03-07T19:58:54.839Z"
   },
   {
    "duration": 200,
    "start_time": "2023-03-07T19:59:10.121Z"
   },
   {
    "duration": 92,
    "start_time": "2023-03-07T19:59:10.322Z"
   },
   {
    "duration": 352,
    "start_time": "2023-03-07T19:59:10.415Z"
   },
   {
    "duration": 183,
    "start_time": "2023-03-07T19:59:10.769Z"
   },
   {
    "duration": 115,
    "start_time": "2023-03-07T19:59:10.953Z"
   },
   {
    "duration": 9341,
    "start_time": "2023-03-07T19:59:11.070Z"
   },
   {
    "duration": 9,
    "start_time": "2023-03-07T19:59:20.412Z"
   },
   {
    "duration": 4,
    "start_time": "2023-03-07T19:59:20.423Z"
   },
   {
    "duration": 211,
    "start_time": "2023-03-07T19:59:20.428Z"
   },
   {
    "duration": 8,
    "start_time": "2023-03-07T19:59:20.641Z"
   },
   {
    "duration": 5,
    "start_time": "2023-03-07T19:59:20.651Z"
   },
   {
    "duration": 3,
    "start_time": "2023-03-07T19:59:20.657Z"
   },
   {
    "duration": 409,
    "start_time": "2023-03-07T19:59:20.662Z"
   },
   {
    "duration": 18,
    "start_time": "2023-03-07T19:59:21.073Z"
   },
   {
    "duration": 22,
    "start_time": "2023-03-07T19:59:21.093Z"
   },
   {
    "duration": 2129,
    "start_time": "2023-03-07T20:02:59.428Z"
   },
   {
    "duration": 2890,
    "start_time": "2023-03-07T20:03:01.558Z"
   },
   {
    "duration": 104,
    "start_time": "2023-03-07T20:03:04.450Z"
   },
   {
    "duration": 85,
    "start_time": "2023-03-07T20:03:04.557Z"
   },
   {
    "duration": 29,
    "start_time": "2023-03-07T20:03:04.644Z"
   },
   {
    "duration": 80,
    "start_time": "2023-03-07T20:03:04.675Z"
   },
   {
    "duration": 115,
    "start_time": "2023-03-07T20:03:04.756Z"
   },
   {
    "duration": 72,
    "start_time": "2023-03-07T20:03:04.873Z"
   },
   {
    "duration": 70,
    "start_time": "2023-03-07T20:03:04.946Z"
   },
   {
    "duration": 160,
    "start_time": "2023-03-07T20:03:05.018Z"
   },
   {
    "duration": 162,
    "start_time": "2023-03-07T20:03:05.180Z"
   },
   {
    "duration": 226,
    "start_time": "2023-03-07T20:03:05.344Z"
   },
   {
    "duration": 191,
    "start_time": "2023-03-07T20:03:05.572Z"
   },
   {
    "duration": 251,
    "start_time": "2023-03-07T20:03:05.765Z"
   },
   {
    "duration": 188,
    "start_time": "2023-03-07T20:03:06.017Z"
   },
   {
    "duration": 236,
    "start_time": "2023-03-07T20:03:06.207Z"
   },
   {
    "duration": 193,
    "start_time": "2023-03-07T20:03:06.445Z"
   },
   {
    "duration": 54,
    "start_time": "2023-03-07T20:03:06.640Z"
   },
   {
    "duration": 778,
    "start_time": "2023-03-07T20:03:06.696Z"
   },
   {
    "duration": 53,
    "start_time": "2023-03-07T20:03:07.475Z"
   },
   {
    "duration": 632,
    "start_time": "2023-03-07T20:03:07.530Z"
   },
   {
    "duration": 37,
    "start_time": "2023-03-07T20:03:08.164Z"
   },
   {
    "duration": 450,
    "start_time": "2023-03-07T20:03:08.203Z"
   },
   {
    "duration": 58,
    "start_time": "2023-03-07T20:03:08.654Z"
   },
   {
    "duration": 2935,
    "start_time": "2023-03-07T20:03:08.714Z"
   },
   {
    "duration": 18,
    "start_time": "2023-03-07T20:03:11.651Z"
   },
   {
    "duration": 106,
    "start_time": "2023-03-07T20:03:11.670Z"
   },
   {
    "duration": 49046,
    "start_time": "2023-03-07T20:03:11.779Z"
   },
   {
    "duration": 34032,
    "start_time": "2023-03-07T20:04:00.827Z"
   },
   {
    "duration": 148,
    "start_time": "2023-03-07T20:04:34.861Z"
   },
   {
    "duration": 4,
    "start_time": "2023-03-07T20:04:35.011Z"
   },
   {
    "duration": 7,
    "start_time": "2023-03-07T20:04:35.016Z"
   },
   {
    "duration": 8,
    "start_time": "2023-03-07T20:04:35.025Z"
   },
   {
    "duration": 4,
    "start_time": "2023-03-07T20:04:35.034Z"
   },
   {
    "duration": 13875,
    "start_time": "2023-03-07T20:04:35.039Z"
   },
   {
    "duration": 201,
    "start_time": "2023-03-07T20:04:48.916Z"
   },
   {
    "duration": 95,
    "start_time": "2023-03-07T20:04:49.121Z"
   },
   {
    "duration": 309,
    "start_time": "2023-03-07T20:04:49.217Z"
   },
   {
    "duration": 177,
    "start_time": "2023-03-07T20:04:49.532Z"
   },
   {
    "duration": 109,
    "start_time": "2023-03-07T20:04:49.712Z"
   },
   {
    "duration": 9135,
    "start_time": "2023-03-07T20:04:49.823Z"
   },
   {
    "duration": 8,
    "start_time": "2023-03-07T20:04:58.959Z"
   },
   {
    "duration": 12,
    "start_time": "2023-03-07T20:04:58.968Z"
   },
   {
    "duration": 204,
    "start_time": "2023-03-07T20:04:58.981Z"
   },
   {
    "duration": 9,
    "start_time": "2023-03-07T20:04:59.188Z"
   },
   {
    "duration": 5,
    "start_time": "2023-03-07T20:04:59.212Z"
   },
   {
    "duration": 4,
    "start_time": "2023-03-07T20:04:59.219Z"
   },
   {
    "duration": 437,
    "start_time": "2023-03-07T20:04:59.225Z"
   },
   {
    "duration": 17,
    "start_time": "2023-03-07T20:04:59.664Z"
   },
   {
    "duration": 4,
    "start_time": "2023-03-07T20:04:59.683Z"
   },
   {
    "duration": 217408,
    "start_time": "2023-03-07T20:04:59.689Z"
   },
   {
    "duration": 9,
    "start_time": "2023-03-07T20:08:37.098Z"
   },
   {
    "duration": 125,
    "start_time": "2023-03-07T20:08:37.113Z"
   },
   {
    "duration": 33195,
    "start_time": "2023-03-07T20:08:37.240Z"
   },
   {
    "duration": 1947,
    "start_time": "2023-03-07T20:09:10.437Z"
   },
   {
    "duration": 4,
    "start_time": "2023-03-07T20:09:12.386Z"
   },
   {
    "duration": 146,
    "start_time": "2023-03-07T20:09:12.391Z"
   },
   {
    "duration": 2,
    "start_time": "2023-03-07T20:09:12.539Z"
   },
   {
    "duration": 32518,
    "start_time": "2023-03-07T20:09:12.543Z"
   },
   {
    "duration": 153,
    "start_time": "2023-03-07T20:09:45.063Z"
   },
   {
    "duration": 4,
    "start_time": "2023-03-07T20:09:45.218Z"
   },
   {
    "duration": 184,
    "start_time": "2023-03-07T20:09:45.224Z"
   },
   {
    "duration": 39109,
    "start_time": "2023-03-07T20:09:45.411Z"
   },
   {
    "duration": 8,
    "start_time": "2023-03-07T20:10:24.522Z"
   },
   {
    "duration": 105514,
    "start_time": "2023-03-07T20:10:24.532Z"
   },
   {
    "duration": 66,
    "start_time": "2023-03-07T20:12:10.048Z"
   },
   {
    "duration": 9,
    "start_time": "2023-03-07T20:12:10.115Z"
   },
   {
    "duration": 27597,
    "start_time": "2023-03-07T20:12:10.125Z"
   },
   {
    "duration": 2423,
    "start_time": "2023-03-07T20:12:37.724Z"
   },
   {
    "duration": 5,
    "start_time": "2023-03-07T20:12:40.148Z"
   },
   {
    "duration": 41,
    "start_time": "2023-03-07T20:12:40.211Z"
   },
   {
    "duration": 4,
    "start_time": "2023-03-07T20:12:40.253Z"
   },
   {
    "duration": 26,
    "start_time": "2023-03-07T20:12:40.259Z"
   },
   {
    "duration": 26,
    "start_time": "2023-03-07T20:12:40.287Z"
   },
   {
    "duration": 7,
    "start_time": "2023-03-07T20:13:12.823Z"
   },
   {
    "duration": 53,
    "start_time": "2023-03-15T11:10:44.502Z"
   },
   {
    "duration": 1571,
    "start_time": "2023-03-15T11:10:48.907Z"
   },
   {
    "duration": 95,
    "start_time": "2023-03-15T11:10:50.480Z"
   },
   {
    "duration": 13,
    "start_time": "2023-03-15T11:10:52.110Z"
   },
   {
    "duration": 49,
    "start_time": "2023-03-15T11:11:19.320Z"
   },
   {
    "duration": 49,
    "start_time": "2023-03-15T11:11:24.451Z"
   },
   {
    "duration": 1190,
    "start_time": "2023-03-15T11:13:05.418Z"
   },
   {
    "duration": 145,
    "start_time": "2023-03-15T11:13:07.847Z"
   }
  ],
  "kernelspec": {
   "display_name": "Python 3 (ipykernel)",
   "language": "python",
   "name": "python3"
  },
  "language_info": {
   "codemirror_mode": {
    "name": "ipython",
    "version": 3
   },
   "file_extension": ".py",
   "mimetype": "text/x-python",
   "name": "python",
   "nbconvert_exporter": "python",
   "pygments_lexer": "ipython3",
   "version": "3.9.12"
  },
  "toc": {
   "base_numbering": 1,
   "nav_menu": {},
   "number_sections": true,
   "sideBar": true,
   "skip_h1_title": true,
   "title_cell": "Table of Contents",
   "title_sidebar": "Contents",
   "toc_cell": false,
   "toc_position": {
    "height": "calc(100% - 180px)",
    "left": "10px",
    "top": "150px",
    "width": "190.837px"
   },
   "toc_section_display": true,
   "toc_window_display": true
  }
 },
 "nbformat": 4,
 "nbformat_minor": 2
}
