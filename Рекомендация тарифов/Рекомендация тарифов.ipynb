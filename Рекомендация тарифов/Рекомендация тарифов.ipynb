{
 "cells": [
  {
   "cell_type": "markdown",
   "metadata": {},
   "source": [
    "# Рекомендация тарифов"
   ]
  },
  {
   "cell_type": "markdown",
   "metadata": {},
   "source": [
    "Оператор мобильной связи «Мегалайн» выяснил: многие клиенты пользуются архивными тарифами. Они хотят построить систему, способную проанализировать поведение клиентов и предложить пользователям новый тариф: «Смарт» или «Ультра».\n",
    "\n",
    "В нашем распоряжении данные о поведении клиентов, которые уже перешли на эти тарифы. Нужно построить модель для задачи классификации, которая выберет подходящий тариф."
   ]
  },
  {
   "cell_type": "markdown",
   "metadata": {},
   "source": [
    "## Откройте и изучите файл"
   ]
  },
  {
   "cell_type": "code",
   "execution_count": 1,
   "metadata": {},
   "outputs": [],
   "source": [
    "import pandas as pd\n",
    "from sklearn.model_selection import train_test_split\n",
    "from sklearn.tree import DecisionTreeClassifier\n",
    "from sklearn.metrics import accuracy_score\n",
    "from sklearn.ensemble import RandomForestClassifier\n",
    "from sklearn.linear_model import LogisticRegression\n",
    "import warnings\n",
    "warnings.filterwarnings('ignore')"
   ]
  },
  {
   "cell_type": "code",
   "execution_count": 3,
   "metadata": {
    "scrolled": true
   },
   "outputs": [
    {
     "data": {
      "text/html": [
       "<div>\n",
       "<style scoped>\n",
       "    .dataframe tbody tr th:only-of-type {\n",
       "        vertical-align: middle;\n",
       "    }\n",
       "\n",
       "    .dataframe tbody tr th {\n",
       "        vertical-align: top;\n",
       "    }\n",
       "\n",
       "    .dataframe thead th {\n",
       "        text-align: right;\n",
       "    }\n",
       "</style>\n",
       "<table border=\"1\" class=\"dataframe\">\n",
       "  <thead>\n",
       "    <tr style=\"text-align: right;\">\n",
       "      <th></th>\n",
       "      <th>calls</th>\n",
       "      <th>minutes</th>\n",
       "      <th>messages</th>\n",
       "      <th>mb_used</th>\n",
       "      <th>is_ultra</th>\n",
       "    </tr>\n",
       "  </thead>\n",
       "  <tbody>\n",
       "    <tr>\n",
       "      <th>0</th>\n",
       "      <td>40.0</td>\n",
       "      <td>311.90</td>\n",
       "      <td>83.0</td>\n",
       "      <td>19915.42</td>\n",
       "      <td>0</td>\n",
       "    </tr>\n",
       "    <tr>\n",
       "      <th>1</th>\n",
       "      <td>85.0</td>\n",
       "      <td>516.75</td>\n",
       "      <td>56.0</td>\n",
       "      <td>22696.96</td>\n",
       "      <td>0</td>\n",
       "    </tr>\n",
       "    <tr>\n",
       "      <th>2</th>\n",
       "      <td>77.0</td>\n",
       "      <td>467.66</td>\n",
       "      <td>86.0</td>\n",
       "      <td>21060.45</td>\n",
       "      <td>0</td>\n",
       "    </tr>\n",
       "    <tr>\n",
       "      <th>3</th>\n",
       "      <td>106.0</td>\n",
       "      <td>745.53</td>\n",
       "      <td>81.0</td>\n",
       "      <td>8437.39</td>\n",
       "      <td>1</td>\n",
       "    </tr>\n",
       "    <tr>\n",
       "      <th>4</th>\n",
       "      <td>66.0</td>\n",
       "      <td>418.74</td>\n",
       "      <td>1.0</td>\n",
       "      <td>14502.75</td>\n",
       "      <td>0</td>\n",
       "    </tr>\n",
       "  </tbody>\n",
       "</table>\n",
       "</div>"
      ],
      "text/plain": [
       "   calls  minutes  messages   mb_used  is_ultra\n",
       "0   40.0   311.90      83.0  19915.42         0\n",
       "1   85.0   516.75      56.0  22696.96         0\n",
       "2   77.0   467.66      86.0  21060.45         0\n",
       "3  106.0   745.53      81.0   8437.39         1\n",
       "4   66.0   418.74       1.0  14502.75         0"
      ]
     },
     "execution_count": 3,
     "metadata": {},
     "output_type": "execute_result"
    }
   ],
   "source": [
    "df = pd.read_csv('users_behavior.csv')\n",
    "df.head()"
   ]
  },
  {
   "cell_type": "markdown",
   "metadata": {},
   "source": [
    "## Разбейте данные на выборки"
   ]
  },
  {
   "cell_type": "code",
   "execution_count": 4,
   "metadata": {},
   "outputs": [],
   "source": [
    "df_train, df_valid = train_test_split(df, test_size=0.4, random_state=12345)\n",
    "df_test, df_valid = train_test_split(df_valid, test_size=0.5, random_state=12345)"
   ]
  },
  {
   "cell_type": "markdown",
   "metadata": {},
   "source": [
    "### Промежуточные выводы:\n",
    "Набор данных разделен на три выборки: обучающая выборка, валидационная выборка и тестовая выборка в соотношении 3:1:1 соответственно"
   ]
  },
  {
   "cell_type": "markdown",
   "metadata": {},
   "source": [
    "## Исследуйте модели"
   ]
  },
  {
   "cell_type": "markdown",
   "metadata": {},
   "source": [
    "### Подготовка данных и результатов"
   ]
  },
  {
   "cell_type": "code",
   "execution_count": 5,
   "metadata": {},
   "outputs": [],
   "source": [
    "features_train = df_train.drop(['is_ultra'], axis=1)\n",
    "target_train = df_train['is_ultra']\n",
    "features_valid = df_valid.drop(['is_ultra'], axis=1)\n",
    "target_valid = df_valid['is_ultra']\n",
    "result_models = []"
   ]
  },
  {
   "cell_type": "markdown",
   "metadata": {},
   "source": [
    "### Решающее дерево"
   ]
  },
  {
   "cell_type": "code",
   "execution_count": 6,
   "metadata": {},
   "outputs": [],
   "source": [
    "for depth in range(1, 10):\n",
    "    model = DecisionTreeClassifier(random_state=12345, max_depth=depth) \n",
    "    model.fit(features_train, target_train)  \n",
    "    result_vaild = model.score(features_valid, target_valid)\n",
    "    result_train = model.score(features_train, target_train) \n",
    "    result_models.append(['Дерево',depth, result_vaild, result_train, model])"
   ]
  },
  {
   "cell_type": "markdown",
   "metadata": {},
   "source": [
    "### Случайный лес"
   ]
  },
  {
   "cell_type": "code",
   "execution_count": 7,
   "metadata": {},
   "outputs": [],
   "source": [
    "for est in range(10, 200, 10):\n",
    "    model = RandomForestClassifier(random_state=12345, n_estimators=est) \n",
    "    model.fit(features_train, target_train) \n",
    "    result_vaild = model.score(features_valid, target_valid) \n",
    "    result_train = model.score(features_train, target_train)\n",
    "    result_models.append(['Случайный лес', est, result_vaild, result_train, model])"
   ]
  },
  {
   "cell_type": "markdown",
   "metadata": {},
   "source": [
    "### Логистическая регрессия"
   ]
  },
  {
   "cell_type": "code",
   "execution_count": 8,
   "metadata": {},
   "outputs": [],
   "source": [
    "model = LogisticRegression() \n",
    "model.fit(features_train, target_train)\n",
    "result_vaild = model.score(features_valid, target_valid) \n",
    "result_train = model.score(features_train, target_train)\n",
    "result_models.append(['Логистическиая регрессия', None, result_vaild, result_train, model])"
   ]
  },
  {
   "cell_type": "markdown",
   "metadata": {},
   "source": [
    "### Подготьовка промежуточных результатов"
   ]
  },
  {
   "cell_type": "code",
   "execution_count": 9,
   "metadata": {},
   "outputs": [
    {
     "data": {
      "text/html": [
       "<div>\n",
       "<style scoped>\n",
       "    .dataframe tbody tr th:only-of-type {\n",
       "        vertical-align: middle;\n",
       "    }\n",
       "\n",
       "    .dataframe tbody tr th {\n",
       "        vertical-align: top;\n",
       "    }\n",
       "\n",
       "    .dataframe thead th {\n",
       "        text-align: right;\n",
       "    }\n",
       "</style>\n",
       "<table border=\"1\" class=\"dataframe\">\n",
       "  <thead>\n",
       "    <tr style=\"text-align: right;\">\n",
       "      <th></th>\n",
       "      <th>name_models</th>\n",
       "      <th>depth_or_est</th>\n",
       "      <th>result_vaild</th>\n",
       "      <th>result_train</th>\n",
       "      <th>models</th>\n",
       "      <th>result_difference</th>\n",
       "    </tr>\n",
       "  </thead>\n",
       "  <tbody>\n",
       "    <tr>\n",
       "      <th>0</th>\n",
       "      <td>Дерево</td>\n",
       "      <td>1.0</td>\n",
       "      <td>0.735614</td>\n",
       "      <td>0.757780</td>\n",
       "      <td>DecisionTreeClassifier(max_depth=1, random_sta...</td>\n",
       "      <td>0.022166</td>\n",
       "    </tr>\n",
       "    <tr>\n",
       "      <th>1</th>\n",
       "      <td>Дерево</td>\n",
       "      <td>2.0</td>\n",
       "      <td>0.774495</td>\n",
       "      <td>0.787863</td>\n",
       "      <td>DecisionTreeClassifier(max_depth=2, random_sta...</td>\n",
       "      <td>0.013369</td>\n",
       "    </tr>\n",
       "    <tr>\n",
       "      <th>2</th>\n",
       "      <td>Дерево</td>\n",
       "      <td>3.0</td>\n",
       "      <td>0.779160</td>\n",
       "      <td>0.807573</td>\n",
       "      <td>DecisionTreeClassifier(max_depth=3, random_sta...</td>\n",
       "      <td>0.028412</td>\n",
       "    </tr>\n",
       "    <tr>\n",
       "      <th>3</th>\n",
       "      <td>Дерево</td>\n",
       "      <td>4.0</td>\n",
       "      <td>0.774495</td>\n",
       "      <td>0.810685</td>\n",
       "      <td>DecisionTreeClassifier(max_depth=4, random_sta...</td>\n",
       "      <td>0.036190</td>\n",
       "    </tr>\n",
       "    <tr>\n",
       "      <th>4</th>\n",
       "      <td>Дерево</td>\n",
       "      <td>5.0</td>\n",
       "      <td>0.783826</td>\n",
       "      <td>0.820021</td>\n",
       "      <td>DecisionTreeClassifier(max_depth=5, random_sta...</td>\n",
       "      <td>0.036195</td>\n",
       "    </tr>\n",
       "    <tr>\n",
       "      <th>5</th>\n",
       "      <td>Дерево</td>\n",
       "      <td>6.0</td>\n",
       "      <td>0.776050</td>\n",
       "      <td>0.837656</td>\n",
       "      <td>DecisionTreeClassifier(max_depth=6, random_sta...</td>\n",
       "      <td>0.061606</td>\n",
       "    </tr>\n",
       "    <tr>\n",
       "      <th>6</th>\n",
       "      <td>Дерево</td>\n",
       "      <td>7.0</td>\n",
       "      <td>0.799378</td>\n",
       "      <td>0.855809</td>\n",
       "      <td>DecisionTreeClassifier(max_depth=7, random_sta...</td>\n",
       "      <td>0.056431</td>\n",
       "    </tr>\n",
       "    <tr>\n",
       "      <th>7</th>\n",
       "      <td>Дерево</td>\n",
       "      <td>8.0</td>\n",
       "      <td>0.793157</td>\n",
       "      <td>0.862552</td>\n",
       "      <td>DecisionTreeClassifier(max_depth=8, random_sta...</td>\n",
       "      <td>0.069395</td>\n",
       "    </tr>\n",
       "    <tr>\n",
       "      <th>8</th>\n",
       "      <td>Дерево</td>\n",
       "      <td>9.0</td>\n",
       "      <td>0.780715</td>\n",
       "      <td>0.881224</td>\n",
       "      <td>DecisionTreeClassifier(max_depth=9, random_sta...</td>\n",
       "      <td>0.100509</td>\n",
       "    </tr>\n",
       "    <tr>\n",
       "      <th>9</th>\n",
       "      <td>Случайный лес</td>\n",
       "      <td>10.0</td>\n",
       "      <td>0.780715</td>\n",
       "      <td>0.982365</td>\n",
       "      <td>(DecisionTreeClassifier(max_features='auto', r...</td>\n",
       "      <td>0.201650</td>\n",
       "    </tr>\n",
       "    <tr>\n",
       "      <th>10</th>\n",
       "      <td>Случайный лес</td>\n",
       "      <td>20.0</td>\n",
       "      <td>0.782271</td>\n",
       "      <td>0.989108</td>\n",
       "      <td>(DecisionTreeClassifier(max_features='auto', r...</td>\n",
       "      <td>0.206837</td>\n",
       "    </tr>\n",
       "    <tr>\n",
       "      <th>11</th>\n",
       "      <td>Случайный лес</td>\n",
       "      <td>30.0</td>\n",
       "      <td>0.785381</td>\n",
       "      <td>0.995851</td>\n",
       "      <td>(DecisionTreeClassifier(max_features='auto', r...</td>\n",
       "      <td>0.210470</td>\n",
       "    </tr>\n",
       "    <tr>\n",
       "      <th>12</th>\n",
       "      <td>Случайный лес</td>\n",
       "      <td>40.0</td>\n",
       "      <td>0.793157</td>\n",
       "      <td>0.997407</td>\n",
       "      <td>(DecisionTreeClassifier(max_features='auto', r...</td>\n",
       "      <td>0.204250</td>\n",
       "    </tr>\n",
       "    <tr>\n",
       "      <th>13</th>\n",
       "      <td>Случайный лес</td>\n",
       "      <td>50.0</td>\n",
       "      <td>0.793157</td>\n",
       "      <td>0.997925</td>\n",
       "      <td>(DecisionTreeClassifier(max_features='auto', r...</td>\n",
       "      <td>0.204768</td>\n",
       "    </tr>\n",
       "    <tr>\n",
       "      <th>14</th>\n",
       "      <td>Случайный лес</td>\n",
       "      <td>60.0</td>\n",
       "      <td>0.794712</td>\n",
       "      <td>0.999481</td>\n",
       "      <td>(DecisionTreeClassifier(max_features='auto', r...</td>\n",
       "      <td>0.204769</td>\n",
       "    </tr>\n",
       "    <tr>\n",
       "      <th>15</th>\n",
       "      <td>Случайный лес</td>\n",
       "      <td>70.0</td>\n",
       "      <td>0.793157</td>\n",
       "      <td>0.999481</td>\n",
       "      <td>(DecisionTreeClassifier(max_features='auto', r...</td>\n",
       "      <td>0.206324</td>\n",
       "    </tr>\n",
       "    <tr>\n",
       "      <th>16</th>\n",
       "      <td>Случайный лес</td>\n",
       "      <td>80.0</td>\n",
       "      <td>0.796267</td>\n",
       "      <td>0.999481</td>\n",
       "      <td>(DecisionTreeClassifier(max_features='auto', r...</td>\n",
       "      <td>0.203214</td>\n",
       "    </tr>\n",
       "    <tr>\n",
       "      <th>17</th>\n",
       "      <td>Случайный лес</td>\n",
       "      <td>90.0</td>\n",
       "      <td>0.791602</td>\n",
       "      <td>0.999481</td>\n",
       "      <td>(DecisionTreeClassifier(max_features='auto', r...</td>\n",
       "      <td>0.207879</td>\n",
       "    </tr>\n",
       "    <tr>\n",
       "      <th>18</th>\n",
       "      <td>Случайный лес</td>\n",
       "      <td>100.0</td>\n",
       "      <td>0.785381</td>\n",
       "      <td>0.999481</td>\n",
       "      <td>(DecisionTreeClassifier(max_features='auto', r...</td>\n",
       "      <td>0.214100</td>\n",
       "    </tr>\n",
       "    <tr>\n",
       "      <th>19</th>\n",
       "      <td>Случайный лес</td>\n",
       "      <td>110.0</td>\n",
       "      <td>0.790047</td>\n",
       "      <td>0.999481</td>\n",
       "      <td>(DecisionTreeClassifier(max_features='auto', r...</td>\n",
       "      <td>0.209435</td>\n",
       "    </tr>\n",
       "    <tr>\n",
       "      <th>20</th>\n",
       "      <td>Случайный лес</td>\n",
       "      <td>120.0</td>\n",
       "      <td>0.785381</td>\n",
       "      <td>0.999481</td>\n",
       "      <td>(DecisionTreeClassifier(max_features='auto', r...</td>\n",
       "      <td>0.214100</td>\n",
       "    </tr>\n",
       "    <tr>\n",
       "      <th>21</th>\n",
       "      <td>Случайный лес</td>\n",
       "      <td>130.0</td>\n",
       "      <td>0.786936</td>\n",
       "      <td>1.000000</td>\n",
       "      <td>(DecisionTreeClassifier(max_features='auto', r...</td>\n",
       "      <td>0.213064</td>\n",
       "    </tr>\n",
       "    <tr>\n",
       "      <th>22</th>\n",
       "      <td>Случайный лес</td>\n",
       "      <td>140.0</td>\n",
       "      <td>0.786936</td>\n",
       "      <td>1.000000</td>\n",
       "      <td>(DecisionTreeClassifier(max_features='auto', r...</td>\n",
       "      <td>0.213064</td>\n",
       "    </tr>\n",
       "    <tr>\n",
       "      <th>23</th>\n",
       "      <td>Случайный лес</td>\n",
       "      <td>150.0</td>\n",
       "      <td>0.788491</td>\n",
       "      <td>1.000000</td>\n",
       "      <td>(DecisionTreeClassifier(max_features='auto', r...</td>\n",
       "      <td>0.211509</td>\n",
       "    </tr>\n",
       "    <tr>\n",
       "      <th>24</th>\n",
       "      <td>Случайный лес</td>\n",
       "      <td>160.0</td>\n",
       "      <td>0.793157</td>\n",
       "      <td>1.000000</td>\n",
       "      <td>(DecisionTreeClassifier(max_features='auto', r...</td>\n",
       "      <td>0.206843</td>\n",
       "    </tr>\n",
       "    <tr>\n",
       "      <th>25</th>\n",
       "      <td>Случайный лес</td>\n",
       "      <td>170.0</td>\n",
       "      <td>0.786936</td>\n",
       "      <td>1.000000</td>\n",
       "      <td>(DecisionTreeClassifier(max_features='auto', r...</td>\n",
       "      <td>0.213064</td>\n",
       "    </tr>\n",
       "    <tr>\n",
       "      <th>26</th>\n",
       "      <td>Случайный лес</td>\n",
       "      <td>180.0</td>\n",
       "      <td>0.788491</td>\n",
       "      <td>1.000000</td>\n",
       "      <td>(DecisionTreeClassifier(max_features='auto', r...</td>\n",
       "      <td>0.211509</td>\n",
       "    </tr>\n",
       "    <tr>\n",
       "      <th>27</th>\n",
       "      <td>Случайный лес</td>\n",
       "      <td>190.0</td>\n",
       "      <td>0.786936</td>\n",
       "      <td>1.000000</td>\n",
       "      <td>(DecisionTreeClassifier(max_features='auto', r...</td>\n",
       "      <td>0.213064</td>\n",
       "    </tr>\n",
       "    <tr>\n",
       "      <th>28</th>\n",
       "      <td>Логистическиая регрессия</td>\n",
       "      <td>NaN</td>\n",
       "      <td>0.684292</td>\n",
       "      <td>0.713174</td>\n",
       "      <td>LogisticRegression()</td>\n",
       "      <td>0.028882</td>\n",
       "    </tr>\n",
       "  </tbody>\n",
       "</table>\n",
       "</div>"
      ],
      "text/plain": [
       "                 name_models  depth_or_est  result_vaild  result_train  \\\n",
       "0                     Дерево           1.0      0.735614      0.757780   \n",
       "1                     Дерево           2.0      0.774495      0.787863   \n",
       "2                     Дерево           3.0      0.779160      0.807573   \n",
       "3                     Дерево           4.0      0.774495      0.810685   \n",
       "4                     Дерево           5.0      0.783826      0.820021   \n",
       "5                     Дерево           6.0      0.776050      0.837656   \n",
       "6                     Дерево           7.0      0.799378      0.855809   \n",
       "7                     Дерево           8.0      0.793157      0.862552   \n",
       "8                     Дерево           9.0      0.780715      0.881224   \n",
       "9              Случайный лес          10.0      0.780715      0.982365   \n",
       "10             Случайный лес          20.0      0.782271      0.989108   \n",
       "11             Случайный лес          30.0      0.785381      0.995851   \n",
       "12             Случайный лес          40.0      0.793157      0.997407   \n",
       "13             Случайный лес          50.0      0.793157      0.997925   \n",
       "14             Случайный лес          60.0      0.794712      0.999481   \n",
       "15             Случайный лес          70.0      0.793157      0.999481   \n",
       "16             Случайный лес          80.0      0.796267      0.999481   \n",
       "17             Случайный лес          90.0      0.791602      0.999481   \n",
       "18             Случайный лес         100.0      0.785381      0.999481   \n",
       "19             Случайный лес         110.0      0.790047      0.999481   \n",
       "20             Случайный лес         120.0      0.785381      0.999481   \n",
       "21             Случайный лес         130.0      0.786936      1.000000   \n",
       "22             Случайный лес         140.0      0.786936      1.000000   \n",
       "23             Случайный лес         150.0      0.788491      1.000000   \n",
       "24             Случайный лес         160.0      0.793157      1.000000   \n",
       "25             Случайный лес         170.0      0.786936      1.000000   \n",
       "26             Случайный лес         180.0      0.788491      1.000000   \n",
       "27             Случайный лес         190.0      0.786936      1.000000   \n",
       "28  Логистическиая регрессия           NaN      0.684292      0.713174   \n",
       "\n",
       "                                               models  result_difference  \n",
       "0   DecisionTreeClassifier(max_depth=1, random_sta...           0.022166  \n",
       "1   DecisionTreeClassifier(max_depth=2, random_sta...           0.013369  \n",
       "2   DecisionTreeClassifier(max_depth=3, random_sta...           0.028412  \n",
       "3   DecisionTreeClassifier(max_depth=4, random_sta...           0.036190  \n",
       "4   DecisionTreeClassifier(max_depth=5, random_sta...           0.036195  \n",
       "5   DecisionTreeClassifier(max_depth=6, random_sta...           0.061606  \n",
       "6   DecisionTreeClassifier(max_depth=7, random_sta...           0.056431  \n",
       "7   DecisionTreeClassifier(max_depth=8, random_sta...           0.069395  \n",
       "8   DecisionTreeClassifier(max_depth=9, random_sta...           0.100509  \n",
       "9   (DecisionTreeClassifier(max_features='auto', r...           0.201650  \n",
       "10  (DecisionTreeClassifier(max_features='auto', r...           0.206837  \n",
       "11  (DecisionTreeClassifier(max_features='auto', r...           0.210470  \n",
       "12  (DecisionTreeClassifier(max_features='auto', r...           0.204250  \n",
       "13  (DecisionTreeClassifier(max_features='auto', r...           0.204768  \n",
       "14  (DecisionTreeClassifier(max_features='auto', r...           0.204769  \n",
       "15  (DecisionTreeClassifier(max_features='auto', r...           0.206324  \n",
       "16  (DecisionTreeClassifier(max_features='auto', r...           0.203214  \n",
       "17  (DecisionTreeClassifier(max_features='auto', r...           0.207879  \n",
       "18  (DecisionTreeClassifier(max_features='auto', r...           0.214100  \n",
       "19  (DecisionTreeClassifier(max_features='auto', r...           0.209435  \n",
       "20  (DecisionTreeClassifier(max_features='auto', r...           0.214100  \n",
       "21  (DecisionTreeClassifier(max_features='auto', r...           0.213064  \n",
       "22  (DecisionTreeClassifier(max_features='auto', r...           0.213064  \n",
       "23  (DecisionTreeClassifier(max_features='auto', r...           0.211509  \n",
       "24  (DecisionTreeClassifier(max_features='auto', r...           0.206843  \n",
       "25  (DecisionTreeClassifier(max_features='auto', r...           0.213064  \n",
       "26  (DecisionTreeClassifier(max_features='auto', r...           0.211509  \n",
       "27  (DecisionTreeClassifier(max_features='auto', r...           0.213064  \n",
       "28                               LogisticRegression()           0.028882  "
      ]
     },
     "execution_count": 9,
     "metadata": {},
     "output_type": "execute_result"
    }
   ],
   "source": [
    "models = pd.DataFrame(data=result_models, columns = ['name_models', 'depth_or_est', 'result_vaild', 'result_train', 'models'])\n",
    "models['result_difference'] = abs(models['result_train'] - models['result_vaild'])\n",
    "models"
   ]
  },
  {
   "cell_type": "markdown",
   "metadata": {},
   "source": [
    "### Отбор наилучших можелей для каждого алгоритма"
   ]
  },
  {
   "cell_type": "code",
   "execution_count": 10,
   "metadata": {
    "scrolled": true
   },
   "outputs": [
    {
     "data": {
      "text/plain": [
       "0.20164974864967766"
      ]
     },
     "execution_count": 10,
     "metadata": {},
     "output_type": "execute_result"
    }
   ],
   "source": [
    "models = models[models['result_vaild'] >= 0.75]\n",
    "tree_max = models.query('name_models == \"Дерево\"')['result_vaild'].max()\n",
    "tree_min = models.query('name_models == \"Дерево\"')['result_difference'].min()\n",
    "forest_max = models.query('name_models == \"Случайный лес\"')['result_vaild'].max()\n",
    "forest_min = models.query('name_models == \"Случайный лес\"')['result_difference'].min()\n",
    "forest_min"
   ]
  },
  {
   "cell_type": "code",
   "execution_count": 11,
   "metadata": {
    "scrolled": true
   },
   "outputs": [
    {
     "data": {
      "text/html": [
       "<div>\n",
       "<style scoped>\n",
       "    .dataframe tbody tr th:only-of-type {\n",
       "        vertical-align: middle;\n",
       "    }\n",
       "\n",
       "    .dataframe tbody tr th {\n",
       "        vertical-align: top;\n",
       "    }\n",
       "\n",
       "    .dataframe thead th {\n",
       "        text-align: right;\n",
       "    }\n",
       "</style>\n",
       "<table border=\"1\" class=\"dataframe\">\n",
       "  <thead>\n",
       "    <tr style=\"text-align: right;\">\n",
       "      <th></th>\n",
       "      <th>name_models</th>\n",
       "      <th>depth_or_est</th>\n",
       "      <th>result_vaild</th>\n",
       "      <th>result_train</th>\n",
       "      <th>models</th>\n",
       "      <th>result_difference</th>\n",
       "    </tr>\n",
       "  </thead>\n",
       "  <tbody>\n",
       "    <tr>\n",
       "      <th>0</th>\n",
       "      <td>Дерево</td>\n",
       "      <td>2.0</td>\n",
       "      <td>0.774495</td>\n",
       "      <td>0.787863</td>\n",
       "      <td>DecisionTreeClassifier(max_depth=2, random_sta...</td>\n",
       "      <td>0.013369</td>\n",
       "    </tr>\n",
       "    <tr>\n",
       "      <th>1</th>\n",
       "      <td>Дерево</td>\n",
       "      <td>7.0</td>\n",
       "      <td>0.799378</td>\n",
       "      <td>0.855809</td>\n",
       "      <td>DecisionTreeClassifier(max_depth=7, random_sta...</td>\n",
       "      <td>0.056431</td>\n",
       "    </tr>\n",
       "    <tr>\n",
       "      <th>2</th>\n",
       "      <td>Случайный лес</td>\n",
       "      <td>10.0</td>\n",
       "      <td>0.780715</td>\n",
       "      <td>0.982365</td>\n",
       "      <td>(DecisionTreeClassifier(max_features='auto', r...</td>\n",
       "      <td>0.201650</td>\n",
       "    </tr>\n",
       "    <tr>\n",
       "      <th>3</th>\n",
       "      <td>Случайный лес</td>\n",
       "      <td>80.0</td>\n",
       "      <td>0.796267</td>\n",
       "      <td>0.999481</td>\n",
       "      <td>(DecisionTreeClassifier(max_features='auto', r...</td>\n",
       "      <td>0.203214</td>\n",
       "    </tr>\n",
       "  </tbody>\n",
       "</table>\n",
       "</div>"
      ],
      "text/plain": [
       "     name_models  depth_or_est  result_vaild  result_train  \\\n",
       "0         Дерево           2.0      0.774495      0.787863   \n",
       "1         Дерево           7.0      0.799378      0.855809   \n",
       "2  Случайный лес          10.0      0.780715      0.982365   \n",
       "3  Случайный лес          80.0      0.796267      0.999481   \n",
       "\n",
       "                                              models  result_difference  \n",
       "0  DecisionTreeClassifier(max_depth=2, random_sta...           0.013369  \n",
       "1  DecisionTreeClassifier(max_depth=7, random_sta...           0.056431  \n",
       "2  (DecisionTreeClassifier(max_features='auto', r...           0.201650  \n",
       "3  (DecisionTreeClassifier(max_features='auto', r...           0.203214  "
      ]
     },
     "execution_count": 11,
     "metadata": {},
     "output_type": "execute_result"
    }
   ],
   "source": [
    "final_models = models.query(\n",
    "    '(name_models == \"Дерево\" and (result_vaild == @tree_max or result_difference == @tree_min)) or (name_models == \"Случайный лес\" and (result_vaild == @forest_max or result_difference == @forest_min)) or (name_models == \"Логистическая регрессия\")')\n",
    "final_models = final_models.reset_index(drop=True)\n",
    "final_models"
   ]
  },
  {
   "cell_type": "markdown",
   "metadata": {},
   "source": [
    "### Промежуточные выводы:\n",
    "1. Исследованы модели трех алгоритмов с различными гиперпараметрами: решающее дерево, случайный лес, логистичесткая регрессия\n",
    "2. Отобраны модели показывающий наилучший результат на валидационной выборке и имеющие наилучшую адекватность\n",
    "3. Модель с наилучшем результатом находится в таблице под номером 1. Будем использовать ее для тестовой выборки."
   ]
  },
  {
   "cell_type": "markdown",
   "metadata": {},
   "source": [
    "## Проверьте модель на тестовой выборке"
   ]
  },
  {
   "cell_type": "code",
   "execution_count": 16,
   "metadata": {},
   "outputs": [],
   "source": [
    "final_model = final_models.loc[1]\n",
    "final_model['result_test'] = final_model['models'].score(features_test, target_test)"
   ]
  },
  {
   "cell_type": "code",
   "execution_count": 17,
   "metadata": {
    "scrolled": true
   },
   "outputs": [
    {
     "data": {
      "text/plain": [
       "name_models                                                     Дерево\n",
       "depth_or_est                                                       7.0\n",
       "result_vaild                                                  0.799378\n",
       "result_train                                                  0.855809\n",
       "models               DecisionTreeClassifier(max_depth=7, random_sta...\n",
       "result_difference                                             0.056431\n",
       "result_test                                                   0.782271\n",
       "Name: 1, dtype: object"
      ]
     },
     "execution_count": 17,
     "metadata": {},
     "output_type": "execute_result"
    }
   ],
   "source": [
    "final_model"
   ]
  },
  {
   "cell_type": "markdown",
   "metadata": {},
   "source": [
    "### Промежуточные выводы:\n",
    "1. Итоговая модель на тестовой выборке показывает точность 0.782271"
   ]
  },
  {
   "cell_type": "markdown",
   "metadata": {},
   "source": [
    "## Выводы:\n",
    "### Ход работы:\n",
    "1. Набор данных был разделен на три выборки: обучающая выборка, валидационная выборка и тестовая выборка в соотношении 3:1:1 соответственно\n",
    "2. Исследована модель решающее дерево с различными гипперпараметрами от 1 до 9\n",
    "3. Исследована модель случайный лес с различными гипперпараметрами от 10 до 190 с шагом в 10\n",
    "4. Исследована модель логистической регрессии\n",
    "5. Результаты по всем полученным моделям сведены в таблицу\n",
    "6. Отобраны модели показывающий наилучший результат на валидационной выборке и имеющие наилучшую адекватность\n",
    "7. Выбрана итоговая модель, показывающая наилучшую точность\n",
    "8. Итоговая модель проверена на тестовой выборке\n",
    "\n",
    "### Результаты:\n",
    "\n",
    "1. Отобраны 4 наилучшие модели, представленные в таблице ниже.\n",
    "\n",
    "|Номер|Алгоритм       |Результаты для обучающей выборки|Результаты для валидационной выборки|\n",
    "|-----|---------------|--------------------------------|------------------------------------|\n",
    "|1    |Решающее дерево|0.787863                        |0.774495                            |\n",
    "|2    |Решающее дерево|0.855809                        |0.799378                            |\n",
    "|2    |Случайный лес  |0.982365                        |0.780715                            |\n",
    "|3    |Случайный лес  |0.999481                        |0.796267                            |\n",
    "\n",
    "2. Модель с наилучшем результатом находится в таблице под номером 1. Будем использовать ее для тестовой выборки.\n",
    "3. Итоговая модель на тестовой выборке показывает точность 0.782271\n",
    "4. Адекватность выбранной модели высока, так как разница между итогами проверки на обучающей выборке и валидационной не сильно отличаются\n",
    "5. Итоги по выброной моделе:\n",
    "\n",
    "|                                    |               |\n",
    "|------------------------------------|---------------|\n",
    "|Имя модели                          |Решающее дерево|\n",
    "|Количество шагов в моделе           |7.0            |\n",
    "|Результат для валидационной выборки |0.799378       |\n",
    "|Результат для обучающей выборки     |0.855809       |\n",
    "|Результат для тестовой выборки      |0.782271       |"
   ]
  }
 ],
 "metadata": {
  "ExecuteTimeLog": [
   {
    "duration": 454,
    "start_time": "2022-12-14T11:27:49.849Z"
   },
   {
    "duration": 74,
    "start_time": "2022-12-14T11:28:23.092Z"
   },
   {
    "duration": 843,
    "start_time": "2022-12-14T11:32:39.814Z"
   },
   {
    "duration": 113,
    "start_time": "2022-12-14T11:33:01.002Z"
   },
   {
    "duration": 33,
    "start_time": "2022-12-14T11:33:05.061Z"
   },
   {
    "duration": 7,
    "start_time": "2022-12-14T11:33:06.003Z"
   },
   {
    "duration": 53,
    "start_time": "2022-12-14T11:38:10.149Z"
   },
   {
    "duration": 14,
    "start_time": "2022-12-14T11:38:57.642Z"
   },
   {
    "duration": 43,
    "start_time": "2022-12-14T11:39:21.394Z"
   },
   {
    "duration": 45,
    "start_time": "2022-12-14T11:39:24.232Z"
   },
   {
    "duration": 35,
    "start_time": "2022-12-14T11:39:55.424Z"
   },
   {
    "duration": 43,
    "start_time": "2022-12-14T11:47:28.713Z"
   },
   {
    "duration": 42,
    "start_time": "2022-12-14T11:47:36.678Z"
   },
   {
    "duration": 41,
    "start_time": "2022-12-14T11:47:44.287Z"
   },
   {
    "duration": 16,
    "start_time": "2022-12-14T11:48:34.209Z"
   },
   {
    "duration": 50,
    "start_time": "2022-12-14T11:56:12.844Z"
   },
   {
    "duration": 39,
    "start_time": "2022-12-14T11:56:33.037Z"
   },
   {
    "duration": 41,
    "start_time": "2022-12-14T11:56:54.779Z"
   },
   {
    "duration": 59,
    "start_time": "2022-12-14T11:57:09.060Z"
   },
   {
    "duration": 37,
    "start_time": "2022-12-14T11:57:52.388Z"
   },
   {
    "duration": 52,
    "start_time": "2022-12-14T11:58:03.974Z"
   },
   {
    "duration": 56,
    "start_time": "2022-12-14T11:58:11.506Z"
   },
   {
    "duration": 52,
    "start_time": "2022-12-14T11:58:48.687Z"
   },
   {
    "duration": 39,
    "start_time": "2022-12-14T11:59:17.516Z"
   },
   {
    "duration": 46,
    "start_time": "2022-12-14T11:59:35.261Z"
   },
   {
    "duration": 43,
    "start_time": "2022-12-14T12:00:03.612Z"
   },
   {
    "duration": 39,
    "start_time": "2022-12-14T12:00:22.604Z"
   },
   {
    "duration": 53,
    "start_time": "2022-12-14T12:00:27.483Z"
   },
   {
    "duration": 80,
    "start_time": "2022-12-14T12:00:33.120Z"
   },
   {
    "duration": 7,
    "start_time": "2022-12-14T12:01:28.783Z"
   },
   {
    "duration": 78,
    "start_time": "2022-12-14T12:01:29.450Z"
   },
   {
    "duration": 375,
    "start_time": "2022-12-14T12:02:20.420Z"
   },
   {
    "duration": 298,
    "start_time": "2022-12-14T12:02:34.675Z"
   },
   {
    "duration": 290,
    "start_time": "2022-12-14T12:02:41.241Z"
   },
   {
    "duration": 297,
    "start_time": "2022-12-14T12:02:50.508Z"
   },
   {
    "duration": 316,
    "start_time": "2022-12-14T12:03:10.508Z"
   },
   {
    "duration": 340,
    "start_time": "2022-12-14T12:03:48.024Z"
   },
   {
    "duration": 84,
    "start_time": "2022-12-14T12:03:54.521Z"
   },
   {
    "duration": 331,
    "start_time": "2022-12-14T12:03:58.821Z"
   },
   {
    "duration": 313,
    "start_time": "2022-12-14T12:04:10.739Z"
   },
   {
    "duration": 317,
    "start_time": "2022-12-14T12:04:48.273Z"
   },
   {
    "duration": 298,
    "start_time": "2022-12-14T12:04:58.625Z"
   },
   {
    "duration": 363,
    "start_time": "2022-12-14T12:05:09.762Z"
   },
   {
    "duration": 424,
    "start_time": "2022-12-14T12:05:22.097Z"
   },
   {
    "duration": 365,
    "start_time": "2022-12-14T12:05:42.844Z"
   },
   {
    "duration": 351,
    "start_time": "2022-12-14T12:05:49.207Z"
   },
   {
    "duration": 384,
    "start_time": "2022-12-14T12:06:07.239Z"
   },
   {
    "duration": 432,
    "start_time": "2022-12-14T12:06:18.878Z"
   },
   {
    "duration": 72,
    "start_time": "2022-12-14T12:14:03.280Z"
   },
   {
    "duration": 6,
    "start_time": "2022-12-14T12:14:17.542Z"
   },
   {
    "duration": 72,
    "start_time": "2022-12-14T12:14:18.036Z"
   },
   {
    "duration": 25,
    "start_time": "2022-12-14T12:16:18.586Z"
   },
   {
    "duration": 26,
    "start_time": "2022-12-14T12:16:26.898Z"
   },
   {
    "duration": 351,
    "start_time": "2022-12-14T12:16:32.111Z"
   },
   {
    "duration": 83,
    "start_time": "2022-12-14T12:23:49.299Z"
   },
   {
    "duration": 78,
    "start_time": "2022-12-14T12:24:07.553Z"
   },
   {
    "duration": 6,
    "start_time": "2022-12-14T12:24:10.192Z"
   },
   {
    "duration": 79,
    "start_time": "2022-12-14T12:24:11.127Z"
   },
   {
    "duration": 93,
    "start_time": "2022-12-14T12:24:53.232Z"
   },
   {
    "duration": 5,
    "start_time": "2022-12-14T12:24:57.017Z"
   },
   {
    "duration": 77,
    "start_time": "2022-12-14T12:24:57.564Z"
   },
   {
    "duration": 303,
    "start_time": "2022-12-14T12:24:58.645Z"
   },
   {
    "duration": 9,
    "start_time": "2022-12-14T12:27:18.498Z"
   },
   {
    "duration": 3,
    "start_time": "2022-12-14T12:27:32.495Z"
   },
   {
    "duration": 32,
    "start_time": "2022-12-14T12:27:35.933Z"
   },
   {
    "duration": 44,
    "start_time": "2022-12-14T12:27:52.318Z"
   },
   {
    "duration": 29,
    "start_time": "2022-12-14T12:28:25.510Z"
   },
   {
    "duration": 102,
    "start_time": "2022-12-14T12:28:49.717Z"
   },
   {
    "duration": 37,
    "start_time": "2022-12-14T12:28:59.824Z"
   },
   {
    "duration": 296,
    "start_time": "2022-12-14T12:31:50.896Z"
   },
   {
    "duration": 90,
    "start_time": "2022-12-14T12:32:15.660Z"
   },
   {
    "duration": 5,
    "start_time": "2022-12-14T12:32:18.798Z"
   },
   {
    "duration": 81,
    "start_time": "2022-12-14T12:32:19.259Z"
   },
   {
    "duration": 310,
    "start_time": "2022-12-14T12:32:19.963Z"
   },
   {
    "duration": 36,
    "start_time": "2022-12-14T12:32:21.002Z"
   },
   {
    "duration": 5,
    "start_time": "2022-12-14T12:33:26.513Z"
   },
   {
    "duration": 76,
    "start_time": "2022-12-14T12:33:27.086Z"
   },
   {
    "duration": 302,
    "start_time": "2022-12-14T12:33:27.959Z"
   },
   {
    "duration": 29,
    "start_time": "2022-12-14T12:33:28.692Z"
   },
   {
    "duration": 6,
    "start_time": "2022-12-14T12:36:08.460Z"
   },
   {
    "duration": 85,
    "start_time": "2022-12-14T12:36:08.882Z"
   },
   {
    "duration": 285,
    "start_time": "2022-12-14T12:36:09.370Z"
   },
   {
    "duration": 34,
    "start_time": "2022-12-14T12:36:09.971Z"
   },
   {
    "duration": 32,
    "start_time": "2022-12-14T12:36:10.702Z"
   },
   {
    "duration": 5,
    "start_time": "2022-12-14T12:37:27.739Z"
   },
   {
    "duration": 77,
    "start_time": "2022-12-14T12:37:28.214Z"
   },
   {
    "duration": 284,
    "start_time": "2022-12-14T12:37:28.745Z"
   },
   {
    "duration": 27,
    "start_time": "2022-12-14T12:37:29.225Z"
   },
   {
    "duration": 51,
    "start_time": "2022-12-14T12:37:33.883Z"
   },
   {
    "duration": 4,
    "start_time": "2022-12-14T12:38:21.642Z"
   },
   {
    "duration": 15,
    "start_time": "2022-12-14T12:41:24.166Z"
   },
   {
    "duration": 52,
    "start_time": "2022-12-14T12:41:30.675Z"
   },
   {
    "duration": 39,
    "start_time": "2022-12-14T12:45:45.784Z"
   },
   {
    "duration": 21,
    "start_time": "2022-12-14T12:46:24.111Z"
   },
   {
    "duration": 5,
    "start_time": "2022-12-14T12:46:40.769Z"
   },
   {
    "duration": 9,
    "start_time": "2022-12-14T12:48:11.772Z"
   },
   {
    "duration": 5,
    "start_time": "2022-12-14T12:48:31.496Z"
   },
   {
    "duration": 22,
    "start_time": "2022-12-14T12:48:39.565Z"
   },
   {
    "duration": 26,
    "start_time": "2022-12-14T12:48:56.862Z"
   },
   {
    "duration": 1140,
    "start_time": "2022-12-14T12:50:25.876Z"
   },
   {
    "duration": 9,
    "start_time": "2022-12-14T12:50:45.179Z"
   },
   {
    "duration": 11,
    "start_time": "2022-12-14T12:52:15.430Z"
   },
   {
    "duration": 17,
    "start_time": "2022-12-14T12:52:23.212Z"
   },
   {
    "duration": 18,
    "start_time": "2022-12-14T12:52:32.106Z"
   },
   {
    "duration": 46,
    "start_time": "2022-12-14T12:52:36.859Z"
   },
   {
    "duration": 59,
    "start_time": "2022-12-14T12:52:37.494Z"
   },
   {
    "duration": 12,
    "start_time": "2022-12-14T12:53:48.825Z"
   },
   {
    "duration": 14,
    "start_time": "2022-12-14T12:54:33.084Z"
   },
   {
    "duration": 13,
    "start_time": "2022-12-14T12:54:45.319Z"
   },
   {
    "duration": 16,
    "start_time": "2022-12-14T12:55:14.655Z"
   },
   {
    "duration": 15,
    "start_time": "2022-12-14T12:55:37.133Z"
   },
   {
    "duration": 13,
    "start_time": "2022-12-14T12:55:38.238Z"
   },
   {
    "duration": 7,
    "start_time": "2022-12-14T12:55:56.137Z"
   },
   {
    "duration": 8,
    "start_time": "2022-12-14T12:56:02.945Z"
   },
   {
    "duration": 36,
    "start_time": "2022-12-14T12:56:52.959Z"
   },
   {
    "duration": 14,
    "start_time": "2022-12-14T12:56:54.283Z"
   },
   {
    "duration": 14,
    "start_time": "2022-12-14T12:56:56.092Z"
   },
   {
    "duration": 69,
    "start_time": "2022-12-14T12:58:18.744Z"
   },
   {
    "duration": 23,
    "start_time": "2022-12-14T12:59:10.586Z"
   },
   {
    "duration": 34,
    "start_time": "2022-12-14T12:59:44.900Z"
   },
   {
    "duration": 11,
    "start_time": "2022-12-14T13:00:35.301Z"
   },
   {
    "duration": 10,
    "start_time": "2022-12-14T13:01:18.524Z"
   },
   {
    "duration": 1164,
    "start_time": "2022-12-14T13:01:37.303Z"
   },
   {
    "duration": 1234,
    "start_time": "2022-12-14T13:02:04.697Z"
   },
   {
    "duration": 19,
    "start_time": "2022-12-14T13:02:37.646Z"
   },
   {
    "duration": 31,
    "start_time": "2022-12-14T13:02:44.426Z"
   },
   {
    "duration": 9,
    "start_time": "2022-12-14T13:02:54.049Z"
   },
   {
    "duration": 5,
    "start_time": "2022-12-14T13:02:57.614Z"
   },
   {
    "duration": 8,
    "start_time": "2022-12-14T13:03:00.617Z"
   },
   {
    "duration": 21,
    "start_time": "2022-12-14T13:09:10.687Z"
   },
   {
    "duration": 15,
    "start_time": "2022-12-14T13:09:16.807Z"
   },
   {
    "duration": 20,
    "start_time": "2022-12-14T13:10:22.796Z"
   },
   {
    "duration": 70,
    "start_time": "2022-12-14T13:13:55.110Z"
   },
   {
    "duration": 3,
    "start_time": "2022-12-14T13:14:44.160Z"
   },
   {
    "duration": 3,
    "start_time": "2022-12-14T13:16:14.783Z"
   },
   {
    "duration": 4,
    "start_time": "2022-12-14T13:16:19.218Z"
   },
   {
    "duration": 30,
    "start_time": "2022-12-14T13:17:44.064Z"
   },
   {
    "duration": 78,
    "start_time": "2022-12-14T13:22:41.624Z"
   },
   {
    "duration": 20,
    "start_time": "2022-12-14T13:23:12.853Z"
   },
   {
    "duration": 1267,
    "start_time": "2022-12-14T13:23:26.656Z"
   },
   {
    "duration": 23,
    "start_time": "2022-12-14T13:23:29.815Z"
   },
   {
    "duration": 26,
    "start_time": "2022-12-14T13:23:46.761Z"
   },
   {
    "duration": 6,
    "start_time": "2022-12-14T13:23:47.337Z"
   },
   {
    "duration": 24,
    "start_time": "2022-12-14T13:23:49.573Z"
   },
   {
    "duration": 5,
    "start_time": "2022-12-14T13:24:49.761Z"
   },
   {
    "duration": 59,
    "start_time": "2022-12-14T13:24:49.774Z"
   },
   {
    "duration": 8,
    "start_time": "2022-12-14T13:24:49.836Z"
   },
   {
    "duration": 13,
    "start_time": "2022-12-14T13:24:49.847Z"
   },
   {
    "duration": 116,
    "start_time": "2022-12-14T13:24:49.862Z"
   },
   {
    "duration": 358,
    "start_time": "2022-12-14T13:24:49.983Z"
   },
   {
    "duration": 42,
    "start_time": "2022-12-14T13:24:50.343Z"
   },
   {
    "duration": 50,
    "start_time": "2022-12-14T13:24:50.387Z"
   },
   {
    "duration": 19,
    "start_time": "2022-12-14T13:24:50.452Z"
   },
   {
    "duration": 44,
    "start_time": "2022-12-14T13:24:50.473Z"
   },
   {
    "duration": 40,
    "start_time": "2022-12-14T13:24:55.909Z"
   },
   {
    "duration": 6,
    "start_time": "2022-12-14T13:25:05.356Z"
   },
   {
    "duration": 1216,
    "start_time": "2022-12-14T13:25:08.627Z"
   },
   {
    "duration": 16,
    "start_time": "2022-12-14T13:25:22.035Z"
   },
   {
    "duration": 4,
    "start_time": "2022-12-14T13:25:29.442Z"
   },
   {
    "duration": 55,
    "start_time": "2022-12-14T13:25:29.448Z"
   },
   {
    "duration": 7,
    "start_time": "2022-12-14T13:25:29.505Z"
   },
   {
    "duration": 16,
    "start_time": "2022-12-14T13:25:29.514Z"
   },
   {
    "duration": 139,
    "start_time": "2022-12-14T13:25:29.531Z"
   },
   {
    "duration": 374,
    "start_time": "2022-12-14T13:25:29.672Z"
   },
   {
    "duration": 36,
    "start_time": "2022-12-14T13:25:30.048Z"
   },
   {
    "duration": 69,
    "start_time": "2022-12-14T13:25:30.087Z"
   },
   {
    "duration": 19,
    "start_time": "2022-12-14T13:25:30.159Z"
   },
   {
    "duration": 57,
    "start_time": "2022-12-14T13:25:30.180Z"
   },
   {
    "duration": 26,
    "start_time": "2022-12-14T13:25:31.661Z"
   },
   {
    "duration": 6,
    "start_time": "2022-12-14T13:25:32.630Z"
   },
   {
    "duration": 6,
    "start_time": "2022-12-14T13:26:37.840Z"
   },
   {
    "duration": 22,
    "start_time": "2022-12-14T13:26:54.198Z"
   },
   {
    "duration": 22,
    "start_time": "2022-12-14T13:27:33.991Z"
   },
   {
    "duration": 6,
    "start_time": "2022-12-14T13:27:39.647Z"
   },
   {
    "duration": 64,
    "start_time": "2022-12-14T13:27:39.656Z"
   },
   {
    "duration": 8,
    "start_time": "2022-12-14T13:27:39.722Z"
   },
   {
    "duration": 16,
    "start_time": "2022-12-14T13:27:39.734Z"
   },
   {
    "duration": 128,
    "start_time": "2022-12-14T13:27:39.753Z"
   },
   {
    "duration": 328,
    "start_time": "2022-12-14T13:27:39.883Z"
   },
   {
    "duration": 41,
    "start_time": "2022-12-14T13:27:40.213Z"
   },
   {
    "duration": 55,
    "start_time": "2022-12-14T13:27:40.256Z"
   },
   {
    "duration": 16,
    "start_time": "2022-12-14T13:27:40.313Z"
   },
   {
    "duration": 28,
    "start_time": "2022-12-14T13:27:40.350Z"
   },
   {
    "duration": 43,
    "start_time": "2022-12-14T13:27:40.380Z"
   },
   {
    "duration": 12,
    "start_time": "2022-12-14T13:27:40.426Z"
   },
   {
    "duration": 31,
    "start_time": "2022-12-14T13:27:40.440Z"
   },
   {
    "duration": 18,
    "start_time": "2022-12-14T13:28:04.933Z"
   },
   {
    "duration": 30,
    "start_time": "2022-12-14T13:28:17.666Z"
   },
   {
    "duration": 2322,
    "start_time": "2022-12-14T16:39:23.506Z"
   },
   {
    "duration": 87,
    "start_time": "2022-12-14T16:39:25.830Z"
   },
   {
    "duration": 6,
    "start_time": "2022-12-14T16:39:25.919Z"
   },
   {
    "duration": 24,
    "start_time": "2022-12-14T16:39:25.926Z"
   },
   {
    "duration": 179,
    "start_time": "2022-12-14T16:39:25.952Z"
   },
   {
    "duration": 579,
    "start_time": "2022-12-14T16:39:26.132Z"
   },
   {
    "duration": 25,
    "start_time": "2022-12-14T16:39:26.713Z"
   },
   {
    "duration": 92,
    "start_time": "2022-12-14T16:39:26.740Z"
   },
   {
    "duration": 73,
    "start_time": "2022-12-14T16:39:26.834Z"
   },
   {
    "duration": 42,
    "start_time": "2022-12-14T16:39:26.909Z"
   },
   {
    "duration": 67,
    "start_time": "2022-12-14T16:39:26.952Z"
   },
   {
    "duration": 4,
    "start_time": "2022-12-14T16:39:27.021Z"
   },
   {
    "duration": 83,
    "start_time": "2022-12-14T16:39:27.027Z"
   },
   {
    "duration": 35,
    "start_time": "2022-12-14T16:43:20.702Z"
   },
   {
    "duration": 85,
    "start_time": "2022-12-15T07:44:15.673Z"
   },
   {
    "duration": 76,
    "start_time": "2022-12-15T07:44:35.189Z"
   },
   {
    "duration": 73,
    "start_time": "2022-12-15T07:44:38.390Z"
   },
   {
    "duration": 70,
    "start_time": "2022-12-15T07:44:43.571Z"
   },
   {
    "duration": 70,
    "start_time": "2022-12-15T07:45:04.774Z"
   },
   {
    "duration": 1153,
    "start_time": "2022-12-15T07:47:13.118Z"
   },
   {
    "duration": 97,
    "start_time": "2022-12-15T07:47:14.273Z"
   },
   {
    "duration": 6,
    "start_time": "2022-12-15T07:47:16.695Z"
   },
   {
    "duration": 5,
    "start_time": "2022-12-15T07:47:20.630Z"
   },
   {
    "duration": 81,
    "start_time": "2022-12-15T07:47:22.449Z"
   },
   {
    "duration": 2170,
    "start_time": "2022-12-15T07:49:28.684Z"
   },
   {
    "duration": 25,
    "start_time": "2022-12-15T07:49:35.166Z"
   },
   {
    "duration": 140,
    "start_time": "2022-12-15T07:49:39.161Z"
   },
   {
    "duration": 12,
    "start_time": "2022-12-15T07:50:04.052Z"
   },
   {
    "duration": 47,
    "start_time": "2022-12-15T07:50:05.019Z"
   },
   {
    "duration": 9193,
    "start_time": "2022-12-15T07:51:36.871Z"
   },
   {
    "duration": 32,
    "start_time": "2022-12-15T07:51:47.322Z"
   },
   {
    "duration": 527,
    "start_time": "2022-12-15T07:51:48.985Z"
   },
   {
    "duration": 12,
    "start_time": "2022-12-15T07:51:59.735Z"
   },
   {
    "duration": 39,
    "start_time": "2022-12-15T07:52:00.626Z"
   },
   {
    "duration": 16,
    "start_time": "2022-12-15T07:52:37.273Z"
   },
   {
    "duration": 4,
    "start_time": "2022-12-15T07:53:01.965Z"
   },
   {
    "duration": 67,
    "start_time": "2022-12-15T07:53:02.828Z"
   },
   {
    "duration": 8707,
    "start_time": "2022-12-15T07:53:05.691Z"
   },
   {
    "duration": 38,
    "start_time": "2022-12-15T07:53:14.400Z"
   },
   {
    "duration": 444,
    "start_time": "2022-12-15T07:53:14.441Z"
   },
   {
    "duration": 17,
    "start_time": "2022-12-15T07:53:17.342Z"
   },
   {
    "duration": 38,
    "start_time": "2022-12-15T07:53:18.348Z"
   },
   {
    "duration": 381,
    "start_time": "2022-12-15T07:54:45.184Z"
   },
   {
    "duration": 14,
    "start_time": "2022-12-15T07:54:47.014Z"
   },
   {
    "duration": 39,
    "start_time": "2022-12-15T07:54:47.706Z"
   },
   {
    "duration": 32,
    "start_time": "2022-12-15T07:54:52.255Z"
   },
   {
    "duration": 5,
    "start_time": "2022-12-15T07:54:53.822Z"
   },
   {
    "duration": 5,
    "start_time": "2022-12-15T07:58:26.018Z"
   },
   {
    "duration": 110,
    "start_time": "2022-12-15T07:59:47.548Z"
   },
   {
    "duration": 23,
    "start_time": "2022-12-15T08:00:15.572Z"
   },
   {
    "duration": 17,
    "start_time": "2022-12-15T08:00:23.708Z"
   },
   {
    "duration": 71,
    "start_time": "2022-12-15T08:02:45.367Z"
   },
   {
    "duration": 4,
    "start_time": "2022-12-15T08:03:11.886Z"
   },
   {
    "duration": 23,
    "start_time": "2022-12-15T08:03:18.560Z"
   },
   {
    "duration": 15,
    "start_time": "2022-12-15T08:03:20.077Z"
   },
   {
    "duration": 7,
    "start_time": "2022-12-15T08:04:06.275Z"
   },
   {
    "duration": 5,
    "start_time": "2022-12-15T08:04:07.088Z"
   },
   {
    "duration": 31,
    "start_time": "2022-12-15T08:04:24.669Z"
   },
   {
    "duration": 34,
    "start_time": "2022-12-15T08:04:35.904Z"
   },
   {
    "duration": 5,
    "start_time": "2022-12-15T08:05:17.070Z"
   },
   {
    "duration": 5,
    "start_time": "2022-12-15T08:05:17.826Z"
   },
   {
    "duration": 35,
    "start_time": "2022-12-15T08:05:20.845Z"
   },
   {
    "duration": 4,
    "start_time": "2022-12-15T08:05:40.622Z"
   },
   {
    "duration": 71,
    "start_time": "2022-12-15T08:07:15.060Z"
   },
   {
    "duration": 1641,
    "start_time": "2022-12-15T15:38:38.322Z"
   },
   {
    "duration": 200,
    "start_time": "2022-12-15T15:38:39.965Z"
   },
   {
    "duration": 8,
    "start_time": "2022-12-15T15:38:40.166Z"
   },
   {
    "duration": 9,
    "start_time": "2022-12-15T15:38:40.176Z"
   },
   {
    "duration": 87,
    "start_time": "2022-12-15T15:38:40.187Z"
   },
   {
    "duration": 15241,
    "start_time": "2022-12-15T15:38:40.276Z"
   },
   {
    "duration": 28,
    "start_time": "2022-12-15T15:38:55.519Z"
   },
   {
    "duration": 437,
    "start_time": "2022-12-15T15:38:55.549Z"
   },
   {
    "duration": 23,
    "start_time": "2022-12-15T15:38:55.989Z"
   },
   {
    "duration": 43,
    "start_time": "2022-12-15T15:38:56.015Z"
   },
   {
    "duration": 58,
    "start_time": "2022-12-15T15:38:56.059Z"
   },
   {
    "duration": 40,
    "start_time": "2022-12-15T15:38:56.119Z"
   },
   {
    "duration": 6,
    "start_time": "2022-12-15T15:38:56.161Z"
   },
   {
    "duration": 16,
    "start_time": "2022-12-15T15:38:56.169Z"
   },
   {
    "duration": 25,
    "start_time": "2022-12-15T15:38:56.188Z"
   }
  ],
  "kernelspec": {
   "display_name": "Python 3 (ipykernel)",
   "language": "python",
   "name": "python3"
  },
  "language_info": {
   "codemirror_mode": {
    "name": "ipython",
    "version": 3
   },
   "file_extension": ".py",
   "mimetype": "text/x-python",
   "name": "python",
   "nbconvert_exporter": "python",
   "pygments_lexer": "ipython3",
   "version": "3.9.12"
  },
  "toc": {
   "base_numbering": 1,
   "nav_menu": {},
   "number_sections": true,
   "sideBar": true,
   "skip_h1_title": true,
   "title_cell": "Table of Contents",
   "title_sidebar": "Contents",
   "toc_cell": false,
   "toc_position": {
    "height": "calc(100% - 180px)",
    "left": "10px",
    "top": "150px",
    "width": "182.797px"
   },
   "toc_section_display": true,
   "toc_window_display": true
  }
 },
 "nbformat": 4,
 "nbformat_minor": 2
}
