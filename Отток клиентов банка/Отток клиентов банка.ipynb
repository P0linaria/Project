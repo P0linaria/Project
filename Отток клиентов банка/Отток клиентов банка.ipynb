{
 "cells": [
  {
   "cell_type": "markdown",
   "metadata": {
    "toc": true
   },
   "source": [
    "<h1>Содержание<span class=\"tocSkip\"></span></h1>\n",
    "<div class=\"toc\"><ul class=\"toc-item\"><li><span><a href=\"#Подготовка-данных\" data-toc-modified-id=\"Подготовка-данных-1\"><span class=\"toc-item-num\">1&nbsp;&nbsp;</span>Подготовка данных</a></span><ul class=\"toc-item\"><li><span><a href=\"#Промежуточные-выводы:\" data-toc-modified-id=\"Промежуточные-выводы:-1.1\"><span class=\"toc-item-num\">1.1&nbsp;&nbsp;</span>Промежуточные выводы:</a></span></li></ul></li><li><span><a href=\"#Исследование-задачи\" data-toc-modified-id=\"Исследование-задачи-2\"><span class=\"toc-item-num\">2&nbsp;&nbsp;</span>Исследование задачи</a></span><ul class=\"toc-item\"><li><span><a href=\"#Решающее-дерево\" data-toc-modified-id=\"Решающее-дерево-2.1\"><span class=\"toc-item-num\">2.1&nbsp;&nbsp;</span>Решающее дерево</a></span></li><li><span><a href=\"#Случайный-лес\" data-toc-modified-id=\"Случайный-лес-2.2\"><span class=\"toc-item-num\">2.2&nbsp;&nbsp;</span>Случайный лес</a></span></li><li><span><a href=\"#Логистическая-регрессия\" data-toc-modified-id=\"Логистическая-регрессия-2.3\"><span class=\"toc-item-num\">2.3&nbsp;&nbsp;</span>Логистическая регрессия</a></span></li><li><span><a href=\"#Сводная-таблица-результатов\" data-toc-modified-id=\"Сводная-таблица-результатов-2.4\"><span class=\"toc-item-num\">2.4&nbsp;&nbsp;</span>Сводная таблица результатов</a></span></li><li><span><a href=\"#Промежуточные-выводы\" data-toc-modified-id=\"Промежуточные-выводы-2.5\"><span class=\"toc-item-num\">2.5&nbsp;&nbsp;</span>Промежуточные выводы</a></span></li></ul></li><li><span><a href=\"#Борьба-с-дисбалансом\" data-toc-modified-id=\"Борьба-с-дисбалансом-3\"><span class=\"toc-item-num\">3&nbsp;&nbsp;</span>Борьба с дисбалансом</a></span><ul class=\"toc-item\"><li><span><a href=\"#Взвешивание-классов\" data-toc-modified-id=\"Взвешивание-классов-3.1\"><span class=\"toc-item-num\">3.1&nbsp;&nbsp;</span>Взвешивание классов</a></span></li><li><span><a href=\"#Увеличение-выборки\" data-toc-modified-id=\"Увеличение-выборки-3.2\"><span class=\"toc-item-num\">3.2&nbsp;&nbsp;</span>Увеличение выборки</a></span></li><li><span><a href=\"#Уменьшение-выборки\" data-toc-modified-id=\"Уменьшение-выборки-3.3\"><span class=\"toc-item-num\">3.3&nbsp;&nbsp;</span>Уменьшение выборки</a></span></li><li><span><a href=\"#Промежуточные-выводы:\" data-toc-modified-id=\"Промежуточные-выводы:-3.4\"><span class=\"toc-item-num\">3.4&nbsp;&nbsp;</span>Промежуточные выводы:</a></span></li></ul></li><li><span><a href=\"#Тестирование-модели\" data-toc-modified-id=\"Тестирование-модели-4\"><span class=\"toc-item-num\">4&nbsp;&nbsp;</span>Тестирование модели</a></span><ul class=\"toc-item\"><li><span><a href=\"#Промежуточные-выводы\" data-toc-modified-id=\"Промежуточные-выводы-4.1\"><span class=\"toc-item-num\">4.1&nbsp;&nbsp;</span>Промежуточные выводы</a></span></li></ul></li><li><span><a href=\"#Итоговые-выводы:\" data-toc-modified-id=\"Итоговые-выводы:-5\"><span class=\"toc-item-num\">5&nbsp;&nbsp;</span>Итоговые выводы:</a></span><ul class=\"toc-item\"><li><span><a href=\"#Ход-работы:\" data-toc-modified-id=\"Ход-работы:-5.1\"><span class=\"toc-item-num\">5.1&nbsp;&nbsp;</span>Ход работы:</a></span></li><li><span><a href=\"#Результаты:\" data-toc-modified-id=\"Результаты:-5.2\"><span class=\"toc-item-num\">5.2&nbsp;&nbsp;</span>Результаты:</a></span></li></ul></li><li><span><a href=\"#Чек-лист-готовности-проекта\" data-toc-modified-id=\"Чек-лист-готовности-проекта-6\"><span class=\"toc-item-num\">6&nbsp;&nbsp;</span>Чек-лист готовности проекта</a></span></li></ul></div>"
   ]
  },
  {
   "cell_type": "markdown",
   "metadata": {},
   "source": [
    "# Отток клиентов"
   ]
  },
  {
   "cell_type": "markdown",
   "metadata": {},
   "source": [
    "Из «Бета-Банка» стали уходить клиенты. Каждый месяц. Немного, но заметно. Банковские маркетологи посчитали: сохранять текущих клиентов дешевле, чем привлекать новых.\n",
    "\n",
    "Нужно спрогнозировать, уйдёт клиент из банка в ближайшее время или нет. Вам предоставлены исторические данные о поведении клиентов и расторжении договоров с банком. \n",
    "\n",
    "Постройте модель с предельно большим значением *F1*-меры.\n",
    "\n",
    "Источник данных: [https://www.kaggle.com/barelydedicated/bank-customer-churn-modeling](https://www.kaggle.com/barelydedicated/bank-customer-churn-modeling)"
   ]
  },
  {
   "cell_type": "markdown",
   "metadata": {},
   "source": [
    "## Подготовка данных"
   ]
  },
  {
   "cell_type": "markdown",
   "metadata": {},
   "source": [
    "Цель проекта: найти модель со значением F1-меры более 0.59\n",
    "\n",
    "Необходимые этапы для достижения цели:\n",
    "1. Подготовка данных\n",
    "2. Построение моделей, не учитывая дисбаланс классов\n",
    "3. Борьба с дисбалансом\n",
    "4. Сравнение полученных результатов\n",
    "5. Выбор наилучшей модели\n",
    "6. Тестирование наилучшей модели"
   ]
  },
  {
   "cell_type": "code",
   "execution_count": 1,
   "metadata": {},
   "outputs": [],
   "source": [
    "import pandas as pd\n",
    "from sklearn.model_selection import train_test_split\n",
    "from sklearn.tree import DecisionTreeClassifier\n",
    "from sklearn.metrics import accuracy_score\n",
    "from sklearn.ensemble import RandomForestClassifier\n",
    "from sklearn.linear_model import LogisticRegression\n",
    "from sklearn.preprocessing import StandardScaler\n",
    "from sklearn.metrics import f1_score\n",
    "from sklearn.metrics import roc_auc_score \n",
    "from sklearn.utils import shuffle\n",
    "from sklearn.preprocessing import OneHotEncoder\n",
    "import warnings\n",
    "warnings.filterwarnings('ignore')"
   ]
  },
  {
   "cell_type": "code",
   "execution_count": 2,
   "metadata": {},
   "outputs": [
    {
     "name": "stdout",
     "output_type": "stream",
     "text": [
      "Requirement already satisfied: scikit-learn==1.1.3 in /opt/conda/lib/python3.9/site-packages (1.1.3)\n",
      "Requirement already satisfied: joblib>=1.0.0 in /opt/conda/lib/python3.9/site-packages (from scikit-learn==1.1.3) (1.1.0)\n",
      "Requirement already satisfied: scipy>=1.3.2 in /opt/conda/lib/python3.9/site-packages (from scikit-learn==1.1.3) (1.9.1)\n",
      "Requirement already satisfied: numpy>=1.17.3 in /opt/conda/lib/python3.9/site-packages (from scikit-learn==1.1.3) (1.21.1)\n",
      "Requirement already satisfied: threadpoolctl>=2.0.0 in /opt/conda/lib/python3.9/site-packages (from scikit-learn==1.1.3) (3.1.0)\n",
      "Note: you may need to restart the kernel to use updated packages.\n"
     ]
    }
   ],
   "source": [
    "pip install scikit-learn==1.1.3"
   ]
  },
  {
   "cell_type": "code",
   "execution_count": 3,
   "metadata": {},
   "outputs": [
    {
     "name": "stdout",
     "output_type": "stream",
     "text": [
      "<class 'pandas.core.frame.DataFrame'>\n",
      "Int64Index: 10000 entries, 1 to 10000\n",
      "Data columns (total 13 columns):\n",
      " #   Column           Non-Null Count  Dtype  \n",
      "---  ------           --------------  -----  \n",
      " 0   CustomerId       10000 non-null  int64  \n",
      " 1   Surname          10000 non-null  object \n",
      " 2   CreditScore      10000 non-null  int64  \n",
      " 3   Geography        10000 non-null  object \n",
      " 4   Gender           10000 non-null  object \n",
      " 5   Age              10000 non-null  int64  \n",
      " 6   Tenure           9091 non-null   float64\n",
      " 7   Balance          10000 non-null  float64\n",
      " 8   NumOfProducts    10000 non-null  int64  \n",
      " 9   HasCrCard        10000 non-null  int64  \n",
      " 10  IsActiveMember   10000 non-null  int64  \n",
      " 11  EstimatedSalary  10000 non-null  float64\n",
      " 12  Exited           10000 non-null  int64  \n",
      "dtypes: float64(3), int64(7), object(3)\n",
      "memory usage: 1.1+ MB\n"
     ]
    }
   ],
   "source": [
    "data = pd.read_csv('Churn.csv', index_col = 'RowNumber')\n",
    "data.info()"
   ]
  },
  {
   "cell_type": "code",
   "execution_count": 4,
   "metadata": {},
   "outputs": [
    {
     "data": {
      "text/html": [
       "<div>\n",
       "<style scoped>\n",
       "    .dataframe tbody tr th:only-of-type {\n",
       "        vertical-align: middle;\n",
       "    }\n",
       "\n",
       "    .dataframe tbody tr th {\n",
       "        vertical-align: top;\n",
       "    }\n",
       "\n",
       "    .dataframe thead th {\n",
       "        text-align: right;\n",
       "    }\n",
       "</style>\n",
       "<table border=\"1\" class=\"dataframe\">\n",
       "  <thead>\n",
       "    <tr style=\"text-align: right;\">\n",
       "      <th></th>\n",
       "      <th>CustomerId</th>\n",
       "      <th>Surname</th>\n",
       "      <th>CreditScore</th>\n",
       "      <th>Geography</th>\n",
       "      <th>Gender</th>\n",
       "      <th>Age</th>\n",
       "      <th>Tenure</th>\n",
       "      <th>Balance</th>\n",
       "      <th>NumOfProducts</th>\n",
       "      <th>HasCrCard</th>\n",
       "      <th>IsActiveMember</th>\n",
       "      <th>EstimatedSalary</th>\n",
       "      <th>Exited</th>\n",
       "    </tr>\n",
       "    <tr>\n",
       "      <th>RowNumber</th>\n",
       "      <th></th>\n",
       "      <th></th>\n",
       "      <th></th>\n",
       "      <th></th>\n",
       "      <th></th>\n",
       "      <th></th>\n",
       "      <th></th>\n",
       "      <th></th>\n",
       "      <th></th>\n",
       "      <th></th>\n",
       "      <th></th>\n",
       "      <th></th>\n",
       "      <th></th>\n",
       "    </tr>\n",
       "  </thead>\n",
       "  <tbody>\n",
       "    <tr>\n",
       "      <th>1</th>\n",
       "      <td>15634602</td>\n",
       "      <td>Hargrave</td>\n",
       "      <td>619</td>\n",
       "      <td>France</td>\n",
       "      <td>Female</td>\n",
       "      <td>42</td>\n",
       "      <td>2.0</td>\n",
       "      <td>0.00</td>\n",
       "      <td>1</td>\n",
       "      <td>1</td>\n",
       "      <td>1</td>\n",
       "      <td>101348.88</td>\n",
       "      <td>1</td>\n",
       "    </tr>\n",
       "    <tr>\n",
       "      <th>2</th>\n",
       "      <td>15647311</td>\n",
       "      <td>Hill</td>\n",
       "      <td>608</td>\n",
       "      <td>Spain</td>\n",
       "      <td>Female</td>\n",
       "      <td>41</td>\n",
       "      <td>1.0</td>\n",
       "      <td>83807.86</td>\n",
       "      <td>1</td>\n",
       "      <td>0</td>\n",
       "      <td>1</td>\n",
       "      <td>112542.58</td>\n",
       "      <td>0</td>\n",
       "    </tr>\n",
       "    <tr>\n",
       "      <th>3</th>\n",
       "      <td>15619304</td>\n",
       "      <td>Onio</td>\n",
       "      <td>502</td>\n",
       "      <td>France</td>\n",
       "      <td>Female</td>\n",
       "      <td>42</td>\n",
       "      <td>8.0</td>\n",
       "      <td>159660.80</td>\n",
       "      <td>3</td>\n",
       "      <td>1</td>\n",
       "      <td>0</td>\n",
       "      <td>113931.57</td>\n",
       "      <td>1</td>\n",
       "    </tr>\n",
       "    <tr>\n",
       "      <th>4</th>\n",
       "      <td>15701354</td>\n",
       "      <td>Boni</td>\n",
       "      <td>699</td>\n",
       "      <td>France</td>\n",
       "      <td>Female</td>\n",
       "      <td>39</td>\n",
       "      <td>1.0</td>\n",
       "      <td>0.00</td>\n",
       "      <td>2</td>\n",
       "      <td>0</td>\n",
       "      <td>0</td>\n",
       "      <td>93826.63</td>\n",
       "      <td>0</td>\n",
       "    </tr>\n",
       "    <tr>\n",
       "      <th>5</th>\n",
       "      <td>15737888</td>\n",
       "      <td>Mitchell</td>\n",
       "      <td>850</td>\n",
       "      <td>Spain</td>\n",
       "      <td>Female</td>\n",
       "      <td>43</td>\n",
       "      <td>2.0</td>\n",
       "      <td>125510.82</td>\n",
       "      <td>1</td>\n",
       "      <td>1</td>\n",
       "      <td>1</td>\n",
       "      <td>79084.10</td>\n",
       "      <td>0</td>\n",
       "    </tr>\n",
       "  </tbody>\n",
       "</table>\n",
       "</div>"
      ],
      "text/plain": [
       "           CustomerId   Surname  CreditScore Geography  Gender  Age  Tenure  \\\n",
       "RowNumber                                                                     \n",
       "1            15634602  Hargrave          619    France  Female   42     2.0   \n",
       "2            15647311      Hill          608     Spain  Female   41     1.0   \n",
       "3            15619304      Onio          502    France  Female   42     8.0   \n",
       "4            15701354      Boni          699    France  Female   39     1.0   \n",
       "5            15737888  Mitchell          850     Spain  Female   43     2.0   \n",
       "\n",
       "             Balance  NumOfProducts  HasCrCard  IsActiveMember  \\\n",
       "RowNumber                                                        \n",
       "1               0.00              1          1               1   \n",
       "2           83807.86              1          0               1   \n",
       "3          159660.80              3          1               0   \n",
       "4               0.00              2          0               0   \n",
       "5          125510.82              1          1               1   \n",
       "\n",
       "           EstimatedSalary  Exited  \n",
       "RowNumber                           \n",
       "1                101348.88       1  \n",
       "2                112542.58       0  \n",
       "3                113931.57       1  \n",
       "4                 93826.63       0  \n",
       "5                 79084.10       0  "
      ]
     },
     "execution_count": 4,
     "metadata": {},
     "output_type": "execute_result"
    }
   ],
   "source": [
    "data.head()"
   ]
  },
  {
   "cell_type": "code",
   "execution_count": 5,
   "metadata": {},
   "outputs": [],
   "source": [
    "data = data.drop(['CustomerId', 'Surname'], axis=1)"
   ]
  },
  {
   "cell_type": "code",
   "execution_count": 6,
   "metadata": {
    "scrolled": true
   },
   "outputs": [
    {
     "name": "stdout",
     "output_type": "stream",
     "text": [
      "<class 'pandas.core.frame.DataFrame'>\n",
      "Int64Index: 9091 entries, 1 to 9999\n",
      "Data columns (total 11 columns):\n",
      " #   Column           Non-Null Count  Dtype  \n",
      "---  ------           --------------  -----  \n",
      " 0   CreditScore      9091 non-null   int64  \n",
      " 1   Geography        9091 non-null   object \n",
      " 2   Gender           9091 non-null   object \n",
      " 3   Age              9091 non-null   int64  \n",
      " 4   Tenure           9091 non-null   float64\n",
      " 5   Balance          9091 non-null   float64\n",
      " 6   NumOfProducts    9091 non-null   int64  \n",
      " 7   HasCrCard        9091 non-null   int64  \n",
      " 8   IsActiveMember   9091 non-null   int64  \n",
      " 9   EstimatedSalary  9091 non-null   float64\n",
      " 10  Exited           9091 non-null   int64  \n",
      "dtypes: float64(3), int64(6), object(2)\n",
      "memory usage: 852.3+ KB\n"
     ]
    }
   ],
   "source": [
    "data = data.dropna()\n",
    "data.info()"
   ]
  },
  {
   "cell_type": "markdown",
   "metadata": {},
   "source": [
    "Удалим столбцы, которые хранят признаки не влияющие на уход клиента из банка.\n",
    "\n",
    "Так как в столбце tenure есть пропушенные значения, и их немного, удалим строки с пропусками."
   ]
  },
  {
   "cell_type": "code",
   "execution_count": 9,
   "metadata": {},
   "outputs": [
    {
     "name": "stdout",
     "output_type": "stream",
     "text": [
      "(5454, 10)\n",
      "(1818, 10)\n",
      "(1819, 10)\n"
     ]
    }
   ],
   "source": [
    "features = data.drop('Exited', axis=1)\n",
    "target = data['Exited']\n",
    "features_train, features_valid, target_train, target_valid = train_test_split(\n",
    "    features, target, test_size=0.4, random_state=12345)\n",
    "features_valid, features_test, target_valid, target_test = train_test_split(\n",
    "    features_valid, target_valid, test_size=0.5, random_state=12345)\n",
    "print(features_train.shape)\n",
    "print(features_valid.shape)\n",
    "print(features_test.shape)"
   ]
  },
  {
   "cell_type": "code",
   "execution_count": 10,
   "metadata": {},
   "outputs": [
    {
     "data": {
      "text/html": [
       "<div>\n",
       "<style scoped>\n",
       "    .dataframe tbody tr th:only-of-type {\n",
       "        vertical-align: middle;\n",
       "    }\n",
       "\n",
       "    .dataframe tbody tr th {\n",
       "        vertical-align: top;\n",
       "    }\n",
       "\n",
       "    .dataframe thead th {\n",
       "        text-align: right;\n",
       "    }\n",
       "</style>\n",
       "<table border=\"1\" class=\"dataframe\">\n",
       "  <thead>\n",
       "    <tr style=\"text-align: right;\">\n",
       "      <th></th>\n",
       "      <th>CreditScore</th>\n",
       "      <th>Age</th>\n",
       "      <th>Tenure</th>\n",
       "      <th>Balance</th>\n",
       "      <th>NumOfProducts</th>\n",
       "      <th>HasCrCard</th>\n",
       "      <th>IsActiveMember</th>\n",
       "      <th>EstimatedSalary</th>\n",
       "      <th>x0_Germany</th>\n",
       "      <th>x0_Spain</th>\n",
       "      <th>x1_Male</th>\n",
       "    </tr>\n",
       "    <tr>\n",
       "      <th>RowNumber</th>\n",
       "      <th></th>\n",
       "      <th></th>\n",
       "      <th></th>\n",
       "      <th></th>\n",
       "      <th></th>\n",
       "      <th></th>\n",
       "      <th></th>\n",
       "      <th></th>\n",
       "      <th></th>\n",
       "      <th></th>\n",
       "      <th></th>\n",
       "    </tr>\n",
       "  </thead>\n",
       "  <tbody>\n",
       "    <tr>\n",
       "      <th>9345</th>\n",
       "      <td>727</td>\n",
       "      <td>28</td>\n",
       "      <td>2.0</td>\n",
       "      <td>110997.76</td>\n",
       "      <td>1</td>\n",
       "      <td>1</td>\n",
       "      <td>0</td>\n",
       "      <td>101433.76</td>\n",
       "      <td>0.0</td>\n",
       "      <td>0.0</td>\n",
       "      <td>0.0</td>\n",
       "    </tr>\n",
       "    <tr>\n",
       "      <th>3797</th>\n",
       "      <td>537</td>\n",
       "      <td>26</td>\n",
       "      <td>7.0</td>\n",
       "      <td>106397.75</td>\n",
       "      <td>1</td>\n",
       "      <td>0</td>\n",
       "      <td>0</td>\n",
       "      <td>103563.23</td>\n",
       "      <td>0.0</td>\n",
       "      <td>0.0</td>\n",
       "      <td>1.0</td>\n",
       "    </tr>\n",
       "    <tr>\n",
       "      <th>7463</th>\n",
       "      <td>610</td>\n",
       "      <td>40</td>\n",
       "      <td>9.0</td>\n",
       "      <td>0.00</td>\n",
       "      <td>1</td>\n",
       "      <td>1</td>\n",
       "      <td>1</td>\n",
       "      <td>149602.54</td>\n",
       "      <td>0.0</td>\n",
       "      <td>0.0</td>\n",
       "      <td>1.0</td>\n",
       "    </tr>\n",
       "    <tr>\n",
       "      <th>1509</th>\n",
       "      <td>576</td>\n",
       "      <td>36</td>\n",
       "      <td>6.0</td>\n",
       "      <td>0.00</td>\n",
       "      <td>2</td>\n",
       "      <td>1</td>\n",
       "      <td>1</td>\n",
       "      <td>48314.00</td>\n",
       "      <td>0.0</td>\n",
       "      <td>0.0</td>\n",
       "      <td>1.0</td>\n",
       "    </tr>\n",
       "    <tr>\n",
       "      <th>4479</th>\n",
       "      <td>549</td>\n",
       "      <td>31</td>\n",
       "      <td>4.0</td>\n",
       "      <td>0.00</td>\n",
       "      <td>2</td>\n",
       "      <td>0</td>\n",
       "      <td>1</td>\n",
       "      <td>25684.85</td>\n",
       "      <td>0.0</td>\n",
       "      <td>0.0</td>\n",
       "      <td>1.0</td>\n",
       "    </tr>\n",
       "  </tbody>\n",
       "</table>\n",
       "</div>"
      ],
      "text/plain": [
       "           CreditScore  Age  Tenure    Balance  NumOfProducts  HasCrCard  \\\n",
       "RowNumber                                                                  \n",
       "9345               727   28     2.0  110997.76              1          1   \n",
       "3797               537   26     7.0  106397.75              1          0   \n",
       "7463               610   40     9.0       0.00              1          1   \n",
       "1509               576   36     6.0       0.00              2          1   \n",
       "4479               549   31     4.0       0.00              2          0   \n",
       "\n",
       "           IsActiveMember  EstimatedSalary  x0_Germany  x0_Spain  x1_Male  \n",
       "RowNumber                                                                  \n",
       "9345                    0        101433.76         0.0       0.0      0.0  \n",
       "3797                    0        103563.23         0.0       0.0      1.0  \n",
       "7463                    1        149602.54         0.0       0.0      1.0  \n",
       "1509                    1         48314.00         0.0       0.0      1.0  \n",
       "4479                    1         25684.85         0.0       0.0      1.0  "
      ]
     },
     "execution_count": 10,
     "metadata": {},
     "output_type": "execute_result"
    }
   ],
   "source": [
    "enc = OneHotEncoder(drop='first', sparse=False)\n",
    "category = ['Geography', 'Gender']\n",
    "enc.fit(features_train[category])\n",
    "# features_train[enc.get_feature_names_out()] = enc.transform(features_train[category])\n",
    "features_train[enc.get_feature_names()] = enc.transform(features_train[category])\n",
    "features_train = features_train.drop(category, axis=1)\n",
    "features_train.head()"
   ]
  },
  {
   "cell_type": "code",
   "execution_count": 11,
   "metadata": {},
   "outputs": [],
   "source": [
    "features_valid[enc.get_feature_names()] = enc.transform(features_valid[category])\n",
    "features_valid = features_valid.drop(category, axis=1)\n",
    "features_test[enc.get_feature_names()] = enc.transform(features_test[category])\n",
    "features_test = features_test.drop(category, axis=1)"
   ]
  },
  {
   "cell_type": "code",
   "execution_count": 12,
   "metadata": {},
   "outputs": [],
   "source": [
    "numeric = ['CreditScore', 'Tenure', 'Balance', 'Age', 'NumOfProducts', 'EstimatedSalary']\n",
    "\n",
    "scaler = StandardScaler()\n",
    "scaler.fit(features_train[numeric])\n",
    "features_train[numeric] = scaler.transform(features_train[numeric])\n",
    "features_valid[numeric] = scaler.transform(features_valid[numeric])\n",
    "features_test[numeric] = scaler.transform(features_test[numeric])"
   ]
  },
  {
   "cell_type": "markdown",
   "metadata": {},
   "source": [
    "### Промежуточные выводы:\n",
    "\n",
    "1. Набор данных изучен\n",
    "2. Заполнены пропуски в столбце Tenure\n",
    "3. Удалены признаки, не влияющие на результат\n",
    "4. Проведено кодирование категориальных признаков\n",
    "5. Разделен на три выборки: обучающую, валидационную и тестовую в соотношении 3:1:1 соответственно\n",
    "6. Проведено масштабирование данных"
   ]
  },
  {
   "cell_type": "markdown",
   "metadata": {},
   "source": [
    "## Исследование задачи"
   ]
  },
  {
   "cell_type": "code",
   "execution_count": 13,
   "metadata": {},
   "outputs": [],
   "source": [
    "result_models = []"
   ]
  },
  {
   "cell_type": "markdown",
   "metadata": {},
   "source": [
    "### Решающее дерево"
   ]
  },
  {
   "cell_type": "code",
   "execution_count": 14,
   "metadata": {},
   "outputs": [
    {
     "name": "stdout",
     "output_type": "stream",
     "text": [
      "Наилучший результат:\n",
      "Глубина: 7\n",
      "F1-мера:  0.5764331210191083\n",
      "AUC-ROC:  0.8346049843812412\n",
      "____________________________\n",
      "Промежуточные результаты:\n"
     ]
    },
    {
     "data": {
      "text/html": [
       "<div>\n",
       "<style scoped>\n",
       "    .dataframe tbody tr th:only-of-type {\n",
       "        vertical-align: middle;\n",
       "    }\n",
       "\n",
       "    .dataframe tbody tr th {\n",
       "        vertical-align: top;\n",
       "    }\n",
       "\n",
       "    .dataframe thead th {\n",
       "        text-align: right;\n",
       "    }\n",
       "</style>\n",
       "<table border=\"1\" class=\"dataframe\">\n",
       "  <thead>\n",
       "    <tr style=\"text-align: right;\">\n",
       "      <th></th>\n",
       "      <th>name_models</th>\n",
       "      <th>depth_or_est</th>\n",
       "      <th>f1_score</th>\n",
       "      <th>auc_roc</th>\n",
       "    </tr>\n",
       "  </thead>\n",
       "  <tbody>\n",
       "    <tr>\n",
       "      <th>0</th>\n",
       "      <td>Дерево</td>\n",
       "      <td>1</td>\n",
       "      <td>0.000000</td>\n",
       "      <td>0.702719</td>\n",
       "    </tr>\n",
       "    <tr>\n",
       "      <th>1</th>\n",
       "      <td>Дерево</td>\n",
       "      <td>2</td>\n",
       "      <td>0.530488</td>\n",
       "      <td>0.755085</td>\n",
       "    </tr>\n",
       "    <tr>\n",
       "      <th>2</th>\n",
       "      <td>Дерево</td>\n",
       "      <td>3</td>\n",
       "      <td>0.372671</td>\n",
       "      <td>0.799438</td>\n",
       "    </tr>\n",
       "    <tr>\n",
       "      <th>3</th>\n",
       "      <td>Дерево</td>\n",
       "      <td>4</td>\n",
       "      <td>0.541455</td>\n",
       "      <td>0.821332</td>\n",
       "    </tr>\n",
       "    <tr>\n",
       "      <th>4</th>\n",
       "      <td>Дерево</td>\n",
       "      <td>5</td>\n",
       "      <td>0.514071</td>\n",
       "      <td>0.847103</td>\n",
       "    </tr>\n",
       "    <tr>\n",
       "      <th>5</th>\n",
       "      <td>Дерево</td>\n",
       "      <td>6</td>\n",
       "      <td>0.560684</td>\n",
       "      <td>0.849540</td>\n",
       "    </tr>\n",
       "    <tr>\n",
       "      <th>6</th>\n",
       "      <td>Дерево</td>\n",
       "      <td>7</td>\n",
       "      <td>0.576433</td>\n",
       "      <td>0.834605</td>\n",
       "    </tr>\n",
       "    <tr>\n",
       "      <th>7</th>\n",
       "      <td>Дерево</td>\n",
       "      <td>8</td>\n",
       "      <td>0.541329</td>\n",
       "      <td>0.806683</td>\n",
       "    </tr>\n",
       "    <tr>\n",
       "      <th>8</th>\n",
       "      <td>Дерево</td>\n",
       "      <td>9</td>\n",
       "      <td>0.544615</td>\n",
       "      <td>0.794063</td>\n",
       "    </tr>\n",
       "    <tr>\n",
       "      <th>9</th>\n",
       "      <td>Дерево</td>\n",
       "      <td>10</td>\n",
       "      <td>0.512270</td>\n",
       "      <td>0.756697</td>\n",
       "    </tr>\n",
       "    <tr>\n",
       "      <th>10</th>\n",
       "      <td>Дерево</td>\n",
       "      <td>11</td>\n",
       "      <td>0.512821</td>\n",
       "      <td>0.713817</td>\n",
       "    </tr>\n",
       "    <tr>\n",
       "      <th>11</th>\n",
       "      <td>Дерево</td>\n",
       "      <td>12</td>\n",
       "      <td>0.479433</td>\n",
       "      <td>0.700640</td>\n",
       "    </tr>\n",
       "    <tr>\n",
       "      <th>12</th>\n",
       "      <td>Дерево</td>\n",
       "      <td>13</td>\n",
       "      <td>0.482566</td>\n",
       "      <td>0.680500</td>\n",
       "    </tr>\n",
       "    <tr>\n",
       "      <th>13</th>\n",
       "      <td>Дерево</td>\n",
       "      <td>14</td>\n",
       "      <td>0.486413</td>\n",
       "      <td>0.675461</td>\n",
       "    </tr>\n",
       "    <tr>\n",
       "      <th>14</th>\n",
       "      <td>Дерево</td>\n",
       "      <td>15</td>\n",
       "      <td>0.474114</td>\n",
       "      <td>0.671834</td>\n",
       "    </tr>\n",
       "    <tr>\n",
       "      <th>15</th>\n",
       "      <td>Дерево</td>\n",
       "      <td>16</td>\n",
       "      <td>0.478203</td>\n",
       "      <td>0.674329</td>\n",
       "    </tr>\n",
       "    <tr>\n",
       "      <th>16</th>\n",
       "      <td>Дерево</td>\n",
       "      <td>17</td>\n",
       "      <td>0.484605</td>\n",
       "      <td>0.679703</td>\n",
       "    </tr>\n",
       "    <tr>\n",
       "      <th>17</th>\n",
       "      <td>Дерево</td>\n",
       "      <td>18</td>\n",
       "      <td>0.480537</td>\n",
       "      <td>0.671840</td>\n",
       "    </tr>\n",
       "    <tr>\n",
       "      <th>18</th>\n",
       "      <td>Дерево</td>\n",
       "      <td>19</td>\n",
       "      <td>0.486202</td>\n",
       "      <td>0.678748</td>\n",
       "    </tr>\n",
       "  </tbody>\n",
       "</table>\n",
       "</div>"
      ],
      "text/plain": [
       "   name_models  depth_or_est  f1_score   auc_roc\n",
       "0       Дерево             1  0.000000  0.702719\n",
       "1       Дерево             2  0.530488  0.755085\n",
       "2       Дерево             3  0.372671  0.799438\n",
       "3       Дерево             4  0.541455  0.821332\n",
       "4       Дерево             5  0.514071  0.847103\n",
       "5       Дерево             6  0.560684  0.849540\n",
       "6       Дерево             7  0.576433  0.834605\n",
       "7       Дерево             8  0.541329  0.806683\n",
       "8       Дерево             9  0.544615  0.794063\n",
       "9       Дерево            10  0.512270  0.756697\n",
       "10      Дерево            11  0.512821  0.713817\n",
       "11      Дерево            12  0.479433  0.700640\n",
       "12      Дерево            13  0.482566  0.680500\n",
       "13      Дерево            14  0.486413  0.675461\n",
       "14      Дерево            15  0.474114  0.671834\n",
       "15      Дерево            16  0.478203  0.674329\n",
       "16      Дерево            17  0.484605  0.679703\n",
       "17      Дерево            18  0.480537  0.671840\n",
       "18      Дерево            19  0.486202  0.678748"
      ]
     },
     "execution_count": 14,
     "metadata": {},
     "output_type": "execute_result"
    }
   ],
   "source": [
    "max_f1 = 0\n",
    "intermediate_result = []\n",
    "for depth in range(1, 20):\n",
    "    model = DecisionTreeClassifier(random_state=12345, max_depth=depth) \n",
    "    model.fit(features_train, target_train)  \n",
    "    predicted_valid = model.predict(features_valid)\n",
    "    f1 = f1_score(target_valid, predicted_valid)\n",
    "    probabilities_valid = model.predict_proba(features_valid)\n",
    "    probabilities_one_valid = probabilities_valid[:, 1]\n",
    "    auc_roc = roc_auc_score(target_valid, probabilities_one_valid)\n",
    "    intermediate_result.append(['Дерево', depth, f1, auc_roc])\n",
    "    if f1 > max_f1:\n",
    "        max_f1 = f1\n",
    "        max_depth = depth\n",
    "        max_auc_roc = auc_roc\n",
    "result_models.append(['Дерево', 'Без баланса', max_depth, max_f1, max_auc_roc, model])\n",
    "intermediate_result = pd.DataFrame(data=intermediate_result, columns = ['name_models', 'depth_or_est', 'f1_score', 'auc_roc'])\n",
    "print('Наилучший результат:')\n",
    "print('Глубина:', max_depth)\n",
    "print('F1-мера: ', max_f1)\n",
    "print('AUC-ROC: ', max_auc_roc)\n",
    "print('____________________________')\n",
    "print('Промежуточные результаты:')\n",
    "intermediate_result"
   ]
  },
  {
   "cell_type": "markdown",
   "metadata": {},
   "source": [
    "### Случайный лес"
   ]
  },
  {
   "cell_type": "code",
   "execution_count": 15,
   "metadata": {},
   "outputs": [
    {
     "name": "stdout",
     "output_type": "stream",
     "text": [
      "Наилучший результат:\n",
      "Количество деревьев: 130\n",
      "F1-мера:  0.5917355371900826\n",
      "AUC-ROC:  0.8642226423221422\n",
      "____________________________\n",
      "Промежуточные результаты:\n"
     ]
    },
    {
     "data": {
      "text/html": [
       "<div>\n",
       "<style scoped>\n",
       "    .dataframe tbody tr th:only-of-type {\n",
       "        vertical-align: middle;\n",
       "    }\n",
       "\n",
       "    .dataframe tbody tr th {\n",
       "        vertical-align: top;\n",
       "    }\n",
       "\n",
       "    .dataframe thead th {\n",
       "        text-align: right;\n",
       "    }\n",
       "</style>\n",
       "<table border=\"1\" class=\"dataframe\">\n",
       "  <thead>\n",
       "    <tr style=\"text-align: right;\">\n",
       "      <th></th>\n",
       "      <th>name_models</th>\n",
       "      <th>depth_or_est</th>\n",
       "      <th>f1_score</th>\n",
       "      <th>auc_roc</th>\n",
       "    </tr>\n",
       "  </thead>\n",
       "  <tbody>\n",
       "    <tr>\n",
       "      <th>0</th>\n",
       "      <td>Случайный лес</td>\n",
       "      <td>10</td>\n",
       "      <td>0.544538</td>\n",
       "      <td>0.834427</td>\n",
       "    </tr>\n",
       "    <tr>\n",
       "      <th>1</th>\n",
       "      <td>Случайный лес</td>\n",
       "      <td>20</td>\n",
       "      <td>0.569558</td>\n",
       "      <td>0.847502</td>\n",
       "    </tr>\n",
       "    <tr>\n",
       "      <th>2</th>\n",
       "      <td>Случайный лес</td>\n",
       "      <td>30</td>\n",
       "      <td>0.577488</td>\n",
       "      <td>0.848296</td>\n",
       "    </tr>\n",
       "    <tr>\n",
       "      <th>3</th>\n",
       "      <td>Случайный лес</td>\n",
       "      <td>40</td>\n",
       "      <td>0.588235</td>\n",
       "      <td>0.852204</td>\n",
       "    </tr>\n",
       "    <tr>\n",
       "      <th>4</th>\n",
       "      <td>Случайный лес</td>\n",
       "      <td>50</td>\n",
       "      <td>0.586885</td>\n",
       "      <td>0.855615</td>\n",
       "    </tr>\n",
       "    <tr>\n",
       "      <th>5</th>\n",
       "      <td>Случайный лес</td>\n",
       "      <td>60</td>\n",
       "      <td>0.584565</td>\n",
       "      <td>0.857035</td>\n",
       "    </tr>\n",
       "    <tr>\n",
       "      <th>6</th>\n",
       "      <td>Случайный лес</td>\n",
       "      <td>70</td>\n",
       "      <td>0.585526</td>\n",
       "      <td>0.859011</td>\n",
       "    </tr>\n",
       "    <tr>\n",
       "      <th>7</th>\n",
       "      <td>Случайный лес</td>\n",
       "      <td>80</td>\n",
       "      <td>0.589198</td>\n",
       "      <td>0.860991</td>\n",
       "    </tr>\n",
       "    <tr>\n",
       "      <th>8</th>\n",
       "      <td>Случайный лес</td>\n",
       "      <td>90</td>\n",
       "      <td>0.586093</td>\n",
       "      <td>0.860276</td>\n",
       "    </tr>\n",
       "    <tr>\n",
       "      <th>9</th>\n",
       "      <td>Случайный лес</td>\n",
       "      <td>100</td>\n",
       "      <td>0.585124</td>\n",
       "      <td>0.862931</td>\n",
       "    </tr>\n",
       "    <tr>\n",
       "      <th>10</th>\n",
       "      <td>Случайный лес</td>\n",
       "      <td>110</td>\n",
       "      <td>0.588430</td>\n",
       "      <td>0.863129</td>\n",
       "    </tr>\n",
       "    <tr>\n",
       "      <th>11</th>\n",
       "      <td>Случайный лес</td>\n",
       "      <td>120</td>\n",
       "      <td>0.588430</td>\n",
       "      <td>0.863392</td>\n",
       "    </tr>\n",
       "    <tr>\n",
       "      <th>12</th>\n",
       "      <td>Случайный лес</td>\n",
       "      <td>130</td>\n",
       "      <td>0.591736</td>\n",
       "      <td>0.864223</td>\n",
       "    </tr>\n",
       "    <tr>\n",
       "      <th>13</th>\n",
       "      <td>Случайный лес</td>\n",
       "      <td>140</td>\n",
       "      <td>0.587459</td>\n",
       "      <td>0.863869</td>\n",
       "    </tr>\n",
       "    <tr>\n",
       "      <th>14</th>\n",
       "      <td>Случайный лес</td>\n",
       "      <td>150</td>\n",
       "      <td>0.588040</td>\n",
       "      <td>0.863530</td>\n",
       "    </tr>\n",
       "    <tr>\n",
       "      <th>15</th>\n",
       "      <td>Случайный лес</td>\n",
       "      <td>160</td>\n",
       "      <td>0.580858</td>\n",
       "      <td>0.863610</td>\n",
       "    </tr>\n",
       "    <tr>\n",
       "      <th>16</th>\n",
       "      <td>Случайный лес</td>\n",
       "      <td>170</td>\n",
       "      <td>0.582781</td>\n",
       "      <td>0.863706</td>\n",
       "    </tr>\n",
       "    <tr>\n",
       "      <th>17</th>\n",
       "      <td>Случайный лес</td>\n",
       "      <td>180</td>\n",
       "      <td>0.584718</td>\n",
       "      <td>0.864463</td>\n",
       "    </tr>\n",
       "    <tr>\n",
       "      <th>18</th>\n",
       "      <td>Случайный лес</td>\n",
       "      <td>190</td>\n",
       "      <td>0.585691</td>\n",
       "      <td>0.865549</td>\n",
       "    </tr>\n",
       "  </tbody>\n",
       "</table>\n",
       "</div>"
      ],
      "text/plain": [
       "      name_models  depth_or_est  f1_score   auc_roc\n",
       "0   Случайный лес            10  0.544538  0.834427\n",
       "1   Случайный лес            20  0.569558  0.847502\n",
       "2   Случайный лес            30  0.577488  0.848296\n",
       "3   Случайный лес            40  0.588235  0.852204\n",
       "4   Случайный лес            50  0.586885  0.855615\n",
       "5   Случайный лес            60  0.584565  0.857035\n",
       "6   Случайный лес            70  0.585526  0.859011\n",
       "7   Случайный лес            80  0.589198  0.860991\n",
       "8   Случайный лес            90  0.586093  0.860276\n",
       "9   Случайный лес           100  0.585124  0.862931\n",
       "10  Случайный лес           110  0.588430  0.863129\n",
       "11  Случайный лес           120  0.588430  0.863392\n",
       "12  Случайный лес           130  0.591736  0.864223\n",
       "13  Случайный лес           140  0.587459  0.863869\n",
       "14  Случайный лес           150  0.588040  0.863530\n",
       "15  Случайный лес           160  0.580858  0.863610\n",
       "16  Случайный лес           170  0.582781  0.863706\n",
       "17  Случайный лес           180  0.584718  0.864463\n",
       "18  Случайный лес           190  0.585691  0.865549"
      ]
     },
     "execution_count": 15,
     "metadata": {},
     "output_type": "execute_result"
    }
   ],
   "source": [
    "max_f1 = 0\n",
    "intermediate_result = []\n",
    "for est in range(10, 200, 10):\n",
    "    model = RandomForestClassifier(random_state=12345, n_estimators=est) \n",
    "    model.fit(features_train, target_train) \n",
    "    predicted_valid = model.predict(features_valid)\n",
    "    f1 = f1_score(target_valid, predicted_valid)\n",
    "    probabilities_valid = model.predict_proba(features_valid)\n",
    "    probabilities_one_valid = probabilities_valid[:, 1]\n",
    "    auc_roc = roc_auc_score(target_valid, probabilities_one_valid)\n",
    "    intermediate_result.append(['Случайный лес', est, f1, auc_roc])\n",
    "    if f1 > max_f1:\n",
    "        max_f1 = f1\n",
    "        max_est = est\n",
    "        max_auc_roc = auc_roc\n",
    "result_models.append(['Случайный лес', 'Без баланса', max_est, max_f1, max_auc_roc, model])\n",
    "print('Наилучший результат:')\n",
    "print('Количество деревьев:', max_est)\n",
    "print('F1-мера: ', max_f1)\n",
    "print('AUC-ROC: ', max_auc_roc)\n",
    "intermediate_result = pd.DataFrame(data=intermediate_result, columns = ['name_models', 'depth_or_est', 'f1_score', 'auc_roc'])\n",
    "print('____________________________')\n",
    "print('Промежуточные результаты:')\n",
    "intermediate_result"
   ]
  },
  {
   "cell_type": "markdown",
   "metadata": {},
   "source": [
    "### Логистическая регрессия"
   ]
  },
  {
   "cell_type": "code",
   "execution_count": 16,
   "metadata": {},
   "outputs": [
    {
     "name": "stdout",
     "output_type": "stream",
     "text": [
      "Результат:\n",
      "F1-мера:  0.5917355371900826\n",
      "AUC-ROC:  0.8642226423221422\n"
     ]
    }
   ],
   "source": [
    "model = LogisticRegression() \n",
    "model.fit(features_train, target_train)\n",
    "predicted_valid = model.predict(features_valid)\n",
    "f1 = f1_score(target_valid, predicted_valid)\n",
    "probabilities_valid = model.predict_proba(features_valid)\n",
    "probabilities_one_valid = probabilities_valid[:, 1]\n",
    "auc_roc = roc_auc_score(target_valid, probabilities_one_valid)\n",
    "result_models.append(['Логистическиая регрессия', 'Без баланса', None, f1, auc_roc, model])\n",
    "print('Результат:')\n",
    "print('F1-мера: ', max_f1)\n",
    "print('AUC-ROC: ', max_auc_roc)"
   ]
  },
  {
   "cell_type": "markdown",
   "metadata": {},
   "source": [
    "### Сводная таблица результатов"
   ]
  },
  {
   "cell_type": "code",
   "execution_count": 17,
   "metadata": {
    "scrolled": true
   },
   "outputs": [
    {
     "data": {
      "text/html": [
       "<div>\n",
       "<style scoped>\n",
       "    .dataframe tbody tr th:only-of-type {\n",
       "        vertical-align: middle;\n",
       "    }\n",
       "\n",
       "    .dataframe tbody tr th {\n",
       "        vertical-align: top;\n",
       "    }\n",
       "\n",
       "    .dataframe thead th {\n",
       "        text-align: right;\n",
       "    }\n",
       "</style>\n",
       "<table border=\"1\" class=\"dataframe\">\n",
       "  <thead>\n",
       "    <tr style=\"text-align: right;\">\n",
       "      <th></th>\n",
       "      <th>name_models</th>\n",
       "      <th>balance</th>\n",
       "      <th>depth_or_est</th>\n",
       "      <th>f1_score</th>\n",
       "      <th>auc_roc</th>\n",
       "      <th>models</th>\n",
       "    </tr>\n",
       "  </thead>\n",
       "  <tbody>\n",
       "    <tr>\n",
       "      <th>0</th>\n",
       "      <td>Дерево</td>\n",
       "      <td>Без баланса</td>\n",
       "      <td>7.0</td>\n",
       "      <td>0.576433</td>\n",
       "      <td>0.834605</td>\n",
       "      <td>DecisionTreeClassifier(max_depth=19, random_st...</td>\n",
       "    </tr>\n",
       "    <tr>\n",
       "      <th>1</th>\n",
       "      <td>Случайный лес</td>\n",
       "      <td>Без баланса</td>\n",
       "      <td>130.0</td>\n",
       "      <td>0.591736</td>\n",
       "      <td>0.864223</td>\n",
       "      <td>(DecisionTreeClassifier(max_features='auto', r...</td>\n",
       "    </tr>\n",
       "    <tr>\n",
       "      <th>2</th>\n",
       "      <td>Логистическиая регрессия</td>\n",
       "      <td>Без баланса</td>\n",
       "      <td>NaN</td>\n",
       "      <td>0.304000</td>\n",
       "      <td>0.773663</td>\n",
       "      <td>LogisticRegression()</td>\n",
       "    </tr>\n",
       "  </tbody>\n",
       "</table>\n",
       "</div>"
      ],
      "text/plain": [
       "                name_models      balance  depth_or_est  f1_score   auc_roc  \\\n",
       "0                    Дерево  Без баланса           7.0  0.576433  0.834605   \n",
       "1             Случайный лес  Без баланса         130.0  0.591736  0.864223   \n",
       "2  Логистическиая регрессия  Без баланса           NaN  0.304000  0.773663   \n",
       "\n",
       "                                              models  \n",
       "0  DecisionTreeClassifier(max_depth=19, random_st...  \n",
       "1  (DecisionTreeClassifier(max_features='auto', r...  \n",
       "2                               LogisticRegression()  "
      ]
     },
     "execution_count": 17,
     "metadata": {},
     "output_type": "execute_result"
    }
   ],
   "source": [
    "models = pd.DataFrame(data=result_models, columns = ['name_models', 'balance', 'depth_or_est', 'f1_score', 'auc_roc', 'models'])\n",
    "models"
   ]
  },
  {
   "cell_type": "markdown",
   "metadata": {},
   "source": [
    "### Промежуточные выводы\n",
    "\n",
    "Исследованы 4 различные модели:\n",
    "- решающее дерево\n",
    "- случайный лес \n",
    "- линейная регрессия\n",
    "\n",
    "Модель случайный лес показала наилучший результат, логистическая регрессия наихудший."
   ]
  },
  {
   "cell_type": "markdown",
   "metadata": {},
   "source": [
    "## Борьба с дисбалансом"
   ]
  },
  {
   "cell_type": "code",
   "execution_count": 18,
   "metadata": {},
   "outputs": [
    {
     "name": "stdout",
     "output_type": "stream",
     "text": [
      "Баланс классов до разбиения на выборки\n",
      "7237\n",
      "1854\n",
      "3.9034519956850056\n",
      "Баланс классов у обучающей выборки\n",
      "4328\n",
      "1126\n",
      "3.8436944937833037\n",
      "Баланс классов у валидационной выборки\n",
      "1441\n",
      "377\n",
      "3.8222811671087533\n",
      "Баланс классов у тестовой выборки\n",
      "1468\n",
      "351\n",
      "4.182336182336182\n"
     ]
    }
   ],
   "source": [
    "print('Баланс классов до разбиения на выборки')\n",
    "print(target[target == 0].count())\n",
    "print(target[target == 1].count())\n",
    "print(target[target == 0].count() / target[target == 1].count())\n",
    "print('Баланс классов у обучающей выборки')\n",
    "print(target_train[target_train == 0].count())\n",
    "print(target_train[target_train == 1].count())\n",
    "print(target_train[target_train == 0].count() / target_train[target_train == 1].count())\n",
    "print('Баланс классов у валидационной выборки')\n",
    "print(target_valid[target_valid == 0].count())\n",
    "print(target_valid[target_valid == 1].count())\n",
    "print(target_valid[target_valid == 0].count() / target_valid[target_valid == 1].count())\n",
    "print('Баланс классов у тестовой выборки')\n",
    "print(target_test[target_test == 0].count())\n",
    "print(target_test[target_test == 1].count())\n",
    "print(target_test[target_test == 0].count() / target_test[target_test == 1].count())"
   ]
  },
  {
   "cell_type": "markdown",
   "metadata": {},
   "source": [
    "### Взвешивание классов"
   ]
  },
  {
   "cell_type": "code",
   "execution_count": 19,
   "metadata": {},
   "outputs": [
    {
     "name": "stdout",
     "output_type": "stream",
     "text": [
      "Наилучший результат:\n",
      "Глубина: 5\n",
      "F1-мера:  0.5735449735449736\n",
      "AUC-ROC:  0.8396523192522141\n",
      "____________________________\n",
      "Промежуточные результаты:\n"
     ]
    },
    {
     "data": {
      "text/html": [
       "<div>\n",
       "<style scoped>\n",
       "    .dataframe tbody tr th:only-of-type {\n",
       "        vertical-align: middle;\n",
       "    }\n",
       "\n",
       "    .dataframe tbody tr th {\n",
       "        vertical-align: top;\n",
       "    }\n",
       "\n",
       "    .dataframe thead th {\n",
       "        text-align: right;\n",
       "    }\n",
       "</style>\n",
       "<table border=\"1\" class=\"dataframe\">\n",
       "  <thead>\n",
       "    <tr style=\"text-align: right;\">\n",
       "      <th></th>\n",
       "      <th>name_models</th>\n",
       "      <th>depth_or_est</th>\n",
       "      <th>f1_score</th>\n",
       "      <th>auc_roc</th>\n",
       "    </tr>\n",
       "  </thead>\n",
       "  <tbody>\n",
       "    <tr>\n",
       "      <th>0</th>\n",
       "      <td>Дерево</td>\n",
       "      <td>1</td>\n",
       "      <td>0.506586</td>\n",
       "      <td>0.706652</td>\n",
       "    </tr>\n",
       "    <tr>\n",
       "      <th>1</th>\n",
       "      <td>Дерево</td>\n",
       "      <td>2</td>\n",
       "      <td>0.529762</td>\n",
       "      <td>0.758072</td>\n",
       "    </tr>\n",
       "    <tr>\n",
       "      <th>2</th>\n",
       "      <td>Дерево</td>\n",
       "      <td>3</td>\n",
       "      <td>0.548936</td>\n",
       "      <td>0.794927</td>\n",
       "    </tr>\n",
       "    <tr>\n",
       "      <th>3</th>\n",
       "      <td>Дерево</td>\n",
       "      <td>4</td>\n",
       "      <td>0.546119</td>\n",
       "      <td>0.817898</td>\n",
       "    </tr>\n",
       "    <tr>\n",
       "      <th>4</th>\n",
       "      <td>Дерево</td>\n",
       "      <td>5</td>\n",
       "      <td>0.573545</td>\n",
       "      <td>0.839652</td>\n",
       "    </tr>\n",
       "    <tr>\n",
       "      <th>5</th>\n",
       "      <td>Дерево</td>\n",
       "      <td>6</td>\n",
       "      <td>0.563089</td>\n",
       "      <td>0.832096</td>\n",
       "    </tr>\n",
       "    <tr>\n",
       "      <th>6</th>\n",
       "      <td>Дерево</td>\n",
       "      <td>7</td>\n",
       "      <td>0.541353</td>\n",
       "      <td>0.810604</td>\n",
       "    </tr>\n",
       "    <tr>\n",
       "      <th>7</th>\n",
       "      <td>Дерево</td>\n",
       "      <td>8</td>\n",
       "      <td>0.558190</td>\n",
       "      <td>0.786950</td>\n",
       "    </tr>\n",
       "    <tr>\n",
       "      <th>8</th>\n",
       "      <td>Дерево</td>\n",
       "      <td>9</td>\n",
       "      <td>0.505998</td>\n",
       "      <td>0.756530</td>\n",
       "    </tr>\n",
       "    <tr>\n",
       "      <th>9</th>\n",
       "      <td>Дерево</td>\n",
       "      <td>10</td>\n",
       "      <td>0.511013</td>\n",
       "      <td>0.730145</td>\n",
       "    </tr>\n",
       "    <tr>\n",
       "      <th>10</th>\n",
       "      <td>Дерево</td>\n",
       "      <td>11</td>\n",
       "      <td>0.514092</td>\n",
       "      <td>0.717877</td>\n",
       "    </tr>\n",
       "    <tr>\n",
       "      <th>11</th>\n",
       "      <td>Дерево</td>\n",
       "      <td>12</td>\n",
       "      <td>0.504284</td>\n",
       "      <td>0.694250</td>\n",
       "    </tr>\n",
       "    <tr>\n",
       "      <th>12</th>\n",
       "      <td>Дерево</td>\n",
       "      <td>13</td>\n",
       "      <td>0.480601</td>\n",
       "      <td>0.669641</td>\n",
       "    </tr>\n",
       "    <tr>\n",
       "      <th>13</th>\n",
       "      <td>Дерево</td>\n",
       "      <td>14</td>\n",
       "      <td>0.480204</td>\n",
       "      <td>0.671756</td>\n",
       "    </tr>\n",
       "    <tr>\n",
       "      <th>14</th>\n",
       "      <td>Дерево</td>\n",
       "      <td>15</td>\n",
       "      <td>0.465359</td>\n",
       "      <td>0.660770</td>\n",
       "    </tr>\n",
       "    <tr>\n",
       "      <th>15</th>\n",
       "      <td>Дерево</td>\n",
       "      <td>16</td>\n",
       "      <td>0.478203</td>\n",
       "      <td>0.666406</td>\n",
       "    </tr>\n",
       "    <tr>\n",
       "      <th>16</th>\n",
       "      <td>Дерево</td>\n",
       "      <td>17</td>\n",
       "      <td>0.467568</td>\n",
       "      <td>0.665488</td>\n",
       "    </tr>\n",
       "    <tr>\n",
       "      <th>17</th>\n",
       "      <td>Дерево</td>\n",
       "      <td>18</td>\n",
       "      <td>0.467914</td>\n",
       "      <td>0.665881</td>\n",
       "    </tr>\n",
       "    <tr>\n",
       "      <th>18</th>\n",
       "      <td>Дерево</td>\n",
       "      <td>19</td>\n",
       "      <td>0.467742</td>\n",
       "      <td>0.665043</td>\n",
       "    </tr>\n",
       "  </tbody>\n",
       "</table>\n",
       "</div>"
      ],
      "text/plain": [
       "   name_models  depth_or_est  f1_score   auc_roc\n",
       "0       Дерево             1  0.506586  0.706652\n",
       "1       Дерево             2  0.529762  0.758072\n",
       "2       Дерево             3  0.548936  0.794927\n",
       "3       Дерево             4  0.546119  0.817898\n",
       "4       Дерево             5  0.573545  0.839652\n",
       "5       Дерево             6  0.563089  0.832096\n",
       "6       Дерево             7  0.541353  0.810604\n",
       "7       Дерево             8  0.558190  0.786950\n",
       "8       Дерево             9  0.505998  0.756530\n",
       "9       Дерево            10  0.511013  0.730145\n",
       "10      Дерево            11  0.514092  0.717877\n",
       "11      Дерево            12  0.504284  0.694250\n",
       "12      Дерево            13  0.480601  0.669641\n",
       "13      Дерево            14  0.480204  0.671756\n",
       "14      Дерево            15  0.465359  0.660770\n",
       "15      Дерево            16  0.478203  0.666406\n",
       "16      Дерево            17  0.467568  0.665488\n",
       "17      Дерево            18  0.467914  0.665881\n",
       "18      Дерево            19  0.467742  0.665043"
      ]
     },
     "execution_count": 19,
     "metadata": {},
     "output_type": "execute_result"
    }
   ],
   "source": [
    "max_f1 = 0\n",
    "intermediate_result = []\n",
    "for depth in range(1, 20):\n",
    "    model = DecisionTreeClassifier(random_state=12345, max_depth=depth, class_weight='balanced') \n",
    "    model.fit(features_train, target_train)  \n",
    "    predicted_valid = model.predict(features_valid)\n",
    "    f1 = f1_score(target_valid, predicted_valid)\n",
    "    probabilities_valid = model.predict_proba(features_valid)\n",
    "    probabilities_one_valid = probabilities_valid[:, 1]\n",
    "    auc_roc = roc_auc_score(target_valid, probabilities_one_valid)\n",
    "    intermediate_result.append(['Дерево', depth, f1, auc_roc])\n",
    "    if f1 > max_f1:\n",
    "        max_f1 = f1\n",
    "        max_depth = depth\n",
    "        max_auc_roc = auc_roc\n",
    "result_models.append(['Дерево', 'Взвешивание классов', max_depth, max_f1, max_auc_roc, model])\n",
    "intermediate_result = pd.DataFrame(data=intermediate_result, columns = ['name_models', 'depth_or_est', 'f1_score', 'auc_roc'])\n",
    "print('Наилучший результат:')\n",
    "print('Глубина:', max_depth)\n",
    "print('F1-мера: ', max_f1)\n",
    "print('AUC-ROC: ', max_auc_roc)\n",
    "print('____________________________')\n",
    "print('Промежуточные результаты:')\n",
    "intermediate_result"
   ]
  },
  {
   "cell_type": "code",
   "execution_count": null,
   "metadata": {},
   "outputs": [],
   "source": [
    "max_f1 = 0\n",
    "intermediate_result = []\n",
    "for est in range(10, 200, 10):\n",
    "    model = RandomForestClassifier(random_state=12345, n_estimators=est, class_weight='balanced') \n",
    "    model.fit(features_train, target_train) \n",
    "    predicted_valid = model.predict(features_valid)\n",
    "    f1 = f1_score(target_valid, predicted_valid)\n",
    "    probabilities_valid = model.predict_proba(features_valid)\n",
    "    probabilities_one_valid = probabilities_valid[:, 1]\n",
    "    auc_roc = roc_auc_score(target_valid, probabilities_one_valid)\n",
    "    intermediate_result.append(['Случайный лес', est, f1, auc_roc])\n",
    "    if f1 > max_f1:\n",
    "        max_f1 = f1\n",
    "        max_est = est\n",
    "        max_auc_roc = auc_roc\n",
    "result_models.append(['Случайный лес', 'Взвешивание классов', max_est, max_f1, max_auc_roc, model])\n",
    "print('Наилучший результат:')\n",
    "print('Количество деревьев:', max_est)\n",
    "print('F1-мера: ', max_f1)\n",
    "print('AUC-ROC: ', max_auc_roc)\n",
    "intermediate_result = pd.DataFrame(data=intermediate_result, columns = ['name_models', 'depth_or_est', 'f1_score', 'auc_roc'])\n",
    "print('____________________________')\n",
    "print('Промежуточные результаты:')\n",
    "intermediate_result"
   ]
  },
  {
   "cell_type": "code",
   "execution_count": 21,
   "metadata": {},
   "outputs": [
    {
     "name": "stdout",
     "output_type": "stream",
     "text": [
      "Результат:\n",
      "F1-мера:  0.509731232622799\n",
      "AUC-ROC:  0.7777792094717602\n"
     ]
    }
   ],
   "source": [
    "model = LogisticRegression(random_state = 12345, class_weight='balanced') \n",
    "model.fit(features_train, target_train)\n",
    "predicted_valid = model.predict(features_valid)\n",
    "f1 = f1_score(target_valid, predicted_valid)\n",
    "probabilities_valid = model.predict_proba(features_valid)\n",
    "probabilities_one_valid = probabilities_valid[:, 1]\n",
    "auc_roc = roc_auc_score(target_valid, probabilities_one_valid)\n",
    "result_models.append(['Логистическиая регрессия', 'Взвешивание классов', None, f1, auc_roc, model])\n",
    "print('Результат:')\n",
    "print('F1-мера: ', f1)\n",
    "print('AUC-ROC: ', auc_roc)"
   ]
  },
  {
   "cell_type": "code",
   "execution_count": 22,
   "metadata": {},
   "outputs": [
    {
     "data": {
      "text/html": [
       "<div>\n",
       "<style scoped>\n",
       "    .dataframe tbody tr th:only-of-type {\n",
       "        vertical-align: middle;\n",
       "    }\n",
       "\n",
       "    .dataframe tbody tr th {\n",
       "        vertical-align: top;\n",
       "    }\n",
       "\n",
       "    .dataframe thead th {\n",
       "        text-align: right;\n",
       "    }\n",
       "</style>\n",
       "<table border=\"1\" class=\"dataframe\">\n",
       "  <thead>\n",
       "    <tr style=\"text-align: right;\">\n",
       "      <th></th>\n",
       "      <th>name_models</th>\n",
       "      <th>balance</th>\n",
       "      <th>depth_or_est</th>\n",
       "      <th>f1_score</th>\n",
       "      <th>auc_roc</th>\n",
       "      <th>models</th>\n",
       "    </tr>\n",
       "  </thead>\n",
       "  <tbody>\n",
       "    <tr>\n",
       "      <th>0</th>\n",
       "      <td>Дерево</td>\n",
       "      <td>Без баланса</td>\n",
       "      <td>7.0</td>\n",
       "      <td>0.576433</td>\n",
       "      <td>0.834605</td>\n",
       "      <td>DecisionTreeClassifier(max_depth=19, random_st...</td>\n",
       "    </tr>\n",
       "    <tr>\n",
       "      <th>1</th>\n",
       "      <td>Случайный лес</td>\n",
       "      <td>Без баланса</td>\n",
       "      <td>130.0</td>\n",
       "      <td>0.591736</td>\n",
       "      <td>0.864223</td>\n",
       "      <td>(DecisionTreeClassifier(max_features='sqrt', r...</td>\n",
       "    </tr>\n",
       "    <tr>\n",
       "      <th>2</th>\n",
       "      <td>Логистическиая регрессия</td>\n",
       "      <td>Без баланса</td>\n",
       "      <td>NaN</td>\n",
       "      <td>0.304000</td>\n",
       "      <td>0.773663</td>\n",
       "      <td>LogisticRegression()</td>\n",
       "    </tr>\n",
       "    <tr>\n",
       "      <th>3</th>\n",
       "      <td>Дерево</td>\n",
       "      <td>Взвешивание классов</td>\n",
       "      <td>5.0</td>\n",
       "      <td>0.573545</td>\n",
       "      <td>0.839652</td>\n",
       "      <td>DecisionTreeClassifier(class_weight='balanced'...</td>\n",
       "    </tr>\n",
       "    <tr>\n",
       "      <th>4</th>\n",
       "      <td>Случайный лес</td>\n",
       "      <td>Взвешивание классов</td>\n",
       "      <td>150.0</td>\n",
       "      <td>0.581081</td>\n",
       "      <td>0.865943</td>\n",
       "      <td>(DecisionTreeClassifier(max_features='sqrt', r...</td>\n",
       "    </tr>\n",
       "    <tr>\n",
       "      <th>5</th>\n",
       "      <td>Логистическиая регрессия</td>\n",
       "      <td>Взвешивание классов</td>\n",
       "      <td>NaN</td>\n",
       "      <td>0.509731</td>\n",
       "      <td>0.777779</td>\n",
       "      <td>LogisticRegression(class_weight='balanced', ra...</td>\n",
       "    </tr>\n",
       "  </tbody>\n",
       "</table>\n",
       "</div>"
      ],
      "text/plain": [
       "                name_models              balance  depth_or_est  f1_score  \\\n",
       "0                    Дерево          Без баланса           7.0  0.576433   \n",
       "1             Случайный лес          Без баланса         130.0  0.591736   \n",
       "2  Логистическиая регрессия          Без баланса           NaN  0.304000   \n",
       "3                    Дерево  Взвешивание классов           5.0  0.573545   \n",
       "4             Случайный лес  Взвешивание классов         150.0  0.581081   \n",
       "5  Логистическиая регрессия  Взвешивание классов           NaN  0.509731   \n",
       "\n",
       "    auc_roc                                             models  \n",
       "0  0.834605  DecisionTreeClassifier(max_depth=19, random_st...  \n",
       "1  0.864223  (DecisionTreeClassifier(max_features='sqrt', r...  \n",
       "2  0.773663                               LogisticRegression()  \n",
       "3  0.839652  DecisionTreeClassifier(class_weight='balanced'...  \n",
       "4  0.865943  (DecisionTreeClassifier(max_features='sqrt', r...  \n",
       "5  0.777779  LogisticRegression(class_weight='balanced', ra...  "
      ]
     },
     "execution_count": 22,
     "metadata": {},
     "output_type": "execute_result"
    }
   ],
   "source": [
    "models = pd.DataFrame(data=result_models, columns = ['name_models', 'balance', 'depth_or_est', 'f1_score', 'auc_roc', 'models'])\n",
    "models"
   ]
  },
  {
   "cell_type": "markdown",
   "metadata": {},
   "source": [
    "Метрики у моделей случайный лес и решающее дерево уменьшились, а у логистической регрессии значительно увеличилась метрика F1."
   ]
  },
  {
   "cell_type": "markdown",
   "metadata": {},
   "source": [
    "### Увеличение выборки"
   ]
  },
  {
   "cell_type": "code",
   "execution_count": 23,
   "metadata": {},
   "outputs": [
    {
     "name": "stdout",
     "output_type": "stream",
     "text": [
      "4328\n",
      "1126\n"
     ]
    }
   ],
   "source": [
    "print(target_train[target_train == 0].count())\n",
    "print(target_train[target_train == 1].count())"
   ]
  },
  {
   "cell_type": "code",
   "execution_count": 24,
   "metadata": {},
   "outputs": [
    {
     "name": "stdout",
     "output_type": "stream",
     "text": [
      "Размеры полученных выборок:\n",
      "(8832, 11)\n",
      "(8832,)\n",
      "Баланс классов:\n",
      "4328\n",
      "4504\n"
     ]
    }
   ],
   "source": [
    "def upsample(features, target, repeat):\n",
    "    features_zeros = features[target == 0]\n",
    "    features_ones = features[target == 1]\n",
    "    target_zeros = target[target == 0]\n",
    "    target_ones = target[target == 1]\n",
    "\n",
    "    features_upsampled = pd.concat([features_zeros] + [features_ones] * repeat)\n",
    "    target_upsampled = pd.concat([target_zeros] + [target_ones] * repeat)\n",
    "    \n",
    "    features_upsampled, target_upsampled = shuffle(\n",
    "        features_upsampled, target_upsampled, random_state=12345)\n",
    "    \n",
    "    return features_upsampled, target_upsampled\n",
    "\n",
    "features_upsampled, target_upsampled = upsample(features_train, target_train, 4)\n",
    "print('Размеры полученных выборок:')\n",
    "print(features_upsampled.shape)\n",
    "print(target_upsampled.shape)\n",
    "print('Баланс классов:')\n",
    "print(target_upsampled[target_upsampled == 0].count())\n",
    "print(target_upsampled[target_upsampled == 1].count())"
   ]
  },
  {
   "cell_type": "markdown",
   "metadata": {},
   "source": [
    "<div class=\"alert alert-info\">\n",
    "<font size=\"4\">🍕<b> Комментарий ревьюера</b></font>\n",
    "    <br /> \n",
    "    <font size=\"3\", color = \"black\">\n",
    "<br /> \n",
    "Кстати, для даун/апсемплинга есть готовые решения. Чтобы в будущем не писать всегда свои собственные функции апсемплинга и даунсемплинга, можно ознакомиться с использовать <a href=\"https://imbalanced-learn.org/stable/references/generated/imblearn.over_sampling.SMOTE.html\">SMOTE</a> для увеличения выборки и <a href=\"https://imbalanced-learn.org/stable/references/generated/imblearn.under_sampling.RandomUnderSampler.html\">RandomUnderSampler</a> для уменьшения.\n",
    "<br>Для данного проекта - это необязательно, но можно взять на вооружение в будущем, если будет лень писать свои функции, хоть они и не сложные.\n",
    "    </font>\n",
    "</div>"
   ]
  },
  {
   "cell_type": "code",
   "execution_count": 25,
   "metadata": {},
   "outputs": [
    {
     "name": "stdout",
     "output_type": "stream",
     "text": [
      "Наилучший результат:\n",
      "Глубина: 5\n",
      "F1-мера:  0.5735449735449736\n",
      "AUC-ROC:  0.8396523192522141\n",
      "____________________________\n",
      "Промежуточные результаты:\n"
     ]
    },
    {
     "data": {
      "text/html": [
       "<div>\n",
       "<style scoped>\n",
       "    .dataframe tbody tr th:only-of-type {\n",
       "        vertical-align: middle;\n",
       "    }\n",
       "\n",
       "    .dataframe tbody tr th {\n",
       "        vertical-align: top;\n",
       "    }\n",
       "\n",
       "    .dataframe thead th {\n",
       "        text-align: right;\n",
       "    }\n",
       "</style>\n",
       "<table border=\"1\" class=\"dataframe\">\n",
       "  <thead>\n",
       "    <tr style=\"text-align: right;\">\n",
       "      <th></th>\n",
       "      <th>name_models</th>\n",
       "      <th>depth_or_est</th>\n",
       "      <th>f1_score</th>\n",
       "      <th>auc_roc</th>\n",
       "    </tr>\n",
       "  </thead>\n",
       "  <tbody>\n",
       "    <tr>\n",
       "      <th>0</th>\n",
       "      <td>Дерево</td>\n",
       "      <td>1</td>\n",
       "      <td>0.506586</td>\n",
       "      <td>0.706652</td>\n",
       "    </tr>\n",
       "    <tr>\n",
       "      <th>1</th>\n",
       "      <td>Дерево</td>\n",
       "      <td>2</td>\n",
       "      <td>0.529762</td>\n",
       "      <td>0.758072</td>\n",
       "    </tr>\n",
       "    <tr>\n",
       "      <th>2</th>\n",
       "      <td>Дерево</td>\n",
       "      <td>3</td>\n",
       "      <td>0.548936</td>\n",
       "      <td>0.794927</td>\n",
       "    </tr>\n",
       "    <tr>\n",
       "      <th>3</th>\n",
       "      <td>Дерево</td>\n",
       "      <td>4</td>\n",
       "      <td>0.546119</td>\n",
       "      <td>0.817898</td>\n",
       "    </tr>\n",
       "    <tr>\n",
       "      <th>4</th>\n",
       "      <td>Дерево</td>\n",
       "      <td>5</td>\n",
       "      <td>0.573545</td>\n",
       "      <td>0.839652</td>\n",
       "    </tr>\n",
       "    <tr>\n",
       "      <th>5</th>\n",
       "      <td>Дерево</td>\n",
       "      <td>6</td>\n",
       "      <td>0.563089</td>\n",
       "      <td>0.832123</td>\n",
       "    </tr>\n",
       "    <tr>\n",
       "      <th>6</th>\n",
       "      <td>Дерево</td>\n",
       "      <td>7</td>\n",
       "      <td>0.541353</td>\n",
       "      <td>0.810545</td>\n",
       "    </tr>\n",
       "    <tr>\n",
       "      <th>7</th>\n",
       "      <td>Дерево</td>\n",
       "      <td>8</td>\n",
       "      <td>0.558140</td>\n",
       "      <td>0.790115</td>\n",
       "    </tr>\n",
       "    <tr>\n",
       "      <th>8</th>\n",
       "      <td>Дерево</td>\n",
       "      <td>9</td>\n",
       "      <td>0.515917</td>\n",
       "      <td>0.766402</td>\n",
       "    </tr>\n",
       "    <tr>\n",
       "      <th>9</th>\n",
       "      <td>Дерево</td>\n",
       "      <td>10</td>\n",
       "      <td>0.505998</td>\n",
       "      <td>0.729511</td>\n",
       "    </tr>\n",
       "    <tr>\n",
       "      <th>10</th>\n",
       "      <td>Дерево</td>\n",
       "      <td>11</td>\n",
       "      <td>0.515254</td>\n",
       "      <td>0.716273</td>\n",
       "    </tr>\n",
       "    <tr>\n",
       "      <th>11</th>\n",
       "      <td>Дерево</td>\n",
       "      <td>12</td>\n",
       "      <td>0.501818</td>\n",
       "      <td>0.693214</td>\n",
       "    </tr>\n",
       "    <tr>\n",
       "      <th>12</th>\n",
       "      <td>Дерево</td>\n",
       "      <td>13</td>\n",
       "      <td>0.480888</td>\n",
       "      <td>0.673058</td>\n",
       "    </tr>\n",
       "    <tr>\n",
       "      <th>13</th>\n",
       "      <td>Дерево</td>\n",
       "      <td>14</td>\n",
       "      <td>0.480818</td>\n",
       "      <td>0.673827</td>\n",
       "    </tr>\n",
       "    <tr>\n",
       "      <th>14</th>\n",
       "      <td>Дерево</td>\n",
       "      <td>15</td>\n",
       "      <td>0.468421</td>\n",
       "      <td>0.662235</td>\n",
       "    </tr>\n",
       "    <tr>\n",
       "      <th>15</th>\n",
       "      <td>Дерево</td>\n",
       "      <td>16</td>\n",
       "      <td>0.474035</td>\n",
       "      <td>0.664015</td>\n",
       "    </tr>\n",
       "    <tr>\n",
       "      <th>16</th>\n",
       "      <td>Дерево</td>\n",
       "      <td>17</td>\n",
       "      <td>0.448000</td>\n",
       "      <td>0.653274</td>\n",
       "    </tr>\n",
       "    <tr>\n",
       "      <th>17</th>\n",
       "      <td>Дерево</td>\n",
       "      <td>18</td>\n",
       "      <td>0.459644</td>\n",
       "      <td>0.659321</td>\n",
       "    </tr>\n",
       "    <tr>\n",
       "      <th>18</th>\n",
       "      <td>Дерево</td>\n",
       "      <td>19</td>\n",
       "      <td>0.460081</td>\n",
       "      <td>0.659551</td>\n",
       "    </tr>\n",
       "  </tbody>\n",
       "</table>\n",
       "</div>"
      ],
      "text/plain": [
       "   name_models  depth_or_est  f1_score   auc_roc\n",
       "0       Дерево             1  0.506586  0.706652\n",
       "1       Дерево             2  0.529762  0.758072\n",
       "2       Дерево             3  0.548936  0.794927\n",
       "3       Дерево             4  0.546119  0.817898\n",
       "4       Дерево             5  0.573545  0.839652\n",
       "5       Дерево             6  0.563089  0.832123\n",
       "6       Дерево             7  0.541353  0.810545\n",
       "7       Дерево             8  0.558140  0.790115\n",
       "8       Дерево             9  0.515917  0.766402\n",
       "9       Дерево            10  0.505998  0.729511\n",
       "10      Дерево            11  0.515254  0.716273\n",
       "11      Дерево            12  0.501818  0.693214\n",
       "12      Дерево            13  0.480888  0.673058\n",
       "13      Дерево            14  0.480818  0.673827\n",
       "14      Дерево            15  0.468421  0.662235\n",
       "15      Дерево            16  0.474035  0.664015\n",
       "16      Дерево            17  0.448000  0.653274\n",
       "17      Дерево            18  0.459644  0.659321\n",
       "18      Дерево            19  0.460081  0.659551"
      ]
     },
     "execution_count": 25,
     "metadata": {},
     "output_type": "execute_result"
    }
   ],
   "source": [
    "max_f1 = 0\n",
    "intermediate_result = []\n",
    "for depth in range(1, 20):\n",
    "    model = DecisionTreeClassifier(random_state=12345, max_depth=depth) \n",
    "    model.fit(features_upsampled, target_upsampled)  \n",
    "    predicted_valid = model.predict(features_valid)\n",
    "    f1 = f1_score(target_valid, predicted_valid)\n",
    "    probabilities_valid = model.predict_proba(features_valid)\n",
    "    probabilities_one_valid = probabilities_valid[:, 1]\n",
    "    auc_roc = roc_auc_score(target_valid, probabilities_one_valid)\n",
    "    intermediate_result.append(['Дерево', depth, f1, auc_roc])\n",
    "    if f1 > max_f1:\n",
    "        max_f1 = f1\n",
    "        max_depth = depth\n",
    "        max_auc_roc = auc_roc\n",
    "result_models.append(['Дерево', 'Увеличение выборки', max_depth, max_f1, max_auc_roc, model])\n",
    "intermediate_result = pd.DataFrame(data=intermediate_result, columns = ['name_models', 'depth_or_est', 'f1_score', 'auc_roc'])\n",
    "print('Наилучший результат:')\n",
    "print('Глубина:', max_depth)\n",
    "print('F1-мера: ', max_f1)\n",
    "print('AUC-ROC: ', max_auc_roc)\n",
    "print('____________________________')\n",
    "print('Промежуточные результаты:')\n",
    "intermediate_result"
   ]
  },
  {
   "cell_type": "code",
   "execution_count": 26,
   "metadata": {},
   "outputs": [
    {
     "name": "stdout",
     "output_type": "stream",
     "text": [
      "Наилучший результат:\n",
      "Количество деревьев: 70\n",
      "F1-мера:  0.6200873362445415\n",
      "AUC-ROC:  0.8566774105073658\n",
      "____________________________\n",
      "Промежуточные результаты:\n"
     ]
    },
    {
     "data": {
      "text/html": [
       "<div>\n",
       "<style scoped>\n",
       "    .dataframe tbody tr th:only-of-type {\n",
       "        vertical-align: middle;\n",
       "    }\n",
       "\n",
       "    .dataframe tbody tr th {\n",
       "        vertical-align: top;\n",
       "    }\n",
       "\n",
       "    .dataframe thead th {\n",
       "        text-align: right;\n",
       "    }\n",
       "</style>\n",
       "<table border=\"1\" class=\"dataframe\">\n",
       "  <thead>\n",
       "    <tr style=\"text-align: right;\">\n",
       "      <th></th>\n",
       "      <th>name_models</th>\n",
       "      <th>depth_or_est</th>\n",
       "      <th>f1_score</th>\n",
       "      <th>auc_roc</th>\n",
       "    </tr>\n",
       "  </thead>\n",
       "  <tbody>\n",
       "    <tr>\n",
       "      <th>0</th>\n",
       "      <td>Случайный лес</td>\n",
       "      <td>10</td>\n",
       "      <td>0.578102</td>\n",
       "      <td>0.830133</td>\n",
       "    </tr>\n",
       "    <tr>\n",
       "      <th>1</th>\n",
       "      <td>Случайный лес</td>\n",
       "      <td>20</td>\n",
       "      <td>0.590909</td>\n",
       "      <td>0.843176</td>\n",
       "    </tr>\n",
       "    <tr>\n",
       "      <th>2</th>\n",
       "      <td>Случайный лес</td>\n",
       "      <td>30</td>\n",
       "      <td>0.599407</td>\n",
       "      <td>0.849670</td>\n",
       "    </tr>\n",
       "    <tr>\n",
       "      <th>3</th>\n",
       "      <td>Случайный лес</td>\n",
       "      <td>40</td>\n",
       "      <td>0.608824</td>\n",
       "      <td>0.852000</td>\n",
       "    </tr>\n",
       "    <tr>\n",
       "      <th>4</th>\n",
       "      <td>Случайный лес</td>\n",
       "      <td>50</td>\n",
       "      <td>0.609467</td>\n",
       "      <td>0.854894</td>\n",
       "    </tr>\n",
       "    <tr>\n",
       "      <th>5</th>\n",
       "      <td>Случайный лес</td>\n",
       "      <td>60</td>\n",
       "      <td>0.614265</td>\n",
       "      <td>0.855144</td>\n",
       "    </tr>\n",
       "    <tr>\n",
       "      <th>6</th>\n",
       "      <td>Случайный лес</td>\n",
       "      <td>70</td>\n",
       "      <td>0.620087</td>\n",
       "      <td>0.856677</td>\n",
       "    </tr>\n",
       "    <tr>\n",
       "      <th>7</th>\n",
       "      <td>Случайный лес</td>\n",
       "      <td>80</td>\n",
       "      <td>0.615160</td>\n",
       "      <td>0.857967</td>\n",
       "    </tr>\n",
       "    <tr>\n",
       "      <th>8</th>\n",
       "      <td>Случайный лес</td>\n",
       "      <td>90</td>\n",
       "      <td>0.615160</td>\n",
       "      <td>0.857939</td>\n",
       "    </tr>\n",
       "    <tr>\n",
       "      <th>9</th>\n",
       "      <td>Случайный лес</td>\n",
       "      <td>100</td>\n",
       "      <td>0.608824</td>\n",
       "      <td>0.859049</td>\n",
       "    </tr>\n",
       "    <tr>\n",
       "      <th>10</th>\n",
       "      <td>Случайный лес</td>\n",
       "      <td>110</td>\n",
       "      <td>0.607670</td>\n",
       "      <td>0.860019</td>\n",
       "    </tr>\n",
       "    <tr>\n",
       "      <th>11</th>\n",
       "      <td>Случайный лес</td>\n",
       "      <td>120</td>\n",
       "      <td>0.609720</td>\n",
       "      <td>0.859057</td>\n",
       "    </tr>\n",
       "    <tr>\n",
       "      <th>12</th>\n",
       "      <td>Случайный лес</td>\n",
       "      <td>130</td>\n",
       "      <td>0.618557</td>\n",
       "      <td>0.858963</td>\n",
       "    </tr>\n",
       "    <tr>\n",
       "      <th>13</th>\n",
       "      <td>Случайный лес</td>\n",
       "      <td>140</td>\n",
       "      <td>0.607670</td>\n",
       "      <td>0.858851</td>\n",
       "    </tr>\n",
       "    <tr>\n",
       "      <th>14</th>\n",
       "      <td>Случайный лес</td>\n",
       "      <td>150</td>\n",
       "      <td>0.616058</td>\n",
       "      <td>0.859938</td>\n",
       "    </tr>\n",
       "    <tr>\n",
       "      <th>15</th>\n",
       "      <td>Случайный лес</td>\n",
       "      <td>160</td>\n",
       "      <td>0.608824</td>\n",
       "      <td>0.859941</td>\n",
       "    </tr>\n",
       "    <tr>\n",
       "      <th>16</th>\n",
       "      <td>Случайный лес</td>\n",
       "      <td>170</td>\n",
       "      <td>0.602056</td>\n",
       "      <td>0.859019</td>\n",
       "    </tr>\n",
       "    <tr>\n",
       "      <th>17</th>\n",
       "      <td>Случайный лес</td>\n",
       "      <td>180</td>\n",
       "      <td>0.610866</td>\n",
       "      <td>0.858713</td>\n",
       "    </tr>\n",
       "    <tr>\n",
       "      <th>18</th>\n",
       "      <td>Случайный лес</td>\n",
       "      <td>190</td>\n",
       "      <td>0.615836</td>\n",
       "      <td>0.859741</td>\n",
       "    </tr>\n",
       "  </tbody>\n",
       "</table>\n",
       "</div>"
      ],
      "text/plain": [
       "      name_models  depth_or_est  f1_score   auc_roc\n",
       "0   Случайный лес            10  0.578102  0.830133\n",
       "1   Случайный лес            20  0.590909  0.843176\n",
       "2   Случайный лес            30  0.599407  0.849670\n",
       "3   Случайный лес            40  0.608824  0.852000\n",
       "4   Случайный лес            50  0.609467  0.854894\n",
       "5   Случайный лес            60  0.614265  0.855144\n",
       "6   Случайный лес            70  0.620087  0.856677\n",
       "7   Случайный лес            80  0.615160  0.857967\n",
       "8   Случайный лес            90  0.615160  0.857939\n",
       "9   Случайный лес           100  0.608824  0.859049\n",
       "10  Случайный лес           110  0.607670  0.860019\n",
       "11  Случайный лес           120  0.609720  0.859057\n",
       "12  Случайный лес           130  0.618557  0.858963\n",
       "13  Случайный лес           140  0.607670  0.858851\n",
       "14  Случайный лес           150  0.616058  0.859938\n",
       "15  Случайный лес           160  0.608824  0.859941\n",
       "16  Случайный лес           170  0.602056  0.859019\n",
       "17  Случайный лес           180  0.610866  0.858713\n",
       "18  Случайный лес           190  0.615836  0.859741"
      ]
     },
     "execution_count": 26,
     "metadata": {},
     "output_type": "execute_result"
    }
   ],
   "source": [
    "max_f1 = 0\n",
    "intermediate_result = []\n",
    "for est in range(10, 200, 10):\n",
    "    model = RandomForestClassifier(random_state=12345, n_estimators=est) \n",
    "    model.fit(features_upsampled, target_upsampled) \n",
    "    predicted_valid = model.predict(features_valid)\n",
    "    f1 = f1_score(target_valid, predicted_valid)\n",
    "    probabilities_valid = model.predict_proba(features_valid)\n",
    "    probabilities_one_valid = probabilities_valid[:, 1]\n",
    "    auc_roc = roc_auc_score(target_valid, probabilities_one_valid)\n",
    "    intermediate_result.append(['Случайный лес', est, f1, auc_roc])\n",
    "    if f1 > max_f1:\n",
    "        max_f1 = f1\n",
    "        max_est = est\n",
    "        max_auc_roc = auc_roc\n",
    "result_models.append(['Случайный лес', 'Увеличение выборки', max_est, max_f1, max_auc_roc, model])\n",
    "print('Наилучший результат:')\n",
    "print('Количество деревьев:', max_est)\n",
    "print('F1-мера: ', max_f1)\n",
    "print('AUC-ROC: ', max_auc_roc)\n",
    "intermediate_result = pd.DataFrame(data=intermediate_result, columns = ['name_models', 'depth_or_est', 'f1_score', 'auc_roc'])\n",
    "print('____________________________')\n",
    "print('Промежуточные результаты:')\n",
    "intermediate_result"
   ]
  },
  {
   "cell_type": "code",
   "execution_count": 27,
   "metadata": {},
   "outputs": [
    {
     "name": "stdout",
     "output_type": "stream",
     "text": [
      "Результат:\n",
      "F1-мера:  0.30400000000000005\n",
      "AUC-ROC:  0.773663293800172\n"
     ]
    }
   ],
   "source": [
    "model = LogisticRegression(random_state = 12345) \n",
    "model.fit(features_train, target_train)\n",
    "predicted_valid = model.predict(features_valid)\n",
    "f1 = f1_score(target_valid, predicted_valid)\n",
    "probabilities_valid = model.predict_proba(features_valid)\n",
    "probabilities_one_valid = probabilities_valid[:, 1]\n",
    "auc_roc = roc_auc_score(target_valid, probabilities_one_valid)\n",
    "result_models.append(['Логистическиая регрессия', 'Увеличение выборки', None, f1, auc_roc, model])\n",
    "print('Результат:')\n",
    "print('F1-мера: ', f1)\n",
    "print('AUC-ROC: ', auc_roc)"
   ]
  },
  {
   "cell_type": "code",
   "execution_count": 28,
   "metadata": {},
   "outputs": [
    {
     "data": {
      "text/html": [
       "<div>\n",
       "<style scoped>\n",
       "    .dataframe tbody tr th:only-of-type {\n",
       "        vertical-align: middle;\n",
       "    }\n",
       "\n",
       "    .dataframe tbody tr th {\n",
       "        vertical-align: top;\n",
       "    }\n",
       "\n",
       "    .dataframe thead th {\n",
       "        text-align: right;\n",
       "    }\n",
       "</style>\n",
       "<table border=\"1\" class=\"dataframe\">\n",
       "  <thead>\n",
       "    <tr style=\"text-align: right;\">\n",
       "      <th></th>\n",
       "      <th>name_models</th>\n",
       "      <th>balance</th>\n",
       "      <th>depth_or_est</th>\n",
       "      <th>f1_score</th>\n",
       "      <th>auc_roc</th>\n",
       "      <th>models</th>\n",
       "    </tr>\n",
       "  </thead>\n",
       "  <tbody>\n",
       "    <tr>\n",
       "      <th>0</th>\n",
       "      <td>Дерево</td>\n",
       "      <td>Без баланса</td>\n",
       "      <td>7.0</td>\n",
       "      <td>0.576433</td>\n",
       "      <td>0.834605</td>\n",
       "      <td>DecisionTreeClassifier(max_depth=19, random_st...</td>\n",
       "    </tr>\n",
       "    <tr>\n",
       "      <th>1</th>\n",
       "      <td>Случайный лес</td>\n",
       "      <td>Без баланса</td>\n",
       "      <td>130.0</td>\n",
       "      <td>0.591736</td>\n",
       "      <td>0.864223</td>\n",
       "      <td>(DecisionTreeClassifier(max_features='sqrt', r...</td>\n",
       "    </tr>\n",
       "    <tr>\n",
       "      <th>2</th>\n",
       "      <td>Логистическиая регрессия</td>\n",
       "      <td>Без баланса</td>\n",
       "      <td>NaN</td>\n",
       "      <td>0.304000</td>\n",
       "      <td>0.773663</td>\n",
       "      <td>LogisticRegression()</td>\n",
       "    </tr>\n",
       "    <tr>\n",
       "      <th>3</th>\n",
       "      <td>Дерево</td>\n",
       "      <td>Взвешивание классов</td>\n",
       "      <td>5.0</td>\n",
       "      <td>0.573545</td>\n",
       "      <td>0.839652</td>\n",
       "      <td>DecisionTreeClassifier(class_weight='balanced'...</td>\n",
       "    </tr>\n",
       "    <tr>\n",
       "      <th>4</th>\n",
       "      <td>Случайный лес</td>\n",
       "      <td>Взвешивание классов</td>\n",
       "      <td>150.0</td>\n",
       "      <td>0.581081</td>\n",
       "      <td>0.865943</td>\n",
       "      <td>(DecisionTreeClassifier(max_features='sqrt', r...</td>\n",
       "    </tr>\n",
       "    <tr>\n",
       "      <th>5</th>\n",
       "      <td>Логистическиая регрессия</td>\n",
       "      <td>Взвешивание классов</td>\n",
       "      <td>NaN</td>\n",
       "      <td>0.509731</td>\n",
       "      <td>0.777779</td>\n",
       "      <td>LogisticRegression(class_weight='balanced', ra...</td>\n",
       "    </tr>\n",
       "    <tr>\n",
       "      <th>6</th>\n",
       "      <td>Дерево</td>\n",
       "      <td>Увеличение выборки</td>\n",
       "      <td>5.0</td>\n",
       "      <td>0.573545</td>\n",
       "      <td>0.839652</td>\n",
       "      <td>DecisionTreeClassifier(max_depth=19, random_st...</td>\n",
       "    </tr>\n",
       "    <tr>\n",
       "      <th>7</th>\n",
       "      <td>Случайный лес</td>\n",
       "      <td>Увеличение выборки</td>\n",
       "      <td>70.0</td>\n",
       "      <td>0.620087</td>\n",
       "      <td>0.856677</td>\n",
       "      <td>(DecisionTreeClassifier(max_features='sqrt', r...</td>\n",
       "    </tr>\n",
       "    <tr>\n",
       "      <th>8</th>\n",
       "      <td>Логистическиая регрессия</td>\n",
       "      <td>Увеличение выборки</td>\n",
       "      <td>NaN</td>\n",
       "      <td>0.304000</td>\n",
       "      <td>0.773663</td>\n",
       "      <td>LogisticRegression(random_state=12345)</td>\n",
       "    </tr>\n",
       "  </tbody>\n",
       "</table>\n",
       "</div>"
      ],
      "text/plain": [
       "                name_models              balance  depth_or_est  f1_score  \\\n",
       "0                    Дерево          Без баланса           7.0  0.576433   \n",
       "1             Случайный лес          Без баланса         130.0  0.591736   \n",
       "2  Логистическиая регрессия          Без баланса           NaN  0.304000   \n",
       "3                    Дерево  Взвешивание классов           5.0  0.573545   \n",
       "4             Случайный лес  Взвешивание классов         150.0  0.581081   \n",
       "5  Логистическиая регрессия  Взвешивание классов           NaN  0.509731   \n",
       "6                    Дерево   Увеличение выборки           5.0  0.573545   \n",
       "7             Случайный лес   Увеличение выборки          70.0  0.620087   \n",
       "8  Логистическиая регрессия   Увеличение выборки           NaN  0.304000   \n",
       "\n",
       "    auc_roc                                             models  \n",
       "0  0.834605  DecisionTreeClassifier(max_depth=19, random_st...  \n",
       "1  0.864223  (DecisionTreeClassifier(max_features='sqrt', r...  \n",
       "2  0.773663                               LogisticRegression()  \n",
       "3  0.839652  DecisionTreeClassifier(class_weight='balanced'...  \n",
       "4  0.865943  (DecisionTreeClassifier(max_features='sqrt', r...  \n",
       "5  0.777779  LogisticRegression(class_weight='balanced', ra...  \n",
       "6  0.839652  DecisionTreeClassifier(max_depth=19, random_st...  \n",
       "7  0.856677  (DecisionTreeClassifier(max_features='sqrt', r...  \n",
       "8  0.773663             LogisticRegression(random_state=12345)  "
      ]
     },
     "execution_count": 28,
     "metadata": {},
     "output_type": "execute_result"
    }
   ],
   "source": [
    "models = pd.DataFrame(data=result_models, columns = ['name_models', 'balance', 'depth_or_est', 'f1_score', 'auc_roc', 'models'])\n",
    "models"
   ]
  },
  {
   "cell_type": "markdown",
   "metadata": {},
   "source": [
    "Метрики у моделей логистическая регрессия и решающее дерево уменьшились, а у случайного леса увеличилась метрика F1."
   ]
  },
  {
   "cell_type": "markdown",
   "metadata": {},
   "source": [
    "### Уменьшение выборки"
   ]
  },
  {
   "cell_type": "code",
   "execution_count": 29,
   "metadata": {},
   "outputs": [
    {
     "name": "stdout",
     "output_type": "stream",
     "text": [
      "Размеры полученных выборок:\n",
      "(8832, 11)\n",
      "(8832,)\n",
      "Баланс классов:\n",
      "4328\n",
      "4504\n"
     ]
    }
   ],
   "source": [
    "def downsample(features, target, fraction):\n",
    "    features_zeros = features[target == 0]\n",
    "    features_ones = features[target == 1]\n",
    "    target_zeros = target[target == 0]\n",
    "    target_ones = target[target == 1]\n",
    "\n",
    "    features_downsampled = pd.concat(\n",
    "        [features_zeros.sample(frac=fraction, random_state=12345)] + [features_ones])\n",
    "    target_downsampled = pd.concat(\n",
    "        [target_zeros.sample(frac=fraction, random_state=12345)] + [target_ones])\n",
    "    \n",
    "    features_downsampled, target_downsampled = shuffle(\n",
    "        features_downsampled, target_downsampled, random_state=12345)\n",
    "    \n",
    "    return features_downsampled, target_downsampled\n",
    "\n",
    "features_downsampled, target_downsampled = downsample(features_train, target_train, 0.4)\n",
    "print('Размеры полученных выборок:')\n",
    "print(features_upsampled.shape)\n",
    "print(target_upsampled.shape)\n",
    "print('Баланс классов:')\n",
    "print(target_upsampled[target_upsampled == 0].count())\n",
    "print(target_upsampled[target_upsampled == 1].count())"
   ]
  },
  {
   "cell_type": "code",
   "execution_count": 30,
   "metadata": {},
   "outputs": [
    {
     "name": "stdout",
     "output_type": "stream",
     "text": [
      "Наилучший результат:\n",
      "Глубина: 5\n",
      "F1-мера:  0.5853658536585367\n",
      "AUC-ROC:  0.8356634152896327\n",
      "____________________________\n",
      "Промежуточные результаты:\n"
     ]
    },
    {
     "data": {
      "text/html": [
       "<div>\n",
       "<style scoped>\n",
       "    .dataframe tbody tr th:only-of-type {\n",
       "        vertical-align: middle;\n",
       "    }\n",
       "\n",
       "    .dataframe tbody tr th {\n",
       "        vertical-align: top;\n",
       "    }\n",
       "\n",
       "    .dataframe thead th {\n",
       "        text-align: right;\n",
       "    }\n",
       "</style>\n",
       "<table border=\"1\" class=\"dataframe\">\n",
       "  <thead>\n",
       "    <tr style=\"text-align: right;\">\n",
       "      <th></th>\n",
       "      <th>name_models</th>\n",
       "      <th>depth_or_est</th>\n",
       "      <th>f1_score</th>\n",
       "      <th>auc_roc</th>\n",
       "    </tr>\n",
       "  </thead>\n",
       "  <tbody>\n",
       "    <tr>\n",
       "      <th>0</th>\n",
       "      <td>Дерево</td>\n",
       "      <td>1</td>\n",
       "      <td>0.506586</td>\n",
       "      <td>0.706652</td>\n",
       "    </tr>\n",
       "    <tr>\n",
       "      <th>1</th>\n",
       "      <td>Дерево</td>\n",
       "      <td>2</td>\n",
       "      <td>0.528902</td>\n",
       "      <td>0.758072</td>\n",
       "    </tr>\n",
       "    <tr>\n",
       "      <th>2</th>\n",
       "      <td>Дерево</td>\n",
       "      <td>3</td>\n",
       "      <td>0.554455</td>\n",
       "      <td>0.797861</td>\n",
       "    </tr>\n",
       "    <tr>\n",
       "      <th>3</th>\n",
       "      <td>Дерево</td>\n",
       "      <td>4</td>\n",
       "      <td>0.561224</td>\n",
       "      <td>0.820354</td>\n",
       "    </tr>\n",
       "    <tr>\n",
       "      <th>4</th>\n",
       "      <td>Дерево</td>\n",
       "      <td>5</td>\n",
       "      <td>0.585366</td>\n",
       "      <td>0.835663</td>\n",
       "    </tr>\n",
       "    <tr>\n",
       "      <th>5</th>\n",
       "      <td>Дерево</td>\n",
       "      <td>6</td>\n",
       "      <td>0.580882</td>\n",
       "      <td>0.826405</td>\n",
       "    </tr>\n",
       "    <tr>\n",
       "      <th>6</th>\n",
       "      <td>Дерево</td>\n",
       "      <td>7</td>\n",
       "      <td>0.578512</td>\n",
       "      <td>0.810002</td>\n",
       "    </tr>\n",
       "    <tr>\n",
       "      <th>7</th>\n",
       "      <td>Дерево</td>\n",
       "      <td>8</td>\n",
       "      <td>0.564920</td>\n",
       "      <td>0.799206</td>\n",
       "    </tr>\n",
       "    <tr>\n",
       "      <th>8</th>\n",
       "      <td>Дерево</td>\n",
       "      <td>9</td>\n",
       "      <td>0.508754</td>\n",
       "      <td>0.763177</td>\n",
       "    </tr>\n",
       "    <tr>\n",
       "      <th>9</th>\n",
       "      <td>Дерево</td>\n",
       "      <td>10</td>\n",
       "      <td>0.496016</td>\n",
       "      <td>0.730293</td>\n",
       "    </tr>\n",
       "    <tr>\n",
       "      <th>10</th>\n",
       "      <td>Дерево</td>\n",
       "      <td>11</td>\n",
       "      <td>0.503375</td>\n",
       "      <td>0.728847</td>\n",
       "    </tr>\n",
       "    <tr>\n",
       "      <th>11</th>\n",
       "      <td>Дерево</td>\n",
       "      <td>12</td>\n",
       "      <td>0.488534</td>\n",
       "      <td>0.708521</td>\n",
       "    </tr>\n",
       "    <tr>\n",
       "      <th>12</th>\n",
       "      <td>Дерево</td>\n",
       "      <td>13</td>\n",
       "      <td>0.491576</td>\n",
       "      <td>0.703866</td>\n",
       "    </tr>\n",
       "    <tr>\n",
       "      <th>13</th>\n",
       "      <td>Дерево</td>\n",
       "      <td>14</td>\n",
       "      <td>0.488323</td>\n",
       "      <td>0.697080</td>\n",
       "    </tr>\n",
       "    <tr>\n",
       "      <th>14</th>\n",
       "      <td>Дерево</td>\n",
       "      <td>15</td>\n",
       "      <td>0.505241</td>\n",
       "      <td>0.707753</td>\n",
       "    </tr>\n",
       "    <tr>\n",
       "      <th>15</th>\n",
       "      <td>Дерево</td>\n",
       "      <td>16</td>\n",
       "      <td>0.499482</td>\n",
       "      <td>0.696714</td>\n",
       "    </tr>\n",
       "    <tr>\n",
       "      <th>16</th>\n",
       "      <td>Дерево</td>\n",
       "      <td>17</td>\n",
       "      <td>0.484787</td>\n",
       "      <td>0.699361</td>\n",
       "    </tr>\n",
       "    <tr>\n",
       "      <th>17</th>\n",
       "      <td>Дерево</td>\n",
       "      <td>18</td>\n",
       "      <td>0.481951</td>\n",
       "      <td>0.693558</td>\n",
       "    </tr>\n",
       "    <tr>\n",
       "      <th>18</th>\n",
       "      <td>Дерево</td>\n",
       "      <td>19</td>\n",
       "      <td>0.500000</td>\n",
       "      <td>0.705973</td>\n",
       "    </tr>\n",
       "  </tbody>\n",
       "</table>\n",
       "</div>"
      ],
      "text/plain": [
       "   name_models  depth_or_est  f1_score   auc_roc\n",
       "0       Дерево             1  0.506586  0.706652\n",
       "1       Дерево             2  0.528902  0.758072\n",
       "2       Дерево             3  0.554455  0.797861\n",
       "3       Дерево             4  0.561224  0.820354\n",
       "4       Дерево             5  0.585366  0.835663\n",
       "5       Дерево             6  0.580882  0.826405\n",
       "6       Дерево             7  0.578512  0.810002\n",
       "7       Дерево             8  0.564920  0.799206\n",
       "8       Дерево             9  0.508754  0.763177\n",
       "9       Дерево            10  0.496016  0.730293\n",
       "10      Дерево            11  0.503375  0.728847\n",
       "11      Дерево            12  0.488534  0.708521\n",
       "12      Дерево            13  0.491576  0.703866\n",
       "13      Дерево            14  0.488323  0.697080\n",
       "14      Дерево            15  0.505241  0.707753\n",
       "15      Дерево            16  0.499482  0.696714\n",
       "16      Дерево            17  0.484787  0.699361\n",
       "17      Дерево            18  0.481951  0.693558\n",
       "18      Дерево            19  0.500000  0.705973"
      ]
     },
     "execution_count": 30,
     "metadata": {},
     "output_type": "execute_result"
    }
   ],
   "source": [
    "max_f1 = 0\n",
    "intermediate_result = []\n",
    "for depth in range(1, 20):\n",
    "    model = DecisionTreeClassifier(random_state=12345, max_depth=depth) \n",
    "    model.fit(features_downsampled, target_downsampled)  \n",
    "    predicted_valid = model.predict(features_valid)\n",
    "    f1 = f1_score(target_valid, predicted_valid)\n",
    "    probabilities_valid = model.predict_proba(features_valid)\n",
    "    probabilities_one_valid = probabilities_valid[:, 1]\n",
    "    auc_roc = roc_auc_score(target_valid, probabilities_one_valid)\n",
    "    intermediate_result.append(['Дерево', depth, f1, auc_roc])\n",
    "    if f1 > max_f1:\n",
    "        max_f1 = f1\n",
    "        max_depth = depth\n",
    "        max_auc_roc = auc_roc\n",
    "result_models.append(['Дерево', 'Уменьшение выборки', max_depth, max_f1, max_auc_roc, model])\n",
    "intermediate_result = pd.DataFrame(data=intermediate_result, columns = ['name_models', 'depth_or_est', 'f1_score', 'auc_roc'])\n",
    "print('Наилучший результат:')\n",
    "print('Глубина:', max_depth)\n",
    "print('F1-мера: ', max_f1)\n",
    "print('AUC-ROC: ', max_auc_roc)\n",
    "print('____________________________')\n",
    "print('Промежуточные результаты:')\n",
    "intermediate_result"
   ]
  },
  {
   "cell_type": "code",
   "execution_count": 31,
   "metadata": {},
   "outputs": [
    {
     "name": "stdout",
     "output_type": "stream",
     "text": [
      "Наилучший результат:\n",
      "Количество деревьев: 170\n",
      "F1-мера:  0.6352657004830917\n",
      "AUC-ROC:  0.8665300217024354\n",
      "____________________________\n",
      "Промежуточные результаты:\n"
     ]
    },
    {
     "data": {
      "text/html": [
       "<div>\n",
       "<style scoped>\n",
       "    .dataframe tbody tr th:only-of-type {\n",
       "        vertical-align: middle;\n",
       "    }\n",
       "\n",
       "    .dataframe tbody tr th {\n",
       "        vertical-align: top;\n",
       "    }\n",
       "\n",
       "    .dataframe thead th {\n",
       "        text-align: right;\n",
       "    }\n",
       "</style>\n",
       "<table border=\"1\" class=\"dataframe\">\n",
       "  <thead>\n",
       "    <tr style=\"text-align: right;\">\n",
       "      <th></th>\n",
       "      <th>name_models</th>\n",
       "      <th>depth_or_est</th>\n",
       "      <th>f1_score</th>\n",
       "      <th>auc_roc</th>\n",
       "    </tr>\n",
       "  </thead>\n",
       "  <tbody>\n",
       "    <tr>\n",
       "      <th>0</th>\n",
       "      <td>Случайный лес</td>\n",
       "      <td>10</td>\n",
       "      <td>0.592686</td>\n",
       "      <td>0.836608</td>\n",
       "    </tr>\n",
       "    <tr>\n",
       "      <th>1</th>\n",
       "      <td>Случайный лес</td>\n",
       "      <td>20</td>\n",
       "      <td>0.602941</td>\n",
       "      <td>0.842828</td>\n",
       "    </tr>\n",
       "    <tr>\n",
       "      <th>2</th>\n",
       "      <td>Случайный лес</td>\n",
       "      <td>30</td>\n",
       "      <td>0.613333</td>\n",
       "      <td>0.852243</td>\n",
       "    </tr>\n",
       "    <tr>\n",
       "      <th>3</th>\n",
       "      <td>Случайный лес</td>\n",
       "      <td>40</td>\n",
       "      <td>0.608173</td>\n",
       "      <td>0.857607</td>\n",
       "    </tr>\n",
       "    <tr>\n",
       "      <th>4</th>\n",
       "      <td>Случайный лес</td>\n",
       "      <td>50</td>\n",
       "      <td>0.616687</td>\n",
       "      <td>0.860717</td>\n",
       "    </tr>\n",
       "    <tr>\n",
       "      <th>5</th>\n",
       "      <td>Случайный лес</td>\n",
       "      <td>60</td>\n",
       "      <td>0.621359</td>\n",
       "      <td>0.863138</td>\n",
       "    </tr>\n",
       "    <tr>\n",
       "      <th>6</th>\n",
       "      <td>Случайный лес</td>\n",
       "      <td>70</td>\n",
       "      <td>0.626829</td>\n",
       "      <td>0.863199</td>\n",
       "    </tr>\n",
       "    <tr>\n",
       "      <th>7</th>\n",
       "      <td>Случайный лес</td>\n",
       "      <td>80</td>\n",
       "      <td>0.630435</td>\n",
       "      <td>0.864299</td>\n",
       "    </tr>\n",
       "    <tr>\n",
       "      <th>8</th>\n",
       "      <td>Случайный лес</td>\n",
       "      <td>90</td>\n",
       "      <td>0.629674</td>\n",
       "      <td>0.865106</td>\n",
       "    </tr>\n",
       "    <tr>\n",
       "      <th>9</th>\n",
       "      <td>Случайный лес</td>\n",
       "      <td>100</td>\n",
       "      <td>0.623942</td>\n",
       "      <td>0.865009</td>\n",
       "    </tr>\n",
       "    <tr>\n",
       "      <th>10</th>\n",
       "      <td>Случайный лес</td>\n",
       "      <td>110</td>\n",
       "      <td>0.632727</td>\n",
       "      <td>0.865204</td>\n",
       "    </tr>\n",
       "    <tr>\n",
       "      <th>11</th>\n",
       "      <td>Случайный лес</td>\n",
       "      <td>120</td>\n",
       "      <td>0.626214</td>\n",
       "      <td>0.865396</td>\n",
       "    </tr>\n",
       "    <tr>\n",
       "      <th>12</th>\n",
       "      <td>Случайный лес</td>\n",
       "      <td>130</td>\n",
       "      <td>0.629540</td>\n",
       "      <td>0.866314</td>\n",
       "    </tr>\n",
       "    <tr>\n",
       "      <th>13</th>\n",
       "      <td>Случайный лес</td>\n",
       "      <td>140</td>\n",
       "      <td>0.627262</td>\n",
       "      <td>0.866236</td>\n",
       "    </tr>\n",
       "    <tr>\n",
       "      <th>14</th>\n",
       "      <td>Случайный лес</td>\n",
       "      <td>150</td>\n",
       "      <td>0.621524</td>\n",
       "      <td>0.866388</td>\n",
       "    </tr>\n",
       "    <tr>\n",
       "      <th>15</th>\n",
       "      <td>Случайный лес</td>\n",
       "      <td>160</td>\n",
       "      <td>0.631197</td>\n",
       "      <td>0.866468</td>\n",
       "    </tr>\n",
       "    <tr>\n",
       "      <th>16</th>\n",
       "      <td>Случайный лес</td>\n",
       "      <td>170</td>\n",
       "      <td>0.635266</td>\n",
       "      <td>0.866530</td>\n",
       "    </tr>\n",
       "    <tr>\n",
       "      <th>17</th>\n",
       "      <td>Случайный лес</td>\n",
       "      <td>180</td>\n",
       "      <td>0.632850</td>\n",
       "      <td>0.866696</td>\n",
       "    </tr>\n",
       "    <tr>\n",
       "      <th>18</th>\n",
       "      <td>Случайный лес</td>\n",
       "      <td>190</td>\n",
       "      <td>0.628916</td>\n",
       "      <td>0.866691</td>\n",
       "    </tr>\n",
       "  </tbody>\n",
       "</table>\n",
       "</div>"
      ],
      "text/plain": [
       "      name_models  depth_or_est  f1_score   auc_roc\n",
       "0   Случайный лес            10  0.592686  0.836608\n",
       "1   Случайный лес            20  0.602941  0.842828\n",
       "2   Случайный лес            30  0.613333  0.852243\n",
       "3   Случайный лес            40  0.608173  0.857607\n",
       "4   Случайный лес            50  0.616687  0.860717\n",
       "5   Случайный лес            60  0.621359  0.863138\n",
       "6   Случайный лес            70  0.626829  0.863199\n",
       "7   Случайный лес            80  0.630435  0.864299\n",
       "8   Случайный лес            90  0.629674  0.865106\n",
       "9   Случайный лес           100  0.623942  0.865009\n",
       "10  Случайный лес           110  0.632727  0.865204\n",
       "11  Случайный лес           120  0.626214  0.865396\n",
       "12  Случайный лес           130  0.629540  0.866314\n",
       "13  Случайный лес           140  0.627262  0.866236\n",
       "14  Случайный лес           150  0.621524  0.866388\n",
       "15  Случайный лес           160  0.631197  0.866468\n",
       "16  Случайный лес           170  0.635266  0.866530\n",
       "17  Случайный лес           180  0.632850  0.866696\n",
       "18  Случайный лес           190  0.628916  0.866691"
      ]
     },
     "execution_count": 31,
     "metadata": {},
     "output_type": "execute_result"
    }
   ],
   "source": [
    "max_f1 = 0\n",
    "intermediate_result = []\n",
    "for est in range(10, 200, 10):\n",
    "    model = RandomForestClassifier(random_state=12345, n_estimators=est) \n",
    "    model.fit(features_downsampled, target_downsampled) \n",
    "    predicted_valid = model.predict(features_valid)\n",
    "    f1 = f1_score(target_valid, predicted_valid)\n",
    "    probabilities_valid = model.predict_proba(features_valid)\n",
    "    probabilities_one_valid = probabilities_valid[:, 1]\n",
    "    auc_roc = roc_auc_score(target_valid, probabilities_one_valid)\n",
    "    intermediate_result.append(['Случайный лес', est, f1, auc_roc])\n",
    "    if f1 > max_f1:\n",
    "        max_f1 = f1\n",
    "        max_est = est\n",
    "        max_auc_roc = auc_roc\n",
    "result_models.append(['Случайный лес', 'Уменьшение выборки', max_est, max_f1, max_auc_roc, model])\n",
    "print('Наилучший результат:')\n",
    "print('Количество деревьев:', max_est)\n",
    "print('F1-мера: ', max_f1)\n",
    "print('AUC-ROC: ', max_auc_roc)\n",
    "intermediate_result = pd.DataFrame(data=intermediate_result, columns = ['name_models', 'depth_or_est', 'f1_score', 'auc_roc'])\n",
    "print('____________________________')\n",
    "print('Промежуточные результаты:')\n",
    "intermediate_result"
   ]
  },
  {
   "cell_type": "code",
   "execution_count": 32,
   "metadata": {},
   "outputs": [
    {
     "name": "stdout",
     "output_type": "stream",
     "text": [
      "Результат:\n",
      "F1-мера:  0.4987775061124694\n",
      "AUC-ROC:  0.7713568347945816\n"
     ]
    }
   ],
   "source": [
    "model = LogisticRegression(random_state = 12345) \n",
    "model.fit(features_downsampled, target_downsampled) \n",
    "predicted_valid = model.predict(features_valid)\n",
    "f1 = f1_score(target_valid, predicted_valid)\n",
    "probabilities_valid = model.predict_proba(features_valid)\n",
    "probabilities_one_valid = probabilities_valid[:, 1]\n",
    "auc_roc = roc_auc_score(target_valid, probabilities_one_valid)\n",
    "result_models.append(['Логистическиая регрессия', 'Уменьшение выборки', None, f1, auc_roc, model])\n",
    "print('Результат:')\n",
    "print('F1-мера: ', f1)\n",
    "print('AUC-ROC: ', auc_roc)"
   ]
  },
  {
   "cell_type": "code",
   "execution_count": 33,
   "metadata": {},
   "outputs": [
    {
     "data": {
      "text/html": [
       "<div>\n",
       "<style scoped>\n",
       "    .dataframe tbody tr th:only-of-type {\n",
       "        vertical-align: middle;\n",
       "    }\n",
       "\n",
       "    .dataframe tbody tr th {\n",
       "        vertical-align: top;\n",
       "    }\n",
       "\n",
       "    .dataframe thead th {\n",
       "        text-align: right;\n",
       "    }\n",
       "</style>\n",
       "<table border=\"1\" class=\"dataframe\">\n",
       "  <thead>\n",
       "    <tr style=\"text-align: right;\">\n",
       "      <th></th>\n",
       "      <th>name_models</th>\n",
       "      <th>balance</th>\n",
       "      <th>depth_or_est</th>\n",
       "      <th>f1_score</th>\n",
       "      <th>auc_roc</th>\n",
       "      <th>models</th>\n",
       "    </tr>\n",
       "  </thead>\n",
       "  <tbody>\n",
       "    <tr>\n",
       "      <th>0</th>\n",
       "      <td>Дерево</td>\n",
       "      <td>Без баланса</td>\n",
       "      <td>7.0</td>\n",
       "      <td>0.576433</td>\n",
       "      <td>0.834605</td>\n",
       "      <td>DecisionTreeClassifier(max_depth=19, random_st...</td>\n",
       "    </tr>\n",
       "    <tr>\n",
       "      <th>1</th>\n",
       "      <td>Случайный лес</td>\n",
       "      <td>Без баланса</td>\n",
       "      <td>130.0</td>\n",
       "      <td>0.591736</td>\n",
       "      <td>0.864223</td>\n",
       "      <td>(DecisionTreeClassifier(max_features='sqrt', r...</td>\n",
       "    </tr>\n",
       "    <tr>\n",
       "      <th>2</th>\n",
       "      <td>Логистическиая регрессия</td>\n",
       "      <td>Без баланса</td>\n",
       "      <td>NaN</td>\n",
       "      <td>0.304000</td>\n",
       "      <td>0.773663</td>\n",
       "      <td>LogisticRegression()</td>\n",
       "    </tr>\n",
       "    <tr>\n",
       "      <th>3</th>\n",
       "      <td>Дерево</td>\n",
       "      <td>Взвешивание классов</td>\n",
       "      <td>5.0</td>\n",
       "      <td>0.573545</td>\n",
       "      <td>0.839652</td>\n",
       "      <td>DecisionTreeClassifier(class_weight='balanced'...</td>\n",
       "    </tr>\n",
       "    <tr>\n",
       "      <th>4</th>\n",
       "      <td>Случайный лес</td>\n",
       "      <td>Взвешивание классов</td>\n",
       "      <td>150.0</td>\n",
       "      <td>0.581081</td>\n",
       "      <td>0.865943</td>\n",
       "      <td>(DecisionTreeClassifier(max_features='sqrt', r...</td>\n",
       "    </tr>\n",
       "    <tr>\n",
       "      <th>5</th>\n",
       "      <td>Логистическиая регрессия</td>\n",
       "      <td>Взвешивание классов</td>\n",
       "      <td>NaN</td>\n",
       "      <td>0.509731</td>\n",
       "      <td>0.777779</td>\n",
       "      <td>LogisticRegression(class_weight='balanced', ra...</td>\n",
       "    </tr>\n",
       "    <tr>\n",
       "      <th>6</th>\n",
       "      <td>Дерево</td>\n",
       "      <td>Увеличение выборки</td>\n",
       "      <td>5.0</td>\n",
       "      <td>0.573545</td>\n",
       "      <td>0.839652</td>\n",
       "      <td>DecisionTreeClassifier(max_depth=19, random_st...</td>\n",
       "    </tr>\n",
       "    <tr>\n",
       "      <th>7</th>\n",
       "      <td>Случайный лес</td>\n",
       "      <td>Увеличение выборки</td>\n",
       "      <td>70.0</td>\n",
       "      <td>0.620087</td>\n",
       "      <td>0.856677</td>\n",
       "      <td>(DecisionTreeClassifier(max_features='sqrt', r...</td>\n",
       "    </tr>\n",
       "    <tr>\n",
       "      <th>8</th>\n",
       "      <td>Логистическиая регрессия</td>\n",
       "      <td>Увеличение выборки</td>\n",
       "      <td>NaN</td>\n",
       "      <td>0.304000</td>\n",
       "      <td>0.773663</td>\n",
       "      <td>LogisticRegression(random_state=12345)</td>\n",
       "    </tr>\n",
       "    <tr>\n",
       "      <th>9</th>\n",
       "      <td>Дерево</td>\n",
       "      <td>Уменьшение выборки</td>\n",
       "      <td>5.0</td>\n",
       "      <td>0.585366</td>\n",
       "      <td>0.835663</td>\n",
       "      <td>DecisionTreeClassifier(max_depth=19, random_st...</td>\n",
       "    </tr>\n",
       "    <tr>\n",
       "      <th>10</th>\n",
       "      <td>Случайный лес</td>\n",
       "      <td>Уменьшение выборки</td>\n",
       "      <td>170.0</td>\n",
       "      <td>0.635266</td>\n",
       "      <td>0.866530</td>\n",
       "      <td>(DecisionTreeClassifier(max_features='sqrt', r...</td>\n",
       "    </tr>\n",
       "    <tr>\n",
       "      <th>11</th>\n",
       "      <td>Логистическиая регрессия</td>\n",
       "      <td>Уменьшение выборки</td>\n",
       "      <td>NaN</td>\n",
       "      <td>0.498778</td>\n",
       "      <td>0.771357</td>\n",
       "      <td>LogisticRegression(random_state=12345)</td>\n",
       "    </tr>\n",
       "  </tbody>\n",
       "</table>\n",
       "</div>"
      ],
      "text/plain": [
       "                 name_models              balance  depth_or_est  f1_score  \\\n",
       "0                     Дерево          Без баланса           7.0  0.576433   \n",
       "1              Случайный лес          Без баланса         130.0  0.591736   \n",
       "2   Логистическиая регрессия          Без баланса           NaN  0.304000   \n",
       "3                     Дерево  Взвешивание классов           5.0  0.573545   \n",
       "4              Случайный лес  Взвешивание классов         150.0  0.581081   \n",
       "5   Логистическиая регрессия  Взвешивание классов           NaN  0.509731   \n",
       "6                     Дерево   Увеличение выборки           5.0  0.573545   \n",
       "7              Случайный лес   Увеличение выборки          70.0  0.620087   \n",
       "8   Логистическиая регрессия   Увеличение выборки           NaN  0.304000   \n",
       "9                     Дерево   Уменьшение выборки           5.0  0.585366   \n",
       "10             Случайный лес   Уменьшение выборки         170.0  0.635266   \n",
       "11  Логистическиая регрессия   Уменьшение выборки           NaN  0.498778   \n",
       "\n",
       "     auc_roc                                             models  \n",
       "0   0.834605  DecisionTreeClassifier(max_depth=19, random_st...  \n",
       "1   0.864223  (DecisionTreeClassifier(max_features='sqrt', r...  \n",
       "2   0.773663                               LogisticRegression()  \n",
       "3   0.839652  DecisionTreeClassifier(class_weight='balanced'...  \n",
       "4   0.865943  (DecisionTreeClassifier(max_features='sqrt', r...  \n",
       "5   0.777779  LogisticRegression(class_weight='balanced', ra...  \n",
       "6   0.839652  DecisionTreeClassifier(max_depth=19, random_st...  \n",
       "7   0.856677  (DecisionTreeClassifier(max_features='sqrt', r...  \n",
       "8   0.773663             LogisticRegression(random_state=12345)  \n",
       "9   0.835663  DecisionTreeClassifier(max_depth=19, random_st...  \n",
       "10  0.866530  (DecisionTreeClassifier(max_features='sqrt', r...  \n",
       "11  0.771357             LogisticRegression(random_state=12345)  "
      ]
     },
     "execution_count": 33,
     "metadata": {},
     "output_type": "execute_result"
    }
   ],
   "source": [
    "models = pd.DataFrame(data=result_models, columns = ['name_models', 'balance', 'depth_or_est', 'f1_score', 'auc_roc', 'models'])\n",
    "models"
   ]
  },
  {
   "cell_type": "markdown",
   "metadata": {},
   "source": [
    "Метрики у модели логистическая регрессия все также показывают не очень хорошие результаты, у решающего дерева значения метрик повысились незначительно, а у случайного леса увеличились обе метрики."
   ]
  },
  {
   "cell_type": "markdown",
   "metadata": {},
   "source": [
    "### Промежуточные выводы:\n",
    "\n",
    "1. Были применяны 3 вида борьбы с дисбалансом: взвешивание классов, увеличение выборки и уменьшение выборки.\n",
    "2. При использование взвешивания классов результаты изменились в худшую сторону в моделях случайный лес и решающее дерево, результаты модели логистической регрессии значительно увеличились, ног недостаточно для достижения цели\n",
    "3. При использовании увеличения выборки повысились результаты модели случайный лес, в остальных двух моделях результаты ухудшились\n",
    "4. При использовании уменьшения выборки результаты немного увеличились у модели решающее дерево, модель логистической регрессии показывает наихудшие результаты среди других. Метрики у модели случайный лес увеличились и показали наилучший результат среди всех построенных моделей.\n",
    "5. Наилучшей моделью принимаем модель 10: случайный лес с 170 деревьями."
   ]
  },
  {
   "cell_type": "markdown",
   "metadata": {},
   "source": [
    "## Тестирование модели"
   ]
  },
  {
   "cell_type": "code",
   "execution_count": 34,
   "metadata": {},
   "outputs": [
    {
     "data": {
      "text/plain": [
       "name_models                                         Случайный лес\n",
       "balance                                        Уменьшение выборки\n",
       "depth_or_est                                                170.0\n",
       "f1_score                                                 0.611253\n",
       "auc_roc                                                  0.856572\n",
       "models          (DecisionTreeClassifier(max_features='sqrt', r...\n",
       "Name: 10, dtype: object"
      ]
     },
     "execution_count": 34,
     "metadata": {},
     "output_type": "execute_result"
    }
   ],
   "source": [
    "final_model = models.loc[10]\n",
    "predicted_test = final_model['models'].predict(features_test)\n",
    "final_model['f1_score'] = f1_score(target_test, predicted_test)\n",
    "probabilities_test = final_model['models'].predict_proba(features_test)\n",
    "probabilities_one_test = probabilities_test[:, 1]\n",
    "final_model['auc_roc'] = roc_auc_score(target_test, probabilities_one_test)\n",
    "final_model"
   ]
  },
  {
   "cell_type": "markdown",
   "metadata": {},
   "source": [
    "### Промежуточные выводы"
   ]
  },
  {
   "cell_type": "markdown",
   "metadata": {},
   "source": [
    "На тестовый выборке получилось превысить значение в 0,59 у F1-меры и получить хороший результат метрики AUC-ROC, таким образом наилучшая модель найдена."
   ]
  },
  {
   "cell_type": "markdown",
   "metadata": {},
   "source": [
    "## Итоговые выводы:\n",
    "\n",
    "### Ход работы:\n",
    "1. Изучен набор данных, устранены пропущенные значения и удалены ненужные параметры.\n",
    "2. Набор данных был разделен на три выборки: обучающая выборка, валидационная выборка и тестовая выборка в соотношении 3:1:1 соответственно\n",
    "3. Проведено кодирование и масштабирование признаков.\n",
    "4. Исследована модель решающее дерево с различными гипперпараметрами от 1 до 9\n",
    "5. Исследована модель случайный лес с различными гипперпараметрами от 10 до 190 с шагом в 10\n",
    "6. Исследована модель логистической регрессии\n",
    "7. Проведена борьба с дисбалансом тремя различными способами: взвешивание классов, увеличение выборки, уменьшение выборки\n",
    "8. Результаты по всем полученным моделям сведены в таблицу\n",
    "9. Выбрана наилучшая модели и протестирована на тестовой выборке.\n",
    "\n",
    "### Результаты:\n",
    "1. Наилучшей моделью принимаем модель под номером 10 в сводной таблице: случайный лес с гиперпараметром равным 170\n",
    "2. Результаты на тестовой выборке представлены ниже\n",
    "|                         |              |\n",
    "|-------------------------|--------------|\n",
    "|Имя модели               |Случайный лес |\n",
    "|Количество шагов в моделе|170           |\n",
    "|F1-score                 |0.611253      |\n",
    "|AUC-ROC                  |0.856572      |\n",
    "\n",
    "Поставленная цель достигнута. "
   ]
  },
  {
   "cell_type": "markdown",
   "metadata": {},
   "source": [
    "<div class=\"alert alert-success\">\n",
    "<font size=\"4\"><b>✔️ Комментарий ревьюера V2</b></font>\n",
    "    <br /> \n",
    "    <font size=\"3\", color = \"black\">\n",
    "<br />    \n",
    "Получена модель, с запасом выполняющая основное условие проекта. Кстати, здорово, что ты хорошие модели хранишь и тебе для тестирования не надо заново обучать.\n",
    "<br />"
   ]
  },
  {
   "cell_type": "markdown",
   "metadata": {},
   "source": [
    "<div class=\"alert alert-info\">\n",
    "Комментарий студента:\n",
    "\n",
    "По ходу выполнения проекта возникли некоторые вопросы:\n",
    "1. Не очень понятно, почему мы используем F1-меру, чем она лучше accuracy?\n",
    "2. Как достичь нужной отметки, возникает только идея с изменением гипперпараметров?\n",
    "3. Почему у логистической регресии в большинстве случаев F1-мера равна 0?\n",
    "</div>   "
   ]
  },
  {
   "cell_type": "markdown",
   "metadata": {},
   "source": [
    "<div class=\"alert alert-warning\">\n",
    "<font size=\"4\"><b>⚠️ Комментарий ревьюера</b></font>\n",
    "    <br /> \n",
    "    <font size=\"3\", color = \"black\">\n",
    "<br />\n",
    "\n",
    "1. Про то, почему в задачах с дисбалансом метрика accuracy не рассматривается, я написал в начале работы. F1 - устойчивая к дисбалансу метрика. Как и ROC AUC\n",
    "\n",
    "2. Во-первых, да, поиграйся с гиперпараметрами ещё. Например, кроме числа деревьев можешь попробовать для случайного леса менять и глубину дерева. Во-вторых, организуй корректно борьбу с дисбалансом, проверяй, что в блоках с ап- и даунсемплом достигается баланс. В-третьих, удали признаки, не несущие в себе смысла для нашей задачи\n",
    "\n",
    "3. Логистическая регрессия - это линейный классификатор. То есть такой, который границу разделения классов строит прямую в пространстве признаков. Очевидно, если у неё плохой результат, значит классы плохо разделимы прямой\n",
    "\n",
    "А теперь пришло время тебе ещё раз пытаться добиться нужного качества на тестовой выборке :)"
   ]
  },
  {
   "cell_type": "markdown",
   "metadata": {},
   "source": [
    "## Чек-лист готовности проекта"
   ]
  },
  {
   "cell_type": "markdown",
   "metadata": {},
   "source": [
    "Поставьте 'x' в выполненных пунктах. Далее нажмите Shift+Enter."
   ]
  },
  {
   "cell_type": "markdown",
   "metadata": {},
   "source": [
    "- [x]  Jupyter Notebook открыт\n",
    "- [x]  Весь код выполняется без ошибок\n",
    "- [x]  Ячейки с кодом расположены в порядке исполнения\n",
    "- [x]  Выполнен шаг 1: данные подготовлены\n",
    "- [x]  Выполнен шаг 2: задача исследована\n",
    "    - [x]  Исследован баланс классов\n",
    "    - [x]  Изучены модели без учёта дисбаланса\n",
    "    - [x]  Написаны выводы по результатам исследования\n",
    "- [x]  Выполнен шаг 3: учтён дисбаланс\n",
    "    - [x]  Применено несколько способов борьбы с дисбалансом\n",
    "    - [x]  Написаны выводы по результатам исследования\n",
    "- [x]  Выполнен шаг 4: проведено тестирование\n",
    "- [X]  Удалось достичь *F1*-меры не менее 0.59\n",
    "- [x]  Исследована метрика *AUC-ROC*"
   ]
  }
 ],
 "metadata": {
  "ExecuteTimeLog": [
   {
    "duration": 1341,
    "start_time": "2023-01-19T11:37:43.564Z"
   },
   {
    "duration": 18,
    "start_time": "2023-01-19T11:38:22.513Z"
   },
   {
    "duration": 38,
    "start_time": "2023-01-19T11:38:28.349Z"
   },
   {
    "duration": 58,
    "start_time": "2023-01-19T11:38:41.244Z"
   },
   {
    "duration": 45,
    "start_time": "2023-01-19T11:39:04.889Z"
   },
   {
    "duration": 11,
    "start_time": "2023-01-19T11:40:10.068Z"
   },
   {
    "duration": 50,
    "start_time": "2023-01-20T16:46:42.171Z"
   },
   {
    "duration": 7,
    "start_time": "2023-01-20T16:46:53.681Z"
   },
   {
    "duration": 1221,
    "start_time": "2023-01-20T16:46:58.763Z"
   },
   {
    "duration": 9,
    "start_time": "2023-01-20T16:46:59.987Z"
   },
   {
    "duration": 11,
    "start_time": "2023-01-20T16:49:29.590Z"
   },
   {
    "duration": 16,
    "start_time": "2023-01-20T16:50:14.716Z"
   },
   {
    "duration": 12,
    "start_time": "2023-01-20T16:50:33.178Z"
   },
   {
    "duration": 15,
    "start_time": "2023-01-20T16:51:02.168Z"
   },
   {
    "duration": 12,
    "start_time": "2023-01-20T16:51:16.799Z"
   },
   {
    "duration": 12,
    "start_time": "2023-01-20T16:51:22.474Z"
   },
   {
    "duration": 362,
    "start_time": "2023-01-20T17:08:22.992Z"
   },
   {
    "duration": 52,
    "start_time": "2023-01-20T17:13:47.294Z"
   },
   {
    "duration": 46,
    "start_time": "2023-01-20T17:13:47.531Z"
   },
   {
    "duration": 197,
    "start_time": "2023-01-20T17:13:52.043Z"
   },
   {
    "duration": 11,
    "start_time": "2023-01-20T17:18:05.797Z"
   },
   {
    "duration": 22,
    "start_time": "2023-01-20T17:18:12.136Z"
   },
   {
    "duration": 23,
    "start_time": "2023-01-20T17:18:30.180Z"
   },
   {
    "duration": 3,
    "start_time": "2023-01-20T17:18:47.300Z"
   },
   {
    "duration": 44,
    "start_time": "2023-01-20T17:18:47.871Z"
   },
   {
    "duration": 22,
    "start_time": "2023-01-20T17:18:48.965Z"
   },
   {
    "duration": 16,
    "start_time": "2023-01-20T17:18:57.365Z"
   },
   {
    "duration": 9,
    "start_time": "2023-01-20T17:19:04.181Z"
   },
   {
    "duration": 16,
    "start_time": "2023-01-20T17:22:01.845Z"
   },
   {
    "duration": 4,
    "start_time": "2023-01-20T17:22:24.092Z"
   },
   {
    "duration": 350,
    "start_time": "2023-01-20T17:22:25.606Z"
   },
   {
    "duration": 14,
    "start_time": "2023-01-20T17:22:36.013Z"
   },
   {
    "duration": 4,
    "start_time": "2023-01-20T17:33:35.959Z"
   },
   {
    "duration": 46,
    "start_time": "2023-01-20T17:33:36.421Z"
   },
   {
    "duration": 13,
    "start_time": "2023-01-20T17:33:36.866Z"
   },
   {
    "duration": 12,
    "start_time": "2023-01-20T17:33:37.545Z"
   },
   {
    "duration": 293,
    "start_time": "2023-01-20T17:33:38.850Z"
   },
   {
    "duration": 312,
    "start_time": "2023-01-20T17:33:42.323Z"
   },
   {
    "duration": 3,
    "start_time": "2023-01-20T17:37:59.175Z"
   },
   {
    "duration": 53,
    "start_time": "2023-01-20T17:40:51.387Z"
   },
   {
    "duration": 16,
    "start_time": "2023-01-20T17:40:53.233Z"
   },
   {
    "duration": 13,
    "start_time": "2023-01-20T17:40:57.349Z"
   },
   {
    "duration": 21,
    "start_time": "2023-01-20T17:43:49.905Z"
   },
   {
    "duration": 27,
    "start_time": "2023-01-20T17:44:06.167Z"
   },
   {
    "duration": 3,
    "start_time": "2023-01-20T17:51:34.464Z"
   },
   {
    "duration": 10311,
    "start_time": "2023-01-20T17:51:36.345Z"
   },
   {
    "duration": 4,
    "start_time": "2023-01-20T17:53:32.537Z"
   },
   {
    "duration": 178,
    "start_time": "2023-01-20T17:55:15.458Z"
   },
   {
    "duration": 178,
    "start_time": "2023-01-20T17:55:56.321Z"
   },
   {
    "duration": 210,
    "start_time": "2023-01-20T17:56:01.973Z"
   },
   {
    "duration": 8001,
    "start_time": "2023-01-20T17:56:16.591Z"
   },
   {
    "duration": 14,
    "start_time": "2023-01-20T17:56:26.744Z"
   },
   {
    "duration": 16,
    "start_time": "2023-01-20T17:57:26.812Z"
   },
   {
    "duration": 8210,
    "start_time": "2023-01-20T17:57:37.510Z"
   },
   {
    "duration": 16,
    "start_time": "2023-01-20T17:57:45.723Z"
   },
   {
    "duration": 17,
    "start_time": "2023-01-20T17:58:21.142Z"
   },
   {
    "duration": 3,
    "start_time": "2023-01-20T17:58:31.249Z"
   },
   {
    "duration": 8077,
    "start_time": "2023-01-20T17:58:32.142Z"
   },
   {
    "duration": 19,
    "start_time": "2023-01-20T17:58:40.221Z"
   },
   {
    "duration": 3,
    "start_time": "2023-01-20T18:02:24.397Z"
   },
   {
    "duration": 205,
    "start_time": "2023-01-20T18:02:25.499Z"
   },
   {
    "duration": 7986,
    "start_time": "2023-01-20T18:02:32.352Z"
   },
   {
    "duration": 0,
    "start_time": "2023-01-20T18:02:40.340Z"
   },
   {
    "duration": 8055,
    "start_time": "2023-01-20T18:02:47.679Z"
   },
   {
    "duration": 10,
    "start_time": "2023-01-20T18:02:55.737Z"
   },
   {
    "duration": 4,
    "start_time": "2023-01-20T18:04:31.955Z"
   },
   {
    "duration": 15,
    "start_time": "2023-01-20T18:10:28.097Z"
   },
   {
    "duration": 4,
    "start_time": "2023-01-20T18:10:39.370Z"
   },
   {
    "duration": 213,
    "start_time": "2023-01-20T18:10:40.434Z"
   },
   {
    "duration": 9,
    "start_time": "2023-01-20T18:10:41.755Z"
   },
   {
    "duration": 8379,
    "start_time": "2023-01-20T18:11:05.842Z"
   },
   {
    "duration": 10,
    "start_time": "2023-01-20T18:11:15.164Z"
   },
   {
    "duration": 8943,
    "start_time": "2023-01-20T18:12:02.246Z"
   },
   {
    "duration": 11,
    "start_time": "2023-01-20T18:12:11.192Z"
   },
   {
    "duration": 59360,
    "start_time": "2023-01-20T18:16:41.986Z"
   },
   {
    "duration": 162430,
    "start_time": "2023-01-20T18:17:56.788Z"
   },
   {
    "duration": 3,
    "start_time": "2023-01-20T18:42:30.510Z"
   },
   {
    "duration": 8898,
    "start_time": "2023-01-20T18:42:31.699Z"
   },
   {
    "duration": 156220,
    "start_time": "2023-01-20T18:42:40.599Z"
   },
   {
    "duration": 39,
    "start_time": "2023-01-20T18:45:16.820Z"
   },
   {
    "duration": 9808,
    "start_time": "2023-01-20T18:51:14.997Z"
   },
   {
    "duration": 167171,
    "start_time": "2023-01-20T18:51:24.807Z"
   },
   {
    "duration": 0,
    "start_time": "2023-01-20T18:54:11.980Z"
   },
   {
    "duration": 3,
    "start_time": "2023-01-20T18:56:12.063Z"
   },
   {
    "duration": 10963,
    "start_time": "2023-01-20T18:56:12.430Z"
   },
   {
    "duration": 3,
    "start_time": "2023-01-20T18:58:35.403Z"
   },
   {
    "duration": 668,
    "start_time": "2023-01-20T18:58:36.291Z"
   },
   {
    "duration": 241,
    "start_time": "2023-01-20T18:58:51.919Z"
   },
   {
    "duration": 686,
    "start_time": "2023-01-20T18:59:04.521Z"
   },
   {
    "duration": 4,
    "start_time": "2023-01-20T18:59:40.845Z"
   },
   {
    "duration": 10390,
    "start_time": "2023-01-20T18:59:41.332Z"
   },
   {
    "duration": 1154,
    "start_time": "2023-01-20T18:59:51.724Z"
   },
   {
    "duration": 0,
    "start_time": "2023-01-20T18:59:52.880Z"
   },
   {
    "duration": 1108,
    "start_time": "2023-01-20T19:00:09.504Z"
   },
   {
    "duration": 168279,
    "start_time": "2023-01-20T19:00:25.688Z"
   },
   {
    "duration": 40,
    "start_time": "2023-01-20T19:03:13.969Z"
   },
   {
    "duration": 2593,
    "start_time": "2023-01-20T19:17:05.081Z"
   },
   {
    "duration": 41,
    "start_time": "2023-01-20T19:17:09.991Z"
   },
   {
    "duration": 7,
    "start_time": "2023-01-20T19:23:17.916Z"
   },
   {
    "duration": 9898,
    "start_time": "2023-01-20T19:35:58.809Z"
   },
   {
    "duration": 162046,
    "start_time": "2023-01-20T19:36:08.709Z"
   },
   {
    "duration": 1309,
    "start_time": "2023-01-20T19:38:50.757Z"
   },
   {
    "duration": 6,
    "start_time": "2023-01-20T19:46:24.166Z"
   },
   {
    "duration": 75,
    "start_time": "2023-01-20T19:46:48.983Z"
   },
   {
    "duration": 66,
    "start_time": "2023-01-20T19:51:24.415Z"
   },
   {
    "duration": 5,
    "start_time": "2023-01-20T19:51:44.659Z"
   },
   {
    "duration": 688,
    "start_time": "2023-01-20T19:51:49.377Z"
   },
   {
    "duration": 97,
    "start_time": "2023-01-20T19:52:38.773Z"
   },
   {
    "duration": 91,
    "start_time": "2023-01-20T19:55:49.436Z"
   },
   {
    "duration": 11784,
    "start_time": "2023-01-20T19:55:50.258Z"
   },
   {
    "duration": 222836,
    "start_time": "2023-01-20T19:56:02.044Z"
   },
   {
    "duration": 2379,
    "start_time": "2023-01-20T19:59:44.882Z"
   },
   {
    "duration": 250,
    "start_time": "2023-01-20T19:59:47.264Z"
   },
   {
    "duration": 65,
    "start_time": "2023-01-20T20:08:13.273Z"
   },
   {
    "duration": 4930,
    "start_time": "2023-01-20T20:08:13.508Z"
   },
   {
    "duration": 64549,
    "start_time": "2023-01-20T20:08:18.441Z"
   },
   {
    "duration": 1269,
    "start_time": "2023-01-20T20:09:22.992Z"
   },
   {
    "duration": 294,
    "start_time": "2023-01-20T20:09:24.264Z"
   },
   {
    "duration": 11,
    "start_time": "2023-01-20T20:25:12.966Z"
   },
   {
    "duration": 11,
    "start_time": "2023-01-20T20:25:24.335Z"
   },
   {
    "duration": 197,
    "start_time": "2023-01-20T20:25:34.682Z"
   },
   {
    "duration": 208,
    "start_time": "2023-01-20T20:27:18.307Z"
   },
   {
    "duration": 191,
    "start_time": "2023-01-20T20:27:37.162Z"
   },
   {
    "duration": 171,
    "start_time": "2023-01-20T20:28:03.972Z"
   },
   {
    "duration": 346,
    "start_time": "2023-01-20T20:28:44.914Z"
   },
   {
    "duration": 366,
    "start_time": "2023-01-20T20:29:01.291Z"
   },
   {
    "duration": 400,
    "start_time": "2023-01-20T20:29:08.349Z"
   },
   {
    "duration": 196,
    "start_time": "2023-01-20T20:29:13.966Z"
   },
   {
    "duration": 105,
    "start_time": "2023-01-20T20:29:19.276Z"
   },
   {
    "duration": 381,
    "start_time": "2023-01-20T20:29:24.138Z"
   },
   {
    "duration": 270,
    "start_time": "2023-01-20T20:29:27.990Z"
   },
   {
    "duration": 94,
    "start_time": "2023-01-20T20:29:33.232Z"
   },
   {
    "duration": 366,
    "start_time": "2023-01-20T20:29:36.620Z"
   },
   {
    "duration": 255,
    "start_time": "2023-01-20T20:29:41.905Z"
   },
   {
    "duration": 88,
    "start_time": "2023-01-20T20:29:45.609Z"
   },
   {
    "duration": 343,
    "start_time": "2023-01-20T20:29:49.658Z"
   },
   {
    "duration": 249,
    "start_time": "2023-01-20T20:30:02.413Z"
   },
   {
    "duration": 4,
    "start_time": "2023-01-20T20:31:04.819Z"
   },
   {
    "duration": 49,
    "start_time": "2023-01-20T20:31:04.825Z"
   },
   {
    "duration": 12,
    "start_time": "2023-01-20T20:31:04.876Z"
   },
   {
    "duration": 14,
    "start_time": "2023-01-20T20:31:04.890Z"
   },
   {
    "duration": 319,
    "start_time": "2023-01-20T20:31:04.906Z"
   },
   {
    "duration": 35,
    "start_time": "2023-01-20T20:31:05.226Z"
   },
   {
    "duration": 2,
    "start_time": "2023-01-20T20:31:05.263Z"
   },
   {
    "duration": 9114,
    "start_time": "2023-01-20T20:31:05.267Z"
   },
   {
    "duration": 160878,
    "start_time": "2023-01-20T20:31:14.384Z"
   },
   {
    "duration": 2304,
    "start_time": "2023-01-20T20:33:55.264Z"
   },
   {
    "duration": 6,
    "start_time": "2023-01-20T20:33:57.638Z"
   },
   {
    "duration": 48,
    "start_time": "2023-01-20T20:33:57.737Z"
   },
   {
    "duration": 9450,
    "start_time": "2023-01-20T20:33:57.786Z"
   },
   {
    "duration": 161532,
    "start_time": "2023-01-20T20:34:07.238Z"
   },
   {
    "duration": 1364,
    "start_time": "2023-01-20T20:36:48.772Z"
   },
   {
    "duration": 281,
    "start_time": "2023-01-20T20:36:50.138Z"
   },
   {
    "duration": 20257,
    "start_time": "2023-01-20T20:36:50.422Z"
   },
   {
    "duration": 447744,
    "start_time": "2023-01-20T20:37:10.680Z"
   },
   {
    "duration": 2711,
    "start_time": "2023-01-20T20:44:38.426Z"
   },
   {
    "duration": 142,
    "start_time": "2023-01-20T20:44:41.139Z"
   },
   {
    "duration": 4044,
    "start_time": "2023-01-20T20:44:41.283Z"
   },
   {
    "duration": 38935,
    "start_time": "2023-01-20T20:44:45.329Z"
   },
   {
    "duration": 1391,
    "start_time": "2023-01-20T20:45:24.266Z"
   },
   {
    "duration": 281,
    "start_time": "2023-01-20T20:45:25.661Z"
   },
   {
    "duration": 214,
    "start_time": "2023-01-20T20:45:25.944Z"
   },
   {
    "duration": 93,
    "start_time": "2023-01-20T20:50:21.943Z"
   },
   {
    "duration": 622,
    "start_time": "2023-01-20T20:50:29.167Z"
   },
   {
    "duration": 51,
    "start_time": "2023-01-20T20:57:18.520Z"
   },
   {
    "duration": 60,
    "start_time": "2023-01-20T20:57:37.534Z"
   },
   {
    "duration": 54,
    "start_time": "2023-01-20T20:57:50.036Z"
   },
   {
    "duration": 323,
    "start_time": "2023-01-20T21:01:06.221Z"
   },
   {
    "duration": 292,
    "start_time": "2023-01-20T21:01:30.283Z"
   },
   {
    "duration": 46,
    "start_time": "2023-01-20T21:02:06.899Z"
   },
   {
    "duration": 848,
    "start_time": "2023-01-20T21:11:02.084Z"
   },
   {
    "duration": 267,
    "start_time": "2023-01-20T21:11:11.511Z"
   },
   {
    "duration": 298,
    "start_time": "2023-01-20T21:12:24.073Z"
   },
   {
    "duration": 56,
    "start_time": "2023-01-20T21:21:26.798Z"
   },
   {
    "duration": 49,
    "start_time": "2023-01-20T21:21:37.512Z"
   },
   {
    "duration": 1557,
    "start_time": "2023-01-21T11:18:48.926Z"
   },
   {
    "duration": 141,
    "start_time": "2023-01-21T11:18:50.486Z"
   },
   {
    "duration": 24,
    "start_time": "2023-01-21T11:18:50.630Z"
   },
   {
    "duration": 17,
    "start_time": "2023-01-21T11:18:50.656Z"
   },
   {
    "duration": 465,
    "start_time": "2023-01-21T11:18:50.677Z"
   },
   {
    "duration": 47,
    "start_time": "2023-01-21T11:18:51.144Z"
   },
   {
    "duration": 3,
    "start_time": "2023-01-21T11:18:51.193Z"
   },
   {
    "duration": 12165,
    "start_time": "2023-01-21T11:18:51.199Z"
   },
   {
    "duration": 206085,
    "start_time": "2023-01-21T11:19:03.366Z"
   },
   {
    "duration": 2439,
    "start_time": "2023-01-21T11:22:29.453Z"
   },
   {
    "duration": 15,
    "start_time": "2023-01-21T11:22:31.895Z"
   },
   {
    "duration": 176,
    "start_time": "2023-01-21T11:22:31.920Z"
   },
   {
    "duration": 17523,
    "start_time": "2023-01-21T11:22:32.099Z"
   },
   {
    "duration": 204329,
    "start_time": "2023-01-21T11:22:49.626Z"
   },
   {
    "duration": 1388,
    "start_time": "2023-01-21T11:26:13.958Z"
   },
   {
    "duration": 407,
    "start_time": "2023-01-21T11:26:15.349Z"
   },
   {
    "duration": 27519,
    "start_time": "2023-01-21T11:26:15.759Z"
   },
   {
    "duration": 550657,
    "start_time": "2023-01-21T11:26:43.280Z"
   },
   {
    "duration": 2348,
    "start_time": "2023-01-21T11:35:53.942Z"
   },
   {
    "duration": 170,
    "start_time": "2023-01-21T11:35:56.299Z"
   },
   {
    "duration": 5050,
    "start_time": "2023-01-21T11:35:56.471Z"
   },
   {
    "duration": 49058,
    "start_time": "2023-01-21T11:36:01.528Z"
   },
   {
    "duration": 1319,
    "start_time": "2023-01-21T11:36:50.588Z"
   },
   {
    "duration": 340,
    "start_time": "2023-01-21T11:36:51.909Z"
   },
   {
    "duration": 309,
    "start_time": "2023-01-21T11:36:52.251Z"
   },
   {
    "duration": 14,
    "start_time": "2023-01-21T11:38:07.205Z"
   },
   {
    "duration": 47,
    "start_time": "2023-01-21T11:38:16.213Z"
   },
   {
    "duration": 26,
    "start_time": "2023-01-21T11:38:21.520Z"
   },
   {
    "duration": 52,
    "start_time": "2023-01-21T11:38:26.611Z"
   },
   {
    "duration": 41,
    "start_time": "2023-01-21T11:38:36.820Z"
   },
   {
    "duration": 53,
    "start_time": "2023-01-23T12:03:02.060Z"
   },
   {
    "duration": 1109,
    "start_time": "2023-01-23T12:03:07.303Z"
   },
   {
    "duration": 88,
    "start_time": "2023-01-23T12:03:08.414Z"
   },
   {
    "duration": 18,
    "start_time": "2023-01-23T12:03:08.504Z"
   },
   {
    "duration": 8,
    "start_time": "2023-01-23T12:03:10.505Z"
   },
   {
    "duration": 16,
    "start_time": "2023-01-23T12:03:26.616Z"
   },
   {
    "duration": 20,
    "start_time": "2023-01-23T12:07:41.973Z"
   },
   {
    "duration": 4,
    "start_time": "2023-01-23T12:07:54.680Z"
   },
   {
    "duration": 15,
    "start_time": "2023-01-23T12:07:55.729Z"
   },
   {
    "duration": 28,
    "start_time": "2023-01-23T12:09:56.561Z"
   },
   {
    "duration": 33,
    "start_time": "2023-01-23T12:09:57.534Z"
   },
   {
    "duration": 16,
    "start_time": "2023-01-23T12:10:04.385Z"
   },
   {
    "duration": 10,
    "start_time": "2023-01-23T12:16:39.670Z"
   },
   {
    "duration": 9,
    "start_time": "2023-01-23T12:17:43.273Z"
   },
   {
    "duration": 3,
    "start_time": "2023-01-23T12:18:40.704Z"
   },
   {
    "duration": 3,
    "start_time": "2023-01-23T12:19:01.017Z"
   },
   {
    "duration": 303,
    "start_time": "2023-01-23T12:22:22.880Z"
   },
   {
    "duration": 74,
    "start_time": "2023-01-23T12:23:00.440Z"
   },
   {
    "duration": 16,
    "start_time": "2023-01-23T12:23:10.205Z"
   },
   {
    "duration": 13,
    "start_time": "2023-01-23T12:23:19.895Z"
   },
   {
    "duration": 9,
    "start_time": "2023-01-23T12:23:39.359Z"
   },
   {
    "duration": 16,
    "start_time": "2023-01-23T12:23:40.577Z"
   },
   {
    "duration": 12,
    "start_time": "2023-01-23T12:25:13.919Z"
   },
   {
    "duration": 121,
    "start_time": "2023-01-23T12:25:14.960Z"
   },
   {
    "duration": 191,
    "start_time": "2023-01-23T12:25:24.497Z"
   },
   {
    "duration": 13,
    "start_time": "2023-01-23T12:25:37.383Z"
   },
   {
    "duration": 191,
    "start_time": "2023-01-23T12:25:38.308Z"
   },
   {
    "duration": 11,
    "start_time": "2023-01-23T12:26:21.390Z"
   },
   {
    "duration": 126,
    "start_time": "2023-01-23T12:26:22.385Z"
   },
   {
    "duration": 16,
    "start_time": "2023-01-23T12:26:32.158Z"
   },
   {
    "duration": 129,
    "start_time": "2023-01-23T12:26:33.479Z"
   },
   {
    "duration": 10,
    "start_time": "2023-01-23T12:27:09.055Z"
   },
   {
    "duration": 149,
    "start_time": "2023-01-23T12:27:09.901Z"
   },
   {
    "duration": 9,
    "start_time": "2023-01-23T12:30:27.039Z"
   },
   {
    "duration": 10,
    "start_time": "2023-01-23T12:30:28.441Z"
   },
   {
    "duration": 10,
    "start_time": "2023-01-23T12:30:43.325Z"
   },
   {
    "duration": 12,
    "start_time": "2023-01-23T12:30:44.266Z"
   },
   {
    "duration": 6858,
    "start_time": "2023-01-23T12:32:08.195Z"
   },
   {
    "duration": 46,
    "start_time": "2023-01-23T12:32:40.671Z"
   },
   {
    "duration": 13,
    "start_time": "2023-01-23T12:32:41.224Z"
   },
   {
    "duration": 4,
    "start_time": "2023-01-23T12:32:42.257Z"
   },
   {
    "duration": 15,
    "start_time": "2023-01-23T12:32:42.840Z"
   },
   {
    "duration": 29,
    "start_time": "2023-01-23T12:32:45.352Z"
   },
   {
    "duration": 32,
    "start_time": "2023-01-23T12:32:45.963Z"
   },
   {
    "duration": 10,
    "start_time": "2023-01-23T12:32:47.411Z"
   },
   {
    "duration": 14,
    "start_time": "2023-01-23T12:32:48.822Z"
   },
   {
    "duration": 4,
    "start_time": "2023-01-23T12:33:22.827Z"
   },
   {
    "duration": 2177,
    "start_time": "2023-01-23T12:33:22.832Z"
   },
   {
    "duration": 49,
    "start_time": "2023-01-23T12:33:25.011Z"
   },
   {
    "duration": 13,
    "start_time": "2023-01-23T12:33:25.061Z"
   },
   {
    "duration": 28,
    "start_time": "2023-01-23T12:33:25.076Z"
   },
   {
    "duration": 31,
    "start_time": "2023-01-23T12:33:25.105Z"
   },
   {
    "duration": 39,
    "start_time": "2023-01-23T12:33:25.137Z"
   },
   {
    "duration": 49,
    "start_time": "2023-01-23T12:33:25.178Z"
   },
   {
    "duration": 10,
    "start_time": "2023-01-23T12:33:25.229Z"
   },
   {
    "duration": 39,
    "start_time": "2023-01-23T12:33:25.240Z"
   },
   {
    "duration": 0,
    "start_time": "2023-01-23T12:33:25.281Z"
   },
   {
    "duration": 0,
    "start_time": "2023-01-23T12:33:25.283Z"
   },
   {
    "duration": 0,
    "start_time": "2023-01-23T12:33:25.284Z"
   },
   {
    "duration": 0,
    "start_time": "2023-01-23T12:33:25.285Z"
   },
   {
    "duration": 0,
    "start_time": "2023-01-23T12:33:25.286Z"
   },
   {
    "duration": 0,
    "start_time": "2023-01-23T12:33:25.287Z"
   },
   {
    "duration": 0,
    "start_time": "2023-01-23T12:33:25.287Z"
   },
   {
    "duration": 0,
    "start_time": "2023-01-23T12:33:25.288Z"
   },
   {
    "duration": 0,
    "start_time": "2023-01-23T12:33:25.289Z"
   },
   {
    "duration": 0,
    "start_time": "2023-01-23T12:33:25.290Z"
   },
   {
    "duration": 0,
    "start_time": "2023-01-23T12:33:25.291Z"
   },
   {
    "duration": 0,
    "start_time": "2023-01-23T12:33:25.292Z"
   },
   {
    "duration": 0,
    "start_time": "2023-01-23T12:33:25.293Z"
   },
   {
    "duration": 0,
    "start_time": "2023-01-23T12:33:25.294Z"
   },
   {
    "duration": 0,
    "start_time": "2023-01-23T12:33:25.295Z"
   },
   {
    "duration": 0,
    "start_time": "2023-01-23T12:33:25.296Z"
   },
   {
    "duration": 0,
    "start_time": "2023-01-23T12:33:25.297Z"
   },
   {
    "duration": 0,
    "start_time": "2023-01-23T12:33:25.298Z"
   },
   {
    "duration": 0,
    "start_time": "2023-01-23T12:33:25.299Z"
   },
   {
    "duration": 0,
    "start_time": "2023-01-23T12:33:25.300Z"
   },
   {
    "duration": 0,
    "start_time": "2023-01-23T12:33:25.301Z"
   },
   {
    "duration": 10,
    "start_time": "2023-01-23T12:34:19.125Z"
   },
   {
    "duration": 20,
    "start_time": "2023-01-23T12:36:08.546Z"
   },
   {
    "duration": 132,
    "start_time": "2023-01-23T12:36:20.122Z"
   },
   {
    "duration": 147,
    "start_time": "2023-01-23T12:36:27.644Z"
   },
   {
    "duration": 10,
    "start_time": "2023-01-23T12:36:37.653Z"
   },
   {
    "duration": 151,
    "start_time": "2023-01-23T12:36:38.781Z"
   },
   {
    "duration": 11,
    "start_time": "2023-01-23T12:38:45.647Z"
   },
   {
    "duration": 1112,
    "start_time": "2023-01-23T12:38:46.772Z"
   },
   {
    "duration": 1283,
    "start_time": "2023-01-23T12:39:01.978Z"
   },
   {
    "duration": 20,
    "start_time": "2023-01-23T12:39:18.340Z"
   },
   {
    "duration": 10,
    "start_time": "2023-01-23T12:39:30.431Z"
   },
   {
    "duration": 1901,
    "start_time": "2023-01-23T12:39:49.947Z"
   },
   {
    "duration": 11,
    "start_time": "2023-01-23T12:39:57.448Z"
   },
   {
    "duration": 5,
    "start_time": "2023-01-23T12:40:09.617Z"
   },
   {
    "duration": 2608,
    "start_time": "2023-01-23T12:40:17.485Z"
   },
   {
    "duration": 5,
    "start_time": "2023-01-23T12:40:24.781Z"
   },
   {
    "duration": 12,
    "start_time": "2023-01-23T12:40:53.927Z"
   },
   {
    "duration": 13,
    "start_time": "2023-01-23T12:41:21.801Z"
   },
   {
    "duration": 12,
    "start_time": "2023-01-23T12:42:14.846Z"
   },
   {
    "duration": 11,
    "start_time": "2023-01-23T12:43:15.466Z"
   },
   {
    "duration": 15,
    "start_time": "2023-01-23T12:44:37.914Z"
   },
   {
    "duration": 13,
    "start_time": "2023-01-23T12:47:01.608Z"
   },
   {
    "duration": 15,
    "start_time": "2023-01-23T12:47:11.096Z"
   },
   {
    "duration": 16,
    "start_time": "2023-01-23T12:47:35.155Z"
   },
   {
    "duration": 10,
    "start_time": "2023-01-23T12:47:44.394Z"
   },
   {
    "duration": 4,
    "start_time": "2023-01-23T12:54:51.856Z"
   },
   {
    "duration": 2209,
    "start_time": "2023-01-23T12:54:51.862Z"
   },
   {
    "duration": 53,
    "start_time": "2023-01-23T12:54:54.074Z"
   },
   {
    "duration": 32,
    "start_time": "2023-01-23T12:54:54.129Z"
   },
   {
    "duration": 40,
    "start_time": "2023-01-23T12:54:54.163Z"
   },
   {
    "duration": 44,
    "start_time": "2023-01-23T12:54:54.205Z"
   },
   {
    "duration": 59,
    "start_time": "2023-01-23T12:54:54.251Z"
   },
   {
    "duration": 41,
    "start_time": "2023-01-23T12:54:54.312Z"
   },
   {
    "duration": 10,
    "start_time": "2023-01-23T12:54:54.356Z"
   },
   {
    "duration": 14,
    "start_time": "2023-01-23T12:54:58.692Z"
   },
   {
    "duration": 957,
    "start_time": "2023-01-23T12:59:08.560Z"
   },
   {
    "duration": 2167,
    "start_time": "2023-01-23T12:59:09.519Z"
   },
   {
    "duration": 57,
    "start_time": "2023-01-23T12:59:11.688Z"
   },
   {
    "duration": 20,
    "start_time": "2023-01-23T12:59:11.747Z"
   },
   {
    "duration": 4,
    "start_time": "2023-01-23T12:59:11.769Z"
   },
   {
    "duration": 18,
    "start_time": "2023-01-23T12:59:11.774Z"
   },
   {
    "duration": 30,
    "start_time": "2023-01-23T12:59:11.793Z"
   },
   {
    "duration": 34,
    "start_time": "2023-01-23T12:59:11.825Z"
   },
   {
    "duration": 9,
    "start_time": "2023-01-23T12:59:19.796Z"
   },
   {
    "duration": 41,
    "start_time": "2023-01-23T12:59:21.876Z"
   },
   {
    "duration": 41,
    "start_time": "2023-01-23T13:00:04.693Z"
   },
   {
    "duration": 14,
    "start_time": "2023-01-23T13:00:19.539Z"
   },
   {
    "duration": 114,
    "start_time": "2023-01-23T13:00:31.071Z"
   },
   {
    "duration": 10,
    "start_time": "2023-01-23T13:00:36.611Z"
   },
   {
    "duration": 22,
    "start_time": "2023-01-23T13:00:37.686Z"
   },
   {
    "duration": 14,
    "start_time": "2023-01-23T13:00:52.019Z"
   },
   {
    "duration": 10,
    "start_time": "2023-01-23T13:00:54.685Z"
   },
   {
    "duration": 28,
    "start_time": "2023-01-23T13:00:55.953Z"
   },
   {
    "duration": 8,
    "start_time": "2023-01-23T13:01:22.993Z"
   },
   {
    "duration": 31,
    "start_time": "2023-01-23T13:01:23.932Z"
   },
   {
    "duration": 20,
    "start_time": "2023-01-23T13:03:14.071Z"
   },
   {
    "duration": 24,
    "start_time": "2023-01-23T13:03:31.191Z"
   },
   {
    "duration": 92,
    "start_time": "2023-01-23T13:11:56.178Z"
   },
   {
    "duration": 2,
    "start_time": "2023-01-23T13:14:23.445Z"
   },
   {
    "duration": 446,
    "start_time": "2023-01-23T13:14:24.683Z"
   },
   {
    "duration": 12751,
    "start_time": "2023-01-23T13:15:20.920Z"
   },
   {
    "duration": 249,
    "start_time": "2023-01-23T13:16:22.245Z"
   },
   {
    "duration": 33,
    "start_time": "2023-01-23T13:17:28.292Z"
   },
   {
    "duration": 9,
    "start_time": "2023-01-23T13:23:54.190Z"
   },
   {
    "duration": 5,
    "start_time": "2023-01-23T13:24:03.785Z"
   },
   {
    "duration": 5,
    "start_time": "2023-01-23T13:24:18.983Z"
   },
   {
    "duration": 1164,
    "start_time": "2023-01-24T08:55:59.967Z"
   },
   {
    "duration": 7885,
    "start_time": "2023-01-24T08:56:01.133Z"
   },
   {
    "duration": 106,
    "start_time": "2023-01-24T08:56:09.021Z"
   },
   {
    "duration": 34,
    "start_time": "2023-01-24T08:56:09.130Z"
   },
   {
    "duration": 16,
    "start_time": "2023-01-24T08:56:09.166Z"
   },
   {
    "duration": 29,
    "start_time": "2023-01-24T08:56:09.184Z"
   },
   {
    "duration": 37,
    "start_time": "2023-01-24T08:56:09.215Z"
   },
   {
    "duration": 48,
    "start_time": "2023-01-24T08:56:09.254Z"
   },
   {
    "duration": 11,
    "start_time": "2023-01-24T08:56:09.304Z"
   },
   {
    "duration": 148,
    "start_time": "2023-01-24T08:56:09.317Z"
   },
   {
    "duration": 0,
    "start_time": "2023-01-24T08:56:09.467Z"
   },
   {
    "duration": 0,
    "start_time": "2023-01-24T08:56:09.468Z"
   },
   {
    "duration": 0,
    "start_time": "2023-01-24T08:56:09.470Z"
   },
   {
    "duration": 0,
    "start_time": "2023-01-24T08:56:09.471Z"
   },
   {
    "duration": 0,
    "start_time": "2023-01-24T08:56:09.472Z"
   },
   {
    "duration": 0,
    "start_time": "2023-01-24T08:56:09.474Z"
   },
   {
    "duration": 0,
    "start_time": "2023-01-24T08:56:09.476Z"
   },
   {
    "duration": 0,
    "start_time": "2023-01-24T08:56:09.477Z"
   },
   {
    "duration": 0,
    "start_time": "2023-01-24T08:56:09.478Z"
   },
   {
    "duration": 900,
    "start_time": "2023-01-24T08:56:53.197Z"
   },
   {
    "duration": 2331,
    "start_time": "2023-01-24T08:56:54.732Z"
   },
   {
    "duration": 67,
    "start_time": "2023-01-24T08:56:58.895Z"
   },
   {
    "duration": 23,
    "start_time": "2023-01-24T08:56:59.853Z"
   },
   {
    "duration": 4,
    "start_time": "2023-01-24T08:57:01.404Z"
   },
   {
    "duration": 19,
    "start_time": "2023-01-24T08:57:02.153Z"
   },
   {
    "duration": 31,
    "start_time": "2023-01-24T08:57:04.176Z"
   },
   {
    "duration": 37,
    "start_time": "2023-01-24T08:57:04.901Z"
   },
   {
    "duration": 12,
    "start_time": "2023-01-24T08:57:07.209Z"
   },
   {
    "duration": 44,
    "start_time": "2023-01-24T08:57:09.022Z"
   },
   {
    "duration": 16,
    "start_time": "2023-01-24T08:57:10.093Z"
   },
   {
    "duration": 36,
    "start_time": "2023-01-24T08:57:11.524Z"
   },
   {
    "duration": 4,
    "start_time": "2023-01-24T08:57:14.562Z"
   },
   {
    "duration": 507,
    "start_time": "2023-01-24T08:57:16.053Z"
   },
   {
    "duration": 14775,
    "start_time": "2023-01-24T08:57:18.633Z"
   },
   {
    "duration": 514,
    "start_time": "2023-01-24T08:58:53.352Z"
   },
   {
    "duration": 530,
    "start_time": "2023-01-24T09:02:16.160Z"
   },
   {
    "duration": 516,
    "start_time": "2023-01-24T09:02:59.452Z"
   },
   {
    "duration": 518,
    "start_time": "2023-01-24T09:03:07.595Z"
   },
   {
    "duration": 15065,
    "start_time": "2023-01-24T09:05:04.418Z"
   },
   {
    "duration": 15201,
    "start_time": "2023-01-24T09:06:04.148Z"
   },
   {
    "duration": 557,
    "start_time": "2023-01-24T09:06:50.443Z"
   },
   {
    "duration": 166,
    "start_time": "2023-01-24T09:06:54.595Z"
   },
   {
    "duration": 3,
    "start_time": "2023-01-24T09:07:28.707Z"
   },
   {
    "duration": 634,
    "start_time": "2023-01-24T09:07:29.823Z"
   },
   {
    "duration": 16594,
    "start_time": "2023-01-24T09:07:31.473Z"
   },
   {
    "duration": 488,
    "start_time": "2023-01-24T09:07:48.075Z"
   },
   {
    "duration": 118,
    "start_time": "2023-01-24T09:07:48.573Z"
   },
   {
    "duration": 680,
    "start_time": "2023-01-24T09:08:03.028Z"
   },
   {
    "duration": 16833,
    "start_time": "2023-01-24T09:08:03.710Z"
   },
   {
    "duration": 408,
    "start_time": "2023-01-24T09:08:20.547Z"
   },
   {
    "duration": 88,
    "start_time": "2023-01-24T09:08:20.963Z"
   },
   {
    "duration": 598,
    "start_time": "2023-01-24T09:11:04.393Z"
   },
   {
    "duration": 15908,
    "start_time": "2023-01-24T09:11:05.058Z"
   },
   {
    "duration": 394,
    "start_time": "2023-01-24T09:11:20.968Z"
   },
   {
    "duration": 96,
    "start_time": "2023-01-24T09:12:06.282Z"
   },
   {
    "duration": 5,
    "start_time": "2023-01-24T09:12:17.361Z"
   },
   {
    "duration": 2872,
    "start_time": "2023-01-24T09:12:17.369Z"
   },
   {
    "duration": 63,
    "start_time": "2023-01-24T09:12:20.244Z"
   },
   {
    "duration": 15,
    "start_time": "2023-01-24T09:12:20.309Z"
   },
   {
    "duration": 38,
    "start_time": "2023-01-24T09:12:20.325Z"
   },
   {
    "duration": 24,
    "start_time": "2023-01-24T09:12:20.366Z"
   },
   {
    "duration": 42,
    "start_time": "2023-01-24T09:12:20.393Z"
   },
   {
    "duration": 85,
    "start_time": "2023-01-24T09:12:20.436Z"
   },
   {
    "duration": 14,
    "start_time": "2023-01-24T09:12:20.524Z"
   },
   {
    "duration": 87,
    "start_time": "2023-01-24T09:12:20.542Z"
   },
   {
    "duration": 23,
    "start_time": "2023-01-24T09:12:20.631Z"
   },
   {
    "duration": 88,
    "start_time": "2023-01-24T09:12:20.656Z"
   },
   {
    "duration": 3,
    "start_time": "2023-01-24T09:12:20.746Z"
   },
   {
    "duration": 649,
    "start_time": "2023-01-24T09:12:20.751Z"
   },
   {
    "duration": 16433,
    "start_time": "2023-01-24T09:12:21.402Z"
   },
   {
    "duration": 218,
    "start_time": "2023-01-24T09:12:37.840Z"
   },
   {
    "duration": 230,
    "start_time": "2023-01-24T09:12:38.061Z"
   },
   {
    "duration": 622,
    "start_time": "2023-01-24T09:12:38.293Z"
   },
   {
    "duration": 17090,
    "start_time": "2023-01-24T09:12:38.918Z"
   },
   {
    "duration": 829,
    "start_time": "2023-01-24T09:12:56.010Z"
   },
   {
    "duration": 148,
    "start_time": "2023-01-24T09:13:09.793Z"
   },
   {
    "duration": 99,
    "start_time": "2023-01-24T09:13:12.713Z"
   },
   {
    "duration": 5,
    "start_time": "2023-01-24T09:13:24.191Z"
   },
   {
    "duration": 3662,
    "start_time": "2023-01-24T09:13:24.199Z"
   },
   {
    "duration": 55,
    "start_time": "2023-01-24T09:13:27.863Z"
   },
   {
    "duration": 16,
    "start_time": "2023-01-24T09:13:27.920Z"
   },
   {
    "duration": 8,
    "start_time": "2023-01-24T09:13:27.938Z"
   },
   {
    "duration": 27,
    "start_time": "2023-01-24T09:13:27.948Z"
   },
   {
    "duration": 45,
    "start_time": "2023-01-24T09:13:27.977Z"
   },
   {
    "duration": 40,
    "start_time": "2023-01-24T09:13:28.041Z"
   },
   {
    "duration": 12,
    "start_time": "2023-01-24T09:13:28.083Z"
   },
   {
    "duration": 59,
    "start_time": "2023-01-24T09:13:28.098Z"
   },
   {
    "duration": 24,
    "start_time": "2023-01-24T09:13:28.160Z"
   },
   {
    "duration": 60,
    "start_time": "2023-01-24T09:13:28.187Z"
   },
   {
    "duration": 3,
    "start_time": "2023-01-24T09:13:28.250Z"
   },
   {
    "duration": 570,
    "start_time": "2023-01-24T09:13:28.256Z"
   },
   {
    "duration": 15104,
    "start_time": "2023-01-24T09:13:28.828Z"
   },
   {
    "duration": 106,
    "start_time": "2023-01-24T09:13:43.940Z"
   },
   {
    "duration": 131,
    "start_time": "2023-01-24T09:13:44.049Z"
   },
   {
    "duration": 750,
    "start_time": "2023-01-24T09:13:44.182Z"
   },
   {
    "duration": 15910,
    "start_time": "2023-01-24T09:13:44.940Z"
   },
   {
    "duration": 492,
    "start_time": "2023-01-24T09:14:00.853Z"
   },
   {
    "duration": 151,
    "start_time": "2023-01-24T09:14:01.347Z"
   },
   {
    "duration": 6,
    "start_time": "2023-01-24T09:16:04.003Z"
   },
   {
    "duration": 2652,
    "start_time": "2023-01-24T09:16:04.012Z"
   },
   {
    "duration": 52,
    "start_time": "2023-01-24T09:16:06.666Z"
   },
   {
    "duration": 14,
    "start_time": "2023-01-24T09:16:06.720Z"
   },
   {
    "duration": 17,
    "start_time": "2023-01-24T09:16:06.763Z"
   },
   {
    "duration": 22,
    "start_time": "2023-01-24T09:16:06.782Z"
   },
   {
    "duration": 33,
    "start_time": "2023-01-24T09:16:06.806Z"
   },
   {
    "duration": 59,
    "start_time": "2023-01-24T09:16:06.841Z"
   },
   {
    "duration": 13,
    "start_time": "2023-01-24T09:16:06.902Z"
   },
   {
    "duration": 41,
    "start_time": "2023-01-24T09:16:06.918Z"
   },
   {
    "duration": 16,
    "start_time": "2023-01-24T09:16:06.961Z"
   },
   {
    "duration": 29,
    "start_time": "2023-01-24T09:16:06.979Z"
   },
   {
    "duration": 3,
    "start_time": "2023-01-24T09:16:07.010Z"
   },
   {
    "duration": 595,
    "start_time": "2023-01-24T09:16:07.014Z"
   },
   {
    "duration": 16158,
    "start_time": "2023-01-24T09:16:07.612Z"
   },
   {
    "duration": 479,
    "start_time": "2023-01-24T09:16:23.772Z"
   },
   {
    "duration": 131,
    "start_time": "2023-01-24T09:16:24.253Z"
   },
   {
    "duration": 582,
    "start_time": "2023-01-24T09:16:24.387Z"
   },
   {
    "duration": 16040,
    "start_time": "2023-01-24T09:16:24.971Z"
   },
   {
    "duration": 534,
    "start_time": "2023-01-24T09:16:41.013Z"
   },
   {
    "duration": 103,
    "start_time": "2023-01-24T09:16:41.553Z"
   },
   {
    "duration": 7,
    "start_time": "2023-01-24T09:17:54.004Z"
   },
   {
    "duration": 123,
    "start_time": "2023-01-24T09:19:42.670Z"
   },
   {
    "duration": 31,
    "start_time": "2023-01-24T09:20:22.333Z"
   },
   {
    "duration": 13,
    "start_time": "2023-01-24T09:20:34.594Z"
   },
   {
    "duration": 21,
    "start_time": "2023-01-24T09:22:33.117Z"
   },
   {
    "duration": 28,
    "start_time": "2023-01-24T09:22:43.345Z"
   },
   {
    "duration": 19,
    "start_time": "2023-01-24T09:22:50.118Z"
   },
   {
    "duration": 16,
    "start_time": "2023-01-24T09:22:55.418Z"
   },
   {
    "duration": 19,
    "start_time": "2023-01-24T09:23:00.139Z"
   },
   {
    "duration": 696,
    "start_time": "2023-01-24T09:26:04.574Z"
   },
   {
    "duration": 20480,
    "start_time": "2023-01-24T09:26:05.273Z"
   },
   {
    "duration": 299,
    "start_time": "2023-01-24T09:26:25.756Z"
   },
   {
    "duration": 283,
    "start_time": "2023-01-24T09:26:26.057Z"
   },
   {
    "duration": 6,
    "start_time": "2023-01-24T09:27:16.397Z"
   },
   {
    "duration": 2671,
    "start_time": "2023-01-24T09:27:16.418Z"
   },
   {
    "duration": 75,
    "start_time": "2023-01-24T09:27:19.092Z"
   },
   {
    "duration": 21,
    "start_time": "2023-01-24T09:27:19.170Z"
   },
   {
    "duration": 19,
    "start_time": "2023-01-24T09:27:19.194Z"
   },
   {
    "duration": 31,
    "start_time": "2023-01-24T09:27:19.215Z"
   },
   {
    "duration": 47,
    "start_time": "2023-01-24T09:27:19.251Z"
   },
   {
    "duration": 61,
    "start_time": "2023-01-24T09:27:19.300Z"
   },
   {
    "duration": 13,
    "start_time": "2023-01-24T09:27:19.363Z"
   },
   {
    "duration": 32,
    "start_time": "2023-01-24T09:27:19.379Z"
   },
   {
    "duration": 42,
    "start_time": "2023-01-24T09:27:19.413Z"
   },
   {
    "duration": 30,
    "start_time": "2023-01-24T09:27:19.457Z"
   },
   {
    "duration": 4,
    "start_time": "2023-01-24T09:27:19.489Z"
   },
   {
    "duration": 571,
    "start_time": "2023-01-24T09:27:19.496Z"
   },
   {
    "duration": 15470,
    "start_time": "2023-01-24T09:27:20.070Z"
   },
   {
    "duration": 496,
    "start_time": "2023-01-24T09:27:35.543Z"
   },
   {
    "duration": 142,
    "start_time": "2023-01-24T09:27:36.042Z"
   },
   {
    "duration": 604,
    "start_time": "2023-01-24T09:27:36.186Z"
   },
   {
    "duration": 15241,
    "start_time": "2023-01-24T09:27:36.791Z"
   },
   {
    "duration": 313,
    "start_time": "2023-01-24T09:27:52.040Z"
   },
   {
    "duration": 279,
    "start_time": "2023-01-24T09:27:52.356Z"
   },
   {
    "duration": 6,
    "start_time": "2023-01-24T09:27:52.639Z"
   },
   {
    "duration": 21,
    "start_time": "2023-01-24T09:27:52.647Z"
   },
   {
    "duration": 672,
    "start_time": "2023-01-24T09:27:52.670Z"
   },
   {
    "duration": 20284,
    "start_time": "2023-01-24T09:27:53.345Z"
   },
   {
    "duration": 313,
    "start_time": "2023-01-24T09:28:13.631Z"
   },
   {
    "duration": 185,
    "start_time": "2023-01-24T09:28:13.947Z"
   },
   {
    "duration": 17,
    "start_time": "2023-01-24T09:30:48.648Z"
   },
   {
    "duration": 348,
    "start_time": "2023-01-24T09:37:43.070Z"
   },
   {
    "duration": 10211,
    "start_time": "2023-01-24T09:37:43.621Z"
   },
   {
    "duration": 307,
    "start_time": "2023-01-24T09:37:53.834Z"
   },
   {
    "duration": 120,
    "start_time": "2023-01-24T09:37:54.143Z"
   },
   {
    "duration": 125,
    "start_time": "2023-01-24T09:38:03.943Z"
   },
   {
    "duration": 70,
    "start_time": "2023-01-24T09:38:51.412Z"
   },
   {
    "duration": 228,
    "start_time": "2023-01-24T09:45:19.202Z"
   },
   {
    "duration": 5,
    "start_time": "2023-01-24T09:57:20.495Z"
   },
   {
    "duration": 2382,
    "start_time": "2023-01-24T09:57:20.502Z"
   },
   {
    "duration": 50,
    "start_time": "2023-01-24T09:57:22.886Z"
   },
   {
    "duration": 16,
    "start_time": "2023-01-24T09:57:22.938Z"
   },
   {
    "duration": 19,
    "start_time": "2023-01-24T09:57:22.955Z"
   },
   {
    "duration": 25,
    "start_time": "2023-01-24T09:57:22.976Z"
   },
   {
    "duration": 30,
    "start_time": "2023-01-24T09:57:23.003Z"
   },
   {
    "duration": 54,
    "start_time": "2023-01-24T09:57:23.035Z"
   },
   {
    "duration": 11,
    "start_time": "2023-01-24T09:57:23.091Z"
   },
   {
    "duration": 44,
    "start_time": "2023-01-24T09:57:23.104Z"
   },
   {
    "duration": 16,
    "start_time": "2023-01-24T09:57:23.149Z"
   },
   {
    "duration": 26,
    "start_time": "2023-01-24T09:57:23.166Z"
   },
   {
    "duration": 3,
    "start_time": "2023-01-24T09:57:23.193Z"
   },
   {
    "duration": 497,
    "start_time": "2023-01-24T09:57:23.197Z"
   },
   {
    "duration": 15170,
    "start_time": "2023-01-24T09:57:23.696Z"
   },
   {
    "duration": 194,
    "start_time": "2023-01-24T09:57:38.868Z"
   },
   {
    "duration": 122,
    "start_time": "2023-01-24T09:57:39.145Z"
   },
   {
    "duration": 0,
    "start_time": "2023-01-24T09:57:39.269Z"
   },
   {
    "duration": 0,
    "start_time": "2023-01-24T09:57:39.271Z"
   },
   {
    "duration": 0,
    "start_time": "2023-01-24T09:57:39.276Z"
   },
   {
    "duration": 0,
    "start_time": "2023-01-24T09:57:39.277Z"
   },
   {
    "duration": 0,
    "start_time": "2023-01-24T09:57:39.278Z"
   },
   {
    "duration": 0,
    "start_time": "2023-01-24T09:57:39.280Z"
   },
   {
    "duration": 0,
    "start_time": "2023-01-24T09:57:39.282Z"
   },
   {
    "duration": 0,
    "start_time": "2023-01-24T09:57:39.283Z"
   },
   {
    "duration": 0,
    "start_time": "2023-01-24T09:57:39.285Z"
   },
   {
    "duration": 0,
    "start_time": "2023-01-24T09:57:39.286Z"
   },
   {
    "duration": 0,
    "start_time": "2023-01-24T09:57:39.287Z"
   },
   {
    "duration": 0,
    "start_time": "2023-01-24T09:57:39.289Z"
   },
   {
    "duration": 0,
    "start_time": "2023-01-24T09:57:39.290Z"
   },
   {
    "duration": 0,
    "start_time": "2023-01-24T09:57:39.291Z"
   },
   {
    "duration": 0,
    "start_time": "2023-01-24T09:57:39.293Z"
   },
   {
    "duration": 0,
    "start_time": "2023-01-24T09:57:39.294Z"
   },
   {
    "duration": 4,
    "start_time": "2023-01-24T09:59:34.026Z"
   },
   {
    "duration": 2376,
    "start_time": "2023-01-24T09:59:34.485Z"
   },
   {
    "duration": 48,
    "start_time": "2023-01-24T09:59:36.863Z"
   },
   {
    "duration": 15,
    "start_time": "2023-01-24T09:59:36.913Z"
   },
   {
    "duration": 5,
    "start_time": "2023-01-24T09:59:37.690Z"
   },
   {
    "duration": 18,
    "start_time": "2023-01-24T09:59:38.201Z"
   },
   {
    "duration": 32,
    "start_time": "2023-01-24T09:59:39.676Z"
   },
   {
    "duration": 39,
    "start_time": "2023-01-24T09:59:40.279Z"
   },
   {
    "duration": 11,
    "start_time": "2023-01-24T09:59:41.351Z"
   },
   {
    "duration": 30,
    "start_time": "2023-01-24T09:59:42.480Z"
   },
   {
    "duration": 20,
    "start_time": "2023-01-24T09:59:43.027Z"
   },
   {
    "duration": 35,
    "start_time": "2023-01-24T09:59:44.133Z"
   },
   {
    "duration": 3,
    "start_time": "2023-01-24T09:59:46.458Z"
   },
   {
    "duration": 505,
    "start_time": "2023-01-24T09:59:47.569Z"
   },
   {
    "duration": 15134,
    "start_time": "2023-01-24T09:59:52.333Z"
   },
   {
    "duration": 262,
    "start_time": "2023-01-24T10:02:30.081Z"
   },
   {
    "duration": 16,
    "start_time": "2023-01-24T10:02:31.916Z"
   },
   {
    "duration": 40,
    "start_time": "2023-01-24T10:04:03.604Z"
   },
   {
    "duration": 564,
    "start_time": "2023-01-24T10:04:08.097Z"
   },
   {
    "duration": 14813,
    "start_time": "2023-01-24T10:04:08.663Z"
   },
   {
    "duration": 376,
    "start_time": "2023-01-24T10:04:23.478Z"
   },
   {
    "duration": 147,
    "start_time": "2023-01-24T10:04:23.857Z"
   },
   {
    "duration": 5,
    "start_time": "2023-01-24T10:04:24.006Z"
   },
   {
    "duration": 40,
    "start_time": "2023-01-24T10:04:24.013Z"
   },
   {
    "duration": 626,
    "start_time": "2023-01-24T10:04:24.055Z"
   },
   {
    "duration": 20018,
    "start_time": "2023-01-24T10:04:24.682Z"
   },
   {
    "duration": 460,
    "start_time": "2023-01-24T10:04:44.701Z"
   },
   {
    "duration": 250,
    "start_time": "2023-01-24T10:04:45.163Z"
   },
   {
    "duration": 32,
    "start_time": "2023-01-24T10:04:45.417Z"
   },
   {
    "duration": 353,
    "start_time": "2023-01-24T10:04:45.451Z"
   },
   {
    "duration": 9696,
    "start_time": "2023-01-24T10:04:45.806Z"
   },
   {
    "duration": 436,
    "start_time": "2023-01-24T10:04:55.504Z"
   },
   {
    "duration": 217,
    "start_time": "2023-01-24T10:04:55.946Z"
   },
   {
    "duration": 210,
    "start_time": "2023-01-24T10:04:56.165Z"
   },
   {
    "duration": 1137,
    "start_time": "2023-01-24T22:44:32.523Z"
   },
   {
    "duration": 6737,
    "start_time": "2023-01-24T22:44:33.662Z"
   },
   {
    "duration": 192,
    "start_time": "2023-01-24T22:44:40.401Z"
   },
   {
    "duration": 18,
    "start_time": "2023-01-24T22:44:40.595Z"
   },
   {
    "duration": 4,
    "start_time": "2023-01-24T22:44:40.615Z"
   },
   {
    "duration": 20,
    "start_time": "2023-01-24T22:44:40.621Z"
   },
   {
    "duration": 28,
    "start_time": "2023-01-24T22:44:40.643Z"
   },
   {
    "duration": 31,
    "start_time": "2023-01-24T22:44:40.673Z"
   },
   {
    "duration": 8,
    "start_time": "2023-01-24T22:44:40.706Z"
   },
   {
    "duration": 123,
    "start_time": "2023-01-24T22:44:40.715Z"
   },
   {
    "duration": 0,
    "start_time": "2023-01-24T22:44:40.840Z"
   },
   {
    "duration": 0,
    "start_time": "2023-01-24T22:44:40.841Z"
   },
   {
    "duration": 0,
    "start_time": "2023-01-24T22:44:40.848Z"
   },
   {
    "duration": 0,
    "start_time": "2023-01-24T22:44:40.849Z"
   },
   {
    "duration": 0,
    "start_time": "2023-01-24T22:44:40.851Z"
   },
   {
    "duration": 0,
    "start_time": "2023-01-24T22:44:40.852Z"
   },
   {
    "duration": 0,
    "start_time": "2023-01-24T22:44:40.853Z"
   },
   {
    "duration": 0,
    "start_time": "2023-01-24T22:44:40.853Z"
   },
   {
    "duration": 0,
    "start_time": "2023-01-24T22:44:40.855Z"
   },
   {
    "duration": 0,
    "start_time": "2023-01-24T22:44:40.856Z"
   },
   {
    "duration": 0,
    "start_time": "2023-01-24T22:44:40.857Z"
   },
   {
    "duration": 0,
    "start_time": "2023-01-24T22:44:40.858Z"
   },
   {
    "duration": 0,
    "start_time": "2023-01-24T22:44:40.859Z"
   },
   {
    "duration": 0,
    "start_time": "2023-01-24T22:44:40.860Z"
   },
   {
    "duration": 0,
    "start_time": "2023-01-24T22:44:40.861Z"
   },
   {
    "duration": 0,
    "start_time": "2023-01-24T22:44:40.862Z"
   },
   {
    "duration": 0,
    "start_time": "2023-01-24T22:44:40.862Z"
   },
   {
    "duration": 0,
    "start_time": "2023-01-24T22:44:40.864Z"
   },
   {
    "duration": 0,
    "start_time": "2023-01-24T22:44:40.867Z"
   },
   {
    "duration": 0,
    "start_time": "2023-01-24T22:44:40.868Z"
   },
   {
    "duration": 0,
    "start_time": "2023-01-24T22:44:40.869Z"
   },
   {
    "duration": 0,
    "start_time": "2023-01-24T22:44:40.870Z"
   },
   {
    "duration": 1,
    "start_time": "2023-01-24T22:44:40.871Z"
   },
   {
    "duration": 13,
    "start_time": "2023-01-24T22:53:18.048Z"
   },
   {
    "duration": 14,
    "start_time": "2023-01-24T22:53:31.166Z"
   },
   {
    "duration": 904,
    "start_time": "2023-01-24T22:53:39.767Z"
   },
   {
    "duration": 2008,
    "start_time": "2023-01-24T22:53:40.673Z"
   },
   {
    "duration": 56,
    "start_time": "2023-01-24T22:53:42.682Z"
   },
   {
    "duration": 18,
    "start_time": "2023-01-24T22:53:42.740Z"
   },
   {
    "duration": 5,
    "start_time": "2023-01-24T22:53:42.760Z"
   },
   {
    "duration": 20,
    "start_time": "2023-01-24T22:53:42.766Z"
   },
   {
    "duration": 27,
    "start_time": "2023-01-24T22:53:42.787Z"
   },
   {
    "duration": 47,
    "start_time": "2023-01-24T22:53:42.816Z"
   },
   {
    "duration": 10,
    "start_time": "2023-01-24T22:53:42.865Z"
   },
   {
    "duration": 32,
    "start_time": "2023-01-24T22:53:42.878Z"
   },
   {
    "duration": 13,
    "start_time": "2023-01-24T22:53:42.912Z"
   },
   {
    "duration": 42,
    "start_time": "2023-01-24T22:53:42.926Z"
   },
   {
    "duration": 2,
    "start_time": "2023-01-24T22:53:42.970Z"
   },
   {
    "duration": 453,
    "start_time": "2023-01-24T22:53:42.974Z"
   },
   {
    "duration": 12533,
    "start_time": "2023-01-24T22:53:43.429Z"
   },
   {
    "duration": 287,
    "start_time": "2023-01-24T22:53:55.963Z"
   },
   {
    "duration": 141,
    "start_time": "2023-01-24T22:53:56.251Z"
   },
   {
    "duration": 448,
    "start_time": "2023-01-24T22:53:56.394Z"
   },
   {
    "duration": 12144,
    "start_time": "2023-01-24T22:53:56.848Z"
   },
   {
    "duration": 257,
    "start_time": "2023-01-24T22:54:08.993Z"
   },
   {
    "duration": 149,
    "start_time": "2023-01-24T22:54:09.252Z"
   },
   {
    "duration": 5,
    "start_time": "2023-01-24T22:54:09.402Z"
   },
   {
    "duration": 38,
    "start_time": "2023-01-24T22:54:09.409Z"
   },
   {
    "duration": 543,
    "start_time": "2023-01-24T22:54:09.448Z"
   },
   {
    "duration": 16359,
    "start_time": "2023-01-24T22:54:09.993Z"
   },
   {
    "duration": 203,
    "start_time": "2023-01-24T22:54:26.354Z"
   },
   {
    "duration": 165,
    "start_time": "2023-01-24T22:54:26.648Z"
   },
   {
    "duration": 34,
    "start_time": "2023-01-24T22:54:26.817Z"
   },
   {
    "duration": 284,
    "start_time": "2023-01-24T22:54:26.852Z"
   },
   {
    "duration": 7951,
    "start_time": "2023-01-24T22:54:27.137Z"
   },
   {
    "duration": 69,
    "start_time": "2023-01-24T22:54:35.089Z"
   },
   {
    "duration": 291,
    "start_time": "2023-01-24T22:54:35.159Z"
   },
   {
    "duration": 172,
    "start_time": "2023-01-24T22:54:35.452Z"
   },
   {
    "duration": 16,
    "start_time": "2023-01-24T23:15:20.142Z"
   },
   {
    "duration": 1037,
    "start_time": "2023-01-25T07:36:58.757Z"
   },
   {
    "duration": 6922,
    "start_time": "2023-01-25T07:36:59.796Z"
   },
   {
    "duration": 90,
    "start_time": "2023-01-25T07:37:06.720Z"
   },
   {
    "duration": 18,
    "start_time": "2023-01-25T07:37:06.812Z"
   },
   {
    "duration": 4,
    "start_time": "2023-01-25T07:37:06.831Z"
   },
   {
    "duration": 24,
    "start_time": "2023-01-25T07:37:06.836Z"
   },
   {
    "duration": 32,
    "start_time": "2023-01-25T07:37:06.861Z"
   },
   {
    "duration": 35,
    "start_time": "2023-01-25T07:37:06.894Z"
   },
   {
    "duration": 8,
    "start_time": "2023-01-25T07:37:06.930Z"
   },
   {
    "duration": 21,
    "start_time": "2023-01-25T07:37:06.941Z"
   },
   {
    "duration": 118,
    "start_time": "2023-01-25T07:37:06.964Z"
   },
   {
    "duration": 0,
    "start_time": "2023-01-25T07:37:07.084Z"
   },
   {
    "duration": 0,
    "start_time": "2023-01-25T07:37:07.085Z"
   },
   {
    "duration": 0,
    "start_time": "2023-01-25T07:37:07.093Z"
   },
   {
    "duration": 0,
    "start_time": "2023-01-25T07:37:07.094Z"
   },
   {
    "duration": 0,
    "start_time": "2023-01-25T07:37:07.095Z"
   },
   {
    "duration": 0,
    "start_time": "2023-01-25T07:37:07.096Z"
   },
   {
    "duration": 0,
    "start_time": "2023-01-25T07:37:07.097Z"
   },
   {
    "duration": 0,
    "start_time": "2023-01-25T07:37:07.098Z"
   },
   {
    "duration": 0,
    "start_time": "2023-01-25T07:37:07.099Z"
   },
   {
    "duration": 0,
    "start_time": "2023-01-25T07:37:07.100Z"
   },
   {
    "duration": 0,
    "start_time": "2023-01-25T07:37:07.101Z"
   },
   {
    "duration": 0,
    "start_time": "2023-01-25T07:37:07.102Z"
   },
   {
    "duration": 0,
    "start_time": "2023-01-25T07:37:07.103Z"
   },
   {
    "duration": 0,
    "start_time": "2023-01-25T07:37:07.105Z"
   },
   {
    "duration": 0,
    "start_time": "2023-01-25T07:37:07.106Z"
   },
   {
    "duration": 0,
    "start_time": "2023-01-25T07:37:07.107Z"
   },
   {
    "duration": 0,
    "start_time": "2023-01-25T07:37:07.108Z"
   },
   {
    "duration": 0,
    "start_time": "2023-01-25T07:37:07.109Z"
   },
   {
    "duration": 0,
    "start_time": "2023-01-25T07:37:07.110Z"
   },
   {
    "duration": 0,
    "start_time": "2023-01-25T07:37:07.111Z"
   },
   {
    "duration": 0,
    "start_time": "2023-01-25T07:37:07.112Z"
   },
   {
    "duration": 0,
    "start_time": "2023-01-25T07:37:07.113Z"
   },
   {
    "duration": 0,
    "start_time": "2023-01-25T07:37:07.115Z"
   },
   {
    "duration": 1177,
    "start_time": "2023-01-25T07:37:35.430Z"
   },
   {
    "duration": 2379,
    "start_time": "2023-01-25T07:37:36.609Z"
   },
   {
    "duration": 50,
    "start_time": "2023-01-25T07:37:38.990Z"
   },
   {
    "duration": 19,
    "start_time": "2023-01-25T07:37:39.042Z"
   },
   {
    "duration": 4,
    "start_time": "2023-01-25T07:37:39.062Z"
   },
   {
    "duration": 21,
    "start_time": "2023-01-25T07:37:39.068Z"
   },
   {
    "duration": 28,
    "start_time": "2023-01-25T07:37:39.090Z"
   },
   {
    "duration": 37,
    "start_time": "2023-01-25T07:37:39.120Z"
   },
   {
    "duration": 8,
    "start_time": "2023-01-25T07:37:39.159Z"
   },
   {
    "duration": 37,
    "start_time": "2023-01-25T07:37:39.169Z"
   },
   {
    "duration": 12,
    "start_time": "2023-01-25T07:37:39.208Z"
   },
   {
    "duration": 22,
    "start_time": "2023-01-25T07:37:39.221Z"
   },
   {
    "duration": 2,
    "start_time": "2023-01-25T07:37:39.245Z"
   },
   {
    "duration": 457,
    "start_time": "2023-01-25T07:37:39.248Z"
   },
   {
    "duration": 12496,
    "start_time": "2023-01-25T07:37:39.707Z"
   },
   {
    "duration": 291,
    "start_time": "2023-01-25T07:37:52.204Z"
   },
   {
    "duration": 125,
    "start_time": "2023-01-25T07:37:52.497Z"
   },
   {
    "duration": 10,
    "start_time": "2023-01-25T07:37:52.624Z"
   },
   {
    "duration": 464,
    "start_time": "2023-01-25T07:37:52.636Z"
   },
   {
    "duration": 12501,
    "start_time": "2023-01-25T07:37:53.102Z"
   },
   {
    "duration": 95,
    "start_time": "2023-01-25T07:38:05.605Z"
   },
   {
    "duration": 228,
    "start_time": "2023-01-25T07:38:05.703Z"
   },
   {
    "duration": 6,
    "start_time": "2023-01-25T07:38:05.932Z"
   },
   {
    "duration": 42,
    "start_time": "2023-01-25T07:38:05.939Z"
   },
   {
    "duration": 563,
    "start_time": "2023-01-25T07:38:05.983Z"
   },
   {
    "duration": 17051,
    "start_time": "2023-01-25T07:38:06.548Z"
   },
   {
    "duration": 194,
    "start_time": "2023-01-25T07:38:23.601Z"
   },
   {
    "duration": 196,
    "start_time": "2023-01-25T07:38:23.799Z"
   },
   {
    "duration": 21,
    "start_time": "2023-01-25T07:38:23.997Z"
   },
   {
    "duration": 381,
    "start_time": "2023-01-25T07:38:24.020Z"
   },
   {
    "duration": 8234,
    "start_time": "2023-01-25T07:38:24.402Z"
   },
   {
    "duration": 169,
    "start_time": "2023-01-25T07:38:32.638Z"
   },
   {
    "duration": 208,
    "start_time": "2023-01-25T07:38:32.895Z"
   },
   {
    "duration": 176,
    "start_time": "2023-01-25T07:38:33.105Z"
   },
   {
    "duration": 1209,
    "start_time": "2023-01-25T17:07:12.964Z"
   },
   {
    "duration": 8236,
    "start_time": "2023-01-25T17:07:14.177Z"
   },
   {
    "duration": 103,
    "start_time": "2023-01-25T17:07:22.416Z"
   },
   {
    "duration": 22,
    "start_time": "2023-01-25T17:07:22.521Z"
   },
   {
    "duration": 66,
    "start_time": "2023-01-25T17:07:22.546Z"
   },
   {
    "duration": 46,
    "start_time": "2023-01-25T17:07:22.614Z"
   },
   {
    "duration": 40,
    "start_time": "2023-01-25T17:07:22.662Z"
   },
   {
    "duration": 58,
    "start_time": "2023-01-25T17:07:22.704Z"
   },
   {
    "duration": 16,
    "start_time": "2023-01-25T17:07:22.765Z"
   },
   {
    "duration": 33,
    "start_time": "2023-01-25T17:07:22.783Z"
   },
   {
    "duration": 129,
    "start_time": "2023-01-25T17:07:22.818Z"
   },
   {
    "duration": 0,
    "start_time": "2023-01-25T17:07:22.954Z"
   },
   {
    "duration": 0,
    "start_time": "2023-01-25T17:07:22.956Z"
   },
   {
    "duration": 0,
    "start_time": "2023-01-25T17:07:22.958Z"
   },
   {
    "duration": 0,
    "start_time": "2023-01-25T17:07:22.960Z"
   },
   {
    "duration": 0,
    "start_time": "2023-01-25T17:07:22.965Z"
   },
   {
    "duration": 0,
    "start_time": "2023-01-25T17:07:22.966Z"
   },
   {
    "duration": 0,
    "start_time": "2023-01-25T17:07:22.967Z"
   },
   {
    "duration": 0,
    "start_time": "2023-01-25T17:07:22.968Z"
   },
   {
    "duration": 0,
    "start_time": "2023-01-25T17:07:22.969Z"
   },
   {
    "duration": 0,
    "start_time": "2023-01-25T17:07:22.970Z"
   },
   {
    "duration": 0,
    "start_time": "2023-01-25T17:07:22.971Z"
   },
   {
    "duration": 0,
    "start_time": "2023-01-25T17:07:22.973Z"
   },
   {
    "duration": 0,
    "start_time": "2023-01-25T17:07:22.975Z"
   },
   {
    "duration": 0,
    "start_time": "2023-01-25T17:07:22.976Z"
   },
   {
    "duration": 0,
    "start_time": "2023-01-25T17:07:22.978Z"
   },
   {
    "duration": 0,
    "start_time": "2023-01-25T17:07:22.979Z"
   },
   {
    "duration": 0,
    "start_time": "2023-01-25T17:07:22.981Z"
   },
   {
    "duration": 0,
    "start_time": "2023-01-25T17:07:22.982Z"
   },
   {
    "duration": 0,
    "start_time": "2023-01-25T17:07:22.983Z"
   },
   {
    "duration": 0,
    "start_time": "2023-01-25T17:07:22.984Z"
   },
   {
    "duration": 0,
    "start_time": "2023-01-25T17:07:22.985Z"
   },
   {
    "duration": 0,
    "start_time": "2023-01-25T17:07:22.986Z"
   },
   {
    "duration": 0,
    "start_time": "2023-01-25T17:07:22.987Z"
   },
   {
    "duration": 951,
    "start_time": "2023-01-25T17:08:21.034Z"
   },
   {
    "duration": 2452,
    "start_time": "2023-01-25T17:08:21.987Z"
   },
   {
    "duration": 56,
    "start_time": "2023-01-25T17:08:24.442Z"
   },
   {
    "duration": 20,
    "start_time": "2023-01-25T17:08:24.500Z"
   },
   {
    "duration": 16,
    "start_time": "2023-01-25T17:08:24.521Z"
   },
   {
    "duration": 38,
    "start_time": "2023-01-25T17:08:24.538Z"
   },
   {
    "duration": 33,
    "start_time": "2023-01-25T17:08:24.578Z"
   },
   {
    "duration": 70,
    "start_time": "2023-01-25T17:08:24.613Z"
   },
   {
    "duration": 9,
    "start_time": "2023-01-25T17:08:24.685Z"
   },
   {
    "duration": 55,
    "start_time": "2023-01-25T17:08:24.697Z"
   },
   {
    "duration": 27,
    "start_time": "2023-01-25T17:08:24.754Z"
   },
   {
    "duration": 38,
    "start_time": "2023-01-25T17:08:24.782Z"
   },
   {
    "duration": 12,
    "start_time": "2023-01-25T17:08:24.822Z"
   },
   {
    "duration": 511,
    "start_time": "2023-01-25T17:08:24.836Z"
   },
   {
    "duration": 14654,
    "start_time": "2023-01-25T17:08:25.353Z"
   },
   {
    "duration": 847,
    "start_time": "2023-01-25T17:08:40.008Z"
   },
   {
    "duration": 138,
    "start_time": "2023-01-25T17:08:40.858Z"
   },
   {
    "duration": 16,
    "start_time": "2023-01-25T17:08:40.998Z"
   },
   {
    "duration": 553,
    "start_time": "2023-01-25T17:08:41.015Z"
   },
   {
    "duration": 15757,
    "start_time": "2023-01-25T17:08:41.570Z"
   },
   {
    "duration": 944,
    "start_time": "2023-01-25T17:08:57.328Z"
   },
   {
    "duration": 71,
    "start_time": "2023-01-25T17:08:58.354Z"
   },
   {
    "duration": 5,
    "start_time": "2023-01-25T17:08:58.427Z"
   },
   {
    "duration": 25,
    "start_time": "2023-01-25T17:08:58.453Z"
   },
   {
    "duration": 625,
    "start_time": "2023-01-25T17:08:58.479Z"
   },
   {
    "duration": 20323,
    "start_time": "2023-01-25T17:08:59.105Z"
   },
   {
    "duration": 336,
    "start_time": "2023-01-25T17:09:19.430Z"
   },
   {
    "duration": 263,
    "start_time": "2023-01-25T17:09:19.772Z"
   },
   {
    "duration": 33,
    "start_time": "2023-01-25T17:09:20.038Z"
   },
   {
    "duration": 337,
    "start_time": "2023-01-25T17:09:20.073Z"
   },
   {
    "duration": 9398,
    "start_time": "2023-01-25T17:09:20.417Z"
   },
   {
    "duration": 350,
    "start_time": "2023-01-25T17:09:29.817Z"
   },
   {
    "duration": 313,
    "start_time": "2023-01-25T17:09:30.172Z"
   },
   {
    "duration": 215,
    "start_time": "2023-01-25T17:09:30.487Z"
   }
  ],
  "kernelspec": {
   "display_name": "Python 3 (ipykernel)",
   "language": "python",
   "name": "python3"
  },
  "language_info": {
   "codemirror_mode": {
    "name": "ipython",
    "version": 3
   },
   "file_extension": ".py",
   "mimetype": "text/x-python",
   "name": "python",
   "nbconvert_exporter": "python",
   "pygments_lexer": "ipython3",
   "version": "3.9.12"
  },
  "toc": {
   "base_numbering": 1,
   "nav_menu": {},
   "number_sections": true,
   "sideBar": true,
   "skip_h1_title": true,
   "title_cell": "Содержание",
   "title_sidebar": "Contents",
   "toc_cell": true,
   "toc_position": {
    "height": "calc(100% - 180px)",
    "left": "10px",
    "top": "150px",
    "width": "384px"
   },
   "toc_section_display": true,
   "toc_window_display": true
  }
 },
 "nbformat": 4,
 "nbformat_minor": 2
}
