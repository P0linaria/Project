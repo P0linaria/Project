{
 "cells": [
  {
   "cell_type": "markdown",
   "metadata": {},
   "source": [
    "# Исследование объявлений о продаже квартир\n",
    "\n",
    "В вашем распоряжении данные сервиса Яндекс.Недвижимость — архив объявлений о продаже квартир в Санкт-Петербурге и соседних населённых пунктов за несколько лет. Нужно научиться определять рыночную стоимость объектов недвижимости. Ваша задача — установить параметры. Это позволит построить автоматизированную систему: она отследит аномалии и мошенническую деятельность. \n",
    "\n",
    "По каждой квартире на продажу доступны два вида данных. Первые вписаны пользователем, вторые — получены автоматически на основе картографических данных. Например, расстояние до центра, аэропорта, ближайшего парка и водоёма. "
   ]
  },
  {
   "cell_type": "code",
   "execution_count": 1,
   "metadata": {},
   "outputs": [],
   "source": [
    "import pandas as pd\n",
    "import matplotlib.pyplot as plt"
   ]
  },
  {
   "cell_type": "markdown",
   "metadata": {},
   "source": [
    "### Изучение данных"
   ]
  },
  {
   "cell_type": "code",
   "execution_count": 3,
   "metadata": {},
   "outputs": [
    {
     "data": {
      "text/html": [
       "<div>\n",
       "<style scoped>\n",
       "    .dataframe tbody tr th:only-of-type {\n",
       "        vertical-align: middle;\n",
       "    }\n",
       "\n",
       "    .dataframe tbody tr th {\n",
       "        vertical-align: top;\n",
       "    }\n",
       "\n",
       "    .dataframe thead th {\n",
       "        text-align: right;\n",
       "    }\n",
       "</style>\n",
       "<table border=\"1\" class=\"dataframe\">\n",
       "  <thead>\n",
       "    <tr style=\"text-align: right;\">\n",
       "      <th></th>\n",
       "      <th>total_images</th>\n",
       "      <th>last_price</th>\n",
       "      <th>total_area</th>\n",
       "      <th>first_day_exposition</th>\n",
       "      <th>rooms</th>\n",
       "      <th>ceiling_height</th>\n",
       "      <th>floors_total</th>\n",
       "      <th>living_area</th>\n",
       "      <th>floor</th>\n",
       "      <th>is_apartment</th>\n",
       "      <th>...</th>\n",
       "      <th>kitchen_area</th>\n",
       "      <th>balcony</th>\n",
       "      <th>locality_name</th>\n",
       "      <th>airports_nearest</th>\n",
       "      <th>cityCenters_nearest</th>\n",
       "      <th>parks_around3000</th>\n",
       "      <th>parks_nearest</th>\n",
       "      <th>ponds_around3000</th>\n",
       "      <th>ponds_nearest</th>\n",
       "      <th>days_exposition</th>\n",
       "    </tr>\n",
       "  </thead>\n",
       "  <tbody>\n",
       "    <tr>\n",
       "      <th>0</th>\n",
       "      <td>20</td>\n",
       "      <td>13000000.0</td>\n",
       "      <td>108.0</td>\n",
       "      <td>2019-03-07T00:00:00</td>\n",
       "      <td>3</td>\n",
       "      <td>2.70</td>\n",
       "      <td>16.0</td>\n",
       "      <td>51.0</td>\n",
       "      <td>8</td>\n",
       "      <td>NaN</td>\n",
       "      <td>...</td>\n",
       "      <td>25.0</td>\n",
       "      <td>NaN</td>\n",
       "      <td>Санкт-Петербург</td>\n",
       "      <td>18863.0</td>\n",
       "      <td>16028.0</td>\n",
       "      <td>1.0</td>\n",
       "      <td>482.0</td>\n",
       "      <td>2.0</td>\n",
       "      <td>755.0</td>\n",
       "      <td>NaN</td>\n",
       "    </tr>\n",
       "    <tr>\n",
       "      <th>1</th>\n",
       "      <td>7</td>\n",
       "      <td>3350000.0</td>\n",
       "      <td>40.4</td>\n",
       "      <td>2018-12-04T00:00:00</td>\n",
       "      <td>1</td>\n",
       "      <td>NaN</td>\n",
       "      <td>11.0</td>\n",
       "      <td>18.6</td>\n",
       "      <td>1</td>\n",
       "      <td>NaN</td>\n",
       "      <td>...</td>\n",
       "      <td>11.0</td>\n",
       "      <td>2.0</td>\n",
       "      <td>посёлок Шушары</td>\n",
       "      <td>12817.0</td>\n",
       "      <td>18603.0</td>\n",
       "      <td>0.0</td>\n",
       "      <td>NaN</td>\n",
       "      <td>0.0</td>\n",
       "      <td>NaN</td>\n",
       "      <td>81.0</td>\n",
       "    </tr>\n",
       "    <tr>\n",
       "      <th>2</th>\n",
       "      <td>10</td>\n",
       "      <td>5196000.0</td>\n",
       "      <td>56.0</td>\n",
       "      <td>2015-08-20T00:00:00</td>\n",
       "      <td>2</td>\n",
       "      <td>NaN</td>\n",
       "      <td>5.0</td>\n",
       "      <td>34.3</td>\n",
       "      <td>4</td>\n",
       "      <td>NaN</td>\n",
       "      <td>...</td>\n",
       "      <td>8.3</td>\n",
       "      <td>0.0</td>\n",
       "      <td>Санкт-Петербург</td>\n",
       "      <td>21741.0</td>\n",
       "      <td>13933.0</td>\n",
       "      <td>1.0</td>\n",
       "      <td>90.0</td>\n",
       "      <td>2.0</td>\n",
       "      <td>574.0</td>\n",
       "      <td>558.0</td>\n",
       "    </tr>\n",
       "    <tr>\n",
       "      <th>3</th>\n",
       "      <td>0</td>\n",
       "      <td>64900000.0</td>\n",
       "      <td>159.0</td>\n",
       "      <td>2015-07-24T00:00:00</td>\n",
       "      <td>3</td>\n",
       "      <td>NaN</td>\n",
       "      <td>14.0</td>\n",
       "      <td>NaN</td>\n",
       "      <td>9</td>\n",
       "      <td>NaN</td>\n",
       "      <td>...</td>\n",
       "      <td>NaN</td>\n",
       "      <td>0.0</td>\n",
       "      <td>Санкт-Петербург</td>\n",
       "      <td>28098.0</td>\n",
       "      <td>6800.0</td>\n",
       "      <td>2.0</td>\n",
       "      <td>84.0</td>\n",
       "      <td>3.0</td>\n",
       "      <td>234.0</td>\n",
       "      <td>424.0</td>\n",
       "    </tr>\n",
       "    <tr>\n",
       "      <th>4</th>\n",
       "      <td>2</td>\n",
       "      <td>10000000.0</td>\n",
       "      <td>100.0</td>\n",
       "      <td>2018-06-19T00:00:00</td>\n",
       "      <td>2</td>\n",
       "      <td>3.03</td>\n",
       "      <td>14.0</td>\n",
       "      <td>32.0</td>\n",
       "      <td>13</td>\n",
       "      <td>NaN</td>\n",
       "      <td>...</td>\n",
       "      <td>41.0</td>\n",
       "      <td>NaN</td>\n",
       "      <td>Санкт-Петербург</td>\n",
       "      <td>31856.0</td>\n",
       "      <td>8098.0</td>\n",
       "      <td>2.0</td>\n",
       "      <td>112.0</td>\n",
       "      <td>1.0</td>\n",
       "      <td>48.0</td>\n",
       "      <td>121.0</td>\n",
       "    </tr>\n",
       "  </tbody>\n",
       "</table>\n",
       "<p>5 rows × 22 columns</p>\n",
       "</div>"
      ],
      "text/plain": [
       "   total_images  last_price  total_area first_day_exposition  rooms  \\\n",
       "0            20  13000000.0       108.0  2019-03-07T00:00:00      3   \n",
       "1             7   3350000.0        40.4  2018-12-04T00:00:00      1   \n",
       "2            10   5196000.0        56.0  2015-08-20T00:00:00      2   \n",
       "3             0  64900000.0       159.0  2015-07-24T00:00:00      3   \n",
       "4             2  10000000.0       100.0  2018-06-19T00:00:00      2   \n",
       "\n",
       "   ceiling_height  floors_total  living_area  floor is_apartment  ...  \\\n",
       "0            2.70          16.0         51.0      8          NaN  ...   \n",
       "1             NaN          11.0         18.6      1          NaN  ...   \n",
       "2             NaN           5.0         34.3      4          NaN  ...   \n",
       "3             NaN          14.0          NaN      9          NaN  ...   \n",
       "4            3.03          14.0         32.0     13          NaN  ...   \n",
       "\n",
       "   kitchen_area  balcony    locality_name  airports_nearest  \\\n",
       "0          25.0      NaN  Санкт-Петербург           18863.0   \n",
       "1          11.0      2.0   посёлок Шушары           12817.0   \n",
       "2           8.3      0.0  Санкт-Петербург           21741.0   \n",
       "3           NaN      0.0  Санкт-Петербург           28098.0   \n",
       "4          41.0      NaN  Санкт-Петербург           31856.0   \n",
       "\n",
       "  cityCenters_nearest  parks_around3000  parks_nearest  ponds_around3000  \\\n",
       "0             16028.0               1.0          482.0               2.0   \n",
       "1             18603.0               0.0            NaN               0.0   \n",
       "2             13933.0               1.0           90.0               2.0   \n",
       "3              6800.0               2.0           84.0               3.0   \n",
       "4              8098.0               2.0          112.0               1.0   \n",
       "\n",
       "   ponds_nearest  days_exposition  \n",
       "0          755.0              NaN  \n",
       "1            NaN             81.0  \n",
       "2          574.0            558.0  \n",
       "3          234.0            424.0  \n",
       "4           48.0            121.0  \n",
       "\n",
       "[5 rows x 22 columns]"
      ]
     },
     "execution_count": 3,
     "metadata": {},
     "output_type": "execute_result"
    }
   ],
   "source": [
    "data = pd.read_csv('real_estate_data.csv', sep = '\\t')\n",
    "data.head()"
   ]
  },
  {
   "cell_type": "code",
   "execution_count": 4,
   "metadata": {},
   "outputs": [
    {
     "name": "stdout",
     "output_type": "stream",
     "text": [
      "<class 'pandas.core.frame.DataFrame'>\n",
      "RangeIndex: 23699 entries, 0 to 23698\n",
      "Data columns (total 22 columns):\n",
      " #   Column                Non-Null Count  Dtype  \n",
      "---  ------                --------------  -----  \n",
      " 0   total_images          23699 non-null  int64  \n",
      " 1   last_price            23699 non-null  float64\n",
      " 2   total_area            23699 non-null  float64\n",
      " 3   first_day_exposition  23699 non-null  object \n",
      " 4   rooms                 23699 non-null  int64  \n",
      " 5   ceiling_height        14504 non-null  float64\n",
      " 6   floors_total          23613 non-null  float64\n",
      " 7   living_area           21796 non-null  float64\n",
      " 8   floor                 23699 non-null  int64  \n",
      " 9   is_apartment          2775 non-null   object \n",
      " 10  studio                23699 non-null  bool   \n",
      " 11  open_plan             23699 non-null  bool   \n",
      " 12  kitchen_area          21421 non-null  float64\n",
      " 13  balcony               12180 non-null  float64\n",
      " 14  locality_name         23650 non-null  object \n",
      " 15  airports_nearest      18157 non-null  float64\n",
      " 16  cityCenters_nearest   18180 non-null  float64\n",
      " 17  parks_around3000      18181 non-null  float64\n",
      " 18  parks_nearest         8079 non-null   float64\n",
      " 19  ponds_around3000      18181 non-null  float64\n",
      " 20  ponds_nearest         9110 non-null   float64\n",
      " 21  days_exposition       20518 non-null  float64\n",
      "dtypes: bool(2), float64(14), int64(3), object(3)\n",
      "memory usage: 3.7+ MB\n"
     ]
    }
   ],
   "source": [
    "data.info()"
   ]
  },
  {
   "cell_type": "code",
   "execution_count": 5,
   "metadata": {},
   "outputs": [
    {
     "data": {
      "text/plain": [
       "<function matplotlib.pyplot.show(close=None, block=None)>"
      ]
     },
     "execution_count": 5,
     "metadata": {},
     "output_type": "execute_result"
    },
    {
     "data": {
      "image/png": "[encoded data removed]",
      "text/plain": [
       "<Figure size 1080x1440 with 20 Axes>"
      ]
     },
     "metadata": {
      "needs_background": "light"
     },
     "output_type": "display_data"
    }
   ],
   "source": [
    "data.hist(figsize=(15, 20))\n",
    "plt.show"
   ]
  },
  {
   "cell_type": "markdown",
   "metadata": {},
   "source": [
    "### Предобработка данных"
   ]
  },
  {
   "cell_type": "markdown",
   "metadata": {},
   "source": [
    "#### Пропущенные значения"
   ]
  },
  {
   "cell_type": "code",
   "execution_count": 6,
   "metadata": {},
   "outputs": [
    {
     "data": {
      "text/plain": [
       "total_images                0\n",
       "last_price                  0\n",
       "total_area                  0\n",
       "first_day_exposition        0\n",
       "rooms                       0\n",
       "ceiling_height           9195\n",
       "floors_total               86\n",
       "living_area              1903\n",
       "floor                       0\n",
       "is_apartment            20924\n",
       "studio                      0\n",
       "open_plan                   0\n",
       "kitchen_area             2278\n",
       "balcony                 11519\n",
       "locality_name              49\n",
       "airports_nearest         5542\n",
       "cityCenters_nearest      5519\n",
       "parks_around3000         5518\n",
       "parks_nearest           15620\n",
       "ponds_around3000         5518\n",
       "ponds_nearest           14589\n",
       "days_exposition          3181\n",
       "dtype: int64"
      ]
     },
     "execution_count": 6,
     "metadata": {},
     "output_type": "execute_result"
    }
   ],
   "source": [
    "data.isna().sum()"
   ]
  },
  {
   "cell_type": "code",
   "execution_count": 7,
   "metadata": {},
   "outputs": [
    {
     "data": {
      "text/html": [
       "<style type=\"text/css\">\n",
       "#T_a997d_row0_col0, #T_a997d_row1_col0, #T_a997d_row2_col0, #T_a997d_row3_col0, #T_a997d_row4_col0, #T_a997d_row6_col0, #T_a997d_row8_col0, #T_a997d_row10_col0, #T_a997d_row11_col0, #T_a997d_row14_col0 {\n",
       "  background-color: #3b4cc0;\n",
       "  color: #f1f1f1;\n",
       "}\n",
       "#T_a997d_row5_col0 {\n",
       "  background-color: #cdd9ec;\n",
       "  color: #000000;\n",
       "}\n",
       "#T_a997d_row7_col0 {\n",
       "  background-color: #5673e0;\n",
       "  color: #f1f1f1;\n",
       "}\n",
       "#T_a997d_row9_col0 {\n",
       "  background-color: #b40426;\n",
       "  color: #f1f1f1;\n",
       "}\n",
       "#T_a997d_row12_col0 {\n",
       "  background-color: #5e7de7;\n",
       "  color: #f1f1f1;\n",
       "}\n",
       "#T_a997d_row13_col0 {\n",
       "  background-color: #ead4c8;\n",
       "  color: #000000;\n",
       "}\n",
       "#T_a997d_row15_col0, #T_a997d_row16_col0, #T_a997d_row17_col0, #T_a997d_row19_col0 {\n",
       "  background-color: #90b2fe;\n",
       "  color: #000000;\n",
       "}\n",
       "#T_a997d_row18_col0 {\n",
       "  background-color: #f4987a;\n",
       "  color: #000000;\n",
       "}\n",
       "#T_a997d_row20_col0 {\n",
       "  background-color: #f7aa8c;\n",
       "  color: #000000;\n",
       "}\n",
       "#T_a997d_row21_col0 {\n",
       "  background-color: #688aef;\n",
       "  color: #f1f1f1;\n",
       "}\n",
       "</style>\n",
       "<table id=\"T_a997d\">\n",
       "  <thead>\n",
       "    <tr>\n",
       "      <th class=\"blank level0\" >&nbsp;</th>\n",
       "      <th id=\"T_a997d_level0_col0\" class=\"col_heading level0 col0\" >0</th>\n",
       "    </tr>\n",
       "  </thead>\n",
       "  <tbody>\n",
       "    <tr>\n",
       "      <th id=\"T_a997d_level0_row0\" class=\"row_heading level0 row0\" >total_images</th>\n",
       "      <td id=\"T_a997d_row0_col0\" class=\"data row0 col0\" >0.000000</td>\n",
       "    </tr>\n",
       "    <tr>\n",
       "      <th id=\"T_a997d_level0_row1\" class=\"row_heading level0 row1\" >last_price</th>\n",
       "      <td id=\"T_a997d_row1_col0\" class=\"data row1 col0\" >0.000000</td>\n",
       "    </tr>\n",
       "    <tr>\n",
       "      <th id=\"T_a997d_level0_row2\" class=\"row_heading level0 row2\" >total_area</th>\n",
       "      <td id=\"T_a997d_row2_col0\" class=\"data row2 col0\" >0.000000</td>\n",
       "    </tr>\n",
       "    <tr>\n",
       "      <th id=\"T_a997d_level0_row3\" class=\"row_heading level0 row3\" >first_day_exposition</th>\n",
       "      <td id=\"T_a997d_row3_col0\" class=\"data row3 col0\" >0.000000</td>\n",
       "    </tr>\n",
       "    <tr>\n",
       "      <th id=\"T_a997d_level0_row4\" class=\"row_heading level0 row4\" >rooms</th>\n",
       "      <td id=\"T_a997d_row4_col0\" class=\"data row4 col0\" >0.000000</td>\n",
       "    </tr>\n",
       "    <tr>\n",
       "      <th id=\"T_a997d_level0_row5\" class=\"row_heading level0 row5\" >ceiling_height</th>\n",
       "      <td id=\"T_a997d_row5_col0\" class=\"data row5 col0\" >39.000000</td>\n",
       "    </tr>\n",
       "    <tr>\n",
       "      <th id=\"T_a997d_level0_row6\" class=\"row_heading level0 row6\" >floors_total</th>\n",
       "      <td id=\"T_a997d_row6_col0\" class=\"data row6 col0\" >0.000000</td>\n",
       "    </tr>\n",
       "    <tr>\n",
       "      <th id=\"T_a997d_level0_row7\" class=\"row_heading level0 row7\" >living_area</th>\n",
       "      <td id=\"T_a997d_row7_col0\" class=\"data row7 col0\" >8.000000</td>\n",
       "    </tr>\n",
       "    <tr>\n",
       "      <th id=\"T_a997d_level0_row8\" class=\"row_heading level0 row8\" >floor</th>\n",
       "      <td id=\"T_a997d_row8_col0\" class=\"data row8 col0\" >0.000000</td>\n",
       "    </tr>\n",
       "    <tr>\n",
       "      <th id=\"T_a997d_level0_row9\" class=\"row_heading level0 row9\" >is_apartment</th>\n",
       "      <td id=\"T_a997d_row9_col0\" class=\"data row9 col0\" >88.000000</td>\n",
       "    </tr>\n",
       "    <tr>\n",
       "      <th id=\"T_a997d_level0_row10\" class=\"row_heading level0 row10\" >studio</th>\n",
       "      <td id=\"T_a997d_row10_col0\" class=\"data row10 col0\" >0.000000</td>\n",
       "    </tr>\n",
       "    <tr>\n",
       "      <th id=\"T_a997d_level0_row11\" class=\"row_heading level0 row11\" >open_plan</th>\n",
       "      <td id=\"T_a997d_row11_col0\" class=\"data row11 col0\" >0.000000</td>\n",
       "    </tr>\n",
       "    <tr>\n",
       "      <th id=\"T_a997d_level0_row12\" class=\"row_heading level0 row12\" >kitchen_area</th>\n",
       "      <td id=\"T_a997d_row12_col0\" class=\"data row12 col0\" >10.000000</td>\n",
       "    </tr>\n",
       "    <tr>\n",
       "      <th id=\"T_a997d_level0_row13\" class=\"row_heading level0 row13\" >balcony</th>\n",
       "      <td id=\"T_a997d_row13_col0\" class=\"data row13 col0\" >49.000000</td>\n",
       "    </tr>\n",
       "    <tr>\n",
       "      <th id=\"T_a997d_level0_row14\" class=\"row_heading level0 row14\" >locality_name</th>\n",
       "      <td id=\"T_a997d_row14_col0\" class=\"data row14 col0\" >0.000000</td>\n",
       "    </tr>\n",
       "    <tr>\n",
       "      <th id=\"T_a997d_level0_row15\" class=\"row_heading level0 row15\" >airports_nearest</th>\n",
       "      <td id=\"T_a997d_row15_col0\" class=\"data row15 col0\" >23.000000</td>\n",
       "    </tr>\n",
       "    <tr>\n",
       "      <th id=\"T_a997d_level0_row16\" class=\"row_heading level0 row16\" >cityCenters_nearest</th>\n",
       "      <td id=\"T_a997d_row16_col0\" class=\"data row16 col0\" >23.000000</td>\n",
       "    </tr>\n",
       "    <tr>\n",
       "      <th id=\"T_a997d_level0_row17\" class=\"row_heading level0 row17\" >parks_around3000</th>\n",
       "      <td id=\"T_a997d_row17_col0\" class=\"data row17 col0\" >23.000000</td>\n",
       "    </tr>\n",
       "    <tr>\n",
       "      <th id=\"T_a997d_level0_row18\" class=\"row_heading level0 row18\" >parks_nearest</th>\n",
       "      <td id=\"T_a997d_row18_col0\" class=\"data row18 col0\" >66.000000</td>\n",
       "    </tr>\n",
       "    <tr>\n",
       "      <th id=\"T_a997d_level0_row19\" class=\"row_heading level0 row19\" >ponds_around3000</th>\n",
       "      <td id=\"T_a997d_row19_col0\" class=\"data row19 col0\" >23.000000</td>\n",
       "    </tr>\n",
       "    <tr>\n",
       "      <th id=\"T_a997d_level0_row20\" class=\"row_heading level0 row20\" >ponds_nearest</th>\n",
       "      <td id=\"T_a997d_row20_col0\" class=\"data row20 col0\" >62.000000</td>\n",
       "    </tr>\n",
       "    <tr>\n",
       "      <th id=\"T_a997d_level0_row21\" class=\"row_heading level0 row21\" >days_exposition</th>\n",
       "      <td id=\"T_a997d_row21_col0\" class=\"data row21 col0\" >13.000000</td>\n",
       "    </tr>\n",
       "  </tbody>\n",
       "</table>\n"
      ],
      "text/plain": [
       "<pandas.io.formats.style.Styler at 0x2129ea402e0>"
      ]
     },
     "execution_count": 7,
     "metadata": {},
     "output_type": "execute_result"
    }
   ],
   "source": [
    "pd.DataFrame(round(data.isna().mean()*100,)).style.background_gradient('coolwarm')"
   ]
  },
  {
   "cell_type": "code",
   "execution_count": 8,
   "metadata": {},
   "outputs": [
    {
     "data": {
      "text/plain": [
       "0.9395373338721495"
      ]
     },
     "metadata": {},
     "output_type": "display_data"
    },
    {
     "data": {
      "text/plain": [
       "0.8459774567888595"
      ]
     },
     "execution_count": 8,
     "metadata": {},
     "output_type": "execute_result"
    }
   ],
   "source": [
    "display(data['living_area'].corr(other = data['total_area']))\n",
    "data['living_area'].corr(other = data['rooms'])"
   ]
  },
  {
   "cell_type": "code",
   "execution_count": 9,
   "metadata": {},
   "outputs": [],
   "source": [
    "data['living_area'] = data['living_area'].fillna(data.groupby('total_area')['living_area'].transform('median'))\n",
    "#так как заполнились не все значения, потому что нужная полная площадь отсутсвует, воспользуемся еще количеством комнат\n",
    "data['living_area'] = data['living_area'].fillna(data.groupby('rooms')['living_area'].transform('median'))"
   ]
  },
  {
   "cell_type": "code",
   "execution_count": 10,
   "metadata": {},
   "outputs": [
    {
     "data": {
      "text/plain": [
       "False    2725\n",
       "True       50\n",
       "Name: is_apartment, dtype: int64"
      ]
     },
     "execution_count": 10,
     "metadata": {},
     "output_type": "execute_result"
    }
   ],
   "source": [
    "data['is_apartment'].value_counts()"
   ]
  },
  {
   "cell_type": "code",
   "execution_count": 11,
   "metadata": {},
   "outputs": [],
   "source": [
    "data['is_apartment'] = data['is_apartment'].fillna(False) #Скорее всего данные не были внесены, так как помещение не является апартаментами"
   ]
  },
  {
   "cell_type": "code",
   "execution_count": 12,
   "metadata": {},
   "outputs": [],
   "source": [
    "data['balcony'] = data['balcony'].fillna(0) #отсутствие балкона\n",
    "data['parks_around3000'] = data['parks_around3000'].fillna(0) #отсутствие парков в округе\n",
    "data['ponds_around3000'] = data['ponds_around3000'].fillna(0) #отсутствие водоемов в округе\n",
    "data['kitchen_area'] = data['kitchen_area'].fillna(0) #предположим, что кухни в помещении нет, поэтому площадь ее 0"
   ]
  },
  {
   "cell_type": "code",
   "execution_count": 13,
   "metadata": {},
   "outputs": [],
   "source": [
    "data['floors_total'] = data['floors_total'].fillna(-1) \n",
    "data['airports_nearest'] = data['airports_nearest'].fillna(-1) \n",
    "data['cityCenters_nearest'] = data['cityCenters_nearest'].fillna(-1) \n",
    "data['parks_nearest'] = data['parks_nearest'].fillna(-1) \n",
    "data['ponds_nearest'] = data['ponds_nearest'].fillna(-1) \n",
    "data['days_exposition'] = data['days_exposition'].fillna(-1) "
   ]
  },
  {
   "cell_type": "markdown",
   "metadata": {},
   "source": [
    "ceiling_height - высота потолков. Нельзя заполнить достоверно, сильно исказятся данные. Еще есть сильные выбросы, для начала нужно исправить их, потом еще можно подумать о заполненнии пропусков медианой. Не указал пользователь, технический сбой\n",
    "\n",
    "floors_total - количество этажей в доме. Нельзя заполнить средним значением или этажем на котором расположена квартира, так как это сильно искозит данные. Пропуски могли возникнуть, если их не заполнил пользователь или из-за потере при форматировании данных. Чтобы не исказить данные, заполним пропуски -1\n",
    "\n",
    "locality_name - название населенного пункта. Нельзя заполнить. Не внесены данные пользователем или технический сбой.\n",
    "\n",
    "airports_nearest, cityCenters_nearest, parks_nearest, ponds_nearest - расстояние до аэропорта, центра города, парка, водоема. Нельзя заполнить достоверно. Техническая ошибка, так как данные должны заполняться автоматически. Пользователь не указал данные необходимые для автоматического заполнения. Заполним данные значения -1\n",
    "\n",
    "days_exposition - кол-во дней размещения объявления. Технические потери, нельзя заполнить достоверно. Заполним пропуски -1"
   ]
  },
  {
   "cell_type": "code",
   "execution_count": 14,
   "metadata": {},
   "outputs": [
    {
     "data": {
      "text/plain": [
       "total_images               0\n",
       "last_price                 0\n",
       "total_area                 0\n",
       "first_day_exposition       0\n",
       "rooms                      0\n",
       "ceiling_height          9195\n",
       "floors_total               0\n",
       "living_area                0\n",
       "floor                      0\n",
       "is_apartment               0\n",
       "studio                     0\n",
       "open_plan                  0\n",
       "kitchen_area               0\n",
       "balcony                    0\n",
       "locality_name             49\n",
       "airports_nearest           0\n",
       "cityCenters_nearest        0\n",
       "parks_around3000           0\n",
       "parks_nearest              0\n",
       "ponds_around3000           0\n",
       "ponds_nearest              0\n",
       "days_exposition            0\n",
       "dtype: int64"
      ]
     },
     "execution_count": 14,
     "metadata": {},
     "output_type": "execute_result"
    }
   ],
   "source": [
    "#Проверка данных\n",
    "data.isna().sum()"
   ]
  },
  {
   "cell_type": "markdown",
   "metadata": {},
   "source": [
    "#### Типы данных"
   ]
  },
  {
   "cell_type": "code",
   "execution_count": 15,
   "metadata": {},
   "outputs": [
    {
     "data": {
      "text/plain": [
       "total_images              int64\n",
       "last_price              float64\n",
       "total_area              float64\n",
       "first_day_exposition     object\n",
       "rooms                     int64\n",
       "ceiling_height          float64\n",
       "floors_total            float64\n",
       "living_area             float64\n",
       "floor                     int64\n",
       "is_apartment               bool\n",
       "studio                     bool\n",
       "open_plan                  bool\n",
       "kitchen_area            float64\n",
       "balcony                 float64\n",
       "locality_name            object\n",
       "airports_nearest        float64\n",
       "cityCenters_nearest     float64\n",
       "parks_around3000        float64\n",
       "parks_nearest           float64\n",
       "ponds_around3000        float64\n",
       "ponds_nearest           float64\n",
       "days_exposition         float64\n",
       "dtype: object"
      ]
     },
     "execution_count": 15,
     "metadata": {},
     "output_type": "execute_result"
    }
   ],
   "source": [
    "data.dtypes"
   ]
  },
  {
   "cell_type": "code",
   "execution_count": 16,
   "metadata": {},
   "outputs": [
    {
     "data": {
      "text/html": [
       "<div>\n",
       "<style scoped>\n",
       "    .dataframe tbody tr th:only-of-type {\n",
       "        vertical-align: middle;\n",
       "    }\n",
       "\n",
       "    .dataframe tbody tr th {\n",
       "        vertical-align: top;\n",
       "    }\n",
       "\n",
       "    .dataframe thead th {\n",
       "        text-align: right;\n",
       "    }\n",
       "</style>\n",
       "<table border=\"1\" class=\"dataframe\">\n",
       "  <thead>\n",
       "    <tr style=\"text-align: right;\">\n",
       "      <th></th>\n",
       "      <th>total_images</th>\n",
       "      <th>last_price</th>\n",
       "      <th>total_area</th>\n",
       "      <th>first_day_exposition</th>\n",
       "      <th>rooms</th>\n",
       "      <th>ceiling_height</th>\n",
       "      <th>floors_total</th>\n",
       "      <th>living_area</th>\n",
       "      <th>floor</th>\n",
       "      <th>is_apartment</th>\n",
       "      <th>...</th>\n",
       "      <th>kitchen_area</th>\n",
       "      <th>balcony</th>\n",
       "      <th>locality_name</th>\n",
       "      <th>airports_nearest</th>\n",
       "      <th>cityCenters_nearest</th>\n",
       "      <th>parks_around3000</th>\n",
       "      <th>parks_nearest</th>\n",
       "      <th>ponds_around3000</th>\n",
       "      <th>ponds_nearest</th>\n",
       "      <th>days_exposition</th>\n",
       "    </tr>\n",
       "  </thead>\n",
       "  <tbody>\n",
       "    <tr>\n",
       "      <th>0</th>\n",
       "      <td>20</td>\n",
       "      <td>13000000.0</td>\n",
       "      <td>108.0</td>\n",
       "      <td>2019-03-07T00:00:00</td>\n",
       "      <td>3</td>\n",
       "      <td>2.70</td>\n",
       "      <td>16.0</td>\n",
       "      <td>51.0</td>\n",
       "      <td>8</td>\n",
       "      <td>False</td>\n",
       "      <td>...</td>\n",
       "      <td>25.0</td>\n",
       "      <td>0.0</td>\n",
       "      <td>Санкт-Петербург</td>\n",
       "      <td>18863.0</td>\n",
       "      <td>16028.0</td>\n",
       "      <td>1.0</td>\n",
       "      <td>482.0</td>\n",
       "      <td>2.0</td>\n",
       "      <td>755.0</td>\n",
       "      <td>-1.0</td>\n",
       "    </tr>\n",
       "    <tr>\n",
       "      <th>1</th>\n",
       "      <td>7</td>\n",
       "      <td>3350000.0</td>\n",
       "      <td>40.4</td>\n",
       "      <td>2018-12-04T00:00:00</td>\n",
       "      <td>1</td>\n",
       "      <td>NaN</td>\n",
       "      <td>11.0</td>\n",
       "      <td>18.6</td>\n",
       "      <td>1</td>\n",
       "      <td>False</td>\n",
       "      <td>...</td>\n",
       "      <td>11.0</td>\n",
       "      <td>2.0</td>\n",
       "      <td>посёлок Шушары</td>\n",
       "      <td>12817.0</td>\n",
       "      <td>18603.0</td>\n",
       "      <td>0.0</td>\n",
       "      <td>-1.0</td>\n",
       "      <td>0.0</td>\n",
       "      <td>-1.0</td>\n",
       "      <td>81.0</td>\n",
       "    </tr>\n",
       "    <tr>\n",
       "      <th>2</th>\n",
       "      <td>10</td>\n",
       "      <td>5196000.0</td>\n",
       "      <td>56.0</td>\n",
       "      <td>2015-08-20T00:00:00</td>\n",
       "      <td>2</td>\n",
       "      <td>NaN</td>\n",
       "      <td>5.0</td>\n",
       "      <td>34.3</td>\n",
       "      <td>4</td>\n",
       "      <td>False</td>\n",
       "      <td>...</td>\n",
       "      <td>8.3</td>\n",
       "      <td>0.0</td>\n",
       "      <td>Санкт-Петербург</td>\n",
       "      <td>21741.0</td>\n",
       "      <td>13933.0</td>\n",
       "      <td>1.0</td>\n",
       "      <td>90.0</td>\n",
       "      <td>2.0</td>\n",
       "      <td>574.0</td>\n",
       "      <td>558.0</td>\n",
       "    </tr>\n",
       "    <tr>\n",
       "      <th>3</th>\n",
       "      <td>0</td>\n",
       "      <td>64900000.0</td>\n",
       "      <td>159.0</td>\n",
       "      <td>2015-07-24T00:00:00</td>\n",
       "      <td>3</td>\n",
       "      <td>NaN</td>\n",
       "      <td>14.0</td>\n",
       "      <td>95.0</td>\n",
       "      <td>9</td>\n",
       "      <td>False</td>\n",
       "      <td>...</td>\n",
       "      <td>0.0</td>\n",
       "      <td>0.0</td>\n",
       "      <td>Санкт-Петербург</td>\n",
       "      <td>28098.0</td>\n",
       "      <td>6800.0</td>\n",
       "      <td>2.0</td>\n",
       "      <td>84.0</td>\n",
       "      <td>3.0</td>\n",
       "      <td>234.0</td>\n",
       "      <td>424.0</td>\n",
       "    </tr>\n",
       "    <tr>\n",
       "      <th>4</th>\n",
       "      <td>2</td>\n",
       "      <td>10000000.0</td>\n",
       "      <td>100.0</td>\n",
       "      <td>2018-06-19T00:00:00</td>\n",
       "      <td>2</td>\n",
       "      <td>3.03</td>\n",
       "      <td>14.0</td>\n",
       "      <td>32.0</td>\n",
       "      <td>13</td>\n",
       "      <td>False</td>\n",
       "      <td>...</td>\n",
       "      <td>41.0</td>\n",
       "      <td>0.0</td>\n",
       "      <td>Санкт-Петербург</td>\n",
       "      <td>31856.0</td>\n",
       "      <td>8098.0</td>\n",
       "      <td>2.0</td>\n",
       "      <td>112.0</td>\n",
       "      <td>1.0</td>\n",
       "      <td>48.0</td>\n",
       "      <td>121.0</td>\n",
       "    </tr>\n",
       "  </tbody>\n",
       "</table>\n",
       "<p>5 rows × 22 columns</p>\n",
       "</div>"
      ],
      "text/plain": [
       "   total_images  last_price  total_area first_day_exposition  rooms  \\\n",
       "0            20  13000000.0       108.0  2019-03-07T00:00:00      3   \n",
       "1             7   3350000.0        40.4  2018-12-04T00:00:00      1   \n",
       "2            10   5196000.0        56.0  2015-08-20T00:00:00      2   \n",
       "3             0  64900000.0       159.0  2015-07-24T00:00:00      3   \n",
       "4             2  10000000.0       100.0  2018-06-19T00:00:00      2   \n",
       "\n",
       "   ceiling_height  floors_total  living_area  floor  is_apartment  ...  \\\n",
       "0            2.70          16.0         51.0      8         False  ...   \n",
       "1             NaN          11.0         18.6      1         False  ...   \n",
       "2             NaN           5.0         34.3      4         False  ...   \n",
       "3             NaN          14.0         95.0      9         False  ...   \n",
       "4            3.03          14.0         32.0     13         False  ...   \n",
       "\n",
       "   kitchen_area  balcony    locality_name  airports_nearest  \\\n",
       "0          25.0      0.0  Санкт-Петербург           18863.0   \n",
       "1          11.0      2.0   посёлок Шушары           12817.0   \n",
       "2           8.3      0.0  Санкт-Петербург           21741.0   \n",
       "3           0.0      0.0  Санкт-Петербург           28098.0   \n",
       "4          41.0      0.0  Санкт-Петербург           31856.0   \n",
       "\n",
       "  cityCenters_nearest  parks_around3000  parks_nearest  ponds_around3000  \\\n",
       "0             16028.0               1.0          482.0               2.0   \n",
       "1             18603.0               0.0           -1.0               0.0   \n",
       "2             13933.0               1.0           90.0               2.0   \n",
       "3              6800.0               2.0           84.0               3.0   \n",
       "4              8098.0               2.0          112.0               1.0   \n",
       "\n",
       "   ponds_nearest  days_exposition  \n",
       "0          755.0             -1.0  \n",
       "1           -1.0             81.0  \n",
       "2          574.0            558.0  \n",
       "3          234.0            424.0  \n",
       "4           48.0            121.0  \n",
       "\n",
       "[5 rows x 22 columns]"
      ]
     },
     "execution_count": 16,
     "metadata": {},
     "output_type": "execute_result"
    }
   ],
   "source": [
    "data.head()"
   ]
  },
  {
   "cell_type": "code",
   "execution_count": 17,
   "metadata": {},
   "outputs": [],
   "source": [
    "#Узнаем дробную часть в числе\n",
    "def after_dot(number):\n",
    "    count = 0\n",
    "    if number % 1 > 0:\n",
    "        count +=1\n",
    "    return count"
   ]
  },
  {
   "cell_type": "code",
   "execution_count": 18,
   "metadata": {},
   "outputs": [],
   "source": [
    "#Изменим данные типа float на int, где дробная часть равна 0\n",
    "for column in data.columns:\n",
    "    if data[column].dtypes == float:\n",
    "        if data[column].apply(after_dot).sum() == 0:\n",
    "            data[column] = data[column].astype('int')"
   ]
  },
  {
   "cell_type": "code",
   "execution_count": 19,
   "metadata": {},
   "outputs": [
    {
     "data": {
      "text/plain": [
       "total_images              int64\n",
       "last_price                int32\n",
       "total_area              float64\n",
       "first_day_exposition     object\n",
       "rooms                     int64\n",
       "ceiling_height          float64\n",
       "floors_total              int32\n",
       "living_area             float64\n",
       "floor                     int64\n",
       "is_apartment               bool\n",
       "studio                     bool\n",
       "open_plan                  bool\n",
       "kitchen_area            float64\n",
       "balcony                   int32\n",
       "locality_name            object\n",
       "airports_nearest          int32\n",
       "cityCenters_nearest       int32\n",
       "parks_around3000          int32\n",
       "parks_nearest             int32\n",
       "ponds_around3000          int32\n",
       "ponds_nearest             int32\n",
       "days_exposition         float64\n",
       "dtype: object"
      ]
     },
     "execution_count": 19,
     "metadata": {},
     "output_type": "execute_result"
    }
   ],
   "source": [
    "#проверим типы данных\n",
    "data.dtypes"
   ]
  },
  {
   "cell_type": "markdown",
   "metadata": {},
   "source": [
    "Последний столбец не изменился, хотя в нем записаны дни, проверим"
   ]
  },
  {
   "cell_type": "code",
   "execution_count": 20,
   "metadata": {},
   "outputs": [
    {
     "name": "stdout",
     "output_type": "stream",
     "text": [
      "182.00000000000003\n",
      "757.0000000000001\n",
      "23.000000000000004\n",
      "382.00000000000006\n",
      "45.00000000000001\n",
      "3.0000000000000004\n",
      "45.00000000000001\n",
      "717.0000000000001\n",
      "359.00000000000006\n",
      "704.0000000000001\n",
      "44.00000000000001\n",
      "702.0000000000001\n"
     ]
    },
    {
     "name": "stdout",
     "output_type": "stream",
     "text": [
      "48.00000000000001\n",
      "181.00000000000003\n",
      "6.000000000000001\n",
      "45.00000000000001\n",
      "721.0000000000001\n",
      "45.00000000000001\n",
      "193.00000000000003\n",
      "23.000000000000004\n",
      "45.00000000000001\n"
     ]
    },
    {
     "data": {
      "text/plain": [
       "0        None\n",
       "1        None\n",
       "2        None\n",
       "3        None\n",
       "4        None\n",
       "         ... \n",
       "23694    None\n",
       "23695    None\n",
       "23696    None\n",
       "23697    None\n",
       "23698    None\n",
       "Name: days_exposition, Length: 23699, dtype: object"
      ]
     },
     "execution_count": 20,
     "metadata": {},
     "output_type": "execute_result"
    }
   ],
   "source": [
    "def after_dot_examination(number):\n",
    "    count = 0\n",
    "    if number % 1 > 0:\n",
    "        count +=1\n",
    "        print(number)\n",
    "data['days_exposition'].apply(after_dot_examination)"
   ]
  },
  {
   "cell_type": "markdown",
   "metadata": {},
   "source": [
    "Даже если в дробной части содержатся доли дня они незначительны, можем округлить"
   ]
  },
  {
   "cell_type": "code",
   "execution_count": 21,
   "metadata": {},
   "outputs": [],
   "source": [
    "data['days_exposition'] = data['days_exposition'].astype('int')"
   ]
  },
  {
   "cell_type": "code",
   "execution_count": 22,
   "metadata": {},
   "outputs": [],
   "source": [
    "data['first_day_exposition'] = pd.to_datetime(data['first_day_exposition'], format = '%Y.%m.%dT%H:%M:%S') #столбец с датой"
   ]
  },
  {
   "cell_type": "code",
   "execution_count": 23,
   "metadata": {},
   "outputs": [
    {
     "data": {
      "text/plain": [
       "total_images                     int64\n",
       "last_price                       int32\n",
       "total_area                     float64\n",
       "first_day_exposition    datetime64[ns]\n",
       "rooms                            int64\n",
       "ceiling_height                 float64\n",
       "floors_total                     int32\n",
       "living_area                    float64\n",
       "floor                            int64\n",
       "is_apartment                      bool\n",
       "studio                            bool\n",
       "open_plan                         bool\n",
       "kitchen_area                   float64\n",
       "balcony                          int32\n",
       "locality_name                   object\n",
       "airports_nearest                 int32\n",
       "cityCenters_nearest              int32\n",
       "parks_around3000                 int32\n",
       "parks_nearest                    int32\n",
       "ponds_around3000                 int32\n",
       "ponds_nearest                    int32\n",
       "days_exposition                  int32\n",
       "dtype: object"
      ]
     },
     "execution_count": 23,
     "metadata": {},
     "output_type": "execute_result"
    }
   ],
   "source": [
    "#проверим типы данных\n",
    "data.dtypes"
   ]
  },
  {
   "cell_type": "markdown",
   "metadata": {},
   "source": [
    "#### Уникальные значения"
   ]
  },
  {
   "cell_type": "code",
   "execution_count": 24,
   "metadata": {},
   "outputs": [
    {
     "data": {
      "text/plain": [
       "array(['бокситогорск', 'волосово', 'волхов', 'всеволожск', 'выборг',\n",
       "       'высоцк', 'гатчина', 'городской поселок большая ижора',\n",
       "       'городской поселок янино-1', 'городской посёлок будогощь',\n",
       "       'городской посёлок виллози', 'городской посёлок лесогорский',\n",
       "       'городской посёлок мга', 'городской посёлок назия',\n",
       "       'городской посёлок новоселье', 'городской посёлок павлово',\n",
       "       'городской посёлок рощино', 'городской посёлок свирьстрой',\n",
       "       'городской посёлок советский', 'городской посёлок фёдоровское',\n",
       "       'городской посёлок янино-1', 'деревня агалатово', 'деревня аро',\n",
       "       'деревня батово', 'деревня бегуницы', 'деревня белогорка',\n",
       "       'деревня большая вруда', 'деревня большая пустомержа',\n",
       "       'деревня большие колпаны', 'деревня большое рейзино',\n",
       "       'деревня большой сабск', 'деревня бор', 'деревня борисова грива',\n",
       "       'деревня ваганово', 'деревня вартемяги', 'деревня вахнова кара',\n",
       "       'деревня выскатка', 'деревня гарболово', 'деревня глинка',\n",
       "       'деревня горбунки', 'деревня гостилицы', 'деревня заклинье',\n",
       "       'деревня заневка', 'деревня зимитицы', 'деревня извара',\n",
       "       'деревня иссад', 'деревня калитино', 'деревня кальтино',\n",
       "       'деревня камышовка', 'деревня каськово', 'деревня келози',\n",
       "       'деревня кипень', 'деревня кисельня', 'деревня колтуши',\n",
       "       'деревня коркино', 'деревня котлы', 'деревня кривко',\n",
       "       'деревня кудрово', 'деревня кузьмолово', 'деревня курковицы',\n",
       "       'деревня куровицы', 'деревня куттузи', 'деревня лаврики',\n",
       "       'деревня лаголово', 'деревня лампово', 'деревня лесколово',\n",
       "       'деревня лопухинка', 'деревня лупполово',\n",
       "       'деревня малая романовка', 'деревня малое верево',\n",
       "       'деревня малое карлино', 'деревня малые колпаны',\n",
       "       'деревня мануйлово', 'деревня меньково', 'деревня мины',\n",
       "       'деревня мистолово', 'деревня ненимяки', 'деревня нижние осельки',\n",
       "       'деревня нижняя', 'деревня низино', 'деревня новое девяткино',\n",
       "       'деревня новолисино', 'деревня нурма', 'деревня оржицы',\n",
       "       'деревня парицы', 'деревня пельгора', 'деревня пеники',\n",
       "       'деревня пижма', 'деревня пикколово', 'деревня пудомяги',\n",
       "       'деревня пустынка', 'деревня пчева', 'деревня рабитицы',\n",
       "       'деревня разбегаево', 'деревня раздолье', 'деревня разметелево',\n",
       "       'деревня рапполово', 'деревня реброво', 'деревня русско',\n",
       "       'деревня сижно', 'деревня снегирёвка', 'деревня старая',\n",
       "       'деревня старая пустошь', 'деревня старое хинколово',\n",
       "       'деревня старополье', 'деревня старосиверская',\n",
       "       'деревня старые бегуницы', 'деревня суоранда',\n",
       "       'деревня сяськелево', 'деревня тарасово', 'деревня терпилицы',\n",
       "       'деревня тихковицы', 'деревня тойворово', 'деревня торосово',\n",
       "       'деревня торошковичи', 'деревня трубников бор',\n",
       "       'деревня фалилеево', 'деревня фёдоровское', 'деревня хапо-ое',\n",
       "       'деревня хязельки', 'деревня чудской бор', 'деревня шпаньково',\n",
       "       'деревня щеглово', 'деревня юкки', 'деревня ялгино',\n",
       "       'деревня яльгелево', 'деревня ям-тесово', 'зеленогорск',\n",
       "       'ивангород', 'каменногорск', 'кингисепп', 'кириши', 'кировск',\n",
       "       'колпино', 'коммунар', 'коттеджный поселок кивеннапа север',\n",
       "       'коттеджный поселок счастье', 'коттеджный посёлок лесное',\n",
       "       'красное село', 'кронштадт', 'кудрово', 'лодейное поле',\n",
       "       'ломоносов', 'луга', 'любань', 'мурино', 'никольское',\n",
       "       'новая ладога', 'отрадное', 'павловск', 'петергоф', 'пикалёво',\n",
       "       'подпорожье', 'поселок аннино', 'поселок барышево',\n",
       "       'поселок бугры', 'поселок возрождение', 'поселок войсковицы',\n",
       "       'поселок володарское', 'поселок гаврилово', 'поселок гарболово',\n",
       "       'поселок гладкое', 'поселок глажево', 'поселок глебычево',\n",
       "       'поселок гончарово', 'поселок городского типа большая ижора',\n",
       "       'поселок городского типа вырица',\n",
       "       'поселок городского типа дружная горка',\n",
       "       'поселок городского типа дубровка',\n",
       "       'поселок городского типа ефимовский',\n",
       "       'поселок городского типа имени свердлова',\n",
       "       'поселок городского типа кондратьево',\n",
       "       'поселок городского типа красный бор',\n",
       "       'поселок городского типа кузьмоловский',\n",
       "       'поселок городского типа лебяжье',\n",
       "       'поселок городского типа лесогорский',\n",
       "       'поселок городского типа назия',\n",
       "       'поселок городского типа никольский',\n",
       "       'поселок городского типа приладожский',\n",
       "       'поселок городского типа рахья', 'поселок городского типа рощино',\n",
       "       'поселок городского типа рябово',\n",
       "       'поселок городского типа синявино',\n",
       "       'поселок городского типа советский',\n",
       "       'поселок городского типа токсово',\n",
       "       'поселок городского типа форносово', 'поселок громово',\n",
       "       'поселок дружноселье', 'поселок елизаветино', 'поселок жилгородок',\n",
       "       'поселок жилпосёлок', 'поселок житково', 'поселок заводской',\n",
       "       'поселок запорожское', 'поселок зимитицы', 'поселок ильичёво',\n",
       "       'поселок калитино', 'поселок каложицы', 'поселок кингисеппский',\n",
       "       'поселок кирпичное', 'поселок кобралово', 'поселок кобринское',\n",
       "       'поселок коммунары', 'поселок коробицыно', 'поселок котельский',\n",
       "       'поселок красная долина', 'поселок красносельское',\n",
       "       'поселок лесное', 'поселок лисий нос', 'поселок лукаши',\n",
       "       'поселок любань', 'поселок мельниково', 'поселок мичуринское',\n",
       "       'поселок молодцово', 'поселок мурино', 'поселок новый свет',\n",
       "       'поселок новый учхоз', 'поселок оредеж',\n",
       "       'поселок пансионат зелёный бор', 'поселок первомайское',\n",
       "       'поселок перово', 'поселок петровское', 'поселок победа',\n",
       "       'поселок поляны', 'поселок почап', 'поселок починок',\n",
       "       'поселок пушное', 'поселок пчевжа', 'поселок рабитицы',\n",
       "       'поселок романовка', 'поселок ромашки', 'поселок рябово',\n",
       "       'поселок севастьяново', 'поселок селезнёво', 'поселок сельцо',\n",
       "       'поселок семиозерье', 'поселок семрино', 'поселок серебрянский',\n",
       "       'поселок совхозный', 'поселок станции вещево',\n",
       "       'поселок станции корнево', 'поселок станции лужайка',\n",
       "       'поселок станции приветнинское', 'поселок старая малукса',\n",
       "       'поселок стеклянный', 'поселок сумино', 'поселок суходолье',\n",
       "       'поселок тельмана', 'поселок терволово', 'поселок торковичи',\n",
       "       'поселок тёсово-4', 'поселок углово', 'поселок усть-луга',\n",
       "       'поселок ушаки', 'поселок цвелодубово', 'поселок цвылёво',\n",
       "       'посёлок александровская', 'посёлок алексеевка', 'посёлок аннино',\n",
       "       'посёлок белоостров', 'посёлок бугры', 'посёлок возрождение',\n",
       "       'посёлок войскорово', 'посёлок высокоключевой',\n",
       "       'посёлок гаврилово', 'посёлок городского типа важины',\n",
       "       'посёлок городского типа вознесенье',\n",
       "       'посёлок городского типа вырица',\n",
       "       'посёлок городского типа имени морозова',\n",
       "       'посёлок городского типа имени свердлова',\n",
       "       'посёлок городского типа красный бор',\n",
       "       'посёлок городского типа кузнечное',\n",
       "       'посёлок городского типа кузьмоловский',\n",
       "       'посёлок городского типа лебяжье', 'посёлок городского типа мга',\n",
       "       'посёлок городского типа павлово',\n",
       "       'посёлок городского типа рощино', 'посёлок городского типа рябово',\n",
       "       'посёлок городского типа сиверский',\n",
       "       'посёлок городского типа тайцы', 'посёлок городского типа токсово',\n",
       "       'посёлок городского типа ульяновка',\n",
       "       'посёлок городского типа форносово', 'посёлок дзержинского',\n",
       "       'посёлок жилгородок', 'посёлок ильичёво', 'посёлок кикерино',\n",
       "       'посёлок кобралово', 'посёлок коробицыно', 'посёлок левашово',\n",
       "       'посёлок ленинское', 'посёлок лисий нос', 'посёлок мельниково',\n",
       "       'посёлок металлострой', 'посёлок мичуринское',\n",
       "       'посёлок молодёжное', 'посёлок мурино', 'посёлок мыза-ивановка',\n",
       "       'посёлок новогорелово', 'посёлок новый свет',\n",
       "       'посёлок пансионат зелёный бор', 'посёлок парголово',\n",
       "       'посёлок перово', 'посёлок песочный', 'посёлок петро-славянка',\n",
       "       'посёлок петровское', 'посёлок платформа 69-й километр',\n",
       "       'посёлок плодовое', 'посёлок плоское', 'посёлок победа',\n",
       "       'посёлок поляны', 'посёлок понтонный',\n",
       "       'посёлок при железнодорожной станции вещево',\n",
       "       'посёлок при железнодорожной станции приветнинское',\n",
       "       'посёлок пригородный', 'посёлок пудость', 'посёлок репино',\n",
       "       'посёлок ропша', 'посёлок сапёрное', 'посёлок сапёрный',\n",
       "       'посёлок сосново', 'посёлок станции громово',\n",
       "       'посёлок станции свирь', 'посёлок старая малукса',\n",
       "       'посёлок стеклянный', 'посёлок стрельна', 'посёлок суйда',\n",
       "       'посёлок сумино', 'посёлок тельмана', 'посёлок терволово',\n",
       "       'посёлок торфяное', 'посёлок усть-ижора', 'посёлок усть-луга',\n",
       "       'посёлок форт красная горка', 'посёлок шугозеро', 'посёлок шушары',\n",
       "       'посёлок щеглово', 'приморск', 'приозерск', 'пушкин',\n",
       "       'садоводческое некоммерческое товарищество лесная поляна',\n",
       "       'садовое товарищество новая ропша',\n",
       "       'садовое товарищество приладожский', 'садовое товарищество рахья',\n",
       "       'садовое товарищество садко', 'санкт-петербург', 'светогорск',\n",
       "       'село копорье', 'село никольское', 'село павлово', 'село паша',\n",
       "       'село путилово', 'село рождествено', 'село русско-высоцкое',\n",
       "       'село старая ладога', 'село шум', 'сертолово', 'сестрорецк',\n",
       "       'сланцы', 'сосновый бор', 'сясьстрой', 'тихвин', 'тосно',\n",
       "       'шлиссельбург', nan], dtype=object)"
      ]
     },
     "execution_count": 24,
     "metadata": {},
     "output_type": "execute_result"
    }
   ],
   "source": [
    "data['locality_name'] = data['locality_name'].str.lower()\n",
    "data['locality_name'].sort_values().unique()"
   ]
  },
  {
   "cell_type": "code",
   "execution_count": 25,
   "metadata": {},
   "outputs": [
    {
     "data": {
      "text/plain": [
       "365"
      ]
     },
     "execution_count": 25,
     "metadata": {},
     "output_type": "execute_result"
    }
   ],
   "source": [
    "len(data['locality_name'].sort_values().unique())"
   ]
  },
  {
   "cell_type": "code",
   "execution_count": 26,
   "metadata": {},
   "outputs": [],
   "source": [
    "data['locality_name'] = data['locality_name'].str.replace('посёлок','поселок')\n",
    "data['locality_name'] = data['locality_name'].str.replace('городской поселок','поселок городского типа')\n",
    "data['locality_name'] = data['locality_name'].str.replace('поселок при железнодорожной станции','поселок станции')"
   ]
  },
  {
   "cell_type": "code",
   "execution_count": 27,
   "metadata": {},
   "outputs": [
    {
     "data": {
      "text/plain": [
       "322"
      ]
     },
     "execution_count": 27,
     "metadata": {},
     "output_type": "execute_result"
    }
   ],
   "source": [
    "len(data['locality_name'].sort_values().unique())"
   ]
  },
  {
   "cell_type": "markdown",
   "metadata": {},
   "source": [
    "поселок городского типа павлово - село павлово\n",
    "\n",
    "поселок гарболово - деревня гарболово\n",
    "\n",
    "поселок зимитицы - деревня зимитицы\n",
    "\n",
    "деревня кудрово - кудрово\n",
    "\n",
    "поселок рабитицы - деревня рабитицы\n",
    "\n",
    "поселок городского типа фёдоровское - деревня фёдоровское\n",
    "\n",
    "поселок щеглово - деревня щеглово\n",
    "\n",
    "поселок лесное - коттеджный поселок лесное\n",
    "\n",
    "поселок любань - любань\n",
    "\n",
    "поселок мурино - мурино\n",
    "\n",
    "село никольское - никольское\n",
    "\n",
    "поселок городского типа рябово - поселок рябово\n",
    "\n",
    "поселок станции громово - поселок громово\n",
    "\n",
    "поселок калитино - деревня калитино"
   ]
  },
  {
   "cell_type": "code",
   "execution_count": 28,
   "metadata": {},
   "outputs": [],
   "source": [
    "data['locality_name'] = data['locality_name'].replace([\n",
    "    'поселок городского типа павлово', 'деревня гарболово', 'деревня зимитицы', 'деревня кудрово', 'деревня рабитицы', \n",
    "     'деревня фёдоровское', 'деревня щеглово', 'коттеджный поселок лесное', 'поселок любань', 'поселок мурино', \n",
    "     'село никольское', 'поселок городского типа рябово', 'поселок станции громово', 'деревня калитино'],[\n",
    "    'село павлово', 'поселок гарболово', 'поселок зимитицы', 'кудрово', 'поселок рабитицы','деревня фёдоровское',\n",
    "    'поселок щеглово', 'поселок лесное', 'любань', 'мурино', 'никольское', 'поселок рябово', 'поселок громово', 'поселок калитино']\n",
    ")"
   ]
  },
  {
   "cell_type": "code",
   "execution_count": 29,
   "metadata": {},
   "outputs": [
    {
     "data": {
      "text/plain": [
       "309"
      ]
     },
     "execution_count": 29,
     "metadata": {},
     "output_type": "execute_result"
    }
   ],
   "source": [
    "len(data['locality_name'].sort_values().unique())"
   ]
  },
  {
   "cell_type": "markdown",
   "metadata": {},
   "source": [
    "#### Аномалии"
   ]
  },
  {
   "cell_type": "code",
   "execution_count": 30,
   "metadata": {},
   "outputs": [
    {
     "data": {
      "text/html": [
       "<div>\n",
       "<style scoped>\n",
       "    .dataframe tbody tr th:only-of-type {\n",
       "        vertical-align: middle;\n",
       "    }\n",
       "\n",
       "    .dataframe tbody tr th {\n",
       "        vertical-align: top;\n",
       "    }\n",
       "\n",
       "    .dataframe thead th {\n",
       "        text-align: right;\n",
       "    }\n",
       "</style>\n",
       "<table border=\"1\" class=\"dataframe\">\n",
       "  <thead>\n",
       "    <tr style=\"text-align: right;\">\n",
       "      <th></th>\n",
       "      <th>total_images</th>\n",
       "      <th>last_price</th>\n",
       "      <th>total_area</th>\n",
       "      <th>rooms</th>\n",
       "      <th>ceiling_height</th>\n",
       "      <th>floors_total</th>\n",
       "      <th>living_area</th>\n",
       "      <th>floor</th>\n",
       "      <th>kitchen_area</th>\n",
       "      <th>balcony</th>\n",
       "      <th>airports_nearest</th>\n",
       "      <th>cityCenters_nearest</th>\n",
       "      <th>parks_around3000</th>\n",
       "      <th>parks_nearest</th>\n",
       "      <th>ponds_around3000</th>\n",
       "      <th>ponds_nearest</th>\n",
       "      <th>days_exposition</th>\n",
       "    </tr>\n",
       "  </thead>\n",
       "  <tbody>\n",
       "    <tr>\n",
       "      <th>count</th>\n",
       "      <td>23699.000000</td>\n",
       "      <td>2.369900e+04</td>\n",
       "      <td>23699.000000</td>\n",
       "      <td>23699.000000</td>\n",
       "      <td>14504.000000</td>\n",
       "      <td>23699.000000</td>\n",
       "      <td>23699.000000</td>\n",
       "      <td>23699.000000</td>\n",
       "      <td>23699.000000</td>\n",
       "      <td>23699.000000</td>\n",
       "      <td>23699.000000</td>\n",
       "      <td>23699.000000</td>\n",
       "      <td>23699.000000</td>\n",
       "      <td>23699.000000</td>\n",
       "      <td>23699.000000</td>\n",
       "      <td>23699.000000</td>\n",
       "      <td>23699.000000</td>\n",
       "    </tr>\n",
       "    <tr>\n",
       "      <th>mean</th>\n",
       "      <td>9.858475</td>\n",
       "      <td>6.541549e+06</td>\n",
       "      <td>60.348651</td>\n",
       "      <td>2.070636</td>\n",
       "      <td>2.771499</td>\n",
       "      <td>10.631461</td>\n",
       "      <td>34.494099</td>\n",
       "      <td>5.892358</td>\n",
       "      <td>9.553814</td>\n",
       "      <td>0.591080</td>\n",
       "      <td>22060.051648</td>\n",
       "      <td>10886.194017</td>\n",
       "      <td>0.469049</td>\n",
       "      <td>166.656399</td>\n",
       "      <td>0.590911</td>\n",
       "      <td>198.498544</td>\n",
       "      <td>156.474619</td>\n",
       "    </tr>\n",
       "    <tr>\n",
       "      <th>std</th>\n",
       "      <td>5.682529</td>\n",
       "      <td>1.088701e+07</td>\n",
       "      <td>35.654083</td>\n",
       "      <td>1.078405</td>\n",
       "      <td>1.261056</td>\n",
       "      <td>6.622500</td>\n",
       "      <td>21.881363</td>\n",
       "      <td>4.885249</td>\n",
       "      <td>6.420973</td>\n",
       "      <td>0.959298</td>\n",
       "      <td>16455.589811</td>\n",
       "      <td>9634.876850</td>\n",
       "      <td>0.748534</td>\n",
       "      <td>307.069717</td>\n",
       "      <td>0.883999</td>\n",
       "      <td>305.590550</td>\n",
       "      <td>213.645563</td>\n",
       "    </tr>\n",
       "    <tr>\n",
       "      <th>min</th>\n",
       "      <td>0.000000</td>\n",
       "      <td>1.219000e+04</td>\n",
       "      <td>12.000000</td>\n",
       "      <td>0.000000</td>\n",
       "      <td>1.000000</td>\n",
       "      <td>-1.000000</td>\n",
       "      <td>2.000000</td>\n",
       "      <td>1.000000</td>\n",
       "      <td>0.000000</td>\n",
       "      <td>0.000000</td>\n",
       "      <td>-1.000000</td>\n",
       "      <td>-1.000000</td>\n",
       "      <td>0.000000</td>\n",
       "      <td>-1.000000</td>\n",
       "      <td>0.000000</td>\n",
       "      <td>-1.000000</td>\n",
       "      <td>-1.000000</td>\n",
       "    </tr>\n",
       "    <tr>\n",
       "      <th>25%</th>\n",
       "      <td>6.000000</td>\n",
       "      <td>3.400000e+06</td>\n",
       "      <td>40.000000</td>\n",
       "      <td>1.000000</td>\n",
       "      <td>2.520000</td>\n",
       "      <td>5.000000</td>\n",
       "      <td>18.600000</td>\n",
       "      <td>2.000000</td>\n",
       "      <td>6.300000</td>\n",
       "      <td>0.000000</td>\n",
       "      <td>10196.500000</td>\n",
       "      <td>2242.000000</td>\n",
       "      <td>0.000000</td>\n",
       "      <td>-1.000000</td>\n",
       "      <td>0.000000</td>\n",
       "      <td>-1.000000</td>\n",
       "      <td>22.000000</td>\n",
       "    </tr>\n",
       "    <tr>\n",
       "      <th>50%</th>\n",
       "      <td>9.000000</td>\n",
       "      <td>4.650000e+06</td>\n",
       "      <td>52.000000</td>\n",
       "      <td>2.000000</td>\n",
       "      <td>2.650000</td>\n",
       "      <td>9.000000</td>\n",
       "      <td>30.000000</td>\n",
       "      <td>4.000000</td>\n",
       "      <td>9.000000</td>\n",
       "      <td>0.000000</td>\n",
       "      <td>21869.000000</td>\n",
       "      <td>11247.000000</td>\n",
       "      <td>0.000000</td>\n",
       "      <td>-1.000000</td>\n",
       "      <td>0.000000</td>\n",
       "      <td>-1.000000</td>\n",
       "      <td>74.000000</td>\n",
       "    </tr>\n",
       "    <tr>\n",
       "      <th>75%</th>\n",
       "      <td>14.000000</td>\n",
       "      <td>6.800000e+06</td>\n",
       "      <td>69.900000</td>\n",
       "      <td>3.000000</td>\n",
       "      <td>2.800000</td>\n",
       "      <td>16.000000</td>\n",
       "      <td>42.300000</td>\n",
       "      <td>8.000000</td>\n",
       "      <td>11.440000</td>\n",
       "      <td>1.000000</td>\n",
       "      <td>34327.000000</td>\n",
       "      <td>15248.500000</td>\n",
       "      <td>1.000000</td>\n",
       "      <td>301.000000</td>\n",
       "      <td>1.000000</td>\n",
       "      <td>389.000000</td>\n",
       "      <td>199.000000</td>\n",
       "    </tr>\n",
       "    <tr>\n",
       "      <th>max</th>\n",
       "      <td>50.000000</td>\n",
       "      <td>7.630000e+08</td>\n",
       "      <td>900.000000</td>\n",
       "      <td>19.000000</td>\n",
       "      <td>100.000000</td>\n",
       "      <td>60.000000</td>\n",
       "      <td>409.700000</td>\n",
       "      <td>33.000000</td>\n",
       "      <td>112.000000</td>\n",
       "      <td>5.000000</td>\n",
       "      <td>84869.000000</td>\n",
       "      <td>65968.000000</td>\n",
       "      <td>3.000000</td>\n",
       "      <td>3190.000000</td>\n",
       "      <td>3.000000</td>\n",
       "      <td>1344.000000</td>\n",
       "      <td>1580.000000</td>\n",
       "    </tr>\n",
       "  </tbody>\n",
       "</table>\n",
       "</div>"
      ],
      "text/plain": [
       "       total_images    last_price    total_area         rooms  ceiling_height  \\\n",
       "count  23699.000000  2.369900e+04  23699.000000  23699.000000    14504.000000   \n",
       "mean       9.858475  6.541549e+06     60.348651      2.070636        2.771499   \n",
       "std        5.682529  1.088701e+07     35.654083      1.078405        1.261056   \n",
       "min        0.000000  1.219000e+04     12.000000      0.000000        1.000000   \n",
       "25%        6.000000  3.400000e+06     40.000000      1.000000        2.520000   \n",
       "50%        9.000000  4.650000e+06     52.000000      2.000000        2.650000   \n",
       "75%       14.000000  6.800000e+06     69.900000      3.000000        2.800000   \n",
       "max       50.000000  7.630000e+08    900.000000     19.000000      100.000000   \n",
       "\n",
       "       floors_total   living_area         floor  kitchen_area       balcony  \\\n",
       "count  23699.000000  23699.000000  23699.000000  23699.000000  23699.000000   \n",
       "mean      10.631461     34.494099      5.892358      9.553814      0.591080   \n",
       "std        6.622500     21.881363      4.885249      6.420973      0.959298   \n",
       "min       -1.000000      2.000000      1.000000      0.000000      0.000000   \n",
       "25%        5.000000     18.600000      2.000000      6.300000      0.000000   \n",
       "50%        9.000000     30.000000      4.000000      9.000000      0.000000   \n",
       "75%       16.000000     42.300000      8.000000     11.440000      1.000000   \n",
       "max       60.000000    409.700000     33.000000    112.000000      5.000000   \n",
       "\n",
       "       airports_nearest  cityCenters_nearest  parks_around3000  parks_nearest  \\\n",
       "count      23699.000000         23699.000000      23699.000000   23699.000000   \n",
       "mean       22060.051648         10886.194017          0.469049     166.656399   \n",
       "std        16455.589811          9634.876850          0.748534     307.069717   \n",
       "min           -1.000000            -1.000000          0.000000      -1.000000   \n",
       "25%        10196.500000          2242.000000          0.000000      -1.000000   \n",
       "50%        21869.000000         11247.000000          0.000000      -1.000000   \n",
       "75%        34327.000000         15248.500000          1.000000     301.000000   \n",
       "max        84869.000000         65968.000000          3.000000    3190.000000   \n",
       "\n",
       "       ponds_around3000  ponds_nearest  days_exposition  \n",
       "count      23699.000000   23699.000000     23699.000000  \n",
       "mean           0.590911     198.498544       156.474619  \n",
       "std            0.883999     305.590550       213.645563  \n",
       "min            0.000000      -1.000000        -1.000000  \n",
       "25%            0.000000      -1.000000        22.000000  \n",
       "50%            0.000000      -1.000000        74.000000  \n",
       "75%            1.000000     389.000000       199.000000  \n",
       "max            3.000000    1344.000000      1580.000000  "
      ]
     },
     "execution_count": 30,
     "metadata": {},
     "output_type": "execute_result"
    }
   ],
   "source": [
    "data.describe()"
   ]
  },
  {
   "cell_type": "code",
   "execution_count": 31,
   "metadata": {},
   "outputs": [
    {
     "data": {
      "text/plain": [
       "(80000000.0, 1000000000.0)"
      ]
     },
     "execution_count": 31,
     "metadata": {},
     "output_type": "execute_result"
    },
    {
     "data": {
      "image/png": "[encoded data removed]",
      "text/plain": [
       "<Figure size 432x288 with 1 Axes>"
      ]
     },
     "metadata": {
      "needs_background": "light"
     },
     "output_type": "display_data"
    }
   ],
   "source": [
    "data.boxplot('last_price')\n",
    "plt.ylim(80000000, 1000000000)"
   ]
  },
  {
   "cell_type": "code",
   "execution_count": 32,
   "metadata": {},
   "outputs": [],
   "source": [
    "data = data.query('last_price < 80000000')"
   ]
  },
  {
   "cell_type": "code",
   "execution_count": 33,
   "metadata": {},
   "outputs": [
    {
     "data": {
      "text/plain": [
       "(200.0, 1000.0)"
      ]
     },
     "execution_count": 33,
     "metadata": {},
     "output_type": "execute_result"
    },
    {
     "data": {
      "image/png": "[encoded data removed]",
      "text/plain": [
       "<Figure size 432x288 with 1 Axes>"
      ]
     },
     "metadata": {
      "needs_background": "light"
     },
     "output_type": "display_data"
    }
   ],
   "source": [
    "data.boxplot('total_area')\n",
    "plt.ylim(200, 1000)"
   ]
  },
  {
   "cell_type": "code",
   "execution_count": 34,
   "metadata": {},
   "outputs": [],
   "source": [
    "data = data.query('total_area < 400')"
   ]
  },
  {
   "cell_type": "code",
   "execution_count": 35,
   "metadata": {},
   "outputs": [
    {
     "data": {
      "text/html": [
       "<div>\n",
       "<style scoped>\n",
       "    .dataframe tbody tr th:only-of-type {\n",
       "        vertical-align: middle;\n",
       "    }\n",
       "\n",
       "    .dataframe tbody tr th {\n",
       "        vertical-align: top;\n",
       "    }\n",
       "\n",
       "    .dataframe thead th {\n",
       "        text-align: right;\n",
       "    }\n",
       "</style>\n",
       "<table border=\"1\" class=\"dataframe\">\n",
       "  <thead>\n",
       "    <tr style=\"text-align: right;\">\n",
       "      <th></th>\n",
       "      <th>total_images</th>\n",
       "      <th>last_price</th>\n",
       "      <th>total_area</th>\n",
       "      <th>rooms</th>\n",
       "      <th>ceiling_height</th>\n",
       "      <th>floors_total</th>\n",
       "      <th>living_area</th>\n",
       "      <th>floor</th>\n",
       "      <th>kitchen_area</th>\n",
       "      <th>balcony</th>\n",
       "      <th>airports_nearest</th>\n",
       "      <th>cityCenters_nearest</th>\n",
       "      <th>parks_around3000</th>\n",
       "      <th>parks_nearest</th>\n",
       "      <th>ponds_around3000</th>\n",
       "      <th>ponds_nearest</th>\n",
       "      <th>days_exposition</th>\n",
       "    </tr>\n",
       "  </thead>\n",
       "  <tbody>\n",
       "    <tr>\n",
       "      <th>count</th>\n",
       "      <td>23628.000000</td>\n",
       "      <td>2.362800e+04</td>\n",
       "      <td>23628.000000</td>\n",
       "      <td>23628.000000</td>\n",
       "      <td>14456.000000</td>\n",
       "      <td>23628.000000</td>\n",
       "      <td>23628.000000</td>\n",
       "      <td>23628.000000</td>\n",
       "      <td>23628.000000</td>\n",
       "      <td>23628.000000</td>\n",
       "      <td>23628.000000</td>\n",
       "      <td>23628.000000</td>\n",
       "      <td>23628.000000</td>\n",
       "      <td>23628.000000</td>\n",
       "      <td>23628.000000</td>\n",
       "      <td>23628.000000</td>\n",
       "      <td>23628.000000</td>\n",
       "    </tr>\n",
       "    <tr>\n",
       "      <th>mean</th>\n",
       "      <td>9.847765</td>\n",
       "      <td>6.155467e+06</td>\n",
       "      <td>59.526210</td>\n",
       "      <td>2.061368</td>\n",
       "      <td>2.768939</td>\n",
       "      <td>10.641781</td>\n",
       "      <td>34.088188</td>\n",
       "      <td>5.893178</td>\n",
       "      <td>9.482831</td>\n",
       "      <td>0.591629</td>\n",
       "      <td>22049.888353</td>\n",
       "      <td>10905.242340</td>\n",
       "      <td>0.466015</td>\n",
       "      <td>166.212460</td>\n",
       "      <td>0.587481</td>\n",
       "      <td>198.392754</td>\n",
       "      <td>156.255756</td>\n",
       "    </tr>\n",
       "    <tr>\n",
       "      <th>std</th>\n",
       "      <td>5.677189</td>\n",
       "      <td>5.839946e+06</td>\n",
       "      <td>31.364259</td>\n",
       "      <td>1.060274</td>\n",
       "      <td>1.261771</td>\n",
       "      <td>6.626272</td>\n",
       "      <td>20.023571</td>\n",
       "      <td>4.887824</td>\n",
       "      <td>6.133966</td>\n",
       "      <td>0.959250</td>\n",
       "      <td>16473.928303</td>\n",
       "      <td>9641.527555</td>\n",
       "      <td>0.745231</td>\n",
       "      <td>306.868588</td>\n",
       "      <td>0.880755</td>\n",
       "      <td>305.827106</td>\n",
       "      <td>213.416938</td>\n",
       "    </tr>\n",
       "    <tr>\n",
       "      <th>min</th>\n",
       "      <td>0.000000</td>\n",
       "      <td>1.219000e+04</td>\n",
       "      <td>12.000000</td>\n",
       "      <td>0.000000</td>\n",
       "      <td>1.000000</td>\n",
       "      <td>-1.000000</td>\n",
       "      <td>2.000000</td>\n",
       "      <td>1.000000</td>\n",
       "      <td>0.000000</td>\n",
       "      <td>0.000000</td>\n",
       "      <td>-1.000000</td>\n",
       "      <td>-1.000000</td>\n",
       "      <td>0.000000</td>\n",
       "      <td>-1.000000</td>\n",
       "      <td>0.000000</td>\n",
       "      <td>-1.000000</td>\n",
       "      <td>-1.000000</td>\n",
       "    </tr>\n",
       "    <tr>\n",
       "      <th>25%</th>\n",
       "      <td>6.000000</td>\n",
       "      <td>3.400000e+06</td>\n",
       "      <td>40.000000</td>\n",
       "      <td>1.000000</td>\n",
       "      <td>2.510000</td>\n",
       "      <td>5.000000</td>\n",
       "      <td>18.600000</td>\n",
       "      <td>2.000000</td>\n",
       "      <td>6.300000</td>\n",
       "      <td>0.000000</td>\n",
       "      <td>10142.000000</td>\n",
       "      <td>2244.250000</td>\n",
       "      <td>0.000000</td>\n",
       "      <td>-1.000000</td>\n",
       "      <td>0.000000</td>\n",
       "      <td>-1.000000</td>\n",
       "      <td>22.000000</td>\n",
       "    </tr>\n",
       "    <tr>\n",
       "      <th>50%</th>\n",
       "      <td>9.000000</td>\n",
       "      <td>4.600000e+06</td>\n",
       "      <td>52.000000</td>\n",
       "      <td>2.000000</td>\n",
       "      <td>2.650000</td>\n",
       "      <td>9.000000</td>\n",
       "      <td>30.000000</td>\n",
       "      <td>4.000000</td>\n",
       "      <td>9.000000</td>\n",
       "      <td>0.000000</td>\n",
       "      <td>21844.000000</td>\n",
       "      <td>11275.000000</td>\n",
       "      <td>0.000000</td>\n",
       "      <td>-1.000000</td>\n",
       "      <td>0.000000</td>\n",
       "      <td>-1.000000</td>\n",
       "      <td>74.000000</td>\n",
       "    </tr>\n",
       "    <tr>\n",
       "      <th>75%</th>\n",
       "      <td>14.000000</td>\n",
       "      <td>6.750000e+06</td>\n",
       "      <td>69.300000</td>\n",
       "      <td>3.000000</td>\n",
       "      <td>2.800000</td>\n",
       "      <td>16.000000</td>\n",
       "      <td>42.200000</td>\n",
       "      <td>8.000000</td>\n",
       "      <td>11.400000</td>\n",
       "      <td>1.000000</td>\n",
       "      <td>34401.750000</td>\n",
       "      <td>15261.000000</td>\n",
       "      <td>1.000000</td>\n",
       "      <td>300.000000</td>\n",
       "      <td>1.000000</td>\n",
       "      <td>389.000000</td>\n",
       "      <td>198.000000</td>\n",
       "    </tr>\n",
       "    <tr>\n",
       "      <th>max</th>\n",
       "      <td>50.000000</td>\n",
       "      <td>7.933900e+07</td>\n",
       "      <td>399.000000</td>\n",
       "      <td>19.000000</td>\n",
       "      <td>100.000000</td>\n",
       "      <td>60.000000</td>\n",
       "      <td>264.500000</td>\n",
       "      <td>33.000000</td>\n",
       "      <td>100.700000</td>\n",
       "      <td>5.000000</td>\n",
       "      <td>84869.000000</td>\n",
       "      <td>65968.000000</td>\n",
       "      <td>3.000000</td>\n",
       "      <td>3190.000000</td>\n",
       "      <td>3.000000</td>\n",
       "      <td>1344.000000</td>\n",
       "      <td>1580.000000</td>\n",
       "    </tr>\n",
       "  </tbody>\n",
       "</table>\n",
       "</div>"
      ],
      "text/plain": [
       "       total_images    last_price    total_area         rooms  ceiling_height  \\\n",
       "count  23628.000000  2.362800e+04  23628.000000  23628.000000    14456.000000   \n",
       "mean       9.847765  6.155467e+06     59.526210      2.061368        2.768939   \n",
       "std        5.677189  5.839946e+06     31.364259      1.060274        1.261771   \n",
       "min        0.000000  1.219000e+04     12.000000      0.000000        1.000000   \n",
       "25%        6.000000  3.400000e+06     40.000000      1.000000        2.510000   \n",
       "50%        9.000000  4.600000e+06     52.000000      2.000000        2.650000   \n",
       "75%       14.000000  6.750000e+06     69.300000      3.000000        2.800000   \n",
       "max       50.000000  7.933900e+07    399.000000     19.000000      100.000000   \n",
       "\n",
       "       floors_total   living_area         floor  kitchen_area       balcony  \\\n",
       "count  23628.000000  23628.000000  23628.000000  23628.000000  23628.000000   \n",
       "mean      10.641781     34.088188      5.893178      9.482831      0.591629   \n",
       "std        6.626272     20.023571      4.887824      6.133966      0.959250   \n",
       "min       -1.000000      2.000000      1.000000      0.000000      0.000000   \n",
       "25%        5.000000     18.600000      2.000000      6.300000      0.000000   \n",
       "50%        9.000000     30.000000      4.000000      9.000000      0.000000   \n",
       "75%       16.000000     42.200000      8.000000     11.400000      1.000000   \n",
       "max       60.000000    264.500000     33.000000    100.700000      5.000000   \n",
       "\n",
       "       airports_nearest  cityCenters_nearest  parks_around3000  parks_nearest  \\\n",
       "count      23628.000000         23628.000000      23628.000000   23628.000000   \n",
       "mean       22049.888353         10905.242340          0.466015     166.212460   \n",
       "std        16473.928303          9641.527555          0.745231     306.868588   \n",
       "min           -1.000000            -1.000000          0.000000      -1.000000   \n",
       "25%        10142.000000          2244.250000          0.000000      -1.000000   \n",
       "50%        21844.000000         11275.000000          0.000000      -1.000000   \n",
       "75%        34401.750000         15261.000000          1.000000     300.000000   \n",
       "max        84869.000000         65968.000000          3.000000    3190.000000   \n",
       "\n",
       "       ponds_around3000  ponds_nearest  days_exposition  \n",
       "count      23628.000000   23628.000000     23628.000000  \n",
       "mean           0.587481     198.392754       156.255756  \n",
       "std            0.880755     305.827106       213.416938  \n",
       "min            0.000000      -1.000000        -1.000000  \n",
       "25%            0.000000      -1.000000        22.000000  \n",
       "50%            0.000000      -1.000000        74.000000  \n",
       "75%            1.000000     389.000000       198.000000  \n",
       "max            3.000000    1344.000000      1580.000000  "
      ]
     },
     "execution_count": 35,
     "metadata": {},
     "output_type": "execute_result"
    }
   ],
   "source": [
    "data.describe()"
   ]
  },
  {
   "cell_type": "code",
   "execution_count": 36,
   "metadata": {},
   "outputs": [],
   "source": [
    "data['ceiling_height'] = data[data['ceiling_height'] >= 10]['ceiling_height']/10 "
   ]
  },
  {
   "cell_type": "code",
   "execution_count": 37,
   "metadata": {},
   "outputs": [],
   "source": [
    "data.loc[data['floors_total'] > 37, 'floors_total'] = -1 #В Санкт-Петербурге нет домов выше 37 этажей"
   ]
  },
  {
   "cell_type": "code",
   "execution_count": 38,
   "metadata": {},
   "outputs": [
    {
     "data": {
      "text/plain": [
       "<AxesSubplot:>"
      ]
     },
     "execution_count": 38,
     "metadata": {},
     "output_type": "execute_result"
    },
    {
     "data": {
      "image/png": "[encoded data removed]",
      "text/plain": [
       "<Figure size 432x288 with 1 Axes>"
      ]
     },
     "metadata": {
      "needs_background": "light"
     },
     "output_type": "display_data"
    }
   ],
   "source": [
    "data.boxplot('living_area')\n",
    "#plt.ylim(100, 1000)"
   ]
  },
  {
   "cell_type": "code",
   "execution_count": 39,
   "metadata": {},
   "outputs": [],
   "source": [
    "data = data.query('living_area < 200')"
   ]
  },
  {
   "cell_type": "markdown",
   "metadata": {},
   "source": [
    "Остальные выбросы не очевидны, вполне возмоно, что данные достоверны"
   ]
  },
  {
   "cell_type": "markdown",
   "metadata": {},
   "source": [
    "#### Явные дубликаты"
   ]
  },
  {
   "cell_type": "code",
   "execution_count": 40,
   "metadata": {},
   "outputs": [
    {
     "data": {
      "text/plain": [
       "0"
      ]
     },
     "execution_count": 40,
     "metadata": {},
     "output_type": "execute_result"
    }
   ],
   "source": [
    "data.duplicated().sum()"
   ]
  },
  {
   "cell_type": "markdown",
   "metadata": {},
   "source": [
    "Явные дубликаты отсутствуют"
   ]
  },
  {
   "cell_type": "markdown",
   "metadata": {},
   "source": [
    "#### Вывод:\n",
    "- Заполнены пропуски в данных\n",
    "- Исправлены типы данных\n",
    "- Найдены и исправлены явные и неявные дубликаты\n",
    "- Данные проверены на аномальные значения и исправлены\n",
    "- Данные готовы к дальнейшиму анализу"
   ]
  },
  {
   "cell_type": "markdown",
   "metadata": {},
   "source": [
    "### Добавление в таблицу новых столбцов"
   ]
  },
  {
   "cell_type": "markdown",
   "metadata": {},
   "source": [
    "#### Цена квадратного метра"
   ]
  },
  {
   "cell_type": "code",
   "execution_count": 41,
   "metadata": {},
   "outputs": [],
   "source": [
    "def meters(row):\n",
    "    last_price = row['last_price']\n",
    "    total_area = row['total_area']\n",
    "    return last_price/total_area"
   ]
  },
  {
   "cell_type": "code",
   "execution_count": 42,
   "metadata": {},
   "outputs": [],
   "source": [
    "data['price_one_square_meter'] = data.apply(meters, axis=1)"
   ]
  },
  {
   "cell_type": "markdown",
   "metadata": {},
   "source": [
    "#### День недели публикации"
   ]
  },
  {
   "cell_type": "code",
   "execution_count": 43,
   "metadata": {},
   "outputs": [],
   "source": [
    "data['weekday'] = data['first_day_exposition'].dt.weekday"
   ]
  },
  {
   "cell_type": "markdown",
   "metadata": {},
   "source": [
    "#### Месяц публикации"
   ]
  },
  {
   "cell_type": "code",
   "execution_count": 44,
   "metadata": {},
   "outputs": [],
   "source": [
    "data['month'] = data['first_day_exposition'].dt.month"
   ]
  },
  {
   "cell_type": "markdown",
   "metadata": {},
   "source": [
    "#### Год публикации"
   ]
  },
  {
   "cell_type": "code",
   "execution_count": 45,
   "metadata": {},
   "outputs": [],
   "source": [
    "data['years'] = data['first_day_exposition'].dt.year"
   ]
  },
  {
   "cell_type": "markdown",
   "metadata": {},
   "source": [
    "#### Тип этажа"
   ]
  },
  {
   "cell_type": "code",
   "execution_count": 46,
   "metadata": {},
   "outputs": [],
   "source": [
    "def floors(row):\n",
    "    floors_total = row['floors_total']\n",
    "    floor = row['floor']\n",
    "    if floor == 1:\n",
    "        return 'первый'\n",
    "    elif floor == floors_total:\n",
    "        return 'последний'\n",
    "    else:\n",
    "        return 'другой'"
   ]
  },
  {
   "cell_type": "code",
   "execution_count": 47,
   "metadata": {},
   "outputs": [],
   "source": [
    "data['floors_type'] = data.apply(floors, axis=1)"
   ]
  },
  {
   "cell_type": "markdown",
   "metadata": {},
   "source": [
    "#### Расстояние до центра в км"
   ]
  },
  {
   "cell_type": "code",
   "execution_count": 48,
   "metadata": {},
   "outputs": [],
   "source": [
    "def nearest(metrs):\n",
    "    return int(metrs/1000)"
   ]
  },
  {
   "cell_type": "code",
   "execution_count": 49,
   "metadata": {},
   "outputs": [],
   "source": [
    "data['city_centers_nearest_km'] = data['cityCenters_nearest'].apply(nearest)"
   ]
  },
  {
   "cell_type": "code",
   "execution_count": 50,
   "metadata": {
    "scrolled": true
   },
   "outputs": [
    {
     "data": {
      "text/html": [
       "<div>\n",
       "<style scoped>\n",
       "    .dataframe tbody tr th:only-of-type {\n",
       "        vertical-align: middle;\n",
       "    }\n",
       "\n",
       "    .dataframe tbody tr th {\n",
       "        vertical-align: top;\n",
       "    }\n",
       "\n",
       "    .dataframe thead th {\n",
       "        text-align: right;\n",
       "    }\n",
       "</style>\n",
       "<table border=\"1\" class=\"dataframe\">\n",
       "  <thead>\n",
       "    <tr style=\"text-align: right;\">\n",
       "      <th></th>\n",
       "      <th>total_images</th>\n",
       "      <th>last_price</th>\n",
       "      <th>total_area</th>\n",
       "      <th>first_day_exposition</th>\n",
       "      <th>rooms</th>\n",
       "      <th>ceiling_height</th>\n",
       "      <th>floors_total</th>\n",
       "      <th>living_area</th>\n",
       "      <th>floor</th>\n",
       "      <th>is_apartment</th>\n",
       "      <th>...</th>\n",
       "      <th>parks_nearest</th>\n",
       "      <th>ponds_around3000</th>\n",
       "      <th>ponds_nearest</th>\n",
       "      <th>days_exposition</th>\n",
       "      <th>price_one_square_meter</th>\n",
       "      <th>weekday</th>\n",
       "      <th>month</th>\n",
       "      <th>years</th>\n",
       "      <th>floors_type</th>\n",
       "      <th>city_centers_nearest_km</th>\n",
       "    </tr>\n",
       "  </thead>\n",
       "  <tbody>\n",
       "    <tr>\n",
       "      <th>0</th>\n",
       "      <td>20</td>\n",
       "      <td>13000000</td>\n",
       "      <td>108.0</td>\n",
       "      <td>2019-03-07</td>\n",
       "      <td>3</td>\n",
       "      <td>NaN</td>\n",
       "      <td>16</td>\n",
       "      <td>51.0</td>\n",
       "      <td>8</td>\n",
       "      <td>False</td>\n",
       "      <td>...</td>\n",
       "      <td>482</td>\n",
       "      <td>2</td>\n",
       "      <td>755</td>\n",
       "      <td>-1</td>\n",
       "      <td>120370.370370</td>\n",
       "      <td>3</td>\n",
       "      <td>3</td>\n",
       "      <td>2019</td>\n",
       "      <td>другой</td>\n",
       "      <td>16</td>\n",
       "    </tr>\n",
       "    <tr>\n",
       "      <th>1</th>\n",
       "      <td>7</td>\n",
       "      <td>3350000</td>\n",
       "      <td>40.4</td>\n",
       "      <td>2018-12-04</td>\n",
       "      <td>1</td>\n",
       "      <td>NaN</td>\n",
       "      <td>11</td>\n",
       "      <td>18.6</td>\n",
       "      <td>1</td>\n",
       "      <td>False</td>\n",
       "      <td>...</td>\n",
       "      <td>-1</td>\n",
       "      <td>0</td>\n",
       "      <td>-1</td>\n",
       "      <td>81</td>\n",
       "      <td>82920.792079</td>\n",
       "      <td>1</td>\n",
       "      <td>12</td>\n",
       "      <td>2018</td>\n",
       "      <td>первый</td>\n",
       "      <td>18</td>\n",
       "    </tr>\n",
       "    <tr>\n",
       "      <th>2</th>\n",
       "      <td>10</td>\n",
       "      <td>5196000</td>\n",
       "      <td>56.0</td>\n",
       "      <td>2015-08-20</td>\n",
       "      <td>2</td>\n",
       "      <td>NaN</td>\n",
       "      <td>5</td>\n",
       "      <td>34.3</td>\n",
       "      <td>4</td>\n",
       "      <td>False</td>\n",
       "      <td>...</td>\n",
       "      <td>90</td>\n",
       "      <td>2</td>\n",
       "      <td>574</td>\n",
       "      <td>558</td>\n",
       "      <td>92785.714286</td>\n",
       "      <td>3</td>\n",
       "      <td>8</td>\n",
       "      <td>2015</td>\n",
       "      <td>другой</td>\n",
       "      <td>13</td>\n",
       "    </tr>\n",
       "    <tr>\n",
       "      <th>3</th>\n",
       "      <td>0</td>\n",
       "      <td>64900000</td>\n",
       "      <td>159.0</td>\n",
       "      <td>2015-07-24</td>\n",
       "      <td>3</td>\n",
       "      <td>NaN</td>\n",
       "      <td>14</td>\n",
       "      <td>95.0</td>\n",
       "      <td>9</td>\n",
       "      <td>False</td>\n",
       "      <td>...</td>\n",
       "      <td>84</td>\n",
       "      <td>3</td>\n",
       "      <td>234</td>\n",
       "      <td>424</td>\n",
       "      <td>408176.100629</td>\n",
       "      <td>4</td>\n",
       "      <td>7</td>\n",
       "      <td>2015</td>\n",
       "      <td>другой</td>\n",
       "      <td>6</td>\n",
       "    </tr>\n",
       "    <tr>\n",
       "      <th>4</th>\n",
       "      <td>2</td>\n",
       "      <td>10000000</td>\n",
       "      <td>100.0</td>\n",
       "      <td>2018-06-19</td>\n",
       "      <td>2</td>\n",
       "      <td>NaN</td>\n",
       "      <td>14</td>\n",
       "      <td>32.0</td>\n",
       "      <td>13</td>\n",
       "      <td>False</td>\n",
       "      <td>...</td>\n",
       "      <td>112</td>\n",
       "      <td>1</td>\n",
       "      <td>48</td>\n",
       "      <td>121</td>\n",
       "      <td>100000.000000</td>\n",
       "      <td>1</td>\n",
       "      <td>6</td>\n",
       "      <td>2018</td>\n",
       "      <td>другой</td>\n",
       "      <td>8</td>\n",
       "    </tr>\n",
       "  </tbody>\n",
       "</table>\n",
       "<p>5 rows × 28 columns</p>\n",
       "</div>"
      ],
      "text/plain": [
       "   total_images  last_price  total_area first_day_exposition  rooms  \\\n",
       "0            20    13000000       108.0           2019-03-07      3   \n",
       "1             7     3350000        40.4           2018-12-04      1   \n",
       "2            10     5196000        56.0           2015-08-20      2   \n",
       "3             0    64900000       159.0           2015-07-24      3   \n",
       "4             2    10000000       100.0           2018-06-19      2   \n",
       "\n",
       "   ceiling_height  floors_total  living_area  floor  is_apartment  ...  \\\n",
       "0             NaN            16         51.0      8         False  ...   \n",
       "1             NaN            11         18.6      1         False  ...   \n",
       "2             NaN             5         34.3      4         False  ...   \n",
       "3             NaN            14         95.0      9         False  ...   \n",
       "4             NaN            14         32.0     13         False  ...   \n",
       "\n",
       "   parks_nearest  ponds_around3000  ponds_nearest  days_exposition  \\\n",
       "0            482                 2            755               -1   \n",
       "1             -1                 0             -1               81   \n",
       "2             90                 2            574              558   \n",
       "3             84                 3            234              424   \n",
       "4            112                 1             48              121   \n",
       "\n",
       "  price_one_square_meter  weekday  month  years  floors_type  \\\n",
       "0          120370.370370        3      3   2019       другой   \n",
       "1           82920.792079        1     12   2018       первый   \n",
       "2           92785.714286        3      8   2015       другой   \n",
       "3          408176.100629        4      7   2015       другой   \n",
       "4          100000.000000        1      6   2018       другой   \n",
       "\n",
       "   city_centers_nearest_km  \n",
       "0                       16  \n",
       "1                       18  \n",
       "2                       13  \n",
       "3                        6  \n",
       "4                        8  \n",
       "\n",
       "[5 rows x 28 columns]"
      ]
     },
     "execution_count": 50,
     "metadata": {},
     "output_type": "execute_result"
    }
   ],
   "source": [
    "data.head()"
   ]
  },
  {
   "cell_type": "markdown",
   "metadata": {},
   "source": [
    "### Исследовательский анализ данных"
   ]
  },
  {
   "cell_type": "markdown",
   "metadata": {},
   "source": [
    "#### Анализ данных"
   ]
  },
  {
   "cell_type": "markdown",
   "metadata": {},
   "source": [
    "##### Общая площадь"
   ]
  },
  {
   "cell_type": "code",
   "execution_count": 51,
   "metadata": {
    "scrolled": true
   },
   "outputs": [
    {
     "data": {
      "image/png": "[encoded data removed]",
      "text/plain": [
       "<Figure size 432x288 with 1 Axes>"
      ]
     },
     "metadata": {
      "needs_background": "light"
     },
     "output_type": "display_data"
    },
    {
     "data": {
      "image/png": "[encoded data removed]",
      "text/plain": [
       "<Figure size 432x288 with 1 Axes>"
      ]
     },
     "metadata": {
      "needs_background": "light"
     },
     "output_type": "display_data"
    }
   ],
   "source": [
    "data['total_area'].hist(bins=100)\n",
    "plt.show()\n",
    "data['total_area'].hist(bins=100, range=(0,150))\n",
    "plt.show()"
   ]
  },
  {
   "cell_type": "markdown",
   "metadata": {},
   "source": [
    "Общая площадь в основном колеблется от 30 до 150 квадратных метров. Распределение похоже на Пуассона"
   ]
  },
  {
   "cell_type": "markdown",
   "metadata": {},
   "source": [
    "##### Жилая площадь"
   ]
  },
  {
   "cell_type": "code",
   "execution_count": 52,
   "metadata": {},
   "outputs": [
    {
     "data": {
      "image/png": "[encoded data removed]",
      "text/plain": [
       "<Figure size 432x288 with 1 Axes>"
      ]
     },
     "metadata": {
      "needs_background": "light"
     },
     "output_type": "display_data"
    },
    {
     "data": {
      "image/png": "[encoded data removed]",
      "text/plain": [
       "<Figure size 432x288 with 1 Axes>"
      ]
     },
     "metadata": {
      "needs_background": "light"
     },
     "output_type": "display_data"
    }
   ],
   "source": [
    "data['living_area'].hist(bins=100)\n",
    "plt.show()\n",
    "data['total_area'].hist(bins=100, range=(0,150))\n",
    "plt.show()"
   ]
  },
  {
   "cell_type": "markdown",
   "metadata": {},
   "source": [
    "В жилой площади видно, что пик приходится на 45 метров, однако помещений с жилой площадью 50 метров значительно меньше "
   ]
  },
  {
   "cell_type": "markdown",
   "metadata": {},
   "source": [
    "##### Площадь кухни"
   ]
  },
  {
   "cell_type": "code",
   "execution_count": 53,
   "metadata": {},
   "outputs": [
    {
     "data": {
      "image/png": "[encoded data removed]",
      "text/plain": [
       "<Figure size 432x288 with 1 Axes>"
      ]
     },
     "metadata": {
      "needs_background": "light"
     },
     "output_type": "display_data"
    },
    {
     "data": {
      "image/png": "[encoded data removed]",
      "text/plain": [
       "<Figure size 432x288 with 1 Axes>"
      ]
     },
     "metadata": {
      "needs_background": "light"
     },
     "output_type": "display_data"
    }
   ],
   "source": [
    "data['kitchen_area'].hist(bins=100)\n",
    "plt.show()\n",
    "data['total_area'].hist(bins=100, range=(0,150))\n",
    "plt.show()"
   ]
  },
  {
   "cell_type": "markdown",
   "metadata": {},
   "source": [
    "Видно значительно много помещений без кухни (0 квадратных метров) или без данных о кухне. Остальные данные похожи на распределение Пуассона. Заметны выбросы при площади болше 60 метров. Пик приходится на кухни в 45 квалратных метров"
   ]
  },
  {
   "cell_type": "markdown",
   "metadata": {},
   "source": [
    "##### Цена объекта"
   ]
  },
  {
   "cell_type": "code",
   "execution_count": 54,
   "metadata": {},
   "outputs": [
    {
     "data": {
      "image/png": "[encoded data removed]",
      "text/plain": [
       "<Figure size 432x288 with 1 Axes>"
      ]
     },
     "metadata": {
      "needs_background": "light"
     },
     "output_type": "display_data"
    }
   ],
   "source": [
    "data['last_price'].hist(bins=100, range=(0, 40000000))\n",
    "plt.show()"
   ]
  },
  {
   "cell_type": "markdown",
   "metadata": {},
   "source": [
    "Большенство помещение стоят в районе 5000000. "
   ]
  },
  {
   "cell_type": "markdown",
   "metadata": {},
   "source": [
    "##### Количество комнат"
   ]
  },
  {
   "cell_type": "code",
   "execution_count": 55,
   "metadata": {},
   "outputs": [
    {
     "data": {
      "image/png": "[encoded data removed]",
      "text/plain": [
       "<Figure size 432x288 with 1 Axes>"
      ]
     },
     "metadata": {
      "needs_background": "light"
     },
     "output_type": "display_data"
    }
   ],
   "source": [
    "data['rooms'].hist(bins=20)\n",
    "plt.show()"
   ]
  },
  {
   "cell_type": "markdown",
   "metadata": {},
   "source": [
    "В основном в помещениях от 1 до 6 комнат, так же есть незначительная доля помещений с количеством комнат более 10"
   ]
  },
  {
   "cell_type": "markdown",
   "metadata": {},
   "source": [
    "##### Высота потолков"
   ]
  },
  {
   "cell_type": "code",
   "execution_count": 56,
   "metadata": {},
   "outputs": [
    {
     "data": {
      "image/png": "[encoded data removed]",
      "text/plain": [
       "<Figure size 432x288 with 1 Axes>"
      ]
     },
     "metadata": {
      "needs_background": "light"
     },
     "output_type": "display_data"
    }
   ],
   "source": [
    "data['ceiling_height'].hist(bins=10)\n",
    "plt.show()"
   ]
  },
  {
   "cell_type": "markdown",
   "metadata": {},
   "source": [
    "Высота потолков колеблется от 1 до 3 метров, есть одни выброс с высотой потолка 10 м (в первоначальных данных это было 100м, возможно данные указали в см, то есть это 1 м)"
   ]
  },
  {
   "cell_type": "markdown",
   "metadata": {},
   "source": [
    "##### Этаж квартиры"
   ]
  },
  {
   "cell_type": "code",
   "execution_count": 57,
   "metadata": {},
   "outputs": [
    {
     "data": {
      "image/png": "[encoded data removed]",
      "text/plain": [
       "<Figure size 432x288 with 1 Axes>"
      ]
     },
     "metadata": {
      "needs_background": "light"
     },
     "output_type": "display_data"
    }
   ],
   "source": [
    "data['floor'].hist(bins=30)\n",
    "plt.show()"
   ]
  },
  {
   "cell_type": "markdown",
   "metadata": {},
   "source": [
    "График этажей квартиры похож на распределение Пуассона. Колеблются этажи от 1 до 30"
   ]
  },
  {
   "cell_type": "markdown",
   "metadata": {},
   "source": [
    "##### Тип этажа квартиры"
   ]
  },
  {
   "cell_type": "code",
   "execution_count": 58,
   "metadata": {},
   "outputs": [
    {
     "data": {
      "image/png": "[encoded data removed]",
      "text/plain": [
       "<Figure size 432x288 with 1 Axes>"
      ]
     },
     "metadata": {
      "needs_background": "light"
     },
     "output_type": "display_data"
    }
   ],
   "source": [
    "data['floors_type'].hist(bins=3)\n",
    "plt.show()"
   ]
  },
  {
   "cell_type": "markdown",
   "metadata": {},
   "source": [
    "Большинство квартир находятся не на первом и не на последнем этажах."
   ]
  },
  {
   "cell_type": "markdown",
   "metadata": {},
   "source": [
    "##### Общее количество этажей в доме"
   ]
  },
  {
   "cell_type": "code",
   "execution_count": 59,
   "metadata": {},
   "outputs": [
    {
     "data": {
      "image/png": "[encoded data removed]",
      "text/plain": [
       "<Figure size 432x288 with 1 Axes>"
      ]
     },
     "metadata": {
      "needs_background": "light"
     },
     "output_type": "display_data"
    }
   ],
   "source": [
    "data['floors_total'].hist(bins=40)\n",
    "plt.show()"
   ]
  },
  {
   "cell_type": "markdown",
   "metadata": {},
   "source": [
    "Данные реалистичны, есть несколько домов с неизвестной этажностью"
   ]
  },
  {
   "cell_type": "markdown",
   "metadata": {},
   "source": [
    "##### Растояние до центра города"
   ]
  },
  {
   "cell_type": "code",
   "execution_count": 60,
   "metadata": {},
   "outputs": [
    {
     "data": {
      "image/png": "[encoded data removed]",
      "text/plain": [
       "<Figure size 432x288 with 1 Axes>"
      ]
     },
     "metadata": {
      "needs_background": "light"
     },
     "output_type": "display_data"
    },
    {
     "data": {
      "image/png": "[encoded data removed]",
      "text/plain": [
       "<Figure size 432x288 with 1 Axes>"
      ]
     },
     "metadata": {
      "needs_background": "light"
     },
     "output_type": "display_data"
    }
   ],
   "source": [
    "data['cityCenters_nearest'].hist(bins=100)\n",
    "plt.show()\n",
    "data['cityCenters_nearest'].hist(bins=100, range=(0, 40000))\n",
    "plt.show()"
   ]
  },
  {
   "cell_type": "markdown",
   "metadata": {},
   "source": [
    "Очень много помещений о которых неизвестно расстояние до центра. В основном помещения находятся на расстояние от 10 до 20 км от центра"
   ]
  },
  {
   "cell_type": "markdown",
   "metadata": {},
   "source": [
    "##### Растояние до аэропорта"
   ]
  },
  {
   "cell_type": "code",
   "execution_count": 61,
   "metadata": {},
   "outputs": [
    {
     "data": {
      "image/png": "[encoded data removed]",
      "text/plain": [
       "<Figure size 432x288 with 1 Axes>"
      ]
     },
     "metadata": {
      "needs_background": "light"
     },
     "output_type": "display_data"
    },
    {
     "data": {
      "image/png": "[encoded data removed]",
      "text/plain": [
       "<Figure size 432x288 with 1 Axes>"
      ]
     },
     "metadata": {
      "needs_background": "light"
     },
     "output_type": "display_data"
    }
   ],
   "source": [
    "data['airports_nearest'].hist(bins=100)\n",
    "plt.show()\n",
    "data['airports_nearest'].hist(bins=100, range=(0, 60000))\n",
    "plt.show()"
   ]
  },
  {
   "cell_type": "markdown",
   "metadata": {},
   "source": [
    "Очень много помещений о которых неизвестно расстояние до аэропорта. В основном помещения находятся на расстояние от 10 до 60 км от центра"
   ]
  },
  {
   "cell_type": "markdown",
   "metadata": {},
   "source": [
    "##### Расстояние до ближайшего парка"
   ]
  },
  {
   "cell_type": "code",
   "execution_count": 62,
   "metadata": {},
   "outputs": [
    {
     "data": {
      "text/plain": [
       "<AxesSubplot:>"
      ]
     },
     "execution_count": 62,
     "metadata": {},
     "output_type": "execute_result"
    },
    {
     "data": {
      "image/png": "[encoded data removed]",
      "text/plain": [
       "<Figure size 432x288 with 1 Axes>"
      ]
     },
     "metadata": {
      "needs_background": "light"
     },
     "output_type": "display_data"
    }
   ],
   "source": [
    "data['parks_nearest'].hist(bins=100, range=(0,3000))"
   ]
  },
  {
   "cell_type": "markdown",
   "metadata": {},
   "source": [
    "Очень много помещений о которых неизвестно расстояние до ближайшего парка."
   ]
  },
  {
   "cell_type": "markdown",
   "metadata": {},
   "source": [
    "##### День и месяц публикации объявления"
   ]
  },
  {
   "cell_type": "code",
   "execution_count": 63,
   "metadata": {},
   "outputs": [
    {
     "data": {
      "text/plain": [
       "<AxesSubplot:>"
      ]
     },
     "execution_count": 63,
     "metadata": {},
     "output_type": "execute_result"
    },
    {
     "data": {
      "image/png": "[encoded data removed]",
      "text/plain": [
       "<Figure size 432x288 with 1 Axes>"
      ]
     },
     "metadata": {
      "needs_background": "light"
     },
     "output_type": "display_data"
    }
   ],
   "source": [
    "data['weekday'].hist(bins=7)"
   ]
  },
  {
   "cell_type": "markdown",
   "metadata": {},
   "source": [
    "В выходные объявлений выкладывается меньше, чем в будние дни"
   ]
  },
  {
   "cell_type": "code",
   "execution_count": 64,
   "metadata": {},
   "outputs": [
    {
     "data": {
      "text/plain": [
       "<AxesSubplot:>"
      ]
     },
     "execution_count": 64,
     "metadata": {},
     "output_type": "execute_result"
    },
    {
     "data": {
      "image/png": "[encoded data removed]",
      "text/plain": [
       "<Figure size 432x288 with 1 Axes>"
      ]
     },
     "metadata": {
      "needs_background": "light"
     },
     "output_type": "display_data"
    }
   ],
   "source": [
    "data['month'].hist(bins=12)"
   ]
  },
  {
   "cell_type": "markdown",
   "metadata": {},
   "source": [
    "Меньше всего объявлений выкладывается в январе и в мая, больше всего в феврале и марте."
   ]
  },
  {
   "cell_type": "markdown",
   "metadata": {},
   "source": [
    "Сводка выводов:\n",
    "- Данные выглядят правдопадобно, за исключением некоторых выбросов\n",
    "- Много графиков похожи на распредеоение Пуассона\n",
    "- Много пропусков в столбцах с автоматическим заполнением, скорее всего из-за технических проблем или неотлаженной работы автоматического заполнения"
   ]
  },
  {
   "cell_type": "markdown",
   "metadata": {},
   "source": [
    "#### Время продажи квартир"
   ]
  },
  {
   "cell_type": "code",
   "execution_count": 65,
   "metadata": {
    "slideshow": {
     "slide_type": "-"
    }
   },
   "outputs": [
    {
     "data": {
      "text/plain": [
       "<AxesSubplot:>"
      ]
     },
     "execution_count": 65,
     "metadata": {},
     "output_type": "execute_result"
    },
    {
     "data": {
      "image/png": "[encoded data removed]",
      "text/plain": [
       "<Figure size 432x288 with 1 Axes>"
      ]
     },
     "metadata": {
      "needs_background": "light"
     },
     "output_type": "display_data"
    }
   ],
   "source": [
    "data['days_exposition'].hist(bins=100, range=(0, 1600))"
   ]
  },
  {
   "cell_type": "code",
   "execution_count": 66,
   "metadata": {},
   "outputs": [
    {
     "data": {
      "text/plain": [
       "'Медиана: 95.0'"
      ]
     },
     "metadata": {},
     "output_type": "display_data"
    },
    {
     "data": {
      "text/plain": [
       "'Среднее: 180.56757285351065'"
      ]
     },
     "metadata": {},
     "output_type": "display_data"
    }
   ],
   "source": [
    "days = data.query('days_exposition>=0')\n",
    "display(f'Медиана: {days[\"days_exposition\"].median()}')\n",
    "display(f'Среднее: {days[\"days_exposition\"].mean()}')"
   ]
  },
  {
   "cell_type": "code",
   "execution_count": 67,
   "metadata": {},
   "outputs": [
    {
     "data": {
      "text/plain": [
       "count    20452.000000\n",
       "mean       180.567573\n",
       "std        219.472464\n",
       "min          1.000000\n",
       "25%         45.000000\n",
       "50%         95.000000\n",
       "75%        231.000000\n",
       "max       1580.000000\n",
       "Name: days_exposition, dtype: float64"
      ]
     },
     "execution_count": 67,
     "metadata": {},
     "output_type": "execute_result"
    }
   ],
   "source": [
    "days['days_exposition'].describe()"
   ]
  },
  {
   "cell_type": "markdown",
   "metadata": {},
   "source": [
    "Быстрыми продажами можно считать те, что были размещены менее 95 дней, долгими те, что были размещены болеее 230 дней "
   ]
  },
  {
   "cell_type": "code",
   "execution_count": 68,
   "metadata": {},
   "outputs": [],
   "source": [
    "def selling_speed(days_exposition):\n",
    "    if days_exposition < 0:\n",
    "        return 'Неизвестно'\n",
    "    elif days_exposition < 95:\n",
    "        return 'Быстрая'\n",
    "    elif days_exposition > 230:\n",
    "        return 'Долгая'\n",
    "    else:\n",
    "        return 'Средняя'"
   ]
  },
  {
   "cell_type": "code",
   "execution_count": 69,
   "metadata": {},
   "outputs": [],
   "source": [
    "data['selling_speed'] = data['days_exposition'].apply(selling_speed)"
   ]
  },
  {
   "cell_type": "markdown",
   "metadata": {},
   "source": [
    "#### Зависимость цены от различных параметров"
   ]
  },
  {
   "cell_type": "markdown",
   "metadata": {},
   "source": [
    "##### Общая площадь"
   ]
  },
  {
   "cell_type": "code",
   "execution_count": 70,
   "metadata": {},
   "outputs": [
    {
     "data": {
      "image/png": "[encoded data removed]",
      "text/plain": [
       "<Figure size 864x360 with 1 Axes>"
      ]
     },
     "metadata": {
      "needs_background": "light"
     },
     "output_type": "display_data"
    },
    {
     "data": {
      "text/plain": [
       "'Коэффициент корреляции равен 0.8157277009871785'"
      ]
     },
     "execution_count": 70,
     "metadata": {},
     "output_type": "execute_result"
    }
   ],
   "source": [
    "data_total_area = data.pivot_table(index = 'total_area', values = 'last_price')\n",
    "data_total_area['total_area'] = data_total_area.index\n",
    "data_total_area.plot(x='total_area', y='last_price', kind='scatter', figsize=(12, 5))\n",
    "plt.show()\n",
    "f'Коэффициент корреляции равен {data_total_area[\"total_area\"].corr(data_total_area[\"last_price\"])}'"
   ]
  },
  {
   "cell_type": "markdown",
   "metadata": {},
   "source": [
    "В начале графика видно, что цена зависит от площади силно, но эта сильная зависимость пропадает, когда площадь начинает привышать 150 квадратных метров. Коэффициент корреляции Пирсона подтверждает, что данные довольно сильно взаимосвязаны между собой"
   ]
  },
  {
   "cell_type": "markdown",
   "metadata": {},
   "source": [
    "##### Жилая площадь"
   ]
  },
  {
   "cell_type": "code",
   "execution_count": 71,
   "metadata": {},
   "outputs": [
    {
     "data": {
      "image/png": "[encoded data removed]",
      "text/plain": [
       "<Figure size 864x360 with 1 Axes>"
      ]
     },
     "metadata": {
      "needs_background": "light"
     },
     "output_type": "display_data"
    },
    {
     "data": {
      "text/plain": [
       "'Коэффициент корреляции равен 0.7602840852927233'"
      ]
     },
     "execution_count": 71,
     "metadata": {},
     "output_type": "execute_result"
    }
   ],
   "source": [
    "data_living_area = data.pivot_table(index = 'living_area', values = 'last_price')\n",
    "data_living_area['living_area'] = data_living_area.index\n",
    "data_living_area.plot(x='living_area', y='last_price', kind='scatter', figsize=(12, 5))\n",
    "plt.show()\n",
    "f'Коэффициент корреляции равен {data_living_area[\"living_area\"].corr(data_living_area[\"last_price\"])}'"
   ]
  },
  {
   "cell_type": "markdown",
   "metadata": {},
   "source": [
    "С жилой площадью ситуация похожа на предыдущую, но также есть небольшие коллебания в начале графика. Из коэффициента корреляции видно, что зависимость немного меньше"
   ]
  },
  {
   "cell_type": "markdown",
   "metadata": {},
   "source": [
    "##### Площадь кухни"
   ]
  },
  {
   "cell_type": "code",
   "execution_count": 72,
   "metadata": {},
   "outputs": [
    {
     "data": {
      "image/png": "[encoded data removed]",
      "text/plain": [
       "<Figure size 864x360 with 1 Axes>"
      ]
     },
     "metadata": {
      "needs_background": "light"
     },
     "output_type": "display_data"
    },
    {
     "data": {
      "text/plain": [
       "'Коэффициент корреляции равен 0.6792728015787839'"
      ]
     },
     "execution_count": 72,
     "metadata": {},
     "output_type": "execute_result"
    }
   ],
   "source": [
    "data_kitchen_area = data.pivot_table(index = 'kitchen_area', values = 'last_price')\n",
    "data_kitchen_area['kitchen_area'] = data_kitchen_area.index\n",
    "data_kitchen_area.plot(x='kitchen_area', y='last_price', kind='scatter', figsize=(12, 5))\n",
    "plt.show()\n",
    "f'Коэффициент корреляции равен {data_kitchen_area[\"kitchen_area\"].corr(data_kitchen_area[\"last_price\"])}'"
   ]
  },
  {
   "cell_type": "markdown",
   "metadata": {},
   "source": [
    "На графике наблюдаются сильные колебания цены от площади кухни. Небольшая зависимость есть"
   ]
  },
  {
   "cell_type": "markdown",
   "metadata": {},
   "source": [
    "##### Количество комнат"
   ]
  },
  {
   "cell_type": "code",
   "execution_count": 73,
   "metadata": {},
   "outputs": [
    {
     "data": {
      "image/png": "[encoded data removed]",
      "text/plain": [
       "<Figure size 864x360 with 1 Axes>"
      ]
     },
     "metadata": {
      "needs_background": "light"
     },
     "output_type": "display_data"
    },
    {
     "data": {
      "text/plain": [
       "'Коэффициент корреляции равен 0.9030295733805512'"
      ]
     },
     "execution_count": 73,
     "metadata": {},
     "output_type": "execute_result"
    }
   ],
   "source": [
    "data_rooms = data.pivot_table(index = 'rooms', values = 'last_price')\n",
    "data_rooms.plot(figsize=(12, 5))\n",
    "plt.show()\n",
    "data_rooms['rooms'] = data_rooms.index\n",
    "f'Коэффициент корреляции равен {data_rooms[\"rooms\"].corr(data_rooms[\"last_price\"])}'"
   ]
  },
  {
   "cell_type": "markdown",
   "metadata": {},
   "source": [
    "Очень хорошо видна зависимость: чем больше комнат, тем больше цена помещения. Коэффициент корреляции подтверждает данные графика"
   ]
  },
  {
   "cell_type": "markdown",
   "metadata": {},
   "source": [
    "##### Тип этажа"
   ]
  },
  {
   "cell_type": "code",
   "execution_count": 74,
   "metadata": {},
   "outputs": [
    {
     "data": {
      "image/png": "[encoded data removed]",
      "text/plain": [
       "<Figure size 864x360 with 1 Axes>"
      ]
     },
     "metadata": {
      "needs_background": "light"
     },
     "output_type": "display_data"
    }
   ],
   "source": [
    "data.pivot_table(index = 'floors_type', values = 'last_price').plot(figsize=(12, 5))\n",
    "plt.show()"
   ]
  },
  {
   "cell_type": "markdown",
   "metadata": {},
   "source": [
    "Если квартира находится на первом этаже, цена значительно снижается, по сравнению с другими вариантами"
   ]
  },
  {
   "cell_type": "markdown",
   "metadata": {},
   "source": [
    "##### День недели"
   ]
  },
  {
   "cell_type": "code",
   "execution_count": 75,
   "metadata": {},
   "outputs": [
    {
     "data": {
      "image/png": "[encoded data removed]",
      "text/plain": [
       "<Figure size 864x360 with 1 Axes>"
      ]
     },
     "metadata": {
      "needs_background": "light"
     },
     "output_type": "display_data"
    }
   ],
   "source": [
    "data.pivot_table(index = 'weekday', values = 'last_price').plot(figsize=(12, 5))\n",
    "plt.show()"
   ]
  },
  {
   "cell_type": "markdown",
   "metadata": {},
   "source": [
    "Интересно, что график похож на нормальное распределение. Помещения, продаваемые с середины недели стоят дороже, чем, продаваемые с начала или конца недели"
   ]
  },
  {
   "cell_type": "markdown",
   "metadata": {},
   "source": [
    "##### Месяц"
   ]
  },
  {
   "cell_type": "code",
   "execution_count": 76,
   "metadata": {},
   "outputs": [
    {
     "data": {
      "image/png": "[encoded data removed]",
      "text/plain": [
       "<Figure size 864x360 with 1 Axes>"
      ]
     },
     "metadata": {
      "needs_background": "light"
     },
     "output_type": "display_data"
    }
   ],
   "source": [
    "data.pivot_table(index = 'month', values = 'last_price').plot(figsize=(12, 5))\n",
    "plt.show()"
   ]
  },
  {
   "cell_type": "markdown",
   "metadata": {},
   "source": [
    "Цена скачит от месяца к месяцу"
   ]
  },
  {
   "cell_type": "markdown",
   "metadata": {},
   "source": [
    "##### Год"
   ]
  },
  {
   "cell_type": "code",
   "execution_count": 77,
   "metadata": {},
   "outputs": [
    {
     "data": {
      "image/png": "[encoded data removed]",
      "text/plain": [
       "<Figure size 864x360 with 1 Axes>"
      ]
     },
     "metadata": {
      "needs_background": "light"
     },
     "output_type": "display_data"
    }
   ],
   "source": [
    "data.pivot_table(index = 'years', values = 'last_price').plot(figsize=(12, 5))\n",
    "plt.show()"
   ]
  },
  {
   "cell_type": "markdown",
   "metadata": {},
   "source": [
    "В 2014 году квартиры были значительно дороже, чем в последующие года, скорее всего на это повлиял кризис 2014 года. После 2014 года цена постепенно снижалась до 2018. И в 2019 произошел небольшой скачок цены наверх"
   ]
  },
  {
   "cell_type": "code",
   "execution_count": 78,
   "metadata": {},
   "outputs": [
    {
     "data": {
      "image/png": "[encoded data removed]",
      "text/plain": [
       "<Figure size 864x360 with 1 Axes>"
      ]
     },
     "metadata": {
      "needs_background": "light"
     },
     "output_type": "display_data"
    }
   ],
   "source": [
    "data.pivot_table(index = 'years', values = 'total_area').plot(figsize=(12, 5))\n",
    "plt.show()"
   ]
  },
  {
   "cell_type": "markdown",
   "metadata": {},
   "source": [
    "С 2014 года сильно упала площадь продаваемых квартир, следовательно упала и их цен. Кризис тут непричем (хотя он должен был внести свой вклад в цены квартир)"
   ]
  },
  {
   "cell_type": "markdown",
   "metadata": {},
   "source": [
    "#### Цена за квадратный метр"
   ]
  },
  {
   "cell_type": "code",
   "execution_count": 79,
   "metadata": {},
   "outputs": [
    {
     "data": {
      "text/html": [
       "<div>\n",
       "<style scoped>\n",
       "    .dataframe tbody tr th:only-of-type {\n",
       "        vertical-align: middle;\n",
       "    }\n",
       "\n",
       "    .dataframe tbody tr th {\n",
       "        vertical-align: top;\n",
       "    }\n",
       "\n",
       "    .dataframe thead th {\n",
       "        text-align: right;\n",
       "    }\n",
       "</style>\n",
       "<table border=\"1\" class=\"dataframe\">\n",
       "  <thead>\n",
       "    <tr style=\"text-align: right;\">\n",
       "      <th></th>\n",
       "      <th>count</th>\n",
       "      <th>mean</th>\n",
       "    </tr>\n",
       "    <tr>\n",
       "      <th>locality_name</th>\n",
       "      <th></th>\n",
       "      <th></th>\n",
       "    </tr>\n",
       "  </thead>\n",
       "  <tbody>\n",
       "    <tr>\n",
       "      <th>санкт-петербург</th>\n",
       "      <td>15640</td>\n",
       "      <td>113222.279376</td>\n",
       "    </tr>\n",
       "    <tr>\n",
       "      <th>пушкин</th>\n",
       "      <td>368</td>\n",
       "      <td>103100.890905</td>\n",
       "    </tr>\n",
       "    <tr>\n",
       "      <th>кудрово</th>\n",
       "      <td>472</td>\n",
       "      <td>95324.930544</td>\n",
       "    </tr>\n",
       "    <tr>\n",
       "      <th>поселок парголово</th>\n",
       "      <td>327</td>\n",
       "      <td>90175.913458</td>\n",
       "    </tr>\n",
       "    <tr>\n",
       "      <th>мурино</th>\n",
       "      <td>590</td>\n",
       "      <td>86087.512050</td>\n",
       "    </tr>\n",
       "    <tr>\n",
       "      <th>поселок шушары</th>\n",
       "      <td>440</td>\n",
       "      <td>78677.364217</td>\n",
       "    </tr>\n",
       "    <tr>\n",
       "      <th>колпино</th>\n",
       "      <td>338</td>\n",
       "      <td>75424.579098</td>\n",
       "    </tr>\n",
       "    <tr>\n",
       "      <th>гатчина</th>\n",
       "      <td>307</td>\n",
       "      <td>68746.146763</td>\n",
       "    </tr>\n",
       "    <tr>\n",
       "      <th>всеволожск</th>\n",
       "      <td>398</td>\n",
       "      <td>68654.473986</td>\n",
       "    </tr>\n",
       "    <tr>\n",
       "      <th>выборг</th>\n",
       "      <td>237</td>\n",
       "      <td>58141.909153</td>\n",
       "    </tr>\n",
       "  </tbody>\n",
       "</table>\n",
       "</div>"
      ],
      "text/plain": [
       "                   count           mean\n",
       "locality_name                          \n",
       "санкт-петербург    15640  113222.279376\n",
       "пушкин               368  103100.890905\n",
       "кудрово              472   95324.930544\n",
       "поселок парголово    327   90175.913458\n",
       "мурино               590   86087.512050\n",
       "поселок шушары       440   78677.364217\n",
       "колпино              338   75424.579098\n",
       "гатчина              307   68746.146763\n",
       "всеволожск           398   68654.473986\n",
       "выборг               237   58141.909153"
      ]
     },
     "execution_count": 79,
     "metadata": {},
     "output_type": "execute_result"
    }
   ],
   "source": [
    "data_price_one_meter = data.pivot_table(index='locality_name', values='price_one_square_meter', aggfunc=['count', 'mean'])\n",
    "data_price_one_meter.columns = ['count', 'mean']\n",
    "data_price_one_meter.sort_values(by='count', ascending=False)[:10].sort_values(by='mean', ascending = False)"
   ]
  },
  {
   "cell_type": "markdown",
   "metadata": {},
   "source": [
    "Самое дорогое жилье (цена за квадратные метр) в самом городе Санкт-Петербург, далее идут Пушкин и Кудрово. Самое дешевое жилье в Выборге, немного дороже во Всеволожске и Гатчине"
   ]
  },
  {
   "cell_type": "markdown",
   "metadata": {},
   "source": [
    "#### Цена за киллометр"
   ]
  },
  {
   "cell_type": "code",
   "execution_count": 80,
   "metadata": {},
   "outputs": [
    {
     "data": {
      "image/png": "[encoded data removed]",
      "text/plain": [
       "<Figure size 864x360 with 1 Axes>"
      ]
     },
     "metadata": {
      "needs_background": "light"
     },
     "output_type": "display_data"
    }
   ],
   "source": [
    "data_st = data.query('locality_name == \"санкт-петербург\"').pivot_table(index='city_centers_nearest_km', values='last_price')\n",
    "data_st.plot(figsize=(12,5), grid = True, title = 'Заголовок');"
   ]
  },
  {
   "cell_type": "markdown",
   "metadata": {},
   "source": [
    "Чем ближе помещение к центру Санкт-Петербурга, тем оно дороже. Есть скачки, но они незначительные."
   ]
  },
  {
   "cell_type": "markdown",
   "metadata": {},
   "source": [
    "### Общий вывод\n",
    "\n"
   ]
  },
  {
   "cell_type": "markdown",
   "metadata": {},
   "source": [
    "#### В ходе исследование была проделана следующая работа:\n",
    "- Проверены данные на пропуски, дубликаты и аномалии\n",
    "- Изменены неккоректные типы данных\n",
    "- Добавлены необходимые для анализа столбцы в таблицу\n",
    "- Проведен исследовательский анализ всех необходимых данных\n",
    "- Вычислена зависимость цены от различных параметров\n",
    "- Составлена сводная таблица самых интересных районов Ленинградской области в зависимости от количества и цены помещений \n",
    "\n",
    "#### Были сделаны следующие выводы.\n",
    "На цену помещения влияют многие параметры:\n",
    "- Сильно влияют параметры площади, особенно если площадь небольшая. Чем больше площадь помещения, тем меньше ее значение влияет на общую стоимость это видно из следующих графиков и коэффициентоа корреляции.\n",
    "\n",
    "Тип площади   | Коэффициент корреляции Пирсона\n",
    "------------- | -----------------------\n",
    "Полная площадь| 0.82\n",
    "Жилая площадь | 0.76\n",
    "Площадь кухни | 0.68"
   ]
  },
  {
   "cell_type": "code",
   "execution_count": 81,
   "metadata": {},
   "outputs": [
    {
     "data": {
      "image/png": "[encoded data removed]",
      "text/plain": [
       "<Figure size 504x216 with 1 Axes>"
      ]
     },
     "metadata": {
      "needs_background": "light"
     },
     "output_type": "display_data"
    },
    {
     "data": {
      "image/png": "[encoded data removed]",
      "text/plain": [
       "<Figure size 504x216 with 1 Axes>"
      ]
     },
     "metadata": {
      "needs_background": "light"
     },
     "output_type": "display_data"
    },
    {
     "data": {
      "image/png": "[encoded data removed]",
      "text/plain": [
       "<Figure size 504x216 with 1 Axes>"
      ]
     },
     "metadata": {
      "needs_background": "light"
     },
     "output_type": "display_data"
    }
   ],
   "source": [
    "data_total_area.plot(x='total_area', y='last_price', kind='scatter', figsize=(7, 3), grid = True, \n",
    "                     title = 'Зависимость цены от полной площади помещения')\n",
    "data_living_area.plot(x='living_area', y='last_price', kind='scatter', figsize=(7, 3), grid = True, \n",
    "                      title = 'Зависимость цены от жилой площади помещения')\n",
    "data_kitchen_area.plot(x='kitchen_area', y='last_price', kind='scatter', figsize=(7, 3), grid = True, \n",
    "                       title = 'Зависимость цены от площади кухни в помещения')\n",
    "plt.show()"
   ]
  },
  {
   "cell_type": "markdown",
   "metadata": {},
   "source": [
    "- Сильно влияет на цену количество комнат в помещение. Убедится в этом можно на следующем графике. Это логично, так как количество комнат зависит от площади. Коэффициент корреляци равный 0.9 подтверждает данные графики"
   ]
  },
  {
   "cell_type": "code",
   "execution_count": 82,
   "metadata": {},
   "outputs": [
    {
     "data": {
      "image/png": "[encoded data removed]",
      "text/plain": [
       "<Figure size 864x360 with 1 Axes>"
      ]
     },
     "metadata": {
      "needs_background": "light"
     },
     "output_type": "display_data"
    }
   ],
   "source": [
    "data_rooms['last_price'].plot(figsize=(12, 5), grid = True, title = 'Зависимость цены от жилой площади помещения')\n",
    "plt.show()"
   ]
  },
  {
   "cell_type": "markdown",
   "metadata": {},
   "source": [
    "- Квартиры на первом этаже сильно уступают в цене квартирам на других этажах. Это логично, так как квартыры на первом и последних этажах считаются самыми неудобными. Хотя данные также показывают, что квартиры на последнем этаже не уступаю в стоимости другим\n",
    "- Цены на различные помещения сильно упали в цене с 2014 года. Хотя в 2019 году цена на них поднялась, она осталась все еще сильно меньше, чем в 2014 году. Это следует из факта, что такими же темпами падала площадь продаваемых помещений, что еще раз доказывает сильное влияние общей площади на цену.\n",
    "- В квартирах, находящихся в Санкт-Петербурге цена за квадратный метр выше, чем в других регионах. Вот сводная таблица по самым популярным регионам Ленинградской области:\n",
    "\n",
    "Населенный пункт  | Цена за квадратный метр\n",
    "----------------- | -----------------------\n",
    "Санкт-Петербург   | 113567.387578\n",
    "Пушкин            | 103100.890905\n",
    "Кудрово           | 95324.930544\n",
    "поселок Парголово | 90175.913458\n",
    "Мурино            | 86087.512050\n",
    "поселок Шушары    | 78677.364217\n",
    "Колпино           | 75424.579098\n",
    "Гатчина           | 68746.146763\n",
    "Всеволожск        | 68654.473986\n",
    "Выборг            | 58141.909153\n",
    "\n",
    "- Также стоимость помещения зависит от удаленности от центра, в центре инфраструктура и доступность многих объектов лучше, поэтому квартиры дороже:"
   ]
  },
  {
   "cell_type": "code",
   "execution_count": 83,
   "metadata": {},
   "outputs": [
    {
     "data": {
      "image/png": "[encoded data removed]",
      "text/plain": [
       "<Figure size 504x216 with 1 Axes>"
      ]
     },
     "metadata": {
      "needs_background": "light"
     },
     "output_type": "display_data"
    }
   ],
   "source": [
    "data_st.plot(figsize=(7,3), grid = True, title = 'Зависимость цены от удаленности помещения от центра')\n",
    "plt.show()"
   ]
  },
  {
   "cell_type": "markdown",
   "metadata": {},
   "source": [
    "Таким образом на стоимость квартиры сильнее всего влияет площадь и количество комнат, чуть хуже, но тоже сильно влияют параметры: населенный пункт и расстояние до центра. Другие параметры не рассматривались в данном проекте так подробно, как эти, поэтому нельзя сказать, что только 4 характеристики влияют на стоимость."
   ]
  }
 ],
 "metadata": {
  "ExecuteTimeLog": [
   {
    "duration": 616,
    "start_time": "2022-11-06T18:27:31.945Z"
   },
   {
    "duration": 98,
    "start_time": "2022-11-06T18:27:53.826Z"
   },
   {
    "duration": 76,
    "start_time": "2022-11-06T18:29:13.156Z"
   },
   {
    "duration": 95,
    "start_time": "2022-11-06T18:29:24.350Z"
   },
   {
    "duration": 128,
    "start_time": "2022-11-06T18:29:47.178Z"
   },
   {
    "duration": 124,
    "start_time": "2022-11-06T18:30:34.098Z"
   },
   {
    "duration": 107,
    "start_time": "2022-11-06T18:30:47.320Z"
   },
   {
    "duration": 101,
    "start_time": "2022-11-06T18:33:50.448Z"
   },
   {
    "duration": 140,
    "start_time": "2022-11-06T18:34:12.574Z"
   },
   {
    "duration": 102,
    "start_time": "2022-11-06T18:34:31.178Z"
   },
   {
    "duration": 98,
    "start_time": "2022-11-06T18:34:44.953Z"
   },
   {
    "duration": 129,
    "start_time": "2022-11-06T18:35:06.177Z"
   },
   {
    "duration": 16,
    "start_time": "2022-11-06T18:36:19.004Z"
   },
   {
    "duration": 2843,
    "start_time": "2022-11-06T18:38:55.545Z"
   },
   {
    "duration": 33,
    "start_time": "2022-11-06T18:50:59.814Z"
   },
   {
    "duration": 12,
    "start_time": "2022-11-06T18:53:13.194Z"
   },
   {
    "duration": 10,
    "start_time": "2022-11-06T18:53:20.114Z"
   },
   {
    "duration": 11,
    "start_time": "2022-11-06T19:01:54.537Z"
   },
   {
    "duration": 79,
    "start_time": "2022-11-06T19:03:28.783Z"
   },
   {
    "duration": 10,
    "start_time": "2022-11-06T19:03:36.413Z"
   },
   {
    "duration": 8,
    "start_time": "2022-11-06T19:03:40.916Z"
   },
   {
    "duration": 9,
    "start_time": "2022-11-06T19:04:53.635Z"
   },
   {
    "duration": 160,
    "start_time": "2022-11-06T19:05:10.216Z"
   },
   {
    "duration": 9,
    "start_time": "2022-11-06T19:05:53.545Z"
   },
   {
    "duration": 53,
    "start_time": "2022-11-06T19:06:00.918Z"
   },
   {
    "duration": 67,
    "start_time": "2022-11-06T19:08:08.965Z"
   },
   {
    "duration": 12,
    "start_time": "2022-11-06T19:10:20.962Z"
   },
   {
    "duration": 9,
    "start_time": "2022-11-06T19:11:35.112Z"
   },
   {
    "duration": 8,
    "start_time": "2022-11-06T19:12:02.239Z"
   },
   {
    "duration": 7,
    "start_time": "2022-11-06T19:12:20.975Z"
   },
   {
    "duration": 14,
    "start_time": "2022-11-06T19:22:55.125Z"
   },
   {
    "duration": 9,
    "start_time": "2022-11-06T19:22:58.973Z"
   },
   {
    "duration": 14,
    "start_time": "2022-11-06T19:23:06.317Z"
   },
   {
    "duration": 5,
    "start_time": "2022-11-06T19:23:12.931Z"
   },
   {
    "duration": 53,
    "start_time": "2022-11-06T19:23:30.412Z"
   },
   {
    "duration": 29,
    "start_time": "2022-11-06T19:23:59.810Z"
   },
   {
    "duration": 16,
    "start_time": "2022-11-06T19:24:25.626Z"
   },
   {
    "duration": 44,
    "start_time": "2022-11-06T19:24:54.463Z"
   },
   {
    "duration": 28,
    "start_time": "2022-11-06T19:25:02.712Z"
   },
   {
    "duration": 26,
    "start_time": "2022-11-06T19:25:50.704Z"
   },
   {
    "duration": 29,
    "start_time": "2022-11-06T19:26:04.112Z"
   },
   {
    "duration": 18,
    "start_time": "2022-11-06T19:26:09.939Z"
   },
   {
    "duration": 21,
    "start_time": "2022-11-06T19:26:24.033Z"
   },
   {
    "duration": 17,
    "start_time": "2022-11-06T19:26:45.591Z"
   },
   {
    "duration": 10,
    "start_time": "2022-11-06T19:28:50.772Z"
   },
   {
    "duration": 11,
    "start_time": "2022-11-06T19:29:04.771Z"
   },
   {
    "duration": 255,
    "start_time": "2022-11-06T19:29:16.340Z"
   },
   {
    "duration": 25,
    "start_time": "2022-11-06T19:29:44.260Z"
   },
   {
    "duration": 1336,
    "start_time": "2022-11-06T19:31:52.039Z"
   },
   {
    "duration": 21,
    "start_time": "2022-11-06T19:32:21.329Z"
   },
   {
    "duration": 19,
    "start_time": "2022-11-06T19:32:54.769Z"
   },
   {
    "duration": 59,
    "start_time": "2022-11-06T19:35:32.319Z"
   },
   {
    "duration": 82,
    "start_time": "2022-11-06T19:35:39.985Z"
   },
   {
    "duration": 95,
    "start_time": "2022-11-06T19:36:27.368Z"
   },
   {
    "duration": 12,
    "start_time": "2022-11-06T19:38:52.402Z"
   },
   {
    "duration": 7,
    "start_time": "2022-11-06T19:39:10.048Z"
   },
   {
    "duration": 49,
    "start_time": "2022-11-06T19:39:17.750Z"
   },
   {
    "duration": 132,
    "start_time": "2022-11-06T19:39:29.404Z"
   },
   {
    "duration": 18,
    "start_time": "2022-11-06T19:39:30.514Z"
   },
   {
    "duration": 2335,
    "start_time": "2022-11-06T19:39:31.468Z"
   },
   {
    "duration": 21,
    "start_time": "2022-11-06T19:39:33.806Z"
   },
   {
    "duration": 14,
    "start_time": "2022-11-06T19:39:34.577Z"
   },
   {
    "duration": 7,
    "start_time": "2022-11-06T19:39:35.530Z"
   },
   {
    "duration": 59,
    "start_time": "2022-11-06T19:39:37.724Z"
   },
   {
    "duration": 9,
    "start_time": "2022-11-06T19:40:10.110Z"
   },
   {
    "duration": 10,
    "start_time": "2022-11-06T19:40:33.752Z"
   },
   {
    "duration": 6,
    "start_time": "2022-11-06T19:40:42.340Z"
   },
   {
    "duration": 9,
    "start_time": "2022-11-06T19:41:27.998Z"
   },
   {
    "duration": 10,
    "start_time": "2022-11-06T19:41:33.414Z"
   },
   {
    "duration": 5,
    "start_time": "2022-11-06T19:42:35.008Z"
   },
   {
    "duration": 6,
    "start_time": "2022-11-06T19:42:46.651Z"
   },
   {
    "duration": 8,
    "start_time": "2022-11-06T19:43:06.896Z"
   },
   {
    "duration": 3,
    "start_time": "2022-11-06T19:43:49.739Z"
   },
   {
    "duration": 4,
    "start_time": "2022-11-06T19:45:08.041Z"
   },
   {
    "duration": 4,
    "start_time": "2022-11-06T19:45:23.439Z"
   },
   {
    "duration": 8,
    "start_time": "2022-11-06T19:49:30.171Z"
   },
   {
    "duration": 8,
    "start_time": "2022-11-06T19:51:13.082Z"
   },
   {
    "duration": 16,
    "start_time": "2022-11-06T19:51:28.458Z"
   },
   {
    "duration": 16,
    "start_time": "2022-11-06T19:52:36.707Z"
   },
   {
    "duration": 33,
    "start_time": "2022-11-06T19:52:49.155Z"
   },
   {
    "duration": 10,
    "start_time": "2022-11-06T19:53:15.353Z"
   },
   {
    "duration": 26,
    "start_time": "2022-11-06T19:54:08.259Z"
   },
   {
    "duration": 47,
    "start_time": "2022-11-06T19:54:19.640Z"
   },
   {
    "duration": 10,
    "start_time": "2022-11-06T19:57:15.842Z"
   },
   {
    "duration": 21,
    "start_time": "2022-11-06T19:57:31.195Z"
   },
   {
    "duration": 11,
    "start_time": "2022-11-06T19:59:45.731Z"
   },
   {
    "duration": 14,
    "start_time": "2022-11-06T19:59:52.332Z"
   },
   {
    "duration": 8,
    "start_time": "2022-11-06T20:00:11.741Z"
   },
   {
    "duration": 21,
    "start_time": "2022-11-06T20:00:30.638Z"
   },
   {
    "duration": 16,
    "start_time": "2022-11-06T20:02:50.855Z"
   },
   {
    "duration": 130,
    "start_time": "2022-11-06T20:07:30.809Z"
   },
   {
    "duration": 15,
    "start_time": "2022-11-06T20:07:30.941Z"
   },
   {
    "duration": 2324,
    "start_time": "2022-11-06T20:07:30.958Z"
   },
   {
    "duration": 10,
    "start_time": "2022-11-06T20:07:33.284Z"
   },
   {
    "duration": 10,
    "start_time": "2022-11-06T20:07:33.296Z"
   },
   {
    "duration": 14,
    "start_time": "2022-11-06T20:07:33.324Z"
   },
   {
    "duration": 6,
    "start_time": "2022-11-06T20:07:33.340Z"
   },
   {
    "duration": 7,
    "start_time": "2022-11-06T20:07:33.348Z"
   },
   {
    "duration": 7,
    "start_time": "2022-11-06T20:07:33.357Z"
   },
   {
    "duration": 7,
    "start_time": "2022-11-06T20:07:33.365Z"
   },
   {
    "duration": 16,
    "start_time": "2022-11-06T20:07:47.382Z"
   },
   {
    "duration": 46,
    "start_time": "2022-11-06T20:12:19.364Z"
   },
   {
    "duration": 4,
    "start_time": "2022-11-06T20:12:40.225Z"
   },
   {
    "duration": 44,
    "start_time": "2022-11-06T20:12:41.052Z"
   },
   {
    "duration": 4,
    "start_time": "2022-11-06T20:16:04.846Z"
   },
   {
    "duration": 129,
    "start_time": "2022-11-06T20:21:10.944Z"
   },
   {
    "duration": 17,
    "start_time": "2022-11-06T20:21:11.075Z"
   },
   {
    "duration": 2323,
    "start_time": "2022-11-06T20:21:11.093Z"
   },
   {
    "duration": 15,
    "start_time": "2022-11-06T20:21:13.418Z"
   },
   {
    "duration": 7,
    "start_time": "2022-11-06T20:21:13.436Z"
   },
   {
    "duration": 10,
    "start_time": "2022-11-06T20:21:13.445Z"
   },
   {
    "duration": 8,
    "start_time": "2022-11-06T20:21:13.457Z"
   },
   {
    "duration": 4,
    "start_time": "2022-11-06T20:21:13.467Z"
   },
   {
    "duration": 5,
    "start_time": "2022-11-06T20:21:13.473Z"
   },
   {
    "duration": 44,
    "start_time": "2022-11-06T20:21:13.480Z"
   },
   {
    "duration": 10,
    "start_time": "2022-11-06T20:21:53.146Z"
   },
   {
    "duration": 492,
    "start_time": "2022-11-08T08:16:34.199Z"
   },
   {
    "duration": 13,
    "start_time": "2022-11-08T08:16:35.127Z"
   },
   {
    "duration": 89,
    "start_time": "2022-11-08T08:19:49.911Z"
   },
   {
    "duration": 12,
    "start_time": "2022-11-08T08:19:52.312Z"
   },
   {
    "duration": 2010,
    "start_time": "2022-11-08T08:19:54.083Z"
   },
   {
    "duration": 9,
    "start_time": "2022-11-08T08:19:59.526Z"
   },
   {
    "duration": 5,
    "start_time": "2022-11-08T08:20:00.836Z"
   },
   {
    "duration": 6,
    "start_time": "2022-11-08T08:20:01.775Z"
   },
   {
    "duration": 5,
    "start_time": "2022-11-08T08:20:03.034Z"
   },
   {
    "duration": 4,
    "start_time": "2022-11-08T08:20:04.372Z"
   },
   {
    "duration": 3,
    "start_time": "2022-11-08T08:20:05.255Z"
   },
   {
    "duration": 3,
    "start_time": "2022-11-08T08:20:05.989Z"
   },
   {
    "duration": 7,
    "start_time": "2022-11-08T08:20:08.192Z"
   },
   {
    "duration": 25,
    "start_time": "2022-11-08T08:20:12.418Z"
   },
   {
    "duration": 13,
    "start_time": "2022-11-08T08:20:19.887Z"
   },
   {
    "duration": 38,
    "start_time": "2022-11-08T08:21:17.750Z"
   },
   {
    "duration": 3,
    "start_time": "2022-11-08T08:25:49.477Z"
   },
   {
    "duration": 21,
    "start_time": "2022-11-08T08:26:13.665Z"
   },
   {
    "duration": 4,
    "start_time": "2022-11-08T08:27:12.258Z"
   },
   {
    "duration": 4,
    "start_time": "2022-11-08T08:27:13.466Z"
   },
   {
    "duration": 3,
    "start_time": "2022-11-08T08:27:19.133Z"
   },
   {
    "duration": 3,
    "start_time": "2022-11-08T08:27:25.709Z"
   },
   {
    "duration": 2,
    "start_time": "2022-11-08T08:27:43.637Z"
   },
   {
    "duration": 4,
    "start_time": "2022-11-08T08:27:44.244Z"
   },
   {
    "duration": 4,
    "start_time": "2022-11-08T08:27:53.294Z"
   },
   {
    "duration": 4,
    "start_time": "2022-11-08T08:27:54.264Z"
   },
   {
    "duration": 4,
    "start_time": "2022-11-08T08:28:04.927Z"
   },
   {
    "duration": 12,
    "start_time": "2022-11-08T08:29:02.731Z"
   },
   {
    "duration": 3,
    "start_time": "2022-11-08T08:29:12.919Z"
   },
   {
    "duration": 13,
    "start_time": "2022-11-08T08:29:13.410Z"
   },
   {
    "duration": 12,
    "start_time": "2022-11-08T08:29:24.985Z"
   },
   {
    "duration": 11,
    "start_time": "2022-11-08T08:31:40.223Z"
   },
   {
    "duration": 14,
    "start_time": "2022-11-08T08:31:52.438Z"
   },
   {
    "duration": 12,
    "start_time": "2022-11-08T08:32:05.524Z"
   },
   {
    "duration": 14,
    "start_time": "2022-11-08T08:32:31.427Z"
   },
   {
    "duration": 12,
    "start_time": "2022-11-08T08:32:33.180Z"
   },
   {
    "duration": 4,
    "start_time": "2022-11-08T08:34:19.460Z"
   },
   {
    "duration": 61,
    "start_time": "2022-11-08T08:34:30.114Z"
   },
   {
    "duration": 7,
    "start_time": "2022-11-08T08:35:37.534Z"
   },
   {
    "duration": 5,
    "start_time": "2022-11-08T08:35:47.963Z"
   },
   {
    "duration": 5,
    "start_time": "2022-11-08T08:36:39.912Z"
   },
   {
    "duration": 3,
    "start_time": "2022-11-08T08:37:39.974Z"
   },
   {
    "duration": 4,
    "start_time": "2022-11-08T08:38:01.791Z"
   },
   {
    "duration": 4,
    "start_time": "2022-11-08T08:38:08.901Z"
   },
   {
    "duration": 3,
    "start_time": "2022-11-08T08:38:16.993Z"
   },
   {
    "duration": 36,
    "start_time": "2022-11-08T08:38:55.783Z"
   },
   {
    "duration": 36,
    "start_time": "2022-11-08T08:39:23.399Z"
   },
   {
    "duration": 4,
    "start_time": "2022-11-08T08:41:47.581Z"
   },
   {
    "duration": 7,
    "start_time": "2022-11-08T08:41:51.908Z"
   },
   {
    "duration": 6,
    "start_time": "2022-11-08T09:03:56.550Z"
   },
   {
    "duration": 848,
    "start_time": "2022-11-08T09:04:20.759Z"
   },
   {
    "duration": 1336,
    "start_time": "2022-11-08T09:04:27.579Z"
   },
   {
    "duration": 17,
    "start_time": "2022-11-08T09:04:42.387Z"
   },
   {
    "duration": 13,
    "start_time": "2022-11-08T09:04:56.795Z"
   },
   {
    "duration": 10,
    "start_time": "2022-11-08T09:05:19.477Z"
   },
   {
    "duration": 11,
    "start_time": "2022-11-08T09:06:21.681Z"
   },
   {
    "duration": 7,
    "start_time": "2022-11-08T09:06:50.314Z"
   },
   {
    "duration": 19,
    "start_time": "2022-11-08T09:07:03.645Z"
   },
   {
    "duration": 13,
    "start_time": "2022-11-08T09:07:21.102Z"
   },
   {
    "duration": 15,
    "start_time": "2022-11-08T09:07:36.821Z"
   },
   {
    "duration": 40,
    "start_time": "2022-11-08T09:07:49.701Z"
   },
   {
    "duration": 14,
    "start_time": "2022-11-08T09:08:06.077Z"
   },
   {
    "duration": 37,
    "start_time": "2022-11-08T09:08:11.405Z"
   },
   {
    "duration": 31,
    "start_time": "2022-11-08T09:08:41.189Z"
   },
   {
    "duration": 13,
    "start_time": "2022-11-08T09:08:49.973Z"
   },
   {
    "duration": 10,
    "start_time": "2022-11-08T09:09:23.172Z"
   },
   {
    "duration": 15,
    "start_time": "2022-11-08T09:09:36.275Z"
   },
   {
    "duration": 17,
    "start_time": "2022-11-08T09:10:00.168Z"
   },
   {
    "duration": 123,
    "start_time": "2022-11-08T09:13:47.858Z"
   },
   {
    "duration": 14,
    "start_time": "2022-11-08T09:13:47.984Z"
   },
   {
    "duration": 2110,
    "start_time": "2022-11-08T09:13:48.000Z"
   },
   {
    "duration": 9,
    "start_time": "2022-11-08T09:13:50.112Z"
   },
   {
    "duration": 8,
    "start_time": "2022-11-08T09:13:50.123Z"
   },
   {
    "duration": 31,
    "start_time": "2022-11-08T09:13:50.133Z"
   },
   {
    "duration": 17,
    "start_time": "2022-11-08T09:13:50.166Z"
   },
   {
    "duration": 12,
    "start_time": "2022-11-08T09:13:50.185Z"
   },
   {
    "duration": 7,
    "start_time": "2022-11-08T09:13:50.198Z"
   },
   {
    "duration": 9,
    "start_time": "2022-11-08T09:13:50.206Z"
   },
   {
    "duration": 13,
    "start_time": "2022-11-08T09:13:50.216Z"
   },
   {
    "duration": 26,
    "start_time": "2022-11-08T09:13:50.230Z"
   },
   {
    "duration": 7,
    "start_time": "2022-11-08T09:14:18.866Z"
   },
   {
    "duration": 134,
    "start_time": "2022-11-08T09:14:20.174Z"
   },
   {
    "duration": 69,
    "start_time": "2022-11-08T09:14:29.243Z"
   },
   {
    "duration": 73,
    "start_time": "2022-11-08T09:14:37.757Z"
   },
   {
    "duration": 5,
    "start_time": "2022-11-08T09:14:56.319Z"
   },
   {
    "duration": 5,
    "start_time": "2022-11-08T09:15:28.585Z"
   },
   {
    "duration": 6,
    "start_time": "2022-11-08T09:15:51.622Z"
   },
   {
    "duration": 7,
    "start_time": "2022-11-08T09:16:20.409Z"
   },
   {
    "duration": 85,
    "start_time": "2022-11-08T09:17:10.665Z"
   },
   {
    "duration": 12,
    "start_time": "2022-11-08T09:17:10.752Z"
   },
   {
    "duration": 1821,
    "start_time": "2022-11-08T09:17:10.766Z"
   },
   {
    "duration": 10,
    "start_time": "2022-11-08T09:17:12.590Z"
   },
   {
    "duration": 18,
    "start_time": "2022-11-08T09:17:12.602Z"
   },
   {
    "duration": 11,
    "start_time": "2022-11-08T09:17:12.622Z"
   },
   {
    "duration": 20,
    "start_time": "2022-11-08T09:17:12.636Z"
   },
   {
    "duration": 8,
    "start_time": "2022-11-08T09:17:12.658Z"
   },
   {
    "duration": 7,
    "start_time": "2022-11-08T09:17:12.668Z"
   },
   {
    "duration": 9,
    "start_time": "2022-11-08T09:17:12.678Z"
   },
   {
    "duration": 5,
    "start_time": "2022-11-08T09:17:12.688Z"
   },
   {
    "duration": 35,
    "start_time": "2022-11-08T09:17:12.694Z"
   },
   {
    "duration": 26,
    "start_time": "2022-11-08T09:17:12.730Z"
   },
   {
    "duration": 126,
    "start_time": "2022-11-08T09:17:12.758Z"
   },
   {
    "duration": 6,
    "start_time": "2022-11-08T09:17:12.885Z"
   },
   {
    "duration": 9,
    "start_time": "2022-11-08T09:17:54.320Z"
   },
   {
    "duration": 33,
    "start_time": "2022-11-08T09:19:02.837Z"
   },
   {
    "duration": 3,
    "start_time": "2022-11-08T09:19:33.722Z"
   },
   {
    "duration": 6342,
    "start_time": "2022-11-08T09:19:34.170Z"
   },
   {
    "duration": 3,
    "start_time": "2022-11-08T09:19:51.498Z"
   },
   {
    "duration": 14722,
    "start_time": "2022-11-08T09:19:52.074Z"
   },
   {
    "duration": 3,
    "start_time": "2022-11-08T09:20:06.799Z"
   },
   {
    "duration": 29357,
    "start_time": "2022-11-08T09:20:07.238Z"
   },
   {
    "duration": 27892,
    "start_time": "2022-11-08T09:21:16.374Z"
   },
   {
    "duration": 32,
    "start_time": "2022-11-08T09:21:44.267Z"
   },
   {
    "duration": 4,
    "start_time": "2022-11-08T09:21:47.096Z"
   },
   {
    "duration": 14134,
    "start_time": "2022-11-08T09:21:48.758Z"
   },
   {
    "duration": 4,
    "start_time": "2022-11-08T09:23:43.264Z"
   },
   {
    "duration": 47,
    "start_time": "2022-11-08T09:23:43.967Z"
   },
   {
    "duration": 90,
    "start_time": "2022-11-08T09:24:19.584Z"
   },
   {
    "duration": 21,
    "start_time": "2022-11-08T09:25:05.799Z"
   },
   {
    "duration": 2,
    "start_time": "2022-11-08T09:25:53.053Z"
   },
   {
    "duration": 2176,
    "start_time": "2022-11-08T09:25:56.499Z"
   },
   {
    "duration": 4,
    "start_time": "2022-11-08T09:26:36.138Z"
   },
   {
    "duration": 4,
    "start_time": "2022-11-08T09:26:43.890Z"
   },
   {
    "duration": 4,
    "start_time": "2022-11-08T09:27:08.685Z"
   },
   {
    "duration": 11097,
    "start_time": "2022-11-08T09:27:11.061Z"
   },
   {
    "duration": 4042,
    "start_time": "2022-11-08T09:27:27.699Z"
   },
   {
    "duration": 3,
    "start_time": "2022-11-08T09:27:47.250Z"
   },
   {
    "duration": 286,
    "start_time": "2022-11-08T09:27:47.958Z"
   },
   {
    "duration": 2,
    "start_time": "2022-11-08T09:28:07.005Z"
   },
   {
    "duration": 296,
    "start_time": "2022-11-08T09:28:07.816Z"
   },
   {
    "duration": 3,
    "start_time": "2022-11-08T09:28:24.971Z"
   },
   {
    "duration": 46,
    "start_time": "2022-11-08T09:28:25.575Z"
   },
   {
    "duration": 4,
    "start_time": "2022-11-08T09:29:10.376Z"
   },
   {
    "duration": 93,
    "start_time": "2022-11-08T09:29:44.732Z"
   },
   {
    "duration": 12,
    "start_time": "2022-11-08T09:29:44.826Z"
   },
   {
    "duration": 2022,
    "start_time": "2022-11-08T09:29:44.840Z"
   },
   {
    "duration": 10,
    "start_time": "2022-11-08T09:29:46.864Z"
   },
   {
    "duration": 10,
    "start_time": "2022-11-08T09:29:46.876Z"
   },
   {
    "duration": 8,
    "start_time": "2022-11-08T09:29:46.888Z"
   },
   {
    "duration": 9,
    "start_time": "2022-11-08T09:29:46.898Z"
   },
   {
    "duration": 14,
    "start_time": "2022-11-08T09:29:46.909Z"
   },
   {
    "duration": 33,
    "start_time": "2022-11-08T09:29:46.924Z"
   },
   {
    "duration": 8,
    "start_time": "2022-11-08T09:29:46.958Z"
   },
   {
    "duration": 7,
    "start_time": "2022-11-08T09:29:46.967Z"
   },
   {
    "duration": 3,
    "start_time": "2022-11-08T09:29:55.180Z"
   },
   {
    "duration": 121,
    "start_time": "2022-11-08T09:29:56.542Z"
   },
   {
    "duration": 5,
    "start_time": "2022-11-08T09:30:02.027Z"
   },
   {
    "duration": 4,
    "start_time": "2022-11-08T09:30:18.998Z"
   },
   {
    "duration": 4,
    "start_time": "2022-11-08T09:30:36.402Z"
   },
   {
    "duration": 3,
    "start_time": "2022-11-08T09:30:47.437Z"
   },
   {
    "duration": 3,
    "start_time": "2022-11-08T09:31:18.846Z"
   },
   {
    "duration": 4,
    "start_time": "2022-11-08T09:31:30.695Z"
   },
   {
    "duration": 2,
    "start_time": "2022-11-08T09:31:56.463Z"
   },
   {
    "duration": 408,
    "start_time": "2022-11-08T09:32:00.791Z"
   },
   {
    "duration": 14,
    "start_time": "2022-11-08T09:32:53.085Z"
   },
   {
    "duration": 11,
    "start_time": "2022-11-08T09:33:00.274Z"
   },
   {
    "duration": 29,
    "start_time": "2022-11-08T09:33:16.944Z"
   },
   {
    "duration": 3,
    "start_time": "2022-11-08T09:38:56.391Z"
   },
   {
    "duration": 71,
    "start_time": "2022-11-08T09:38:56.855Z"
   },
   {
    "duration": 5,
    "start_time": "2022-11-08T09:38:57.998Z"
   },
   {
    "duration": 8,
    "start_time": "2022-11-08T10:29:59.553Z"
   },
   {
    "duration": 10,
    "start_time": "2022-11-08T10:30:59.152Z"
   },
   {
    "duration": 5,
    "start_time": "2022-11-08T10:31:50.811Z"
   },
   {
    "duration": 1188,
    "start_time": "2022-11-08T10:34:49.527Z"
   },
   {
    "duration": 16,
    "start_time": "2022-11-08T10:35:03.867Z"
   },
   {
    "duration": 17,
    "start_time": "2022-11-08T10:37:23.403Z"
   },
   {
    "duration": 37,
    "start_time": "2022-11-08T10:39:02.747Z"
   },
   {
    "duration": 12,
    "start_time": "2022-11-08T10:47:12.786Z"
   },
   {
    "duration": 31,
    "start_time": "2022-11-08T10:47:30.769Z"
   },
   {
    "duration": 7,
    "start_time": "2022-11-08T10:49:43.899Z"
   },
   {
    "duration": 21,
    "start_time": "2022-11-08T10:50:29.106Z"
   },
   {
    "duration": 32,
    "start_time": "2022-11-08T10:50:30.670Z"
   },
   {
    "duration": 2,
    "start_time": "2022-11-08T10:52:15.502Z"
   },
   {
    "duration": 34,
    "start_time": "2022-11-08T11:34:11.300Z"
   },
   {
    "duration": 30,
    "start_time": "2022-11-08T11:34:11.999Z"
   },
   {
    "duration": 32,
    "start_time": "2022-11-08T11:48:35.271Z"
   },
   {
    "duration": 45,
    "start_time": "2022-11-08T11:48:41.442Z"
   },
   {
    "duration": 12,
    "start_time": "2022-11-08T11:56:14.936Z"
   },
   {
    "duration": 19,
    "start_time": "2022-11-08T11:57:48.300Z"
   },
   {
    "duration": 22,
    "start_time": "2022-11-08T11:58:07.468Z"
   },
   {
    "duration": 29,
    "start_time": "2022-11-08T11:58:49.031Z"
   },
   {
    "duration": 26,
    "start_time": "2022-11-08T11:58:56.168Z"
   },
   {
    "duration": 30,
    "start_time": "2022-11-08T11:59:02.963Z"
   },
   {
    "duration": 24,
    "start_time": "2022-11-08T11:59:13.279Z"
   },
   {
    "duration": 110,
    "start_time": "2022-11-08T11:59:47.031Z"
   },
   {
    "duration": 22,
    "start_time": "2022-11-08T11:59:47.142Z"
   },
   {
    "duration": 2078,
    "start_time": "2022-11-08T11:59:47.167Z"
   },
   {
    "duration": 28,
    "start_time": "2022-11-08T11:59:49.247Z"
   },
   {
    "duration": 16,
    "start_time": "2022-11-08T11:59:49.278Z"
   },
   {
    "duration": 7,
    "start_time": "2022-11-08T11:59:49.296Z"
   },
   {
    "duration": 13,
    "start_time": "2022-11-08T11:59:49.305Z"
   },
   {
    "duration": 10,
    "start_time": "2022-11-08T11:59:49.320Z"
   },
   {
    "duration": 18,
    "start_time": "2022-11-08T11:59:49.332Z"
   },
   {
    "duration": 32,
    "start_time": "2022-11-08T11:59:49.352Z"
   },
   {
    "duration": 17,
    "start_time": "2022-11-08T11:59:49.390Z"
   },
   {
    "duration": 43,
    "start_time": "2022-11-08T11:59:49.409Z"
   },
   {
    "duration": 32,
    "start_time": "2022-11-08T11:59:49.454Z"
   },
   {
    "duration": 138,
    "start_time": "2022-11-08T11:59:49.488Z"
   },
   {
    "duration": 4,
    "start_time": "2022-11-08T11:59:49.627Z"
   },
   {
    "duration": 16,
    "start_time": "2022-11-08T11:59:49.633Z"
   },
   {
    "duration": 7,
    "start_time": "2022-11-08T11:59:49.650Z"
   },
   {
    "duration": 72,
    "start_time": "2022-11-08T11:59:49.658Z"
   },
   {
    "duration": 33,
    "start_time": "2022-11-08T11:59:49.731Z"
   },
   {
    "duration": 59,
    "start_time": "2022-11-08T11:59:49.766Z"
   },
   {
    "duration": 20,
    "start_time": "2022-11-08T11:59:49.827Z"
   },
   {
    "duration": 27,
    "start_time": "2022-11-08T11:59:49.857Z"
   },
   {
    "duration": 388,
    "start_time": "2022-11-08T12:04:14.726Z"
   },
   {
    "duration": 366,
    "start_time": "2022-11-08T12:04:23.723Z"
   },
   {
    "duration": 350,
    "start_time": "2022-11-08T12:04:35.873Z"
   },
   {
    "duration": 3,
    "start_time": "2022-11-08T12:06:12.850Z"
   },
   {
    "duration": 5,
    "start_time": "2022-11-08T12:06:15.892Z"
   },
   {
    "duration": 42,
    "start_time": "2022-11-08T17:53:06.273Z"
   },
   {
    "duration": 551,
    "start_time": "2022-11-08T17:53:36.680Z"
   },
   {
    "duration": 13,
    "start_time": "2022-11-08T17:53:37.232Z"
   },
   {
    "duration": 2100,
    "start_time": "2022-11-08T17:53:37.246Z"
   },
   {
    "duration": 8,
    "start_time": "2022-11-08T17:53:39.348Z"
   },
   {
    "duration": 18,
    "start_time": "2022-11-08T17:53:39.357Z"
   },
   {
    "duration": 24,
    "start_time": "2022-11-08T17:53:39.376Z"
   },
   {
    "duration": 12,
    "start_time": "2022-11-08T17:53:39.401Z"
   },
   {
    "duration": 17,
    "start_time": "2022-11-08T17:53:39.415Z"
   },
   {
    "duration": 12,
    "start_time": "2022-11-08T17:53:39.433Z"
   },
   {
    "duration": 28,
    "start_time": "2022-11-08T17:53:39.447Z"
   },
   {
    "duration": 35,
    "start_time": "2022-11-08T17:53:39.476Z"
   },
   {
    "duration": 39,
    "start_time": "2022-11-08T17:53:39.512Z"
   },
   {
    "duration": 36,
    "start_time": "2022-11-08T17:53:39.552Z"
   },
   {
    "duration": 159,
    "start_time": "2022-11-08T17:53:39.590Z"
   },
   {
    "duration": 4,
    "start_time": "2022-11-08T17:53:39.750Z"
   },
   {
    "duration": 466,
    "start_time": "2022-11-08T17:53:39.756Z"
   },
   {
    "duration": 3,
    "start_time": "2022-11-08T17:53:40.223Z"
   },
   {
    "duration": 18,
    "start_time": "2022-11-08T17:53:40.228Z"
   },
   {
    "duration": 40,
    "start_time": "2022-11-08T17:53:40.247Z"
   },
   {
    "duration": 65,
    "start_time": "2022-11-08T17:53:40.288Z"
   },
   {
    "duration": 22,
    "start_time": "2022-11-08T17:53:40.355Z"
   },
   {
    "duration": 49,
    "start_time": "2022-11-08T17:53:40.378Z"
   },
   {
    "duration": 25,
    "start_time": "2022-11-08T17:53:40.429Z"
   },
   {
    "duration": 22,
    "start_time": "2022-11-08T17:53:40.455Z"
   },
   {
    "duration": 41,
    "start_time": "2022-11-08T17:53:40.479Z"
   },
   {
    "duration": 103,
    "start_time": "2022-11-08T17:53:50.748Z"
   },
   {
    "duration": 13,
    "start_time": "2022-11-08T17:53:50.855Z"
   },
   {
    "duration": 1774,
    "start_time": "2022-11-08T17:53:50.869Z"
   },
   {
    "duration": 8,
    "start_time": "2022-11-08T17:53:52.645Z"
   },
   {
    "duration": 8,
    "start_time": "2022-11-08T17:53:52.655Z"
   },
   {
    "duration": 23,
    "start_time": "2022-11-08T17:53:52.664Z"
   },
   {
    "duration": 7,
    "start_time": "2022-11-08T17:53:52.688Z"
   },
   {
    "duration": 6,
    "start_time": "2022-11-08T17:53:52.696Z"
   },
   {
    "duration": 12,
    "start_time": "2022-11-08T17:53:52.703Z"
   },
   {
    "duration": 7,
    "start_time": "2022-11-08T17:53:52.717Z"
   },
   {
    "duration": 5,
    "start_time": "2022-11-08T17:53:52.725Z"
   },
   {
    "duration": 28,
    "start_time": "2022-11-08T17:53:52.731Z"
   },
   {
    "duration": 3,
    "start_time": "2022-11-08T17:53:52.760Z"
   },
   {
    "duration": 148,
    "start_time": "2022-11-08T17:53:52.785Z"
   },
   {
    "duration": 5,
    "start_time": "2022-11-08T17:53:52.934Z"
   },
   {
    "duration": 453,
    "start_time": "2022-11-08T17:53:52.940Z"
   },
   {
    "duration": 4,
    "start_time": "2022-11-08T17:53:53.396Z"
   },
   {
    "duration": 11,
    "start_time": "2022-11-08T17:53:53.401Z"
   },
   {
    "duration": 7,
    "start_time": "2022-11-08T17:53:53.414Z"
   },
   {
    "duration": 38,
    "start_time": "2022-11-08T17:53:53.422Z"
   },
   {
    "duration": 38,
    "start_time": "2022-11-08T17:53:53.461Z"
   },
   {
    "duration": 37,
    "start_time": "2022-11-08T17:53:53.501Z"
   },
   {
    "duration": 21,
    "start_time": "2022-11-08T17:53:53.540Z"
   },
   {
    "duration": 37,
    "start_time": "2022-11-08T17:53:53.563Z"
   },
   {
    "duration": 30,
    "start_time": "2022-11-08T17:53:53.602Z"
   },
   {
    "duration": 41,
    "start_time": "2022-11-08T17:53:56.148Z"
   },
   {
    "duration": 58,
    "start_time": "2022-11-08T17:54:40.326Z"
   },
   {
    "duration": 109,
    "start_time": "2022-11-08T17:58:29.765Z"
   },
   {
    "duration": 122,
    "start_time": "2022-11-08T17:58:43.163Z"
   },
   {
    "duration": 120,
    "start_time": "2022-11-08T17:58:56.585Z"
   },
   {
    "duration": 313,
    "start_time": "2022-11-08T17:59:13.864Z"
   },
   {
    "duration": 227,
    "start_time": "2022-11-08T18:00:14.729Z"
   },
   {
    "duration": 214,
    "start_time": "2022-11-08T18:00:21.069Z"
   },
   {
    "duration": 764,
    "start_time": "2022-11-08T20:35:59.918Z"
   },
   {
    "duration": 14,
    "start_time": "2022-11-08T20:36:02.859Z"
   },
   {
    "duration": 2279,
    "start_time": "2022-11-08T20:36:03.746Z"
   },
   {
    "duration": 10,
    "start_time": "2022-11-08T20:36:06.027Z"
   },
   {
    "duration": 9,
    "start_time": "2022-11-08T20:36:06.241Z"
   },
   {
    "duration": 6,
    "start_time": "2022-11-08T20:36:06.906Z"
   },
   {
    "duration": 6,
    "start_time": "2022-11-08T20:36:07.450Z"
   },
   {
    "duration": 6,
    "start_time": "2022-11-08T20:36:08.035Z"
   },
   {
    "duration": 8,
    "start_time": "2022-11-08T20:36:08.646Z"
   },
   {
    "duration": 10,
    "start_time": "2022-11-08T20:36:09.794Z"
   },
   {
    "duration": 6,
    "start_time": "2022-11-08T20:36:10.960Z"
   },
   {
    "duration": 31,
    "start_time": "2022-11-08T20:36:11.561Z"
   },
   {
    "duration": 4,
    "start_time": "2022-11-08T20:36:12.146Z"
   },
   {
    "duration": 130,
    "start_time": "2022-11-08T20:36:12.992Z"
   },
   {
    "duration": 7,
    "start_time": "2022-11-08T20:36:13.618Z"
   },
   {
    "duration": 482,
    "start_time": "2022-11-08T20:36:14.906Z"
   },
   {
    "duration": 4,
    "start_time": "2022-11-08T20:36:18.301Z"
   },
   {
    "duration": 10,
    "start_time": "2022-11-08T20:36:18.886Z"
   },
   {
    "duration": 4,
    "start_time": "2022-11-08T20:36:19.546Z"
   },
   {
    "duration": 37,
    "start_time": "2022-11-08T20:36:20.884Z"
   },
   {
    "duration": 25,
    "start_time": "2022-11-08T20:36:22.047Z"
   },
   {
    "duration": 41,
    "start_time": "2022-11-08T20:36:22.927Z"
   },
   {
    "duration": 23,
    "start_time": "2022-11-08T20:36:24.157Z"
   },
   {
    "duration": 19,
    "start_time": "2022-11-08T20:36:25.954Z"
   },
   {
    "duration": 24,
    "start_time": "2022-11-08T20:36:26.893Z"
   },
   {
    "duration": 64,
    "start_time": "2022-11-08T20:36:28.729Z"
   },
   {
    "duration": 267,
    "start_time": "2022-11-08T20:36:38.790Z"
   },
   {
    "duration": 38,
    "start_time": "2022-11-08T20:38:16.789Z"
   },
   {
    "duration": 33,
    "start_time": "2022-11-08T20:39:12.899Z"
   },
   {
    "duration": 16,
    "start_time": "2022-11-08T20:40:45.811Z"
   },
   {
    "duration": 22,
    "start_time": "2022-11-08T20:40:56.341Z"
   },
   {
    "duration": 34,
    "start_time": "2022-11-08T20:41:06.436Z"
   },
   {
    "duration": 31,
    "start_time": "2022-11-08T20:41:17.506Z"
   },
   {
    "duration": 25,
    "start_time": "2022-11-08T20:41:48.021Z"
   },
   {
    "duration": 104,
    "start_time": "2022-11-08T20:42:10.677Z"
   },
   {
    "duration": 30,
    "start_time": "2022-11-08T20:42:24.902Z"
   },
   {
    "duration": 131,
    "start_time": "2022-11-08T20:42:57.109Z"
   },
   {
    "duration": 136,
    "start_time": "2022-11-08T20:43:10.978Z"
   },
   {
    "duration": 19,
    "start_time": "2022-11-08T20:44:41.399Z"
   },
   {
    "duration": 8,
    "start_time": "2022-11-08T20:49:08.871Z"
   },
   {
    "duration": 8,
    "start_time": "2022-11-08T20:50:03.501Z"
   },
   {
    "duration": 6,
    "start_time": "2022-11-08T20:50:06.998Z"
   },
   {
    "duration": 31,
    "start_time": "2022-11-08T20:50:22.317Z"
   },
   {
    "duration": 11,
    "start_time": "2022-11-08T20:50:59.991Z"
   },
   {
    "duration": 10,
    "start_time": "2022-11-08T20:51:28.976Z"
   },
   {
    "duration": 16,
    "start_time": "2022-11-08T20:51:56.353Z"
   },
   {
    "duration": 34,
    "start_time": "2022-11-08T20:52:09.433Z"
   },
   {
    "duration": 57,
    "start_time": "2022-11-08T20:52:23.658Z"
   },
   {
    "duration": 12,
    "start_time": "2022-11-08T20:52:43.845Z"
   },
   {
    "duration": 14,
    "start_time": "2022-11-08T20:53:04.696Z"
   },
   {
    "duration": 6,
    "start_time": "2022-11-08T20:53:54.508Z"
   },
   {
    "duration": 6,
    "start_time": "2022-11-08T20:54:02.423Z"
   },
   {
    "duration": 76,
    "start_time": "2022-11-08T20:54:14.346Z"
   },
   {
    "duration": 69,
    "start_time": "2022-11-08T20:54:28.494Z"
   },
   {
    "duration": 7,
    "start_time": "2022-11-08T20:56:05.579Z"
   },
   {
    "duration": 37,
    "start_time": "2022-11-08T20:56:16.358Z"
   },
   {
    "duration": 31,
    "start_time": "2022-11-08T20:56:26.816Z"
   },
   {
    "duration": 33,
    "start_time": "2022-11-08T20:56:51.775Z"
   },
   {
    "duration": 20,
    "start_time": "2022-11-08T20:57:42.876Z"
   },
   {
    "duration": 32,
    "start_time": "2022-11-08T20:59:46.128Z"
   },
   {
    "duration": 49,
    "start_time": "2022-11-08T21:03:58.965Z"
   },
   {
    "duration": 10,
    "start_time": "2022-11-08T21:06:31.112Z"
   },
   {
    "duration": 3,
    "start_time": "2022-11-08T21:11:29.424Z"
   },
   {
    "duration": 18,
    "start_time": "2022-11-08T21:12:30.122Z"
   },
   {
    "duration": 4,
    "start_time": "2022-11-08T21:12:52.345Z"
   },
   {
    "duration": 20,
    "start_time": "2022-11-08T21:12:56.182Z"
   },
   {
    "duration": 13128,
    "start_time": "2022-11-08T21:14:32.066Z"
   },
   {
    "duration": 3,
    "start_time": "2022-11-08T21:14:46.979Z"
   },
   {
    "duration": 290,
    "start_time": "2022-11-08T21:14:47.425Z"
   },
   {
    "duration": 37,
    "start_time": "2022-11-08T21:14:55.449Z"
   },
   {
    "duration": 6,
    "start_time": "2022-11-08T21:20:46.098Z"
   },
   {
    "duration": 7,
    "start_time": "2022-11-08T21:23:24.195Z"
   },
   {
    "duration": 6,
    "start_time": "2022-11-08T21:23:36.902Z"
   },
   {
    "duration": 34,
    "start_time": "2022-11-08T21:23:44.943Z"
   },
   {
    "duration": 10,
    "start_time": "2022-11-08T21:24:57.706Z"
   },
   {
    "duration": 6,
    "start_time": "2022-11-08T21:25:26.877Z"
   },
   {
    "duration": 33,
    "start_time": "2022-11-08T21:25:28.973Z"
   },
   {
    "duration": 7,
    "start_time": "2022-11-08T21:29:31.413Z"
   },
   {
    "duration": 4,
    "start_time": "2022-11-08T21:29:36.945Z"
   },
   {
    "duration": 292,
    "start_time": "2022-11-08T21:29:37.595Z"
   },
   {
    "duration": 3,
    "start_time": "2022-11-08T21:29:40.260Z"
   },
   {
    "duration": 346,
    "start_time": "2022-11-08T21:29:41.864Z"
   },
   {
    "duration": 32,
    "start_time": "2022-11-08T21:29:43.145Z"
   },
   {
    "duration": 3,
    "start_time": "2022-11-08T21:30:42.116Z"
   },
   {
    "duration": 3,
    "start_time": "2022-11-08T21:32:45.958Z"
   },
   {
    "duration": 10,
    "start_time": "2022-11-08T21:32:46.471Z"
   },
   {
    "duration": 22,
    "start_time": "2022-11-08T21:32:57.446Z"
   },
   {
    "duration": 36,
    "start_time": "2022-11-08T21:32:58.248Z"
   },
   {
    "duration": 23,
    "start_time": "2022-11-08T21:33:09.590Z"
   },
   {
    "duration": 44,
    "start_time": "2022-11-09T08:22:59.203Z"
   },
   {
    "duration": 528,
    "start_time": "2022-11-09T08:23:06.201Z"
   },
   {
    "duration": 15,
    "start_time": "2022-11-09T08:23:06.730Z"
   },
   {
    "duration": 2232,
    "start_time": "2022-11-09T08:23:06.747Z"
   },
   {
    "duration": 10,
    "start_time": "2022-11-09T08:23:08.982Z"
   },
   {
    "duration": 9,
    "start_time": "2022-11-09T08:23:08.993Z"
   },
   {
    "duration": 6,
    "start_time": "2022-11-09T08:23:09.004Z"
   },
   {
    "duration": 6,
    "start_time": "2022-11-09T08:23:09.012Z"
   },
   {
    "duration": 15,
    "start_time": "2022-11-09T08:23:09.020Z"
   },
   {
    "duration": 7,
    "start_time": "2022-11-09T08:23:09.036Z"
   },
   {
    "duration": 8,
    "start_time": "2022-11-09T08:23:09.045Z"
   },
   {
    "duration": 4,
    "start_time": "2022-11-09T08:23:09.055Z"
   },
   {
    "duration": 25,
    "start_time": "2022-11-09T08:23:09.060Z"
   },
   {
    "duration": 3,
    "start_time": "2022-11-09T08:23:09.086Z"
   },
   {
    "duration": 141,
    "start_time": "2022-11-09T08:23:09.090Z"
   },
   {
    "duration": 6,
    "start_time": "2022-11-09T08:23:09.235Z"
   },
   {
    "duration": 501,
    "start_time": "2022-11-09T08:23:09.242Z"
   },
   {
    "duration": 4,
    "start_time": "2022-11-09T08:23:09.744Z"
   },
   {
    "duration": 12,
    "start_time": "2022-11-09T08:23:09.749Z"
   },
   {
    "duration": 7,
    "start_time": "2022-11-09T08:23:09.763Z"
   },
   {
    "duration": 39,
    "start_time": "2022-11-09T08:23:09.772Z"
   },
   {
    "duration": 42,
    "start_time": "2022-11-09T08:23:09.812Z"
   },
   {
    "duration": 43,
    "start_time": "2022-11-09T08:23:09.856Z"
   },
   {
    "duration": 45,
    "start_time": "2022-11-09T08:23:09.900Z"
   },
   {
    "duration": 18,
    "start_time": "2022-11-09T08:23:09.946Z"
   },
   {
    "duration": 22,
    "start_time": "2022-11-09T08:23:09.966Z"
   },
   {
    "duration": 85,
    "start_time": "2022-11-09T08:23:09.989Z"
   },
   {
    "duration": 7,
    "start_time": "2022-11-09T08:23:10.076Z"
   },
   {
    "duration": 3,
    "start_time": "2022-11-09T08:23:10.086Z"
   },
   {
    "duration": 309,
    "start_time": "2022-11-09T08:23:10.091Z"
   },
   {
    "duration": 6,
    "start_time": "2022-11-09T08:23:10.401Z"
   },
   {
    "duration": 10,
    "start_time": "2022-11-09T08:23:10.408Z"
   },
   {
    "duration": 9,
    "start_time": "2022-11-09T08:23:10.420Z"
   },
   {
    "duration": 10,
    "start_time": "2022-11-09T08:23:10.434Z"
   },
   {
    "duration": 315,
    "start_time": "2022-11-09T08:23:10.445Z"
   },
   {
    "duration": 3,
    "start_time": "2022-11-09T08:23:10.761Z"
   },
   {
    "duration": 17,
    "start_time": "2022-11-09T08:23:10.766Z"
   },
   {
    "duration": 21,
    "start_time": "2022-11-09T08:23:10.784Z"
   },
   {
    "duration": 113,
    "start_time": "2022-11-09T08:23:14.938Z"
   },
   {
    "duration": 232,
    "start_time": "2022-11-09T08:23:33.295Z"
   },
   {
    "duration": 26,
    "start_time": "2022-11-09T08:24:26.147Z"
   },
   {
    "duration": 224,
    "start_time": "2022-11-09T08:26:16.288Z"
   },
   {
    "duration": 214,
    "start_time": "2022-11-09T08:26:25.695Z"
   },
   {
    "duration": 21,
    "start_time": "2022-11-09T08:27:25.978Z"
   },
   {
    "duration": 5,
    "start_time": "2022-11-09T08:29:01.188Z"
   },
   {
    "duration": 6,
    "start_time": "2022-11-09T08:29:08.449Z"
   },
   {
    "duration": 4,
    "start_time": "2022-11-09T08:29:34.519Z"
   },
   {
    "duration": 4,
    "start_time": "2022-11-09T08:30:06.315Z"
   },
   {
    "duration": 3,
    "start_time": "2022-11-09T08:33:13.149Z"
   },
   {
    "duration": 63,
    "start_time": "2022-11-09T08:34:21.415Z"
   },
   {
    "duration": 35,
    "start_time": "2022-11-09T08:34:45.727Z"
   },
   {
    "duration": 16,
    "start_time": "2022-11-09T08:35:10.254Z"
   },
   {
    "duration": 5,
    "start_time": "2022-11-09T08:35:23.941Z"
   },
   {
    "duration": 9,
    "start_time": "2022-11-09T08:35:35.648Z"
   },
   {
    "duration": 10,
    "start_time": "2022-11-09T08:35:48.355Z"
   },
   {
    "duration": 116,
    "start_time": "2022-11-09T08:35:59.950Z"
   },
   {
    "duration": 6,
    "start_time": "2022-11-09T08:36:23.054Z"
   },
   {
    "duration": 7,
    "start_time": "2022-11-09T08:36:37.294Z"
   },
   {
    "duration": 223,
    "start_time": "2022-11-09T08:37:36.037Z"
   },
   {
    "duration": 291,
    "start_time": "2022-11-09T08:37:59.234Z"
   },
   {
    "duration": 30,
    "start_time": "2022-11-09T08:41:09.500Z"
   },
   {
    "duration": 44,
    "start_time": "2022-11-09T08:41:23.244Z"
   },
   {
    "duration": 31,
    "start_time": "2022-11-09T08:41:37.580Z"
   },
   {
    "duration": 32,
    "start_time": "2022-11-09T08:41:44.901Z"
   },
   {
    "duration": 18,
    "start_time": "2022-11-09T08:44:30.764Z"
   },
   {
    "duration": 5,
    "start_time": "2022-11-09T08:44:35.700Z"
   },
   {
    "duration": 5,
    "start_time": "2022-11-09T08:44:47.034Z"
   },
   {
    "duration": 5,
    "start_time": "2022-11-09T08:45:03.338Z"
   },
   {
    "duration": 105,
    "start_time": "2022-11-09T08:45:23.388Z"
   },
   {
    "duration": 13,
    "start_time": "2022-11-09T08:45:23.495Z"
   },
   {
    "duration": 1787,
    "start_time": "2022-11-09T08:45:23.509Z"
   },
   {
    "duration": 9,
    "start_time": "2022-11-09T08:45:25.298Z"
   },
   {
    "duration": 7,
    "start_time": "2022-11-09T08:45:25.309Z"
   },
   {
    "duration": 23,
    "start_time": "2022-11-09T08:45:25.318Z"
   },
   {
    "duration": 6,
    "start_time": "2022-11-09T08:45:25.343Z"
   },
   {
    "duration": 7,
    "start_time": "2022-11-09T08:45:25.350Z"
   },
   {
    "duration": 9,
    "start_time": "2022-11-09T08:45:25.359Z"
   },
   {
    "duration": 7,
    "start_time": "2022-11-09T08:45:25.371Z"
   },
   {
    "duration": 9,
    "start_time": "2022-11-09T08:45:25.379Z"
   },
   {
    "duration": 5,
    "start_time": "2022-11-09T08:45:25.390Z"
   },
   {
    "duration": 167,
    "start_time": "2022-11-09T08:45:25.397Z"
   },
   {
    "duration": 3,
    "start_time": "2022-11-09T08:45:25.566Z"
   },
   {
    "duration": 145,
    "start_time": "2022-11-09T08:45:25.571Z"
   },
   {
    "duration": 6,
    "start_time": "2022-11-09T08:45:25.717Z"
   },
   {
    "duration": 452,
    "start_time": "2022-11-09T08:45:25.724Z"
   },
   {
    "duration": 3,
    "start_time": "2022-11-09T08:45:26.178Z"
   },
   {
    "duration": 8,
    "start_time": "2022-11-09T08:45:26.183Z"
   },
   {
    "duration": 9,
    "start_time": "2022-11-09T08:45:26.193Z"
   },
   {
    "duration": 66,
    "start_time": "2022-11-09T08:45:26.203Z"
   },
   {
    "duration": 21,
    "start_time": "2022-11-09T08:45:26.270Z"
   },
   {
    "duration": 50,
    "start_time": "2022-11-09T08:45:26.292Z"
   },
   {
    "duration": 21,
    "start_time": "2022-11-09T08:45:26.344Z"
   },
   {
    "duration": 21,
    "start_time": "2022-11-09T08:45:26.367Z"
   },
   {
    "duration": 21,
    "start_time": "2022-11-09T08:45:26.390Z"
   },
   {
    "duration": 79,
    "start_time": "2022-11-09T08:45:26.413Z"
   },
   {
    "duration": 6,
    "start_time": "2022-11-09T08:45:26.496Z"
   },
   {
    "duration": 5,
    "start_time": "2022-11-09T08:45:32.647Z"
   },
   {
    "duration": 6,
    "start_time": "2022-11-09T08:46:02.879Z"
   },
   {
    "duration": 6,
    "start_time": "2022-11-09T08:46:51.314Z"
   },
   {
    "duration": 5,
    "start_time": "2022-11-09T08:47:00.900Z"
   },
   {
    "duration": 46,
    "start_time": "2022-11-09T08:48:11.073Z"
   },
   {
    "duration": 103,
    "start_time": "2022-11-09T08:48:35.007Z"
   },
   {
    "duration": 14,
    "start_time": "2022-11-09T08:48:35.112Z"
   },
   {
    "duration": 1845,
    "start_time": "2022-11-09T08:48:35.134Z"
   },
   {
    "duration": 11,
    "start_time": "2022-11-09T08:48:36.980Z"
   },
   {
    "duration": 8,
    "start_time": "2022-11-09T08:48:36.993Z"
   },
   {
    "duration": 32,
    "start_time": "2022-11-09T08:48:37.003Z"
   },
   {
    "duration": 7,
    "start_time": "2022-11-09T08:48:37.037Z"
   },
   {
    "duration": 13,
    "start_time": "2022-11-09T08:48:37.046Z"
   },
   {
    "duration": 13,
    "start_time": "2022-11-09T08:48:37.060Z"
   },
   {
    "duration": 10,
    "start_time": "2022-11-09T08:48:37.075Z"
   },
   {
    "duration": 8,
    "start_time": "2022-11-09T08:48:37.087Z"
   },
   {
    "duration": 6,
    "start_time": "2022-11-09T08:48:37.096Z"
   },
   {
    "duration": 41,
    "start_time": "2022-11-09T08:48:37.104Z"
   },
   {
    "duration": 3,
    "start_time": "2022-11-09T08:48:37.149Z"
   },
   {
    "duration": 144,
    "start_time": "2022-11-09T08:48:37.154Z"
   },
   {
    "duration": 6,
    "start_time": "2022-11-09T08:48:37.299Z"
   },
   {
    "duration": 471,
    "start_time": "2022-11-09T08:48:37.306Z"
   },
   {
    "duration": 3,
    "start_time": "2022-11-09T08:48:37.779Z"
   },
   {
    "duration": 11,
    "start_time": "2022-11-09T08:48:37.784Z"
   },
   {
    "duration": 41,
    "start_time": "2022-11-09T08:48:37.797Z"
   },
   {
    "duration": 36,
    "start_time": "2022-11-09T08:48:37.840Z"
   },
   {
    "duration": 21,
    "start_time": "2022-11-09T08:48:37.879Z"
   },
   {
    "duration": 55,
    "start_time": "2022-11-09T08:48:37.902Z"
   },
   {
    "duration": 22,
    "start_time": "2022-11-09T08:48:37.959Z"
   },
   {
    "duration": 17,
    "start_time": "2022-11-09T08:48:37.982Z"
   },
   {
    "duration": 39,
    "start_time": "2022-11-09T08:48:38.001Z"
   },
   {
    "duration": 63,
    "start_time": "2022-11-09T08:48:38.042Z"
   },
   {
    "duration": 8,
    "start_time": "2022-11-09T08:48:38.106Z"
   },
   {
    "duration": 29,
    "start_time": "2022-11-09T08:48:38.116Z"
   },
   {
    "duration": 6,
    "start_time": "2022-11-09T08:48:38.147Z"
   },
   {
    "duration": 41,
    "start_time": "2022-11-09T08:49:09.137Z"
   },
   {
    "duration": 193,
    "start_time": "2022-11-09T08:49:40.375Z"
   },
   {
    "duration": 8,
    "start_time": "2022-11-09T08:50:10.689Z"
   },
   {
    "duration": 7,
    "start_time": "2022-11-09T08:50:32.786Z"
   },
   {
    "duration": 6,
    "start_time": "2022-11-09T08:50:47.234Z"
   },
   {
    "duration": 86,
    "start_time": "2022-11-09T08:51:14.971Z"
   },
   {
    "duration": 5,
    "start_time": "2022-11-09T08:51:20.117Z"
   },
   {
    "duration": 5,
    "start_time": "2022-11-09T08:51:38.278Z"
   },
   {
    "duration": 8,
    "start_time": "2022-11-09T08:53:45.079Z"
   },
   {
    "duration": 6,
    "start_time": "2022-11-09T08:54:07.948Z"
   },
   {
    "duration": 5,
    "start_time": "2022-11-09T08:54:12.595Z"
   },
   {
    "duration": 5,
    "start_time": "2022-11-09T08:54:31.655Z"
   },
   {
    "duration": 4,
    "start_time": "2022-11-09T08:54:44.354Z"
   },
   {
    "duration": 19,
    "start_time": "2022-11-09T08:54:54.945Z"
   },
   {
    "duration": 5,
    "start_time": "2022-11-09T08:55:18.286Z"
   },
   {
    "duration": 5,
    "start_time": "2022-11-09T08:55:29.092Z"
   },
   {
    "duration": 5,
    "start_time": "2022-11-09T08:55:35.418Z"
   },
   {
    "duration": 6,
    "start_time": "2022-11-09T08:55:59.157Z"
   },
   {
    "duration": 5,
    "start_time": "2022-11-09T08:56:05.599Z"
   },
   {
    "duration": 9,
    "start_time": "2022-11-09T08:56:43.747Z"
   },
   {
    "duration": 67,
    "start_time": "2022-11-09T08:56:44.616Z"
   },
   {
    "duration": 6,
    "start_time": "2022-11-09T08:56:45.820Z"
   },
   {
    "duration": 5,
    "start_time": "2022-11-09T08:56:54.397Z"
   },
   {
    "duration": 7,
    "start_time": "2022-11-09T08:57:00.864Z"
   },
   {
    "duration": 61,
    "start_time": "2022-11-09T08:57:01.819Z"
   },
   {
    "duration": 7,
    "start_time": "2022-11-09T08:57:13.116Z"
   },
   {
    "duration": 108,
    "start_time": "2022-11-09T08:57:22.996Z"
   },
   {
    "duration": 30,
    "start_time": "2022-11-09T08:57:23.106Z"
   },
   {
    "duration": 1869,
    "start_time": "2022-11-09T08:57:23.137Z"
   },
   {
    "duration": 9,
    "start_time": "2022-11-09T08:57:25.008Z"
   },
   {
    "duration": 20,
    "start_time": "2022-11-09T08:57:25.018Z"
   },
   {
    "duration": 10,
    "start_time": "2022-11-09T08:57:25.040Z"
   },
   {
    "duration": 8,
    "start_time": "2022-11-09T08:57:25.052Z"
   },
   {
    "duration": 9,
    "start_time": "2022-11-09T08:57:25.062Z"
   },
   {
    "duration": 8,
    "start_time": "2022-11-09T08:57:25.072Z"
   },
   {
    "duration": 6,
    "start_time": "2022-11-09T08:57:25.083Z"
   },
   {
    "duration": 11,
    "start_time": "2022-11-09T08:57:25.090Z"
   },
   {
    "duration": 33,
    "start_time": "2022-11-09T08:57:25.102Z"
   },
   {
    "duration": 29,
    "start_time": "2022-11-09T08:57:25.136Z"
   },
   {
    "duration": 3,
    "start_time": "2022-11-09T08:57:25.167Z"
   },
   {
    "duration": 149,
    "start_time": "2022-11-09T08:57:25.171Z"
   },
   {
    "duration": 5,
    "start_time": "2022-11-09T08:57:25.322Z"
   },
   {
    "duration": 507,
    "start_time": "2022-11-09T08:57:25.329Z"
   },
   {
    "duration": 4,
    "start_time": "2022-11-09T08:57:25.838Z"
   },
   {
    "duration": 10,
    "start_time": "2022-11-09T08:57:25.843Z"
   },
   {
    "duration": 8,
    "start_time": "2022-11-09T08:57:25.854Z"
   },
   {
    "duration": 36,
    "start_time": "2022-11-09T08:57:25.863Z"
   },
   {
    "duration": 45,
    "start_time": "2022-11-09T08:57:25.901Z"
   },
   {
    "duration": 44,
    "start_time": "2022-11-09T08:57:25.947Z"
   },
   {
    "duration": 46,
    "start_time": "2022-11-09T08:57:25.993Z"
   },
   {
    "duration": 20,
    "start_time": "2022-11-09T08:57:26.041Z"
   },
   {
    "duration": 23,
    "start_time": "2022-11-09T08:57:26.063Z"
   },
   {
    "duration": 89,
    "start_time": "2022-11-09T08:57:26.087Z"
   },
   {
    "duration": 9,
    "start_time": "2022-11-09T08:57:26.179Z"
   },
   {
    "duration": 8,
    "start_time": "2022-11-09T08:57:29.765Z"
   },
   {
    "duration": 77,
    "start_time": "2022-11-09T08:57:30.411Z"
   },
   {
    "duration": 5,
    "start_time": "2022-11-09T08:57:31.460Z"
   },
   {
    "duration": 17,
    "start_time": "2022-11-09T08:58:03.827Z"
   },
   {
    "duration": 6,
    "start_time": "2022-11-09T08:58:17.189Z"
   },
   {
    "duration": 7,
    "start_time": "2022-11-09T08:58:30.266Z"
   },
   {
    "duration": 9,
    "start_time": "2022-11-09T08:58:43.854Z"
   },
   {
    "duration": 7,
    "start_time": "2022-11-09T08:59:06.367Z"
   },
   {
    "duration": 115,
    "start_time": "2022-11-09T09:00:01.423Z"
   },
   {
    "duration": 14,
    "start_time": "2022-11-09T09:00:01.539Z"
   },
   {
    "duration": 2015,
    "start_time": "2022-11-09T09:00:01.555Z"
   },
   {
    "duration": 9,
    "start_time": "2022-11-09T09:00:03.572Z"
   },
   {
    "duration": 18,
    "start_time": "2022-11-09T09:00:03.582Z"
   },
   {
    "duration": 32,
    "start_time": "2022-11-09T09:00:03.602Z"
   },
   {
    "duration": 16,
    "start_time": "2022-11-09T09:00:03.636Z"
   },
   {
    "duration": 28,
    "start_time": "2022-11-09T09:00:03.653Z"
   },
   {
    "duration": 28,
    "start_time": "2022-11-09T09:00:03.683Z"
   },
   {
    "duration": 15,
    "start_time": "2022-11-09T09:00:03.714Z"
   },
   {
    "duration": 35,
    "start_time": "2022-11-09T09:00:03.731Z"
   },
   {
    "duration": 14,
    "start_time": "2022-11-09T09:00:03.768Z"
   },
   {
    "duration": 29,
    "start_time": "2022-11-09T09:00:03.783Z"
   },
   {
    "duration": 6,
    "start_time": "2022-11-09T09:00:03.813Z"
   },
   {
    "duration": 141,
    "start_time": "2022-11-09T09:00:03.820Z"
   },
   {
    "duration": 6,
    "start_time": "2022-11-09T09:00:03.963Z"
   },
   {
    "duration": 478,
    "start_time": "2022-11-09T09:00:03.971Z"
   },
   {
    "duration": 5,
    "start_time": "2022-11-09T09:00:04.451Z"
   },
   {
    "duration": 23,
    "start_time": "2022-11-09T09:00:04.458Z"
   },
   {
    "duration": 25,
    "start_time": "2022-11-09T09:00:04.483Z"
   },
   {
    "duration": 45,
    "start_time": "2022-11-09T09:00:04.510Z"
   },
   {
    "duration": 24,
    "start_time": "2022-11-09T09:00:04.556Z"
   },
   {
    "duration": 55,
    "start_time": "2022-11-09T09:00:04.581Z"
   },
   {
    "duration": 21,
    "start_time": "2022-11-09T09:00:04.638Z"
   },
   {
    "duration": 32,
    "start_time": "2022-11-09T09:00:04.660Z"
   },
   {
    "duration": 41,
    "start_time": "2022-11-09T09:00:04.694Z"
   },
   {
    "duration": 62,
    "start_time": "2022-11-09T09:00:04.736Z"
   },
   {
    "duration": 8,
    "start_time": "2022-11-09T09:00:04.800Z"
   },
   {
    "duration": 72,
    "start_time": "2022-11-09T09:00:04.810Z"
   },
   {
    "duration": 8,
    "start_time": "2022-11-09T09:00:11.885Z"
   },
   {
    "duration": 7,
    "start_time": "2022-11-09T09:00:37.935Z"
   },
   {
    "duration": 8,
    "start_time": "2022-11-09T09:00:46.577Z"
   },
   {
    "duration": 6,
    "start_time": "2022-11-09T09:01:03.241Z"
   },
   {
    "duration": 6,
    "start_time": "2022-11-09T09:01:37.070Z"
   },
   {
    "duration": 96,
    "start_time": "2022-11-09T09:01:49.586Z"
   },
   {
    "duration": 14,
    "start_time": "2022-11-09T09:01:49.684Z"
   },
   {
    "duration": 1854,
    "start_time": "2022-11-09T09:01:49.699Z"
   },
   {
    "duration": 9,
    "start_time": "2022-11-09T09:01:51.555Z"
   },
   {
    "duration": 9,
    "start_time": "2022-11-09T09:01:51.566Z"
   },
   {
    "duration": 13,
    "start_time": "2022-11-09T09:01:51.577Z"
   },
   {
    "duration": 6,
    "start_time": "2022-11-09T09:01:51.592Z"
   },
   {
    "duration": 8,
    "start_time": "2022-11-09T09:01:51.600Z"
   },
   {
    "duration": 25,
    "start_time": "2022-11-09T09:01:51.610Z"
   },
   {
    "duration": 6,
    "start_time": "2022-11-09T09:01:51.638Z"
   },
   {
    "duration": 10,
    "start_time": "2022-11-09T09:01:51.646Z"
   },
   {
    "duration": 10,
    "start_time": "2022-11-09T09:01:51.657Z"
   },
   {
    "duration": 28,
    "start_time": "2022-11-09T09:01:51.668Z"
   },
   {
    "duration": 3,
    "start_time": "2022-11-09T09:01:51.698Z"
   },
   {
    "duration": 341,
    "start_time": "2022-11-09T09:01:51.702Z"
   },
   {
    "duration": 5,
    "start_time": "2022-11-09T09:01:52.044Z"
   },
   {
    "duration": 492,
    "start_time": "2022-11-09T09:01:52.050Z"
   },
   {
    "duration": 4,
    "start_time": "2022-11-09T09:01:52.543Z"
   },
   {
    "duration": 12,
    "start_time": "2022-11-09T09:01:52.548Z"
   },
   {
    "duration": 9,
    "start_time": "2022-11-09T09:01:52.561Z"
   },
   {
    "duration": 50,
    "start_time": "2022-11-09T09:01:52.571Z"
   },
   {
    "duration": 24,
    "start_time": "2022-11-09T09:01:52.635Z"
   },
   {
    "duration": 41,
    "start_time": "2022-11-09T09:01:52.661Z"
   },
   {
    "duration": 45,
    "start_time": "2022-11-09T09:01:52.704Z"
   },
   {
    "duration": 20,
    "start_time": "2022-11-09T09:01:52.751Z"
   },
   {
    "duration": 22,
    "start_time": "2022-11-09T09:01:52.773Z"
   },
   {
    "duration": 92,
    "start_time": "2022-11-09T09:01:52.797Z"
   },
   {
    "duration": 11,
    "start_time": "2022-11-09T09:01:52.893Z"
   },
   {
    "duration": 71,
    "start_time": "2022-11-09T09:01:52.906Z"
   },
   {
    "duration": 64,
    "start_time": "2022-11-09T09:01:57.460Z"
   },
   {
    "duration": 7,
    "start_time": "2022-11-09T09:01:59.353Z"
   },
   {
    "duration": 95,
    "start_time": "2022-11-09T09:02:25.729Z"
   },
   {
    "duration": 20,
    "start_time": "2022-11-09T09:02:25.825Z"
   },
   {
    "duration": 1779,
    "start_time": "2022-11-09T09:02:25.847Z"
   },
   {
    "duration": 13,
    "start_time": "2022-11-09T09:02:27.628Z"
   },
   {
    "duration": 7,
    "start_time": "2022-11-09T09:02:27.643Z"
   },
   {
    "duration": 8,
    "start_time": "2022-11-09T09:02:27.651Z"
   },
   {
    "duration": 7,
    "start_time": "2022-11-09T09:02:27.660Z"
   },
   {
    "duration": 6,
    "start_time": "2022-11-09T09:02:27.668Z"
   },
   {
    "duration": 6,
    "start_time": "2022-11-09T09:02:27.676Z"
   },
   {
    "duration": 6,
    "start_time": "2022-11-09T09:02:27.684Z"
   },
   {
    "duration": 8,
    "start_time": "2022-11-09T09:02:27.691Z"
   },
   {
    "duration": 5,
    "start_time": "2022-11-09T09:02:27.736Z"
   },
   {
    "duration": 27,
    "start_time": "2022-11-09T09:02:27.742Z"
   },
   {
    "duration": 5,
    "start_time": "2022-11-09T09:02:27.771Z"
   },
   {
    "duration": 146,
    "start_time": "2022-11-09T09:02:27.777Z"
   },
   {
    "duration": 5,
    "start_time": "2022-11-09T09:02:27.925Z"
   },
   {
    "duration": 440,
    "start_time": "2022-11-09T09:02:27.935Z"
   },
   {
    "duration": 4,
    "start_time": "2022-11-09T09:02:28.377Z"
   },
   {
    "duration": 10,
    "start_time": "2022-11-09T09:02:28.383Z"
   },
   {
    "duration": 42,
    "start_time": "2022-11-09T09:02:28.394Z"
   },
   {
    "duration": 36,
    "start_time": "2022-11-09T09:02:28.437Z"
   },
   {
    "duration": 22,
    "start_time": "2022-11-09T09:02:28.475Z"
   },
   {
    "duration": 61,
    "start_time": "2022-11-09T09:02:28.499Z"
   },
   {
    "duration": 25,
    "start_time": "2022-11-09T09:02:28.562Z"
   },
   {
    "duration": 22,
    "start_time": "2022-11-09T09:02:28.588Z"
   },
   {
    "duration": 45,
    "start_time": "2022-11-09T09:02:28.612Z"
   },
   {
    "duration": 61,
    "start_time": "2022-11-09T09:02:28.659Z"
   },
   {
    "duration": 8,
    "start_time": "2022-11-09T09:02:28.735Z"
   },
   {
    "duration": 60,
    "start_time": "2022-11-09T09:02:28.745Z"
   },
   {
    "duration": 6,
    "start_time": "2022-11-09T09:02:34.024Z"
   },
   {
    "duration": 7,
    "start_time": "2022-11-09T09:02:42.742Z"
   },
   {
    "duration": 4,
    "start_time": "2022-11-09T09:02:53.226Z"
   },
   {
    "duration": 4,
    "start_time": "2022-11-09T09:03:36.133Z"
   },
   {
    "duration": 36,
    "start_time": "2022-11-09T09:04:10.834Z"
   },
   {
    "duration": 60,
    "start_time": "2022-11-09T09:04:37.826Z"
   },
   {
    "duration": 4,
    "start_time": "2022-11-09T09:06:00.362Z"
   },
   {
    "duration": 261,
    "start_time": "2022-11-09T09:06:01.060Z"
   },
   {
    "duration": 6,
    "start_time": "2022-11-09T09:06:02.689Z"
   },
   {
    "duration": 6,
    "start_time": "2022-11-09T09:06:03.744Z"
   },
   {
    "duration": 5,
    "start_time": "2022-11-09T09:06:04.789Z"
   },
   {
    "duration": 3,
    "start_time": "2022-11-09T09:06:05.771Z"
   },
   {
    "duration": 280,
    "start_time": "2022-11-09T09:06:06.315Z"
   },
   {
    "duration": 2,
    "start_time": "2022-11-09T09:06:07.235Z"
   },
   {
    "duration": 11,
    "start_time": "2022-11-09T09:06:07.722Z"
   },
   {
    "duration": 21,
    "start_time": "2022-11-09T09:06:08.440Z"
   },
   {
    "duration": 223,
    "start_time": "2022-11-09T09:06:15.116Z"
   },
   {
    "duration": 219,
    "start_time": "2022-11-09T09:06:22.377Z"
   },
   {
    "duration": 11,
    "start_time": "2022-11-09T09:07:18.175Z"
   },
   {
    "duration": 294,
    "start_time": "2022-11-09T09:07:19.111Z"
   },
   {
    "duration": 6,
    "start_time": "2022-11-09T09:07:43.147Z"
   },
   {
    "duration": 6,
    "start_time": "2022-11-09T09:08:44.447Z"
   },
   {
    "duration": 6,
    "start_time": "2022-11-09T09:08:51.600Z"
   },
   {
    "duration": 101,
    "start_time": "2022-11-09T09:09:11.024Z"
   },
   {
    "duration": 16,
    "start_time": "2022-11-09T09:09:11.136Z"
   },
   {
    "duration": 1774,
    "start_time": "2022-11-09T09:09:11.154Z"
   },
   {
    "duration": 8,
    "start_time": "2022-11-09T09:09:12.935Z"
   },
   {
    "duration": 6,
    "start_time": "2022-11-09T09:09:12.945Z"
   },
   {
    "duration": 7,
    "start_time": "2022-11-09T09:09:12.953Z"
   },
   {
    "duration": 7,
    "start_time": "2022-11-09T09:09:12.962Z"
   },
   {
    "duration": 7,
    "start_time": "2022-11-09T09:09:12.970Z"
   },
   {
    "duration": 8,
    "start_time": "2022-11-09T09:09:12.978Z"
   },
   {
    "duration": 6,
    "start_time": "2022-11-09T09:09:12.989Z"
   },
   {
    "duration": 41,
    "start_time": "2022-11-09T09:09:12.996Z"
   },
   {
    "duration": 5,
    "start_time": "2022-11-09T09:09:13.039Z"
   },
   {
    "duration": 30,
    "start_time": "2022-11-09T09:09:13.045Z"
   },
   {
    "duration": 4,
    "start_time": "2022-11-09T09:09:13.078Z"
   },
   {
    "duration": 160,
    "start_time": "2022-11-09T09:09:13.084Z"
   },
   {
    "duration": 4,
    "start_time": "2022-11-09T09:09:13.246Z"
   },
   {
    "duration": 489,
    "start_time": "2022-11-09T09:09:13.252Z"
   },
   {
    "duration": 4,
    "start_time": "2022-11-09T09:09:13.742Z"
   },
   {
    "duration": 12,
    "start_time": "2022-11-09T09:09:13.748Z"
   },
   {
    "duration": 9,
    "start_time": "2022-11-09T09:09:13.761Z"
   },
   {
    "duration": 39,
    "start_time": "2022-11-09T09:09:13.772Z"
   },
   {
    "duration": 39,
    "start_time": "2022-11-09T09:09:13.813Z"
   },
   {
    "duration": 41,
    "start_time": "2022-11-09T09:09:13.853Z"
   },
   {
    "duration": 39,
    "start_time": "2022-11-09T09:09:13.896Z"
   },
   {
    "duration": 20,
    "start_time": "2022-11-09T09:09:13.936Z"
   },
   {
    "duration": 21,
    "start_time": "2022-11-09T09:09:13.958Z"
   },
   {
    "duration": 78,
    "start_time": "2022-11-09T09:09:13.981Z"
   },
   {
    "duration": 8,
    "start_time": "2022-11-09T09:09:14.062Z"
   },
   {
    "duration": 9,
    "start_time": "2022-11-09T09:09:14.071Z"
   },
   {
    "duration": 73,
    "start_time": "2022-11-09T09:09:14.081Z"
   },
   {
    "duration": 4,
    "start_time": "2022-11-09T09:09:14.156Z"
   },
   {
    "duration": 4,
    "start_time": "2022-11-09T09:09:20.963Z"
   },
   {
    "duration": 3,
    "start_time": "2022-11-09T09:09:26.513Z"
   },
   {
    "duration": 253,
    "start_time": "2022-11-09T09:09:27.216Z"
   },
   {
    "duration": 6,
    "start_time": "2022-11-09T09:09:28.259Z"
   },
   {
    "duration": 5,
    "start_time": "2022-11-09T09:09:29.189Z"
   },
   {
    "duration": 5,
    "start_time": "2022-11-09T09:09:30.060Z"
   },
   {
    "duration": 3,
    "start_time": "2022-11-09T09:09:30.880Z"
   },
   {
    "duration": 258,
    "start_time": "2022-11-09T09:09:31.319Z"
   },
   {
    "duration": 2,
    "start_time": "2022-11-09T09:09:32.078Z"
   },
   {
    "duration": 11,
    "start_time": "2022-11-09T09:09:32.527Z"
   },
   {
    "duration": 20,
    "start_time": "2022-11-09T09:09:33.052Z"
   },
   {
    "duration": 228,
    "start_time": "2022-11-09T09:09:35.055Z"
   },
   {
    "duration": 227,
    "start_time": "2022-11-09T09:09:49.723Z"
   },
   {
    "duration": 11,
    "start_time": "2022-11-09T09:10:33.229Z"
   },
   {
    "duration": 3,
    "start_time": "2022-11-09T09:10:37.476Z"
   },
   {
    "duration": 255,
    "start_time": "2022-11-09T09:10:37.984Z"
   },
   {
    "duration": 6,
    "start_time": "2022-11-09T09:10:38.818Z"
   },
   {
    "duration": 5,
    "start_time": "2022-11-09T09:10:39.420Z"
   },
   {
    "duration": 6,
    "start_time": "2022-11-09T09:10:40.269Z"
   },
   {
    "duration": 3,
    "start_time": "2022-11-09T09:10:41.520Z"
   },
   {
    "duration": 495,
    "start_time": "2022-11-09T09:10:42.076Z"
   },
   {
    "duration": 3,
    "start_time": "2022-11-09T09:10:42.977Z"
   },
   {
    "duration": 13,
    "start_time": "2022-11-09T09:10:43.478Z"
   },
   {
    "duration": 21,
    "start_time": "2022-11-09T09:10:44.225Z"
   },
   {
    "duration": 232,
    "start_time": "2022-11-09T09:10:46.333Z"
   },
   {
    "duration": 235,
    "start_time": "2022-11-09T09:10:49.070Z"
   },
   {
    "duration": 2,
    "start_time": "2022-11-09T09:15:15.594Z"
   },
   {
    "duration": 220,
    "start_time": "2022-11-09T09:15:43.694Z"
   },
   {
    "duration": 214,
    "start_time": "2022-11-09T09:18:12.349Z"
   },
   {
    "duration": 242,
    "start_time": "2022-11-09T09:18:46.236Z"
   },
   {
    "duration": 93,
    "start_time": "2022-11-09T09:19:50.500Z"
   },
   {
    "duration": 246,
    "start_time": "2022-11-09T09:21:08.726Z"
   },
   {
    "duration": 143,
    "start_time": "2022-11-09T09:21:19.320Z"
   },
   {
    "duration": 153,
    "start_time": "2022-11-09T09:21:30.750Z"
   },
   {
    "duration": 132,
    "start_time": "2022-11-09T09:24:16.365Z"
   },
   {
    "duration": 123,
    "start_time": "2022-11-09T09:24:23.840Z"
   },
   {
    "duration": 76,
    "start_time": "2022-11-09T09:25:49.141Z"
   },
   {
    "duration": 2,
    "start_time": "2022-11-09T09:26:55.602Z"
   },
   {
    "duration": 1616,
    "start_time": "2022-11-09T09:27:23.792Z"
   },
   {
    "duration": 174,
    "start_time": "2022-11-09T09:27:30.484Z"
   },
   {
    "duration": 163,
    "start_time": "2022-11-09T09:27:39.733Z"
   },
   {
    "duration": 126,
    "start_time": "2022-11-09T09:30:26.774Z"
   },
   {
    "duration": 104,
    "start_time": "2022-11-09T09:30:32.432Z"
   },
   {
    "duration": 133,
    "start_time": "2022-11-09T09:32:16.515Z"
   },
   {
    "duration": 161,
    "start_time": "2022-11-09T09:32:21.771Z"
   },
   {
    "duration": 229,
    "start_time": "2022-11-09T09:35:13.845Z"
   },
   {
    "duration": 16,
    "start_time": "2022-11-09T09:36:19.585Z"
   },
   {
    "duration": 33,
    "start_time": "2022-11-09T09:36:25.491Z"
   },
   {
    "duration": 3,
    "start_time": "2022-11-09T09:37:17.806Z"
   },
   {
    "duration": 228,
    "start_time": "2022-11-09T09:38:08.645Z"
   },
   {
    "duration": 1318,
    "start_time": "2022-11-09T09:39:24.931Z"
   },
   {
    "duration": 230,
    "start_time": "2022-11-09T09:39:38.055Z"
   },
   {
    "duration": 508,
    "start_time": "2022-11-09T09:39:55.809Z"
   },
   {
    "duration": 132,
    "start_time": "2022-11-09T09:41:49.910Z"
   },
   {
    "duration": 118,
    "start_time": "2022-11-09T09:42:50.657Z"
   },
   {
    "duration": 221,
    "start_time": "2022-11-09T09:58:47.500Z"
   },
   {
    "duration": 239,
    "start_time": "2022-11-09T09:59:09.700Z"
   },
   {
    "duration": 239,
    "start_time": "2022-11-09T09:59:27.568Z"
   },
   {
    "duration": 14,
    "start_time": "2022-11-09T09:59:51.691Z"
   },
   {
    "duration": 8,
    "start_time": "2022-11-09T10:01:22.485Z"
   },
   {
    "duration": 10,
    "start_time": "2022-11-09T10:13:17.591Z"
   },
   {
    "duration": 4,
    "start_time": "2022-11-09T10:13:55.372Z"
   },
   {
    "duration": 10,
    "start_time": "2022-11-09T10:14:04.324Z"
   },
   {
    "duration": 6,
    "start_time": "2022-11-09T10:14:12.243Z"
   },
   {
    "duration": 76,
    "start_time": "2022-11-09T10:14:49.706Z"
   },
   {
    "duration": 4,
    "start_time": "2022-11-09T10:15:03.364Z"
   },
   {
    "duration": 6,
    "start_time": "2022-11-09T10:15:25.734Z"
   },
   {
    "duration": 14,
    "start_time": "2022-11-09T10:16:26.869Z"
   },
   {
    "duration": 65,
    "start_time": "2022-11-09T10:21:59.292Z"
   },
   {
    "duration": 4,
    "start_time": "2022-11-09T10:22:05.412Z"
   },
   {
    "duration": 301,
    "start_time": "2022-11-09T10:22:36.227Z"
   },
   {
    "duration": 3,
    "start_time": "2022-11-09T10:22:52.347Z"
   },
   {
    "duration": 10,
    "start_time": "2022-11-09T10:22:52.820Z"
   },
   {
    "duration": 17,
    "start_time": "2022-11-09T10:40:00.847Z"
   },
   {
    "duration": 17,
    "start_time": "2022-11-09T10:41:09.805Z"
   },
   {
    "duration": 8,
    "start_time": "2022-11-09T10:41:56.736Z"
   },
   {
    "duration": 22,
    "start_time": "2022-11-09T10:42:01.631Z"
   },
   {
    "duration": 20,
    "start_time": "2022-11-09T10:44:17.507Z"
   },
   {
    "duration": 17,
    "start_time": "2022-11-09T10:44:38.870Z"
   },
   {
    "duration": 15,
    "start_time": "2022-11-09T10:45:08.063Z"
   },
   {
    "duration": 66,
    "start_time": "2022-11-09T10:45:35.511Z"
   },
   {
    "duration": 21,
    "start_time": "2022-11-09T10:47:56.492Z"
   },
   {
    "duration": 19,
    "start_time": "2022-11-09T10:48:22.415Z"
   },
   {
    "duration": 16,
    "start_time": "2022-11-09T10:48:38.135Z"
   },
   {
    "duration": 14,
    "start_time": "2022-11-09T10:49:20.129Z"
   },
   {
    "duration": 14,
    "start_time": "2022-11-09T10:49:24.655Z"
   },
   {
    "duration": 18,
    "start_time": "2022-11-09T10:51:00.954Z"
   },
   {
    "duration": 12,
    "start_time": "2022-11-09T10:52:36.745Z"
   },
   {
    "duration": 10,
    "start_time": "2022-11-09T10:52:37.332Z"
   },
   {
    "duration": 10,
    "start_time": "2022-11-09T10:52:37.982Z"
   },
   {
    "duration": 14,
    "start_time": "2022-11-09T10:52:41.977Z"
   },
   {
    "duration": 11,
    "start_time": "2022-11-09T10:53:24.202Z"
   },
   {
    "duration": 9,
    "start_time": "2022-11-09T10:53:24.678Z"
   },
   {
    "duration": 9,
    "start_time": "2022-11-09T10:53:25.196Z"
   },
   {
    "duration": 9,
    "start_time": "2022-11-09T10:53:26.236Z"
   },
   {
    "duration": 154,
    "start_time": "2022-11-09T10:55:09.248Z"
   },
   {
    "duration": 151,
    "start_time": "2022-11-09T10:55:34.508Z"
   },
   {
    "duration": 145,
    "start_time": "2022-11-09T10:55:52.974Z"
   },
   {
    "duration": 23,
    "start_time": "2022-11-09T11:00:36.267Z"
   },
   {
    "duration": 189,
    "start_time": "2022-11-09T11:01:17.672Z"
   },
   {
    "duration": 184,
    "start_time": "2022-11-09T11:02:44.028Z"
   },
   {
    "duration": 174,
    "start_time": "2022-11-09T11:02:44.719Z"
   },
   {
    "duration": 165,
    "start_time": "2022-11-09T11:02:45.333Z"
   },
   {
    "duration": 163,
    "start_time": "2022-11-09T11:02:45.969Z"
   },
   {
    "duration": 162,
    "start_time": "2022-11-09T11:02:46.606Z"
   },
   {
    "duration": 147,
    "start_time": "2022-11-09T11:02:47.249Z"
   },
   {
    "duration": 196,
    "start_time": "2022-11-09T11:02:47.906Z"
   },
   {
    "duration": 168,
    "start_time": "2022-11-09T11:02:48.585Z"
   },
   {
    "duration": 79,
    "start_time": "2022-11-09T11:07:32.648Z"
   },
   {
    "duration": 8,
    "start_time": "2022-11-09T11:14:31.775Z"
   },
   {
    "duration": 13,
    "start_time": "2022-11-09T11:14:42.747Z"
   },
   {
    "duration": 7,
    "start_time": "2022-11-09T11:20:47.263Z"
   },
   {
    "duration": 17,
    "start_time": "2022-11-09T11:20:54.020Z"
   },
   {
    "duration": 16,
    "start_time": "2022-11-09T11:21:26.471Z"
   },
   {
    "duration": 16,
    "start_time": "2022-11-09T11:21:34.880Z"
   },
   {
    "duration": 16,
    "start_time": "2022-11-09T11:21:54.115Z"
   },
   {
    "duration": 18,
    "start_time": "2022-11-09T11:22:00.093Z"
   },
   {
    "duration": 18,
    "start_time": "2022-11-09T11:22:28.911Z"
   },
   {
    "duration": 16,
    "start_time": "2022-11-09T11:22:42.508Z"
   },
   {
    "duration": 17,
    "start_time": "2022-11-09T11:23:06.619Z"
   },
   {
    "duration": 8,
    "start_time": "2022-11-09T11:24:03.659Z"
   },
   {
    "duration": 8,
    "start_time": "2022-11-09T11:24:13.821Z"
   },
   {
    "duration": 7,
    "start_time": "2022-11-09T11:24:26.762Z"
   },
   {
    "duration": 10,
    "start_time": "2022-11-09T11:24:55.190Z"
   },
   {
    "duration": 1433,
    "start_time": "2022-11-09T11:25:51.759Z"
   },
   {
    "duration": 10,
    "start_time": "2022-11-09T11:26:10.577Z"
   },
   {
    "duration": 18,
    "start_time": "2022-11-09T11:26:19.665Z"
   },
   {
    "duration": 45,
    "start_time": "2022-11-09T11:26:45.181Z"
   },
   {
    "duration": 14,
    "start_time": "2022-11-09T11:26:51.551Z"
   },
   {
    "duration": 16,
    "start_time": "2022-11-09T11:27:11.513Z"
   },
   {
    "duration": 23,
    "start_time": "2022-11-09T11:28:14.452Z"
   },
   {
    "duration": 73,
    "start_time": "2022-11-09T11:28:19.389Z"
   },
   {
    "duration": 8,
    "start_time": "2022-11-09T11:28:33.117Z"
   },
   {
    "duration": 4,
    "start_time": "2022-11-09T11:28:48.815Z"
   },
   {
    "duration": 24,
    "start_time": "2022-11-09T11:29:04.055Z"
   },
   {
    "duration": 68,
    "start_time": "2022-11-09T11:29:44.891Z"
   },
   {
    "duration": 29,
    "start_time": "2022-11-09T11:29:50.219Z"
   },
   {
    "duration": 20,
    "start_time": "2022-11-09T11:30:32.562Z"
   },
   {
    "duration": 3,
    "start_time": "2022-11-09T11:30:53.858Z"
   },
   {
    "duration": 24,
    "start_time": "2022-11-09T11:30:58.663Z"
   },
   {
    "duration": 12,
    "start_time": "2022-11-09T11:31:32.103Z"
   },
   {
    "duration": 18,
    "start_time": "2022-11-09T11:32:23.675Z"
   },
   {
    "duration": 19,
    "start_time": "2022-11-09T11:32:26.230Z"
   },
   {
    "duration": 25,
    "start_time": "2022-11-09T11:32:34.875Z"
   },
   {
    "duration": 29,
    "start_time": "2022-11-09T11:32:45.241Z"
   },
   {
    "duration": 24,
    "start_time": "2022-11-09T11:33:52.477Z"
   },
   {
    "duration": 26,
    "start_time": "2022-11-09T11:34:22.630Z"
   },
   {
    "duration": 26,
    "start_time": "2022-11-09T11:34:29.335Z"
   },
   {
    "duration": 25,
    "start_time": "2022-11-09T11:34:35.567Z"
   },
   {
    "duration": 11,
    "start_time": "2022-11-09T11:46:33.826Z"
   },
   {
    "duration": 47,
    "start_time": "2022-11-09T11:46:43.524Z"
   },
   {
    "duration": 14,
    "start_time": "2022-11-09T11:47:49.572Z"
   },
   {
    "duration": 16,
    "start_time": "2022-11-09T11:47:54.254Z"
   },
   {
    "duration": 21,
    "start_time": "2022-11-09T11:47:59.090Z"
   },
   {
    "duration": 22,
    "start_time": "2022-11-09T11:49:05.575Z"
   },
   {
    "duration": 16,
    "start_time": "2022-11-09T11:49:45.353Z"
   },
   {
    "duration": 29,
    "start_time": "2022-11-09T11:49:52.219Z"
   },
   {
    "duration": 156,
    "start_time": "2022-11-09T11:50:01.259Z"
   },
   {
    "duration": 167,
    "start_time": "2022-11-09T11:50:16.557Z"
   },
   {
    "duration": 190,
    "start_time": "2022-11-09T12:02:14.633Z"
   },
   {
    "duration": 368,
    "start_time": "2022-11-09T12:04:04.483Z"
   },
   {
    "duration": 361,
    "start_time": "2022-11-09T12:04:18.203Z"
   },
   {
    "duration": 340,
    "start_time": "2022-11-09T12:04:29.114Z"
   },
   {
    "duration": 323,
    "start_time": "2022-11-09T12:04:34.128Z"
   },
   {
    "duration": 470,
    "start_time": "2022-11-09T12:05:01.048Z"
   },
   {
    "duration": 9,
    "start_time": "2022-11-09T12:06:47.850Z"
   },
   {
    "duration": 135,
    "start_time": "2022-11-09T12:14:39.144Z"
   },
   {
    "duration": 12,
    "start_time": "2022-11-09T12:23:55.499Z"
   },
   {
    "duration": 131,
    "start_time": "2022-11-09T12:31:41.346Z"
   },
   {
    "duration": 534,
    "start_time": "2022-11-09T13:00:04.774Z"
   },
   {
    "duration": 16,
    "start_time": "2022-11-09T13:00:05.310Z"
   },
   {
    "duration": 2196,
    "start_time": "2022-11-09T13:00:05.329Z"
   },
   {
    "duration": 10,
    "start_time": "2022-11-09T13:00:07.527Z"
   },
   {
    "duration": 14,
    "start_time": "2022-11-09T13:00:07.540Z"
   },
   {
    "duration": 16,
    "start_time": "2022-11-09T13:00:07.556Z"
   },
   {
    "duration": 31,
    "start_time": "2022-11-09T13:00:07.574Z"
   },
   {
    "duration": 29,
    "start_time": "2022-11-09T13:00:07.606Z"
   },
   {
    "duration": 27,
    "start_time": "2022-11-09T13:00:07.637Z"
   },
   {
    "duration": 35,
    "start_time": "2022-11-09T13:00:07.666Z"
   },
   {
    "duration": 30,
    "start_time": "2022-11-09T13:00:07.703Z"
   },
   {
    "duration": 19,
    "start_time": "2022-11-09T13:00:07.734Z"
   },
   {
    "duration": 58,
    "start_time": "2022-11-09T13:00:07.754Z"
   },
   {
    "duration": 25,
    "start_time": "2022-11-09T13:00:07.817Z"
   },
   {
    "duration": 162,
    "start_time": "2022-11-09T13:00:07.844Z"
   },
   {
    "duration": 5,
    "start_time": "2022-11-09T13:00:08.008Z"
   },
   {
    "duration": 525,
    "start_time": "2022-11-09T13:00:08.014Z"
   },
   {
    "duration": 38,
    "start_time": "2022-11-09T13:00:08.542Z"
   },
   {
    "duration": 9,
    "start_time": "2022-11-09T13:00:08.582Z"
   },
   {
    "duration": 8,
    "start_time": "2022-11-09T13:00:08.593Z"
   },
   {
    "duration": 50,
    "start_time": "2022-11-09T13:00:08.602Z"
   },
   {
    "duration": 54,
    "start_time": "2022-11-09T13:00:08.654Z"
   },
   {
    "duration": 45,
    "start_time": "2022-11-09T13:00:08.710Z"
   },
   {
    "duration": 43,
    "start_time": "2022-11-09T13:00:08.757Z"
   },
   {
    "duration": 19,
    "start_time": "2022-11-09T13:00:08.801Z"
   },
   {
    "duration": 26,
    "start_time": "2022-11-09T13:00:08.821Z"
   },
   {
    "duration": 85,
    "start_time": "2022-11-09T13:00:08.849Z"
   },
   {
    "duration": 9,
    "start_time": "2022-11-09T13:00:08.935Z"
   },
   {
    "duration": 11,
    "start_time": "2022-11-09T13:00:08.946Z"
   },
   {
    "duration": 78,
    "start_time": "2022-11-09T13:00:08.959Z"
   },
   {
    "duration": 6,
    "start_time": "2022-11-09T13:00:09.039Z"
   },
   {
    "duration": 8,
    "start_time": "2022-11-09T13:00:09.047Z"
   },
   {
    "duration": 26,
    "start_time": "2022-11-09T13:00:09.056Z"
   },
   {
    "duration": 3,
    "start_time": "2022-11-09T13:00:09.084Z"
   },
   {
    "duration": 323,
    "start_time": "2022-11-09T13:00:09.089Z"
   },
   {
    "duration": 5,
    "start_time": "2022-11-09T13:00:09.414Z"
   },
   {
    "duration": 10,
    "start_time": "2022-11-09T13:00:09.421Z"
   },
   {
    "duration": 6,
    "start_time": "2022-11-09T13:00:09.434Z"
   },
   {
    "duration": 3,
    "start_time": "2022-11-09T13:00:09.443Z"
   },
   {
    "duration": 371,
    "start_time": "2022-11-09T13:00:09.447Z"
   },
   {
    "duration": 3,
    "start_time": "2022-11-09T13:00:09.822Z"
   },
   {
    "duration": 22,
    "start_time": "2022-11-09T13:00:09.826Z"
   },
   {
    "duration": 27,
    "start_time": "2022-11-09T13:00:09.850Z"
   },
   {
    "duration": 258,
    "start_time": "2022-11-09T13:00:09.880Z"
   },
   {
    "duration": 234,
    "start_time": "2022-11-09T13:00:10.140Z"
   },
   {
    "duration": 235,
    "start_time": "2022-11-09T13:00:10.379Z"
   },
   {
    "duration": 307,
    "start_time": "2022-11-09T13:00:10.616Z"
   },
   {
    "duration": 181,
    "start_time": "2022-11-09T13:00:10.925Z"
   },
   {
    "duration": 145,
    "start_time": "2022-11-09T13:00:11.107Z"
   },
   {
    "duration": 245,
    "start_time": "2022-11-09T13:00:11.254Z"
   },
   {
    "duration": 129,
    "start_time": "2022-11-09T13:00:11.501Z"
   },
   {
    "duration": 188,
    "start_time": "2022-11-09T13:00:11.632Z"
   },
   {
    "duration": 252,
    "start_time": "2022-11-09T13:00:11.822Z"
   },
   {
    "duration": 244,
    "start_time": "2022-11-09T13:00:12.076Z"
   },
   {
    "duration": 332,
    "start_time": "2022-11-09T13:00:12.322Z"
   },
   {
    "duration": 163,
    "start_time": "2022-11-09T13:00:12.656Z"
   },
   {
    "duration": 139,
    "start_time": "2022-11-09T13:00:12.821Z"
   },
   {
    "duration": 349,
    "start_time": "2022-11-09T13:00:12.962Z"
   },
   {
    "duration": 19,
    "start_time": "2022-11-09T13:00:13.313Z"
   },
   {
    "duration": 9,
    "start_time": "2022-11-09T13:00:13.334Z"
   },
   {
    "duration": 35,
    "start_time": "2022-11-09T13:00:13.345Z"
   },
   {
    "duration": 211,
    "start_time": "2022-11-09T13:00:13.382Z"
   },
   {
    "duration": 183,
    "start_time": "2022-11-09T13:00:13.595Z"
   },
   {
    "duration": 164,
    "start_time": "2022-11-09T13:00:13.780Z"
   },
   {
    "duration": 165,
    "start_time": "2022-11-09T13:00:13.945Z"
   },
   {
    "duration": 158,
    "start_time": "2022-11-09T13:00:14.111Z"
   },
   {
    "duration": 159,
    "start_time": "2022-11-09T13:00:14.270Z"
   },
   {
    "duration": 158,
    "start_time": "2022-11-09T13:00:14.430Z"
   },
   {
    "duration": 170,
    "start_time": "2022-11-09T13:00:14.590Z"
   },
   {
    "duration": 36,
    "start_time": "2022-11-09T13:00:14.762Z"
   },
   {
    "duration": 13,
    "start_time": "2022-11-09T13:00:14.800Z"
   },
   {
    "duration": 184,
    "start_time": "2022-11-09T13:00:14.815Z"
   },
   {
    "duration": 482,
    "start_time": "2022-11-09T13:00:15.000Z"
   },
   {
    "duration": 155,
    "start_time": "2022-11-09T13:00:15.484Z"
   },
   {
    "duration": 152,
    "start_time": "2022-11-09T13:00:15.641Z"
   },
   {
    "duration": 92,
    "start_time": "2022-11-09T13:13:36.600Z"
   },
   {
    "duration": 14,
    "start_time": "2022-11-09T13:19:08.893Z"
   },
   {
    "duration": 536,
    "start_time": "2022-11-09T13:19:23.745Z"
   },
   {
    "duration": 16,
    "start_time": "2022-11-09T13:19:24.283Z"
   },
   {
    "duration": 2228,
    "start_time": "2022-11-09T13:19:24.304Z"
   },
   {
    "duration": 9,
    "start_time": "2022-11-09T13:19:26.534Z"
   },
   {
    "duration": 15,
    "start_time": "2022-11-09T13:19:26.544Z"
   },
   {
    "duration": 8,
    "start_time": "2022-11-09T13:19:26.561Z"
   },
   {
    "duration": 10,
    "start_time": "2022-11-09T13:19:26.570Z"
   },
   {
    "duration": 10,
    "start_time": "2022-11-09T13:19:26.581Z"
   },
   {
    "duration": 9,
    "start_time": "2022-11-09T13:19:26.594Z"
   },
   {
    "duration": 11,
    "start_time": "2022-11-09T13:19:26.604Z"
   },
   {
    "duration": 20,
    "start_time": "2022-11-09T13:19:26.616Z"
   },
   {
    "duration": 6,
    "start_time": "2022-11-09T13:19:26.637Z"
   },
   {
    "duration": 38,
    "start_time": "2022-11-09T13:19:26.644Z"
   },
   {
    "duration": 5,
    "start_time": "2022-11-09T13:19:26.684Z"
   },
   {
    "duration": 144,
    "start_time": "2022-11-09T13:19:26.690Z"
   },
   {
    "duration": 6,
    "start_time": "2022-11-09T13:19:26.835Z"
   },
   {
    "duration": 545,
    "start_time": "2022-11-09T13:19:26.842Z"
   },
   {
    "duration": 3,
    "start_time": "2022-11-09T13:19:27.389Z"
   },
   {
    "duration": 12,
    "start_time": "2022-11-09T13:19:27.393Z"
   },
   {
    "duration": 28,
    "start_time": "2022-11-09T13:19:27.407Z"
   },
   {
    "duration": 56,
    "start_time": "2022-11-09T13:19:27.437Z"
   },
   {
    "duration": 33,
    "start_time": "2022-11-09T13:19:27.495Z"
   },
   {
    "duration": 42,
    "start_time": "2022-11-09T13:19:27.530Z"
   },
   {
    "duration": 32,
    "start_time": "2022-11-09T13:19:27.574Z"
   },
   {
    "duration": 19,
    "start_time": "2022-11-09T13:19:27.608Z"
   },
   {
    "duration": 23,
    "start_time": "2022-11-09T13:19:27.628Z"
   },
   {
    "duration": 70,
    "start_time": "2022-11-09T13:19:27.655Z"
   },
   {
    "duration": 8,
    "start_time": "2022-11-09T13:19:27.727Z"
   },
   {
    "duration": 11,
    "start_time": "2022-11-09T13:19:27.737Z"
   },
   {
    "duration": 74,
    "start_time": "2022-11-09T13:19:27.749Z"
   },
   {
    "duration": 5,
    "start_time": "2022-11-09T13:19:27.825Z"
   },
   {
    "duration": 4,
    "start_time": "2022-11-09T13:19:27.832Z"
   },
   {
    "duration": 11,
    "start_time": "2022-11-09T13:19:27.838Z"
   },
   {
    "duration": 16,
    "start_time": "2022-11-09T13:19:27.851Z"
   },
   {
    "duration": 338,
    "start_time": "2022-11-09T13:19:27.868Z"
   },
   {
    "duration": 5,
    "start_time": "2022-11-09T13:19:28.208Z"
   },
   {
    "duration": 17,
    "start_time": "2022-11-09T13:19:28.214Z"
   },
   {
    "duration": 52,
    "start_time": "2022-11-09T13:19:28.232Z"
   },
   {
    "duration": 9,
    "start_time": "2022-11-09T13:19:28.285Z"
   },
   {
    "duration": 694,
    "start_time": "2022-11-09T13:19:28.296Z"
   },
   {
    "duration": 3,
    "start_time": "2022-11-09T13:19:28.991Z"
   },
   {
    "duration": 40,
    "start_time": "2022-11-09T13:19:28.995Z"
   },
   {
    "duration": 36,
    "start_time": "2022-11-09T13:19:29.080Z"
   },
   {
    "duration": 491,
    "start_time": "2022-11-09T13:19:29.118Z"
   },
   {
    "duration": 486,
    "start_time": "2022-11-09T13:19:29.611Z"
   },
   {
    "duration": 239,
    "start_time": "2022-11-09T13:19:30.099Z"
   },
   {
    "duration": 271,
    "start_time": "2022-11-09T13:19:30.339Z"
   },
   {
    "duration": 176,
    "start_time": "2022-11-09T13:19:30.612Z"
   },
   {
    "duration": 156,
    "start_time": "2022-11-09T13:19:30.790Z"
   },
   {
    "duration": 264,
    "start_time": "2022-11-09T13:19:30.948Z"
   },
   {
    "duration": 127,
    "start_time": "2022-11-09T13:19:31.214Z"
   },
   {
    "duration": 182,
    "start_time": "2022-11-09T13:19:31.343Z"
   },
   {
    "duration": 249,
    "start_time": "2022-11-09T13:19:31.526Z"
   },
   {
    "duration": 245,
    "start_time": "2022-11-09T13:19:31.779Z"
   },
   {
    "duration": 299,
    "start_time": "2022-11-09T13:19:32.026Z"
   },
   {
    "duration": 203,
    "start_time": "2022-11-09T13:19:32.327Z"
   },
   {
    "duration": 179,
    "start_time": "2022-11-09T13:19:32.532Z"
   },
   {
    "duration": 383,
    "start_time": "2022-11-09T13:19:32.713Z"
   },
   {
    "duration": 19,
    "start_time": "2022-11-09T13:19:33.098Z"
   },
   {
    "duration": 5,
    "start_time": "2022-11-09T13:19:33.119Z"
   },
   {
    "duration": 15,
    "start_time": "2022-11-09T13:19:33.125Z"
   },
   {
    "duration": 206,
    "start_time": "2022-11-09T13:19:33.142Z"
   },
   {
    "duration": 196,
    "start_time": "2022-11-09T13:19:33.350Z"
   },
   {
    "duration": 177,
    "start_time": "2022-11-09T13:19:33.548Z"
   },
   {
    "duration": 163,
    "start_time": "2022-11-09T13:19:33.727Z"
   },
   {
    "duration": 172,
    "start_time": "2022-11-09T13:19:33.892Z"
   },
   {
    "duration": 173,
    "start_time": "2022-11-09T13:19:34.066Z"
   },
   {
    "duration": 167,
    "start_time": "2022-11-09T13:19:34.240Z"
   },
   {
    "duration": 178,
    "start_time": "2022-11-09T13:19:34.409Z"
   },
   {
    "duration": 26,
    "start_time": "2022-11-09T13:19:34.590Z"
   },
   {
    "duration": 14,
    "start_time": "2022-11-09T13:19:34.618Z"
   },
   {
    "duration": 201,
    "start_time": "2022-11-09T13:19:34.634Z"
   },
   {
    "duration": 472,
    "start_time": "2022-11-09T13:19:34.837Z"
   },
   {
    "duration": 185,
    "start_time": "2022-11-09T13:19:35.311Z"
   },
   {
    "duration": 157,
    "start_time": "2022-11-09T13:19:35.498Z"
   },
   {
    "duration": 252,
    "start_time": "2022-11-09T13:21:41.109Z"
   },
   {
    "duration": 157,
    "start_time": "2022-11-09T13:21:44.697Z"
   },
   {
    "duration": 54,
    "start_time": "2022-11-10T08:17:44.142Z"
   },
   {
    "duration": 61,
    "start_time": "2022-11-10T08:18:50.642Z"
   },
   {
    "duration": 1152,
    "start_time": "2022-11-10T08:19:20.633Z"
   },
   {
    "duration": 24,
    "start_time": "2022-11-10T08:19:23.910Z"
   },
   {
    "duration": 2086,
    "start_time": "2022-11-10T08:19:24.811Z"
   },
   {
    "duration": 11,
    "start_time": "2022-11-10T08:19:40.032Z"
   },
   {
    "duration": 77,
    "start_time": "2022-11-10T08:20:29.294Z"
   },
   {
    "duration": 14,
    "start_time": "2022-11-10T08:20:48.575Z"
   },
   {
    "duration": 21,
    "start_time": "2022-11-10T08:20:56.765Z"
   },
   {
    "duration": 14,
    "start_time": "2022-11-10T08:21:02.441Z"
   },
   {
    "duration": 9,
    "start_time": "2022-11-10T08:21:03.215Z"
   },
   {
    "duration": 9,
    "start_time": "2022-11-10T08:21:04.206Z"
   },
   {
    "duration": 8,
    "start_time": "2022-11-10T08:21:05.064Z"
   },
   {
    "duration": 7,
    "start_time": "2022-11-10T08:21:06.521Z"
   },
   {
    "duration": 8,
    "start_time": "2022-11-10T08:21:23.602Z"
   },
   {
    "duration": 13,
    "start_time": "2022-11-10T08:21:31.625Z"
   },
   {
    "duration": 6,
    "start_time": "2022-11-10T08:22:15.778Z"
   },
   {
    "duration": 34,
    "start_time": "2022-11-10T08:22:16.803Z"
   },
   {
    "duration": 3,
    "start_time": "2022-11-10T08:22:18.204Z"
   },
   {
    "duration": 159,
    "start_time": "2022-11-10T08:22:19.848Z"
   },
   {
    "duration": 5,
    "start_time": "2022-11-10T08:22:22.335Z"
   },
   {
    "duration": 532,
    "start_time": "2022-11-10T08:22:24.341Z"
   },
   {
    "duration": 5,
    "start_time": "2022-11-10T08:22:29.553Z"
   },
   {
    "duration": 9,
    "start_time": "2022-11-10T08:22:30.424Z"
   },
   {
    "duration": 6,
    "start_time": "2022-11-10T08:22:31.812Z"
   },
   {
    "duration": 43,
    "start_time": "2022-11-10T08:22:38.550Z"
   },
   {
    "duration": 46,
    "start_time": "2022-11-10T08:22:40.080Z"
   },
   {
    "duration": 74,
    "start_time": "2022-11-10T08:22:41.519Z"
   },
   {
    "duration": 44,
    "start_time": "2022-11-10T08:22:53.134Z"
   },
   {
    "duration": 23,
    "start_time": "2022-11-10T08:22:57.592Z"
   },
   {
    "duration": 44,
    "start_time": "2022-11-10T08:23:01.489Z"
   },
   {
    "duration": 37,
    "start_time": "2022-11-10T08:24:25.719Z"
   },
   {
    "duration": 741,
    "start_time": "2022-11-10T08:26:35.404Z"
   },
   {
    "duration": 164,
    "start_time": "2022-11-10T08:27:00.009Z"
   },
   {
    "duration": 113,
    "start_time": "2022-11-10T08:27:23.234Z"
   },
   {
    "duration": 187,
    "start_time": "2022-11-10T08:28:01.719Z"
   },
   {
    "duration": 116,
    "start_time": "2022-11-10T08:28:15.014Z"
   },
   {
    "duration": 123,
    "start_time": "2022-11-10T08:28:21.164Z"
   },
   {
    "duration": 112,
    "start_time": "2022-11-10T08:28:26.874Z"
   },
   {
    "duration": 146,
    "start_time": "2022-11-10T08:28:34.393Z"
   },
   {
    "duration": 110,
    "start_time": "2022-11-10T08:29:01.116Z"
   },
   {
    "duration": 179,
    "start_time": "2022-11-10T08:29:06.826Z"
   },
   {
    "duration": 48,
    "start_time": "2022-11-10T08:30:01.082Z"
   },
   {
    "duration": 160,
    "start_time": "2022-11-10T08:30:10.314Z"
   },
   {
    "duration": 151,
    "start_time": "2022-11-10T08:30:20.083Z"
   },
   {
    "duration": 177,
    "start_time": "2022-11-10T08:30:29.859Z"
   },
   {
    "duration": 158,
    "start_time": "2022-11-10T08:30:44.092Z"
   },
   {
    "duration": 14,
    "start_time": "2022-11-10T08:30:56.954Z"
   },
   {
    "duration": 132,
    "start_time": "2022-11-10T08:31:26.155Z"
   },
   {
    "duration": 184,
    "start_time": "2022-11-10T08:31:44.217Z"
   },
   {
    "duration": 110,
    "start_time": "2022-11-10T08:32:05.567Z"
   },
   {
    "duration": 174,
    "start_time": "2022-11-10T08:32:16.471Z"
   },
   {
    "duration": 114,
    "start_time": "2022-11-10T08:36:13.575Z"
   },
   {
    "duration": 115,
    "start_time": "2022-11-10T08:36:23.838Z"
   },
   {
    "duration": 127,
    "start_time": "2022-11-10T08:36:37.881Z"
   },
   {
    "duration": 116,
    "start_time": "2022-11-10T08:36:40.900Z"
   },
   {
    "duration": 111,
    "start_time": "2022-11-10T08:36:48.295Z"
   },
   {
    "duration": 21,
    "start_time": "2022-11-10T08:38:00.964Z"
   },
   {
    "duration": 18,
    "start_time": "2022-11-10T08:38:08.955Z"
   },
   {
    "duration": 19,
    "start_time": "2022-11-10T08:38:15.799Z"
   },
   {
    "duration": 70,
    "start_time": "2022-11-10T08:39:03.587Z"
   },
   {
    "duration": 3,
    "start_time": "2022-11-10T08:45:51.285Z"
   },
   {
    "duration": 257,
    "start_time": "2022-11-10T08:45:51.900Z"
   },
   {
    "duration": 6,
    "start_time": "2022-11-10T08:45:52.895Z"
   },
   {
    "duration": 5,
    "start_time": "2022-11-10T08:45:54.099Z"
   },
   {
    "duration": 7,
    "start_time": "2022-11-10T08:45:56.433Z"
   },
   {
    "duration": 8,
    "start_time": "2022-11-10T08:57:23.606Z"
   },
   {
    "duration": 5,
    "start_time": "2022-11-10T08:58:46.506Z"
   },
   {
    "duration": 9,
    "start_time": "2022-11-10T08:58:54.449Z"
   },
   {
    "duration": 6,
    "start_time": "2022-11-10T08:59:32.826Z"
   },
   {
    "duration": 13,
    "start_time": "2022-11-10T08:59:46.189Z"
   },
   {
    "duration": 8,
    "start_time": "2022-11-10T08:59:52.545Z"
   },
   {
    "duration": 7,
    "start_time": "2022-11-10T09:00:18.498Z"
   },
   {
    "duration": 9,
    "start_time": "2022-11-10T09:00:57.000Z"
   },
   {
    "duration": 18,
    "start_time": "2022-11-10T09:03:47.632Z"
   },
   {
    "duration": 15,
    "start_time": "2022-11-10T09:04:05.574Z"
   },
   {
    "duration": 15,
    "start_time": "2022-11-10T09:04:33.462Z"
   },
   {
    "duration": 16,
    "start_time": "2022-11-10T09:04:51.689Z"
   },
   {
    "duration": 15,
    "start_time": "2022-11-10T09:05:19.097Z"
   },
   {
    "duration": 27,
    "start_time": "2022-11-10T09:05:46.525Z"
   },
   {
    "duration": 13,
    "start_time": "2022-11-10T09:06:18.796Z"
   },
   {
    "duration": 15,
    "start_time": "2022-11-10T09:06:48.658Z"
   },
   {
    "duration": 3,
    "start_time": "2022-11-10T09:11:39.284Z"
   },
   {
    "duration": 396,
    "start_time": "2022-11-10T09:11:40.345Z"
   },
   {
    "duration": 4,
    "start_time": "2022-11-10T09:11:42.460Z"
   },
   {
    "duration": 19,
    "start_time": "2022-11-10T09:11:43.188Z"
   },
   {
    "duration": 25,
    "start_time": "2022-11-10T09:11:45.149Z"
   },
   {
    "duration": 239,
    "start_time": "2022-11-10T09:11:52.911Z"
   },
   {
    "duration": 492,
    "start_time": "2022-11-10T09:12:48.842Z"
   },
   {
    "duration": 594,
    "start_time": "2022-11-10T09:13:08.892Z"
   },
   {
    "duration": 489,
    "start_time": "2022-11-10T09:13:23.192Z"
   },
   {
    "duration": 564,
    "start_time": "2022-11-10T09:14:04.175Z"
   },
   {
    "duration": 578,
    "start_time": "2022-11-10T09:16:05.218Z"
   },
   {
    "duration": 591,
    "start_time": "2022-11-10T09:17:16.303Z"
   },
   {
    "duration": 491,
    "start_time": "2022-11-10T09:17:44.882Z"
   },
   {
    "duration": 919,
    "start_time": "2022-11-10T09:18:04.064Z"
   },
   {
    "duration": 597,
    "start_time": "2022-11-10T09:18:28.430Z"
   },
   {
    "duration": 527,
    "start_time": "2022-11-10T09:18:49.329Z"
   },
   {
    "duration": 704,
    "start_time": "2022-11-10T09:19:48.498Z"
   },
   {
    "duration": 405,
    "start_time": "2022-11-10T09:19:59.950Z"
   },
   {
    "duration": 307,
    "start_time": "2022-11-10T09:20:21.122Z"
   },
   {
    "duration": 159,
    "start_time": "2022-11-10T09:41:38.336Z"
   },
   {
    "duration": 132,
    "start_time": "2022-11-10T09:41:43.336Z"
   },
   {
    "duration": 137,
    "start_time": "2022-11-10T09:41:46.929Z"
   },
   {
    "duration": 99,
    "start_time": "2022-11-10T09:41:51.776Z"
   },
   {
    "duration": 250,
    "start_time": "2022-11-10T09:41:57.315Z"
   },
   {
    "duration": 464,
    "start_time": "2022-11-10T09:42:39.770Z"
   },
   {
    "duration": 689,
    "start_time": "2022-11-10T09:43:50.294Z"
   },
   {
    "duration": 536,
    "start_time": "2022-11-10T09:44:26.706Z"
   },
   {
    "duration": 438,
    "start_time": "2022-11-10T09:44:36.828Z"
   },
   {
    "duration": 8,
    "start_time": "2022-11-10T10:19:04.877Z"
   },
   {
    "duration": 15,
    "start_time": "2022-11-10T10:19:13.494Z"
   },
   {
    "duration": 76,
    "start_time": "2022-11-10T10:19:14.036Z"
   },
   {
    "duration": 736,
    "start_time": "2022-11-10T10:19:34.691Z"
   },
   {
    "duration": 9,
    "start_time": "2022-11-10T10:19:53.796Z"
   },
   {
    "duration": 48,
    "start_time": "2022-11-10T10:21:35.192Z"
   },
   {
    "duration": 3,
    "start_time": "2022-11-10T10:22:41.222Z"
   },
   {
    "duration": 8,
    "start_time": "2022-11-10T10:22:41.917Z"
   },
   {
    "duration": 17,
    "start_time": "2022-11-10T10:23:22.360Z"
   },
   {
    "duration": 16,
    "start_time": "2022-11-10T10:23:57.675Z"
   },
   {
    "duration": 19,
    "start_time": "2022-11-10T10:24:04.896Z"
   },
   {
    "duration": 18,
    "start_time": "2022-11-10T10:25:20.080Z"
   },
   {
    "duration": 17,
    "start_time": "2022-11-10T10:25:31.690Z"
   },
   {
    "duration": 20,
    "start_time": "2022-11-10T10:25:55.258Z"
   },
   {
    "duration": 863,
    "start_time": "2022-11-10T10:26:15.205Z"
   },
   {
    "duration": 17,
    "start_time": "2022-11-10T10:26:40.021Z"
   },
   {
    "duration": 1013,
    "start_time": "2022-11-10T10:26:46.480Z"
   },
   {
    "duration": 8,
    "start_time": "2022-11-10T10:49:51.431Z"
   },
   {
    "duration": 17,
    "start_time": "2022-11-10T10:49:59.624Z"
   },
   {
    "duration": 12,
    "start_time": "2022-11-10T10:50:05.963Z"
   },
   {
    "duration": 122,
    "start_time": "2022-11-10T10:50:59.354Z"
   },
   {
    "duration": 19,
    "start_time": "2022-11-10T10:51:30.720Z"
   },
   {
    "duration": 128,
    "start_time": "2022-11-10T10:51:42.711Z"
   },
   {
    "duration": 127,
    "start_time": "2022-11-10T10:52:45.284Z"
   },
   {
    "duration": 14,
    "start_time": "2022-11-10T10:53:00.846Z"
   },
   {
    "duration": 263,
    "start_time": "2022-11-10T10:53:31.150Z"
   },
   {
    "duration": 157,
    "start_time": "2022-11-10T10:53:46.874Z"
   },
   {
    "duration": 153,
    "start_time": "2022-11-10T10:54:59.229Z"
   },
   {
    "duration": 157,
    "start_time": "2022-11-10T10:55:29.606Z"
   },
   {
    "duration": 182,
    "start_time": "2022-11-10T10:57:37.516Z"
   },
   {
    "duration": 158,
    "start_time": "2022-11-10T10:57:57.984Z"
   },
   {
    "duration": 182,
    "start_time": "2022-11-10T10:58:51.778Z"
   },
   {
    "duration": 51,
    "start_time": "2022-11-10T11:03:30.413Z"
   },
   {
    "duration": 158,
    "start_time": "2022-11-10T11:03:33.531Z"
   },
   {
    "duration": 338,
    "start_time": "2022-11-10T11:04:35.838Z"
   },
   {
    "duration": 180,
    "start_time": "2022-11-10T11:06:02.684Z"
   },
   {
    "duration": 317,
    "start_time": "2022-11-10T11:07:08.002Z"
   },
   {
    "duration": 158,
    "start_time": "2022-11-10T11:07:28.656Z"
   },
   {
    "duration": 4,
    "start_time": "2022-11-10T11:09:12.007Z"
   },
   {
    "duration": 182,
    "start_time": "2022-11-10T11:10:13.504Z"
   },
   {
    "duration": 317,
    "start_time": "2022-11-10T11:12:04.027Z"
   },
   {
    "duration": 447,
    "start_time": "2022-11-10T11:12:48.040Z"
   },
   {
    "duration": 158,
    "start_time": "2022-11-10T11:13:13.589Z"
   },
   {
    "duration": 112,
    "start_time": "2022-11-10T11:13:26.698Z"
   },
   {
    "duration": 30,
    "start_time": "2022-11-10T11:13:26.812Z"
   },
   {
    "duration": 1876,
    "start_time": "2022-11-10T11:13:26.846Z"
   },
   {
    "duration": 14,
    "start_time": "2022-11-10T11:13:28.724Z"
   },
   {
    "duration": 43,
    "start_time": "2022-11-10T11:13:28.740Z"
   },
   {
    "duration": 15,
    "start_time": "2022-11-10T11:13:28.785Z"
   },
   {
    "duration": 17,
    "start_time": "2022-11-10T11:13:28.801Z"
   },
   {
    "duration": 19,
    "start_time": "2022-11-10T11:13:28.819Z"
   },
   {
    "duration": 18,
    "start_time": "2022-11-10T11:13:28.840Z"
   },
   {
    "duration": 26,
    "start_time": "2022-11-10T11:13:28.861Z"
   },
   {
    "duration": 38,
    "start_time": "2022-11-10T11:13:28.889Z"
   },
   {
    "duration": 22,
    "start_time": "2022-11-10T11:13:28.929Z"
   },
   {
    "duration": 113,
    "start_time": "2022-11-10T11:13:28.953Z"
   },
   {
    "duration": 73,
    "start_time": "2022-11-10T11:13:29.068Z"
   },
   {
    "duration": 14,
    "start_time": "2022-11-10T11:13:29.143Z"
   },
   {
    "duration": 151,
    "start_time": "2022-11-10T11:13:29.159Z"
   },
   {
    "duration": 5,
    "start_time": "2022-11-10T11:13:29.312Z"
   },
   {
    "duration": 527,
    "start_time": "2022-11-10T11:13:29.319Z"
   },
   {
    "duration": 5,
    "start_time": "2022-11-10T11:13:29.848Z"
   },
   {
    "duration": 29,
    "start_time": "2022-11-10T11:13:29.855Z"
   },
   {
    "duration": 19,
    "start_time": "2022-11-10T11:13:29.886Z"
   },
   {
    "duration": 55,
    "start_time": "2022-11-10T11:13:29.906Z"
   },
   {
    "duration": 27,
    "start_time": "2022-11-10T11:13:29.962Z"
   },
   {
    "duration": 85,
    "start_time": "2022-11-10T11:13:29.991Z"
   },
   {
    "duration": 188,
    "start_time": "2022-11-10T11:13:30.078Z"
   },
   {
    "duration": 67,
    "start_time": "2022-11-10T11:13:30.268Z"
   },
   {
    "duration": 54,
    "start_time": "2022-11-10T11:13:30.336Z"
   },
   {
    "duration": 70,
    "start_time": "2022-11-10T11:13:30.394Z"
   },
   {
    "duration": 125,
    "start_time": "2022-11-10T11:13:30.465Z"
   },
   {
    "duration": 10,
    "start_time": "2022-11-10T11:13:30.592Z"
   },
   {
    "duration": 202,
    "start_time": "2022-11-10T11:13:30.604Z"
   },
   {
    "duration": 11,
    "start_time": "2022-11-10T11:13:30.808Z"
   },
   {
    "duration": 86,
    "start_time": "2022-11-10T11:13:30.821Z"
   },
   {
    "duration": 6,
    "start_time": "2022-11-10T11:13:30.909Z"
   },
   {
    "duration": 30,
    "start_time": "2022-11-10T11:13:30.916Z"
   },
   {
    "duration": 179,
    "start_time": "2022-11-10T11:13:30.948Z"
   },
   {
    "duration": 9,
    "start_time": "2022-11-10T11:13:31.133Z"
   },
   {
    "duration": 36,
    "start_time": "2022-11-10T11:13:31.144Z"
   },
   {
    "duration": 3,
    "start_time": "2022-11-10T11:13:31.182Z"
   },
   {
    "duration": 289,
    "start_time": "2022-11-10T11:13:31.186Z"
   },
   {
    "duration": 5,
    "start_time": "2022-11-10T11:13:31.477Z"
   },
   {
    "duration": 17,
    "start_time": "2022-11-10T11:13:31.484Z"
   },
   {
    "duration": 25,
    "start_time": "2022-11-10T11:13:31.502Z"
   },
   {
    "duration": 13,
    "start_time": "2022-11-10T11:13:31.528Z"
   },
   {
    "duration": 293,
    "start_time": "2022-11-10T11:13:31.542Z"
   },
   {
    "duration": 3,
    "start_time": "2022-11-10T11:13:31.836Z"
   },
   {
    "duration": 15,
    "start_time": "2022-11-10T11:13:31.840Z"
   },
   {
    "duration": 20,
    "start_time": "2022-11-10T11:13:31.856Z"
   },
   {
    "duration": 577,
    "start_time": "2022-11-10T11:13:31.877Z"
   },
   {
    "duration": 504,
    "start_time": "2022-11-10T11:13:32.456Z"
   },
   {
    "duration": 494,
    "start_time": "2022-11-10T11:13:32.961Z"
   },
   {
    "duration": 385,
    "start_time": "2022-11-10T11:13:33.456Z"
   },
   {
    "duration": 167,
    "start_time": "2022-11-10T11:13:33.845Z"
   },
   {
    "duration": 143,
    "start_time": "2022-11-10T11:13:34.013Z"
   },
   {
    "duration": 152,
    "start_time": "2022-11-10T11:13:34.157Z"
   },
   {
    "duration": 112,
    "start_time": "2022-11-10T11:13:34.310Z"
   },
   {
    "duration": 170,
    "start_time": "2022-11-10T11:13:34.423Z"
   },
   {
    "duration": 496,
    "start_time": "2022-11-10T11:13:34.595Z"
   },
   {
    "duration": 584,
    "start_time": "2022-11-10T11:13:35.093Z"
   },
   {
    "duration": 256,
    "start_time": "2022-11-10T11:13:35.679Z"
   },
   {
    "duration": 147,
    "start_time": "2022-11-10T11:13:35.937Z"
   },
   {
    "duration": 161,
    "start_time": "2022-11-10T11:13:36.085Z"
   },
   {
    "duration": 311,
    "start_time": "2022-11-10T11:13:36.248Z"
   },
   {
    "duration": 14,
    "start_time": "2022-11-10T11:13:36.561Z"
   },
   {
    "duration": 8,
    "start_time": "2022-11-10T11:13:36.577Z"
   },
   {
    "duration": 3,
    "start_time": "2022-11-10T11:13:36.586Z"
   },
   {
    "duration": 14,
    "start_time": "2022-11-10T11:13:36.590Z"
   },
   {
    "duration": 209,
    "start_time": "2022-11-10T11:13:36.606Z"
   },
   {
    "duration": 177,
    "start_time": "2022-11-10T11:13:36.816Z"
   },
   {
    "duration": 273,
    "start_time": "2022-11-10T11:13:36.995Z"
   },
   {
    "duration": 155,
    "start_time": "2022-11-10T11:14:59.440Z"
   },
   {
    "duration": 317,
    "start_time": "2022-11-10T11:15:14.781Z"
   },
   {
    "duration": 309,
    "start_time": "2022-11-10T11:15:41.759Z"
   },
   {
    "duration": 160,
    "start_time": "2022-11-10T11:15:50.866Z"
   },
   {
    "duration": 303,
    "start_time": "2022-11-10T11:16:47.953Z"
   },
   {
    "duration": 155,
    "start_time": "2022-11-10T11:17:07.875Z"
   },
   {
    "duration": 998,
    "start_time": "2022-11-10T11:18:39.542Z"
   },
   {
    "duration": 530,
    "start_time": "2022-11-10T11:18:56.196Z"
   },
   {
    "duration": 186,
    "start_time": "2022-11-10T11:19:26.208Z"
   },
   {
    "duration": 170,
    "start_time": "2022-11-10T11:21:39.526Z"
   },
   {
    "duration": 148,
    "start_time": "2022-11-10T11:21:55.419Z"
   },
   {
    "duration": 194,
    "start_time": "2022-11-10T11:22:50.979Z"
   },
   {
    "duration": 164,
    "start_time": "2022-11-10T11:23:23.642Z"
   },
   {
    "duration": 152,
    "start_time": "2022-11-10T11:23:39.071Z"
   },
   {
    "duration": 146,
    "start_time": "2022-11-10T11:24:08.969Z"
   },
   {
    "duration": 264,
    "start_time": "2022-11-10T11:24:18.626Z"
   },
   {
    "duration": 146,
    "start_time": "2022-11-10T11:24:33.376Z"
   },
   {
    "duration": 142,
    "start_time": "2022-11-10T11:26:51.371Z"
   },
   {
    "duration": 44,
    "start_time": "2022-11-10T11:30:09.127Z"
   },
   {
    "duration": 98,
    "start_time": "2022-11-10T11:34:12.501Z"
   },
   {
    "duration": 370,
    "start_time": "2022-11-10T11:46:38.047Z"
   },
   {
    "duration": 376,
    "start_time": "2022-11-10T11:46:45.812Z"
   },
   {
    "duration": 403,
    "start_time": "2022-11-10T11:48:45.529Z"
   },
   {
    "duration": 412,
    "start_time": "2022-11-10T11:49:59.505Z"
   },
   {
    "duration": 498,
    "start_time": "2022-11-10T11:50:46.217Z"
   },
   {
    "duration": 9,
    "start_time": "2022-11-10T11:56:36.594Z"
   },
   {
    "duration": 59,
    "start_time": "2022-11-10T11:57:40.158Z"
   },
   {
    "duration": 194,
    "start_time": "2022-11-10T11:57:44.648Z"
   },
   {
    "duration": 279,
    "start_time": "2022-11-10T11:58:13.016Z"
   },
   {
    "duration": 171,
    "start_time": "2022-11-10T12:02:59.577Z"
   },
   {
    "duration": 185,
    "start_time": "2022-11-10T12:03:06.304Z"
   },
   {
    "duration": 57,
    "start_time": "2022-11-10T12:04:28.660Z"
   },
   {
    "duration": 143,
    "start_time": "2022-11-10T12:04:34.258Z"
   },
   {
    "duration": 47,
    "start_time": "2022-11-10T12:10:16.145Z"
   },
   {
    "duration": 937,
    "start_time": "2022-11-10T14:00:57.490Z"
   },
   {
    "duration": 22,
    "start_time": "2022-11-10T14:00:58.429Z"
   },
   {
    "duration": 2338,
    "start_time": "2022-11-10T14:00:58.452Z"
   },
   {
    "duration": 10,
    "start_time": "2022-11-10T14:01:00.792Z"
   },
   {
    "duration": 83,
    "start_time": "2022-11-10T14:01:00.803Z"
   },
   {
    "duration": 10,
    "start_time": "2022-11-10T14:01:00.888Z"
   },
   {
    "duration": 16,
    "start_time": "2022-11-10T14:01:00.899Z"
   },
   {
    "duration": 14,
    "start_time": "2022-11-10T14:01:00.917Z"
   },
   {
    "duration": 17,
    "start_time": "2022-11-10T14:01:00.933Z"
   },
   {
    "duration": 15,
    "start_time": "2022-11-10T14:01:00.954Z"
   },
   {
    "duration": 36,
    "start_time": "2022-11-10T14:01:00.971Z"
   },
   {
    "duration": 25,
    "start_time": "2022-11-10T14:01:01.009Z"
   },
   {
    "duration": 10,
    "start_time": "2022-11-10T14:01:01.036Z"
   },
   {
    "duration": 97,
    "start_time": "2022-11-10T14:01:01.048Z"
   },
   {
    "duration": 28,
    "start_time": "2022-11-10T14:01:01.147Z"
   },
   {
    "duration": 243,
    "start_time": "2022-11-10T14:01:01.177Z"
   },
   {
    "duration": 6,
    "start_time": "2022-11-10T14:01:01.422Z"
   },
   {
    "duration": 629,
    "start_time": "2022-11-10T14:01:01.430Z"
   },
   {
    "duration": 6,
    "start_time": "2022-11-10T14:01:02.061Z"
   },
   {
    "duration": 58,
    "start_time": "2022-11-10T14:01:02.069Z"
   },
   {
    "duration": 20,
    "start_time": "2022-11-10T14:01:02.129Z"
   },
   {
    "duration": 58,
    "start_time": "2022-11-10T14:01:02.151Z"
   },
   {
    "duration": 29,
    "start_time": "2022-11-10T14:01:02.211Z"
   },
   {
    "duration": 77,
    "start_time": "2022-11-10T14:01:02.242Z"
   },
   {
    "duration": 40,
    "start_time": "2022-11-10T14:01:02.321Z"
   },
   {
    "duration": 21,
    "start_time": "2022-11-10T14:01:02.363Z"
   },
   {
    "duration": 49,
    "start_time": "2022-11-10T14:01:02.386Z"
   },
   {
    "duration": 91,
    "start_time": "2022-11-10T14:01:02.440Z"
   },
   {
    "duration": 159,
    "start_time": "2022-11-10T14:01:02.534Z"
   },
   {
    "duration": 14,
    "start_time": "2022-11-10T14:01:02.695Z"
   },
   {
    "duration": 167,
    "start_time": "2022-11-10T14:01:02.712Z"
   },
   {
    "duration": 9,
    "start_time": "2022-11-10T14:01:02.881Z"
   },
   {
    "duration": 106,
    "start_time": "2022-11-10T14:01:02.892Z"
   },
   {
    "duration": 6,
    "start_time": "2022-11-10T14:01:03.000Z"
   },
   {
    "duration": 14,
    "start_time": "2022-11-10T14:01:03.008Z"
   },
   {
    "duration": 140,
    "start_time": "2022-11-10T14:01:03.024Z"
   },
   {
    "duration": 10,
    "start_time": "2022-11-10T14:01:03.166Z"
   },
   {
    "duration": 32,
    "start_time": "2022-11-10T14:01:03.178Z"
   },
   {
    "duration": 4,
    "start_time": "2022-11-10T14:01:03.212Z"
   },
   {
    "duration": 433,
    "start_time": "2022-11-10T14:01:03.218Z"
   },
   {
    "duration": 7,
    "start_time": "2022-11-10T14:01:03.654Z"
   },
   {
    "duration": 30,
    "start_time": "2022-11-10T14:01:03.663Z"
   },
   {
    "duration": 8,
    "start_time": "2022-11-10T14:01:03.695Z"
   },
   {
    "duration": 4,
    "start_time": "2022-11-10T14:01:03.705Z"
   },
   {
    "duration": 300,
    "start_time": "2022-11-10T14:01:03.711Z"
   },
   {
    "duration": 3,
    "start_time": "2022-11-10T14:01:04.013Z"
   },
   {
    "duration": 47,
    "start_time": "2022-11-10T14:01:04.018Z"
   },
   {
    "duration": 29,
    "start_time": "2022-11-10T14:01:04.066Z"
   },
   {
    "duration": 596,
    "start_time": "2022-11-10T14:01:04.097Z"
   },
   {
    "duration": 653,
    "start_time": "2022-11-10T14:01:04.695Z"
   },
   {
    "duration": 531,
    "start_time": "2022-11-10T14:01:05.351Z"
   },
   {
    "duration": 324,
    "start_time": "2022-11-10T14:01:05.884Z"
   },
   {
    "duration": 188,
    "start_time": "2022-11-10T14:01:06.210Z"
   },
   {
    "duration": 161,
    "start_time": "2022-11-10T14:01:06.399Z"
   },
   {
    "duration": 189,
    "start_time": "2022-11-10T14:01:06.562Z"
   },
   {
    "duration": 227,
    "start_time": "2022-11-10T14:01:06.753Z"
   },
   {
    "duration": 222,
    "start_time": "2022-11-10T14:01:06.982Z"
   },
   {
    "duration": 750,
    "start_time": "2022-11-10T14:01:07.206Z"
   },
   {
    "duration": 619,
    "start_time": "2022-11-10T14:01:07.958Z"
   },
   {
    "duration": 429,
    "start_time": "2022-11-10T14:01:08.579Z"
   },
   {
    "duration": 201,
    "start_time": "2022-11-10T14:01:09.010Z"
   },
   {
    "duration": 152,
    "start_time": "2022-11-10T14:01:09.213Z"
   },
   {
    "duration": 279,
    "start_time": "2022-11-10T14:01:09.368Z"
   },
   {
    "duration": 57,
    "start_time": "2022-11-10T14:01:09.649Z"
   },
   {
    "duration": 14,
    "start_time": "2022-11-10T14:01:09.708Z"
   },
   {
    "duration": 6,
    "start_time": "2022-11-10T14:01:09.723Z"
   },
   {
    "duration": 24,
    "start_time": "2022-11-10T14:01:09.731Z"
   },
   {
    "duration": 200,
    "start_time": "2022-11-10T14:01:09.757Z"
   },
   {
    "duration": 254,
    "start_time": "2022-11-10T14:01:09.959Z"
   },
   {
    "duration": 244,
    "start_time": "2022-11-10T14:01:10.216Z"
   },
   {
    "duration": 204,
    "start_time": "2022-11-10T14:01:10.462Z"
   },
   {
    "duration": 182,
    "start_time": "2022-11-10T14:01:10.668Z"
   },
   {
    "duration": 186,
    "start_time": "2022-11-10T14:01:10.851Z"
   },
   {
    "duration": 273,
    "start_time": "2022-11-10T14:01:11.040Z"
   },
   {
    "duration": 291,
    "start_time": "2022-11-10T14:01:11.316Z"
   },
   {
    "duration": 168,
    "start_time": "2022-11-10T14:01:11.610Z"
   },
   {
    "duration": 38,
    "start_time": "2022-11-10T14:01:11.779Z"
   },
   {
    "duration": 218,
    "start_time": "2022-11-10T14:01:11.818Z"
   },
   {
    "duration": 534,
    "start_time": "2022-11-10T14:01:12.039Z"
   },
   {
    "duration": 204,
    "start_time": "2022-11-10T14:01:12.575Z"
   },
   {
    "duration": 178,
    "start_time": "2022-11-10T14:01:12.781Z"
   }
  ],
  "celltoolbar": "Необработанный формат ячейки",
  "kernelspec": {
   "display_name": "Python 3 (ipykernel)",
   "language": "python",
   "name": "python3"
  },
  "language_info": {
   "codemirror_mode": {
    "name": "ipython",
    "version": 3
   },
   "file_extension": ".py",
   "mimetype": "text/x-python",
   "name": "python",
   "nbconvert_exporter": "python",
   "pygments_lexer": "ipython3",
   "version": "3.9.12"
  },
  "toc": {
   "base_numbering": 1,
   "nav_menu": {},
   "number_sections": true,
   "sideBar": true,
   "skip_h1_title": true,
   "title_cell": "Table of Contents",
   "title_sidebar": "Contents",
   "toc_cell": false,
   "toc_position": {},
   "toc_section_display": true,
   "toc_window_display": true
  }
 },
 "nbformat": 4,
 "nbformat_minor": 2
}
